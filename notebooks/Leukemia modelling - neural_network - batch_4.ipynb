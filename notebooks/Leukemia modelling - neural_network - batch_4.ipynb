{
 "cells": [
  {
   "cell_type": "markdown",
   "id": "2e2642c6-61c7-4c7d-88e6-feb33625bdb4",
   "metadata": {
    "id": "a6996cf1-5b97-45b2-920a-112afc130631"
   },
   "source": [
    "# Classifying ALL with Neural Network using Optuna"
   ]
  },
  {
   "cell_type": "markdown",
   "id": "dbe7790e-549a-4e73-bca1-9a8d7140c8c1",
   "metadata": {},
   "source": [
    "In this notebook we were using [SciKeras](https://pypi.org/project/scikeras/#description), a Scikit-Learn API wrapper for Keras.\n",
    "\n",
    "First we atarted with base models:\n",
    "- KerasClassifier only\n",
    "- pipeline with MinMaxScaler, PCA and KerasClassifier  \n",
    "\n",
    "In the rest of the notebook we used Optuna to tune hyperparameters in the pipeline. We also tried feature selection with ANOVA, but with no success.\n",
    "\n",
    "We used PCA with a fixed number of components (N_components=1000) and with `n_components` as a parameter in Optuna optimization process.\n",
    "\n",
    "Macro averaged f1_score was used as the metrics to find the best Optuna's trial.\n",
    "\n",
    "At the very end of the notebook, four best models are displayed.\n",
    "\n",
    "The best model is nn_pca_3 with confusion matrix:\n",
    "\n",
    "[[ 263    76]  \n",
    " [ 159 1296]]\n",
    " \n",
    " **NOTE:**\n",
    " \n",
    " - SciKeras 10.0.0 requires Python <3.11\n",
    " - Due to some problems with GPU, I had to downgrade TensorFlow to 2.10\n",
    " - This version of SciKeras requires slightly different procedure to save/load pipelined models. Check this in the chapter *The Best Models*.\n",
    " "
   ]
  },
  {
   "cell_type": "markdown",
   "id": "ac80d75a-98a4-4fff-a52b-6293bd9f43e7",
   "metadata": {
    "id": "efde2851-d71b-42bd-b4a6-b2afe8543bc3"
   },
   "source": [
    "## Dependencies"
   ]
  },
  {
   "cell_type": "code",
   "execution_count": 262,
   "id": "b846b2d8-51ae-4e9a-bc92-99cededc112b",
   "metadata": {
    "execution": {
     "iopub.execute_input": "2023-05-08T00:15:51.554427Z",
     "iopub.status.busy": "2023-05-08T00:15:51.552885Z",
     "iopub.status.idle": "2023-05-08T00:15:51.921883Z",
     "shell.execute_reply": "2023-05-08T00:15:51.919353Z",
     "shell.execute_reply.started": "2023-05-08T00:15:51.554142Z"
    },
    "tags": []
   },
   "outputs": [],
   "source": [
    "import os\n",
    "import pandas as pd\n",
    "import numpy as np\n",
    "# To remove these warnings : \"Your kernel may have been built without NUMA support.\"\n",
    "#   run these 2 lines before importing tensorflow\n",
    "os.environ['TF_CPP_MIN_LOG_LEVEL'] = '1'        # or any {'0', '1', '2', '3'}\n",
    "\n",
    "import tensorflow as tf \n",
    "random_state = 10\n",
    "np.random.seed(random_state)\n",
    "tf.random.set_seed(random_state)\n",
    "\n",
    "import joblib\n",
    "\n",
    "# Matplotlib for visualization\n",
    "from matplotlib import pyplot as plt\n",
    "# display plots in the notebook\n",
    "%matplotlib inline\n",
    "\n",
    "# Seaborn for easier visualization\n",
    "import seaborn as sns\n",
    "### sns.set_style('darkgrid')\n",
    "\n",
    "# store elements as dictionary keys and their counts as dictionary values\n",
    "from collections import Counter\n",
    "\n",
    "# scikit-learn\n",
    "from sklearn.model_selection import train_test_split, StratifiedKFold\n",
    "from sklearn.decomposition import PCA\n",
    "from sklearn.model_selection import GridSearchCV\n",
    "from sklearn.feature_selection import SelectKBest, f_classif\n",
    "\n",
    "from sklearn.preprocessing import MinMaxScaler, LabelEncoder, LabelBinarizer\n",
    "from sklearn.pipeline import make_pipeline, Pipeline\n",
    "\n",
    "# Classification metrics\n",
    "from sklearn.metrics import confusion_matrix, classification_report, accuracy_score, f1_score\n",
    "\n",
    "# Keras\n",
    "# from tensorflow.keras.wrappers.scikit_learn import KerasClassifier\n",
    "\n",
    "from tensorflow.keras.layers import Dense, Input, Dropout\n",
    "from tensorflow.keras.models import Sequential\n",
    "from tensorflow.keras.utils import to_categorical \n",
    "from tensorflow.keras.callbacks import EarlyStopping\n",
    "\n",
    "from scikeras.wrappers import KerasClassifier\n",
    "\n",
    "# Import Optuna\n",
    "import optuna\n",
    "\n",
    "import warnings\n",
    "warnings.filterwarnings('ignore')"
   ]
  },
  {
   "cell_type": "code",
   "execution_count": 2,
   "id": "f149ee94-8f14-4edc-817a-b7e15624acce",
   "metadata": {
    "execution": {
     "iopub.execute_input": "2023-05-05T18:00:06.350580Z",
     "iopub.status.busy": "2023-05-05T18:00:06.350187Z",
     "iopub.status.idle": "2023-05-05T18:00:06.387078Z",
     "shell.execute_reply": "2023-05-05T18:00:06.386333Z",
     "shell.execute_reply.started": "2023-05-05T18:00:06.350562Z"
    },
    "tags": []
   },
   "outputs": [],
   "source": [
    "# Import the script from different folder\n",
    "import sys  \n",
    "#  sys.path.append('/content/drive/MyDrive/Omdena/Team1/scripts')\n",
    "sys.path.append('../scripts')\n",
    "\n",
    "import metrics_utilities as mu"
   ]
  },
  {
   "cell_type": "markdown",
   "id": "d0f21de0-6a34-451c-8dbd-7bec81d81754",
   "metadata": {
    "id": "f6972b56-7460-4ebf-a232-6ec4e31cfd52"
   },
   "source": [
    "## Batch_4 Train Dataset"
   ]
  },
  {
   "cell_type": "code",
   "execution_count": 3,
   "id": "50680de8-19f1-4259-abfe-02e956eeafae",
   "metadata": {
    "colab": {
     "base_uri": "https://localhost:8080/",
     "height": 236
    },
    "execution": {
     "iopub.execute_input": "2023-05-05T18:00:06.387975Z",
     "iopub.status.busy": "2023-05-05T18:00:06.387799Z",
     "iopub.status.idle": "2023-05-05T18:00:07.145590Z",
     "shell.execute_reply": "2023-05-05T18:00:07.144311Z",
     "shell.execute_reply.started": "2023-05-05T18:00:06.387960Z"
    },
    "executionInfo": {
     "elapsed": 3868,
     "status": "ok",
     "timestamp": 1682697490408,
     "user": {
      "displayName": "Damir Zunic",
      "userId": "07104666280721646256"
     },
     "user_tz": 240
    },
    "id": "50680de8-19f1-4259-abfe-02e956eeafae",
    "outputId": "f8a74a3c-69aa-4e31-9460-dde0b0a8fecc",
    "tags": []
   },
   "outputs": [
    {
     "data": {
      "text/html": [
       "<div>\n",
       "<style scoped>\n",
       "    .dataframe tbody tr th:only-of-type {\n",
       "        vertical-align: middle;\n",
       "    }\n",
       "\n",
       "    .dataframe tbody tr th {\n",
       "        vertical-align: top;\n",
       "    }\n",
       "\n",
       "    .dataframe thead th {\n",
       "        text-align: right;\n",
       "    }\n",
       "</style>\n",
       "<table border=\"1\" class=\"dataframe\">\n",
       "  <thead>\n",
       "    <tr style=\"text-align: right;\">\n",
       "      <th></th>\n",
       "      <th>0</th>\n",
       "      <th>1</th>\n",
       "      <th>2</th>\n",
       "      <th>3</th>\n",
       "      <th>4</th>\n",
       "      <th>5</th>\n",
       "      <th>6</th>\n",
       "      <th>7</th>\n",
       "      <th>8</th>\n",
       "      <th>9</th>\n",
       "      <th>...</th>\n",
       "      <th>4599</th>\n",
       "      <th>4600</th>\n",
       "      <th>4601</th>\n",
       "      <th>4602</th>\n",
       "      <th>4603</th>\n",
       "      <th>4604</th>\n",
       "      <th>4605</th>\n",
       "      <th>4606</th>\n",
       "      <th>4607</th>\n",
       "      <th>label</th>\n",
       "    </tr>\n",
       "  </thead>\n",
       "  <tbody>\n",
       "    <tr>\n",
       "      <th>0</th>\n",
       "      <td>0.185833</td>\n",
       "      <td>0.0</td>\n",
       "      <td>0.00000</td>\n",
       "      <td>0.000000</td>\n",
       "      <td>0.0</td>\n",
       "      <td>0.0</td>\n",
       "      <td>0.0</td>\n",
       "      <td>0.231458</td>\n",
       "      <td>0.0</td>\n",
       "      <td>0.0</td>\n",
       "      <td>...</td>\n",
       "      <td>0.545079</td>\n",
       "      <td>0.170755</td>\n",
       "      <td>0.0</td>\n",
       "      <td>0.096298</td>\n",
       "      <td>0.174819</td>\n",
       "      <td>0.0</td>\n",
       "      <td>0.0</td>\n",
       "      <td>0.361853</td>\n",
       "      <td>0.0</td>\n",
       "      <td>0</td>\n",
       "    </tr>\n",
       "    <tr>\n",
       "      <th>1</th>\n",
       "      <td>0.123157</td>\n",
       "      <td>0.0</td>\n",
       "      <td>0.56544</td>\n",
       "      <td>0.350086</td>\n",
       "      <td>0.0</td>\n",
       "      <td>0.0</td>\n",
       "      <td>0.0</td>\n",
       "      <td>0.228849</td>\n",
       "      <td>0.0</td>\n",
       "      <td>0.0</td>\n",
       "      <td>...</td>\n",
       "      <td>0.663390</td>\n",
       "      <td>0.115025</td>\n",
       "      <td>0.0</td>\n",
       "      <td>0.099379</td>\n",
       "      <td>0.516193</td>\n",
       "      <td>0.0</td>\n",
       "      <td>0.0</td>\n",
       "      <td>0.239392</td>\n",
       "      <td>0.0</td>\n",
       "      <td>1</td>\n",
       "    </tr>\n",
       "    <tr>\n",
       "      <th>2</th>\n",
       "      <td>0.197977</td>\n",
       "      <td>0.0</td>\n",
       "      <td>0.00000</td>\n",
       "      <td>0.000000</td>\n",
       "      <td>0.0</td>\n",
       "      <td>0.0</td>\n",
       "      <td>0.0</td>\n",
       "      <td>0.155163</td>\n",
       "      <td>0.0</td>\n",
       "      <td>0.0</td>\n",
       "      <td>...</td>\n",
       "      <td>0.663023</td>\n",
       "      <td>0.021846</td>\n",
       "      <td>0.0</td>\n",
       "      <td>0.000000</td>\n",
       "      <td>0.173690</td>\n",
       "      <td>0.0</td>\n",
       "      <td>0.0</td>\n",
       "      <td>0.270634</td>\n",
       "      <td>0.0</td>\n",
       "      <td>1</td>\n",
       "    </tr>\n",
       "    <tr>\n",
       "      <th>3</th>\n",
       "      <td>0.580151</td>\n",
       "      <td>0.0</td>\n",
       "      <td>0.00000</td>\n",
       "      <td>0.000000</td>\n",
       "      <td>0.0</td>\n",
       "      <td>0.0</td>\n",
       "      <td>0.0</td>\n",
       "      <td>0.298566</td>\n",
       "      <td>0.0</td>\n",
       "      <td>0.0</td>\n",
       "      <td>...</td>\n",
       "      <td>0.470815</td>\n",
       "      <td>0.000000</td>\n",
       "      <td>0.0</td>\n",
       "      <td>0.000000</td>\n",
       "      <td>0.118325</td>\n",
       "      <td>0.0</td>\n",
       "      <td>0.0</td>\n",
       "      <td>0.000000</td>\n",
       "      <td>0.0</td>\n",
       "      <td>0</td>\n",
       "    </tr>\n",
       "    <tr>\n",
       "      <th>4</th>\n",
       "      <td>0.066450</td>\n",
       "      <td>0.0</td>\n",
       "      <td>0.00000</td>\n",
       "      <td>0.000000</td>\n",
       "      <td>0.0</td>\n",
       "      <td>0.0</td>\n",
       "      <td>0.0</td>\n",
       "      <td>0.145156</td>\n",
       "      <td>0.0</td>\n",
       "      <td>0.0</td>\n",
       "      <td>...</td>\n",
       "      <td>0.645798</td>\n",
       "      <td>0.015262</td>\n",
       "      <td>0.0</td>\n",
       "      <td>0.027536</td>\n",
       "      <td>0.275665</td>\n",
       "      <td>0.0</td>\n",
       "      <td>0.0</td>\n",
       "      <td>0.000000</td>\n",
       "      <td>0.0</td>\n",
       "      <td>0</td>\n",
       "    </tr>\n",
       "  </tbody>\n",
       "</table>\n",
       "<p>5 rows × 4609 columns</p>\n",
       "</div>"
      ],
      "text/plain": [
       "          0    1        2         3    4    5    6         7    8    9  ...   \n",
       "0  0.185833  0.0  0.00000  0.000000  0.0  0.0  0.0  0.231458  0.0  0.0  ...  \\\n",
       "1  0.123157  0.0  0.56544  0.350086  0.0  0.0  0.0  0.228849  0.0  0.0  ...   \n",
       "2  0.197977  0.0  0.00000  0.000000  0.0  0.0  0.0  0.155163  0.0  0.0  ...   \n",
       "3  0.580151  0.0  0.00000  0.000000  0.0  0.0  0.0  0.298566  0.0  0.0  ...   \n",
       "4  0.066450  0.0  0.00000  0.000000  0.0  0.0  0.0  0.145156  0.0  0.0  ...   \n",
       "\n",
       "       4599      4600  4601      4602      4603  4604  4605      4606  4607   \n",
       "0  0.545079  0.170755   0.0  0.096298  0.174819   0.0   0.0  0.361853   0.0  \\\n",
       "1  0.663390  0.115025   0.0  0.099379  0.516193   0.0   0.0  0.239392   0.0   \n",
       "2  0.663023  0.021846   0.0  0.000000  0.173690   0.0   0.0  0.270634   0.0   \n",
       "3  0.470815  0.000000   0.0  0.000000  0.118325   0.0   0.0  0.000000   0.0   \n",
       "4  0.645798  0.015262   0.0  0.027536  0.275665   0.0   0.0  0.000000   0.0   \n",
       "\n",
       "   label  \n",
       "0      0  \n",
       "1      1  \n",
       "2      1  \n",
       "3      0  \n",
       "4      0  \n",
       "\n",
       "[5 rows x 4609 columns]"
      ]
     },
     "execution_count": 3,
     "metadata": {},
     "output_type": "execute_result"
    }
   ],
   "source": [
    "# df_train = pd.read_pickle('/content/drive/MyDrive/Omdena/Team1/batch_4/train_data.pickle')\n",
    "df_train = pd.read_pickle('../data/batch_4/train_data.pickle')\n",
    "df_train.head()"
   ]
  },
  {
   "cell_type": "markdown",
   "id": "cc86569e-b8d7-46f2-ad8f-4702725ed478",
   "metadata": {
    "id": "bc265c31-9615-4d03-84ea-f6e9b6d859a0"
   },
   "source": [
    "#### Separate features and labels"
   ]
  },
  {
   "cell_type": "code",
   "execution_count": 4,
   "id": "53917c6d-17a1-408a-abff-ba0b00fbad17",
   "metadata": {
    "colab": {
     "base_uri": "https://localhost:8080/"
    },
    "execution": {
     "iopub.execute_input": "2023-05-05T18:00:07.147572Z",
     "iopub.status.busy": "2023-05-05T18:00:07.147316Z",
     "iopub.status.idle": "2023-05-05T18:00:07.252148Z",
     "shell.execute_reply": "2023-05-05T18:00:07.251055Z",
     "shell.execute_reply.started": "2023-05-05T18:00:07.147555Z"
    },
    "executionInfo": {
     "elapsed": 21,
     "status": "ok",
     "timestamp": 1682697490649,
     "user": {
      "displayName": "Damir Zunic",
      "userId": "07104666280721646256"
     },
     "user_tz": 240
    },
    "id": "53917c6d-17a1-408a-abff-ba0b00fbad17",
    "outputId": "02500c1d-7cff-405e-b88a-61a97267da94",
    "tags": []
   },
   "outputs": [
    {
     "name": "stdout",
     "output_type": "stream",
     "text": [
      "(11917, 4608) (11917,)\n"
     ]
    }
   ],
   "source": [
    "X_train = df_train.iloc[:, : -1]\n",
    "y_train = df_train['label']\n",
    "print(X_train.shape, y_train.shape)"
   ]
  },
  {
   "cell_type": "markdown",
   "id": "16072852-6f50-4d2a-8afb-1a60d42bf201",
   "metadata": {
    "id": "7f337a50-6390-4684-8d06-8f090e7f81db"
   },
   "source": [
    "## Batch_4 Test Dataset"
   ]
  },
  {
   "cell_type": "code",
   "execution_count": 5,
   "id": "8b23c3a0-0681-45ad-9b33-6a3bd69473bb",
   "metadata": {
    "colab": {
     "base_uri": "https://localhost:8080/",
     "height": 236
    },
    "execution": {
     "iopub.execute_input": "2023-05-05T18:00:07.253646Z",
     "iopub.status.busy": "2023-05-05T18:00:07.253320Z",
     "iopub.status.idle": "2023-05-05T18:00:07.410131Z",
     "shell.execute_reply": "2023-05-05T18:00:07.409047Z",
     "shell.execute_reply.started": "2023-05-05T18:00:07.253621Z"
    },
    "executionInfo": {
     "elapsed": 1269,
     "status": "ok",
     "timestamp": 1682697491904,
     "user": {
      "displayName": "Damir Zunic",
      "userId": "07104666280721646256"
     },
     "user_tz": 240
    },
    "id": "8b23c3a0-0681-45ad-9b33-6a3bd69473bb",
    "outputId": "e24e0231-be1c-4243-f3f6-47f5565acafb",
    "tags": []
   },
   "outputs": [
    {
     "data": {
      "text/html": [
       "<div>\n",
       "<style scoped>\n",
       "    .dataframe tbody tr th:only-of-type {\n",
       "        vertical-align: middle;\n",
       "    }\n",
       "\n",
       "    .dataframe tbody tr th {\n",
       "        vertical-align: top;\n",
       "    }\n",
       "\n",
       "    .dataframe thead th {\n",
       "        text-align: right;\n",
       "    }\n",
       "</style>\n",
       "<table border=\"1\" class=\"dataframe\">\n",
       "  <thead>\n",
       "    <tr style=\"text-align: right;\">\n",
       "      <th></th>\n",
       "      <th>0</th>\n",
       "      <th>1</th>\n",
       "      <th>2</th>\n",
       "      <th>3</th>\n",
       "      <th>4</th>\n",
       "      <th>5</th>\n",
       "      <th>6</th>\n",
       "      <th>7</th>\n",
       "      <th>8</th>\n",
       "      <th>9</th>\n",
       "      <th>...</th>\n",
       "      <th>4599</th>\n",
       "      <th>4600</th>\n",
       "      <th>4601</th>\n",
       "      <th>4602</th>\n",
       "      <th>4603</th>\n",
       "      <th>4604</th>\n",
       "      <th>4605</th>\n",
       "      <th>4606</th>\n",
       "      <th>4607</th>\n",
       "      <th>label</th>\n",
       "    </tr>\n",
       "  </thead>\n",
       "  <tbody>\n",
       "    <tr>\n",
       "      <th>0</th>\n",
       "      <td>0.141500</td>\n",
       "      <td>0.0</td>\n",
       "      <td>0.000000</td>\n",
       "      <td>0.000000</td>\n",
       "      <td>0.0</td>\n",
       "      <td>0.0</td>\n",
       "      <td>0.0</td>\n",
       "      <td>0.151137</td>\n",
       "      <td>0.0</td>\n",
       "      <td>0.0</td>\n",
       "      <td>...</td>\n",
       "      <td>0.885778</td>\n",
       "      <td>0.066009</td>\n",
       "      <td>0.0</td>\n",
       "      <td>0.169458</td>\n",
       "      <td>0.570154</td>\n",
       "      <td>0.0</td>\n",
       "      <td>0.0</td>\n",
       "      <td>0.090579</td>\n",
       "      <td>0.0</td>\n",
       "      <td>0</td>\n",
       "    </tr>\n",
       "    <tr>\n",
       "      <th>1</th>\n",
       "      <td>0.047403</td>\n",
       "      <td>0.0</td>\n",
       "      <td>0.000000</td>\n",
       "      <td>0.000000</td>\n",
       "      <td>0.0</td>\n",
       "      <td>0.0</td>\n",
       "      <td>0.0</td>\n",
       "      <td>0.000000</td>\n",
       "      <td>0.0</td>\n",
       "      <td>0.0</td>\n",
       "      <td>...</td>\n",
       "      <td>0.649062</td>\n",
       "      <td>0.260996</td>\n",
       "      <td>0.0</td>\n",
       "      <td>0.049776</td>\n",
       "      <td>0.494771</td>\n",
       "      <td>0.0</td>\n",
       "      <td>0.0</td>\n",
       "      <td>0.480568</td>\n",
       "      <td>0.0</td>\n",
       "      <td>0</td>\n",
       "    </tr>\n",
       "    <tr>\n",
       "      <th>2</th>\n",
       "      <td>0.000000</td>\n",
       "      <td>0.0</td>\n",
       "      <td>0.000000</td>\n",
       "      <td>0.023559</td>\n",
       "      <td>0.0</td>\n",
       "      <td>0.0</td>\n",
       "      <td>0.0</td>\n",
       "      <td>0.060329</td>\n",
       "      <td>0.0</td>\n",
       "      <td>0.0</td>\n",
       "      <td>...</td>\n",
       "      <td>0.725523</td>\n",
       "      <td>0.166289</td>\n",
       "      <td>0.0</td>\n",
       "      <td>0.131945</td>\n",
       "      <td>0.299330</td>\n",
       "      <td>0.0</td>\n",
       "      <td>0.0</td>\n",
       "      <td>0.000000</td>\n",
       "      <td>0.0</td>\n",
       "      <td>0</td>\n",
       "    </tr>\n",
       "    <tr>\n",
       "      <th>3</th>\n",
       "      <td>0.002286</td>\n",
       "      <td>0.0</td>\n",
       "      <td>0.655825</td>\n",
       "      <td>0.259398</td>\n",
       "      <td>0.0</td>\n",
       "      <td>0.0</td>\n",
       "      <td>0.0</td>\n",
       "      <td>0.000000</td>\n",
       "      <td>0.0</td>\n",
       "      <td>0.0</td>\n",
       "      <td>...</td>\n",
       "      <td>0.626934</td>\n",
       "      <td>0.244303</td>\n",
       "      <td>0.0</td>\n",
       "      <td>0.100791</td>\n",
       "      <td>0.448022</td>\n",
       "      <td>0.0</td>\n",
       "      <td>0.0</td>\n",
       "      <td>0.295682</td>\n",
       "      <td>0.0</td>\n",
       "      <td>0</td>\n",
       "    </tr>\n",
       "    <tr>\n",
       "      <th>4</th>\n",
       "      <td>0.279953</td>\n",
       "      <td>0.0</td>\n",
       "      <td>0.000000</td>\n",
       "      <td>0.000000</td>\n",
       "      <td>0.0</td>\n",
       "      <td>0.0</td>\n",
       "      <td>0.0</td>\n",
       "      <td>0.168589</td>\n",
       "      <td>0.0</td>\n",
       "      <td>0.0</td>\n",
       "      <td>...</td>\n",
       "      <td>0.489483</td>\n",
       "      <td>0.166786</td>\n",
       "      <td>0.0</td>\n",
       "      <td>0.000000</td>\n",
       "      <td>0.212874</td>\n",
       "      <td>0.0</td>\n",
       "      <td>0.0</td>\n",
       "      <td>0.000000</td>\n",
       "      <td>0.0</td>\n",
       "      <td>0</td>\n",
       "    </tr>\n",
       "  </tbody>\n",
       "</table>\n",
       "<p>5 rows × 4609 columns</p>\n",
       "</div>"
      ],
      "text/plain": [
       "          0    1         2         3    4    5    6         7    8    9  ...   \n",
       "0  0.141500  0.0  0.000000  0.000000  0.0  0.0  0.0  0.151137  0.0  0.0  ...  \\\n",
       "1  0.047403  0.0  0.000000  0.000000  0.0  0.0  0.0  0.000000  0.0  0.0  ...   \n",
       "2  0.000000  0.0  0.000000  0.023559  0.0  0.0  0.0  0.060329  0.0  0.0  ...   \n",
       "3  0.002286  0.0  0.655825  0.259398  0.0  0.0  0.0  0.000000  0.0  0.0  ...   \n",
       "4  0.279953  0.0  0.000000  0.000000  0.0  0.0  0.0  0.168589  0.0  0.0  ...   \n",
       "\n",
       "       4599      4600  4601      4602      4603  4604  4605      4606  4607   \n",
       "0  0.885778  0.066009   0.0  0.169458  0.570154   0.0   0.0  0.090579   0.0  \\\n",
       "1  0.649062  0.260996   0.0  0.049776  0.494771   0.0   0.0  0.480568   0.0   \n",
       "2  0.725523  0.166289   0.0  0.131945  0.299330   0.0   0.0  0.000000   0.0   \n",
       "3  0.626934  0.244303   0.0  0.100791  0.448022   0.0   0.0  0.295682   0.0   \n",
       "4  0.489483  0.166786   0.0  0.000000  0.212874   0.0   0.0  0.000000   0.0   \n",
       "\n",
       "   label  \n",
       "0      0  \n",
       "1      0  \n",
       "2      0  \n",
       "3      0  \n",
       "4      0  \n",
       "\n",
       "[5 rows x 4609 columns]"
      ]
     },
     "execution_count": 5,
     "metadata": {},
     "output_type": "execute_result"
    }
   ],
   "source": [
    "# df_test = pd.read_pickle('/content/drive/MyDrive/Omdena/Team1/batch_4/test_data.pickle')\n",
    "df_test = pd.read_pickle('../data/batch_4/test_data.pickle')\n",
    "df_test.head()"
   ]
  },
  {
   "cell_type": "markdown",
   "id": "0ad7f78f-36f6-46b9-bf5e-791636e298e6",
   "metadata": {
    "id": "39703559-09fd-4ca8-8501-9970aff7131b"
   },
   "source": [
    "#### Separate features and labels"
   ]
  },
  {
   "cell_type": "code",
   "execution_count": 6,
   "id": "0745e5f6-83ce-49d1-af0d-d3210357fc73",
   "metadata": {
    "colab": {
     "base_uri": "https://localhost:8080/"
    },
    "execution": {
     "iopub.execute_input": "2023-05-05T18:00:07.411216Z",
     "iopub.status.busy": "2023-05-05T18:00:07.411010Z",
     "iopub.status.idle": "2023-05-05T18:00:07.428730Z",
     "shell.execute_reply": "2023-05-05T18:00:07.427861Z",
     "shell.execute_reply.started": "2023-05-05T18:00:07.411199Z"
    },
    "executionInfo": {
     "elapsed": 12,
     "status": "ok",
     "timestamp": 1682697491904,
     "user": {
      "displayName": "Damir Zunic",
      "userId": "07104666280721646256"
     },
     "user_tz": 240
    },
    "id": "0745e5f6-83ce-49d1-af0d-d3210357fc73",
    "outputId": "4526085c-13c1-4532-bbb1-18e947a1a9bb"
   },
   "outputs": [
    {
     "name": "stdout",
     "output_type": "stream",
     "text": [
      "(1794, 4608) (1794,)\n"
     ]
    }
   ],
   "source": [
    "X_test = df_test.iloc[:, :-1]\n",
    "y_test = df_test['label']\n",
    "print(X_test.shape, y_test.shape)"
   ]
  },
  {
   "cell_type": "markdown",
   "id": "0d8dcfbe-7001-4b00-b293-01e3703d17b0",
   "metadata": {
    "id": "e3044c63-cce9-40da-abf8-b113175a2c37"
   },
   "source": [
    "#### Names of Classes"
   ]
  },
  {
   "cell_type": "code",
   "execution_count": 7,
   "id": "e5051631-1b16-4b72-aab9-2a5d5abfedc9",
   "metadata": {
    "execution": {
     "iopub.execute_input": "2023-05-05T18:00:07.429661Z",
     "iopub.status.busy": "2023-05-05T18:00:07.429467Z",
     "iopub.status.idle": "2023-05-05T18:00:07.435229Z",
     "shell.execute_reply": "2023-05-05T18:00:07.434507Z",
     "shell.execute_reply.started": "2023-05-05T18:00:07.429645Z"
    },
    "tags": []
   },
   "outputs": [],
   "source": [
    "target_names = ['hem', 'all']"
   ]
  },
  {
   "cell_type": "markdown",
   "id": "5d41c5cd-756e-4d99-b1dc-5c281b05bafa",
   "metadata": {},
   "source": [
    "## Implement the Scikit-Learn classifier interface."
   ]
  },
  {
   "cell_type": "code",
   "execution_count": 8,
   "id": "023a9ef8-1f04-4d25-bf1a-8d04d9ab9941",
   "metadata": {
    "execution": {
     "iopub.execute_input": "2023-05-05T18:00:22.315801Z",
     "iopub.status.busy": "2023-05-05T18:00:22.315545Z",
     "iopub.status.idle": "2023-05-05T18:00:22.340673Z",
     "shell.execute_reply": "2023-05-05T18:00:22.340037Z",
     "shell.execute_reply.started": "2023-05-05T18:00:22.315783Z"
    },
    "tags": []
   },
   "outputs": [],
   "source": [
    "# Import model build function \"get_clf\"from the script \"keras_model.py\"\n",
    "import keras_model as km"
   ]
  },
  {
   "cell_type": "code",
   "execution_count": 17,
   "id": "5fa045a0-b6ff-4944-9cf3-20faa3f82913",
   "metadata": {
    "execution": {
     "iopub.execute_input": "2023-05-02T03:30:55.063441Z",
     "iopub.status.busy": "2023-05-02T03:30:55.063156Z",
     "iopub.status.idle": "2023-05-02T03:30:55.068547Z",
     "shell.execute_reply": "2023-05-02T03:30:55.067268Z",
     "shell.execute_reply.started": "2023-05-02T03:30:55.063422Z"
    },
    "tags": []
   },
   "outputs": [],
   "source": [
    "clf = KerasClassifier(\n",
    "    model=km.get_clf,\n",
    "    loss=\"binary_crossentropy\",\n",
    "    hidden_layer_sizes=(10, 10,10),\n",
    "    dropout=0.5,\n",
    "    batch_size=64,\n",
    "    optimizer='adam',\n",
    "    optimizer__learning_rate=0.00001,\n",
    "    epochs=50,\n",
    "    verbose=1,\n",
    "    random_state=random_state,  \n",
    ")"
   ]
  },
  {
   "cell_type": "code",
   "execution_count": 18,
   "id": "a65022ef-1d9f-465b-8366-37355b8addc5",
   "metadata": {
    "execution": {
     "iopub.execute_input": "2023-05-02T03:30:56.133781Z",
     "iopub.status.busy": "2023-05-02T03:30:56.133504Z",
     "iopub.status.idle": "2023-05-02T03:32:26.262957Z",
     "shell.execute_reply": "2023-05-02T03:32:26.262074Z",
     "shell.execute_reply.started": "2023-05-02T03:30:56.133761Z"
    },
    "scrolled": true,
    "tags": []
   },
   "outputs": [
    {
     "name": "stdout",
     "output_type": "stream",
     "text": [
      "Epoch 1/50\n",
      "187/187 [==============================] - 2s 9ms/step - loss: 0.6707\n",
      "Epoch 2/50\n",
      "187/187 [==============================] - 2s 10ms/step - loss: 0.6519\n",
      "Epoch 3/50\n",
      "187/187 [==============================] - 2s 9ms/step - loss: 0.6442\n",
      "Epoch 4/50\n",
      "187/187 [==============================] - 2s 9ms/step - loss: 0.6396\n",
      "Epoch 5/50\n",
      "187/187 [==============================] - 2s 9ms/step - loss: 0.6373\n",
      "Epoch 6/50\n",
      "187/187 [==============================] - 2s 9ms/step - loss: 0.6337\n",
      "Epoch 7/50\n",
      "187/187 [==============================] - 2s 10ms/step - loss: 0.6292\n",
      "Epoch 8/50\n",
      "187/187 [==============================] - 2s 9ms/step - loss: 0.6232\n",
      "Epoch 9/50\n",
      "187/187 [==============================] - 2s 10ms/step - loss: 0.6237\n",
      "Epoch 10/50\n",
      "187/187 [==============================] - 2s 10ms/step - loss: 0.6235\n",
      "Epoch 11/50\n",
      "187/187 [==============================] - 2s 10ms/step - loss: 0.6205\n",
      "Epoch 12/50\n",
      "187/187 [==============================] - 2s 9ms/step - loss: 0.6189\n",
      "Epoch 13/50\n",
      "187/187 [==============================] - 2s 10ms/step - loss: 0.6155\n",
      "Epoch 14/50\n",
      "187/187 [==============================] - 2s 10ms/step - loss: 0.6147\n",
      "Epoch 15/50\n",
      "187/187 [==============================] - 2s 9ms/step - loss: 0.6128\n",
      "Epoch 16/50\n",
      "187/187 [==============================] - 2s 10ms/step - loss: 0.6080\n",
      "Epoch 17/50\n",
      "187/187 [==============================] - 2s 10ms/step - loss: 0.6094\n",
      "Epoch 18/50\n",
      "187/187 [==============================] - 2s 10ms/step - loss: 0.6078\n",
      "Epoch 19/50\n",
      "187/187 [==============================] - 2s 9ms/step - loss: 0.6066\n",
      "Epoch 20/50\n",
      "187/187 [==============================] - 2s 9ms/step - loss: 0.6069\n",
      "Epoch 21/50\n",
      "187/187 [==============================] - 2s 9ms/step - loss: 0.6068\n",
      "Epoch 22/50\n",
      "187/187 [==============================] - 2s 10ms/step - loss: 0.6063\n",
      "Epoch 23/50\n",
      "187/187 [==============================] - 2s 9ms/step - loss: 0.5998\n",
      "Epoch 24/50\n",
      "187/187 [==============================] - 2s 10ms/step - loss: 0.5991\n",
      "Epoch 25/50\n",
      "187/187 [==============================] - 2s 10ms/step - loss: 0.6015\n",
      "Epoch 26/50\n",
      "187/187 [==============================] - 2s 9ms/step - loss: 0.5971\n",
      "Epoch 27/50\n",
      "187/187 [==============================] - 2s 9ms/step - loss: 0.5949\n",
      "Epoch 28/50\n",
      "187/187 [==============================] - 2s 10ms/step - loss: 0.5894\n",
      "Epoch 29/50\n",
      "187/187 [==============================] - 2s 10ms/step - loss: 0.5901\n",
      "Epoch 30/50\n",
      "187/187 [==============================] - 2s 10ms/step - loss: 0.5920\n",
      "Epoch 31/50\n",
      "187/187 [==============================] - 2s 9ms/step - loss: 0.5896\n",
      "Epoch 32/50\n",
      "187/187 [==============================] - 2s 10ms/step - loss: 0.5923\n",
      "Epoch 33/50\n",
      "187/187 [==============================] - 2s 9ms/step - loss: 0.5913\n",
      "Epoch 34/50\n",
      "187/187 [==============================] - 2s 9ms/step - loss: 0.5846\n",
      "Epoch 35/50\n",
      "187/187 [==============================] - 2s 9ms/step - loss: 0.5855\n",
      "Epoch 36/50\n",
      "187/187 [==============================] - 2s 10ms/step - loss: 0.5848\n",
      "Epoch 37/50\n",
      "187/187 [==============================] - 2s 9ms/step - loss: 0.5817\n",
      "Epoch 38/50\n",
      "187/187 [==============================] - 2s 10ms/step - loss: 0.5840\n",
      "Epoch 39/50\n",
      "187/187 [==============================] - 2s 10ms/step - loss: 0.5824\n",
      "Epoch 40/50\n",
      "187/187 [==============================] - 2s 9ms/step - loss: 0.5785\n",
      "Epoch 41/50\n",
      "187/187 [==============================] - 2s 10ms/step - loss: 0.5768\n",
      "Epoch 42/50\n",
      "187/187 [==============================] - 2s 9ms/step - loss: 0.5771\n",
      "Epoch 43/50\n",
      "187/187 [==============================] - 2s 9ms/step - loss: 0.5726\n",
      "Epoch 44/50\n",
      "187/187 [==============================] - 2s 10ms/step - loss: 0.5723\n",
      "Epoch 45/50\n",
      "187/187 [==============================] - 2s 9ms/step - loss: 0.5714\n",
      "Epoch 46/50\n",
      "187/187 [==============================] - 2s 9ms/step - loss: 0.5697\n",
      "Epoch 47/50\n",
      "187/187 [==============================] - 2s 10ms/step - loss: 0.5720\n",
      "Epoch 48/50\n",
      "187/187 [==============================] - 2s 9ms/step - loss: 0.5702\n",
      "Epoch 49/50\n",
      "187/187 [==============================] - 2s 9ms/step - loss: 0.5662\n",
      "Epoch 50/50\n",
      "187/187 [==============================] - 2s 10ms/step - loss: 0.5645\n"
     ]
    },
    {
     "data": {
      "text/html": [
       "<style>#sk-container-id-3 {color: black;background-color: white;}#sk-container-id-3 pre{padding: 0;}#sk-container-id-3 div.sk-toggleable {background-color: white;}#sk-container-id-3 label.sk-toggleable__label {cursor: pointer;display: block;width: 100%;margin-bottom: 0;padding: 0.3em;box-sizing: border-box;text-align: center;}#sk-container-id-3 label.sk-toggleable__label-arrow:before {content: \"▸\";float: left;margin-right: 0.25em;color: #696969;}#sk-container-id-3 label.sk-toggleable__label-arrow:hover:before {color: black;}#sk-container-id-3 div.sk-estimator:hover label.sk-toggleable__label-arrow:before {color: black;}#sk-container-id-3 div.sk-toggleable__content {max-height: 0;max-width: 0;overflow: hidden;text-align: left;background-color: #f0f8ff;}#sk-container-id-3 div.sk-toggleable__content pre {margin: 0.2em;color: black;border-radius: 0.25em;background-color: #f0f8ff;}#sk-container-id-3 input.sk-toggleable__control:checked~div.sk-toggleable__content {max-height: 200px;max-width: 100%;overflow: auto;}#sk-container-id-3 input.sk-toggleable__control:checked~label.sk-toggleable__label-arrow:before {content: \"▾\";}#sk-container-id-3 div.sk-estimator input.sk-toggleable__control:checked~label.sk-toggleable__label {background-color: #d4ebff;}#sk-container-id-3 div.sk-label input.sk-toggleable__control:checked~label.sk-toggleable__label {background-color: #d4ebff;}#sk-container-id-3 input.sk-hidden--visually {border: 0;clip: rect(1px 1px 1px 1px);clip: rect(1px, 1px, 1px, 1px);height: 1px;margin: -1px;overflow: hidden;padding: 0;position: absolute;width: 1px;}#sk-container-id-3 div.sk-estimator {font-family: monospace;background-color: #f0f8ff;border: 1px dotted black;border-radius: 0.25em;box-sizing: border-box;margin-bottom: 0.5em;}#sk-container-id-3 div.sk-estimator:hover {background-color: #d4ebff;}#sk-container-id-3 div.sk-parallel-item::after {content: \"\";width: 100%;border-bottom: 1px solid gray;flex-grow: 1;}#sk-container-id-3 div.sk-label:hover label.sk-toggleable__label {background-color: #d4ebff;}#sk-container-id-3 div.sk-serial::before {content: \"\";position: absolute;border-left: 1px solid gray;box-sizing: border-box;top: 0;bottom: 0;left: 50%;z-index: 0;}#sk-container-id-3 div.sk-serial {display: flex;flex-direction: column;align-items: center;background-color: white;padding-right: 0.2em;padding-left: 0.2em;position: relative;}#sk-container-id-3 div.sk-item {position: relative;z-index: 1;}#sk-container-id-3 div.sk-parallel {display: flex;align-items: stretch;justify-content: center;background-color: white;position: relative;}#sk-container-id-3 div.sk-item::before, #sk-container-id-3 div.sk-parallel-item::before {content: \"\";position: absolute;border-left: 1px solid gray;box-sizing: border-box;top: 0;bottom: 0;left: 50%;z-index: -1;}#sk-container-id-3 div.sk-parallel-item {display: flex;flex-direction: column;z-index: 1;position: relative;background-color: white;}#sk-container-id-3 div.sk-parallel-item:first-child::after {align-self: flex-end;width: 50%;}#sk-container-id-3 div.sk-parallel-item:last-child::after {align-self: flex-start;width: 50%;}#sk-container-id-3 div.sk-parallel-item:only-child::after {width: 0;}#sk-container-id-3 div.sk-dashed-wrapped {border: 1px dashed gray;margin: 0 0.4em 0.5em 0.4em;box-sizing: border-box;padding-bottom: 0.4em;background-color: white;}#sk-container-id-3 div.sk-label label {font-family: monospace;font-weight: bold;display: inline-block;line-height: 1.2em;}#sk-container-id-3 div.sk-label-container {text-align: center;}#sk-container-id-3 div.sk-container {/* jupyter's `normalize.less` sets `[hidden] { display: none; }` but bootstrap.min.css set `[hidden] { display: none !important; }` so we also need the `!important` here to be able to override the default hidden behavior on the sphinx rendered scikit-learn.org. See: https://github.com/scikit-learn/scikit-learn/issues/21755 */display: inline-block !important;position: relative;}#sk-container-id-3 div.sk-text-repr-fallback {display: none;}</style><div id=\"sk-container-id-3\" class=\"sk-top-container\"><div class=\"sk-text-repr-fallback\"><pre>KerasClassifier(\n",
       "\tmodel=&lt;function get_clf at 0x7fef62614430&gt;\n",
       "\tbuild_fn=None\n",
       "\twarm_start=False\n",
       "\trandom_state=10\n",
       "\toptimizer=adam\n",
       "\tloss=binary_crossentropy\n",
       "\tmetrics=None\n",
       "\tbatch_size=64\n",
       "\tvalidation_batch_size=None\n",
       "\tverbose=1\n",
       "\tcallbacks=None\n",
       "\tvalidation_split=0.0\n",
       "\tshuffle=True\n",
       "\trun_eagerly=False\n",
       "\tepochs=50\n",
       "\thidden_layer_sizes=(10, 10, 10)\n",
       "\tdropout=0.5\n",
       "\toptimizer__learning_rate=1e-05\n",
       "\tclass_weight=None\n",
       ")</pre><b>In a Jupyter environment, please rerun this cell to show the HTML representation or trust the notebook. <br />On GitHub, the HTML representation is unable to render, please try loading this page with nbviewer.org.</b></div><div class=\"sk-container\" hidden><div class=\"sk-item\"><div class=\"sk-estimator sk-toggleable\"><input class=\"sk-toggleable__control sk-hidden--visually\" id=\"sk-estimator-id-3\" type=\"checkbox\" checked><label for=\"sk-estimator-id-3\" class=\"sk-toggleable__label sk-toggleable__label-arrow\">KerasClassifier</label><div class=\"sk-toggleable__content\"><pre>KerasClassifier(\n",
       "\tmodel=&lt;function get_clf at 0x7fef62614430&gt;\n",
       "\tbuild_fn=None\n",
       "\twarm_start=False\n",
       "\trandom_state=10\n",
       "\toptimizer=adam\n",
       "\tloss=binary_crossentropy\n",
       "\tmetrics=None\n",
       "\tbatch_size=64\n",
       "\tvalidation_batch_size=None\n",
       "\tverbose=1\n",
       "\tcallbacks=None\n",
       "\tvalidation_split=0.0\n",
       "\tshuffle=True\n",
       "\trun_eagerly=False\n",
       "\tepochs=50\n",
       "\thidden_layer_sizes=(10, 10, 10)\n",
       "\tdropout=0.5\n",
       "\toptimizer__learning_rate=1e-05\n",
       "\tclass_weight=None\n",
       ")</pre></div></div></div></div></div>"
      ],
      "text/plain": [
       "KerasClassifier(\n",
       "\tmodel=<function get_clf at 0x7fef62614430>\n",
       "\tbuild_fn=None\n",
       "\twarm_start=False\n",
       "\trandom_state=10\n",
       "\toptimizer=adam\n",
       "\tloss=binary_crossentropy\n",
       "\tmetrics=None\n",
       "\tbatch_size=64\n",
       "\tvalidation_batch_size=None\n",
       "\tverbose=1\n",
       "\tcallbacks=None\n",
       "\tvalidation_split=0.0\n",
       "\tshuffle=True\n",
       "\trun_eagerly=False\n",
       "\tepochs=50\n",
       "\thidden_layer_sizes=(10, 10, 10)\n",
       "\tdropout=0.5\n",
       "\toptimizer__learning_rate=1e-05\n",
       "\tclass_weight=None\n",
       ")"
      ]
     },
     "execution_count": 18,
     "metadata": {},
     "output_type": "execute_result"
    }
   ],
   "source": [
    "clf.fit(X_train, y_train)"
   ]
  },
  {
   "cell_type": "code",
   "execution_count": 19,
   "id": "8961daa2-801f-4de5-8b19-ce0506495263",
   "metadata": {
    "execution": {
     "iopub.execute_input": "2023-05-02T03:32:31.560575Z",
     "iopub.status.busy": "2023-05-02T03:32:31.560297Z",
     "iopub.status.idle": "2023-05-02T03:32:31.816003Z",
     "shell.execute_reply": "2023-05-02T03:32:31.815109Z",
     "shell.execute_reply.started": "2023-05-02T03:32:31.560556Z"
    },
    "tags": []
   },
   "outputs": [
    {
     "name": "stdout",
     "output_type": "stream",
     "text": [
      "29/29 [==============================] - 0s 3ms/step\n"
     ]
    }
   ],
   "source": [
    "y_pred = clf.predict(X_test)"
   ]
  },
  {
   "cell_type": "code",
   "execution_count": 20,
   "id": "4c60f8b8-69cd-4e28-898f-2548c735f1fa",
   "metadata": {
    "colab": {
     "base_uri": "https://localhost:8080/"
    },
    "execution": {
     "iopub.execute_input": "2023-05-02T03:32:33.867166Z",
     "iopub.status.busy": "2023-05-02T03:32:33.866577Z",
     "iopub.status.idle": "2023-05-02T03:32:33.873968Z",
     "shell.execute_reply": "2023-05-02T03:32:33.872912Z",
     "shell.execute_reply.started": "2023-05-02T03:32:33.867139Z"
    },
    "executionInfo": {
     "elapsed": 235,
     "status": "ok",
     "timestamp": 1682653111169,
     "user": {
      "displayName": "Damir Zunic",
      "userId": "07104666280721646256"
     },
     "user_tz": 240
    },
    "id": "izX1E5RRlG8P",
    "outputId": "091c4dde-2089-4c53-a24d-c618631e4d0d",
    "tags": []
   },
   "outputs": [
    {
     "name": "stdout",
     "output_type": "stream",
     "text": [
      "Accuracy after tuning: 84.34\n"
     ]
    }
   ],
   "source": [
    "accuracy = accuracy_score(y_test, y_pred)\n",
    "print(f'Accuracy after tuning: {accuracy * 100.0:.2f}')"
   ]
  },
  {
   "cell_type": "code",
   "execution_count": 21,
   "id": "9b599454-515a-49fc-adf6-cd1d142ff401",
   "metadata": {
    "colab": {
     "base_uri": "https://localhost:8080/"
    },
    "execution": {
     "iopub.execute_input": "2023-05-02T03:32:36.957131Z",
     "iopub.status.busy": "2023-05-02T03:32:36.956859Z",
     "iopub.status.idle": "2023-05-02T03:32:38.018013Z",
     "shell.execute_reply": "2023-05-02T03:32:38.017115Z",
     "shell.execute_reply.started": "2023-05-02T03:32:36.957113Z"
    },
    "executionInfo": {
     "elapsed": 174311,
     "status": "ok",
     "timestamp": 1682653293339,
     "user": {
      "displayName": "Damir Zunic",
      "userId": "07104666280721646256"
     },
     "user_tz": 240
    },
    "id": "PSol49GtlG8Q",
    "outputId": "3420919c-7086-4103-bac7-b791c25794cc",
    "tags": []
   },
   "outputs": [
    {
     "name": "stdout",
     "output_type": "stream",
     "text": [
      "187/187 [==============================] - 1s 3ms/step\n",
      "Training Data Score: 0.8707728455148108\n",
      "29/29 [==============================] - 0s 3ms/step\n",
      "Testing Data Score: 0.8433667781493869\n"
     ]
    }
   ],
   "source": [
    "# Compare training and testing scores\n",
    "print(f\"Training Data Score: {clf.score(X_train, y_train)}\")\n",
    "print(f\"Testing Data Score: {clf.score(X_test, y_test)}\")"
   ]
  },
  {
   "cell_type": "code",
   "execution_count": 22,
   "id": "a282250f-4f24-4ae8-9c23-20899e6df5ce",
   "metadata": {
    "colab": {
     "base_uri": "https://localhost:8080/"
    },
    "execution": {
     "iopub.execute_input": "2023-05-02T03:32:41.535983Z",
     "iopub.status.busy": "2023-05-02T03:32:41.535078Z",
     "iopub.status.idle": "2023-05-02T03:32:41.545805Z",
     "shell.execute_reply": "2023-05-02T03:32:41.544589Z",
     "shell.execute_reply.started": "2023-05-02T03:32:41.535937Z"
    },
    "executionInfo": {
     "elapsed": 153,
     "status": "ok",
     "timestamp": 1682653309181,
     "user": {
      "displayName": "Damir Zunic",
      "userId": "07104666280721646256"
     },
     "user_tz": 240
    },
    "id": "9v9vgn2JlG8Q",
    "outputId": "cded1d67-220a-4e21-8de3-89aeae620975",
    "tags": []
   },
   "outputs": [
    {
     "name": "stdout",
     "output_type": "stream",
     "text": [
      "[[ 178  161]\n",
      " [ 120 1335]]\n"
     ]
    }
   ],
   "source": [
    "cm = confusion_matrix(y_test, y_pred)\n",
    "print(cm)"
   ]
  },
  {
   "cell_type": "code",
   "execution_count": 72,
   "id": "b3f7a78e-ab40-492d-810c-5e92e356a459",
   "metadata": {
    "colab": {
     "base_uri": "https://localhost:8080/",
     "height": 315
    },
    "execution": {
     "iopub.execute_input": "2023-05-02T03:26:36.916944Z",
     "iopub.status.busy": "2023-05-02T03:26:36.916656Z",
     "iopub.status.idle": "2023-05-02T03:26:37.319571Z",
     "shell.execute_reply": "2023-05-02T03:26:37.318709Z",
     "shell.execute_reply.started": "2023-05-02T03:26:36.916925Z"
    },
    "executionInfo": {
     "elapsed": 633,
     "status": "ok",
     "timestamp": 1682653319716,
     "user": {
      "displayName": "Damir Zunic",
      "userId": "07104666280721646256"
     },
     "user_tz": 240
    },
    "id": "xfNY_4_dlG8Q",
    "outputId": "89d08fb2-a0b1-40ad-8316-dc455baaae51",
    "tags": []
   },
   "outputs": [
    {
     "data": {
      "image/png": "[encoded data removed]",
      "text/plain": [
       "<Figure size 864x288 with 4 Axes>"
      ]
     },
     "metadata": {},
     "output_type": "display_data"
    }
   ],
   "source": [
    "# Plot confusion matrix and its normalized version.\n",
    "mu.plot_cm_unnorm_and_norm('Neural Network #1', y_test, y_pred, target_names, 'Reds')"
   ]
  },
  {
   "cell_type": "code",
   "execution_count": 18,
   "id": "b525bff6-1c9c-4e6f-9715-93e51a18791a",
   "metadata": {
    "colab": {
     "base_uri": "https://localhost:8080/"
    },
    "execution": {
     "iopub.execute_input": "2023-05-02T03:01:38.703891Z",
     "iopub.status.busy": "2023-05-02T03:01:38.703593Z",
     "iopub.status.idle": "2023-05-02T03:01:38.717788Z",
     "shell.execute_reply": "2023-05-02T03:01:38.716476Z",
     "shell.execute_reply.started": "2023-05-02T03:01:38.703871Z"
    },
    "executionInfo": {
     "elapsed": 158,
     "status": "ok",
     "timestamp": 1682653336935,
     "user": {
      "displayName": "Damir Zunic",
      "userId": "07104666280721646256"
     },
     "user_tz": 240
    },
    "id": "IyffOeOYlG8Q",
    "outputId": "2cbed5fe-5845-4a86-8147-2fa7626b869e"
   },
   "outputs": [
    {
     "name": "stdout",
     "output_type": "stream",
     "text": [
      "              precision    recall  f1-score   support\n",
      "\n",
      "         hem       0.91      0.21      0.34       339\n",
      "         all       0.84      1.00      0.91      1455\n",
      "\n",
      "    accuracy                           0.85      1794\n",
      "   macro avg       0.88      0.60      0.63      1794\n",
      "weighted avg       0.86      0.85      0.81      1794\n",
      "\n"
     ]
    }
   ],
   "source": [
    "print(classification_report(y_test, y_pred, target_names=target_names))"
   ]
  },
  {
   "cell_type": "markdown",
   "id": "b0646547-b30c-41e5-9885-efd3a073d2bf",
   "metadata": {},
   "source": [
    "## Pipeline with scaler, PCA and classifier"
   ]
  },
  {
   "cell_type": "code",
   "execution_count": 57,
   "id": "e29d5302-9960-455d-8b08-989b791b7add",
   "metadata": {
    "execution": {
     "iopub.execute_input": "2023-05-02T03:58:51.957479Z",
     "iopub.status.busy": "2023-05-02T03:58:51.956186Z",
     "iopub.status.idle": "2023-05-02T03:58:51.963695Z",
     "shell.execute_reply": "2023-05-02T03:58:51.962417Z",
     "shell.execute_reply.started": "2023-05-02T03:58:51.957420Z"
    },
    "tags": []
   },
   "outputs": [],
   "source": [
    "clf = KerasClassifier(\n",
    "    model=km.get_clf,\n",
    "    loss=\"binary_crossentropy\",\n",
    "    hidden_layer_sizes=(10, 10,10),\n",
    "    dropout=0.5,\n",
    "    batch_size=64,\n",
    "    optimizer='adam',\n",
    "    optimizer__learning_rate=0.0001,\n",
    "    epochs=100,\n",
    "    verbose=1,\n",
    "    random_state=random_state,  \n",
    ")"
   ]
  },
  {
   "cell_type": "code",
   "execution_count": 66,
   "id": "ca6b8706-a913-4e62-a1d7-bfbe896abe4e",
   "metadata": {
    "execution": {
     "iopub.execute_input": "2023-05-02T04:13:16.369853Z",
     "iopub.status.busy": "2023-05-02T04:13:16.369554Z",
     "iopub.status.idle": "2023-05-02T04:13:16.374328Z",
     "shell.execute_reply": "2023-05-02T04:13:16.373574Z",
     "shell.execute_reply.started": "2023-05-02T04:13:16.369833Z"
    },
    "tags": []
   },
   "outputs": [],
   "source": [
    "# Define model with pipeline\n",
    "pipe = Pipeline(\n",
    "    steps = (\n",
    "        ('scaler', MinMaxScaler()),\n",
    "        #('pca', PCA(num_pca_components)),\n",
    "        ('clf', clf)\n",
    "    )\n",
    ")"
   ]
  },
  {
   "cell_type": "code",
   "execution_count": 67,
   "id": "09acdc90-23e5-413f-95c1-8f032438615b",
   "metadata": {
    "execution": {
     "iopub.execute_input": "2023-05-02T04:13:23.679852Z",
     "iopub.status.busy": "2023-05-02T04:13:23.679265Z",
     "iopub.status.idle": "2023-05-02T04:16:23.822846Z",
     "shell.execute_reply": "2023-05-02T04:16:23.821818Z",
     "shell.execute_reply.started": "2023-05-02T04:13:23.679829Z"
    },
    "scrolled": true,
    "tags": []
   },
   "outputs": [
    {
     "name": "stdout",
     "output_type": "stream",
     "text": [
      "Epoch 1/100\n",
      "187/187 [==============================] - 2s 10ms/step - loss: 0.6936\n",
      "Epoch 2/100\n",
      "187/187 [==============================] - 2s 9ms/step - loss: 0.6931\n",
      "Epoch 3/100\n",
      "187/187 [==============================] - 2s 10ms/step - loss: 0.6931\n",
      "Epoch 4/100\n",
      "187/187 [==============================] - 2s 9ms/step - loss: 0.6930\n",
      "Epoch 5/100\n",
      "187/187 [==============================] - 2s 9ms/step - loss: 0.6931\n",
      "Epoch 6/100\n",
      "187/187 [==============================] - 2s 9ms/step - loss: 0.6930\n",
      "Epoch 7/100\n",
      "187/187 [==============================] - 2s 9ms/step - loss: 0.6929\n",
      "Epoch 8/100\n",
      "187/187 [==============================] - 2s 10ms/step - loss: 0.6929\n",
      "Epoch 9/100\n",
      "187/187 [==============================] - 2s 9ms/step - loss: 0.6930\n",
      "Epoch 10/100\n",
      "187/187 [==============================] - 2s 10ms/step - loss: 0.6930\n",
      "Epoch 11/100\n",
      "187/187 [==============================] - 2s 10ms/step - loss: 0.6929\n",
      "Epoch 12/100\n",
      "187/187 [==============================] - 2s 9ms/step - loss: 0.6929\n",
      "Epoch 13/100\n",
      "187/187 [==============================] - 2s 9ms/step - loss: 0.6929\n",
      "Epoch 14/100\n",
      "187/187 [==============================] - 2s 10ms/step - loss: 0.6929\n",
      "Epoch 15/100\n",
      "187/187 [==============================] - 2s 10ms/step - loss: 0.6929\n",
      "Epoch 16/100\n",
      "187/187 [==============================] - 2s 10ms/step - loss: 0.6928\n",
      "Epoch 17/100\n",
      "187/187 [==============================] - 2s 10ms/step - loss: 0.6929\n",
      "Epoch 18/100\n",
      "187/187 [==============================] - 2s 9ms/step - loss: 0.6929\n",
      "Epoch 19/100\n",
      "187/187 [==============================] - 2s 9ms/step - loss: 0.6929\n",
      "Epoch 20/100\n",
      "187/187 [==============================] - 2s 10ms/step - loss: 0.6929\n",
      "Epoch 21/100\n",
      "187/187 [==============================] - 2s 10ms/step - loss: 0.6929\n",
      "Epoch 22/100\n",
      "187/187 [==============================] - 2s 10ms/step - loss: 0.6929\n",
      "Epoch 23/100\n",
      "187/187 [==============================] - 2s 9ms/step - loss: 0.6928\n",
      "Epoch 24/100\n",
      "187/187 [==============================] - 2s 10ms/step - loss: 0.6928\n",
      "Epoch 25/100\n",
      "187/187 [==============================] - 2s 10ms/step - loss: 0.6929\n",
      "Epoch 26/100\n",
      "187/187 [==============================] - 2s 11ms/step - loss: 0.6929\n",
      "Epoch 27/100\n",
      "187/187 [==============================] - 2s 10ms/step - loss: 0.6928\n",
      "Epoch 28/100\n",
      "187/187 [==============================] - 2s 10ms/step - loss: 0.6929\n",
      "Epoch 29/100\n",
      "187/187 [==============================] - 2s 10ms/step - loss: 0.6929\n",
      "Epoch 30/100\n",
      "187/187 [==============================] - 2s 9ms/step - loss: 0.6929\n",
      "Epoch 31/100\n",
      "187/187 [==============================] - 2s 9ms/step - loss: 0.6930\n",
      "Epoch 32/100\n",
      "187/187 [==============================] - 2s 9ms/step - loss: 0.6929\n",
      "Epoch 33/100\n",
      "187/187 [==============================] - 2s 10ms/step - loss: 0.6929\n",
      "Epoch 34/100\n",
      "187/187 [==============================] - 2s 9ms/step - loss: 0.6929\n",
      "Epoch 35/100\n",
      "187/187 [==============================] - 2s 9ms/step - loss: 0.6929\n",
      "Epoch 36/100\n",
      "187/187 [==============================] - 2s 9ms/step - loss: 0.6929\n",
      "Epoch 37/100\n",
      "187/187 [==============================] - 2s 9ms/step - loss: 0.6929\n",
      "Epoch 38/100\n",
      "187/187 [==============================] - 2s 10ms/step - loss: 0.6929\n",
      "Epoch 39/100\n",
      "187/187 [==============================] - 2s 10ms/step - loss: 0.6929\n",
      "Epoch 40/100\n",
      "187/187 [==============================] - 2s 9ms/step - loss: 0.6929\n",
      "Epoch 41/100\n",
      "187/187 [==============================] - 2s 9ms/step - loss: 0.6929\n",
      "Epoch 42/100\n",
      "187/187 [==============================] - 2s 9ms/step - loss: 0.6929\n",
      "Epoch 43/100\n",
      "187/187 [==============================] - 2s 9ms/step - loss: 0.6929\n",
      "Epoch 44/100\n",
      "187/187 [==============================] - 2s 9ms/step - loss: 0.6929\n",
      "Epoch 45/100\n",
      "187/187 [==============================] - 2s 10ms/step - loss: 0.6929\n",
      "Epoch 46/100\n",
      "187/187 [==============================] - 2s 9ms/step - loss: 0.6929\n",
      "Epoch 47/100\n",
      "187/187 [==============================] - 2s 9ms/step - loss: 0.6929\n",
      "Epoch 48/100\n",
      "187/187 [==============================] - 2s 10ms/step - loss: 0.6929\n",
      "Epoch 49/100\n",
      "187/187 [==============================] - 2s 10ms/step - loss: 0.6929\n",
      "Epoch 50/100\n",
      "187/187 [==============================] - 2s 10ms/step - loss: 0.6929\n",
      "Epoch 51/100\n",
      "187/187 [==============================] - 2s 10ms/step - loss: 0.6929\n",
      "Epoch 52/100\n",
      "187/187 [==============================] - 2s 9ms/step - loss: 0.6929\n",
      "Epoch 53/100\n",
      "187/187 [==============================] - 2s 11ms/step - loss: 0.6929\n",
      "Epoch 54/100\n",
      "187/187 [==============================] - 2s 10ms/step - loss: 0.6929\n",
      "Epoch 55/100\n",
      "187/187 [==============================] - 2s 9ms/step - loss: 0.6929\n",
      "Epoch 56/100\n",
      "187/187 [==============================] - 2s 10ms/step - loss: 0.6929\n",
      "Epoch 57/100\n",
      "187/187 [==============================] - 2s 10ms/step - loss: 0.6929\n",
      "Epoch 58/100\n",
      "187/187 [==============================] - 2s 10ms/step - loss: 0.6929\n",
      "Epoch 59/100\n",
      "187/187 [==============================] - 2s 9ms/step - loss: 0.6929\n",
      "Epoch 60/100\n",
      "187/187 [==============================] - 2s 9ms/step - loss: 0.6929\n",
      "Epoch 61/100\n",
      "187/187 [==============================] - 2s 10ms/step - loss: 0.6929\n",
      "Epoch 62/100\n",
      "187/187 [==============================] - 2s 10ms/step - loss: 0.6929\n",
      "Epoch 63/100\n",
      "187/187 [==============================] - 2s 10ms/step - loss: 0.6929\n",
      "Epoch 64/100\n",
      "187/187 [==============================] - 2s 10ms/step - loss: 0.6929\n",
      "Epoch 65/100\n",
      "187/187 [==============================] - 2s 10ms/step - loss: 0.6929\n",
      "Epoch 66/100\n",
      "187/187 [==============================] - 2s 10ms/step - loss: 0.6929\n",
      "Epoch 67/100\n",
      "187/187 [==============================] - 2s 10ms/step - loss: 0.6929\n",
      "Epoch 68/100\n",
      "187/187 [==============================] - 2s 9ms/step - loss: 0.6929\n",
      "Epoch 69/100\n",
      "187/187 [==============================] - 2s 10ms/step - loss: 0.6929\n",
      "Epoch 70/100\n",
      "187/187 [==============================] - 2s 9ms/step - loss: 0.6929\n",
      "Epoch 71/100\n",
      "187/187 [==============================] - 2s 9ms/step - loss: 0.6929\n",
      "Epoch 72/100\n",
      "187/187 [==============================] - 2s 9ms/step - loss: 0.6929\n",
      "Epoch 73/100\n",
      "187/187 [==============================] - 2s 10ms/step - loss: 0.6929\n",
      "Epoch 74/100\n",
      "187/187 [==============================] - 2s 9ms/step - loss: 0.6929\n",
      "Epoch 75/100\n",
      "187/187 [==============================] - 2s 10ms/step - loss: 0.6929\n",
      "Epoch 76/100\n",
      "187/187 [==============================] - 2s 9ms/step - loss: 0.6929\n",
      "Epoch 77/100\n",
      "187/187 [==============================] - 2s 9ms/step - loss: 0.6929\n",
      "Epoch 78/100\n",
      "187/187 [==============================] - 2s 9ms/step - loss: 0.6929\n",
      "Epoch 79/100\n",
      "187/187 [==============================] - 2s 9ms/step - loss: 0.6929\n",
      "Epoch 80/100\n",
      "187/187 [==============================] - 2s 9ms/step - loss: 0.6929\n",
      "Epoch 81/100\n",
      "187/187 [==============================] - 2s 10ms/step - loss: 0.6929\n",
      "Epoch 82/100\n",
      "187/187 [==============================] - 2s 10ms/step - loss: 0.6929\n",
      "Epoch 83/100\n",
      "187/187 [==============================] - 2s 9ms/step - loss: 0.6929\n",
      "Epoch 84/100\n",
      "187/187 [==============================] - 2s 10ms/step - loss: 0.6929\n",
      "Epoch 85/100\n",
      "187/187 [==============================] - 2s 9ms/step - loss: 0.6929\n",
      "Epoch 86/100\n",
      "187/187 [==============================] - 2s 9ms/step - loss: 0.6929\n",
      "Epoch 87/100\n",
      "187/187 [==============================] - 2s 10ms/step - loss: 0.6929\n",
      "Epoch 88/100\n",
      "187/187 [==============================] - 2s 9ms/step - loss: 0.6929\n",
      "Epoch 89/100\n",
      "187/187 [==============================] - 2s 9ms/step - loss: 0.6929\n",
      "Epoch 90/100\n",
      "187/187 [==============================] - 2s 10ms/step - loss: 0.6929\n",
      "Epoch 91/100\n",
      "187/187 [==============================] - 2s 9ms/step - loss: 0.6929\n",
      "Epoch 92/100\n",
      "187/187 [==============================] - 2s 9ms/step - loss: 0.6929\n",
      "Epoch 93/100\n",
      "187/187 [==============================] - 2s 10ms/step - loss: 0.6929\n",
      "Epoch 94/100\n",
      "187/187 [==============================] - 2s 9ms/step - loss: 0.6929\n",
      "Epoch 95/100\n",
      "187/187 [==============================] - 2s 10ms/step - loss: 0.6929\n",
      "Epoch 96/100\n",
      "187/187 [==============================] - 2s 10ms/step - loss: 0.6929\n",
      "Epoch 97/100\n",
      "187/187 [==============================] - 2s 10ms/step - loss: 0.6929\n",
      "Epoch 98/100\n",
      "187/187 [==============================] - 2s 11ms/step - loss: 0.6929\n",
      "Epoch 99/100\n",
      "187/187 [==============================] - 2s 11ms/step - loss: 0.6929\n",
      "Epoch 100/100\n",
      "187/187 [==============================] - 2s 10ms/step - loss: 0.6929\n"
     ]
    },
    {
     "data": {
      "text/html": [
       "<style>#sk-container-id-9 {color: black;background-color: white;}#sk-container-id-9 pre{padding: 0;}#sk-container-id-9 div.sk-toggleable {background-color: white;}#sk-container-id-9 label.sk-toggleable__label {cursor: pointer;display: block;width: 100%;margin-bottom: 0;padding: 0.3em;box-sizing: border-box;text-align: center;}#sk-container-id-9 label.sk-toggleable__label-arrow:before {content: \"▸\";float: left;margin-right: 0.25em;color: #696969;}#sk-container-id-9 label.sk-toggleable__label-arrow:hover:before {color: black;}#sk-container-id-9 div.sk-estimator:hover label.sk-toggleable__label-arrow:before {color: black;}#sk-container-id-9 div.sk-toggleable__content {max-height: 0;max-width: 0;overflow: hidden;text-align: left;background-color: #f0f8ff;}#sk-container-id-9 div.sk-toggleable__content pre {margin: 0.2em;color: black;border-radius: 0.25em;background-color: #f0f8ff;}#sk-container-id-9 input.sk-toggleable__control:checked~div.sk-toggleable__content {max-height: 200px;max-width: 100%;overflow: auto;}#sk-container-id-9 input.sk-toggleable__control:checked~label.sk-toggleable__label-arrow:before {content: \"▾\";}#sk-container-id-9 div.sk-estimator input.sk-toggleable__control:checked~label.sk-toggleable__label {background-color: #d4ebff;}#sk-container-id-9 div.sk-label input.sk-toggleable__control:checked~label.sk-toggleable__label {background-color: #d4ebff;}#sk-container-id-9 input.sk-hidden--visually {border: 0;clip: rect(1px 1px 1px 1px);clip: rect(1px, 1px, 1px, 1px);height: 1px;margin: -1px;overflow: hidden;padding: 0;position: absolute;width: 1px;}#sk-container-id-9 div.sk-estimator {font-family: monospace;background-color: #f0f8ff;border: 1px dotted black;border-radius: 0.25em;box-sizing: border-box;margin-bottom: 0.5em;}#sk-container-id-9 div.sk-estimator:hover {background-color: #d4ebff;}#sk-container-id-9 div.sk-parallel-item::after {content: \"\";width: 100%;border-bottom: 1px solid gray;flex-grow: 1;}#sk-container-id-9 div.sk-label:hover label.sk-toggleable__label {background-color: #d4ebff;}#sk-container-id-9 div.sk-serial::before {content: \"\";position: absolute;border-left: 1px solid gray;box-sizing: border-box;top: 0;bottom: 0;left: 50%;z-index: 0;}#sk-container-id-9 div.sk-serial {display: flex;flex-direction: column;align-items: center;background-color: white;padding-right: 0.2em;padding-left: 0.2em;position: relative;}#sk-container-id-9 div.sk-item {position: relative;z-index: 1;}#sk-container-id-9 div.sk-parallel {display: flex;align-items: stretch;justify-content: center;background-color: white;position: relative;}#sk-container-id-9 div.sk-item::before, #sk-container-id-9 div.sk-parallel-item::before {content: \"\";position: absolute;border-left: 1px solid gray;box-sizing: border-box;top: 0;bottom: 0;left: 50%;z-index: -1;}#sk-container-id-9 div.sk-parallel-item {display: flex;flex-direction: column;z-index: 1;position: relative;background-color: white;}#sk-container-id-9 div.sk-parallel-item:first-child::after {align-self: flex-end;width: 50%;}#sk-container-id-9 div.sk-parallel-item:last-child::after {align-self: flex-start;width: 50%;}#sk-container-id-9 div.sk-parallel-item:only-child::after {width: 0;}#sk-container-id-9 div.sk-dashed-wrapped {border: 1px dashed gray;margin: 0 0.4em 0.5em 0.4em;box-sizing: border-box;padding-bottom: 0.4em;background-color: white;}#sk-container-id-9 div.sk-label label {font-family: monospace;font-weight: bold;display: inline-block;line-height: 1.2em;}#sk-container-id-9 div.sk-label-container {text-align: center;}#sk-container-id-9 div.sk-container {/* jupyter's `normalize.less` sets `[hidden] { display: none; }` but bootstrap.min.css set `[hidden] { display: none !important; }` so we also need the `!important` here to be able to override the default hidden behavior on the sphinx rendered scikit-learn.org. See: https://github.com/scikit-learn/scikit-learn/issues/21755 */display: inline-block !important;position: relative;}#sk-container-id-9 div.sk-text-repr-fallback {display: none;}</style><div id=\"sk-container-id-9\" class=\"sk-top-container\"><div class=\"sk-text-repr-fallback\"><pre>Pipeline(steps=[(&#x27;scaler&#x27;, MinMaxScaler()),\n",
       "                (&#x27;clf&#x27;,\n",
       "                 KerasClassifier(batch_size=64, dropout=0.5, epochs=100, hidden_layer_sizes=(10, 10, 10), loss=&#x27;binary_crossentropy&#x27;, model=&lt;function get_clf at 0x7fef62614430&gt;, optimizer=&#x27;adam&#x27;, optimizer__learning_rate=0.0001, random_state=10))])</pre><b>In a Jupyter environment, please rerun this cell to show the HTML representation or trust the notebook. <br />On GitHub, the HTML representation is unable to render, please try loading this page with nbviewer.org.</b></div><div class=\"sk-container\" hidden><div class=\"sk-item sk-dashed-wrapped\"><div class=\"sk-label-container\"><div class=\"sk-label sk-toggleable\"><input class=\"sk-toggleable__control sk-hidden--visually\" id=\"sk-estimator-id-24\" type=\"checkbox\" ><label for=\"sk-estimator-id-24\" class=\"sk-toggleable__label sk-toggleable__label-arrow\">Pipeline</label><div class=\"sk-toggleable__content\"><pre>Pipeline(steps=[(&#x27;scaler&#x27;, MinMaxScaler()),\n",
       "                (&#x27;clf&#x27;,\n",
       "                 KerasClassifier(batch_size=64, dropout=0.5, epochs=100, hidden_layer_sizes=(10, 10, 10), loss=&#x27;binary_crossentropy&#x27;, model=&lt;function get_clf at 0x7fef62614430&gt;, optimizer=&#x27;adam&#x27;, optimizer__learning_rate=0.0001, random_state=10))])</pre></div></div></div><div class=\"sk-serial\"><div class=\"sk-item\"><div class=\"sk-estimator sk-toggleable\"><input class=\"sk-toggleable__control sk-hidden--visually\" id=\"sk-estimator-id-25\" type=\"checkbox\" ><label for=\"sk-estimator-id-25\" class=\"sk-toggleable__label sk-toggleable__label-arrow\">MinMaxScaler</label><div class=\"sk-toggleable__content\"><pre>MinMaxScaler()</pre></div></div></div><div class=\"sk-item\"><div class=\"sk-estimator sk-toggleable\"><input class=\"sk-toggleable__control sk-hidden--visually\" id=\"sk-estimator-id-26\" type=\"checkbox\" ><label for=\"sk-estimator-id-26\" class=\"sk-toggleable__label sk-toggleable__label-arrow\">KerasClassifier</label><div class=\"sk-toggleable__content\"><pre>KerasClassifier(\n",
       "\tmodel=&lt;function get_clf at 0x7fef62614430&gt;\n",
       "\tbuild_fn=None\n",
       "\twarm_start=False\n",
       "\trandom_state=10\n",
       "\toptimizer=adam\n",
       "\tloss=binary_crossentropy\n",
       "\tmetrics=None\n",
       "\tbatch_size=64\n",
       "\tvalidation_batch_size=None\n",
       "\tverbose=1\n",
       "\tcallbacks=None\n",
       "\tvalidation_split=0.0\n",
       "\tshuffle=True\n",
       "\trun_eagerly=False\n",
       "\tepochs=100\n",
       "\thidden_layer_sizes=(10, 10, 10)\n",
       "\tdropout=0.5\n",
       "\toptimizer__learning_rate=0.0001\n",
       "\tclass_weight=None\n",
       ")</pre></div></div></div></div></div></div></div>"
      ],
      "text/plain": [
       "Pipeline(steps=[('scaler', MinMaxScaler()),\n",
       "                ('clf',\n",
       "                 KerasClassifier(batch_size=64, dropout=0.5, epochs=100, hidden_layer_sizes=(10, 10, 10), loss='binary_crossentropy', model=<function get_clf at 0x7fef62614430>, optimizer='adam', optimizer__learning_rate=0.0001, random_state=10))])"
      ]
     },
     "execution_count": 67,
     "metadata": {},
     "output_type": "execute_result"
    }
   ],
   "source": [
    "pipe.fit(X_train, y_train)"
   ]
  },
  {
   "cell_type": "code",
   "execution_count": 60,
   "id": "49e905a7-42f0-4962-8d7f-2488045684df",
   "metadata": {
    "execution": {
     "iopub.execute_input": "2023-05-02T04:11:26.261952Z",
     "iopub.status.busy": "2023-05-02T04:11:26.261608Z",
     "iopub.status.idle": "2023-05-02T04:11:26.744798Z",
     "shell.execute_reply": "2023-05-02T04:11:26.743907Z",
     "shell.execute_reply.started": "2023-05-02T04:11:26.261930Z"
    },
    "tags": []
   },
   "outputs": [
    {
     "name": "stdout",
     "output_type": "stream",
     "text": [
      "29/29 [==============================] - 0s 3ms/step\n"
     ]
    }
   ],
   "source": [
    "y_pred = pipe.predict(X_test)"
   ]
  },
  {
   "cell_type": "code",
   "execution_count": 61,
   "id": "cd9fe5f9-997c-43b1-97c5-c655fa0f1b68",
   "metadata": {
    "colab": {
     "base_uri": "https://localhost:8080/"
    },
    "execution": {
     "iopub.execute_input": "2023-05-02T04:11:28.623749Z",
     "iopub.status.busy": "2023-05-02T04:11:28.623157Z",
     "iopub.status.idle": "2023-05-02T04:11:28.633692Z",
     "shell.execute_reply": "2023-05-02T04:11:28.632170Z",
     "shell.execute_reply.started": "2023-05-02T04:11:28.623728Z"
    },
    "executionInfo": {
     "elapsed": 235,
     "status": "ok",
     "timestamp": 1682653111169,
     "user": {
      "displayName": "Damir Zunic",
      "userId": "07104666280721646256"
     },
     "user_tz": 240
    },
    "id": "izX1E5RRlG8P",
    "outputId": "091c4dde-2089-4c53-a24d-c618631e4d0d",
    "tags": []
   },
   "outputs": [
    {
     "name": "stdout",
     "output_type": "stream",
     "text": [
      "Accuracy after tuning: 83.50\n"
     ]
    }
   ],
   "source": [
    "accuracy = accuracy_score(y_test, y_pred)\n",
    "print(f'Accuracy after tuning: {accuracy * 100.0:.2f}')"
   ]
  },
  {
   "cell_type": "code",
   "execution_count": 62,
   "id": "6f243103-6092-464a-bca4-f2284a1e7078",
   "metadata": {
    "colab": {
     "base_uri": "https://localhost:8080/"
    },
    "execution": {
     "iopub.execute_input": "2023-05-02T04:11:30.849544Z",
     "iopub.status.busy": "2023-05-02T04:11:30.849273Z",
     "iopub.status.idle": "2023-05-02T04:11:32.524827Z",
     "shell.execute_reply": "2023-05-02T04:11:32.524044Z",
     "shell.execute_reply.started": "2023-05-02T04:11:30.849525Z"
    },
    "executionInfo": {
     "elapsed": 174311,
     "status": "ok",
     "timestamp": 1682653293339,
     "user": {
      "displayName": "Damir Zunic",
      "userId": "07104666280721646256"
     },
     "user_tz": 240
    },
    "id": "PSol49GtlG8Q",
    "outputId": "3420919c-7086-4103-bac7-b791c25794cc",
    "tags": []
   },
   "outputs": [
    {
     "name": "stdout",
     "output_type": "stream",
     "text": [
      "187/187 [==============================] - 0s 2ms/step\n",
      "Training Data Score: 0.9624905597046236\n",
      "29/29 [==============================] - 0s 3ms/step\n",
      "Testing Data Score: 0.835005574136009\n"
     ]
    }
   ],
   "source": [
    "# Compare training and testing scores\n",
    "print(f\"Training Data Score: {pipe.score(X_train, y_train)}\")\n",
    "print(f\"Testing Data Score: {pipe.score(X_test, y_test)}\")"
   ]
  },
  {
   "cell_type": "code",
   "execution_count": 63,
   "id": "3c9ce78d-1270-495d-9b21-58702392b39b",
   "metadata": {
    "colab": {
     "base_uri": "https://localhost:8080/"
    },
    "execution": {
     "iopub.execute_input": "2023-05-02T04:11:39.601891Z",
     "iopub.status.busy": "2023-05-02T04:11:39.601222Z",
     "iopub.status.idle": "2023-05-02T04:11:39.608450Z",
     "shell.execute_reply": "2023-05-02T04:11:39.607500Z",
     "shell.execute_reply.started": "2023-05-02T04:11:39.601873Z"
    },
    "executionInfo": {
     "elapsed": 153,
     "status": "ok",
     "timestamp": 1682653309181,
     "user": {
      "displayName": "Damir Zunic",
      "userId": "07104666280721646256"
     },
     "user_tz": 240
    },
    "id": "9v9vgn2JlG8Q",
    "outputId": "cded1d67-220a-4e21-8de3-89aeae620975",
    "tags": []
   },
   "outputs": [
    {
     "name": "stdout",
     "output_type": "stream",
     "text": [
      "[[ 238  101]\n",
      " [ 195 1260]]\n"
     ]
    }
   ],
   "source": [
    "cm = confusion_matrix(y_test, y_pred)\n",
    "print(cm)"
   ]
  },
  {
   "cell_type": "code",
   "execution_count": 64,
   "id": "af2ced4e-fb8e-4949-9926-876782cf9d37",
   "metadata": {
    "colab": {
     "base_uri": "https://localhost:8080/",
     "height": 315
    },
    "execution": {
     "iopub.execute_input": "2023-05-02T04:11:47.421118Z",
     "iopub.status.busy": "2023-05-02T04:11:47.420823Z",
     "iopub.status.idle": "2023-05-02T04:11:47.838891Z",
     "shell.execute_reply": "2023-05-02T04:11:47.837960Z",
     "shell.execute_reply.started": "2023-05-02T04:11:47.421099Z"
    },
    "executionInfo": {
     "elapsed": 633,
     "status": "ok",
     "timestamp": 1682653319716,
     "user": {
      "displayName": "Damir Zunic",
      "userId": "07104666280721646256"
     },
     "user_tz": 240
    },
    "id": "xfNY_4_dlG8Q",
    "outputId": "89d08fb2-a0b1-40ad-8316-dc455baaae51",
    "tags": []
   },
   "outputs": [
    {
     "data": {
      "image/png": "[encoded data removed]",
      "text/plain": [
       "<Figure size 864x288 with 4 Axes>"
      ]
     },
     "metadata": {},
     "output_type": "display_data"
    }
   ],
   "source": [
    "# Plot confusion matrix and its normalized version.\n",
    "mu.plot_cm_unnorm_and_norm('Neural Network #1', y_test, y_pred, target_names, 'Reds')"
   ]
  },
  {
   "cell_type": "code",
   "execution_count": 65,
   "id": "4e41ec7a-c167-4c5d-bb1e-45ec4b6998af",
   "metadata": {
    "colab": {
     "base_uri": "https://localhost:8080/"
    },
    "execution": {
     "iopub.execute_input": "2023-05-02T04:12:20.274957Z",
     "iopub.status.busy": "2023-05-02T04:12:20.274678Z",
     "iopub.status.idle": "2023-05-02T04:12:20.289227Z",
     "shell.execute_reply": "2023-05-02T04:12:20.287943Z",
     "shell.execute_reply.started": "2023-05-02T04:12:20.274937Z"
    },
    "executionInfo": {
     "elapsed": 158,
     "status": "ok",
     "timestamp": 1682653336935,
     "user": {
      "displayName": "Damir Zunic",
      "userId": "07104666280721646256"
     },
     "user_tz": 240
    },
    "id": "IyffOeOYlG8Q",
    "outputId": "2cbed5fe-5845-4a86-8147-2fa7626b869e",
    "tags": []
   },
   "outputs": [
    {
     "name": "stdout",
     "output_type": "stream",
     "text": [
      "              precision    recall  f1-score   support\n",
      "\n",
      "         hem       0.55      0.70      0.62       339\n",
      "         all       0.93      0.87      0.89      1455\n",
      "\n",
      "    accuracy                           0.84      1794\n",
      "   macro avg       0.74      0.78      0.76      1794\n",
      "weighted avg       0.85      0.84      0.84      1794\n",
      "\n"
     ]
    }
   ],
   "source": [
    "print(classification_report(y_test, y_pred, target_names=target_names))"
   ]
  },
  {
   "cell_type": "markdown",
   "id": "6a9aba65-e6a2-4c64-8d6c-5961a2120e08",
   "metadata": {},
   "source": [
    "# Hyperparameter Tuning"
   ]
  },
  {
   "cell_type": "code",
   "execution_count": 99,
   "id": "e7105464-9cb8-42d5-b7a4-c2d10c454ec6",
   "metadata": {
    "execution": {
     "iopub.execute_input": "2023-05-03T10:38:17.847641Z",
     "iopub.status.busy": "2023-05-03T10:38:17.847176Z",
     "iopub.status.idle": "2023-05-03T10:38:17.855295Z",
     "shell.execute_reply": "2023-05-03T10:38:17.853781Z",
     "shell.execute_reply.started": "2023-05-03T10:38:17.847606Z"
    },
    "tags": []
   },
   "outputs": [],
   "source": [
    "clf = KerasClassifier(\n",
    "    model=km.get_clf,\n",
    "    loss=\"binary_crossentropy\",\n",
    "    model__hidden_layer_sizes=(10, 10),\n",
    "    model__dropout=0.5,\n",
    "    batch_size=64,\n",
    "    optimizer='adam',\n",
    "    optimizer__learning_rate=0.0001,\n",
    "    epochs=100,\n",
    "    verbose=0,\n",
    "    random_state=random_state,  \n",
    ")"
   ]
  },
  {
   "cell_type": "markdown",
   "id": "b800f450-9a1a-45e5-9015-d0f28fdfb27b",
   "metadata": {},
   "source": [
    "## PCA - 1000"
   ]
  },
  {
   "cell_type": "code",
   "execution_count": 232,
   "id": "c187b03a-9298-4c6e-bc08-6bea6e981be3",
   "metadata": {
    "execution": {
     "iopub.execute_input": "2023-05-02T17:40:31.361902Z",
     "iopub.status.busy": "2023-05-02T17:40:31.361429Z",
     "iopub.status.idle": "2023-05-02T17:40:31.367602Z",
     "shell.execute_reply": "2023-05-02T17:40:31.366381Z",
     "shell.execute_reply.started": "2023-05-02T17:40:31.361879Z"
    },
    "tags": []
   },
   "outputs": [],
   "source": [
    "# Define model with pipeline\n",
    "num_pca_components = 1000\n",
    "pipe = Pipeline(\n",
    "    steps = (\n",
    "        ('scaler', MinMaxScaler()),\n",
    "        ('pca', PCA(num_pca_components)),\n",
    "        ('clf', clf)\n",
    "    )\n",
    ")"
   ]
  },
  {
   "cell_type": "markdown",
   "id": "d24f8ff3-7d3a-47f5-bf40-1a69403b35e9",
   "metadata": {
    "id": "RkQ_-axnlG8O"
   },
   "source": [
    "## Optuna Objective Function"
   ]
  },
  {
   "cell_type": "code",
   "execution_count": 233,
   "id": "2aELGNRDlG8O",
   "metadata": {
    "execution": {
     "iopub.execute_input": "2023-05-02T17:40:33.301302Z",
     "iopub.status.busy": "2023-05-02T17:40:33.300116Z",
     "iopub.status.idle": "2023-05-02T17:40:33.311082Z",
     "shell.execute_reply": "2023-05-02T17:40:33.309565Z",
     "shell.execute_reply.started": "2023-05-02T17:40:33.301277Z"
    },
    "executionInfo": {
     "elapsed": 144,
     "status": "ok",
     "timestamp": 1682640534483,
     "user": {
      "displayName": "Damir Zunic",
      "userId": "07104666280721646256"
     },
     "user_tz": 240
    },
    "id": "2aELGNRDlG8O",
    "tags": []
   },
   "outputs": [],
   "source": [
    "def objective(trial):\n",
    "    \"\"\"Define the objective function\"\"\"\n",
    "\n",
    "    n_layers = trial.suggest_int('n_layers', 1, 2) # no. of hidden layers \n",
    "    layers = []\n",
    "    for i in range(n_layers):\n",
    "        layers.append(trial.suggest_int(f\"n_units_{i+1}\", 20, 300, 20)) # no. of hidden unit\n",
    "    \n",
    "    params = {\n",
    "        'clf__epochs' : trial.suggest_int('clf__epochs', 10, 150, 10),\n",
    "        'clf__batch_size' : trial.suggest_categorical('clf__batch_size', [32, 64, 128]),\n",
    "        'clf__model__dropout' : trial.suggest_float('clf__model__dropout', 0.2, 0.6, step=0.1),\n",
    "         ###'clf__model__hidden_layer_sizes' : [(100, ), (50, 50, )],\n",
    "        'clf__optimizer__learning_rate' : trial.suggest_float('clf__optimizer__learning_rate', 1e-5, 1e-1, log=True),\n",
    "    }\n",
    "    \n",
    "    params['clf__model__hidden_layer_sizes'] = tuple(layers)\n",
    "\n",
    "    pipe.set_params(**params)\n",
    "   \n",
    "    # Fit the model\n",
    "    pipe.fit(X_train, y_train)\n",
    "\n",
    "    # Make predictions\n",
    "    y_pred = pipe.predict(X_test)\n",
    "\n",
    "    # Evaluate predictions\n",
    "    f1 = f1_score(y_test, y_pred, average='macro')\n",
    "    return f1"
   ]
  },
  {
   "cell_type": "markdown",
   "id": "d2b7f56f-e06b-44f8-bf1e-cb25e70090f0",
   "metadata": {
    "id": "UlhwpS7-lG8O"
   },
   "source": [
    "## Optuna Study"
   ]
  },
  {
   "cell_type": "code",
   "execution_count": 234,
   "id": "vOfrCTgplG8O",
   "metadata": {
    "colab": {
     "base_uri": "https://localhost:8080/"
    },
    "execution": {
     "iopub.execute_input": "2023-05-02T17:40:38.324873Z",
     "iopub.status.busy": "2023-05-02T17:40:38.323700Z",
     "iopub.status.idle": "2023-05-02T17:40:38.334947Z",
     "shell.execute_reply": "2023-05-02T17:40:38.333732Z",
     "shell.execute_reply.started": "2023-05-02T17:40:38.324827Z"
    },
    "executionInfo": {
     "elapsed": 166,
     "status": "ok",
     "timestamp": 1682640542700,
     "user": {
      "displayName": "Damir Zunic",
      "userId": "07104666280721646256"
     },
     "user_tz": 240
    },
    "id": "vOfrCTgplG8O",
    "outputId": "cfccac98-89f6-4216-acc5-ce60b43cb0e2",
    "tags": []
   },
   "outputs": [
    {
     "name": "stderr",
     "output_type": "stream",
     "text": [
      "\u001b[32m[I 2023-05-02 13:40:38,327]\u001b[0m A new study created in memory with name: no-name-f117fa98-5d2c-4096-a41c-5b2075b2c3e0\u001b[0m\n"
     ]
    }
   ],
   "source": [
    "study = optuna.create_study(direction='maximize')"
   ]
  },
  {
   "cell_type": "markdown",
   "id": "533ad18f-25e3-4144-a852-83182f821693",
   "metadata": {
    "id": "gvAvJRAIlG8P"
   },
   "source": [
    "## Optimize the Objective Function"
   ]
  },
  {
   "cell_type": "code",
   "execution_count": 235,
   "id": "TKtM3W6PbiE9",
   "metadata": {
    "colab": {
     "base_uri": "https://localhost:8080/"
    },
    "execution": {
     "iopub.execute_input": "2023-05-02T17:40:45.125101Z",
     "iopub.status.busy": "2023-05-02T17:40:45.124819Z",
     "iopub.status.idle": "2023-05-02T18:16:36.693070Z",
     "shell.execute_reply": "2023-05-02T18:16:36.692032Z",
     "shell.execute_reply.started": "2023-05-02T17:40:45.125083Z"
    },
    "executionInfo": {
     "elapsed": 5163058,
     "status": "ok",
     "timestamp": 1682645720710,
     "user": {
      "displayName": "Damir Zunic",
      "userId": "07104666280721646256"
     },
     "user_tz": 240
    },
    "id": "TKtM3W6PbiE9",
    "outputId": "3b2351f9-5101-4f6c-a9e6-e90064657ead",
    "scrolled": true,
    "tags": []
   },
   "outputs": [
    {
     "name": "stderr",
     "output_type": "stream",
     "text": [
      "\u001b[32m[I 2023-05-02 13:41:57,460]\u001b[0m Trial 0 finished with value: 0.7699587517934003 and parameters: {'n_layers': 2, 'n_units_1': 160, 'n_units_2': 260, 'clf__epochs': 130, 'clf__batch_size': 128, 'clf__model__dropout': 0.30000000000000004, 'clf__optimizer__learning_rate': 1.107038964952444e-05}. Best is trial 0 with value: 0.7699587517934003.\u001b[0m\n",
      "\u001b[32m[I 2023-05-02 13:46:06,612]\u001b[0m Trial 1 finished with value: 0.7764894891293646 and parameters: {'n_layers': 1, 'n_units_1': 200, 'clf__epochs': 120, 'clf__batch_size': 32, 'clf__model__dropout': 0.30000000000000004, 'clf__optimizer__learning_rate': 0.0013021012077270313}. Best is trial 1 with value: 0.7764894891293646.\u001b[0m\n",
      "\u001b[32m[I 2023-05-02 13:48:31,535]\u001b[0m Trial 2 finished with value: 0.1589310829817159 and parameters: {'n_layers': 2, 'n_units_1': 280, 'n_units_2': 160, 'clf__epochs': 40, 'clf__batch_size': 64, 'clf__model__dropout': 0.6, 'clf__optimizer__learning_rate': 0.05269195953407697}. Best is trial 1 with value: 0.7764894891293646.\u001b[0m\n",
      "\u001b[32m[I 2023-05-02 13:51:33,838]\u001b[0m Trial 3 finished with value: 0.771729990477316 and parameters: {'n_layers': 2, 'n_units_1': 200, 'n_units_2': 120, 'clf__epochs': 70, 'clf__batch_size': 32, 'clf__model__dropout': 0.5, 'clf__optimizer__learning_rate': 2.2206437042287367e-05}. Best is trial 1 with value: 0.7764894891293646.\u001b[0m\n",
      "\u001b[32m[I 2023-05-02 13:52:54,375]\u001b[0m Trial 4 finished with value: 0.7866415391230366 and parameters: {'n_layers': 1, 'n_units_1': 160, 'clf__epochs': 140, 'clf__batch_size': 128, 'clf__model__dropout': 0.30000000000000004, 'clf__optimizer__learning_rate': 0.00012119103223477134}. Best is trial 4 with value: 0.7866415391230366.\u001b[0m\n",
      "\u001b[32m[I 2023-05-02 13:55:10,292]\u001b[0m Trial 5 finished with value: 0.7743490838958534 and parameters: {'n_layers': 1, 'n_units_1': 20, 'clf__epochs': 80, 'clf__batch_size': 32, 'clf__model__dropout': 0.2, 'clf__optimizer__learning_rate': 0.0009240494926399731}. Best is trial 4 with value: 0.7866415391230366.\u001b[0m\n",
      "\u001b[32m[I 2023-05-02 13:57:11,864]\u001b[0m Trial 6 finished with value: 0.7839377839377839 and parameters: {'n_layers': 2, 'n_units_1': 300, 'n_units_2': 280, 'clf__epochs': 110, 'clf__batch_size': 64, 'clf__model__dropout': 0.5, 'clf__optimizer__learning_rate': 0.004380753888545817}. Best is trial 4 with value: 0.7866415391230366.\u001b[0m\n",
      "\u001b[32m[I 2023-05-02 14:01:18,632]\u001b[0m Trial 7 finished with value: 0.7817146472635241 and parameters: {'n_layers': 2, 'n_units_1': 100, 'n_units_2': 240, 'clf__epochs': 140, 'clf__batch_size': 32, 'clf__model__dropout': 0.2, 'clf__optimizer__learning_rate': 0.00041217099928472523}. Best is trial 4 with value: 0.7866415391230366.\u001b[0m\n",
      "\u001b[32m[I 2023-05-02 14:03:21,306]\u001b[0m Trial 8 finished with value: 0.44783010156971376 and parameters: {'n_layers': 1, 'n_units_1': 280, 'clf__epochs': 70, 'clf__batch_size': 32, 'clf__model__dropout': 0.4, 'clf__optimizer__learning_rate': 0.042804349021576364}. Best is trial 4 with value: 0.7866415391230366.\u001b[0m\n",
      "\u001b[32m[I 2023-05-02 14:04:04,688]\u001b[0m Trial 9 finished with value: 0.1589310829817159 and parameters: {'n_layers': 1, 'n_units_1': 300, 'clf__epochs': 20, 'clf__batch_size': 32, 'clf__model__dropout': 0.30000000000000004, 'clf__optimizer__learning_rate': 0.04905632846054847}. Best is trial 4 with value: 0.7866415391230366.\u001b[0m\n",
      "\u001b[32m[I 2023-05-02 14:05:21,868]\u001b[0m Trial 10 finished with value: 0.7809016930849628 and parameters: {'n_layers': 1, 'n_units_1': 100, 'clf__epochs': 150, 'clf__batch_size': 128, 'clf__model__dropout': 0.4, 'clf__optimizer__learning_rate': 7.055315239701063e-05}. Best is trial 4 with value: 0.7866415391230366.\u001b[0m\n",
      "\u001b[32m[I 2023-05-02 14:07:07,373]\u001b[0m Trial 11 finished with value: 0.7720832212357636 and parameters: {'n_layers': 2, 'n_units_1': 220, 'n_units_2': 20, 'clf__epochs': 110, 'clf__batch_size': 64, 'clf__model__dropout': 0.5, 'clf__optimizer__learning_rate': 0.002807196419715013}. Best is trial 4 with value: 0.7866415391230366.\u001b[0m\n",
      "\u001b[32m[I 2023-05-02 14:08:47,551]\u001b[0m Trial 12 finished with value: 0.7792410619285619 and parameters: {'n_layers': 2, 'n_units_1': 140, 'n_units_2': 300, 'clf__epochs': 100, 'clf__batch_size': 64, 'clf__model__dropout': 0.6, 'clf__optimizer__learning_rate': 0.00014373316033314176}. Best is trial 4 with value: 0.7866415391230366.\u001b[0m\n",
      "\u001b[32m[I 2023-05-02 14:09:42,782]\u001b[0m Trial 13 finished with value: 0.7829731826241135 and parameters: {'n_layers': 1, 'n_units_1': 240, 'clf__epochs': 100, 'clf__batch_size': 128, 'clf__model__dropout': 0.5, 'clf__optimizer__learning_rate': 0.005999265412071879}. Best is trial 4 with value: 0.7866415391230366.\u001b[0m\n",
      "\u001b[32m[I 2023-05-02 14:10:56,366]\u001b[0m Trial 14 finished with value: 0.7656573527623737 and parameters: {'n_layers': 1, 'n_units_1': 100, 'clf__epochs': 150, 'clf__batch_size': 128, 'clf__model__dropout': 0.4, 'clf__optimizer__learning_rate': 0.010670024049532292}. Best is trial 4 with value: 0.7866415391230366.\u001b[0m\n",
      "\u001b[32m[I 2023-05-02 14:12:52,086]\u001b[0m Trial 15 finished with value: 0.7848606693117854 and parameters: {'n_layers': 2, 'n_units_1': 20, 'n_units_2': 200, 'clf__epochs': 120, 'clf__batch_size': 64, 'clf__model__dropout': 0.5, 'clf__optimizer__learning_rate': 0.00033174550096407387}. Best is trial 4 with value: 0.7866415391230366.\u001b[0m\n",
      "\u001b[32m[I 2023-05-02 14:13:54,389]\u001b[0m Trial 16 finished with value: 0.7592245953657042 and parameters: {'n_layers': 1, 'n_units_1': 20, 'clf__epochs': 130, 'clf__batch_size': 128, 'clf__model__dropout': 0.30000000000000004, 'clf__optimizer__learning_rate': 0.00020940606817332938}. Best is trial 4 with value: 0.7866415391230366.\u001b[0m\n",
      "\u001b[32m[I 2023-05-02 14:14:49,370]\u001b[0m Trial 17 finished with value: 0.7673382513369391 and parameters: {'n_layers': 2, 'n_units_1': 60, 'n_units_2': 100, 'clf__epochs': 50, 'clf__batch_size': 64, 'clf__model__dropout': 0.6, 'clf__optimizer__learning_rate': 5.519374448142228e-05}. Best is trial 4 with value: 0.7866415391230366.\u001b[0m\n",
      "\u001b[32m[I 2023-05-02 14:16:20,890]\u001b[0m Trial 18 finished with value: 0.7949774963973747 and parameters: {'n_layers': 2, 'n_units_1': 60, 'n_units_2': 200, 'clf__epochs': 90, 'clf__batch_size': 128, 'clf__model__dropout': 0.2, 'clf__optimizer__learning_rate': 0.0005237263487579308}. Best is trial 18 with value: 0.7949774963973747.\u001b[0m\n",
      "\u001b[32m[I 2023-05-02 14:16:36,689]\u001b[0m Trial 19 finished with value: 0.7782287807840118 and parameters: {'n_layers': 1, 'n_units_1': 60, 'clf__epochs': 10, 'clf__batch_size': 128, 'clf__model__dropout': 0.2, 'clf__optimizer__learning_rate': 0.0005296319552302403}. Best is trial 18 with value: 0.7949774963973747.\u001b[0m\n"
     ]
    }
   ],
   "source": [
    "study.optimize(objective, n_trials=20)"
   ]
  },
  {
   "cell_type": "code",
   "execution_count": 255,
   "id": "0088a018-6230-45ec-ac6b-a58568d3cf23",
   "metadata": {
    "execution": {
     "iopub.execute_input": "2023-05-02T19:23:23.132025Z",
     "iopub.status.busy": "2023-05-02T19:23:23.131685Z",
     "iopub.status.idle": "2023-05-02T19:41:27.452779Z",
     "shell.execute_reply": "2023-05-02T19:41:27.451613Z",
     "shell.execute_reply.started": "2023-05-02T19:23:23.132004Z"
    },
    "scrolled": true,
    "tags": []
   },
   "outputs": [
    {
     "name": "stderr",
     "output_type": "stream",
     "text": [
      "\u001b[32m[I 2023-05-02 15:24:13,169]\u001b[0m Trial 20 finished with value: 0.7741751957535412 and parameters: {'n_layers': 2, 'n_units_1': 140, 'n_units_2': 200, 'clf__epochs': 80, 'clf__batch_size': 128, 'clf__model__dropout': 0.2, 'clf__optimizer__learning_rate': 8.227330700980922e-05}. Best is trial 18 with value: 0.7949774963973747.\u001b[0m\n",
      "\u001b[32m[I 2023-05-02 15:25:13,474]\u001b[0m Trial 21 finished with value: 0.7861205330740119 and parameters: {'n_layers': 2, 'n_units_1': 60, 'n_units_2': 200, 'clf__epochs': 90, 'clf__batch_size': 128, 'clf__model__dropout': 0.30000000000000004, 'clf__optimizer__learning_rate': 0.000269158721551291}. Best is trial 18 with value: 0.7949774963973747.\u001b[0m\n",
      "\u001b[32m[I 2023-05-02 15:26:24,238]\u001b[0m Trial 22 finished with value: 0.7792168593526829 and parameters: {'n_layers': 2, 'n_units_1': 60, 'n_units_2': 200, 'clf__epochs': 90, 'clf__batch_size': 128, 'clf__model__dropout': 0.30000000000000004, 'clf__optimizer__learning_rate': 0.00015441934264914028}. Best is trial 18 with value: 0.7949774963973747.\u001b[0m\n",
      "\u001b[32m[I 2023-05-02 15:27:04,041]\u001b[0m Trial 23 finished with value: 0.7844345213931965 and parameters: {'n_layers': 2, 'n_units_1': 80, 'n_units_2': 120, 'clf__epochs': 50, 'clf__batch_size': 128, 'clf__model__dropout': 0.2, 'clf__optimizer__learning_rate': 0.0008395451270798781}. Best is trial 18 with value: 0.7949774963973747.\u001b[0m\n",
      "\u001b[32m[I 2023-05-02 15:27:58,692]\u001b[0m Trial 24 finished with value: 0.7627594784697204 and parameters: {'n_layers': 2, 'n_units_1': 140, 'n_units_2': 160, 'clf__epochs': 70, 'clf__batch_size': 128, 'clf__model__dropout': 0.30000000000000004, 'clf__optimizer__learning_rate': 0.000257114218876315}. Best is trial 18 with value: 0.7949774963973747.\u001b[0m\n",
      "\u001b[32m[I 2023-05-02 15:29:02,377]\u001b[0m Trial 25 finished with value: 0.8003149201452489 and parameters: {'n_layers': 2, 'n_units_1': 40, 'n_units_2': 240, 'clf__epochs': 100, 'clf__batch_size': 128, 'clf__model__dropout': 0.4, 'clf__optimizer__learning_rate': 0.0005366554542437141}. Best is trial 25 with value: 0.8003149201452489.\u001b[0m\n",
      "\u001b[32m[I 2023-05-02 15:30:09,995]\u001b[0m Trial 26 finished with value: 0.771685656902193 and parameters: {'n_layers': 1, 'n_units_1': 40, 'clf__epochs': 130, 'clf__batch_size': 128, 'clf__model__dropout': 0.4, 'clf__optimizer__learning_rate': 0.0014977988555659255}. Best is trial 25 with value: 0.8003149201452489.\u001b[0m\n",
      "\u001b[32m[I 2023-05-02 15:31:12,016]\u001b[0m Trial 27 finished with value: 0.7831422906060256 and parameters: {'n_layers': 2, 'n_units_1': 100, 'n_units_2': 240, 'clf__epochs': 100, 'clf__batch_size': 128, 'clf__model__dropout': 0.4, 'clf__optimizer__learning_rate': 0.0004836893262920479}. Best is trial 25 with value: 0.8003149201452489.\u001b[0m\n",
      "\u001b[32m[I 2023-05-02 15:31:51,072]\u001b[0m Trial 28 finished with value: 0.7866415391230366 and parameters: {'n_layers': 1, 'n_units_1': 120, 'clf__epochs': 60, 'clf__batch_size': 128, 'clf__model__dropout': 0.2, 'clf__optimizer__learning_rate': 0.00010435897923030335}. Best is trial 25 with value: 0.8003149201452489.\u001b[0m\n",
      "\u001b[32m[I 2023-05-02 15:33:04,269]\u001b[0m Trial 29 finished with value: 0.7590372965626515 and parameters: {'n_layers': 2, 'n_units_1': 180, 'n_units_2': 20, 'clf__epochs': 130, 'clf__batch_size': 128, 'clf__model__dropout': 0.30000000000000004, 'clf__optimizer__learning_rate': 3.990730381161057e-05}. Best is trial 25 with value: 0.8003149201452489.\u001b[0m\n",
      "\u001b[32m[I 2023-05-02 15:34:20,891]\u001b[0m Trial 30 finished with value: 0.7694436291979372 and parameters: {'n_layers': 2, 'n_units_1': 160, 'n_units_2': 160, 'clf__epochs': 110, 'clf__batch_size': 128, 'clf__model__dropout': 0.2, 'clf__optimizer__learning_rate': 1.8598948064148614e-05}. Best is trial 25 with value: 0.8003149201452489.\u001b[0m\n",
      "\u001b[32m[I 2023-05-02 15:34:58,231]\u001b[0m Trial 31 finished with value: 0.7774168259212717 and parameters: {'n_layers': 1, 'n_units_1': 120, 'clf__epochs': 50, 'clf__batch_size': 128, 'clf__model__dropout': 0.2, 'clf__optimizer__learning_rate': 0.00013125013437403742}. Best is trial 25 with value: 0.8003149201452489.\u001b[0m\n",
      "\u001b[32m[I 2023-05-02 15:36:06,344]\u001b[0m Trial 32 finished with value: 0.7800766634037453 and parameters: {'n_layers': 1, 'n_units_1': 160, 'clf__epochs': 60, 'clf__batch_size': 128, 'clf__model__dropout': 0.30000000000000004, 'clf__optimizer__learning_rate': 0.000132230430516341}. Best is trial 25 with value: 0.8003149201452489.\u001b[0m\n",
      "\u001b[32m[I 2023-05-02 15:36:39,657]\u001b[0m Trial 33 finished with value: 0.792820900118784 and parameters: {'n_layers': 1, 'n_units_1': 80, 'clf__epochs': 30, 'clf__batch_size': 128, 'clf__model__dropout': 0.2, 'clf__optimizer__learning_rate': 0.0006144015201730061}. Best is trial 25 with value: 0.8003149201452489.\u001b[0m\n",
      "\u001b[32m[I 2023-05-02 15:37:17,488]\u001b[0m Trial 34 finished with value: 0.7918877186236399 and parameters: {'n_layers': 1, 'n_units_1': 40, 'clf__epochs': 30, 'clf__batch_size': 128, 'clf__model__dropout': 0.2, 'clf__optimizer__learning_rate': 0.0006134899646620318}. Best is trial 25 with value: 0.8003149201452489.\u001b[0m\n",
      "\u001b[32m[I 2023-05-02 15:37:45,351]\u001b[0m Trial 35 finished with value: 0.7916510742628556 and parameters: {'n_layers': 1, 'n_units_1': 40, 'clf__epochs': 30, 'clf__batch_size': 128, 'clf__model__dropout': 0.2, 'clf__optimizer__learning_rate': 0.000673263856818899}. Best is trial 25 with value: 0.8003149201452489.\u001b[0m\n",
      "\u001b[32m[I 2023-05-02 15:38:13,506]\u001b[0m Trial 36 finished with value: 0.7852758764741798 and parameters: {'n_layers': 1, 'n_units_1': 40, 'clf__epochs': 30, 'clf__batch_size': 128, 'clf__model__dropout': 0.2, 'clf__optimizer__learning_rate': 0.0015258864902594508}. Best is trial 25 with value: 0.8003149201452489.\u001b[0m\n",
      "\u001b[32m[I 2023-05-02 15:38:36,890]\u001b[0m Trial 37 finished with value: 0.7755873821609862 and parameters: {'n_layers': 1, 'n_units_1': 80, 'clf__epochs': 10, 'clf__batch_size': 128, 'clf__model__dropout': 0.2, 'clf__optimizer__learning_rate': 0.0010797520906598282}. Best is trial 25 with value: 0.8003149201452489.\u001b[0m\n",
      "\u001b[32m[I 2023-05-02 15:40:07,534]\u001b[0m Trial 38 finished with value: 0.8003149201452489 and parameters: {'n_layers': 2, 'n_units_1': 80, 'n_units_2': 240, 'clf__epochs': 40, 'clf__batch_size': 32, 'clf__model__dropout': 0.30000000000000004, 'clf__optimizer__learning_rate': 0.000456709853809378}. Best is trial 25 with value: 0.8003149201452489.\u001b[0m\n",
      "\u001b[32m[I 2023-05-02 15:41:27,448]\u001b[0m Trial 39 finished with value: 0.769769110896973 and parameters: {'n_layers': 2, 'n_units_1': 80, 'n_units_2': 240, 'clf__epochs': 40, 'clf__batch_size': 32, 'clf__model__dropout': 0.30000000000000004, 'clf__optimizer__learning_rate': 0.0003870801728170388}. Best is trial 25 with value: 0.8003149201452489.\u001b[0m\n"
     ]
    }
   ],
   "source": [
    "study.optimize(objective, n_trials=20)"
   ]
  },
  {
   "cell_type": "code",
   "execution_count": 269,
   "id": "2b77d4af-ec54-4c3b-a286-d9e67d32c1ca",
   "metadata": {
    "execution": {
     "iopub.execute_input": "2023-05-02T19:51:30.565488Z",
     "iopub.status.busy": "2023-05-02T19:51:30.565199Z",
     "iopub.status.idle": "2023-05-02T20:10:54.684606Z",
     "shell.execute_reply": "2023-05-02T20:10:54.683232Z",
     "shell.execute_reply.started": "2023-05-02T19:51:30.565470Z"
    },
    "scrolled": true,
    "tags": []
   },
   "outputs": [
    {
     "name": "stderr",
     "output_type": "stream",
     "text": [
      "\u001b[32m[I 2023-05-02 15:54:05,937]\u001b[0m Trial 40 finished with value: 0.7794205794205795 and parameters: {'n_layers': 2, 'n_units_1': 80, 'n_units_2': 220, 'clf__epochs': 80, 'clf__batch_size': 32, 'clf__model__dropout': 0.30000000000000004, 'clf__optimizer__learning_rate': 0.002031131873317851}. Best is trial 25 with value: 0.8003149201452489.\u001b[0m\n",
      "\u001b[32m[I 2023-05-02 15:55:09,509]\u001b[0m Trial 41 finished with value: 0.7786215971016408 and parameters: {'n_layers': 2, 'n_units_1': 40, 'n_units_2': 300, 'clf__epochs': 30, 'clf__batch_size': 32, 'clf__model__dropout': 0.2, 'clf__optimizer__learning_rate': 0.0006882900411043679}. Best is trial 25 with value: 0.8003149201452489.\u001b[0m\n",
      "\u001b[32m[I 2023-05-02 15:56:09,532]\u001b[0m Trial 42 finished with value: 0.787091895313236 and parameters: {'n_layers': 2, 'n_units_1': 20, 'n_units_2': 260, 'clf__epochs': 20, 'clf__batch_size': 32, 'clf__model__dropout': 0.2, 'clf__optimizer__learning_rate': 0.0008677591548066226}. Best is trial 25 with value: 0.8003149201452489.\u001b[0m\n",
      "\u001b[32m[I 2023-05-02 15:57:26,028]\u001b[0m Trial 43 finished with value: 0.7746473665723845 and parameters: {'n_layers': 2, 'n_units_1': 40, 'n_units_2': 180, 'clf__epochs': 40, 'clf__batch_size': 32, 'clf__model__dropout': 0.30000000000000004, 'clf__optimizer__learning_rate': 0.00043283913697170933}. Best is trial 25 with value: 0.8003149201452489.\u001b[0m\n",
      "\u001b[32m[I 2023-05-02 15:58:10,325]\u001b[0m Trial 44 finished with value: 0.7677228475562388 and parameters: {'n_layers': 2, 'n_units_1': 60, 'n_units_2': 260, 'clf__epochs': 20, 'clf__batch_size': 32, 'clf__model__dropout': 0.4, 'clf__optimizer__learning_rate': 0.00020581320912367387}. Best is trial 25 with value: 0.8003149201452489.\u001b[0m\n",
      "\u001b[32m[I 2023-05-02 15:58:38,615]\u001b[0m Trial 45 finished with value: 0.7858437601582343 and parameters: {'n_layers': 1, 'n_units_1': 120, 'clf__epochs': 40, 'clf__batch_size': 128, 'clf__model__dropout': 0.2, 'clf__optimizer__learning_rate': 0.0005931412296668719}. Best is trial 25 with value: 0.8003149201452489.\u001b[0m\n",
      "\u001b[32m[I 2023-05-02 16:00:05,361]\u001b[0m Trial 46 finished with value: 0.7871349539474659 and parameters: {'n_layers': 2, 'n_units_1': 80, 'n_units_2': 220, 'clf__epochs': 90, 'clf__batch_size': 64, 'clf__model__dropout': 0.2, 'clf__optimizer__learning_rate': 0.00030649865642914394}. Best is trial 25 with value: 0.8003149201452489.\u001b[0m\n",
      "\u001b[32m[I 2023-05-02 16:02:06,254]\u001b[0m Trial 47 finished with value: 0.7678084776319651 and parameters: {'n_layers': 1, 'n_units_1': 40, 'clf__epochs': 70, 'clf__batch_size': 32, 'clf__model__dropout': 0.4, 'clf__optimizer__learning_rate': 0.0011421281202630886}. Best is trial 25 with value: 0.8003149201452489.\u001b[0m\n",
      "\u001b[32m[I 2023-05-02 16:02:43,441]\u001b[0m Trial 48 finished with value: 0.7822802063785852 and parameters: {'n_layers': 2, 'n_units_1': 20, 'n_units_2': 60, 'clf__epochs': 60, 'clf__batch_size': 128, 'clf__model__dropout': 0.30000000000000004, 'clf__optimizer__learning_rate': 0.0021312597039128923}. Best is trial 25 with value: 0.8003149201452489.\u001b[0m\n",
      "\u001b[32m[I 2023-05-02 16:03:07,123]\u001b[0m Trial 49 finished with value: 0.7835419782681446 and parameters: {'n_layers': 1, 'n_units_1': 60, 'clf__epochs': 30, 'clf__batch_size': 128, 'clf__model__dropout': 0.5, 'clf__optimizer__learning_rate': 0.00037557529095272297}. Best is trial 25 with value: 0.8003149201452489.\u001b[0m\n",
      "\u001b[32m[I 2023-05-02 16:03:44,546]\u001b[0m Trial 50 finished with value: 0.7763963288596465 and parameters: {'n_layers': 2, 'n_units_1': 100, 'n_units_2': 280, 'clf__epochs': 20, 'clf__batch_size': 64, 'clf__model__dropout': 0.2, 'clf__optimizer__learning_rate': 0.000646950776074279}. Best is trial 25 with value: 0.8003149201452489.\u001b[0m\n",
      "\u001b[32m[I 2023-05-02 16:04:12,955]\u001b[0m Trial 51 finished with value: 0.7848457696929285 and parameters: {'n_layers': 1, 'n_units_1': 40, 'clf__epochs': 30, 'clf__batch_size': 128, 'clf__model__dropout': 0.2, 'clf__optimizer__learning_rate': 0.0008169542698075483}. Best is trial 25 with value: 0.8003149201452489.\u001b[0m\n",
      "\u001b[32m[I 2023-05-02 16:04:31,462]\u001b[0m Trial 52 finished with value: 0.7859168428470753 and parameters: {'n_layers': 1, 'n_units_1': 20, 'clf__epochs': 10, 'clf__batch_size': 128, 'clf__model__dropout': 0.2, 'clf__optimizer__learning_rate': 0.000587729898421614}. Best is trial 25 with value: 0.8003149201452489.\u001b[0m\n",
      "\u001b[32m[I 2023-05-02 16:05:02,712]\u001b[0m Trial 53 finished with value: 0.795940591290079 and parameters: {'n_layers': 1, 'n_units_1': 60, 'clf__epochs': 40, 'clf__batch_size': 128, 'clf__model__dropout': 0.2, 'clf__optimizer__learning_rate': 0.0012105075146267028}. Best is trial 25 with value: 0.8003149201452489.\u001b[0m\n",
      "\u001b[32m[I 2023-05-02 16:05:55,707]\u001b[0m Trial 54 finished with value: 0.7986106525442755 and parameters: {'n_layers': 1, 'n_units_1': 60, 'clf__epochs': 40, 'clf__batch_size': 128, 'clf__model__dropout': 0.2, 'clf__optimizer__learning_rate': 0.0012024100458963522}. Best is trial 25 with value: 0.8003149201452489.\u001b[0m\n",
      "\u001b[32m[I 2023-05-02 16:06:35,692]\u001b[0m Trial 55 finished with value: 0.79432544763657 and parameters: {'n_layers': 1, 'n_units_1': 80, 'clf__epochs': 40, 'clf__batch_size': 128, 'clf__model__dropout': 0.30000000000000004, 'clf__optimizer__learning_rate': 0.0012482516389279391}. Best is trial 25 with value: 0.8003149201452489.\u001b[0m\n",
      "\u001b[32m[I 2023-05-02 16:07:13,433]\u001b[0m Trial 56 finished with value: 0.7949869521931554 and parameters: {'n_layers': 1, 'n_units_1': 60, 'clf__epochs': 50, 'clf__batch_size': 128, 'clf__model__dropout': 0.30000000000000004, 'clf__optimizer__learning_rate': 0.0012237418929822884}. Best is trial 25 with value: 0.8003149201452489.\u001b[0m\n",
      "\u001b[32m[I 2023-05-02 16:08:45,561]\u001b[0m Trial 57 finished with value: 0.7856886871341535 and parameters: {'n_layers': 1, 'n_units_1': 60, 'clf__epochs': 50, 'clf__batch_size': 32, 'clf__model__dropout': 0.4, 'clf__optimizer__learning_rate': 0.003555119104651122}. Best is trial 25 with value: 0.8003149201452489.\u001b[0m\n",
      "\u001b[32m[I 2023-05-02 16:09:42,411]\u001b[0m Trial 58 finished with value: 0.7817146472635241 and parameters: {'n_layers': 2, 'n_units_1': 260, 'n_units_2': 220, 'clf__epochs': 90, 'clf__batch_size': 128, 'clf__model__dropout': 0.30000000000000004, 'clf__optimizer__learning_rate': 0.001777736717536826}. Best is trial 25 with value: 0.8003149201452489.\u001b[0m\n",
      "\u001b[32m[I 2023-05-02 16:10:54,680]\u001b[0m Trial 59 finished with value: 0.7852758764741798 and parameters: {'n_layers': 1, 'n_units_1': 60, 'clf__epochs': 70, 'clf__batch_size': 64, 'clf__model__dropout': 0.5, 'clf__optimizer__learning_rate': 0.0026330221033739622}. Best is trial 25 with value: 0.8003149201452489.\u001b[0m\n"
     ]
    }
   ],
   "source": [
    "study.optimize(objective, n_trials=20)"
   ]
  },
  {
   "cell_type": "markdown",
   "id": "b0b356a1-2a61-4603-b3d6-64b189ed87a9",
   "metadata": {
    "id": "rPMCn7GolG8P"
   },
   "source": [
    "## Best Parameters"
   ]
  },
  {
   "cell_type": "code",
   "execution_count": 270,
   "id": "pcFYqAcakavV",
   "metadata": {
    "colab": {
     "base_uri": "https://localhost:8080/"
    },
    "execution": {
     "iopub.execute_input": "2023-05-02T20:17:37.802632Z",
     "iopub.status.busy": "2023-05-02T20:17:37.802016Z",
     "iopub.status.idle": "2023-05-02T20:17:37.815837Z",
     "shell.execute_reply": "2023-05-02T20:17:37.814678Z",
     "shell.execute_reply.started": "2023-05-02T20:17:37.802608Z"
    },
    "executionInfo": {
     "elapsed": 174,
     "status": "ok",
     "timestamp": 1682711827757,
     "user": {
      "displayName": "Damir Zunic",
      "userId": "07104666280721646256"
     },
     "user_tz": 240
    },
    "id": "pcFYqAcakavV",
    "outputId": "164c3403-8b13-48a1-aaf0-967c8554bad9",
    "tags": []
   },
   "outputs": [
    {
     "name": "stdout",
     "output_type": "stream",
     "text": [
      "Number of finished trials: 60\n",
      "Best trial:\n",
      "  Value: 0.8003149201452489\n",
      "  Params: \n",
      "    n_layers: 2\n",
      "    n_units_1: 40\n",
      "    n_units_2: 240\n",
      "    clf__epochs: 100\n",
      "    clf__batch_size: 128\n",
      "    clf__model__dropout: 0.4\n",
      "    clf__optimizer__learning_rate: 0.0005366554542437141\n"
     ]
    }
   ],
   "source": [
    "print(f'Number of finished trials: {len(study.trials)}')\n",
    "print('Best trial:')\n",
    "trial = study.best_trial\n",
    "\n",
    "print(f'  Value: {trial.value}')\n",
    "print('  Params: ')\n",
    "\n",
    "for key, value in trial.params.items():\n",
    "    print(f'    {key}: {value}')"
   ]
  },
  {
   "cell_type": "markdown",
   "id": "05369a13-e496-4eac-bffa-7d2d6cb8c4e7",
   "metadata": {
    "id": "wdBWzR64kavV"
   },
   "source": [
    "## Re-fit the model"
   ]
  },
  {
   "cell_type": "code",
   "execution_count": 257,
   "id": "0chjzXrXkavW",
   "metadata": {
    "colab": {
     "base_uri": "https://localhost:8080/"
    },
    "execution": {
     "iopub.execute_input": "2023-05-02T19:42:28.288575Z",
     "iopub.status.busy": "2023-05-02T19:42:28.288282Z",
     "iopub.status.idle": "2023-05-02T19:42:28.294627Z",
     "shell.execute_reply": "2023-05-02T19:42:28.293826Z",
     "shell.execute_reply.started": "2023-05-02T19:42:28.288555Z"
    },
    "executionInfo": {
     "elapsed": 153,
     "status": "ok",
     "timestamp": 1682711839306,
     "user": {
      "displayName": "Damir Zunic",
      "userId": "07104666280721646256"
     },
     "user_tz": 240
    },
    "id": "0chjzXrXkavW",
    "outputId": "b2830790-1fac-465d-c730-75beb6cc3fc4",
    "tags": []
   },
   "outputs": [
    {
     "data": {
      "text/plain": [
       "{'n_layers': 2,\n",
       " 'n_units_1': 40,\n",
       " 'n_units_2': 240,\n",
       " 'clf__epochs': 100,\n",
       " 'clf__batch_size': 128,\n",
       " 'clf__model__dropout': 0.4,\n",
       " 'clf__optimizer__learning_rate': 0.0005366554542437141}"
      ]
     },
     "execution_count": 257,
     "metadata": {},
     "output_type": "execute_result"
    }
   ],
   "source": [
    "params_t = trial.params\n",
    "params_t"
   ]
  },
  {
   "cell_type": "code",
   "execution_count": 258,
   "id": "c81a229a-5e46-45e1-a74b-cdfb9b6d2afe",
   "metadata": {
    "execution": {
     "iopub.execute_input": "2023-05-02T19:42:42.124890Z",
     "iopub.status.busy": "2023-05-02T19:42:42.124540Z",
     "iopub.status.idle": "2023-05-02T19:42:42.131576Z",
     "shell.execute_reply": "2023-05-02T19:42:42.130658Z",
     "shell.execute_reply.started": "2023-05-02T19:42:42.124869Z"
    },
    "tags": []
   },
   "outputs": [
    {
     "data": {
      "text/plain": [
       "{'clf__epochs': 100,\n",
       " 'clf__batch_size': 128,\n",
       " 'clf__model__dropout': 0.4,\n",
       " 'clf__optimizer__learning_rate': 0.0005366554542437141}"
      ]
     },
     "execution_count": 258,
     "metadata": {},
     "output_type": "execute_result"
    }
   ],
   "source": [
    "### params = {k:v for k,v in params_t.items() if k.startswith('clf')}\n",
    "params = {k:v for k,v in params_t.items() if '__' in k}\n",
    "params"
   ]
  },
  {
   "cell_type": "code",
   "execution_count": 259,
   "id": "f0dd7e42-b457-4f12-aed3-986c9080e8ee",
   "metadata": {
    "execution": {
     "iopub.execute_input": "2023-05-02T19:42:57.648967Z",
     "iopub.status.busy": "2023-05-02T19:42:57.648467Z",
     "iopub.status.idle": "2023-05-02T19:42:57.655031Z",
     "shell.execute_reply": "2023-05-02T19:42:57.654065Z",
     "shell.execute_reply.started": "2023-05-02T19:42:57.648944Z"
    },
    "tags": []
   },
   "outputs": [
    {
     "data": {
      "text/plain": [
       "{'clf__epochs': 100,\n",
       " 'clf__batch_size': 128,\n",
       " 'clf__model__dropout': 0.4,\n",
       " 'clf__optimizer__learning_rate': 0.0005366554542437141,\n",
       " 'clf__model__hidden_layer_sizes': (40, 240)}"
      ]
     },
     "execution_count": 259,
     "metadata": {},
     "output_type": "execute_result"
    }
   ],
   "source": [
    "if 'n_units_2' in params_t:\n",
    "    params['clf__model__hidden_layer_sizes'] = (params_t['n_units_1'], params_t['n_units_2'])\n",
    "else:\n",
    "    params['clf__model__hidden_layer_sizes'] = (params_t['n_units_1'],)\n",
    "    \n",
    "params"
   ]
  },
  {
   "cell_type": "code",
   "execution_count": 260,
   "id": "a407fc61-8065-46c5-8386-f846c9acc16c",
   "metadata": {
    "execution": {
     "iopub.execute_input": "2023-05-02T19:45:06.878264Z",
     "iopub.status.busy": "2023-05-02T19:45:06.877914Z",
     "iopub.status.idle": "2023-05-02T19:46:15.067925Z",
     "shell.execute_reply": "2023-05-02T19:46:15.067065Z",
     "shell.execute_reply.started": "2023-05-02T19:45:06.878244Z"
    },
    "tags": []
   },
   "outputs": [
    {
     "data": {
      "text/html": [
       "<style>#sk-container-id-14 {color: black;background-color: white;}#sk-container-id-14 pre{padding: 0;}#sk-container-id-14 div.sk-toggleable {background-color: white;}#sk-container-id-14 label.sk-toggleable__label {cursor: pointer;display: block;width: 100%;margin-bottom: 0;padding: 0.3em;box-sizing: border-box;text-align: center;}#sk-container-id-14 label.sk-toggleable__label-arrow:before {content: \"▸\";float: left;margin-right: 0.25em;color: #696969;}#sk-container-id-14 label.sk-toggleable__label-arrow:hover:before {color: black;}#sk-container-id-14 div.sk-estimator:hover label.sk-toggleable__label-arrow:before {color: black;}#sk-container-id-14 div.sk-toggleable__content {max-height: 0;max-width: 0;overflow: hidden;text-align: left;background-color: #f0f8ff;}#sk-container-id-14 div.sk-toggleable__content pre {margin: 0.2em;color: black;border-radius: 0.25em;background-color: #f0f8ff;}#sk-container-id-14 input.sk-toggleable__control:checked~div.sk-toggleable__content {max-height: 200px;max-width: 100%;overflow: auto;}#sk-container-id-14 input.sk-toggleable__control:checked~label.sk-toggleable__label-arrow:before {content: \"▾\";}#sk-container-id-14 div.sk-estimator input.sk-toggleable__control:checked~label.sk-toggleable__label {background-color: #d4ebff;}#sk-container-id-14 div.sk-label input.sk-toggleable__control:checked~label.sk-toggleable__label {background-color: #d4ebff;}#sk-container-id-14 input.sk-hidden--visually {border: 0;clip: rect(1px 1px 1px 1px);clip: rect(1px, 1px, 1px, 1px);height: 1px;margin: -1px;overflow: hidden;padding: 0;position: absolute;width: 1px;}#sk-container-id-14 div.sk-estimator {font-family: monospace;background-color: #f0f8ff;border: 1px dotted black;border-radius: 0.25em;box-sizing: border-box;margin-bottom: 0.5em;}#sk-container-id-14 div.sk-estimator:hover {background-color: #d4ebff;}#sk-container-id-14 div.sk-parallel-item::after {content: \"\";width: 100%;border-bottom: 1px solid gray;flex-grow: 1;}#sk-container-id-14 div.sk-label:hover label.sk-toggleable__label {background-color: #d4ebff;}#sk-container-id-14 div.sk-serial::before {content: \"\";position: absolute;border-left: 1px solid gray;box-sizing: border-box;top: 0;bottom: 0;left: 50%;z-index: 0;}#sk-container-id-14 div.sk-serial {display: flex;flex-direction: column;align-items: center;background-color: white;padding-right: 0.2em;padding-left: 0.2em;position: relative;}#sk-container-id-14 div.sk-item {position: relative;z-index: 1;}#sk-container-id-14 div.sk-parallel {display: flex;align-items: stretch;justify-content: center;background-color: white;position: relative;}#sk-container-id-14 div.sk-item::before, #sk-container-id-14 div.sk-parallel-item::before {content: \"\";position: absolute;border-left: 1px solid gray;box-sizing: border-box;top: 0;bottom: 0;left: 50%;z-index: -1;}#sk-container-id-14 div.sk-parallel-item {display: flex;flex-direction: column;z-index: 1;position: relative;background-color: white;}#sk-container-id-14 div.sk-parallel-item:first-child::after {align-self: flex-end;width: 50%;}#sk-container-id-14 div.sk-parallel-item:last-child::after {align-self: flex-start;width: 50%;}#sk-container-id-14 div.sk-parallel-item:only-child::after {width: 0;}#sk-container-id-14 div.sk-dashed-wrapped {border: 1px dashed gray;margin: 0 0.4em 0.5em 0.4em;box-sizing: border-box;padding-bottom: 0.4em;background-color: white;}#sk-container-id-14 div.sk-label label {font-family: monospace;font-weight: bold;display: inline-block;line-height: 1.2em;}#sk-container-id-14 div.sk-label-container {text-align: center;}#sk-container-id-14 div.sk-container {/* jupyter's `normalize.less` sets `[hidden] { display: none; }` but bootstrap.min.css set `[hidden] { display: none !important; }` so we also need the `!important` here to be able to override the default hidden behavior on the sphinx rendered scikit-learn.org. See: https://github.com/scikit-learn/scikit-learn/issues/21755 */display: inline-block !important;position: relative;}#sk-container-id-14 div.sk-text-repr-fallback {display: none;}</style><div id=\"sk-container-id-14\" class=\"sk-top-container\"><div class=\"sk-text-repr-fallback\"><pre>Pipeline(steps=[(&#x27;scaler&#x27;, MinMaxScaler()), (&#x27;pca&#x27;, PCA(n_components=1000)),\n",
       "                (&#x27;clf&#x27;,\n",
       "                 KerasClassifier(batch_size=128, epochs=100, loss=&#x27;binary_crossentropy&#x27;, model=&lt;function get_clf at 0x7fef62614430&gt;, model__dropout=0.4, model__hidden_layer_sizes=(40, 240), optimizer=&#x27;adam&#x27;, optimizer__learning_rate=0.0005366554542437141, random_state=10, verbose=0))])</pre><b>In a Jupyter environment, please rerun this cell to show the HTML representation or trust the notebook. <br />On GitHub, the HTML representation is unable to render, please try loading this page with nbviewer.org.</b></div><div class=\"sk-container\" hidden><div class=\"sk-item sk-dashed-wrapped\"><div class=\"sk-label-container\"><div class=\"sk-label sk-toggleable\"><input class=\"sk-toggleable__control sk-hidden--visually\" id=\"sk-estimator-id-40\" type=\"checkbox\" ><label for=\"sk-estimator-id-40\" class=\"sk-toggleable__label sk-toggleable__label-arrow\">Pipeline</label><div class=\"sk-toggleable__content\"><pre>Pipeline(steps=[(&#x27;scaler&#x27;, MinMaxScaler()), (&#x27;pca&#x27;, PCA(n_components=1000)),\n",
       "                (&#x27;clf&#x27;,\n",
       "                 KerasClassifier(batch_size=128, epochs=100, loss=&#x27;binary_crossentropy&#x27;, model=&lt;function get_clf at 0x7fef62614430&gt;, model__dropout=0.4, model__hidden_layer_sizes=(40, 240), optimizer=&#x27;adam&#x27;, optimizer__learning_rate=0.0005366554542437141, random_state=10, verbose=0))])</pre></div></div></div><div class=\"sk-serial\"><div class=\"sk-item\"><div class=\"sk-estimator sk-toggleable\"><input class=\"sk-toggleable__control sk-hidden--visually\" id=\"sk-estimator-id-41\" type=\"checkbox\" ><label for=\"sk-estimator-id-41\" class=\"sk-toggleable__label sk-toggleable__label-arrow\">MinMaxScaler</label><div class=\"sk-toggleable__content\"><pre>MinMaxScaler()</pre></div></div></div><div class=\"sk-item\"><div class=\"sk-estimator sk-toggleable\"><input class=\"sk-toggleable__control sk-hidden--visually\" id=\"sk-estimator-id-42\" type=\"checkbox\" ><label for=\"sk-estimator-id-42\" class=\"sk-toggleable__label sk-toggleable__label-arrow\">PCA</label><div class=\"sk-toggleable__content\"><pre>PCA(n_components=1000)</pre></div></div></div><div class=\"sk-item\"><div class=\"sk-estimator sk-toggleable\"><input class=\"sk-toggleable__control sk-hidden--visually\" id=\"sk-estimator-id-43\" type=\"checkbox\" ><label for=\"sk-estimator-id-43\" class=\"sk-toggleable__label sk-toggleable__label-arrow\">KerasClassifier</label><div class=\"sk-toggleable__content\"><pre>KerasClassifier(\n",
       "\tmodel=&lt;function get_clf at 0x7fef62614430&gt;\n",
       "\tbuild_fn=None\n",
       "\twarm_start=False\n",
       "\trandom_state=10\n",
       "\toptimizer=adam\n",
       "\tloss=binary_crossentropy\n",
       "\tmetrics=None\n",
       "\tbatch_size=128\n",
       "\tvalidation_batch_size=None\n",
       "\tverbose=0\n",
       "\tcallbacks=None\n",
       "\tvalidation_split=0.0\n",
       "\tshuffle=True\n",
       "\trun_eagerly=False\n",
       "\tepochs=100\n",
       "\tmodel__hidden_layer_sizes=(40, 240)\n",
       "\tmodel__dropout=0.4\n",
       "\toptimizer__learning_rate=0.0005366554542437141\n",
       "\tclass_weight=None\n",
       ")</pre></div></div></div></div></div></div></div>"
      ],
      "text/plain": [
       "Pipeline(steps=[('scaler', MinMaxScaler()), ('pca', PCA(n_components=1000)),\n",
       "                ('clf',\n",
       "                 KerasClassifier(batch_size=128, epochs=100, loss='binary_crossentropy', model=<function get_clf at 0x7fef62614430>, model__dropout=0.4, model__hidden_layer_sizes=(40, 240), optimizer='adam', optimizer__learning_rate=0.0005366554542437141, random_state=10, verbose=0))])"
      ]
     },
     "execution_count": 260,
     "metadata": {},
     "output_type": "execute_result"
    }
   ],
   "source": [
    "pipe.set_params(**params)\n",
    "    ## model = SVC(**params, kernel='linear', random_state=random_state)\n",
    "pipe.fit(X_train, y_train)"
   ]
  },
  {
   "cell_type": "code",
   "execution_count": 268,
   "id": "LbF9DeztkavX",
   "metadata": {
    "colab": {
     "base_uri": "https://localhost:8080/"
    },
    "execution": {
     "iopub.execute_input": "2023-05-02T19:49:03.901814Z",
     "iopub.status.busy": "2023-05-02T19:49:03.901518Z",
     "iopub.status.idle": "2023-05-02T19:49:05.018703Z",
     "shell.execute_reply": "2023-05-02T19:49:05.017774Z",
     "shell.execute_reply.started": "2023-05-02T19:49:03.901796Z"
    },
    "executionInfo": {
     "elapsed": 213,
     "status": "ok",
     "timestamp": 1682617792838,
     "user": {
      "displayName": "Damir Zunic",
      "userId": "07104666280721646256"
     },
     "user_tz": 240
    },
    "id": "LbF9DeztkavX",
    "outputId": "c5f58508-4df3-4877-aea7-154111dacd89",
    "tags": []
   },
   "outputs": [
    {
     "name": "stdout",
     "output_type": "stream",
     "text": [
      "INFO:tensorflow:Assets written to: ram://8ca6c01392f44b7f818015b5d5264584/assets\n"
     ]
    },
    {
     "data": {
      "text/plain": [
       "['./saved_models/batch_4_stack/nn_pca_2.pkl']"
      ]
     },
     "execution_count": 268,
     "metadata": {},
     "output_type": "execute_result"
    }
   ],
   "source": [
    "# Save the model\n",
    "# joblib.dump(mlp, '/content/drive/MyDrive/Omdena/Team1/saved_models/batch_4_stack/nn_pca_1.pkl')\n",
    "joblib.dump(pipe, './saved_models/batch_4_stack/nn_pca_2.pkl')"
   ]
  },
  {
   "cell_type": "code",
   "execution_count": 261,
   "id": "2dbe360f-498c-477c-ac02-7d6e427e70f5",
   "metadata": {
    "execution": {
     "iopub.execute_input": "2023-05-02T19:46:24.836016Z",
     "iopub.status.busy": "2023-05-02T19:46:24.835463Z",
     "iopub.status.idle": "2023-05-02T19:46:24.864211Z",
     "shell.execute_reply": "2023-05-02T19:46:24.863069Z",
     "shell.execute_reply.started": "2023-05-02T19:46:24.835995Z"
    },
    "tags": []
   },
   "outputs": [
    {
     "name": "stdout",
     "output_type": "stream",
     "text": [
      "Model: \"sequential_61\"\n",
      "_________________________________________________________________\n",
      " Layer (type)                Output Shape              Param #   \n",
      "=================================================================\n",
      " dense_226 (Dense)           (None, 1000)              1001000   \n",
      "                                                                 \n",
      " dense_227 (Dense)           (None, 40)                40040     \n",
      "                                                                 \n",
      " dropout_104 (Dropout)       (None, 40)                0         \n",
      "                                                                 \n",
      " dense_228 (Dense)           (None, 240)               9840      \n",
      "                                                                 \n",
      " dropout_105 (Dropout)       (None, 240)               0         \n",
      "                                                                 \n",
      " dense_229 (Dense)           (None, 1)                 241       \n",
      "                                                                 \n",
      "=================================================================\n",
      "Total params: 1,051,121\n",
      "Trainable params: 1,051,121\n",
      "Non-trainable params: 0\n",
      "_________________________________________________________________\n"
     ]
    }
   ],
   "source": [
    "pipe['clf'].model_.summary()"
   ]
  },
  {
   "cell_type": "code",
   "execution_count": 262,
   "id": "wu6udS__kavX",
   "metadata": {
    "execution": {
     "iopub.execute_input": "2023-05-02T19:46:32.761545Z",
     "iopub.status.busy": "2023-05-02T19:46:32.761194Z",
     "iopub.status.idle": "2023-05-02T19:46:33.262492Z",
     "shell.execute_reply": "2023-05-02T19:46:33.261536Z",
     "shell.execute_reply.started": "2023-05-02T19:46:32.761520Z"
    },
    "id": "wu6udS__kavX",
    "tags": []
   },
   "outputs": [],
   "source": [
    "y_pred = pipe.predict(X_test)"
   ]
  },
  {
   "cell_type": "code",
   "execution_count": 263,
   "id": "hbTv01iskavX",
   "metadata": {
    "colab": {
     "base_uri": "https://localhost:8080/"
    },
    "execution": {
     "iopub.execute_input": "2023-05-02T19:46:37.572162Z",
     "iopub.status.busy": "2023-05-02T19:46:37.571513Z",
     "iopub.status.idle": "2023-05-02T19:46:37.580326Z",
     "shell.execute_reply": "2023-05-02T19:46:37.578616Z",
     "shell.execute_reply.started": "2023-05-02T19:46:37.572141Z"
    },
    "executionInfo": {
     "elapsed": 312,
     "status": "ok",
     "timestamp": 1682712246169,
     "user": {
      "displayName": "Damir Zunic",
      "userId": "07104666280721646256"
     },
     "user_tz": 240
    },
    "id": "hbTv01iskavX",
    "outputId": "bcbc4bcd-6492-4e64-c009-a4ff56941dcc",
    "tags": []
   },
   "outputs": [
    {
     "name": "stdout",
     "output_type": "stream",
     "text": [
      "Accuracy after tuning: 85.45\n"
     ]
    }
   ],
   "source": [
    "accuracy = accuracy_score(y_test, y_pred)\n",
    "print(f'Accuracy after tuning: {accuracy * 100.0:.2f}')"
   ]
  },
  {
   "cell_type": "code",
   "execution_count": 264,
   "id": "kfP1WnUfkavY",
   "metadata": {
    "colab": {
     "base_uri": "https://localhost:8080/"
    },
    "execution": {
     "iopub.execute_input": "2023-05-02T19:46:43.161445Z",
     "iopub.status.busy": "2023-05-02T19:46:43.160771Z",
     "iopub.status.idle": "2023-05-02T19:46:44.773151Z",
     "shell.execute_reply": "2023-05-02T19:46:44.771814Z",
     "shell.execute_reply.started": "2023-05-02T19:46:43.161422Z"
    },
    "executionInfo": {
     "elapsed": 652,
     "status": "ok",
     "timestamp": 1682712256130,
     "user": {
      "displayName": "Damir Zunic",
      "userId": "07104666280721646256"
     },
     "user_tz": 240
    },
    "id": "kfP1WnUfkavY",
    "outputId": "7f45f46e-dbe1-4735-f46f-74ff470c0152",
    "tags": []
   },
   "outputs": [
    {
     "name": "stdout",
     "output_type": "stream",
     "text": [
      "Training Data Score: 1.0\n",
      "Testing Data Score: 0.8545150501672241\n"
     ]
    }
   ],
   "source": [
    "# Compare training and testing scores\n",
    "print(f\"Training Data Score: {pipe.score(X_train, y_train)}\")\n",
    "print(f\"Testing Data Score: {pipe.score(X_test, y_test)}\")"
   ]
  },
  {
   "cell_type": "code",
   "execution_count": 265,
   "id": "3-5Gg07lkavY",
   "metadata": {
    "colab": {
     "base_uri": "https://localhost:8080/"
    },
    "execution": {
     "iopub.execute_input": "2023-05-02T19:46:49.552455Z",
     "iopub.status.busy": "2023-05-02T19:46:49.552155Z",
     "iopub.status.idle": "2023-05-02T19:46:49.560213Z",
     "shell.execute_reply": "2023-05-02T19:46:49.559004Z",
     "shell.execute_reply.started": "2023-05-02T19:46:49.552436Z"
    },
    "executionInfo": {
     "elapsed": 158,
     "status": "ok",
     "timestamp": 1682712268450,
     "user": {
      "displayName": "Damir Zunic",
      "userId": "07104666280721646256"
     },
     "user_tz": 240
    },
    "id": "3-5Gg07lkavY",
    "outputId": "3fe6244e-b1fe-48a2-e887-b7d33b70c773",
    "tags": []
   },
   "outputs": [
    {
     "name": "stdout",
     "output_type": "stream",
     "text": [
      "[[ 258   81]\n",
      " [ 180 1275]]\n"
     ]
    }
   ],
   "source": [
    "cm = confusion_matrix(y_test, y_pred)\n",
    "print(cm)"
   ]
  },
  {
   "cell_type": "code",
   "execution_count": 266,
   "id": "yAEszP3ikavY",
   "metadata": {
    "colab": {
     "base_uri": "https://localhost:8080/",
     "height": 315
    },
    "execution": {
     "iopub.execute_input": "2023-05-02T19:46:57.273659Z",
     "iopub.status.busy": "2023-05-02T19:46:57.273341Z",
     "iopub.status.idle": "2023-05-02T19:46:57.725585Z",
     "shell.execute_reply": "2023-05-02T19:46:57.724628Z",
     "shell.execute_reply.started": "2023-05-02T19:46:57.273641Z"
    },
    "executionInfo": {
     "elapsed": 1309,
     "status": "ok",
     "timestamp": 1682712278412,
     "user": {
      "displayName": "Damir Zunic",
      "userId": "07104666280721646256"
     },
     "user_tz": 240
    },
    "id": "yAEszP3ikavY",
    "outputId": "7ecea9cd-5234-4237-eca2-360e5a138c82",
    "tags": []
   },
   "outputs": [
    {
     "data": {
      "image/png": "[encoded data removed]",
      "text/plain": [
       "<Figure size 864x288 with 4 Axes>"
      ]
     },
     "metadata": {},
     "output_type": "display_data"
    }
   ],
   "source": [
    "# Plot confusion matrix and its normalized version.\n",
    "mu.plot_cm_unnorm_and_norm('Neural Network - PCA #1', y_test, y_pred, target_names, 'Reds')"
   ]
  },
  {
   "cell_type": "code",
   "execution_count": 267,
   "id": "nRKz3IplkavY",
   "metadata": {
    "colab": {
     "base_uri": "https://localhost:8080/"
    },
    "execution": {
     "iopub.execute_input": "2023-05-02T19:47:08.380205Z",
     "iopub.status.busy": "2023-05-02T19:47:08.379910Z",
     "iopub.status.idle": "2023-05-02T19:47:08.395159Z",
     "shell.execute_reply": "2023-05-02T19:47:08.394144Z",
     "shell.execute_reply.started": "2023-05-02T19:47:08.380185Z"
    },
    "executionInfo": {
     "elapsed": 194,
     "status": "ok",
     "timestamp": 1682712298538,
     "user": {
      "displayName": "Damir Zunic",
      "userId": "07104666280721646256"
     },
     "user_tz": 240
    },
    "id": "nRKz3IplkavY",
    "outputId": "20121d11-d163-4d2d-cf8d-4ba3e2c560ce",
    "tags": []
   },
   "outputs": [
    {
     "name": "stdout",
     "output_type": "stream",
     "text": [
      "              precision    recall  f1-score   support\n",
      "\n",
      "         hem       0.59      0.76      0.66       339\n",
      "         all       0.94      0.88      0.91      1455\n",
      "\n",
      "    accuracy                           0.85      1794\n",
      "   macro avg       0.76      0.82      0.79      1794\n",
      "weighted avg       0.87      0.85      0.86      1794\n",
      "\n"
     ]
    }
   ],
   "source": [
    "print(classification_report(y_test, y_pred, target_names=target_names))"
   ]
  },
  {
   "cell_type": "markdown",
   "id": "1d324c02-cd1c-476e-b47b-ea27f9d133e6",
   "metadata": {},
   "source": [
    "## PCA - Tuned"
   ]
  },
  {
   "cell_type": "code",
   "execution_count": 11,
   "id": "c8e7c84d-14cc-4081-9f5b-ab6cb6fce038",
   "metadata": {
    "execution": {
     "iopub.execute_input": "2023-05-02T21:10:15.804357Z",
     "iopub.status.busy": "2023-05-02T21:10:15.803735Z",
     "iopub.status.idle": "2023-05-02T21:10:15.809415Z",
     "shell.execute_reply": "2023-05-02T21:10:15.808246Z",
     "shell.execute_reply.started": "2023-05-02T21:10:15.804333Z"
    },
    "tags": []
   },
   "outputs": [],
   "source": [
    "# Define model with pipeline\n",
    "num_pca_components = 1000\n",
    "pipe = Pipeline(\n",
    "    steps = (\n",
    "        ('scaler', MinMaxScaler()),\n",
    "        ('pca', PCA(num_pca_components)),\n",
    "        ('clf', clf)\n",
    "    )\n",
    ")"
   ]
  },
  {
   "cell_type": "markdown",
   "id": "2c03bf85-9366-4588-8405-d1967f983f39",
   "metadata": {
    "id": "RkQ_-axnlG8O"
   },
   "source": [
    "## Optuna Objective Function"
   ]
  },
  {
   "cell_type": "code",
   "execution_count": 12,
   "id": "9cd80740-8855-4b6f-b3d5-d52c9f01938b",
   "metadata": {
    "execution": {
     "iopub.execute_input": "2023-05-02T21:10:18.613467Z",
     "iopub.status.busy": "2023-05-02T21:10:18.613179Z",
     "iopub.status.idle": "2023-05-02T21:10:18.620119Z",
     "shell.execute_reply": "2023-05-02T21:10:18.619176Z",
     "shell.execute_reply.started": "2023-05-02T21:10:18.613446Z"
    },
    "executionInfo": {
     "elapsed": 144,
     "status": "ok",
     "timestamp": 1682640534483,
     "user": {
      "displayName": "Damir Zunic",
      "userId": "07104666280721646256"
     },
     "user_tz": 240
    },
    "id": "2aELGNRDlG8O",
    "tags": []
   },
   "outputs": [],
   "source": [
    "def objective(trial):\n",
    "    \"\"\"Define the objective function\"\"\"\n",
    "\n",
    "    n_layers = trial.suggest_int('n_layers', 1, 2) # no. of hidden layers \n",
    "    layers = []\n",
    "    for i in range(n_layers):\n",
    "        layers.append(trial.suggest_int(f\"n_units_{i+1}\", 20, 300, 20)) # no. of hidden unit\n",
    "    \n",
    "    params = {\n",
    "        'pca__n_components' : trial.suggest_int('pca__n_components', 500, 3500, 100),\n",
    "        'clf__epochs' : trial.suggest_int('clf__epochs', 10, 150, 10),\n",
    "        'clf__batch_size' : trial.suggest_categorical('clf__batch_size', [32, 64, 128]),\n",
    "        ### 'clf__model__dropout' : trial.suggest_float('clf__model__dropout', 0.2, 0.6, step=0.1),\n",
    "        'clf__model__dropout' : trial.suggest_float('clf__model__dropout', 0.2, 0.6),\n",
    "         ###'clf__model__hidden_layer_sizes' : [(100, ), (50, 50, )],\n",
    "        'clf__optimizer__learning_rate' : trial.suggest_float('clf__optimizer__learning_rate', 1e-5, 1e-1, log=True),\n",
    "    }\n",
    "    \n",
    "    params['clf__model__hidden_layer_sizes'] = tuple(layers)\n",
    "\n",
    "    pipe.set_params(**params)\n",
    "   \n",
    "    # Fit the model\n",
    "    pipe.fit(X_train, y_train)\n",
    "\n",
    "    # Make predictions\n",
    "    y_pred = pipe.predict(X_test)\n",
    "\n",
    "    # Evaluate predictions\n",
    "    f1 = f1_score(y_test, y_pred, average='macro')\n",
    "    return f1"
   ]
  },
  {
   "cell_type": "markdown",
   "id": "b8cd99c0-f37c-4d1d-bd2d-05600c24d945",
   "metadata": {
    "id": "UlhwpS7-lG8O"
   },
   "source": [
    "## Optuna Study"
   ]
  },
  {
   "cell_type": "code",
   "execution_count": 13,
   "id": "4a2e6373-5446-453e-9a10-d21cadeab438",
   "metadata": {
    "colab": {
     "base_uri": "https://localhost:8080/"
    },
    "execution": {
     "iopub.execute_input": "2023-05-02T21:10:23.919642Z",
     "iopub.status.busy": "2023-05-02T21:10:23.919351Z",
     "iopub.status.idle": "2023-05-02T21:10:23.927639Z",
     "shell.execute_reply": "2023-05-02T21:10:23.925988Z",
     "shell.execute_reply.started": "2023-05-02T21:10:23.919621Z"
    },
    "executionInfo": {
     "elapsed": 166,
     "status": "ok",
     "timestamp": 1682640542700,
     "user": {
      "displayName": "Damir Zunic",
      "userId": "07104666280721646256"
     },
     "user_tz": 240
    },
    "id": "vOfrCTgplG8O",
    "outputId": "cfccac98-89f6-4216-acc5-ce60b43cb0e2",
    "tags": []
   },
   "outputs": [
    {
     "name": "stderr",
     "output_type": "stream",
     "text": [
      "\u001b[32m[I 2023-05-02 17:10:23,920]\u001b[0m A new study created in memory with name: no-name-eac5af57-65b6-452e-b963-4a4de259d1f1\u001b[0m\n"
     ]
    }
   ],
   "source": [
    "study = optuna.create_study(direction='maximize')"
   ]
  },
  {
   "cell_type": "markdown",
   "id": "9a56c517-fd49-4d52-8a55-15d498728642",
   "metadata": {
    "id": "gvAvJRAIlG8P"
   },
   "source": [
    "## Optimize the Objective Function"
   ]
  },
  {
   "cell_type": "code",
   "execution_count": 14,
   "id": "af5ec1d1-1720-4154-ba9a-15d5bd7e4ac8",
   "metadata": {
    "colab": {
     "base_uri": "https://localhost:8080/"
    },
    "execution": {
     "iopub.execute_input": "2023-05-02T21:10:29.926969Z",
     "iopub.status.busy": "2023-05-02T21:10:29.926499Z",
     "iopub.status.idle": "2023-05-02T21:48:56.960438Z",
     "shell.execute_reply": "2023-05-02T21:48:56.958814Z",
     "shell.execute_reply.started": "2023-05-02T21:10:29.926949Z"
    },
    "executionInfo": {
     "elapsed": 5163058,
     "status": "ok",
     "timestamp": 1682645720710,
     "user": {
      "displayName": "Damir Zunic",
      "userId": "07104666280721646256"
     },
     "user_tz": 240
    },
    "id": "TKtM3W6PbiE9",
    "outputId": "3b2351f9-5101-4f6c-a9e6-e90064657ead",
    "scrolled": true,
    "tags": []
   },
   "outputs": [
    {
     "name": "stderr",
     "output_type": "stream",
     "text": [
      "\u001b[32m[I 2023-05-02 17:11:41,019]\u001b[0m Trial 0 finished with value: 0.7829154978962132 and parameters: {'n_layers': 1, 'n_units_1': 140, 'pca__n_components': 700, 'clf__epochs': 70, 'clf__batch_size': 64, 'clf__model__dropout': 0.6, 'clf__optimizer__learning_rate': 0.001339495162641897}. Best is trial 0 with value: 0.7829154978962132.\u001b[0m\n",
      "\u001b[32m[I 2023-05-02 17:13:26,082]\u001b[0m Trial 1 finished with value: 0.7718705687546313 and parameters: {'n_layers': 1, 'n_units_1': 180, 'pca__n_components': 800, 'clf__epochs': 60, 'clf__batch_size': 32, 'clf__model__dropout': 0.5, 'clf__optimizer__learning_rate': 0.00015691863192345565}. Best is trial 0 with value: 0.7829154978962132.\u001b[0m\n",
      "\u001b[32m[I 2023-05-02 17:14:39,325]\u001b[0m Trial 2 finished with value: 0.7681483983072752 and parameters: {'n_layers': 1, 'n_units_1': 20, 'pca__n_components': 1300, 'clf__epochs': 70, 'clf__batch_size': 64, 'clf__model__dropout': 0.2, 'clf__optimizer__learning_rate': 1.2729639697857197e-05}. Best is trial 0 with value: 0.7829154978962132.\u001b[0m\n",
      "\u001b[32m[I 2023-05-02 17:15:48,024]\u001b[0m Trial 3 finished with value: 0.4535966973185928 and parameters: {'n_layers': 1, 'n_units_1': 260, 'pca__n_components': 600, 'clf__epochs': 70, 'clf__batch_size': 64, 'clf__model__dropout': 0.4, 'clf__optimizer__learning_rate': 0.041286645289365806}. Best is trial 0 with value: 0.7829154978962132.\u001b[0m\n",
      "\u001b[32m[I 2023-05-02 17:16:41,182]\u001b[0m Trial 4 finished with value: 0.7827614165799917 and parameters: {'n_layers': 1, 'n_units_1': 300, 'pca__n_components': 1400, 'clf__epochs': 20, 'clf__batch_size': 64, 'clf__model__dropout': 0.5, 'clf__optimizer__learning_rate': 0.00018842707418658224}. Best is trial 0 with value: 0.7829154978962132.\u001b[0m\n",
      "\u001b[32m[I 2023-05-02 17:20:54,384]\u001b[0m Trial 5 finished with value: 0.1589310829817159 and parameters: {'n_layers': 1, 'n_units_1': 240, 'pca__n_components': 2000, 'clf__epochs': 110, 'clf__batch_size': 32, 'clf__model__dropout': 0.2, 'clf__optimizer__learning_rate': 0.0603347772094869}. Best is trial 0 with value: 0.7829154978962132.\u001b[0m\n",
      "\u001b[32m[I 2023-05-02 17:21:56,543]\u001b[0m Trial 6 finished with value: 0.7535525973460924 and parameters: {'n_layers': 1, 'n_units_1': 40, 'pca__n_components': 1500, 'clf__epochs': 90, 'clf__batch_size': 128, 'clf__model__dropout': 0.5, 'clf__optimizer__learning_rate': 0.009530749732942169}. Best is trial 0 with value: 0.7829154978962132.\u001b[0m\n",
      "\u001b[32m[I 2023-05-02 17:24:08,030]\u001b[0m Trial 7 finished with value: 0.7788397389412618 and parameters: {'n_layers': 1, 'n_units_1': 160, 'pca__n_components': 2500, 'clf__epochs': 80, 'clf__batch_size': 64, 'clf__model__dropout': 0.30000000000000004, 'clf__optimizer__learning_rate': 0.00011466255742410252}. Best is trial 0 with value: 0.7829154978962132.\u001b[0m\n",
      "\u001b[32m[I 2023-05-02 17:25:57,717]\u001b[0m Trial 8 finished with value: 0.7696227648979006 and parameters: {'n_layers': 1, 'n_units_1': 100, 'pca__n_components': 1800, 'clf__epochs': 80, 'clf__batch_size': 64, 'clf__model__dropout': 0.30000000000000004, 'clf__optimizer__learning_rate': 1.4090385527151311e-05}. Best is trial 0 with value: 0.7829154978962132.\u001b[0m\n",
      "\u001b[32m[I 2023-05-02 17:26:30,985]\u001b[0m Trial 9 finished with value: 0.7641445679535717 and parameters: {'n_layers': 2, 'n_units_1': 240, 'n_units_2': 140, 'pca__n_components': 500, 'clf__epochs': 50, 'clf__batch_size': 128, 'clf__model__dropout': 0.6, 'clf__optimizer__learning_rate': 0.004427108665970838}. Best is trial 0 with value: 0.7829154978962132.\u001b[0m\n",
      "\u001b[32m[I 2023-05-02 17:33:39,009]\u001b[0m Trial 10 finished with value: 0.7538588733328686 and parameters: {'n_layers': 2, 'n_units_1': 120, 'n_units_2': 280, 'pca__n_components': 3400, 'clf__epochs': 140, 'clf__batch_size': 32, 'clf__model__dropout': 0.6, 'clf__optimizer__learning_rate': 0.001495549914677368}. Best is trial 0 with value: 0.7829154978962132.\u001b[0m\n",
      "\u001b[32m[I 2023-05-02 17:34:07,576]\u001b[0m Trial 11 finished with value: 0.7800761339441256 and parameters: {'n_layers': 2, 'n_units_1': 180, 'n_units_2': 20, 'pca__n_components': 1200, 'clf__epochs': 10, 'clf__batch_size': 64, 'clf__model__dropout': 0.5, 'clf__optimizer__learning_rate': 0.00042629017294774376}. Best is trial 0 with value: 0.7829154978962132.\u001b[0m\n",
      "\u001b[32m[I 2023-05-02 17:36:25,070]\u001b[0m Trial 12 finished with value: 0.7727139323298813 and parameters: {'n_layers': 1, 'n_units_1': 300, 'pca__n_components': 2500, 'clf__epochs': 20, 'clf__batch_size': 64, 'clf__model__dropout': 0.6, 'clf__optimizer__learning_rate': 0.0008132714420814869}. Best is trial 0 with value: 0.7829154978962132.\u001b[0m\n",
      "\u001b[32m[I 2023-05-02 17:37:36,537]\u001b[0m Trial 13 finished with value: 0.7696856314249721 and parameters: {'n_layers': 1, 'n_units_1': 100, 'pca__n_components': 1100, 'clf__epochs': 40, 'clf__batch_size': 64, 'clf__model__dropout': 0.5, 'clf__optimizer__learning_rate': 0.00017426827491181775}. Best is trial 0 with value: 0.7829154978962132.\u001b[0m\n",
      "\u001b[32m[I 2023-05-02 17:38:05,200]\u001b[0m Trial 14 finished with value: 0.781100634262418 and parameters: {'n_layers': 2, 'n_units_1': 140, 'n_units_2': 300, 'pca__n_components': 900, 'clf__epochs': 30, 'clf__batch_size': 128, 'clf__model__dropout': 0.4, 'clf__optimizer__learning_rate': 0.00218582655375604}. Best is trial 0 with value: 0.7829154978962132.\u001b[0m\n",
      "\u001b[32m[I 2023-05-02 17:40:02,951]\u001b[0m Trial 15 finished with value: 0.7734618823334224 and parameters: {'n_layers': 1, 'n_units_1': 200, 'pca__n_components': 1600, 'clf__epochs': 110, 'clf__batch_size': 64, 'clf__model__dropout': 0.6, 'clf__optimizer__learning_rate': 0.00045905749350818475}. Best is trial 0 with value: 0.7829154978962132.\u001b[0m\n",
      "\u001b[32m[I 2023-05-02 17:41:00,544]\u001b[0m Trial 16 finished with value: 0.7746473665723845 and parameters: {'n_layers': 1, 'n_units_1': 80, 'pca__n_components': 2500, 'clf__epochs': 10, 'clf__batch_size': 64, 'clf__model__dropout': 0.5, 'clf__optimizer__learning_rate': 5.6421730245865907e-05}. Best is trial 0 with value: 0.7829154978962132.\u001b[0m\n",
      "\u001b[32m[I 2023-05-02 17:43:12,632]\u001b[0m Trial 17 finished with value: 0.7691951420337587 and parameters: {'n_layers': 2, 'n_units_1': 280, 'n_units_2': 40, 'pca__n_components': 900, 'clf__epochs': 140, 'clf__batch_size': 64, 'clf__model__dropout': 0.6, 'clf__optimizer__learning_rate': 0.003632950480129137}. Best is trial 0 with value: 0.7829154978962132.\u001b[0m\n",
      "\u001b[32m[I 2023-05-02 17:45:39,946]\u001b[0m Trial 18 finished with value: 0.7686603353112009 and parameters: {'n_layers': 1, 'n_units_1': 200, 'pca__n_components': 2000, 'clf__epochs': 100, 'clf__batch_size': 128, 'clf__model__dropout': 0.4, 'clf__optimizer__learning_rate': 0.0005033168180938938}. Best is trial 0 with value: 0.7829154978962132.\u001b[0m\n",
      "\u001b[32m[I 2023-05-02 17:48:56,955]\u001b[0m Trial 19 finished with value: 0.6839914473630724 and parameters: {'n_layers': 1, 'n_units_1': 60, 'pca__n_components': 3500, 'clf__epochs': 40, 'clf__batch_size': 32, 'clf__model__dropout': 0.5, 'clf__optimizer__learning_rate': 0.010728923232147556}. Best is trial 0 with value: 0.7829154978962132.\u001b[0m\n"
     ]
    }
   ],
   "source": [
    "study.optimize(objective, n_trials=20)"
   ]
  },
  {
   "cell_type": "code",
   "execution_count": 27,
   "id": "3e26e336-53d3-4df8-abc7-46f8f567d984",
   "metadata": {
    "execution": {
     "iopub.execute_input": "2023-05-02T22:25:26.715977Z",
     "iopub.status.busy": "2023-05-02T22:25:26.715131Z",
     "iopub.status.idle": "2023-05-02T22:56:54.249281Z",
     "shell.execute_reply": "2023-05-02T22:56:54.248083Z",
     "shell.execute_reply.started": "2023-05-02T22:25:26.715953Z"
    },
    "scrolled": true,
    "tags": []
   },
   "outputs": [
    {
     "name": "stderr",
     "output_type": "stream",
     "text": [
      "\u001b[32m[I 2023-05-02 18:26:15,758]\u001b[0m Trial 20 finished with value: 0.7633919666270375 and parameters: {'n_layers': 2, 'n_units_1': 220, 'n_units_2': 160, 'pca__n_components': 1500, 'clf__epochs': 30, 'clf__batch_size': 64, 'clf__model__dropout': 0.30000000000000004, 'clf__optimizer__learning_rate': 0.0009997940554358807}. Best is trial 0 with value: 0.7829154978962132.\u001b[0m\n",
      "\u001b[32m[I 2023-05-02 18:26:43,343]\u001b[0m Trial 21 finished with value: 0.7833937653614971 and parameters: {'n_layers': 2, 'n_units_1': 140, 'n_units_2': 280, 'pca__n_components': 900, 'clf__epochs': 30, 'clf__batch_size': 128, 'clf__model__dropout': 0.4, 'clf__optimizer__learning_rate': 0.0016812453072319437}. Best is trial 21 with value: 0.7833937653614971.\u001b[0m\n",
      "\u001b[32m[I 2023-05-02 18:27:23,392]\u001b[0m Trial 22 finished with value: 0.7682999523128278 and parameters: {'n_layers': 2, 'n_units_1': 160, 'n_units_2': 220, 'pca__n_components': 700, 'clf__epochs': 50, 'clf__batch_size': 128, 'clf__model__dropout': 0.4, 'clf__optimizer__learning_rate': 0.002345956422365195}. Best is trial 21 with value: 0.7833937653614971.\u001b[0m\n",
      "\u001b[32m[I 2023-05-02 18:27:49,877]\u001b[0m Trial 23 finished with value: 0.771376329787234 and parameters: {'n_layers': 2, 'n_units_1': 140, 'n_units_2': 220, 'pca__n_components': 1100, 'clf__epochs': 20, 'clf__batch_size': 128, 'clf__model__dropout': 0.5, 'clf__optimizer__learning_rate': 0.000960491051732724}. Best is trial 21 with value: 0.7833937653614971.\u001b[0m\n",
      "\u001b[32m[I 2023-05-02 18:28:29,539]\u001b[0m Trial 24 finished with value: 0.7739384613222594 and parameters: {'n_layers': 2, 'n_units_1': 120, 'n_units_2': 100, 'pca__n_components': 500, 'clf__epochs': 50, 'clf__batch_size': 128, 'clf__model__dropout': 0.6, 'clf__optimizer__learning_rate': 0.0005364070405094445}. Best is trial 21 with value: 0.7833937653614971.\u001b[0m\n",
      "\u001b[32m[I 2023-05-02 18:29:05,241]\u001b[0m Trial 25 finished with value: 0.7813109501253832 and parameters: {'n_layers': 1, 'n_units_1': 140, 'pca__n_components': 1000, 'clf__epochs': 30, 'clf__batch_size': 128, 'clf__model__dropout': 0.4, 'clf__optimizer__learning_rate': 0.0002511666266464852}. Best is trial 21 with value: 0.7833937653614971.\u001b[0m\n",
      "\u001b[32m[I 2023-05-02 18:31:12,265]\u001b[0m Trial 26 finished with value: 0.7777761282315963 and parameters: {'n_layers': 2, 'n_units_1': 300, 'n_units_2': 240, 'pca__n_components': 1300, 'clf__epochs': 120, 'clf__batch_size': 64, 'clf__model__dropout': 0.30000000000000004, 'clf__optimizer__learning_rate': 6.74672397109193e-05}. Best is trial 21 with value: 0.7833937653614971.\u001b[0m\n",
      "\u001b[32m[I 2023-05-02 18:31:29,944]\u001b[0m Trial 27 finished with value: 0.7659050985586962 and parameters: {'n_layers': 1, 'n_units_1': 80, 'pca__n_components': 800, 'clf__epochs': 10, 'clf__batch_size': 64, 'clf__model__dropout': 0.4, 'clf__optimizer__learning_rate': 0.0014721114634641166}. Best is trial 21 with value: 0.7833937653614971.\u001b[0m\n",
      "\u001b[32m[I 2023-05-02 18:32:42,588]\u001b[0m Trial 28 finished with value: 0.7714998981047483 and parameters: {'n_layers': 2, 'n_units_1': 180, 'n_units_2': 260, 'pca__n_components': 2200, 'clf__epochs': 60, 'clf__batch_size': 128, 'clf__model__dropout': 0.5, 'clf__optimizer__learning_rate': 0.00028573984949984777}. Best is trial 21 with value: 0.7833937653614971.\u001b[0m\n",
      "\u001b[32m[I 2023-05-02 18:34:46,336]\u001b[0m Trial 29 finished with value: 0.774372291238769 and parameters: {'n_layers': 1, 'n_units_1': 200, 'pca__n_components': 1700, 'clf__epochs': 60, 'clf__batch_size': 32, 'clf__model__dropout': 0.5, 'clf__optimizer__learning_rate': 0.00013052269411057113}. Best is trial 21 with value: 0.7833937653614971.\u001b[0m\n",
      "\u001b[32m[I 2023-05-02 18:37:25,474]\u001b[0m Trial 30 finished with value: 0.7827699231027964 and parameters: {'n_layers': 1, 'n_units_1': 120, 'pca__n_components': 1400, 'clf__epochs': 40, 'clf__batch_size': 32, 'clf__model__dropout': 0.6, 'clf__optimizer__learning_rate': 0.0007387810658721033}. Best is trial 21 with value: 0.7833937653614971.\u001b[0m\n",
      "\u001b[32m[I 2023-05-02 18:38:49,870]\u001b[0m Trial 31 finished with value: 0.7958702287733678 and parameters: {'n_layers': 1, 'n_units_1': 120, 'pca__n_components': 1400, 'clf__epochs': 40, 'clf__batch_size': 32, 'clf__model__dropout': 0.6, 'clf__optimizer__learning_rate': 0.0009184685330138193}. Best is trial 31 with value: 0.7958702287733678.\u001b[0m\n",
      "\u001b[32m[I 2023-05-02 18:40:00,871]\u001b[0m Trial 32 finished with value: 0.7739316239316241 and parameters: {'n_layers': 1, 'n_units_1': 120, 'pca__n_components': 800, 'clf__epochs': 40, 'clf__batch_size': 32, 'clf__model__dropout': 0.6, 'clf__optimizer__learning_rate': 0.0007508306794690475}. Best is trial 31 with value: 0.7958702287733678.\u001b[0m\n",
      "\u001b[32m[I 2023-05-02 18:42:13,586]\u001b[0m Trial 33 finished with value: 0.7764894891293646 and parameters: {'n_layers': 1, 'n_units_1': 100, 'pca__n_components': 1300, 'clf__epochs': 70, 'clf__batch_size': 32, 'clf__model__dropout': 0.6, 'clf__optimizer__learning_rate': 0.0014969015940170494}. Best is trial 31 with value: 0.7958702287733678.\u001b[0m\n",
      "\u001b[32m[I 2023-05-02 18:44:20,502]\u001b[0m Trial 34 finished with value: 0.7817146472635241 and parameters: {'n_layers': 1, 'n_units_1': 160, 'pca__n_components': 700, 'clf__epochs': 70, 'clf__batch_size': 32, 'clf__model__dropout': 0.6, 'clf__optimizer__learning_rate': 0.003238704250817759}. Best is trial 31 with value: 0.7958702287733678.\u001b[0m\n",
      "\u001b[32m[I 2023-05-02 18:47:22,762]\u001b[0m Trial 35 finished with value: 0.7786215971016408 and parameters: {'n_layers': 1, 'n_units_1': 80, 'pca__n_components': 1800, 'clf__epochs': 50, 'clf__batch_size': 32, 'clf__model__dropout': 0.6, 'clf__optimizer__learning_rate': 0.005335897506525714}. Best is trial 31 with value: 0.7958702287733678.\u001b[0m\n",
      "\u001b[32m[I 2023-05-02 18:48:44,872]\u001b[0m Trial 36 finished with value: 0.780900903568197 and parameters: {'n_layers': 1, 'n_units_1': 40, 'pca__n_components': 1100, 'clf__epochs': 40, 'clf__batch_size': 32, 'clf__model__dropout': 0.2, 'clf__optimizer__learning_rate': 0.0015876657245581665}. Best is trial 31 with value: 0.7958702287733678.\u001b[0m\n",
      "\u001b[32m[I 2023-05-02 18:51:37,041]\u001b[0m Trial 37 finished with value: 0.7687315039009954 and parameters: {'n_layers': 1, 'n_units_1': 140, 'pca__n_components': 1400, 'clf__epochs': 90, 'clf__batch_size': 32, 'clf__model__dropout': 0.5, 'clf__optimizer__learning_rate': 0.006449982839194041}. Best is trial 31 with value: 0.7958702287733678.\u001b[0m\n",
      "\u001b[32m[I 2023-05-02 18:54:09,092]\u001b[0m Trial 38 finished with value: 0.4568203156234979 and parameters: {'n_layers': 1, 'n_units_1': 120, 'pca__n_components': 2200, 'clf__epochs': 60, 'clf__batch_size': 32, 'clf__model__dropout': 0.6, 'clf__optimizer__learning_rate': 0.016695810405377882}. Best is trial 31 with value: 0.7958702287733678.\u001b[0m\n",
      "\u001b[32m[I 2023-05-02 18:56:54,245]\u001b[0m Trial 39 finished with value: 0.7775411906630365 and parameters: {'n_layers': 1, 'n_units_1': 60, 'pca__n_components': 3100, 'clf__epochs': 20, 'clf__batch_size': 32, 'clf__model__dropout': 0.30000000000000004, 'clf__optimizer__learning_rate': 0.000716185618328433}. Best is trial 31 with value: 0.7958702287733678.\u001b[0m\n"
     ]
    }
   ],
   "source": [
    "study.optimize(objective, n_trials=20)"
   ]
  },
  {
   "cell_type": "code",
   "execution_count": 40,
   "id": "d88352b3-4705-4798-8950-4bc784b803d6",
   "metadata": {
    "execution": {
     "iopub.execute_input": "2023-05-02T23:05:52.228295Z",
     "iopub.status.busy": "2023-05-02T23:05:52.227270Z",
     "iopub.status.idle": "2023-05-02T23:35:15.730312Z",
     "shell.execute_reply": "2023-05-02T23:35:15.728842Z",
     "shell.execute_reply.started": "2023-05-02T23:05:52.228270Z"
    },
    "scrolled": true,
    "tags": []
   },
   "outputs": [
    {
     "name": "stderr",
     "output_type": "stream",
     "text": [
      "\u001b[32m[I 2023-05-02 19:06:51,130]\u001b[0m Trial 40 finished with value: 0.7577908510885737 and parameters: {'n_layers': 1, 'n_units_1': 160, 'pca__n_components': 600, 'clf__epochs': 30, 'clf__batch_size': 32, 'clf__model__dropout': 0.4, 'clf__optimizer__learning_rate': 0.0028840971073470696}. Best is trial 31 with value: 0.7958702287733678.\u001b[0m\n",
      "\u001b[32m[I 2023-05-02 19:07:38,708]\u001b[0m Trial 41 finished with value: 0.7547426111398463 and parameters: {'n_layers': 1, 'n_units_1': 180, 'pca__n_components': 1400, 'clf__epochs': 20, 'clf__batch_size': 64, 'clf__model__dropout': 0.6, 'clf__optimizer__learning_rate': 0.001255548403770742}. Best is trial 31 with value: 0.7958702287733678.\u001b[0m\n",
      "\u001b[32m[I 2023-05-02 19:08:32,243]\u001b[0m Trial 42 finished with value: 0.7765739351423142 and parameters: {'n_layers': 1, 'n_units_1': 100, 'pca__n_components': 1600, 'clf__epochs': 30, 'clf__batch_size': 64, 'clf__model__dropout': 0.6, 'clf__optimizer__learning_rate': 0.0003178345344612528}. Best is trial 31 with value: 0.7958702287733678.\u001b[0m\n",
      "\u001b[32m[I 2023-05-02 19:09:43,097]\u001b[0m Trial 43 finished with value: 0.7854414448893077 and parameters: {'n_layers': 1, 'n_units_1': 260, 'pca__n_components': 1200, 'clf__epochs': 40, 'clf__batch_size': 64, 'clf__model__dropout': 0.5, 'clf__optimizer__learning_rate': 0.0020066248154088796}. Best is trial 31 with value: 0.7958702287733678.\u001b[0m\n",
      "\u001b[32m[I 2023-05-02 19:10:29,862]\u001b[0m Trial 44 finished with value: 0.7790407005038723 and parameters: {'n_layers': 1, 'n_units_1': 260, 'pca__n_components': 1200, 'clf__epochs': 50, 'clf__batch_size': 128, 'clf__model__dropout': 0.5, 'clf__optimizer__learning_rate': 0.002220169521417627}. Best is trial 31 with value: 0.7958702287733678.\u001b[0m\n",
      "\u001b[32m[I 2023-05-02 19:11:51,999]\u001b[0m Trial 45 finished with value: 0.7710175589384198 and parameters: {'n_layers': 1, 'n_units_1': 120, 'pca__n_components': 1000, 'clf__epochs': 80, 'clf__batch_size': 64, 'clf__model__dropout': 0.5, 'clf__optimizer__learning_rate': 0.0020033649568990592}. Best is trial 31 with value: 0.7958702287733678.\u001b[0m\n",
      "\u001b[32m[I 2023-05-02 19:13:39,714]\u001b[0m Trial 46 finished with value: 0.7658303118201596 and parameters: {'n_layers': 1, 'n_units_1': 140, 'pca__n_components': 1800, 'clf__epochs': 40, 'clf__batch_size': 32, 'clf__model__dropout': 0.6, 'clf__optimizer__learning_rate': 0.0009817641933007415}. Best is trial 31 with value: 0.7958702287733678.\u001b[0m\n",
      "\u001b[32m[I 2023-05-02 19:14:57,845]\u001b[0m Trial 47 finished with value: 0.7929948633961141 and parameters: {'n_layers': 1, 'n_units_1': 220, 'pca__n_components': 1200, 'clf__epochs': 70, 'clf__batch_size': 64, 'clf__model__dropout': 0.6, 'clf__optimizer__learning_rate': 0.004089337000550895}. Best is trial 31 with value: 0.7958702287733678.\u001b[0m\n",
      "\u001b[32m[I 2023-05-02 19:16:49,863]\u001b[0m Trial 48 finished with value: 0.7865502012546022 and parameters: {'n_layers': 1, 'n_units_1': 240, 'pca__n_components': 900, 'clf__epochs': 60, 'clf__batch_size': 64, 'clf__model__dropout': 0.5, 'clf__optimizer__learning_rate': 0.0045897610270734775}. Best is trial 31 with value: 0.7958702287733678.\u001b[0m\n",
      "\u001b[32m[I 2023-05-02 19:17:53,844]\u001b[0m Trial 49 finished with value: 0.7813164893617022 and parameters: {'n_layers': 1, 'n_units_1': 240, 'pca__n_components': 900, 'clf__epochs': 60, 'clf__batch_size': 64, 'clf__model__dropout': 0.4, 'clf__optimizer__learning_rate': 0.0042572763893731535}. Best is trial 31 with value: 0.7958702287733678.\u001b[0m\n",
      "\u001b[32m[I 2023-05-02 19:19:38,718]\u001b[0m Trial 50 finished with value: 0.7901949826130155 and parameters: {'n_layers': 2, 'n_units_1': 260, 'n_units_2': 200, 'pca__n_components': 1200, 'clf__epochs': 90, 'clf__batch_size': 64, 'clf__model__dropout': 0.5, 'clf__optimizer__learning_rate': 0.006876947575065175}. Best is trial 31 with value: 0.7958702287733678.\u001b[0m\n",
      "\u001b[32m[I 2023-05-02 19:21:28,929]\u001b[0m Trial 51 finished with value: 0.7818032015065913 and parameters: {'n_layers': 2, 'n_units_1': 260, 'n_units_2': 200, 'pca__n_components': 1200, 'clf__epochs': 90, 'clf__batch_size': 64, 'clf__model__dropout': 0.5, 'clf__optimizer__learning_rate': 0.006288997915824301}. Best is trial 31 with value: 0.7958702287733678.\u001b[0m\n",
      "\u001b[32m[I 2023-05-02 19:23:04,193]\u001b[0m Trial 52 finished with value: 0.7663244131834963 and parameters: {'n_layers': 2, 'n_units_1': 260, 'n_units_2': 180, 'pca__n_components': 1100, 'clf__epochs': 70, 'clf__batch_size': 64, 'clf__model__dropout': 0.4, 'clf__optimizer__learning_rate': 0.003144650062964055}. Best is trial 31 with value: 0.7958702287733678.\u001b[0m\n",
      "\u001b[32m[I 2023-05-02 19:24:42,787]\u001b[0m Trial 53 finished with value: 0.7873067001588896 and parameters: {'n_layers': 2, 'n_units_1': 220, 'n_units_2': 120, 'pca__n_components': 1000, 'clf__epochs': 90, 'clf__batch_size': 64, 'clf__model__dropout': 0.5, 'clf__optimizer__learning_rate': 0.007905023772568891}. Best is trial 31 with value: 0.7958702287733678.\u001b[0m\n",
      "\u001b[32m[I 2023-05-02 19:26:55,679]\u001b[0m Trial 54 finished with value: 0.7148373366567474 and parameters: {'n_layers': 2, 'n_units_1': 220, 'n_units_2': 100, 'pca__n_components': 1000, 'clf__epochs': 90, 'clf__batch_size': 64, 'clf__model__dropout': 0.5, 'clf__optimizer__learning_rate': 0.01166581606323267}. Best is trial 31 with value: 0.7958702287733678.\u001b[0m\n",
      "\u001b[32m[I 2023-05-02 19:28:46,109]\u001b[0m Trial 55 finished with value: 0.7012391026678335 and parameters: {'n_layers': 2, 'n_units_1': 280, 'n_units_2': 120, 'pca__n_components': 1300, 'clf__epochs': 100, 'clf__batch_size': 64, 'clf__model__dropout': 0.5, 'clf__optimizer__learning_rate': 0.007808630351205874}. Best is trial 31 with value: 0.7958702287733678.\u001b[0m\n",
      "\u001b[32m[I 2023-05-02 19:30:37,440]\u001b[0m Trial 56 finished with value: 0.1589310829817159 and parameters: {'n_layers': 2, 'n_units_1': 220, 'n_units_2': 60, 'pca__n_components': 1600, 'clf__epochs': 100, 'clf__batch_size': 64, 'clf__model__dropout': 0.5, 'clf__optimizer__learning_rate': 0.017535853344923007}. Best is trial 31 with value: 0.7958702287733678.\u001b[0m\n",
      "\u001b[32m[I 2023-05-02 19:31:57,478]\u001b[0m Trial 57 finished with value: 0.7672261442266348 and parameters: {'n_layers': 2, 'n_units_1': 240, 'n_units_2': 80, 'pca__n_components': 600, 'clf__epochs': 80, 'clf__batch_size': 64, 'clf__model__dropout': 0.5, 'clf__optimizer__learning_rate': 0.004336031771920366}. Best is trial 31 with value: 0.7958702287733678.\u001b[0m\n",
      "\u001b[32m[I 2023-05-02 19:33:55,028]\u001b[0m Trial 58 finished with value: 0.7848606693117854 and parameters: {'n_layers': 1, 'n_units_1': 220, 'pca__n_components': 1500, 'clf__epochs': 110, 'clf__batch_size': 64, 'clf__model__dropout': 0.5, 'clf__optimizer__learning_rate': 0.005466312655836986}. Best is trial 31 with value: 0.7958702287733678.\u001b[0m\n",
      "\u001b[32m[I 2023-05-02 19:35:15,726]\u001b[0m Trial 59 finished with value: 0.7672864902260952 and parameters: {'n_layers': 1, 'n_units_1': 280, 'pca__n_components': 1200, 'clf__epochs': 80, 'clf__batch_size': 64, 'clf__model__dropout': 0.5, 'clf__optimizer__learning_rate': 0.002840920700587365}. Best is trial 31 with value: 0.7958702287733678.\u001b[0m\n"
     ]
    }
   ],
   "source": [
    "study.optimize(objective, n_trials=20)"
   ]
  },
  {
   "cell_type": "markdown",
   "id": "951baccc-d358-4aa2-bb95-46c3434bfd5e",
   "metadata": {
    "id": "rPMCn7GolG8P"
   },
   "source": [
    "## Best Parameters"
   ]
  },
  {
   "cell_type": "code",
   "execution_count": 41,
   "id": "913ab9c0-0d59-4d51-88b6-285a2616b56e",
   "metadata": {
    "colab": {
     "base_uri": "https://localhost:8080/"
    },
    "execution": {
     "iopub.execute_input": "2023-05-02T23:38:16.162411Z",
     "iopub.status.busy": "2023-05-02T23:38:16.162039Z",
     "iopub.status.idle": "2023-05-02T23:38:16.177645Z",
     "shell.execute_reply": "2023-05-02T23:38:16.176716Z",
     "shell.execute_reply.started": "2023-05-02T23:38:16.162387Z"
    },
    "executionInfo": {
     "elapsed": 174,
     "status": "ok",
     "timestamp": 1682711827757,
     "user": {
      "displayName": "Damir Zunic",
      "userId": "07104666280721646256"
     },
     "user_tz": 240
    },
    "id": "pcFYqAcakavV",
    "outputId": "164c3403-8b13-48a1-aaf0-967c8554bad9",
    "tags": []
   },
   "outputs": [
    {
     "name": "stdout",
     "output_type": "stream",
     "text": [
      "Number of finished trials: 60\n",
      "Best trial:\n",
      "  Value: 0.7958702287733678\n",
      "  Params: \n",
      "    n_layers: 1\n",
      "    n_units_1: 120\n",
      "    pca__n_components: 1400\n",
      "    clf__epochs: 40\n",
      "    clf__batch_size: 32\n",
      "    clf__model__dropout: 0.6\n",
      "    clf__optimizer__learning_rate: 0.0009184685330138193\n"
     ]
    }
   ],
   "source": [
    "print(f'Number of finished trials: {len(study.trials)}')\n",
    "print('Best trial:')\n",
    "trial = study.best_trial\n",
    "\n",
    "print(f'  Value: {trial.value}')\n",
    "print('  Params: ')\n",
    "\n",
    "for key, value in trial.params.items():\n",
    "    print(f'    {key}: {value}')"
   ]
  },
  {
   "cell_type": "markdown",
   "id": "51865351-f73b-4921-a86d-e72cef5f6192",
   "metadata": {
    "id": "wdBWzR64kavV"
   },
   "source": [
    "## Re-fit the model"
   ]
  },
  {
   "cell_type": "code",
   "execution_count": 29,
   "id": "664b4141-ec45-4805-b4da-da80ecf4be4e",
   "metadata": {
    "colab": {
     "base_uri": "https://localhost:8080/"
    },
    "execution": {
     "iopub.execute_input": "2023-05-02T22:59:23.023713Z",
     "iopub.status.busy": "2023-05-02T22:59:23.023437Z",
     "iopub.status.idle": "2023-05-02T22:59:23.031696Z",
     "shell.execute_reply": "2023-05-02T22:59:23.029862Z",
     "shell.execute_reply.started": "2023-05-02T22:59:23.023694Z"
    },
    "executionInfo": {
     "elapsed": 153,
     "status": "ok",
     "timestamp": 1682711839306,
     "user": {
      "displayName": "Damir Zunic",
      "userId": "07104666280721646256"
     },
     "user_tz": 240
    },
    "id": "0chjzXrXkavW",
    "outputId": "b2830790-1fac-465d-c730-75beb6cc3fc4",
    "tags": []
   },
   "outputs": [
    {
     "data": {
      "text/plain": [
       "{'n_layers': 1,\n",
       " 'n_units_1': 120,\n",
       " 'pca__n_components': 1400,\n",
       " 'clf__epochs': 40,\n",
       " 'clf__batch_size': 32,\n",
       " 'clf__model__dropout': 0.6,\n",
       " 'clf__optimizer__learning_rate': 0.0009184685330138193}"
      ]
     },
     "execution_count": 29,
     "metadata": {},
     "output_type": "execute_result"
    }
   ],
   "source": [
    "params_t = trial.params\n",
    "params_t"
   ]
  },
  {
   "cell_type": "code",
   "execution_count": 30,
   "id": "47414aff-0008-42dd-9b54-6955dda08308",
   "metadata": {
    "execution": {
     "iopub.execute_input": "2023-05-02T22:59:28.435810Z",
     "iopub.status.busy": "2023-05-02T22:59:28.434317Z",
     "iopub.status.idle": "2023-05-02T22:59:28.444510Z",
     "shell.execute_reply": "2023-05-02T22:59:28.443517Z",
     "shell.execute_reply.started": "2023-05-02T22:59:28.435741Z"
    },
    "tags": []
   },
   "outputs": [
    {
     "data": {
      "text/plain": [
       "{'pca__n_components': 1400,\n",
       " 'clf__epochs': 40,\n",
       " 'clf__batch_size': 32,\n",
       " 'clf__model__dropout': 0.6,\n",
       " 'clf__optimizer__learning_rate': 0.0009184685330138193}"
      ]
     },
     "execution_count": 30,
     "metadata": {},
     "output_type": "execute_result"
    }
   ],
   "source": [
    "### params = {k:v for k,v in params_t.items() if k.startswith('clf')}\n",
    "params = {k:v for k,v in params_t.items() if '__' in k}\n",
    "params"
   ]
  },
  {
   "cell_type": "code",
   "execution_count": 31,
   "id": "0dad4dd7-7105-43f1-84b0-7060b130ec20",
   "metadata": {
    "execution": {
     "iopub.execute_input": "2023-05-02T22:59:36.829671Z",
     "iopub.status.busy": "2023-05-02T22:59:36.829395Z",
     "iopub.status.idle": "2023-05-02T22:59:36.837708Z",
     "shell.execute_reply": "2023-05-02T22:59:36.836418Z",
     "shell.execute_reply.started": "2023-05-02T22:59:36.829652Z"
    },
    "tags": []
   },
   "outputs": [
    {
     "data": {
      "text/plain": [
       "{'pca__n_components': 1400,\n",
       " 'clf__epochs': 40,\n",
       " 'clf__batch_size': 32,\n",
       " 'clf__model__dropout': 0.6,\n",
       " 'clf__optimizer__learning_rate': 0.0009184685330138193,\n",
       " 'clf__model__hidden_layer_sizes': (120,)}"
      ]
     },
     "execution_count": 31,
     "metadata": {},
     "output_type": "execute_result"
    }
   ],
   "source": [
    "if 'n_units_2' in params_t:\n",
    "    params['clf__model__hidden_layer_sizes'] = (params_t['n_units_1'], params_t['n_units_2'])\n",
    "else:\n",
    "    params['clf__model__hidden_layer_sizes'] = (params_t['n_units_1'],)\n",
    "    \n",
    "params"
   ]
  },
  {
   "cell_type": "code",
   "execution_count": 32,
   "id": "f96615e2-48c0-4831-80a8-b22c6d6eaa1e",
   "metadata": {
    "execution": {
     "iopub.execute_input": "2023-05-02T22:59:43.757143Z",
     "iopub.status.busy": "2023-05-02T22:59:43.756839Z",
     "iopub.status.idle": "2023-05-02T23:01:16.709806Z",
     "shell.execute_reply": "2023-05-02T23:01:16.708567Z",
     "shell.execute_reply.started": "2023-05-02T22:59:43.757123Z"
    },
    "tags": []
   },
   "outputs": [
    {
     "data": {
      "text/html": [
       "<style>#sk-container-id-2 {color: black;background-color: white;}#sk-container-id-2 pre{padding: 0;}#sk-container-id-2 div.sk-toggleable {background-color: white;}#sk-container-id-2 label.sk-toggleable__label {cursor: pointer;display: block;width: 100%;margin-bottom: 0;padding: 0.3em;box-sizing: border-box;text-align: center;}#sk-container-id-2 label.sk-toggleable__label-arrow:before {content: \"▸\";float: left;margin-right: 0.25em;color: #696969;}#sk-container-id-2 label.sk-toggleable__label-arrow:hover:before {color: black;}#sk-container-id-2 div.sk-estimator:hover label.sk-toggleable__label-arrow:before {color: black;}#sk-container-id-2 div.sk-toggleable__content {max-height: 0;max-width: 0;overflow: hidden;text-align: left;background-color: #f0f8ff;}#sk-container-id-2 div.sk-toggleable__content pre {margin: 0.2em;color: black;border-radius: 0.25em;background-color: #f0f8ff;}#sk-container-id-2 input.sk-toggleable__control:checked~div.sk-toggleable__content {max-height: 200px;max-width: 100%;overflow: auto;}#sk-container-id-2 input.sk-toggleable__control:checked~label.sk-toggleable__label-arrow:before {content: \"▾\";}#sk-container-id-2 div.sk-estimator input.sk-toggleable__control:checked~label.sk-toggleable__label {background-color: #d4ebff;}#sk-container-id-2 div.sk-label input.sk-toggleable__control:checked~label.sk-toggleable__label {background-color: #d4ebff;}#sk-container-id-2 input.sk-hidden--visually {border: 0;clip: rect(1px 1px 1px 1px);clip: rect(1px, 1px, 1px, 1px);height: 1px;margin: -1px;overflow: hidden;padding: 0;position: absolute;width: 1px;}#sk-container-id-2 div.sk-estimator {font-family: monospace;background-color: #f0f8ff;border: 1px dotted black;border-radius: 0.25em;box-sizing: border-box;margin-bottom: 0.5em;}#sk-container-id-2 div.sk-estimator:hover {background-color: #d4ebff;}#sk-container-id-2 div.sk-parallel-item::after {content: \"\";width: 100%;border-bottom: 1px solid gray;flex-grow: 1;}#sk-container-id-2 div.sk-label:hover label.sk-toggleable__label {background-color: #d4ebff;}#sk-container-id-2 div.sk-serial::before {content: \"\";position: absolute;border-left: 1px solid gray;box-sizing: border-box;top: 0;bottom: 0;left: 50%;z-index: 0;}#sk-container-id-2 div.sk-serial {display: flex;flex-direction: column;align-items: center;background-color: white;padding-right: 0.2em;padding-left: 0.2em;position: relative;}#sk-container-id-2 div.sk-item {position: relative;z-index: 1;}#sk-container-id-2 div.sk-parallel {display: flex;align-items: stretch;justify-content: center;background-color: white;position: relative;}#sk-container-id-2 div.sk-item::before, #sk-container-id-2 div.sk-parallel-item::before {content: \"\";position: absolute;border-left: 1px solid gray;box-sizing: border-box;top: 0;bottom: 0;left: 50%;z-index: -1;}#sk-container-id-2 div.sk-parallel-item {display: flex;flex-direction: column;z-index: 1;position: relative;background-color: white;}#sk-container-id-2 div.sk-parallel-item:first-child::after {align-self: flex-end;width: 50%;}#sk-container-id-2 div.sk-parallel-item:last-child::after {align-self: flex-start;width: 50%;}#sk-container-id-2 div.sk-parallel-item:only-child::after {width: 0;}#sk-container-id-2 div.sk-dashed-wrapped {border: 1px dashed gray;margin: 0 0.4em 0.5em 0.4em;box-sizing: border-box;padding-bottom: 0.4em;background-color: white;}#sk-container-id-2 div.sk-label label {font-family: monospace;font-weight: bold;display: inline-block;line-height: 1.2em;}#sk-container-id-2 div.sk-label-container {text-align: center;}#sk-container-id-2 div.sk-container {/* jupyter's `normalize.less` sets `[hidden] { display: none; }` but bootstrap.min.css set `[hidden] { display: none !important; }` so we also need the `!important` here to be able to override the default hidden behavior on the sphinx rendered scikit-learn.org. See: https://github.com/scikit-learn/scikit-learn/issues/21755 */display: inline-block !important;position: relative;}#sk-container-id-2 div.sk-text-repr-fallback {display: none;}</style><div id=\"sk-container-id-2\" class=\"sk-top-container\"><div class=\"sk-text-repr-fallback\"><pre>Pipeline(steps=[(&#x27;scaler&#x27;, MinMaxScaler()), (&#x27;pca&#x27;, PCA(n_components=1400)),\n",
       "                (&#x27;clf&#x27;,\n",
       "                 KerasClassifier(batch_size=32, epochs=40, loss=&#x27;binary_crossentropy&#x27;, model=&lt;function get_clf at 0x7f39054775b0&gt;, model__dropout=0.6, model__hidden_layer_sizes=(120,), optimizer=&#x27;adam&#x27;, optimizer__learning_rate=0.0009184685330138193, random_state=10, verbose=0))])</pre><b>In a Jupyter environment, please rerun this cell to show the HTML representation or trust the notebook. <br />On GitHub, the HTML representation is unable to render, please try loading this page with nbviewer.org.</b></div><div class=\"sk-container\" hidden><div class=\"sk-item sk-dashed-wrapped\"><div class=\"sk-label-container\"><div class=\"sk-label sk-toggleable\"><input class=\"sk-toggleable__control sk-hidden--visually\" id=\"sk-estimator-id-5\" type=\"checkbox\" ><label for=\"sk-estimator-id-5\" class=\"sk-toggleable__label sk-toggleable__label-arrow\">Pipeline</label><div class=\"sk-toggleable__content\"><pre>Pipeline(steps=[(&#x27;scaler&#x27;, MinMaxScaler()), (&#x27;pca&#x27;, PCA(n_components=1400)),\n",
       "                (&#x27;clf&#x27;,\n",
       "                 KerasClassifier(batch_size=32, epochs=40, loss=&#x27;binary_crossentropy&#x27;, model=&lt;function get_clf at 0x7f39054775b0&gt;, model__dropout=0.6, model__hidden_layer_sizes=(120,), optimizer=&#x27;adam&#x27;, optimizer__learning_rate=0.0009184685330138193, random_state=10, verbose=0))])</pre></div></div></div><div class=\"sk-serial\"><div class=\"sk-item\"><div class=\"sk-estimator sk-toggleable\"><input class=\"sk-toggleable__control sk-hidden--visually\" id=\"sk-estimator-id-6\" type=\"checkbox\" ><label for=\"sk-estimator-id-6\" class=\"sk-toggleable__label sk-toggleable__label-arrow\">MinMaxScaler</label><div class=\"sk-toggleable__content\"><pre>MinMaxScaler()</pre></div></div></div><div class=\"sk-item\"><div class=\"sk-estimator sk-toggleable\"><input class=\"sk-toggleable__control sk-hidden--visually\" id=\"sk-estimator-id-7\" type=\"checkbox\" ><label for=\"sk-estimator-id-7\" class=\"sk-toggleable__label sk-toggleable__label-arrow\">PCA</label><div class=\"sk-toggleable__content\"><pre>PCA(n_components=1400)</pre></div></div></div><div class=\"sk-item\"><div class=\"sk-estimator sk-toggleable\"><input class=\"sk-toggleable__control sk-hidden--visually\" id=\"sk-estimator-id-8\" type=\"checkbox\" ><label for=\"sk-estimator-id-8\" class=\"sk-toggleable__label sk-toggleable__label-arrow\">KerasClassifier</label><div class=\"sk-toggleable__content\"><pre>KerasClassifier(\n",
       "\tmodel=&lt;function get_clf at 0x7f39054775b0&gt;\n",
       "\tbuild_fn=None\n",
       "\twarm_start=False\n",
       "\trandom_state=10\n",
       "\toptimizer=adam\n",
       "\tloss=binary_crossentropy\n",
       "\tmetrics=None\n",
       "\tbatch_size=32\n",
       "\tvalidation_batch_size=None\n",
       "\tverbose=0\n",
       "\tcallbacks=None\n",
       "\tvalidation_split=0.0\n",
       "\tshuffle=True\n",
       "\trun_eagerly=False\n",
       "\tepochs=40\n",
       "\tmodel__hidden_layer_sizes=(120,)\n",
       "\tmodel__dropout=0.6\n",
       "\toptimizer__learning_rate=0.0009184685330138193\n",
       "\tclass_weight=None\n",
       ")</pre></div></div></div></div></div></div></div>"
      ],
      "text/plain": [
       "Pipeline(steps=[('scaler', MinMaxScaler()), ('pca', PCA(n_components=1400)),\n",
       "                ('clf',\n",
       "                 KerasClassifier(batch_size=32, epochs=40, loss='binary_crossentropy', model=<function get_clf at 0x7f39054775b0>, model__dropout=0.6, model__hidden_layer_sizes=(120,), optimizer='adam', optimizer__learning_rate=0.0009184685330138193, random_state=10, verbose=0))])"
      ]
     },
     "execution_count": 32,
     "metadata": {},
     "output_type": "execute_result"
    }
   ],
   "source": [
    "pipe.set_params(**params)\n",
    "    ## model = SVC(**params, kernel='linear', random_state=random_state)\n",
    "pipe.fit(X_train, y_train)"
   ]
  },
  {
   "cell_type": "code",
   "execution_count": 268,
   "id": "82afe0fe-15a2-43b2-b809-54f7028d9252",
   "metadata": {
    "colab": {
     "base_uri": "https://localhost:8080/"
    },
    "execution": {
     "iopub.execute_input": "2023-05-02T19:49:03.901814Z",
     "iopub.status.busy": "2023-05-02T19:49:03.901518Z",
     "iopub.status.idle": "2023-05-02T19:49:05.018703Z",
     "shell.execute_reply": "2023-05-02T19:49:05.017774Z",
     "shell.execute_reply.started": "2023-05-02T19:49:03.901796Z"
    },
    "executionInfo": {
     "elapsed": 213,
     "status": "ok",
     "timestamp": 1682617792838,
     "user": {
      "displayName": "Damir Zunic",
      "userId": "07104666280721646256"
     },
     "user_tz": 240
    },
    "id": "LbF9DeztkavX",
    "outputId": "c5f58508-4df3-4877-aea7-154111dacd89",
    "tags": []
   },
   "outputs": [
    {
     "name": "stdout",
     "output_type": "stream",
     "text": [
      "INFO:tensorflow:Assets written to: ram://8ca6c01392f44b7f818015b5d5264584/assets\n"
     ]
    },
    {
     "data": {
      "text/plain": [
       "['./saved_models/batch_4_stack/nn_pca_2.pkl']"
      ]
     },
     "execution_count": 268,
     "metadata": {},
     "output_type": "execute_result"
    }
   ],
   "source": [
    "# Save the model\n",
    "# joblib.dump(mlp, '/content/drive/MyDrive/Omdena/Team1/saved_models/batch_4_stack/nn_pca_1.pkl')\n",
    "joblib.dump(pipe, './saved_models/batch_4_stack/nn_pca_t_1.pkl')"
   ]
  },
  {
   "cell_type": "code",
   "execution_count": 33,
   "id": "0cd4e592-394e-46df-9964-4e9d5e206cde",
   "metadata": {
    "execution": {
     "iopub.execute_input": "2023-05-02T23:01:26.949266Z",
     "iopub.status.busy": "2023-05-02T23:01:26.948284Z",
     "iopub.status.idle": "2023-05-02T23:01:26.966481Z",
     "shell.execute_reply": "2023-05-02T23:01:26.965569Z",
     "shell.execute_reply.started": "2023-05-02T23:01:26.949242Z"
    },
    "tags": []
   },
   "outputs": [
    {
     "name": "stdout",
     "output_type": "stream",
     "text": [
      "Model: \"sequential_41\"\n",
      "_________________________________________________________________\n",
      " Layer (type)                Output Shape              Param #   \n",
      "=================================================================\n",
      " dense_135 (Dense)           (None, 1400)              1961400   \n",
      "                                                                 \n",
      " dense_136 (Dense)           (None, 120)               168120    \n",
      "                                                                 \n",
      " dropout_53 (Dropout)        (None, 120)               0         \n",
      "                                                                 \n",
      " dense_137 (Dense)           (None, 1)                 121       \n",
      "                                                                 \n",
      "=================================================================\n",
      "Total params: 2,129,641\n",
      "Trainable params: 2,129,641\n",
      "Non-trainable params: 0\n",
      "_________________________________________________________________\n"
     ]
    }
   ],
   "source": [
    "pipe['clf'].model_.summary()"
   ]
  },
  {
   "cell_type": "code",
   "execution_count": 34,
   "id": "b6a444ea-8b87-4eec-9b3c-02aeb8ff29c1",
   "metadata": {
    "execution": {
     "iopub.execute_input": "2023-05-02T23:01:38.312940Z",
     "iopub.status.busy": "2023-05-02T23:01:38.312653Z",
     "iopub.status.idle": "2023-05-02T23:01:38.857778Z",
     "shell.execute_reply": "2023-05-02T23:01:38.856867Z",
     "shell.execute_reply.started": "2023-05-02T23:01:38.312920Z"
    },
    "id": "wu6udS__kavX",
    "tags": []
   },
   "outputs": [],
   "source": [
    "y_pred = pipe.predict(X_test)"
   ]
  },
  {
   "cell_type": "code",
   "execution_count": 35,
   "id": "07e02ca5-c5ed-44b0-ba54-e57d8c3e27f4",
   "metadata": {
    "colab": {
     "base_uri": "https://localhost:8080/"
    },
    "execution": {
     "iopub.execute_input": "2023-05-02T23:01:40.700076Z",
     "iopub.status.busy": "2023-05-02T23:01:40.699758Z",
     "iopub.status.idle": "2023-05-02T23:01:40.707086Z",
     "shell.execute_reply": "2023-05-02T23:01:40.706138Z",
     "shell.execute_reply.started": "2023-05-02T23:01:40.700053Z"
    },
    "executionInfo": {
     "elapsed": 312,
     "status": "ok",
     "timestamp": 1682712246169,
     "user": {
      "displayName": "Damir Zunic",
      "userId": "07104666280721646256"
     },
     "user_tz": 240
    },
    "id": "hbTv01iskavX",
    "outputId": "bcbc4bcd-6492-4e64-c009-a4ff56941dcc",
    "tags": []
   },
   "outputs": [
    {
     "name": "stdout",
     "output_type": "stream",
     "text": [
      "Accuracy after tuning: 84.50\n"
     ]
    }
   ],
   "source": [
    "accuracy = accuracy_score(y_test, y_pred)\n",
    "print(f'Accuracy after tuning: {accuracy * 100.0:.2f}')"
   ]
  },
  {
   "cell_type": "code",
   "execution_count": 36,
   "id": "df8e68c7-8b3c-4f16-a4e4-cd1611ab25a6",
   "metadata": {
    "colab": {
     "base_uri": "https://localhost:8080/"
    },
    "execution": {
     "iopub.execute_input": "2023-05-02T23:01:46.064446Z",
     "iopub.status.busy": "2023-05-02T23:01:46.064157Z",
     "iopub.status.idle": "2023-05-02T23:01:48.472590Z",
     "shell.execute_reply": "2023-05-02T23:01:48.471607Z",
     "shell.execute_reply.started": "2023-05-02T23:01:46.064426Z"
    },
    "executionInfo": {
     "elapsed": 652,
     "status": "ok",
     "timestamp": 1682712256130,
     "user": {
      "displayName": "Damir Zunic",
      "userId": "07104666280721646256"
     },
     "user_tz": 240
    },
    "id": "kfP1WnUfkavY",
    "outputId": "7f45f46e-dbe1-4735-f46f-74ff470c0152",
    "tags": []
   },
   "outputs": [
    {
     "name": "stdout",
     "output_type": "stream",
     "text": [
      "Training Data Score: 1.0\n",
      "Testing Data Score: 0.8450390189520625\n"
     ]
    }
   ],
   "source": [
    "# Compare training and testing scores\n",
    "print(f\"Training Data Score: {pipe.score(X_train, y_train)}\")\n",
    "print(f\"Testing Data Score: {pipe.score(X_test, y_test)}\")"
   ]
  },
  {
   "cell_type": "code",
   "execution_count": 37,
   "id": "1470b4e6-e482-4988-9f8d-7d98ded8cc7c",
   "metadata": {
    "colab": {
     "base_uri": "https://localhost:8080/"
    },
    "execution": {
     "iopub.execute_input": "2023-05-02T23:01:53.627828Z",
     "iopub.status.busy": "2023-05-02T23:01:53.627545Z",
     "iopub.status.idle": "2023-05-02T23:01:53.636044Z",
     "shell.execute_reply": "2023-05-02T23:01:53.635002Z",
     "shell.execute_reply.started": "2023-05-02T23:01:53.627807Z"
    },
    "executionInfo": {
     "elapsed": 158,
     "status": "ok",
     "timestamp": 1682712268450,
     "user": {
      "displayName": "Damir Zunic",
      "userId": "07104666280721646256"
     },
     "user_tz": 240
    },
    "id": "3-5Gg07lkavY",
    "outputId": "3fe6244e-b1fe-48a2-e887-b7d33b70c773",
    "tags": []
   },
   "outputs": [
    {
     "name": "stdout",
     "output_type": "stream",
     "text": [
      "[[ 251   88]\n",
      " [ 190 1265]]\n"
     ]
    }
   ],
   "source": [
    "cm = confusion_matrix(y_test, y_pred)\n",
    "print(cm)"
   ]
  },
  {
   "cell_type": "code",
   "execution_count": 38,
   "id": "7a1b5e5b-bdc1-4218-88bf-c6c0ec75ca1f",
   "metadata": {
    "colab": {
     "base_uri": "https://localhost:8080/",
     "height": 315
    },
    "execution": {
     "iopub.execute_input": "2023-05-02T23:01:57.554090Z",
     "iopub.status.busy": "2023-05-02T23:01:57.553762Z",
     "iopub.status.idle": "2023-05-02T23:01:57.991025Z",
     "shell.execute_reply": "2023-05-02T23:01:57.990253Z",
     "shell.execute_reply.started": "2023-05-02T23:01:57.554069Z"
    },
    "executionInfo": {
     "elapsed": 1309,
     "status": "ok",
     "timestamp": 1682712278412,
     "user": {
      "displayName": "Damir Zunic",
      "userId": "07104666280721646256"
     },
     "user_tz": 240
    },
    "id": "yAEszP3ikavY",
    "outputId": "7ecea9cd-5234-4237-eca2-360e5a138c82",
    "tags": []
   },
   "outputs": [
    {
     "data": {
      "image/png": "[encoded data removed]",
      "text/plain": [
       "<Figure size 864x288 with 4 Axes>"
      ]
     },
     "metadata": {},
     "output_type": "display_data"
    }
   ],
   "source": [
    "# Plot confusion matrix and its normalized version.\n",
    "mu.plot_cm_unnorm_and_norm('Neural Network - PCA tuned #1', y_test, y_pred, target_names, 'Reds')"
   ]
  },
  {
   "cell_type": "code",
   "execution_count": 39,
   "id": "7ee16258-dba7-42a4-8ad5-4c76f2eb52f7",
   "metadata": {
    "colab": {
     "base_uri": "https://localhost:8080/"
    },
    "execution": {
     "iopub.execute_input": "2023-05-02T23:03:27.856726Z",
     "iopub.status.busy": "2023-05-02T23:03:27.856420Z",
     "iopub.status.idle": "2023-05-02T23:03:27.869936Z",
     "shell.execute_reply": "2023-05-02T23:03:27.868570Z",
     "shell.execute_reply.started": "2023-05-02T23:03:27.856705Z"
    },
    "executionInfo": {
     "elapsed": 194,
     "status": "ok",
     "timestamp": 1682712298538,
     "user": {
      "displayName": "Damir Zunic",
      "userId": "07104666280721646256"
     },
     "user_tz": 240
    },
    "id": "nRKz3IplkavY",
    "outputId": "20121d11-d163-4d2d-cf8d-4ba3e2c560ce",
    "tags": []
   },
   "outputs": [
    {
     "name": "stdout",
     "output_type": "stream",
     "text": [
      "              precision    recall  f1-score   support\n",
      "\n",
      "         hem       0.57      0.74      0.64       339\n",
      "         all       0.93      0.87      0.90      1455\n",
      "\n",
      "    accuracy                           0.85      1794\n",
      "   macro avg       0.75      0.80      0.77      1794\n",
      "weighted avg       0.87      0.85      0.85      1794\n",
      "\n"
     ]
    }
   ],
   "source": [
    "print(classification_report(y_test, y_pred, target_names=target_names))"
   ]
  },
  {
   "cell_type": "markdown",
   "id": "259f263d-f02e-46dd-9e21-bf927671a1b7",
   "metadata": {},
   "source": [
    "## PCA - Tuned - short window"
   ]
  },
  {
   "cell_type": "code",
   "execution_count": 100,
   "id": "aa67df3a-638f-4834-8c36-d4d24ce73a19",
   "metadata": {
    "execution": {
     "iopub.execute_input": "2023-05-03T10:39:12.058657Z",
     "iopub.status.busy": "2023-05-03T10:39:12.058228Z",
     "iopub.status.idle": "2023-05-03T10:39:12.064636Z",
     "shell.execute_reply": "2023-05-03T10:39:12.063286Z",
     "shell.execute_reply.started": "2023-05-03T10:39:12.058632Z"
    },
    "tags": []
   },
   "outputs": [],
   "source": [
    "# Define model with pipeline\n",
    "num_pca_components = 1000\n",
    "pipe = Pipeline(\n",
    "    steps = (\n",
    "        ('scaler', MinMaxScaler()),\n",
    "        ('pca', PCA(num_pca_components)),\n",
    "        ('clf', clf)\n",
    "    )\n",
    ")"
   ]
  },
  {
   "cell_type": "markdown",
   "id": "114b8902-7d0a-4b4c-bc0e-adc745c2263e",
   "metadata": {
    "id": "RkQ_-axnlG8O"
   },
   "source": [
    "## Optuna Objective Function"
   ]
  },
  {
   "cell_type": "code",
   "execution_count": 101,
   "id": "44068815-b0aa-4226-9202-649bf0a03433",
   "metadata": {
    "execution": {
     "iopub.execute_input": "2023-05-03T10:39:31.691391Z",
     "iopub.status.busy": "2023-05-03T10:39:31.691110Z",
     "iopub.status.idle": "2023-05-03T10:39:31.703658Z",
     "shell.execute_reply": "2023-05-03T10:39:31.701894Z",
     "shell.execute_reply.started": "2023-05-03T10:39:31.691370Z"
    },
    "executionInfo": {
     "elapsed": 144,
     "status": "ok",
     "timestamp": 1682640534483,
     "user": {
      "displayName": "Damir Zunic",
      "userId": "07104666280721646256"
     },
     "user_tz": 240
    },
    "id": "2aELGNRDlG8O",
    "tags": []
   },
   "outputs": [],
   "source": [
    "def objective(trial):\n",
    "    \"\"\"Define the objective function\"\"\"\n",
    "\n",
    "    n_layers = trial.suggest_int('n_layers', 1, 2) # no. of hidden layers \n",
    " \n",
    "    layers = [300]  # max nodes in layers\n",
    "    for i in range(n_layers):\n",
    "        layers.append(trial.suggest_int(f\"n_units_{i+1}\", 20, layers[i], 20)) # no. of hidden unit\n",
    "    \n",
    "    \n",
    "    params = {\n",
    "        'pca__n_components' : trial.suggest_int('pca__n_components', 900, 1200),\n",
    "        'clf__epochs' : trial.suggest_int('clf__epochs', 10, 150, 10),\n",
    "        'clf__batch_size' : trial.suggest_categorical('clf__batch_size', [32, 64, 128]),\n",
    "        ### 'clf__model__dropout' : trial.suggest_float('clf__model__dropout', 0.2, 0.6, step=0.1),\n",
    "        'clf__model__dropout' : trial.suggest_float('clf__model__dropout', 0.2, 0.6),\n",
    "         ###'clf__model__hidden_layer_sizes' : [(100, ), (50, 50, )],\n",
    "        'clf__optimizer__learning_rate' : trial.suggest_float('clf__optimizer__learning_rate', 1e-5, 1e-1, log=True),\n",
    "    }\n",
    "    \n",
    "    params['clf__model__hidden_layer_sizes'] = tuple(layers[1:])\n",
    "\n",
    "    pipe.set_params(**params)\n",
    "   \n",
    "    # Fit the model\n",
    "    pipe.fit(X_train, y_train)\n",
    "\n",
    "    # Make predictions\n",
    "    y_pred = pipe.predict(X_test)\n",
    "\n",
    "    # Evaluate predictions\n",
    "    f1 = f1_score(y_test, y_pred, average='macro')\n",
    "    return f1"
   ]
  },
  {
   "cell_type": "markdown",
   "id": "7d1173c9-e6c6-44db-a052-8474164125ca",
   "metadata": {
    "id": "UlhwpS7-lG8O"
   },
   "source": [
    "## Optuna Study"
   ]
  },
  {
   "cell_type": "code",
   "execution_count": 102,
   "id": "cd9217ff-8741-476d-9125-b90f903f0c49",
   "metadata": {
    "colab": {
     "base_uri": "https://localhost:8080/"
    },
    "execution": {
     "iopub.execute_input": "2023-05-03T10:39:41.452732Z",
     "iopub.status.busy": "2023-05-03T10:39:41.452427Z",
     "iopub.status.idle": "2023-05-03T10:39:41.461847Z",
     "shell.execute_reply": "2023-05-03T10:39:41.460782Z",
     "shell.execute_reply.started": "2023-05-03T10:39:41.452708Z"
    },
    "executionInfo": {
     "elapsed": 166,
     "status": "ok",
     "timestamp": 1682640542700,
     "user": {
      "displayName": "Damir Zunic",
      "userId": "07104666280721646256"
     },
     "user_tz": 240
    },
    "id": "vOfrCTgplG8O",
    "outputId": "cfccac98-89f6-4216-acc5-ce60b43cb0e2",
    "tags": []
   },
   "outputs": [
    {
     "name": "stderr",
     "output_type": "stream",
     "text": [
      "\u001b[32m[I 2023-05-03 06:39:41,454]\u001b[0m A new study created in memory with name: no-name-751867b0-d455-4a59-95c1-49a9bb08bf02\u001b[0m\n"
     ]
    }
   ],
   "source": [
    "study = optuna.create_study(direction='maximize')"
   ]
  },
  {
   "cell_type": "markdown",
   "id": "54653ee6-2ed1-4656-ac05-887456318cd3",
   "metadata": {
    "id": "gvAvJRAIlG8P"
   },
   "source": [
    "## Optimize the Objective Function"
   ]
  },
  {
   "cell_type": "code",
   "execution_count": 103,
   "id": "390e6011-9ab7-4c64-a1b6-5ee903694033",
   "metadata": {
    "colab": {
     "base_uri": "https://localhost:8080/"
    },
    "execution": {
     "iopub.execute_input": "2023-05-03T10:39:46.499433Z",
     "iopub.status.busy": "2023-05-03T10:39:46.499157Z",
     "iopub.status.idle": "2023-05-03T11:22:21.997331Z",
     "shell.execute_reply": "2023-05-03T11:22:21.996371Z",
     "shell.execute_reply.started": "2023-05-03T10:39:46.499413Z"
    },
    "executionInfo": {
     "elapsed": 5163058,
     "status": "ok",
     "timestamp": 1682645720710,
     "user": {
      "displayName": "Damir Zunic",
      "userId": "07104666280721646256"
     },
     "user_tz": 240
    },
    "id": "TKtM3W6PbiE9",
    "outputId": "3b2351f9-5101-4f6c-a9e6-e90064657ead",
    "scrolled": true,
    "tags": []
   },
   "outputs": [
    {
     "name": "stderr",
     "output_type": "stream",
     "text": [
      "\u001b[32m[I 2023-05-03 06:41:38,942]\u001b[0m Trial 0 finished with value: 0.7764261001283383 and parameters: {'n_layers': 2, 'n_units_1': 220, 'n_units_2': 40, 'pca__n_components': 1108, 'clf__epochs': 60, 'clf__batch_size': 32, 'clf__model__dropout': 0.4691816022944599, 'clf__optimizer__learning_rate': 0.0014792768021524242}. Best is trial 0 with value: 0.7764261001283383.\u001b[0m\n",
      "\u001b[32m[I 2023-05-03 06:44:03,194]\u001b[0m Trial 1 finished with value: 0.7713502084051098 and parameters: {'n_layers': 2, 'n_units_1': 280, 'n_units_2': 160, 'pca__n_components': 1005, 'clf__epochs': 150, 'clf__batch_size': 64, 'clf__model__dropout': 0.3413028276667405, 'clf__optimizer__learning_rate': 1.1813574371110236e-05}. Best is trial 0 with value: 0.7764261001283383.\u001b[0m\n",
      "\u001b[32m[I 2023-05-03 06:44:25,531]\u001b[0m Trial 2 finished with value: 0.7843901771011943 and parameters: {'n_layers': 2, 'n_units_1': 140, 'n_units_2': 100, 'pca__n_components': 902, 'clf__epochs': 10, 'clf__batch_size': 64, 'clf__model__dropout': 0.4153111464013849, 'clf__optimizer__learning_rate': 0.007918701947696102}. Best is trial 2 with value: 0.7843901771011943.\u001b[0m\n",
      "\u001b[32m[I 2023-05-03 06:45:01,527]\u001b[0m Trial 3 finished with value: 0.7817296968468012 and parameters: {'n_layers': 2, 'n_units_1': 100, 'n_units_2': 60, 'pca__n_components': 1189, 'clf__epochs': 20, 'clf__batch_size': 64, 'clf__model__dropout': 0.35829912059903785, 'clf__optimizer__learning_rate': 0.00020476775356485015}. Best is trial 2 with value: 0.7843901771011943.\u001b[0m\n",
      "\u001b[32m[I 2023-05-03 06:46:24,033]\u001b[0m Trial 4 finished with value: 0.46604995374653096 and parameters: {'n_layers': 2, 'n_units_1': 180, 'n_units_2': 60, 'pca__n_components': 1022, 'clf__epochs': 80, 'clf__batch_size': 128, 'clf__model__dropout': 0.5281840190026583, 'clf__optimizer__learning_rate': 0.03118536878527479}. Best is trial 2 with value: 0.7843901771011943.\u001b[0m\n",
      "\u001b[32m[I 2023-05-03 06:47:06,287]\u001b[0m Trial 5 finished with value: 0.7678933766501052 and parameters: {'n_layers': 1, 'n_units_1': 300, 'pca__n_components': 1119, 'clf__epochs': 60, 'clf__batch_size': 128, 'clf__model__dropout': 0.3688964815874768, 'clf__optimizer__learning_rate': 1.771483874471714e-05}. Best is trial 2 with value: 0.7843901771011943.\u001b[0m\n",
      "\u001b[32m[I 2023-05-03 06:48:11,913]\u001b[0m Trial 6 finished with value: 0.44714946070878275 and parameters: {'n_layers': 1, 'n_units_1': 220, 'pca__n_components': 921, 'clf__epochs': 130, 'clf__batch_size': 128, 'clf__model__dropout': 0.32474808912902814, 'clf__optimizer__learning_rate': 0.040210034901268434}. Best is trial 2 with value: 0.7843901771011943.\u001b[0m\n",
      "\u001b[32m[I 2023-05-03 06:49:14,296]\u001b[0m Trial 7 finished with value: 0.7498356881134329 and parameters: {'n_layers': 2, 'n_units_1': 80, 'n_units_2': 20, 'pca__n_components': 982, 'clf__epochs': 30, 'clf__batch_size': 128, 'clf__model__dropout': 0.47733305764995454, 'clf__optimizer__learning_rate': 1.9911464447484432e-05}. Best is trial 2 with value: 0.7843901771011943.\u001b[0m\n",
      "\u001b[32m[I 2023-05-03 06:52:20,875]\u001b[0m Trial 8 finished with value: 0.7846478820814412 and parameters: {'n_layers': 1, 'n_units_1': 60, 'pca__n_components': 914, 'clf__epochs': 120, 'clf__batch_size': 32, 'clf__model__dropout': 0.2959801496790988, 'clf__optimizer__learning_rate': 0.00044126683414744334}. Best is trial 8 with value: 0.7846478820814412.\u001b[0m\n",
      "\u001b[32m[I 2023-05-03 06:53:49,623]\u001b[0m Trial 9 finished with value: 0.7778054032700296 and parameters: {'n_layers': 2, 'n_units_1': 220, 'n_units_2': 200, 'pca__n_components': 1069, 'clf__epochs': 90, 'clf__batch_size': 64, 'clf__model__dropout': 0.527229744584665, 'clf__optimizer__learning_rate': 6.0377207944311396e-05}. Best is trial 8 with value: 0.7846478820814412.\u001b[0m\n",
      "\u001b[32m[I 2023-05-03 06:57:00,606]\u001b[0m Trial 10 finished with value: 0.7846298758865249 and parameters: {'n_layers': 1, 'n_units_1': 20, 'pca__n_components': 958, 'clf__epochs': 120, 'clf__batch_size': 32, 'clf__model__dropout': 0.22358215320342148, 'clf__optimizer__learning_rate': 0.0005933178983214766}. Best is trial 8 with value: 0.7846478820814412.\u001b[0m\n",
      "\u001b[32m[I 2023-05-03 07:00:01,859]\u001b[0m Trial 11 finished with value: 0.7662413722134511 and parameters: {'n_layers': 1, 'n_units_1': 20, 'pca__n_components': 948, 'clf__epochs': 120, 'clf__batch_size': 32, 'clf__model__dropout': 0.21905348328378693, 'clf__optimizer__learning_rate': 0.0009237187467663426}. Best is trial 8 with value: 0.7846478820814412.\u001b[0m\n",
      "\u001b[32m[I 2023-05-03 07:02:58,167]\u001b[0m Trial 12 finished with value: 0.7699836170667427 and parameters: {'n_layers': 1, 'n_units_1': 20, 'pca__n_components': 959, 'clf__epochs': 110, 'clf__batch_size': 32, 'clf__model__dropout': 0.21512087496288618, 'clf__optimizer__learning_rate': 0.0003754050799406756}. Best is trial 8 with value: 0.7846478820814412.\u001b[0m\n",
      "\u001b[32m[I 2023-05-03 07:06:54,597]\u001b[0m Trial 13 finished with value: 0.7661733260659931 and parameters: {'n_layers': 1, 'n_units_1': 60, 'pca__n_components': 934, 'clf__epochs': 150, 'clf__batch_size': 32, 'clf__model__dropout': 0.2809577422028071, 'clf__optimizer__learning_rate': 0.0022919770567897267}. Best is trial 8 with value: 0.7846478820814412.\u001b[0m\n",
      "\u001b[32m[I 2023-05-03 07:09:41,645]\u001b[0m Trial 14 finished with value: 0.7856612038595616 and parameters: {'n_layers': 1, 'n_units_1': 60, 'pca__n_components': 1042, 'clf__epochs': 100, 'clf__batch_size': 32, 'clf__model__dropout': 0.2739980300965364, 'clf__optimizer__learning_rate': 0.00013314480380172358}. Best is trial 14 with value: 0.7856612038595616.\u001b[0m\n",
      "\u001b[32m[I 2023-05-03 07:12:12,334]\u001b[0m Trial 15 finished with value: 0.7644623009472419 and parameters: {'n_layers': 1, 'n_units_1': 120, 'pca__n_components': 1056, 'clf__epochs': 90, 'clf__batch_size': 32, 'clf__model__dropout': 0.2916639361802289, 'clf__optimizer__learning_rate': 0.000115487942931802}. Best is trial 14 with value: 0.7856612038595616.\u001b[0m\n",
      "\u001b[32m[I 2023-05-03 07:14:57,736]\u001b[0m Trial 16 finished with value: 0.772054631148011 and parameters: {'n_layers': 1, 'n_units_1': 80, 'pca__n_components': 1190, 'clf__epochs': 100, 'clf__batch_size': 32, 'clf__model__dropout': 0.27317164278792055, 'clf__optimizer__learning_rate': 0.00010542084322283595}. Best is trial 14 with value: 0.7856612038595616.\u001b[0m\n",
      "\u001b[32m[I 2023-05-03 07:17:33,178]\u001b[0m Trial 17 finished with value: 0.7792545385937697 and parameters: {'n_layers': 1, 'n_units_1': 60, 'pca__n_components': 1106, 'clf__epochs': 70, 'clf__batch_size': 32, 'clf__model__dropout': 0.2636370108776216, 'clf__optimizer__learning_rate': 4.6102493422025e-05}. Best is trial 14 with value: 0.7856612038595616.\u001b[0m\n",
      "\u001b[32m[I 2023-05-03 07:21:03,196]\u001b[0m Trial 18 finished with value: 0.7710787807639092 and parameters: {'n_layers': 1, 'n_units_1': 140, 'pca__n_components': 1155, 'clf__epochs': 130, 'clf__batch_size': 32, 'clf__model__dropout': 0.308441160485181, 'clf__optimizer__learning_rate': 0.00023577296463965207}. Best is trial 14 with value: 0.7856612038595616.\u001b[0m\n",
      "\u001b[32m[I 2023-05-03 07:22:21,993]\u001b[0m Trial 19 finished with value: 0.7569579919365328 and parameters: {'n_layers': 1, 'n_units_1': 180, 'pca__n_components': 1016, 'clf__epochs': 40, 'clf__batch_size': 32, 'clf__model__dropout': 0.5986922408084542, 'clf__optimizer__learning_rate': 0.00045163934012723117}. Best is trial 14 with value: 0.7856612038595616.\u001b[0m\n"
     ]
    }
   ],
   "source": [
    "study.optimize(objective, n_trials=20)"
   ]
  },
  {
   "cell_type": "code",
   "execution_count": 104,
   "id": "ec2c2bb8-7ff2-4954-97bb-c0a185ec799a",
   "metadata": {
    "execution": {
     "iopub.execute_input": "2023-05-03T11:29:28.277573Z",
     "iopub.status.busy": "2023-05-03T11:29:28.276853Z",
     "iopub.status.idle": "2023-05-03T12:05:58.841462Z",
     "shell.execute_reply": "2023-05-03T12:05:58.840550Z",
     "shell.execute_reply.started": "2023-05-03T11:29:28.277548Z"
    },
    "scrolled": true,
    "tags": []
   },
   "outputs": [
    {
     "name": "stderr",
     "output_type": "stream",
     "text": [
      "\u001b[32m[I 2023-05-03 07:32:07,445]\u001b[0m Trial 20 finished with value: 0.7780489157561976 and parameters: {'n_layers': 1, 'n_units_1': 60, 'pca__n_components': 1084, 'clf__epochs': 100, 'clf__batch_size': 32, 'clf__model__dropout': 0.24269815065790834, 'clf__optimizer__learning_rate': 0.0037835179241283517}. Best is trial 14 with value: 0.7856612038595616.\u001b[0m\n",
      "\u001b[32m[I 2023-05-03 07:35:38,205]\u001b[0m Trial 21 finished with value: 0.7717011971133034 and parameters: {'n_layers': 1, 'n_units_1': 20, 'pca__n_components': 987, 'clf__epochs': 130, 'clf__batch_size': 32, 'clf__model__dropout': 0.20177690640712534, 'clf__optimizer__learning_rate': 0.0006485618078787064}. Best is trial 14 with value: 0.7856612038595616.\u001b[0m\n",
      "\u001b[32m[I 2023-05-03 07:38:34,196]\u001b[0m Trial 22 finished with value: 0.7821383732400682 and parameters: {'n_layers': 1, 'n_units_1': 40, 'pca__n_components': 903, 'clf__epochs': 110, 'clf__batch_size': 32, 'clf__model__dropout': 0.24700070166215357, 'clf__optimizer__learning_rate': 0.0007974316123372202}. Best is trial 14 with value: 0.7856612038595616.\u001b[0m\n",
      "\u001b[32m[I 2023-05-03 07:42:11,286]\u001b[0m Trial 23 finished with value: 0.7977513077163967 and parameters: {'n_layers': 1, 'n_units_1': 40, 'pca__n_components': 968, 'clf__epochs': 140, 'clf__batch_size': 32, 'clf__model__dropout': 0.3015489872571465, 'clf__optimizer__learning_rate': 0.00029975017811152623}. Best is trial 23 with value: 0.7977513077163967.\u001b[0m\n",
      "\u001b[32m[I 2023-05-03 07:45:56,053]\u001b[0m Trial 24 finished with value: 0.7763963288596465 and parameters: {'n_layers': 1, 'n_units_1': 100, 'pca__n_components': 1037, 'clf__epochs': 140, 'clf__batch_size': 32, 'clf__model__dropout': 0.3039696461456591, 'clf__optimizer__learning_rate': 0.00021549772538299975}. Best is trial 23 with value: 0.7977513077163967.\u001b[0m\n",
      "\u001b[32m[I 2023-05-03 07:49:35,595]\u001b[0m Trial 25 finished with value: 0.7638296599182208 and parameters: {'n_layers': 1, 'n_units_1': 100, 'pca__n_components': 982, 'clf__epochs': 140, 'clf__batch_size': 32, 'clf__model__dropout': 0.32966082510101047, 'clf__optimizer__learning_rate': 5.4095312429912816e-05}. Best is trial 23 with value: 0.7977513077163967.\u001b[0m\n",
      "\u001b[32m[I 2023-05-03 07:52:52,333]\u001b[0m Trial 26 finished with value: 0.7841964044671438 and parameters: {'n_layers': 1, 'n_units_1': 40, 'pca__n_components': 929, 'clf__epochs': 120, 'clf__batch_size': 32, 'clf__model__dropout': 0.2659427064393803, 'clf__optimizer__learning_rate': 0.00029395692883847315}. Best is trial 23 with value: 0.7977513077163967.\u001b[0m\n",
      "\u001b[32m[I 2023-05-03 07:55:48,681]\u001b[0m Trial 27 finished with value: 0.7745686215714391 and parameters: {'n_layers': 1, 'n_units_1': 80, 'pca__n_components': 996, 'clf__epochs': 110, 'clf__batch_size': 32, 'clf__model__dropout': 0.3033554777664764, 'clf__optimizer__learning_rate': 9.812641603990973e-05}. Best is trial 23 with value: 0.7977513077163967.\u001b[0m\n",
      "\u001b[32m[I 2023-05-03 07:57:46,575]\u001b[0m Trial 28 finished with value: 0.7651390090714315 and parameters: {'n_layers': 1, 'n_units_1': 40, 'pca__n_components': 968, 'clf__epochs': 140, 'clf__batch_size': 64, 'clf__model__dropout': 0.37884833407184115, 'clf__optimizer__learning_rate': 0.0014966865840660318}. Best is trial 23 with value: 0.7977513077163967.\u001b[0m\n",
      "\u001b[32m[I 2023-05-03 07:58:34,068]\u001b[0m Trial 29 finished with value: 0.7863172783443757 and parameters: {'n_layers': 1, 'n_units_1': 120, 'pca__n_components': 1041, 'clf__epochs': 90, 'clf__batch_size': 128, 'clf__model__dropout': 0.33949379188190004, 'clf__optimizer__learning_rate': 0.0011496061373075367}. Best is trial 23 with value: 0.7977513077163967.\u001b[0m\n",
      "\u001b[32m[I 2023-05-03 07:59:07,626]\u001b[0m Trial 30 finished with value: 0.8000568400287543 and parameters: {'n_layers': 1, 'n_units_1': 140, 'pca__n_components': 1044, 'clf__epochs': 50, 'clf__batch_size': 128, 'clf__model__dropout': 0.4064217815350598, 'clf__optimizer__learning_rate': 0.0014017856089746264}. Best is trial 30 with value: 0.8000568400287543.\u001b[0m\n",
      "\u001b[32m[I 2023-05-03 07:59:43,930]\u001b[0m Trial 31 finished with value: 0.7827614165799917 and parameters: {'n_layers': 1, 'n_units_1': 160, 'pca__n_components': 1040, 'clf__epochs': 60, 'clf__batch_size': 128, 'clf__model__dropout': 0.405438125692722, 'clf__optimizer__learning_rate': 0.0017654712747287795}. Best is trial 30 with value: 0.8000568400287543.\u001b[0m\n",
      "\u001b[32m[I 2023-05-03 08:00:18,379]\u001b[0m Trial 32 finished with value: 0.7777761282315963 and parameters: {'n_layers': 1, 'n_units_1': 120, 'pca__n_components': 1090, 'clf__epochs': 50, 'clf__batch_size': 128, 'clf__model__dropout': 0.3489075977613132, 'clf__optimizer__learning_rate': 0.0010090963529189238}. Best is trial 30 with value: 0.8000568400287543.\u001b[0m\n",
      "\u001b[32m[I 2023-05-03 08:01:00,424]\u001b[0m Trial 33 finished with value: 0.7827614165799917 and parameters: {'n_layers': 1, 'n_units_1': 180, 'pca__n_components': 1019, 'clf__epochs': 70, 'clf__batch_size': 128, 'clf__model__dropout': 0.3344767405405942, 'clf__optimizer__learning_rate': 0.0033852021265585812}. Best is trial 30 with value: 0.8000568400287543.\u001b[0m\n",
      "\u001b[32m[I 2023-05-03 08:01:53,846]\u001b[0m Trial 34 finished with value: 0.7755698005698006 and parameters: {'n_layers': 2, 'n_units_1': 140, 'n_units_2': 100, 'pca__n_components': 1058, 'clf__epochs': 90, 'clf__batch_size': 128, 'clf__model__dropout': 0.3809641038801871, 'clf__optimizer__learning_rate': 0.0011712076599245042}. Best is trial 30 with value: 0.8000568400287543.\u001b[0m\n",
      "\u001b[32m[I 2023-05-03 08:02:39,595]\u001b[0m Trial 35 finished with value: 0.7773855746649501 and parameters: {'n_layers': 1, 'n_units_1': 120, 'pca__n_components': 1033, 'clf__epochs': 80, 'clf__batch_size': 128, 'clf__model__dropout': 0.42379889546806, 'clf__optimizer__learning_rate': 0.0001674562149496286}. Best is trial 30 with value: 0.8000568400287543.\u001b[0m\n",
      "\u001b[32m[I 2023-05-03 08:03:12,079]\u001b[0m Trial 36 finished with value: 0.7770915654780224 and parameters: {'n_layers': 2, 'n_units_1': 260, 'n_units_2': 260, 'pca__n_components': 1127, 'clf__epochs': 40, 'clf__batch_size': 128, 'clf__model__dropout': 0.35018375152838715, 'clf__optimizer__learning_rate': 0.008429093244478254}. Best is trial 30 with value: 0.8000568400287543.\u001b[0m\n",
      "\u001b[32m[I 2023-05-03 08:04:18,930]\u001b[0m Trial 37 finished with value: 0.7843800255094229 and parameters: {'n_layers': 1, 'n_units_1': 160, 'pca__n_components': 1005, 'clf__epochs': 70, 'clf__batch_size': 64, 'clf__model__dropout': 0.32022333685416426, 'clf__optimizer__learning_rate': 0.000497369771379949}. Best is trial 30 with value: 0.8000568400287543.\u001b[0m\n",
      "\u001b[32m[I 2023-05-03 08:04:41,891]\u001b[0m Trial 38 finished with value: 0.7825490487760532 and parameters: {'n_layers': 1, 'n_units_1': 100, 'pca__n_components': 1074, 'clf__epochs': 20, 'clf__batch_size': 128, 'clf__model__dropout': 0.357873593435805, 'clf__optimizer__learning_rate': 0.0002791795667293934}. Best is trial 30 with value: 0.8000568400287543.\u001b[0m\n",
      "\u001b[32m[I 2023-05-03 08:05:58,838]\u001b[0m Trial 39 finished with value: 0.7778054032700296 and parameters: {'n_layers': 2, 'n_units_1': 200, 'n_units_2': 160, 'pca__n_components': 1154, 'clf__epochs': 80, 'clf__batch_size': 128, 'clf__model__dropout': 0.3960030975003278, 'clf__optimizer__learning_rate': 0.0007169755735355696}. Best is trial 30 with value: 0.8000568400287543.\u001b[0m\n"
     ]
    }
   ],
   "source": [
    "study.optimize(objective, n_trials=20)"
   ]
  },
  {
   "cell_type": "code",
   "execution_count": 118,
   "id": "dd546635-efe1-44ef-bf74-1b30207f5a20",
   "metadata": {
    "execution": {
     "iopub.execute_input": "2023-05-03T12:21:03.228978Z",
     "iopub.status.busy": "2023-05-03T12:21:03.228685Z",
     "iopub.status.idle": "2023-05-03T12:51:11.302044Z",
     "shell.execute_reply": "2023-05-03T12:51:11.300875Z",
     "shell.execute_reply.started": "2023-05-03T12:21:03.228957Z"
    },
    "scrolled": true,
    "tags": []
   },
   "outputs": [
    {
     "name": "stderr",
     "output_type": "stream",
     "text": [
      "\u001b[32m[I 2023-05-03 08:21:44,150]\u001b[0m Trial 40 finished with value: 0.7802746873740789 and parameters: {'n_layers': 1, 'n_units_1': 80, 'pca__n_components': 1047, 'clf__epochs': 60, 'clf__batch_size': 128, 'clf__model__dropout': 0.32304548329059257, 'clf__optimizer__learning_rate': 0.00035253154846520625}. Best is trial 30 with value: 0.8000568400287543.\u001b[0m\n",
      "\u001b[32m[I 2023-05-03 08:23:24,427]\u001b[0m Trial 41 finished with value: 0.7861205330740119 and parameters: {'n_layers': 1, 'n_units_1': 60, 'pca__n_components': 903, 'clf__epochs': 100, 'clf__batch_size': 64, 'clf__model__dropout': 0.29156903925899247, 'clf__optimizer__learning_rate': 0.00046051489370908837}. Best is trial 30 with value: 0.8000568400287543.\u001b[0m\n",
      "\u001b[32m[I 2023-05-03 08:25:02,636]\u001b[0m Trial 42 finished with value: 0.7892001117663713 and parameters: {'n_layers': 1, 'n_units_1': 40, 'pca__n_components': 943, 'clf__epochs': 100, 'clf__batch_size': 64, 'clf__model__dropout': 0.2877116586496932, 'clf__optimizer__learning_rate': 0.0011131979214443347}. Best is trial 30 with value: 0.8000568400287543.\u001b[0m\n",
      "\u001b[32m[I 2023-05-03 08:27:19,614]\u001b[0m Trial 43 finished with value: 0.7817287170313902 and parameters: {'n_layers': 1, 'n_units_1': 40, 'pca__n_components': 939, 'clf__epochs': 90, 'clf__batch_size': 64, 'clf__model__dropout': 0.34340460364376024, 'clf__optimizer__learning_rate': 0.0012175321223960975}. Best is trial 30 with value: 0.8000568400287543.\u001b[0m\n",
      "\u001b[32m[I 2023-05-03 08:28:55,832]\u001b[0m Trial 44 finished with value: 0.7829731826241135 and parameters: {'n_layers': 1, 'n_units_1': 140, 'pca__n_components': 908, 'clf__epochs': 100, 'clf__batch_size': 64, 'clf__model__dropout': 0.3177809376934594, 'clf__optimizer__learning_rate': 0.0007979629405558895}. Best is trial 30 with value: 0.8000568400287543.\u001b[0m\n",
      "\u001b[32m[I 2023-05-03 08:29:49,688]\u001b[0m Trial 45 finished with value: 0.7769208522124746 and parameters: {'n_layers': 1, 'n_units_1': 40, 'pca__n_components': 966, 'clf__epochs': 50, 'clf__batch_size': 64, 'clf__model__dropout': 0.28854164598879106, 'clf__optimizer__learning_rate': 0.0019800551536045155}. Best is trial 30 with value: 0.8000568400287543.\u001b[0m\n",
      "\u001b[32m[I 2023-05-03 08:30:17,517]\u001b[0m Trial 46 finished with value: 0.7672791011861634 and parameters: {'n_layers': 1, 'n_units_1': 80, 'pca__n_components': 922, 'clf__epochs': 10, 'clf__batch_size': 64, 'clf__model__dropout': 0.3684649041033401, 'clf__optimizer__learning_rate': 0.00043937619609145346}. Best is trial 30 with value: 0.8000568400287543.\u001b[0m\n",
      "\u001b[32m[I 2023-05-03 08:32:30,581]\u001b[0m Trial 47 finished with value: 0.7859168428470753 and parameters: {'n_layers': 1, 'n_units_1': 120, 'pca__n_components': 946, 'clf__epochs': 150, 'clf__batch_size': 64, 'clf__model__dropout': 0.29274688666844756, 'clf__optimizer__learning_rate': 0.0005834441859719895}. Best is trial 30 with value: 0.8000568400287543.\u001b[0m\n",
      "\u001b[32m[I 2023-05-03 08:34:27,823]\u001b[0m Trial 48 finished with value: 0.7886178861788617 and parameters: {'n_layers': 1, 'n_units_1': 20, 'pca__n_components': 919, 'clf__epochs': 110, 'clf__batch_size': 64, 'clf__model__dropout': 0.4317861466810181, 'clf__optimizer__learning_rate': 0.0013479347859331318}. Best is trial 30 with value: 0.8000568400287543.\u001b[0m\n",
      "\u001b[32m[I 2023-05-03 08:36:27,171]\u001b[0m Trial 49 finished with value: 0.7778138067540821 and parameters: {'n_layers': 2, 'n_units_1': 240, 'n_units_2': 200, 'pca__n_components': 972, 'clf__epochs': 110, 'clf__batch_size': 64, 'clf__model__dropout': 0.43191168660838974, 'clf__optimizer__learning_rate': 0.00281865778504534}. Best is trial 30 with value: 0.8000568400287543.\u001b[0m\n",
      "\u001b[32m[I 2023-05-03 08:38:25,840]\u001b[0m Trial 50 finished with value: 0.7637728776065078 and parameters: {'n_layers': 1, 'n_units_1': 20, 'pca__n_components': 949, 'clf__epochs': 130, 'clf__batch_size': 64, 'clf__model__dropout': 0.43589314806323043, 'clf__optimizer__learning_rate': 0.0013450929674526373}. Best is trial 30 with value: 0.8000568400287543.\u001b[0m\n",
      "\u001b[32m[I 2023-05-03 08:40:00,761]\u001b[0m Trial 51 finished with value: 0.7767690081387739 and parameters: {'n_layers': 1, 'n_units_1': 60, 'pca__n_components': 922, 'clf__epochs': 90, 'clf__batch_size': 64, 'clf__model__dropout': 0.45042452084231654, 'clf__optimizer__learning_rate': 0.0009974459796721427}. Best is trial 30 with value: 0.8000568400287543.\u001b[0m\n",
      "\u001b[32m[I 2023-05-03 08:41:17,672]\u001b[0m Trial 52 finished with value: 0.7727757361281249 and parameters: {'n_layers': 1, 'n_units_1': 20, 'pca__n_components': 902, 'clf__epochs': 80, 'clf__batch_size': 64, 'clf__model__dropout': 0.4046243229513763, 'clf__optimizer__learning_rate': 0.0020073414215206913}. Best is trial 30 with value: 0.8000568400287543.\u001b[0m\n",
      "\u001b[32m[I 2023-05-03 08:42:58,096]\u001b[0m Trial 53 finished with value: 0.7733977520325882 and parameters: {'n_layers': 1, 'n_units_1': 40, 'pca__n_components': 934, 'clf__epochs': 110, 'clf__batch_size': 64, 'clf__model__dropout': 0.33998625201497745, 'clf__optimizer__learning_rate': 0.004924749854082847}. Best is trial 30 with value: 0.8000568400287543.\u001b[0m\n",
      "\u001b[32m[I 2023-05-03 08:44:31,580]\u001b[0m Trial 54 finished with value: 0.7848184393806051 and parameters: {'n_layers': 1, 'n_units_1': 60, 'pca__n_components': 914, 'clf__epochs': 100, 'clf__batch_size': 64, 'clf__model__dropout': 0.3083887311266149, 'clf__optimizer__learning_rate': 0.0003583613894675155}. Best is trial 30 with value: 0.8000568400287543.\u001b[0m\n",
      "\u001b[32m[I 2023-05-03 08:45:28,614]\u001b[0m Trial 55 finished with value: 0.7674564902102972 and parameters: {'n_layers': 1, 'n_units_1': 20, 'pca__n_components': 917, 'clf__epochs': 100, 'clf__batch_size': 128, 'clf__model__dropout': 0.2850164291177613, 'clf__optimizer__learning_rate': 0.0005425059793136947}. Best is trial 30 with value: 0.8000568400287543.\u001b[0m\n",
      "\u001b[32m[I 2023-05-03 08:47:15,400]\u001b[0m Trial 56 finished with value: 0.7778054032700296 and parameters: {'n_layers': 1, 'n_units_1': 60, 'pca__n_components': 957, 'clf__epochs': 120, 'clf__batch_size': 64, 'clf__model__dropout': 0.25721566210868196, 'clf__optimizer__learning_rate': 0.0016781469257266418}. Best is trial 30 with value: 0.8000568400287543.\u001b[0m\n",
      "\u001b[32m[I 2023-05-03 08:48:02,942]\u001b[0m Trial 57 finished with value: 0.7831695385329469 and parameters: {'n_layers': 1, 'n_units_1': 100, 'pca__n_components': 1006, 'clf__epochs': 80, 'clf__batch_size': 128, 'clf__model__dropout': 0.3888506884023138, 'clf__optimizer__learning_rate': 0.0006913322556111851}. Best is trial 30 with value: 0.8000568400287543.\u001b[0m\n",
      "\u001b[32m[I 2023-05-03 08:49:31,298]\u001b[0m Trial 58 finished with value: 0.7784354444739225 and parameters: {'n_layers': 1, 'n_units_1': 40, 'pca__n_components': 929, 'clf__epochs': 90, 'clf__batch_size': 64, 'clf__model__dropout': 0.27963723521072464, 'clf__optimizer__learning_rate': 0.0011918754802212916}. Best is trial 30 with value: 0.8000568400287543.\u001b[0m\n",
      "\u001b[32m[I 2023-05-03 08:51:11,298]\u001b[0m Trial 59 finished with value: 0.7829499568985073 and parameters: {'n_layers': 1, 'n_units_1': 20, 'pca__n_components': 947, 'clf__epochs': 110, 'clf__batch_size': 64, 'clf__model__dropout': 0.3708549491037351, 'clf__optimizer__learning_rate': 0.0008560377890797042}. Best is trial 30 with value: 0.8000568400287543.\u001b[0m\n"
     ]
    }
   ],
   "source": [
    "study.optimize(objective, n_trials=20)"
   ]
  },
  {
   "cell_type": "code",
   "execution_count": 119,
   "id": "570512c1-c11c-4411-bec3-3655adfb2b8a",
   "metadata": {
    "execution": {
     "iopub.execute_input": "2023-05-03T12:52:01.374412Z",
     "iopub.status.busy": "2023-05-03T12:52:01.374081Z",
     "iopub.status.idle": "2023-05-03T13:18:49.494447Z",
     "shell.execute_reply": "2023-05-03T13:18:49.493515Z",
     "shell.execute_reply.started": "2023-05-03T12:52:01.374390Z"
    },
    "scrolled": true,
    "tags": []
   },
   "outputs": [
    {
     "name": "stderr",
     "output_type": "stream",
     "text": [
      "\u001b[32m[I 2023-05-03 08:53:09,762]\u001b[0m Trial 60 finished with value: 0.7784225710414497 and parameters: {'n_layers': 1, 'n_units_1': 200, 'pca__n_components': 1026, 'clf__epochs': 130, 'clf__batch_size': 128, 'clf__model__dropout': 0.4130072834962804, 'clf__optimizer__learning_rate': 0.00018743926280413505}. Best is trial 30 with value: 0.8000568400287543.\u001b[0m\n",
      "\u001b[32m[I 2023-05-03 08:55:23,510]\u001b[0m Trial 61 finished with value: 0.7809016930849628 and parameters: {'n_layers': 1, 'n_units_1': 120, 'pca__n_components': 943, 'clf__epochs': 150, 'clf__batch_size': 64, 'clf__model__dropout': 0.2939618820269957, 'clf__optimizer__learning_rate': 0.00046011630234180014}. Best is trial 30 with value: 0.8000568400287543.\u001b[0m\n",
      "\u001b[32m[I 2023-05-03 08:57:19,130]\u001b[0m Trial 62 finished with value: 0.7670311827429699 and parameters: {'n_layers': 1, 'n_units_1': 140, 'pca__n_components': 956, 'clf__epochs': 140, 'clf__batch_size': 64, 'clf__model__dropout': 0.31458864405853915, 'clf__optimizer__learning_rate': 0.000550318181984559}. Best is trial 30 with value: 0.8000568400287543.\u001b[0m\n",
      "\u001b[32m[I 2023-05-03 08:59:28,927]\u001b[0m Trial 63 finished with value: 0.7827614165799917 and parameters: {'n_layers': 1, 'n_units_1': 160, 'pca__n_components': 978, 'clf__epochs': 150, 'clf__batch_size': 64, 'clf__model__dropout': 0.29332483968233025, 'clf__optimizer__learning_rate': 0.00028599538659409125}. Best is trial 30 with value: 0.8000568400287543.\u001b[0m\n",
      "\u001b[32m[I 2023-05-03 09:01:22,809]\u001b[0m Trial 64 finished with value: 0.7766040832073378 and parameters: {'n_layers': 1, 'n_units_1': 120, 'pca__n_components': 988, 'clf__epochs': 140, 'clf__batch_size': 64, 'clf__model__dropout': 0.2765105504601351, 'clf__optimizer__learning_rate': 0.0005928208656266973}. Best is trial 30 with value: 0.8000568400287543.\u001b[0m\n",
      "\u001b[32m[I 2023-05-03 09:03:26,200]\u001b[0m Trial 65 finished with value: 0.7844345213931965 and parameters: {'n_layers': 1, 'n_units_1': 80, 'pca__n_components': 900, 'clf__epochs': 150, 'clf__batch_size': 64, 'clf__model__dropout': 0.2453271200714797, 'clf__optimizer__learning_rate': 0.0025082761131965934}. Best is trial 30 with value: 0.8000568400287543.\u001b[0m\n",
      "\u001b[32m[I 2023-05-03 09:04:28,222]\u001b[0m Trial 66 finished with value: 0.7913828286768898 and parameters: {'n_layers': 1, 'n_units_1': 300, 'pca__n_components': 1065, 'clf__epochs': 120, 'clf__batch_size': 128, 'clf__model__dropout': 0.3281129512716538, 'clf__optimizer__learning_rate': 0.0014852786826829699}. Best is trial 30 with value: 0.8000568400287543.\u001b[0m\n",
      "\u001b[32m[I 2023-05-03 09:05:33,924]\u001b[0m Trial 67 finished with value: 0.7943453136011276 and parameters: {'n_layers': 1, 'n_units_1': 300, 'pca__n_components': 1062, 'clf__epochs': 120, 'clf__batch_size': 128, 'clf__model__dropout': 0.3294447705055491, 'clf__optimizer__learning_rate': 0.0017127022292891063}. Best is trial 30 with value: 0.8000568400287543.\u001b[0m\n",
      "\u001b[32m[I 2023-05-03 09:06:35,506]\u001b[0m Trial 68 finished with value: 0.7883439484575043 and parameters: {'n_layers': 1, 'n_units_1': 300, 'pca__n_components': 1066, 'clf__epochs': 120, 'clf__batch_size': 128, 'clf__model__dropout': 0.3340975719929475, 'clf__optimizer__learning_rate': 0.0018053158247141358}. Best is trial 30 with value: 0.8000568400287543.\u001b[0m\n",
      "\u001b[32m[I 2023-05-03 09:07:41,709]\u001b[0m Trial 69 finished with value: 0.7955452425791408 and parameters: {'n_layers': 1, 'n_units_1': 300, 'pca__n_components': 1095, 'clf__epochs': 120, 'clf__batch_size': 128, 'clf__model__dropout': 0.3301314849569531, 'clf__optimizer__learning_rate': 0.0017763095080201388}. Best is trial 30 with value: 0.8000568400287543.\u001b[0m\n",
      "\u001b[32m[I 2023-05-03 09:08:45,620]\u001b[0m Trial 70 finished with value: 0.7800761339441256 and parameters: {'n_layers': 1, 'n_units_1': 280, 'pca__n_components': 1103, 'clf__epochs': 120, 'clf__batch_size': 128, 'clf__model__dropout': 0.3282559932711915, 'clf__optimizer__learning_rate': 0.0025245143214096357}. Best is trial 30 with value: 0.8000568400287543.\u001b[0m\n",
      "\u001b[32m[I 2023-05-03 09:09:46,873]\u001b[0m Trial 71 finished with value: 0.7796597960992907 and parameters: {'n_layers': 1, 'n_units_1': 300, 'pca__n_components': 1067, 'clf__epochs': 120, 'clf__batch_size': 128, 'clf__model__dropout': 0.359039593531609, 'clf__optimizer__learning_rate': 0.0016520430332329927}. Best is trial 30 with value: 0.8000568400287543.\u001b[0m\n",
      "\u001b[32m[I 2023-05-03 09:10:53,121]\u001b[0m Trial 72 finished with value: 0.7894283162643965 and parameters: {'n_layers': 1, 'n_units_1': 300, 'pca__n_components': 1089, 'clf__epochs': 130, 'clf__batch_size': 128, 'clf__model__dropout': 0.3309739858051674, 'clf__optimizer__learning_rate': 0.0014023574960410757}. Best is trial 30 with value: 0.8000568400287543.\u001b[0m\n",
      "\u001b[32m[I 2023-05-03 09:12:02,815]\u001b[0m Trial 73 finished with value: 0.7886178861788617 and parameters: {'n_layers': 1, 'n_units_1': 280, 'pca__n_components': 1082, 'clf__epochs': 130, 'clf__batch_size': 128, 'clf__model__dropout': 0.3041148183271968, 'clf__optimizer__learning_rate': 0.0014087429718851836}. Best is trial 30 with value: 0.8000568400287543.\u001b[0m\n",
      "\u001b[32m[I 2023-05-03 09:13:09,354]\u001b[0m Trial 74 finished with value: 0.7788461538461537 and parameters: {'n_layers': 1, 'n_units_1': 280, 'pca__n_components': 1096, 'clf__epochs': 130, 'clf__batch_size': 128, 'clf__model__dropout': 0.31840850012106475, 'clf__optimizer__learning_rate': 0.00338316890611973}. Best is trial 30 with value: 0.8000568400287543.\u001b[0m\n",
      "\u001b[32m[I 2023-05-03 09:14:17,134]\u001b[0m Trial 75 finished with value: 0.7831864332753012 and parameters: {'n_layers': 1, 'n_units_1': 300, 'pca__n_components': 1116, 'clf__epochs': 110, 'clf__batch_size': 128, 'clf__model__dropout': 0.3528983099847787, 'clf__optimizer__learning_rate': 0.0009115009723613945}. Best is trial 30 with value: 0.8000568400287543.\u001b[0m\n",
      "\u001b[32m[I 2023-05-03 09:15:22,211]\u001b[0m Trial 76 finished with value: 0.8016026949775419 and parameters: {'n_layers': 1, 'n_units_1': 260, 'pca__n_components': 1056, 'clf__epochs': 120, 'clf__batch_size': 128, 'clf__model__dropout': 0.3068920343908312, 'clf__optimizer__learning_rate': 0.0021838722078525593}. Best is trial 76 with value: 0.8016026949775419.\u001b[0m\n",
      "\u001b[32m[I 2023-05-03 09:16:30,637]\u001b[0m Trial 77 finished with value: 0.7863172783443757 and parameters: {'n_layers': 1, 'n_units_1': 260, 'pca__n_components': 1054, 'clf__epochs': 140, 'clf__batch_size': 128, 'clf__model__dropout': 0.32134323052455704, 'clf__optimizer__learning_rate': 0.0040353055958265785}. Best is trial 76 with value: 0.8016026949775419.\u001b[0m\n",
      "\u001b[32m[I 2023-05-03 09:17:38,502]\u001b[0m Trial 78 finished with value: 0.7831695385329469 and parameters: {'n_layers': 1, 'n_units_1': 260, 'pca__n_components': 1082, 'clf__epochs': 130, 'clf__batch_size': 128, 'clf__model__dropout': 0.3057586634255651, 'clf__optimizer__learning_rate': 0.0022013603007148027}. Best is trial 76 with value: 0.8016026949775419.\u001b[0m\n",
      "\u001b[32m[I 2023-05-03 09:18:49,491]\u001b[0m Trial 79 finished with value: 0.7909739252995067 and parameters: {'n_layers': 1, 'n_units_1': 300, 'pca__n_components': 1121, 'clf__epochs': 140, 'clf__batch_size': 128, 'clf__model__dropout': 0.33790577505351727, 'clf__optimizer__learning_rate': 0.0010444983540443243}. Best is trial 76 with value: 0.8016026949775419.\u001b[0m\n"
     ]
    }
   ],
   "source": [
    "study.optimize(objective, n_trials=20)"
   ]
  },
  {
   "cell_type": "code",
   "execution_count": 133,
   "id": "1c6999a7-d834-4984-82c4-07f8555385dd",
   "metadata": {
    "execution": {
     "iopub.execute_input": "2023-05-03T13:27:49.170316Z",
     "iopub.status.busy": "2023-05-03T13:27:49.170013Z",
     "iopub.status.idle": "2023-05-03T13:56:37.566903Z",
     "shell.execute_reply": "2023-05-03T13:56:37.565980Z",
     "shell.execute_reply.started": "2023-05-03T13:27:49.170294Z"
    },
    "scrolled": true,
    "tags": []
   },
   "outputs": [
    {
     "name": "stderr",
     "output_type": "stream",
     "text": [
      "\u001b[32m[I 2023-05-03 09:29:04,914]\u001b[0m Trial 80 finished with value: 0.7929133421985815 and parameters: {'n_layers': 1, 'n_units_1': 300, 'pca__n_components': 1146, 'clf__epochs': 140, 'clf__batch_size': 128, 'clf__model__dropout': 0.33679615164471133, 'clf__optimizer__learning_rate': 0.0008737976712892082}. Best is trial 76 with value: 0.8016026949775419.\u001b[0m\n",
      "\u001b[32m[I 2023-05-03 09:30:19,281]\u001b[0m Trial 81 finished with value: 0.7817296968468012 and parameters: {'n_layers': 1, 'n_units_1': 300, 'pca__n_components': 1143, 'clf__epochs': 140, 'clf__batch_size': 128, 'clf__model__dropout': 0.33248306281092926, 'clf__optimizer__learning_rate': 0.000855951423816862}. Best is trial 76 with value: 0.8016026949775419.\u001b[0m\n",
      "\u001b[32m[I 2023-05-03 09:31:29,186]\u001b[0m Trial 82 finished with value: 0.7887979621197514 and parameters: {'n_layers': 1, 'n_units_1': 280, 'pca__n_components': 1178, 'clf__epochs': 140, 'clf__batch_size': 128, 'clf__model__dropout': 0.342975370899129, 'clf__optimizer__learning_rate': 0.0015303536669800282}. Best is trial 76 with value: 0.8016026949775419.\u001b[0m\n",
      "\u001b[32m[I 2023-05-03 09:32:45,555]\u001b[0m Trial 83 finished with value: 0.785904882665001 and parameters: {'n_layers': 1, 'n_units_1': 300, 'pca__n_components': 1126, 'clf__epochs': 130, 'clf__batch_size': 128, 'clf__model__dropout': 0.3271705587473797, 'clf__optimizer__learning_rate': 0.0021420303362226713}. Best is trial 76 with value: 0.8016026949775419.\u001b[0m\n",
      "\u001b[32m[I 2023-05-03 09:33:50,123]\u001b[0m Trial 84 finished with value: 0.7784354444739225 and parameters: {'n_layers': 1, 'n_units_1': 280, 'pca__n_components': 1142, 'clf__epochs': 120, 'clf__batch_size': 128, 'clf__model__dropout': 0.36258562165323377, 'clf__optimizer__learning_rate': 0.0007147599045555552}. Best is trial 76 with value: 0.8016026949775419.\u001b[0m\n",
      "\u001b[32m[I 2023-05-03 09:35:08,420]\u001b[0m Trial 85 finished with value: 0.7901102377533886 and parameters: {'n_layers': 1, 'n_units_1': 240, 'pca__n_components': 1112, 'clf__epochs': 140, 'clf__batch_size': 128, 'clf__model__dropout': 0.3502078820675148, 'clf__optimizer__learning_rate': 0.0010833875670313593}. Best is trial 76 with value: 0.8016026949775419.\u001b[0m\n",
      "\u001b[32m[I 2023-05-03 09:36:43,354]\u001b[0m Trial 86 finished with value: 0.7798534783606856 and parameters: {'n_layers': 1, 'n_units_1': 240, 'pca__n_components': 1116, 'clf__epochs': 150, 'clf__batch_size': 128, 'clf__model__dropout': 0.34606999596132054, 'clf__optimizer__learning_rate': 0.0009450920866981813}. Best is trial 76 with value: 0.8016026949775419.\u001b[0m\n",
      "\u001b[32m[I 2023-05-03 09:37:55,061]\u001b[0m Trial 87 finished with value: 0.7879866746073103 and parameters: {'n_layers': 1, 'n_units_1': 240, 'pca__n_components': 1100, 'clf__epochs': 140, 'clf__batch_size': 128, 'clf__model__dropout': 0.3543255156481306, 'clf__optimizer__learning_rate': 0.0028688909851193847}. Best is trial 76 with value: 0.8016026949775419.\u001b[0m\n",
      "\u001b[32m[I 2023-05-03 09:38:21,629]\u001b[0m Trial 88 finished with value: 0.7829731826241135 and parameters: {'n_layers': 1, 'n_units_1': 260, 'pca__n_components': 1076, 'clf__epochs': 30, 'clf__batch_size': 128, 'clf__model__dropout': 0.3154530413865186, 'clf__optimizer__learning_rate': 0.0011025842166924383}. Best is trial 76 with value: 0.8016026949775419.\u001b[0m\n",
      "\u001b[32m[I 2023-05-03 09:39:32,723]\u001b[0m Trial 89 finished with value: 0.7884311196554157 and parameters: {'n_layers': 1, 'n_units_1': 280, 'pca__n_components': 1109, 'clf__epochs': 140, 'clf__batch_size': 128, 'clf__model__dropout': 0.3796038284705176, 'clf__optimizer__learning_rate': 0.001703787524231215}. Best is trial 76 with value: 0.8016026949775419.\u001b[0m\n",
      "\u001b[32m[I 2023-05-03 09:40:40,094]\u001b[0m Trial 90 finished with value: 0.7877980190891176 and parameters: {'n_layers': 1, 'n_units_1': 300, 'pca__n_components': 1175, 'clf__epochs': 120, 'clf__batch_size': 128, 'clf__model__dropout': 0.30038854073992455, 'clf__optimizer__learning_rate': 0.0007232161061595064}. Best is trial 76 with value: 0.8016026949775419.\u001b[0m\n",
      "\u001b[32m[I 2023-05-03 09:41:52,067]\u001b[0m Trial 91 finished with value: 0.7808870283524618 and parameters: {'n_layers': 1, 'n_units_1': 300, 'pca__n_components': 1091, 'clf__epochs': 130, 'clf__batch_size': 128, 'clf__model__dropout': 0.3353031620090795, 'clf__optimizer__learning_rate': 0.0012488947274721554}. Best is trial 76 with value: 0.8016026949775419.\u001b[0m\n",
      "\u001b[32m[I 2023-05-03 09:42:54,325]\u001b[0m Trial 92 finished with value: 0.7774883720930232 and parameters: {'n_layers': 1, 'n_units_1': 280, 'pca__n_components': 1059, 'clf__epochs': 130, 'clf__batch_size': 128, 'clf__model__dropout': 0.3459134147999979, 'clf__optimizer__learning_rate': 0.0019528702280557208}. Best is trial 76 with value: 0.8016026949775419.\u001b[0m\n",
      "\u001b[32m[I 2023-05-03 09:44:05,974]\u001b[0m Trial 93 finished with value: 0.7890242717701978 and parameters: {'n_layers': 1, 'n_units_1': 300, 'pca__n_components': 1131, 'clf__epochs': 140, 'clf__batch_size': 128, 'clf__model__dropout': 0.3261158683316981, 'clf__optimizer__learning_rate': 0.0014607087748666518}. Best is trial 76 with value: 0.8016026949775419.\u001b[0m\n",
      "\u001b[32m[I 2023-05-03 09:47:49,782]\u001b[0m Trial 94 finished with value: 0.7844134210166458 and parameters: {'n_layers': 1, 'n_units_1': 260, 'pca__n_components': 1111, 'clf__epochs': 130, 'clf__batch_size': 32, 'clf__model__dropout': 0.36775016676872374, 'clf__optimizer__learning_rate': 0.0010376653141557434}. Best is trial 76 with value: 0.8016026949775419.\u001b[0m\n",
      "\u001b[32m[I 2023-05-03 09:49:01,624]\u001b[0m Trial 95 finished with value: 0.7921071267623769 and parameters: {'n_layers': 1, 'n_units_1': 220, 'pca__n_components': 1047, 'clf__epochs': 150, 'clf__batch_size': 128, 'clf__model__dropout': 0.311983901058187, 'clf__optimizer__learning_rate': 0.0024657264950009514}. Best is trial 76 with value: 0.8016026949775419.\u001b[0m\n",
      "\u001b[32m[I 2023-05-03 09:50:20,490]\u001b[0m Trial 96 finished with value: 0.7738882919218089 and parameters: {'n_layers': 2, 'n_units_1': 200, 'n_units_2': 140, 'pca__n_components': 1050, 'clf__epochs': 150, 'clf__batch_size': 128, 'clf__model__dropout': 0.31259627831241354, 'clf__optimizer__learning_rate': 0.002369993577108485}. Best is trial 76 with value: 0.8016026949775419.\u001b[0m\n",
      "\u001b[32m[I 2023-05-03 09:51:32,138]\u001b[0m Trial 97 finished with value: 0.7796396932926375 and parameters: {'n_layers': 1, 'n_units_1': 240, 'pca__n_components': 1035, 'clf__epochs': 150, 'clf__batch_size': 128, 'clf__model__dropout': 0.3013615436834201, 'clf__optimizer__learning_rate': 0.002895180068042704}. Best is trial 76 with value: 0.8016026949775419.\u001b[0m\n",
      "\u001b[32m[I 2023-05-03 09:55:27,826]\u001b[0m Trial 98 finished with value: 0.7800355291655513 and parameters: {'n_layers': 1, 'n_units_1': 260, 'pca__n_components': 1028, 'clf__epochs': 150, 'clf__batch_size': 32, 'clf__model__dropout': 0.3401890141103797, 'clf__optimizer__learning_rate': 0.004677542135056301}. Best is trial 76 with value: 0.8016026949775419.\u001b[0m\n",
      "\u001b[32m[I 2023-05-03 09:56:37,563]\u001b[0m Trial 99 finished with value: 0.7833949100311506 and parameters: {'n_layers': 1, 'n_units_1': 220, 'pca__n_components': 1014, 'clf__epochs': 140, 'clf__batch_size': 128, 'clf__model__dropout': 0.3148554578429244, 'clf__optimizer__learning_rate': 0.0008176624511258655}. Best is trial 76 with value: 0.8016026949775419.\u001b[0m\n"
     ]
    }
   ],
   "source": [
    "study.optimize(objective, n_trials=20)"
   ]
  },
  {
   "cell_type": "markdown",
   "id": "f5ae2dee-e989-483f-bab8-848681b69911",
   "metadata": {
    "id": "rPMCn7GolG8P"
   },
   "source": [
    "## Best Parameters"
   ]
  },
  {
   "cell_type": "code",
   "execution_count": 134,
   "id": "44031369-45d6-410e-b191-98cc6efb5b8a",
   "metadata": {
    "colab": {
     "base_uri": "https://localhost:8080/"
    },
    "execution": {
     "iopub.execute_input": "2023-05-03T14:14:03.582780Z",
     "iopub.status.busy": "2023-05-03T14:14:03.582463Z",
     "iopub.status.idle": "2023-05-03T14:14:03.600585Z",
     "shell.execute_reply": "2023-05-03T14:14:03.599641Z",
     "shell.execute_reply.started": "2023-05-03T14:14:03.582758Z"
    },
    "executionInfo": {
     "elapsed": 174,
     "status": "ok",
     "timestamp": 1682711827757,
     "user": {
      "displayName": "Damir Zunic",
      "userId": "07104666280721646256"
     },
     "user_tz": 240
    },
    "id": "pcFYqAcakavV",
    "outputId": "164c3403-8b13-48a1-aaf0-967c8554bad9",
    "tags": []
   },
   "outputs": [
    {
     "name": "stdout",
     "output_type": "stream",
     "text": [
      "Number of finished trials: 100\n",
      "Best trial:\n",
      "  Value: 0.8016026949775419\n",
      "  Params: \n",
      "    n_layers: 1\n",
      "    n_units_1: 260\n",
      "    pca__n_components: 1056\n",
      "    clf__epochs: 120\n",
      "    clf__batch_size: 128\n",
      "    clf__model__dropout: 0.3068920343908312\n",
      "    clf__optimizer__learning_rate: 0.0021838722078525593\n"
     ]
    }
   ],
   "source": [
    "print(f'Number of finished trials: {len(study.trials)}')\n",
    "print('Best trial:')\n",
    "trial = study.best_trial\n",
    "\n",
    "print(f'  Value: {trial.value}')\n",
    "print('  Params: ')\n",
    "\n",
    "for key, value in trial.params.items():\n",
    "    print(f'    {key}: {value}')"
   ]
  },
  {
   "cell_type": "markdown",
   "id": "a11bb0c3-0434-454a-bd28-a82dc4e955c9",
   "metadata": {
    "id": "wdBWzR64kavV"
   },
   "source": [
    "## Re-fit the model"
   ]
  },
  {
   "cell_type": "code",
   "execution_count": 121,
   "id": "08b81d9a-93e8-42a0-98b3-432f2413cba5",
   "metadata": {
    "colab": {
     "base_uri": "https://localhost:8080/"
    },
    "execution": {
     "iopub.execute_input": "2023-05-03T13:22:00.703209Z",
     "iopub.status.busy": "2023-05-03T13:22:00.702504Z",
     "iopub.status.idle": "2023-05-03T13:22:00.712408Z",
     "shell.execute_reply": "2023-05-03T13:22:00.710880Z",
     "shell.execute_reply.started": "2023-05-03T13:22:00.703181Z"
    },
    "executionInfo": {
     "elapsed": 153,
     "status": "ok",
     "timestamp": 1682711839306,
     "user": {
      "displayName": "Damir Zunic",
      "userId": "07104666280721646256"
     },
     "user_tz": 240
    },
    "id": "0chjzXrXkavW",
    "outputId": "b2830790-1fac-465d-c730-75beb6cc3fc4",
    "tags": []
   },
   "outputs": [
    {
     "data": {
      "text/plain": [
       "{'n_layers': 1,\n",
       " 'n_units_1': 260,\n",
       " 'pca__n_components': 1056,\n",
       " 'clf__epochs': 120,\n",
       " 'clf__batch_size': 128,\n",
       " 'clf__model__dropout': 0.3068920343908312,\n",
       " 'clf__optimizer__learning_rate': 0.0021838722078525593}"
      ]
     },
     "execution_count": 121,
     "metadata": {},
     "output_type": "execute_result"
    }
   ],
   "source": [
    "params_t = trial.params\n",
    "params_t"
   ]
  },
  {
   "cell_type": "code",
   "execution_count": 122,
   "id": "8c3421c6-6a62-4435-a016-f6b3691d3417",
   "metadata": {
    "execution": {
     "iopub.execute_input": "2023-05-03T13:22:08.551087Z",
     "iopub.status.busy": "2023-05-03T13:22:08.550671Z",
     "iopub.status.idle": "2023-05-03T13:22:08.559972Z",
     "shell.execute_reply": "2023-05-03T13:22:08.558591Z",
     "shell.execute_reply.started": "2023-05-03T13:22:08.551033Z"
    },
    "tags": []
   },
   "outputs": [
    {
     "data": {
      "text/plain": [
       "{'pca__n_components': 1056,\n",
       " 'clf__epochs': 120,\n",
       " 'clf__batch_size': 128,\n",
       " 'clf__model__dropout': 0.3068920343908312,\n",
       " 'clf__optimizer__learning_rate': 0.0021838722078525593}"
      ]
     },
     "execution_count": 122,
     "metadata": {},
     "output_type": "execute_result"
    }
   ],
   "source": [
    "### params = {k:v for k,v in params_t.items() if k.startswith('clf')}\n",
    "params = {k:v for k,v in params_t.items() if '__' in k}\n",
    "params"
   ]
  },
  {
   "cell_type": "code",
   "execution_count": 123,
   "id": "6265f32e-a6b9-45c4-aec7-2d9dae4d7c1c",
   "metadata": {
    "execution": {
     "iopub.execute_input": "2023-05-03T13:22:12.334685Z",
     "iopub.status.busy": "2023-05-03T13:22:12.334408Z",
     "iopub.status.idle": "2023-05-03T13:22:12.342353Z",
     "shell.execute_reply": "2023-05-03T13:22:12.340945Z",
     "shell.execute_reply.started": "2023-05-03T13:22:12.334665Z"
    },
    "tags": []
   },
   "outputs": [
    {
     "data": {
      "text/plain": [
       "{'pca__n_components': 1056,\n",
       " 'clf__epochs': 120,\n",
       " 'clf__batch_size': 128,\n",
       " 'clf__model__dropout': 0.3068920343908312,\n",
       " 'clf__optimizer__learning_rate': 0.0021838722078525593,\n",
       " 'clf__model__hidden_layer_sizes': (260,)}"
      ]
     },
     "execution_count": 123,
     "metadata": {},
     "output_type": "execute_result"
    }
   ],
   "source": [
    "# if 'n_units_2' in params_t:\n",
    "#     params['clf__model__hidden_layer_sizes'] = (params_t['n_units_1'], params_t['n_units_2'])\n",
    "# else:\n",
    "#     params['clf__model__hidden_layer_sizes'] = (params_t['n_units_1'],)\n",
    "    \n",
    "\n",
    "params['clf__model__hidden_layer_sizes'] = tuple([v for k,v in params_t.items() if 'n_units' in k])\n",
    "params"
   ]
  },
  {
   "cell_type": "code",
   "execution_count": 124,
   "id": "a5c7e8f6-fb05-460e-ba75-abd11ba862b0",
   "metadata": {
    "execution": {
     "iopub.execute_input": "2023-05-03T13:22:30.536202Z",
     "iopub.status.busy": "2023-05-03T13:22:30.535904Z",
     "iopub.status.idle": "2023-05-03T13:23:39.381449Z",
     "shell.execute_reply": "2023-05-03T13:23:39.380616Z",
     "shell.execute_reply.started": "2023-05-03T13:22:30.536158Z"
    },
    "tags": []
   },
   "outputs": [
    {
     "data": {
      "text/html": [
       "<style>#sk-container-id-7 {color: black;background-color: white;}#sk-container-id-7 pre{padding: 0;}#sk-container-id-7 div.sk-toggleable {background-color: white;}#sk-container-id-7 label.sk-toggleable__label {cursor: pointer;display: block;width: 100%;margin-bottom: 0;padding: 0.3em;box-sizing: border-box;text-align: center;}#sk-container-id-7 label.sk-toggleable__label-arrow:before {content: \"▸\";float: left;margin-right: 0.25em;color: #696969;}#sk-container-id-7 label.sk-toggleable__label-arrow:hover:before {color: black;}#sk-container-id-7 div.sk-estimator:hover label.sk-toggleable__label-arrow:before {color: black;}#sk-container-id-7 div.sk-toggleable__content {max-height: 0;max-width: 0;overflow: hidden;text-align: left;background-color: #f0f8ff;}#sk-container-id-7 div.sk-toggleable__content pre {margin: 0.2em;color: black;border-radius: 0.25em;background-color: #f0f8ff;}#sk-container-id-7 input.sk-toggleable__control:checked~div.sk-toggleable__content {max-height: 200px;max-width: 100%;overflow: auto;}#sk-container-id-7 input.sk-toggleable__control:checked~label.sk-toggleable__label-arrow:before {content: \"▾\";}#sk-container-id-7 div.sk-estimator input.sk-toggleable__control:checked~label.sk-toggleable__label {background-color: #d4ebff;}#sk-container-id-7 div.sk-label input.sk-toggleable__control:checked~label.sk-toggleable__label {background-color: #d4ebff;}#sk-container-id-7 input.sk-hidden--visually {border: 0;clip: rect(1px 1px 1px 1px);clip: rect(1px, 1px, 1px, 1px);height: 1px;margin: -1px;overflow: hidden;padding: 0;position: absolute;width: 1px;}#sk-container-id-7 div.sk-estimator {font-family: monospace;background-color: #f0f8ff;border: 1px dotted black;border-radius: 0.25em;box-sizing: border-box;margin-bottom: 0.5em;}#sk-container-id-7 div.sk-estimator:hover {background-color: #d4ebff;}#sk-container-id-7 div.sk-parallel-item::after {content: \"\";width: 100%;border-bottom: 1px solid gray;flex-grow: 1;}#sk-container-id-7 div.sk-label:hover label.sk-toggleable__label {background-color: #d4ebff;}#sk-container-id-7 div.sk-serial::before {content: \"\";position: absolute;border-left: 1px solid gray;box-sizing: border-box;top: 0;bottom: 0;left: 50%;z-index: 0;}#sk-container-id-7 div.sk-serial {display: flex;flex-direction: column;align-items: center;background-color: white;padding-right: 0.2em;padding-left: 0.2em;position: relative;}#sk-container-id-7 div.sk-item {position: relative;z-index: 1;}#sk-container-id-7 div.sk-parallel {display: flex;align-items: stretch;justify-content: center;background-color: white;position: relative;}#sk-container-id-7 div.sk-item::before, #sk-container-id-7 div.sk-parallel-item::before {content: \"\";position: absolute;border-left: 1px solid gray;box-sizing: border-box;top: 0;bottom: 0;left: 50%;z-index: -1;}#sk-container-id-7 div.sk-parallel-item {display: flex;flex-direction: column;z-index: 1;position: relative;background-color: white;}#sk-container-id-7 div.sk-parallel-item:first-child::after {align-self: flex-end;width: 50%;}#sk-container-id-7 div.sk-parallel-item:last-child::after {align-self: flex-start;width: 50%;}#sk-container-id-7 div.sk-parallel-item:only-child::after {width: 0;}#sk-container-id-7 div.sk-dashed-wrapped {border: 1px dashed gray;margin: 0 0.4em 0.5em 0.4em;box-sizing: border-box;padding-bottom: 0.4em;background-color: white;}#sk-container-id-7 div.sk-label label {font-family: monospace;font-weight: bold;display: inline-block;line-height: 1.2em;}#sk-container-id-7 div.sk-label-container {text-align: center;}#sk-container-id-7 div.sk-container {/* jupyter's `normalize.less` sets `[hidden] { display: none; }` but bootstrap.min.css set `[hidden] { display: none !important; }` so we also need the `!important` here to be able to override the default hidden behavior on the sphinx rendered scikit-learn.org. See: https://github.com/scikit-learn/scikit-learn/issues/21755 */display: inline-block !important;position: relative;}#sk-container-id-7 div.sk-text-repr-fallback {display: none;}</style><div id=\"sk-container-id-7\" class=\"sk-top-container\"><div class=\"sk-text-repr-fallback\"><pre>Pipeline(steps=[(&#x27;scaler&#x27;, MinMaxScaler()), (&#x27;pca&#x27;, PCA(n_components=1056)),\n",
       "                (&#x27;clf&#x27;,\n",
       "                 KerasClassifier(batch_size=128, epochs=120, loss=&#x27;binary_crossentropy&#x27;, model=&lt;function get_clf at 0x7f39054775b0&gt;, model__dropout=0.3068920343908312, model__hidden_layer_sizes=(260,), optimizer=&#x27;adam&#x27;, optimizer__learning_rate=0.0021838722078525593, random_state=10, verbose=0))])</pre><b>In a Jupyter environment, please rerun this cell to show the HTML representation or trust the notebook. <br />On GitHub, the HTML representation is unable to render, please try loading this page with nbviewer.org.</b></div><div class=\"sk-container\" hidden><div class=\"sk-item sk-dashed-wrapped\"><div class=\"sk-label-container\"><div class=\"sk-label sk-toggleable\"><input class=\"sk-toggleable__control sk-hidden--visually\" id=\"sk-estimator-id-25\" type=\"checkbox\" ><label for=\"sk-estimator-id-25\" class=\"sk-toggleable__label sk-toggleable__label-arrow\">Pipeline</label><div class=\"sk-toggleable__content\"><pre>Pipeline(steps=[(&#x27;scaler&#x27;, MinMaxScaler()), (&#x27;pca&#x27;, PCA(n_components=1056)),\n",
       "                (&#x27;clf&#x27;,\n",
       "                 KerasClassifier(batch_size=128, epochs=120, loss=&#x27;binary_crossentropy&#x27;, model=&lt;function get_clf at 0x7f39054775b0&gt;, model__dropout=0.3068920343908312, model__hidden_layer_sizes=(260,), optimizer=&#x27;adam&#x27;, optimizer__learning_rate=0.0021838722078525593, random_state=10, verbose=0))])</pre></div></div></div><div class=\"sk-serial\"><div class=\"sk-item\"><div class=\"sk-estimator sk-toggleable\"><input class=\"sk-toggleable__control sk-hidden--visually\" id=\"sk-estimator-id-26\" type=\"checkbox\" ><label for=\"sk-estimator-id-26\" class=\"sk-toggleable__label sk-toggleable__label-arrow\">MinMaxScaler</label><div class=\"sk-toggleable__content\"><pre>MinMaxScaler()</pre></div></div></div><div class=\"sk-item\"><div class=\"sk-estimator sk-toggleable\"><input class=\"sk-toggleable__control sk-hidden--visually\" id=\"sk-estimator-id-27\" type=\"checkbox\" ><label for=\"sk-estimator-id-27\" class=\"sk-toggleable__label sk-toggleable__label-arrow\">PCA</label><div class=\"sk-toggleable__content\"><pre>PCA(n_components=1056)</pre></div></div></div><div class=\"sk-item\"><div class=\"sk-estimator sk-toggleable\"><input class=\"sk-toggleable__control sk-hidden--visually\" id=\"sk-estimator-id-28\" type=\"checkbox\" ><label for=\"sk-estimator-id-28\" class=\"sk-toggleable__label sk-toggleable__label-arrow\">KerasClassifier</label><div class=\"sk-toggleable__content\"><pre>KerasClassifier(\n",
       "\tmodel=&lt;function get_clf at 0x7f39054775b0&gt;\n",
       "\tbuild_fn=None\n",
       "\twarm_start=False\n",
       "\trandom_state=10\n",
       "\toptimizer=adam\n",
       "\tloss=binary_crossentropy\n",
       "\tmetrics=None\n",
       "\tbatch_size=128\n",
       "\tvalidation_batch_size=None\n",
       "\tverbose=0\n",
       "\tcallbacks=None\n",
       "\tvalidation_split=0.0\n",
       "\tshuffle=True\n",
       "\trun_eagerly=False\n",
       "\tepochs=120\n",
       "\tmodel__hidden_layer_sizes=(260,)\n",
       "\tmodel__dropout=0.3068920343908312\n",
       "\toptimizer__learning_rate=0.0021838722078525593\n",
       "\tclass_weight=None\n",
       ")</pre></div></div></div></div></div></div></div>"
      ],
      "text/plain": [
       "Pipeline(steps=[('scaler', MinMaxScaler()), ('pca', PCA(n_components=1056)),\n",
       "                ('clf',\n",
       "                 KerasClassifier(batch_size=128, epochs=120, loss='binary_crossentropy', model=<function get_clf at 0x7f39054775b0>, model__dropout=0.3068920343908312, model__hidden_layer_sizes=(260,), optimizer='adam', optimizer__learning_rate=0.0021838722078525593, random_state=10, verbose=0))])"
      ]
     },
     "execution_count": 124,
     "metadata": {},
     "output_type": "execute_result"
    }
   ],
   "source": [
    "pipe.set_params(**params)\n",
    "    ## model = SVC(**params, kernel='linear', random_state=random_state)\n",
    "pipe.fit(X_train, y_train)"
   ]
  },
  {
   "cell_type": "code",
   "execution_count": 125,
   "id": "73a75466-fe76-4a56-8b18-68c6bd5502f3",
   "metadata": {
    "colab": {
     "base_uri": "https://localhost:8080/"
    },
    "execution": {
     "iopub.execute_input": "2023-05-03T13:23:54.846297Z",
     "iopub.status.busy": "2023-05-03T13:23:54.846008Z",
     "iopub.status.idle": "2023-05-03T13:23:55.818592Z",
     "shell.execute_reply": "2023-05-03T13:23:55.817682Z",
     "shell.execute_reply.started": "2023-05-03T13:23:54.846276Z"
    },
    "executionInfo": {
     "elapsed": 213,
     "status": "ok",
     "timestamp": 1682617792838,
     "user": {
      "displayName": "Damir Zunic",
      "userId": "07104666280721646256"
     },
     "user_tz": 240
    },
    "id": "LbF9DeztkavX",
    "outputId": "c5f58508-4df3-4877-aea7-154111dacd89",
    "tags": []
   },
   "outputs": [
    {
     "name": "stdout",
     "output_type": "stream",
     "text": [
      "INFO:tensorflow:Assets written to: ram://106dc578152b40dfaa11d3c121cb2030/assets\n"
     ]
    },
    {
     "data": {
      "text/plain": [
       "['./saved_models/batch_4_stack/nn_pca_t_2a.pkl']"
      ]
     },
     "execution_count": 125,
     "metadata": {},
     "output_type": "execute_result"
    }
   ],
   "source": [
    "# Save the model\n",
    "# joblib.dump(mlp, '/content/drive/MyDrive/Omdena/Team1/saved_models/batch_4_stack/nn_pca_1.pkl')\n",
    "joblib.dump(pipe, './saved_models/batch_4_stack/nn_pca_t_2a.pkl')"
   ]
  },
  {
   "cell_type": "code",
   "execution_count": 126,
   "id": "466bd3aa-96f1-4964-a77e-94a23b7be0a9",
   "metadata": {
    "execution": {
     "iopub.execute_input": "2023-05-03T13:24:01.211471Z",
     "iopub.status.busy": "2023-05-03T13:24:01.211195Z",
     "iopub.status.idle": "2023-05-03T13:24:01.232128Z",
     "shell.execute_reply": "2023-05-03T13:24:01.231063Z",
     "shell.execute_reply.started": "2023-05-03T13:24:01.211451Z"
    },
    "tags": []
   },
   "outputs": [
    {
     "name": "stdout",
     "output_type": "stream",
     "text": [
      "Model: \"sequential_286\"\n",
      "_________________________________________________________________\n",
      " Layer (type)                Output Shape              Param #   \n",
      "=================================================================\n",
      " dense_943 (Dense)           (None, 1056)              1116192   \n",
      "                                                                 \n",
      " dense_944 (Dense)           (None, 260)               274820    \n",
      "                                                                 \n",
      " dropout_371 (Dropout)       (None, 260)               0         \n",
      "                                                                 \n",
      " dense_945 (Dense)           (None, 1)                 261       \n",
      "                                                                 \n",
      "=================================================================\n",
      "Total params: 1,391,273\n",
      "Trainable params: 1,391,273\n",
      "Non-trainable params: 0\n",
      "_________________________________________________________________\n"
     ]
    }
   ],
   "source": [
    "pipe['clf'].model_.summary()"
   ]
  },
  {
   "cell_type": "code",
   "execution_count": 127,
   "id": "b70f6d49-ba96-4470-981d-015b8519b2bf",
   "metadata": {
    "execution": {
     "iopub.execute_input": "2023-05-03T13:24:08.390576Z",
     "iopub.status.busy": "2023-05-03T13:24:08.390278Z",
     "iopub.status.idle": "2023-05-03T13:24:08.798910Z",
     "shell.execute_reply": "2023-05-03T13:24:08.798051Z",
     "shell.execute_reply.started": "2023-05-03T13:24:08.390553Z"
    },
    "id": "wu6udS__kavX",
    "tags": []
   },
   "outputs": [],
   "source": [
    "y_pred = pipe.predict(X_test)"
   ]
  },
  {
   "cell_type": "code",
   "execution_count": 128,
   "id": "6bba90d4-0693-40b0-8e51-707882fff445",
   "metadata": {
    "colab": {
     "base_uri": "https://localhost:8080/"
    },
    "execution": {
     "iopub.execute_input": "2023-05-03T13:24:10.780735Z",
     "iopub.status.busy": "2023-05-03T13:24:10.780453Z",
     "iopub.status.idle": "2023-05-03T13:24:10.788385Z",
     "shell.execute_reply": "2023-05-03T13:24:10.787068Z",
     "shell.execute_reply.started": "2023-05-03T13:24:10.780715Z"
    },
    "executionInfo": {
     "elapsed": 312,
     "status": "ok",
     "timestamp": 1682712246169,
     "user": {
      "displayName": "Damir Zunic",
      "userId": "07104666280721646256"
     },
     "user_tz": 240
    },
    "id": "hbTv01iskavX",
    "outputId": "bcbc4bcd-6492-4e64-c009-a4ff56941dcc",
    "tags": []
   },
   "outputs": [
    {
     "name": "stdout",
     "output_type": "stream",
     "text": [
      "Accuracy after tuning: 85.73\n"
     ]
    }
   ],
   "source": [
    "accuracy = accuracy_score(y_test, y_pred)\n",
    "print(f'Accuracy after tuning: {accuracy * 100.0:.2f}')"
   ]
  },
  {
   "cell_type": "code",
   "execution_count": 129,
   "id": "ce273ff1-95e8-4733-8921-5f2a6e992509",
   "metadata": {
    "colab": {
     "base_uri": "https://localhost:8080/"
    },
    "execution": {
     "iopub.execute_input": "2023-05-03T13:24:14.851925Z",
     "iopub.status.busy": "2023-05-03T13:24:14.851548Z",
     "iopub.status.idle": "2023-05-03T13:24:16.185818Z",
     "shell.execute_reply": "2023-05-03T13:24:16.184970Z",
     "shell.execute_reply.started": "2023-05-03T13:24:14.851817Z"
    },
    "executionInfo": {
     "elapsed": 652,
     "status": "ok",
     "timestamp": 1682712256130,
     "user": {
      "displayName": "Damir Zunic",
      "userId": "07104666280721646256"
     },
     "user_tz": 240
    },
    "id": "kfP1WnUfkavY",
    "outputId": "7f45f46e-dbe1-4735-f46f-74ff470c0152",
    "tags": []
   },
   "outputs": [
    {
     "name": "stdout",
     "output_type": "stream",
     "text": [
      "Training Data Score: 1.0\n",
      "Testing Data Score: 0.8573021181716833\n"
     ]
    }
   ],
   "source": [
    "# Compare training and testing scores\n",
    "print(f\"Training Data Score: {pipe.score(X_train, y_train)}\")\n",
    "print(f\"Testing Data Score: {pipe.score(X_test, y_test)}\")"
   ]
  },
  {
   "cell_type": "code",
   "execution_count": 130,
   "id": "ac16e596-167b-420f-924b-7358258751b2",
   "metadata": {
    "colab": {
     "base_uri": "https://localhost:8080/"
    },
    "execution": {
     "iopub.execute_input": "2023-05-03T13:24:27.645148Z",
     "iopub.status.busy": "2023-05-03T13:24:27.644332Z",
     "iopub.status.idle": "2023-05-03T13:24:27.654224Z",
     "shell.execute_reply": "2023-05-03T13:24:27.652786Z",
     "shell.execute_reply.started": "2023-05-03T13:24:27.645127Z"
    },
    "executionInfo": {
     "elapsed": 158,
     "status": "ok",
     "timestamp": 1682712268450,
     "user": {
      "displayName": "Damir Zunic",
      "userId": "07104666280721646256"
     },
     "user_tz": 240
    },
    "id": "3-5Gg07lkavY",
    "outputId": "3fe6244e-b1fe-48a2-e887-b7d33b70c773",
    "tags": []
   },
   "outputs": [
    {
     "name": "stdout",
     "output_type": "stream",
     "text": [
      "[[ 255   84]\n",
      " [ 172 1283]]\n"
     ]
    }
   ],
   "source": [
    "cm = confusion_matrix(y_test, y_pred)\n",
    "print(cm)"
   ]
  },
  {
   "cell_type": "code",
   "execution_count": 131,
   "id": "5fc96060-05d5-4ac4-a20e-b77a4a358b76",
   "metadata": {
    "colab": {
     "base_uri": "https://localhost:8080/",
     "height": 315
    },
    "execution": {
     "iopub.execute_input": "2023-05-03T13:24:41.919967Z",
     "iopub.status.busy": "2023-05-03T13:24:41.919628Z",
     "iopub.status.idle": "2023-05-03T13:24:42.362377Z",
     "shell.execute_reply": "2023-05-03T13:24:42.361249Z",
     "shell.execute_reply.started": "2023-05-03T13:24:41.919946Z"
    },
    "executionInfo": {
     "elapsed": 1309,
     "status": "ok",
     "timestamp": 1682712278412,
     "user": {
      "displayName": "Damir Zunic",
      "userId": "07104666280721646256"
     },
     "user_tz": 240
    },
    "id": "yAEszP3ikavY",
    "outputId": "7ecea9cd-5234-4237-eca2-360e5a138c82",
    "tags": []
   },
   "outputs": [
    {
     "data": {
      "image/png": "[encoded data removed]",
      "text/plain": [
       "<Figure size 864x288 with 4 Axes>"
      ]
     },
     "metadata": {},
     "output_type": "display_data"
    }
   ],
   "source": [
    "# Plot confusion matrix and its normalized version.\n",
    "mu.plot_cm_unnorm_and_norm('Neural Network - PCA tuned #2a', y_test, y_pred, target_names, 'Reds')"
   ]
  },
  {
   "cell_type": "code",
   "execution_count": 132,
   "id": "9ae5f8db-9201-421a-8f79-5a01e861e49f",
   "metadata": {
    "colab": {
     "base_uri": "https://localhost:8080/"
    },
    "execution": {
     "iopub.execute_input": "2023-05-03T13:24:50.512130Z",
     "iopub.status.busy": "2023-05-03T13:24:50.511832Z",
     "iopub.status.idle": "2023-05-03T13:24:50.525265Z",
     "shell.execute_reply": "2023-05-03T13:24:50.524224Z",
     "shell.execute_reply.started": "2023-05-03T13:24:50.512109Z"
    },
    "executionInfo": {
     "elapsed": 194,
     "status": "ok",
     "timestamp": 1682712298538,
     "user": {
      "displayName": "Damir Zunic",
      "userId": "07104666280721646256"
     },
     "user_tz": 240
    },
    "id": "nRKz3IplkavY",
    "outputId": "20121d11-d163-4d2d-cf8d-4ba3e2c560ce",
    "tags": []
   },
   "outputs": [
    {
     "name": "stdout",
     "output_type": "stream",
     "text": [
      "              precision    recall  f1-score   support\n",
      "\n",
      "         hem       0.60      0.75      0.67       339\n",
      "         all       0.94      0.88      0.91      1455\n",
      "\n",
      "    accuracy                           0.86      1794\n",
      "   macro avg       0.77      0.82      0.79      1794\n",
      "weighted avg       0.87      0.86      0.86      1794\n",
      "\n"
     ]
    }
   ],
   "source": [
    "print(classification_report(y_test, y_pred, target_names=target_names))"
   ]
  },
  {
   "cell_type": "markdown",
   "id": "6234c111-f09b-4283-ad0e-ba55ed7d2536",
   "metadata": {},
   "source": [
    "### PCA - Tuned   \n",
    "\n",
    "- PCA 900 - 1200\n",
    "- num of layers 1 - 3\n",
    "- max nodes in layers 500\n",
    "- added 256 batch size - 32, 64, 128, 256\n",
    "- dropout step changed to 0.0001\n",
    "- increased max # epochs to 300\n"
   ]
  },
  {
   "cell_type": "markdown",
   "id": "4de7a887-111f-410b-beae-cbfbeeda17eb",
   "metadata": {},
   "source": [
    "- added early stopping"
   ]
  },
  {
   "cell_type": "code",
   "execution_count": 140,
   "id": "5d63fb5d-5822-4f6f-aa9a-2014d4aabb6b",
   "metadata": {
    "execution": {
     "iopub.execute_input": "2023-05-03T15:12:51.734728Z",
     "iopub.status.busy": "2023-05-03T15:12:51.734440Z",
     "iopub.status.idle": "2023-05-03T15:12:51.741491Z",
     "shell.execute_reply": "2023-05-03T15:12:51.740261Z",
     "shell.execute_reply.started": "2023-05-03T15:12:51.734709Z"
    },
    "tags": []
   },
   "outputs": [],
   "source": [
    "clf = KerasClassifier(\n",
    "    model=km.get_clf,\n",
    "    loss=\"binary_crossentropy\",\n",
    "    model__hidden_layer_sizes=(10, 10),\n",
    "    model__dropout=0.5,\n",
    "    batch_size=64,\n",
    "    optimizer='adam',\n",
    "    optimizer__learning_rate=0.0001,\n",
    "    epochs=100,\n",
    "    verbose=0,\n",
    "    callbacks=EarlyStopping,\n",
    "    callbacks__monitor=\"loss\",\n",
    "    callbacks__patience=5,\n",
    "    random_state=random_state,  \n",
    ")"
   ]
  },
  {
   "cell_type": "code",
   "execution_count": 141,
   "id": "0fbbb4dd-1726-4fb7-a0e6-a46d67b81619",
   "metadata": {
    "execution": {
     "iopub.execute_input": "2023-05-03T15:12:55.904855Z",
     "iopub.status.busy": "2023-05-03T15:12:55.904587Z",
     "iopub.status.idle": "2023-05-03T15:12:55.911074Z",
     "shell.execute_reply": "2023-05-03T15:12:55.909571Z",
     "shell.execute_reply.started": "2023-05-03T15:12:55.904837Z"
    },
    "tags": []
   },
   "outputs": [],
   "source": [
    "# Define model with pipeline\n",
    "num_pca_components = 1000\n",
    "pipe = Pipeline(\n",
    "    steps = (\n",
    "        ('scaler', MinMaxScaler()),\n",
    "        ('pca', PCA(num_pca_components)),\n",
    "        ('clf', clf)\n",
    "    )\n",
    ")"
   ]
  },
  {
   "cell_type": "markdown",
   "id": "706b3d1b-b44f-4570-a263-0fca815fc31f",
   "metadata": {
    "id": "RkQ_-axnlG8O"
   },
   "source": [
    "## Optuna Objective Function"
   ]
  },
  {
   "cell_type": "code",
   "execution_count": 145,
   "id": "1bcbdc55-5aff-4af6-8cb0-e9fcdb3a563c",
   "metadata": {
    "execution": {
     "iopub.execute_input": "2023-05-03T15:15:13.223011Z",
     "iopub.status.busy": "2023-05-03T15:15:13.222247Z",
     "iopub.status.idle": "2023-05-03T15:15:13.230837Z",
     "shell.execute_reply": "2023-05-03T15:15:13.229673Z",
     "shell.execute_reply.started": "2023-05-03T15:15:13.222968Z"
    },
    "executionInfo": {
     "elapsed": 144,
     "status": "ok",
     "timestamp": 1682640534483,
     "user": {
      "displayName": "Damir Zunic",
      "userId": "07104666280721646256"
     },
     "user_tz": 240
    },
    "id": "2aELGNRDlG8O",
    "tags": []
   },
   "outputs": [],
   "source": [
    "def objective(trial):\n",
    "    \"\"\"Define the objective function\"\"\"\n",
    "\n",
    "    n_layers = trial.suggest_int('n_layers', 1, 3) # no. of hidden layers \n",
    " \n",
    "    layers = [500]  # max nodes in layers\n",
    "    for i in range(n_layers):\n",
    "        layers.append(trial.suggest_int(f\"n_units_{i+1}\", 20, layers[i], 20)) # no. of hidden unit\n",
    "    \n",
    "    \n",
    "    params = {\n",
    "        'pca__n_components' : trial.suggest_int('pca__n_components', 900, 1200),\n",
    "        'clf__epochs' : trial.suggest_int('clf__epochs', 10, 300, 10),\n",
    "        'clf__batch_size' : trial.suggest_categorical('clf__batch_size', [32, 64, 128, 256]),\n",
    "        ### 'clf__model__dropout' : trial.suggest_float('clf__model__dropout', 0.2, 0.6, step=0.1),\n",
    "        'clf__model__dropout' : trial.suggest_float('clf__model__dropout', 0.2, 0.6, step=0.0001),\n",
    "         ###'clf__model__hidden_layer_sizes' : [(100, ), (50, 50, )],\n",
    "        'clf__optimizer__learning_rate' : trial.suggest_float('clf__optimizer__learning_rate', 1e-5, 1e-1, log=True),\n",
    "    }\n",
    "    \n",
    "    params['clf__model__hidden_layer_sizes'] = tuple(layers[1:])\n",
    "\n",
    "    pipe.set_params(**params)\n",
    "   \n",
    "    # Fit the model\n",
    "    pipe.fit(X_train, y_train)\n",
    "\n",
    "    # Make predictions\n",
    "    y_pred = pipe.predict(X_test)\n",
    "\n",
    "    # Evaluate predictions\n",
    "    f1 = f1_score(y_test, y_pred, average='macro')\n",
    "    return f1"
   ]
  },
  {
   "cell_type": "markdown",
   "id": "39e9e76f-38c7-4640-a288-626b548fa1a0",
   "metadata": {
    "id": "UlhwpS7-lG8O"
   },
   "source": [
    "## Optuna Study"
   ]
  },
  {
   "cell_type": "code",
   "execution_count": 146,
   "id": "4d81d7f9-edff-4f6b-bdf2-799513ae6cb0",
   "metadata": {
    "colab": {
     "base_uri": "https://localhost:8080/"
    },
    "execution": {
     "iopub.execute_input": "2023-05-03T15:15:15.250863Z",
     "iopub.status.busy": "2023-05-03T15:15:15.250546Z",
     "iopub.status.idle": "2023-05-03T15:15:15.259740Z",
     "shell.execute_reply": "2023-05-03T15:15:15.258206Z",
     "shell.execute_reply.started": "2023-05-03T15:15:15.250845Z"
    },
    "executionInfo": {
     "elapsed": 166,
     "status": "ok",
     "timestamp": 1682640542700,
     "user": {
      "displayName": "Damir Zunic",
      "userId": "07104666280721646256"
     },
     "user_tz": 240
    },
    "id": "vOfrCTgplG8O",
    "outputId": "cfccac98-89f6-4216-acc5-ce60b43cb0e2",
    "tags": []
   },
   "outputs": [
    {
     "name": "stderr",
     "output_type": "stream",
     "text": [
      "\u001b[32m[I 2023-05-03 11:15:15,251]\u001b[0m A new study created in memory with name: no-name-7ee4203c-8d68-4766-add0-4db6d34eeb90\u001b[0m\n"
     ]
    }
   ],
   "source": [
    "study = optuna.create_study(direction='maximize')"
   ]
  },
  {
   "cell_type": "markdown",
   "id": "94fbb219-8e89-459e-a3c9-8f43dc7ec5be",
   "metadata": {
    "id": "gvAvJRAIlG8P"
   },
   "source": [
    "## Optimize the Objective Function"
   ]
  },
  {
   "cell_type": "code",
   "execution_count": 147,
   "id": "a147ad0b-6e40-4ad2-83b5-0893acbe0623",
   "metadata": {
    "colab": {
     "base_uri": "https://localhost:8080/"
    },
    "execution": {
     "iopub.execute_input": "2023-05-03T15:15:21.713527Z",
     "iopub.status.busy": "2023-05-03T15:15:21.712826Z",
     "iopub.status.idle": "2023-05-03T15:30:49.596591Z",
     "shell.execute_reply": "2023-05-03T15:30:49.595560Z",
     "shell.execute_reply.started": "2023-05-03T15:15:21.713500Z"
    },
    "executionInfo": {
     "elapsed": 5163058,
     "status": "ok",
     "timestamp": 1682645720710,
     "user": {
      "displayName": "Damir Zunic",
      "userId": "07104666280721646256"
     },
     "user_tz": 240
    },
    "id": "TKtM3W6PbiE9",
    "outputId": "3b2351f9-5101-4f6c-a9e6-e90064657ead",
    "scrolled": true,
    "tags": []
   },
   "outputs": [
    {
     "name": "stderr",
     "output_type": "stream",
     "text": [
      "\u001b[32m[I 2023-05-03 11:15:46,879]\u001b[0m Trial 0 finished with value: 0.46241909539785186 and parameters: {'n_layers': 3, 'n_units_1': 100, 'n_units_2': 80, 'n_units_3': 20, 'pca__n_components': 976, 'clf__epochs': 210, 'clf__batch_size': 128, 'clf__model__dropout': 0.5075000000000001, 'clf__optimizer__learning_rate': 0.02655358323767822}. Best is trial 0 with value: 0.46241909539785186.\u001b[0m\n",
      "\u001b[32m[I 2023-05-03 11:16:09,772]\u001b[0m Trial 1 finished with value: 0.48261197248445825 and parameters: {'n_layers': 1, 'n_units_1': 200, 'pca__n_components': 1137, 'clf__epochs': 180, 'clf__batch_size': 128, 'clf__model__dropout': 0.5281, 'clf__optimizer__learning_rate': 0.06192387907758219}. Best is trial 1 with value: 0.48261197248445825.\u001b[0m\n",
      "\u001b[32m[I 2023-05-03 11:16:32,950]\u001b[0m Trial 2 finished with value: 0.7686193565827315 and parameters: {'n_layers': 3, 'n_units_1': 340, 'n_units_2': 140, 'n_units_3': 120, 'pca__n_components': 1187, 'clf__epochs': 300, 'clf__batch_size': 256, 'clf__model__dropout': 0.32080000000000003, 'clf__optimizer__learning_rate': 0.014702197591500358}. Best is trial 2 with value: 0.7686193565827315.\u001b[0m\n",
      "\u001b[32m[I 2023-05-03 11:17:51,581]\u001b[0m Trial 3 finished with value: 0.7839788256010242 and parameters: {'n_layers': 1, 'n_units_1': 320, 'pca__n_components': 941, 'clf__epochs': 40, 'clf__batch_size': 32, 'clf__model__dropout': 0.2011, 'clf__optimizer__learning_rate': 5.3312062700940726e-05}. Best is trial 3 with value: 0.7839788256010242.\u001b[0m\n",
      "\u001b[32m[I 2023-05-03 11:18:24,522]\u001b[0m Trial 4 finished with value: 0.7701475481101425 and parameters: {'n_layers': 2, 'n_units_1': 400, 'n_units_2': 160, 'pca__n_components': 950, 'clf__epochs': 90, 'clf__batch_size': 256, 'clf__model__dropout': 0.525, 'clf__optimizer__learning_rate': 2.5898749259688132e-05}. Best is trial 3 with value: 0.7839788256010242.\u001b[0m\n",
      "\u001b[32m[I 2023-05-03 11:19:22,749]\u001b[0m Trial 5 finished with value: 0.7847381621728757 and parameters: {'n_layers': 2, 'n_units_1': 260, 'n_units_2': 160, 'pca__n_components': 1190, 'clf__epochs': 120, 'clf__batch_size': 32, 'clf__model__dropout': 0.41350000000000003, 'clf__optimizer__learning_rate': 0.005614207956778588}. Best is trial 5 with value: 0.7847381621728757.\u001b[0m\n",
      "\u001b[32m[I 2023-05-03 11:19:48,904]\u001b[0m Trial 6 finished with value: 0.7729409581892834 and parameters: {'n_layers': 1, 'n_units_1': 140, 'pca__n_components': 1103, 'clf__epochs': 260, 'clf__batch_size': 128, 'clf__model__dropout': 0.5992, 'clf__optimizer__learning_rate': 0.004689426002533835}. Best is trial 5 with value: 0.7847381621728757.\u001b[0m\n",
      "\u001b[32m[I 2023-05-03 11:21:12,411]\u001b[0m Trial 7 finished with value: 0.7722934472934473 and parameters: {'n_layers': 1, 'n_units_1': 480, 'pca__n_components': 1172, 'clf__epochs': 170, 'clf__batch_size': 128, 'clf__model__dropout': 0.5081, 'clf__optimizer__learning_rate': 8.929894871779105e-05}. Best is trial 5 with value: 0.7847381621728757.\u001b[0m\n",
      "\u001b[32m[I 2023-05-03 11:21:49,759]\u001b[0m Trial 8 finished with value: 0.48830265625284464 and parameters: {'n_layers': 1, 'n_units_1': 320, 'pca__n_components': 1017, 'clf__epochs': 170, 'clf__batch_size': 32, 'clf__model__dropout': 0.47350000000000003, 'clf__optimizer__learning_rate': 0.02134564348427403}. Best is trial 5 with value: 0.7847381621728757.\u001b[0m\n",
      "\u001b[32m[I 2023-05-03 11:22:27,093]\u001b[0m Trial 9 finished with value: 0.7484048748736747 and parameters: {'n_layers': 2, 'n_units_1': 160, 'n_units_2': 40, 'pca__n_components': 1060, 'clf__epochs': 260, 'clf__batch_size': 32, 'clf__model__dropout': 0.49760000000000004, 'clf__optimizer__learning_rate': 0.009320556560178942}. Best is trial 5 with value: 0.7847381621728757.\u001b[0m\n",
      "\u001b[32m[I 2023-05-03 11:23:05,101]\u001b[0m Trial 10 finished with value: 0.7879866746073103 and parameters: {'n_layers': 2, 'n_units_1': 20, 'n_units_2': 20, 'pca__n_components': 1077, 'clf__epochs': 100, 'clf__batch_size': 64, 'clf__model__dropout': 0.3559, 'clf__optimizer__learning_rate': 0.0009574837437393448}. Best is trial 10 with value: 0.7879866746073103.\u001b[0m\n",
      "\u001b[32m[I 2023-05-03 11:24:13,828]\u001b[0m Trial 11 finished with value: 0.768948367244642 and parameters: {'n_layers': 2, 'n_units_1': 20, 'n_units_2': 20, 'pca__n_components': 1084, 'clf__epochs': 100, 'clf__batch_size': 64, 'clf__model__dropout': 0.3673, 'clf__optimizer__learning_rate': 0.0010935023326029507}. Best is trial 10 with value: 0.7879866746073103.\u001b[0m\n",
      "\u001b[32m[I 2023-05-03 11:24:55,629]\u001b[0m Trial 12 finished with value: 0.7837512054001929 and parameters: {'n_layers': 2, 'n_units_1': 20, 'n_units_2': 20, 'pca__n_components': 1129, 'clf__epochs': 110, 'clf__batch_size': 64, 'clf__model__dropout': 0.29290000000000005, 'clf__optimizer__learning_rate': 0.0012096337435246788}. Best is trial 10 with value: 0.7879866746073103.\u001b[0m\n",
      "\u001b[32m[I 2023-05-03 11:25:56,245]\u001b[0m Trial 13 finished with value: 0.7731782890519268 and parameters: {'n_layers': 3, 'n_units_1': 220, 'n_units_2': 220, 'n_units_3': 220, 'pca__n_components': 1027, 'clf__epochs': 20, 'clf__batch_size': 64, 'clf__model__dropout': 0.41700000000000004, 'clf__optimizer__learning_rate': 0.0004296786918818016}. Best is trial 10 with value: 0.7879866746073103.\u001b[0m\n",
      "\u001b[32m[I 2023-05-03 11:26:53,765]\u001b[0m Trial 14 finished with value: 0.7602333791120164 and parameters: {'n_layers': 2, 'n_units_1': 500, 'n_units_2': 360, 'pca__n_components': 1200, 'clf__epochs': 60, 'clf__batch_size': 32, 'clf__model__dropout': 0.4124, 'clf__optimizer__learning_rate': 0.003490012318767406}. Best is trial 10 with value: 0.7879866746073103.\u001b[0m\n",
      "\u001b[32m[I 2023-05-03 11:27:49,045]\u001b[0m Trial 15 finished with value: 0.7733223188598835 and parameters: {'n_layers': 2, 'n_units_1': 60, 'n_units_2': 40, 'pca__n_components': 1144, 'clf__epochs': 130, 'clf__batch_size': 64, 'clf__model__dropout': 0.2763, 'clf__optimizer__learning_rate': 0.00019598648148988986}. Best is trial 10 with value: 0.7879866746073103.\u001b[0m\n",
      "\u001b[32m[I 2023-05-03 11:28:47,579]\u001b[0m Trial 16 finished with value: 0.7577908510885737 and parameters: {'n_layers': 3, 'n_units_1': 260, 'n_units_2': 160, 'n_units_3': 20, 'pca__n_components': 982, 'clf__epochs': 70, 'clf__batch_size': 32, 'clf__model__dropout': 0.3663, 'clf__optimizer__learning_rate': 0.002444937500379092}. Best is trial 10 with value: 0.7879866746073103.\u001b[0m\n",
      "\u001b[32m[I 2023-05-03 11:29:45,028]\u001b[0m Trial 17 finished with value: 0.7707455954897815 and parameters: {'n_layers': 2, 'n_units_1': 420, 'n_units_2': 340, 'pca__n_components': 910, 'clf__epochs': 140, 'clf__batch_size': 64, 'clf__model__dropout': 0.43110000000000004, 'clf__optimizer__learning_rate': 0.0005173540422718038}. Best is trial 10 with value: 0.7879866746073103.\u001b[0m\n",
      "\u001b[32m[I 2023-05-03 11:30:08,411]\u001b[0m Trial 18 finished with value: 0.699679188439166 and parameters: {'n_layers': 2, 'n_units_1': 80, 'n_units_2': 60, 'pca__n_components': 1090, 'clf__epochs': 10, 'clf__batch_size': 256, 'clf__model__dropout': 0.3482, 'clf__optimizer__learning_rate': 1.3705222774956461e-05}. Best is trial 10 with value: 0.7879866746073103.\u001b[0m\n",
      "\u001b[32m[I 2023-05-03 11:30:49,592]\u001b[0m Trial 19 finished with value: 0.7819164389907571 and parameters: {'n_layers': 3, 'n_units_1': 260, 'n_units_2': 100, 'n_units_3': 80, 'pca__n_components': 1051, 'clf__epochs': 210, 'clf__batch_size': 64, 'clf__model__dropout': 0.24100000000000002, 'clf__optimizer__learning_rate': 0.005561228733735142}. Best is trial 10 with value: 0.7879866746073103.\u001b[0m\n"
     ]
    }
   ],
   "source": [
    "study.optimize(objective, n_trials=20)"
   ]
  },
  {
   "cell_type": "code",
   "execution_count": 149,
   "id": "04dc66cb-4174-4de7-8542-1f934f9fe06a",
   "metadata": {
    "execution": {
     "iopub.execute_input": "2023-05-03T15:32:43.805289Z",
     "iopub.status.busy": "2023-05-03T15:32:43.804994Z",
     "iopub.status.idle": "2023-05-03T15:55:53.078208Z",
     "shell.execute_reply": "2023-05-03T15:55:53.077193Z",
     "shell.execute_reply.started": "2023-05-03T15:32:43.805267Z"
    },
    "scrolled": true,
    "tags": []
   },
   "outputs": [
    {
     "name": "stderr",
     "output_type": "stream",
     "text": [
      "\u001b[32m[I 2023-05-03 11:34:30,549]\u001b[0m Trial 20 finished with value: 0.7825607452078318 and parameters: {'n_layers': 2, 'n_units_1': 140, 'n_units_2': 100, 'pca__n_components': 1163, 'clf__epochs': 120, 'clf__batch_size': 32, 'clf__model__dropout': 0.4487, 'clf__optimizer__learning_rate': 0.002285874045348591}. Best is trial 10 with value: 0.7879866746073103.\u001b[0m\n",
      "\u001b[32m[I 2023-05-03 11:35:57,587]\u001b[0m Trial 21 finished with value: 0.7678933766501052 and parameters: {'n_layers': 1, 'n_units_1': 320, 'pca__n_components': 931, 'clf__epochs': 50, 'clf__batch_size': 32, 'clf__model__dropout': 0.2119, 'clf__optimizer__learning_rate': 5.5680381911288065e-05}. Best is trial 10 with value: 0.7879866746073103.\u001b[0m\n",
      "\u001b[32m[I 2023-05-03 11:37:12,186]\u001b[0m Trial 22 finished with value: 0.7927575128451965 and parameters: {'n_layers': 1, 'n_units_1': 360, 'pca__n_components': 998, 'clf__epochs': 40, 'clf__batch_size': 32, 'clf__model__dropout': 0.20340000000000003, 'clf__optimizer__learning_rate': 0.00022766424055840415}. Best is trial 22 with value: 0.7927575128451965.\u001b[0m\n",
      "\u001b[32m[I 2023-05-03 11:37:48,653]\u001b[0m Trial 23 finished with value: 0.7798008005037596 and parameters: {'n_layers': 1, 'n_units_1': 380, 'pca__n_components': 1022, 'clf__epochs': 80, 'clf__batch_size': 32, 'clf__model__dropout': 0.2801, 'clf__optimizer__learning_rate': 0.00035973895507186346}. Best is trial 22 with value: 0.7927575128451965.\u001b[0m\n",
      "\u001b[32m[I 2023-05-03 11:38:41,369]\u001b[0m Trial 24 finished with value: 0.7674564902102972 and parameters: {'n_layers': 2, 'n_units_1': 440, 'n_units_2': 280, 'pca__n_components': 992, 'clf__epochs': 30, 'clf__batch_size': 32, 'clf__model__dropout': 0.3905, 'clf__optimizer__learning_rate': 0.0013899577916160657}. Best is trial 22 with value: 0.7927575128451965.\u001b[0m\n",
      "\u001b[32m[I 2023-05-03 11:40:07,700]\u001b[0m Trial 25 finished with value: 0.7749250342946559 and parameters: {'n_layers': 1, 'n_units_1': 200, 'pca__n_components': 1072, 'clf__epochs': 150, 'clf__batch_size': 32, 'clf__model__dropout': 0.3239, 'clf__optimizer__learning_rate': 0.0001677153923700391}. Best is trial 22 with value: 0.7927575128451965.\u001b[0m\n",
      "\u001b[32m[I 2023-05-03 11:40:57,403]\u001b[0m Trial 26 finished with value: 0.7715813598166539 and parameters: {'n_layers': 3, 'n_units_1': 360, 'n_units_2': 240, 'n_units_3': 240, 'pca__n_components': 1123, 'clf__epochs': 90, 'clf__batch_size': 64, 'clf__model__dropout': 0.2513, 'clf__optimizer__learning_rate': 0.0005887733073780197}. Best is trial 22 with value: 0.7927575128451965.\u001b[0m\n",
      "\u001b[32m[I 2023-05-03 11:41:34,975]\u001b[0m Trial 27 finished with value: 0.7834394104139677 and parameters: {'n_layers': 2, 'n_units_1': 460, 'n_units_2': 460, 'pca__n_components': 1002, 'clf__epochs': 60, 'clf__batch_size': 256, 'clf__model__dropout': 0.45780000000000004, 'clf__optimizer__learning_rate': 0.0019422467745178415}. Best is trial 22 with value: 0.7927575128451965.\u001b[0m\n",
      "\u001b[32m[I 2023-05-03 11:42:12,392]\u001b[0m Trial 28 finished with value: 0.7684123329868123 and parameters: {'n_layers': 1, 'n_units_1': 280, 'pca__n_components': 962, 'clf__epochs': 110, 'clf__batch_size': 32, 'clf__model__dropout': 0.5768, 'clf__optimizer__learning_rate': 0.0008167370438468913}. Best is trial 22 with value: 0.7927575128451965.\u001b[0m\n",
      "\u001b[32m[I 2023-05-03 11:42:49,115]\u001b[0m Trial 29 finished with value: 0.7520703328478637 and parameters: {'n_layers': 3, 'n_units_1': 100, 'n_units_2': 40, 'n_units_3': 20, 'pca__n_components': 1109, 'clf__epochs': 190, 'clf__batch_size': 128, 'clf__model__dropout': 0.394, 'clf__optimizer__learning_rate': 0.009427672962972474}. Best is trial 22 with value: 0.7927575128451965.\u001b[0m\n",
      "\u001b[32m[I 2023-05-03 11:43:19,660]\u001b[0m Trial 30 finished with value: 0.1589310829817159 and parameters: {'n_layers': 2, 'n_units_1': 220, 'n_units_2': 120, 'pca__n_components': 1037, 'clf__epochs': 40, 'clf__batch_size': 64, 'clf__model__dropout': 0.3345, 'clf__optimizer__learning_rate': 0.04202582119744754}. Best is trial 22 with value: 0.7927575128451965.\u001b[0m\n",
      "\u001b[32m[I 2023-05-03 11:45:02,957]\u001b[0m Trial 31 finished with value: 0.7802837058358084 and parameters: {'n_layers': 1, 'n_units_1': 280, 'pca__n_components': 948, 'clf__epochs': 40, 'clf__batch_size': 32, 'clf__model__dropout': 0.2033, 'clf__optimizer__learning_rate': 0.00018267181588421693}. Best is trial 22 with value: 0.7927575128451965.\u001b[0m\n",
      "\u001b[32m[I 2023-05-03 11:47:40,649]\u001b[0m Trial 32 finished with value: 0.7848184393806051 and parameters: {'n_layers': 1, 'n_units_1': 320, 'pca__n_components': 903, 'clf__epochs': 70, 'clf__batch_size': 32, 'clf__model__dropout': 0.2351, 'clf__optimizer__learning_rate': 7.898817677320658e-05}. Best is trial 22 with value: 0.7927575128451965.\u001b[0m\n",
      "\u001b[32m[I 2023-05-03 11:49:29,896]\u001b[0m Trial 33 finished with value: 0.776963331911391 and parameters: {'n_layers': 1, 'n_units_1': 360, 'pca__n_components': 912, 'clf__epochs': 80, 'clf__batch_size': 32, 'clf__model__dropout': 0.24150000000000002, 'clf__optimizer__learning_rate': 0.00030323644614385083}. Best is trial 22 with value: 0.7927575128451965.\u001b[0m\n",
      "\u001b[32m[I 2023-05-03 11:50:16,157]\u001b[0m Trial 34 finished with value: 0.7616548108816515 and parameters: {'n_layers': 1, 'n_units_1': 400, 'pca__n_components': 900, 'clf__epochs': 130, 'clf__batch_size': 32, 'clf__model__dropout': 0.30820000000000003, 'clf__optimizer__learning_rate': 0.000714344217599569}. Best is trial 22 with value: 0.7927575128451965.\u001b[0m\n",
      "\u001b[32m[I 2023-05-03 11:50:48,255]\u001b[0m Trial 35 finished with value: 0.44783010156971376 and parameters: {'n_layers': 1, 'n_units_1': 300, 'pca__n_components': 928, 'clf__epochs': 70, 'clf__batch_size': 32, 'clf__model__dropout': 0.2273, 'clf__optimizer__learning_rate': 0.08969403980862146}. Best is trial 22 with value: 0.7927575128451965.\u001b[0m\n",
      "\u001b[32m[I 2023-05-03 11:51:23,122]\u001b[0m Trial 36 finished with value: 0.7755698005698006 and parameters: {'n_layers': 1, 'n_units_1': 340, 'pca__n_components': 960, 'clf__epochs': 100, 'clf__batch_size': 256, 'clf__model__dropout': 0.2604, 'clf__optimizer__learning_rate': 9.905729071761945e-05}. Best is trial 22 with value: 0.7927575128451965.\u001b[0m\n",
      "\u001b[32m[I 2023-05-03 11:51:43,919]\u001b[0m Trial 37 finished with value: 0.7698010001319822 and parameters: {'n_layers': 2, 'n_units_1': 240, 'n_units_2': 180, 'pca__n_components': 1161, 'clf__epochs': 10, 'clf__batch_size': 128, 'clf__model__dropout': 0.224, 'clf__optimizer__learning_rate': 0.0008389359462745496}. Best is trial 22 with value: 0.7927575128451965.\u001b[0m\n",
      "\u001b[32m[I 2023-05-03 11:54:18,763]\u001b[0m Trial 38 finished with value: 0.7745418517684082 and parameters: {'n_layers': 1, 'n_units_1': 160, 'pca__n_components': 1005, 'clf__epochs': 160, 'clf__batch_size': 32, 'clf__model__dropout': 0.2662, 'clf__optimizer__learning_rate': 3.748330424127353e-05}. Best is trial 22 with value: 0.7927575128451965.\u001b[0m\n",
      "\u001b[32m[I 2023-05-03 11:55:53,074]\u001b[0m Trial 39 finished with value: 0.7788461538461537 and parameters: {'n_layers': 1, 'n_units_1': 380, 'pca__n_components': 966, 'clf__epochs': 190, 'clf__batch_size': 128, 'clf__model__dropout': 0.3009, 'clf__optimizer__learning_rate': 0.00011083943663033943}. Best is trial 22 with value: 0.7927575128451965.\u001b[0m\n"
     ]
    }
   ],
   "source": [
    "study.optimize(objective, n_trials=20)"
   ]
  },
  {
   "cell_type": "code",
   "execution_count": 150,
   "id": "e3b1e60b-57d5-4f57-8f44-74069e1e0bbf",
   "metadata": {
    "execution": {
     "iopub.execute_input": "2023-05-03T15:58:04.897234Z",
     "iopub.status.busy": "2023-05-03T15:58:04.896893Z",
     "iopub.status.idle": "2023-05-03T16:16:16.762720Z",
     "shell.execute_reply": "2023-05-03T16:16:16.761550Z",
     "shell.execute_reply.started": "2023-05-03T15:58:04.897213Z"
    },
    "scrolled": true,
    "tags": []
   },
   "outputs": [
    {
     "name": "stderr",
     "output_type": "stream",
     "text": [
      "\u001b[32m[I 2023-05-03 11:59:02,979]\u001b[0m Trial 40 finished with value: 0.7863413638219681 and parameters: {'n_layers': 2, 'n_units_1': 300, 'n_units_2': 220, 'pca__n_components': 1185, 'clf__epochs': 50, 'clf__batch_size': 32, 'clf__model__dropout': 0.37220000000000003, 'clf__optimizer__learning_rate': 0.0015574230411887196}. Best is trial 22 with value: 0.7927575128451965.\u001b[0m\n",
      "\u001b[32m[I 2023-05-03 12:00:06,057]\u001b[0m Trial 41 finished with value: 0.7647781823241575 and parameters: {'n_layers': 2, 'n_units_1': 300, 'n_units_2': 200, 'pca__n_components': 1176, 'clf__epochs': 50, 'clf__batch_size': 32, 'clf__model__dropout': 0.3768, 'clf__optimizer__learning_rate': 0.0003128034937699668}. Best is trial 22 with value: 0.7927575128451965.\u001b[0m\n",
      "\u001b[32m[I 2023-05-03 12:01:03,477]\u001b[0m Trial 42 finished with value: 0.7860760412168584 and parameters: {'n_layers': 2, 'n_units_1': 340, 'n_units_2': 240, 'pca__n_components': 1195, 'clf__epochs': 90, 'clf__batch_size': 32, 'clf__model__dropout': 0.338, 'clf__optimizer__learning_rate': 0.003855063512075712}. Best is trial 22 with value: 0.7927575128451965.\u001b[0m\n",
      "\u001b[32m[I 2023-05-03 12:02:05,819]\u001b[0m Trial 43 finished with value: 0.7797496903481042 and parameters: {'n_layers': 2, 'n_units_1': 340, 'n_units_2': 260, 'pca__n_components': 1153, 'clf__epochs': 80, 'clf__batch_size': 32, 'clf__model__dropout': 0.349, 'clf__optimizer__learning_rate': 0.0014900612542848378}. Best is trial 22 with value: 0.7927575128451965.\u001b[0m\n",
      "\u001b[32m[I 2023-05-03 12:03:04,208]\u001b[0m Trial 44 finished with value: 0.7878096645014592 and parameters: {'n_layers': 2, 'n_units_1': 320, 'n_units_2': 200, 'pca__n_components': 1192, 'clf__epochs': 30, 'clf__batch_size': 32, 'clf__model__dropout': 0.34440000000000004, 'clf__optimizer__learning_rate': 0.0033962384054764534}. Best is trial 22 with value: 0.7927575128451965.\u001b[0m\n",
      "\u001b[32m[I 2023-05-03 12:04:02,377]\u001b[0m Trial 45 finished with value: 0.7789674908028252 and parameters: {'n_layers': 2, 'n_units_1': 380, 'n_units_2': 300, 'pca__n_components': 1184, 'clf__epochs': 30, 'clf__batch_size': 32, 'clf__model__dropout': 0.33730000000000004, 'clf__optimizer__learning_rate': 0.0033560975633213546}. Best is trial 22 with value: 0.7927575128451965.\u001b[0m\n",
      "\u001b[32m[I 2023-05-03 12:04:26,684]\u001b[0m Trial 46 finished with value: 0.7595513109103343 and parameters: {'n_layers': 2, 'n_units_1': 420, 'n_units_2': 320, 'pca__n_components': 1196, 'clf__epochs': 30, 'clf__batch_size': 256, 'clf__model__dropout': 0.3599, 'clf__optimizer__learning_rate': 0.008189683614917469}. Best is trial 22 with value: 0.7927575128451965.\u001b[0m\n",
      "\u001b[32m[I 2023-05-03 12:05:26,451]\u001b[0m Trial 47 finished with value: 0.7640934649243538 and parameters: {'n_layers': 2, 'n_units_1': 300, 'n_units_2': 220, 'pca__n_components': 1179, 'clf__epochs': 50, 'clf__batch_size': 64, 'clf__model__dropout': 0.3186, 'clf__optimizer__learning_rate': 0.0010164242132835323}. Best is trial 22 with value: 0.7927575128451965.\u001b[0m\n",
      "\u001b[32m[I 2023-05-03 12:06:17,458]\u001b[0m Trial 48 finished with value: 0.7767690081387739 and parameters: {'n_layers': 2, 'n_units_1': 360, 'n_units_2': 200, 'pca__n_components': 1139, 'clf__epochs': 20, 'clf__batch_size': 32, 'clf__model__dropout': 0.3808, 'clf__optimizer__learning_rate': 0.003824068139204041}. Best is trial 22 with value: 0.7927575128451965.\u001b[0m\n",
      "\u001b[32m[I 2023-05-03 12:06:50,198]\u001b[0m Trial 49 finished with value: 0.7764314541254063 and parameters: {'n_layers': 2, 'n_units_1': 340, 'n_units_2': 240, 'pca__n_components': 1120, 'clf__epochs': 100, 'clf__batch_size': 64, 'clf__model__dropout': 0.4086, 'clf__optimizer__learning_rate': 0.0016071003209334304}. Best is trial 22 with value: 0.7927575128451965.\u001b[0m\n",
      "\u001b[32m[I 2023-05-03 12:07:47,707]\u001b[0m Trial 50 finished with value: 0.7744469316507963 and parameters: {'n_layers': 2, 'n_units_1': 280, 'n_units_2': 200, 'pca__n_components': 1167, 'clf__epochs': 280, 'clf__batch_size': 32, 'clf__model__dropout': 0.4353, 'clf__optimizer__learning_rate': 0.0025325641514786688}. Best is trial 22 with value: 0.7927575128451965.\u001b[0m\n",
      "\u001b[32m[I 2023-05-03 12:09:25,665]\u001b[0m Trial 51 finished with value: 0.787369497563503 and parameters: {'n_layers': 2, 'n_units_1': 320, 'n_units_2': 260, 'pca__n_components': 1200, 'clf__epochs': 60, 'clf__batch_size': 32, 'clf__model__dropout': 0.2827, 'clf__optimizer__learning_rate': 0.0010166765328568615}. Best is trial 22 with value: 0.7927575128451965.\u001b[0m\n",
      "\u001b[32m[I 2023-05-03 12:10:23,430]\u001b[0m Trial 52 finished with value: 0.7701821126253765 and parameters: {'n_layers': 2, 'n_units_1': 240, 'n_units_2': 220, 'pca__n_components': 1192, 'clf__epochs': 60, 'clf__batch_size': 32, 'clf__model__dropout': 0.2932, 'clf__optimizer__learning_rate': 0.0011253009762034354}. Best is trial 22 with value: 0.7927575128451965.\u001b[0m\n",
      "\u001b[32m[I 2023-05-03 12:11:10,654]\u001b[0m Trial 53 finished with value: 0.775765092734143 and parameters: {'n_layers': 2, 'n_units_1': 320, 'n_units_2': 260, 'pca__n_components': 1151, 'clf__epochs': 20, 'clf__batch_size': 32, 'clf__model__dropout': 0.35450000000000004, 'clf__optimizer__learning_rate': 0.0005647435733935562}. Best is trial 22 with value: 0.7927575128451965.\u001b[0m\n",
      "\u001b[32m[I 2023-05-03 12:12:07,687]\u001b[0m Trial 54 finished with value: 0.7790407005038723 and parameters: {'n_layers': 2, 'n_units_1': 40, 'n_units_2': 20, 'pca__n_components': 1183, 'clf__epochs': 90, 'clf__batch_size': 32, 'clf__model__dropout': 0.33130000000000004, 'clf__optimizer__learning_rate': 0.002660295299719673}. Best is trial 22 with value: 0.7927575128451965.\u001b[0m\n",
      "\u001b[32m[I 2023-05-03 12:13:05,241]\u001b[0m Trial 55 finished with value: 0.7773855746649501 and parameters: {'n_layers': 2, 'n_units_1': 400, 'n_units_2': 280, 'pca__n_components': 1199, 'clf__epochs': 40, 'clf__batch_size': 32, 'clf__model__dropout': 0.2761, 'clf__optimizer__learning_rate': 0.004285700633434679}. Best is trial 22 with value: 0.7927575128451965.\u001b[0m\n",
      "\u001b[32m[I 2023-05-03 12:13:39,562]\u001b[0m Trial 56 finished with value: 0.7855700557410055 and parameters: {'n_layers': 3, 'n_units_1': 300, 'n_units_2': 180, 'n_units_3': 140, 'pca__n_components': 1166, 'clf__epochs': 60, 'clf__batch_size': 128, 'clf__model__dropout': 0.315, 'clf__optimizer__learning_rate': 0.0013922784158217209}. Best is trial 22 with value: 0.7927575128451965.\u001b[0m\n",
      "\u001b[32m[I 2023-05-03 12:14:05,810]\u001b[0m Trial 57 finished with value: 0.7773381782631195 and parameters: {'n_layers': 2, 'n_units_1': 340, 'n_units_2': 240, 'pca__n_components': 1093, 'clf__epochs': 10, 'clf__batch_size': 64, 'clf__model__dropout': 0.37460000000000004, 'clf__optimizer__learning_rate': 0.0018584700648615394}. Best is trial 22 with value: 0.7927575128451965.\u001b[0m\n",
      "\u001b[32m[I 2023-05-03 12:15:00,612]\u001b[0m Trial 58 finished with value: 0.7971266911908264 and parameters: {'n_layers': 3, 'n_units_1': 360, 'n_units_2': 140, 'n_units_3': 60, 'pca__n_components': 1064, 'clf__epochs': 50, 'clf__batch_size': 32, 'clf__model__dropout': 0.29500000000000004, 'clf__optimizer__learning_rate': 0.005271732594888075}. Best is trial 58 with value: 0.7971266911908264.\u001b[0m\n",
      "\u001b[32m[I 2023-05-03 12:16:16,759]\u001b[0m Trial 59 finished with value: 0.6696541273906479 and parameters: {'n_layers': 3, 'n_units_1': 440, 'n_units_2': 140, 'n_units_3': 60, 'pca__n_components': 1059, 'clf__epochs': 50, 'clf__batch_size': 32, 'clf__model__dropout': 0.2856, 'clf__optimizer__learning_rate': 0.007721688617411745}. Best is trial 58 with value: 0.7971266911908264.\u001b[0m\n"
     ]
    }
   ],
   "source": [
    "study.optimize(objective, n_trials=20)"
   ]
  },
  {
   "cell_type": "code",
   "execution_count": 161,
   "id": "c82f3116-7f94-4d0d-b6bc-ff48048dff07",
   "metadata": {
    "execution": {
     "iopub.execute_input": "2023-05-03T17:43:52.634444Z",
     "iopub.status.busy": "2023-05-03T17:43:52.634155Z",
     "iopub.status.idle": "2023-05-03T18:04:31.535053Z",
     "shell.execute_reply": "2023-05-03T18:04:31.533286Z",
     "shell.execute_reply.started": "2023-05-03T17:43:52.634422Z"
    },
    "scrolled": true,
    "tags": []
   },
   "outputs": [
    {
     "name": "stderr",
     "output_type": "stream",
     "text": [
      "\u001b[32m[I 2023-05-03 13:44:24,468]\u001b[0m Trial 60 finished with value: 0.7774078393075192 and parameters: {'n_layers': 3, 'n_units_1': 360, 'n_units_2': 140, 'n_units_3': 60, 'pca__n_components': 1076, 'clf__epochs': 30, 'clf__batch_size': 256, 'clf__model__dropout': 0.26170000000000004, 'clf__optimizer__learning_rate': 0.005651042908123288}. Best is trial 58 with value: 0.7971266911908264.\u001b[0m\n",
      "\u001b[32m[I 2023-05-03 13:45:21,401]\u001b[0m Trial 61 finished with value: 0.791893794429958 and parameters: {'n_layers': 2, 'n_units_1': 320, 'n_units_2': 260, 'pca__n_components': 1035, 'clf__epochs': 70, 'clf__batch_size': 32, 'clf__model__dropout': 0.3427, 'clf__optimizer__learning_rate': 0.0029530079128290807}. Best is trial 58 with value: 0.7971266911908264.\u001b[0m\n",
      "\u001b[32m[I 2023-05-03 13:47:02,840]\u001b[0m Trial 62 finished with value: 0.7798689666906449 and parameters: {'n_layers': 2, 'n_units_1': 280, 'n_units_2': 260, 'pca__n_components': 1036, 'clf__epochs': 70, 'clf__batch_size': 32, 'clf__model__dropout': 0.39170000000000005, 'clf__optimizer__learning_rate': 0.0021462130771002317}. Best is trial 58 with value: 0.7971266911908264.\u001b[0m\n",
      "\u001b[32m[I 2023-05-03 13:48:14,438]\u001b[0m Trial 63 finished with value: 0.7617889316848048 and parameters: {'n_layers': 3, 'n_units_1': 320, 'n_units_2': 280, 'n_units_3': 180, 'pca__n_components': 1044, 'clf__epochs': 40, 'clf__batch_size': 32, 'clf__model__dropout': 0.3462, 'clf__optimizer__learning_rate': 0.0030441058126372982}. Best is trial 58 with value: 0.7971266911908264.\u001b[0m\n",
      "\u001b[32m[I 2023-05-03 13:49:33,600]\u001b[0m Trial 64 finished with value: 0.7733223188598835 and parameters: {'n_layers': 2, 'n_units_1': 240, 'n_units_2': 80, 'pca__n_components': 1005, 'clf__epochs': 60, 'clf__batch_size': 32, 'clf__model__dropout': 0.3679, 'clf__optimizer__learning_rate': 0.001026458064586975}. Best is trial 58 with value: 0.7971266911908264.\u001b[0m\n",
      "\u001b[32m[I 2023-05-03 13:50:21,909]\u001b[0m Trial 65 finished with value: 0.7153705172743934 and parameters: {'n_layers': 2, 'n_units_1': 400, 'n_units_2': 180, 'pca__n_components': 1067, 'clf__epochs': 50, 'clf__batch_size': 64, 'clf__model__dropout': 0.2988, 'clf__optimizer__learning_rate': 0.0134668427146407}. Best is trial 58 with value: 0.7971266911908264.\u001b[0m\n",
      "\u001b[32m[I 2023-05-03 13:51:50,300]\u001b[0m Trial 66 finished with value: 0.7761115299411963 and parameters: {'n_layers': 3, 'n_units_1': 380, 'n_units_2': 300, 'n_units_3': 280, 'pca__n_components': 1012, 'clf__epochs': 80, 'clf__batch_size': 32, 'clf__model__dropout': 0.32430000000000003, 'clf__optimizer__learning_rate': 0.005407164663876062}. Best is trial 58 with value: 0.7971266911908264.\u001b[0m\n",
      "\u001b[32m[I 2023-05-03 13:52:42,855]\u001b[0m Trial 67 finished with value: 0.7819853728016768 and parameters: {'n_layers': 2, 'n_units_1': 260, 'n_units_2': 220, 'pca__n_components': 979, 'clf__epochs': 20, 'clf__batch_size': 32, 'clf__model__dropout': 0.31070000000000003, 'clf__optimizer__learning_rate': 0.0018608021746495446}. Best is trial 58 with value: 0.7971266911908264.\u001b[0m\n",
      "\u001b[32m[I 2023-05-03 13:53:43,476]\u001b[0m Trial 68 finished with value: 0.7827655610438002 and parameters: {'n_layers': 2, 'n_units_1': 100, 'n_units_2': 60, 'pca__n_components': 1104, 'clf__epochs': 70, 'clf__batch_size': 32, 'clf__model__dropout': 0.3633, 'clf__optimizer__learning_rate': 0.0012865714028751792}. Best is trial 58 with value: 0.7971266911908264.\u001b[0m\n",
      "\u001b[32m[I 2023-05-03 13:54:32,163]\u001b[0m Trial 69 finished with value: 0.7737401055859473 and parameters: {'n_layers': 2, 'n_units_1': 320, 'n_units_2': 160, 'pca__n_components': 1022, 'clf__epochs': 110, 'clf__batch_size': 64, 'clf__model__dropout': 0.4222, 'clf__optimizer__learning_rate': 0.0004117473978648289}. Best is trial 58 with value: 0.7971266911908264.\u001b[0m\n",
      "\u001b[32m[I 2023-05-03 13:56:11,046]\u001b[0m Trial 70 finished with value: 0.7560636075989491 and parameters: {'n_layers': 3, 'n_units_1': 200, 'n_units_2': 120, 'n_units_3': 40, 'pca__n_components': 989, 'clf__epochs': 220, 'clf__batch_size': 32, 'clf__model__dropout': 0.4006, 'clf__optimizer__learning_rate': 0.0007021870650477275}. Best is trial 58 with value: 0.7971266911908264.\u001b[0m\n",
      "\u001b[32m[I 2023-05-03 13:57:16,790]\u001b[0m Trial 71 finished with value: 0.7734618823334224 and parameters: {'n_layers': 2, 'n_units_1': 340, 'n_units_2': 240, 'pca__n_components': 1192, 'clf__epochs': 90, 'clf__batch_size': 32, 'clf__model__dropout': 0.3369, 'clf__optimizer__learning_rate': 0.0035520934726473}. Best is trial 58 with value: 0.7971266911908264.\u001b[0m\n",
      "\u001b[32m[I 2023-05-03 13:58:23,301]\u001b[0m Trial 72 finished with value: 0.7780031028368795 and parameters: {'n_layers': 2, 'n_units_1': 360, 'n_units_2': 220, 'pca__n_components': 1054, 'clf__epochs': 120, 'clf__batch_size': 32, 'clf__model__dropout': 0.3429, 'clf__optimizer__learning_rate': 0.0025356096058203946}. Best is trial 58 with value: 0.7971266911908264.\u001b[0m\n",
      "\u001b[32m[I 2023-05-03 13:59:24,548]\u001b[0m Trial 73 finished with value: 0.7798008005037596 and parameters: {'n_layers': 2, 'n_units_1': 300, 'n_units_2': 260, 'pca__n_components': 1174, 'clf__epochs': 100, 'clf__batch_size': 32, 'clf__model__dropout': 0.3275, 'clf__optimizer__learning_rate': 0.004426273927063443}. Best is trial 58 with value: 0.7971266911908264.\u001b[0m\n",
      "\u001b[32m[I 2023-05-03 14:00:18,493]\u001b[0m Trial 74 finished with value: 0.7588022651185982 and parameters: {'n_layers': 2, 'n_units_1': 360, 'n_units_2': 240, 'pca__n_components': 1081, 'clf__epochs': 40, 'clf__batch_size': 32, 'clf__model__dropout': 0.3835, 'clf__optimizer__learning_rate': 0.001986957062495065}. Best is trial 58 with value: 0.7971266911908264.\u001b[0m\n",
      "\u001b[32m[I 2023-05-03 14:01:15,373]\u001b[0m Trial 75 finished with value: 0.7819164389907571 and parameters: {'n_layers': 2, 'n_units_1': 300, 'n_units_2': 260, 'pca__n_components': 1029, 'clf__epochs': 80, 'clf__batch_size': 32, 'clf__model__dropout': 0.30710000000000004, 'clf__optimizer__learning_rate': 0.003013481820967909}. Best is trial 58 with value: 0.7971266911908264.\u001b[0m\n",
      "\u001b[32m[I 2023-05-03 14:01:41,554]\u001b[0m Trial 76 finished with value: 0.7817287170313902 and parameters: {'n_layers': 2, 'n_units_1': 380, 'n_units_2': 300, 'pca__n_components': 1154, 'clf__epochs': 50, 'clf__batch_size': 128, 'clf__model__dropout': 0.3556, 'clf__optimizer__learning_rate': 0.0008787833968902776}. Best is trial 58 with value: 0.7971266911908264.\u001b[0m\n",
      "\u001b[32m[I 2023-05-03 14:02:36,751]\u001b[0m Trial 77 finished with value: 0.7796666715548972 and parameters: {'n_layers': 2, 'n_units_1': 320, 'n_units_2': 200, 'pca__n_components': 1189, 'clf__epochs': 60, 'clf__batch_size': 32, 'clf__model__dropout': 0.2524, 'clf__optimizer__learning_rate': 0.0012505941439960933}. Best is trial 58 with value: 0.7971266911908264.\u001b[0m\n",
      "\u001b[32m[I 2023-05-03 14:02:56,486]\u001b[0m Trial 78 finished with value: 0.7711973855234133 and parameters: {'n_layers': 2, 'n_units_1': 280, 'n_units_2': 240, 'pca__n_components': 1044, 'clf__epochs': 70, 'clf__batch_size': 256, 'clf__model__dropout': 0.2824, 'clf__optimizer__learning_rate': 0.005004533021221154}. Best is trial 58 with value: 0.7971266911908264.\u001b[0m\n",
      "\u001b[32m[I 2023-05-03 14:04:31,529]\u001b[0m Trial 79 finished with value: 0.7603996011111903 and parameters: {'n_layers': 2, 'n_units_1': 340, 'n_units_2': 280, 'pca__n_components': 1200, 'clf__epochs': 30, 'clf__batch_size': 32, 'clf__model__dropout': 0.20820000000000002, 'clf__optimizer__learning_rate': 0.0016496880221367378}. Best is trial 58 with value: 0.7971266911908264.\u001b[0m\n"
     ]
    }
   ],
   "source": [
    "study.optimize(objective, n_trials=20)"
   ]
  },
  {
   "cell_type": "markdown",
   "id": "da4c2beb-2387-41af-8afc-329c5e141f0b",
   "metadata": {
    "id": "rPMCn7GolG8P"
   },
   "source": [
    "## Best Parameters"
   ]
  },
  {
   "cell_type": "code",
   "execution_count": 151,
   "id": "998960a3-2340-42fa-851e-5fe9daf5fe9d",
   "metadata": {
    "colab": {
     "base_uri": "https://localhost:8080/"
    },
    "execution": {
     "iopub.execute_input": "2023-05-03T17:38:39.982261Z",
     "iopub.status.busy": "2023-05-03T17:38:39.981952Z",
     "iopub.status.idle": "2023-05-03T17:38:39.995147Z",
     "shell.execute_reply": "2023-05-03T17:38:39.994268Z",
     "shell.execute_reply.started": "2023-05-03T17:38:39.982239Z"
    },
    "executionInfo": {
     "elapsed": 174,
     "status": "ok",
     "timestamp": 1682711827757,
     "user": {
      "displayName": "Damir Zunic",
      "userId": "07104666280721646256"
     },
     "user_tz": 240
    },
    "id": "pcFYqAcakavV",
    "outputId": "164c3403-8b13-48a1-aaf0-967c8554bad9",
    "tags": []
   },
   "outputs": [
    {
     "name": "stdout",
     "output_type": "stream",
     "text": [
      "Number of finished trials: 60\n",
      "Best trial:\n",
      "  Value: 0.7971266911908264\n",
      "  Params: \n",
      "    n_layers: 3\n",
      "    n_units_1: 360\n",
      "    n_units_2: 140\n",
      "    n_units_3: 60\n",
      "    pca__n_components: 1064\n",
      "    clf__epochs: 50\n",
      "    clf__batch_size: 32\n",
      "    clf__model__dropout: 0.29500000000000004\n",
      "    clf__optimizer__learning_rate: 0.005271732594888075\n"
     ]
    }
   ],
   "source": [
    "print(f'Number of finished trials: {len(study.trials)}')\n",
    "print('Best trial:')\n",
    "trial = study.best_trial\n",
    "\n",
    "print(f'  Value: {trial.value}')\n",
    "print('  Params: ')\n",
    "\n",
    "for key, value in trial.params.items():\n",
    "    print(f'    {key}: {value}')"
   ]
  },
  {
   "cell_type": "markdown",
   "id": "2b5bad1c-2617-4ad7-a6d7-c8e3e658a042",
   "metadata": {
    "id": "wdBWzR64kavV"
   },
   "source": [
    "## Re-fit the model"
   ]
  },
  {
   "cell_type": "code",
   "execution_count": 152,
   "id": "33fae50d-8a0a-41ea-8f57-01743db83f54",
   "metadata": {
    "colab": {
     "base_uri": "https://localhost:8080/"
    },
    "execution": {
     "iopub.execute_input": "2023-05-03T17:38:59.738512Z",
     "iopub.status.busy": "2023-05-03T17:38:59.738230Z",
     "iopub.status.idle": "2023-05-03T17:38:59.745962Z",
     "shell.execute_reply": "2023-05-03T17:38:59.744853Z",
     "shell.execute_reply.started": "2023-05-03T17:38:59.738493Z"
    },
    "executionInfo": {
     "elapsed": 153,
     "status": "ok",
     "timestamp": 1682711839306,
     "user": {
      "displayName": "Damir Zunic",
      "userId": "07104666280721646256"
     },
     "user_tz": 240
    },
    "id": "0chjzXrXkavW",
    "outputId": "b2830790-1fac-465d-c730-75beb6cc3fc4",
    "tags": []
   },
   "outputs": [
    {
     "data": {
      "text/plain": [
       "{'n_layers': 3,\n",
       " 'n_units_1': 360,\n",
       " 'n_units_2': 140,\n",
       " 'n_units_3': 60,\n",
       " 'pca__n_components': 1064,\n",
       " 'clf__epochs': 50,\n",
       " 'clf__batch_size': 32,\n",
       " 'clf__model__dropout': 0.29500000000000004,\n",
       " 'clf__optimizer__learning_rate': 0.005271732594888075}"
      ]
     },
     "execution_count": 152,
     "metadata": {},
     "output_type": "execute_result"
    }
   ],
   "source": [
    "params_t = trial.params\n",
    "params_t"
   ]
  },
  {
   "cell_type": "code",
   "execution_count": 153,
   "id": "e21ff913-bbd5-47ff-b9ff-954d50d5063f",
   "metadata": {
    "execution": {
     "iopub.execute_input": "2023-05-03T17:39:04.546236Z",
     "iopub.status.busy": "2023-05-03T17:39:04.545945Z",
     "iopub.status.idle": "2023-05-03T17:39:04.552958Z",
     "shell.execute_reply": "2023-05-03T17:39:04.552023Z",
     "shell.execute_reply.started": "2023-05-03T17:39:04.546214Z"
    },
    "tags": []
   },
   "outputs": [
    {
     "data": {
      "text/plain": [
       "{'pca__n_components': 1064,\n",
       " 'clf__epochs': 50,\n",
       " 'clf__batch_size': 32,\n",
       " 'clf__model__dropout': 0.29500000000000004,\n",
       " 'clf__optimizer__learning_rate': 0.005271732594888075}"
      ]
     },
     "execution_count": 153,
     "metadata": {},
     "output_type": "execute_result"
    }
   ],
   "source": [
    "### params = {k:v for k,v in params_t.items() if k.startswith('clf')}\n",
    "params = {k:v for k,v in params_t.items() if '__' in k}\n",
    "params"
   ]
  },
  {
   "cell_type": "code",
   "execution_count": 154,
   "id": "c0bb4fb1-9adb-444a-92b4-ea76c964de48",
   "metadata": {
    "execution": {
     "iopub.execute_input": "2023-05-03T17:39:09.937092Z",
     "iopub.status.busy": "2023-05-03T17:39:09.936813Z",
     "iopub.status.idle": "2023-05-03T17:39:09.943594Z",
     "shell.execute_reply": "2023-05-03T17:39:09.942688Z",
     "shell.execute_reply.started": "2023-05-03T17:39:09.937071Z"
    },
    "tags": []
   },
   "outputs": [
    {
     "data": {
      "text/plain": [
       "{'pca__n_components': 1064,\n",
       " 'clf__epochs': 50,\n",
       " 'clf__batch_size': 32,\n",
       " 'clf__model__dropout': 0.29500000000000004,\n",
       " 'clf__optimizer__learning_rate': 0.005271732594888075,\n",
       " 'clf__model__hidden_layer_sizes': (360, 140, 60)}"
      ]
     },
     "execution_count": 154,
     "metadata": {},
     "output_type": "execute_result"
    }
   ],
   "source": [
    "# if 'n_units_2' in params_t:\n",
    "#     params['clf__model__hidden_layer_sizes'] = (params_t['n_units_1'], params_t['n_units_2'])\n",
    "# else:\n",
    "#     params['clf__model__hidden_layer_sizes'] = (params_t['n_units_1'],)\n",
    "    \n",
    "\n",
    "params['clf__model__hidden_layer_sizes'] = tuple([v for k,v in params_t.items() if 'n_units' in k])\n",
    "params"
   ]
  },
  {
   "cell_type": "code",
   "execution_count": 155,
   "id": "44b5fb08-d13b-408c-b584-d7bf57766c30",
   "metadata": {
    "execution": {
     "iopub.execute_input": "2023-05-03T17:39:18.851731Z",
     "iopub.status.busy": "2023-05-03T17:39:18.851377Z",
     "iopub.status.idle": "2023-05-03T17:40:23.629716Z",
     "shell.execute_reply": "2023-05-03T17:40:23.628869Z",
     "shell.execute_reply.started": "2023-05-03T17:39:18.851709Z"
    },
    "tags": []
   },
   "outputs": [
    {
     "data": {
      "text/html": [
       "<style>#sk-container-id-8 {color: black;background-color: white;}#sk-container-id-8 pre{padding: 0;}#sk-container-id-8 div.sk-toggleable {background-color: white;}#sk-container-id-8 label.sk-toggleable__label {cursor: pointer;display: block;width: 100%;margin-bottom: 0;padding: 0.3em;box-sizing: border-box;text-align: center;}#sk-container-id-8 label.sk-toggleable__label-arrow:before {content: \"▸\";float: left;margin-right: 0.25em;color: #696969;}#sk-container-id-8 label.sk-toggleable__label-arrow:hover:before {color: black;}#sk-container-id-8 div.sk-estimator:hover label.sk-toggleable__label-arrow:before {color: black;}#sk-container-id-8 div.sk-toggleable__content {max-height: 0;max-width: 0;overflow: hidden;text-align: left;background-color: #f0f8ff;}#sk-container-id-8 div.sk-toggleable__content pre {margin: 0.2em;color: black;border-radius: 0.25em;background-color: #f0f8ff;}#sk-container-id-8 input.sk-toggleable__control:checked~div.sk-toggleable__content {max-height: 200px;max-width: 100%;overflow: auto;}#sk-container-id-8 input.sk-toggleable__control:checked~label.sk-toggleable__label-arrow:before {content: \"▾\";}#sk-container-id-8 div.sk-estimator input.sk-toggleable__control:checked~label.sk-toggleable__label {background-color: #d4ebff;}#sk-container-id-8 div.sk-label input.sk-toggleable__control:checked~label.sk-toggleable__label {background-color: #d4ebff;}#sk-container-id-8 input.sk-hidden--visually {border: 0;clip: rect(1px 1px 1px 1px);clip: rect(1px, 1px, 1px, 1px);height: 1px;margin: -1px;overflow: hidden;padding: 0;position: absolute;width: 1px;}#sk-container-id-8 div.sk-estimator {font-family: monospace;background-color: #f0f8ff;border: 1px dotted black;border-radius: 0.25em;box-sizing: border-box;margin-bottom: 0.5em;}#sk-container-id-8 div.sk-estimator:hover {background-color: #d4ebff;}#sk-container-id-8 div.sk-parallel-item::after {content: \"\";width: 100%;border-bottom: 1px solid gray;flex-grow: 1;}#sk-container-id-8 div.sk-label:hover label.sk-toggleable__label {background-color: #d4ebff;}#sk-container-id-8 div.sk-serial::before {content: \"\";position: absolute;border-left: 1px solid gray;box-sizing: border-box;top: 0;bottom: 0;left: 50%;z-index: 0;}#sk-container-id-8 div.sk-serial {display: flex;flex-direction: column;align-items: center;background-color: white;padding-right: 0.2em;padding-left: 0.2em;position: relative;}#sk-container-id-8 div.sk-item {position: relative;z-index: 1;}#sk-container-id-8 div.sk-parallel {display: flex;align-items: stretch;justify-content: center;background-color: white;position: relative;}#sk-container-id-8 div.sk-item::before, #sk-container-id-8 div.sk-parallel-item::before {content: \"\";position: absolute;border-left: 1px solid gray;box-sizing: border-box;top: 0;bottom: 0;left: 50%;z-index: -1;}#sk-container-id-8 div.sk-parallel-item {display: flex;flex-direction: column;z-index: 1;position: relative;background-color: white;}#sk-container-id-8 div.sk-parallel-item:first-child::after {align-self: flex-end;width: 50%;}#sk-container-id-8 div.sk-parallel-item:last-child::after {align-self: flex-start;width: 50%;}#sk-container-id-8 div.sk-parallel-item:only-child::after {width: 0;}#sk-container-id-8 div.sk-dashed-wrapped {border: 1px dashed gray;margin: 0 0.4em 0.5em 0.4em;box-sizing: border-box;padding-bottom: 0.4em;background-color: white;}#sk-container-id-8 div.sk-label label {font-family: monospace;font-weight: bold;display: inline-block;line-height: 1.2em;}#sk-container-id-8 div.sk-label-container {text-align: center;}#sk-container-id-8 div.sk-container {/* jupyter's `normalize.less` sets `[hidden] { display: none; }` but bootstrap.min.css set `[hidden] { display: none !important; }` so we also need the `!important` here to be able to override the default hidden behavior on the sphinx rendered scikit-learn.org. See: https://github.com/scikit-learn/scikit-learn/issues/21755 */display: inline-block !important;position: relative;}#sk-container-id-8 div.sk-text-repr-fallback {display: none;}</style><div id=\"sk-container-id-8\" class=\"sk-top-container\"><div class=\"sk-text-repr-fallback\"><pre>Pipeline(steps=[(&#x27;scaler&#x27;, MinMaxScaler()), (&#x27;pca&#x27;, PCA(n_components=1064)),\n",
       "                (&#x27;clf&#x27;,\n",
       "                 KerasClassifier(batch_size=32, callbacks=&lt;class &#x27;keras.callbacks.EarlyStopping&#x27;&gt;, callbacks__monitor=&#x27;loss&#x27;, callbacks__patience=5, epochs=50, loss=&#x27;binary_crossentropy&#x27;, model=&lt;function get_clf at 0x7f39054775b0&gt;, model__dropout=0.29500000000000004, model__hidden_layer_sizes=(360, 140, 60), optimizer=&#x27;adam&#x27;, optimizer__learning_rate=0.005271732594888075, random_state=10, verbose=0))])</pre><b>In a Jupyter environment, please rerun this cell to show the HTML representation or trust the notebook. <br />On GitHub, the HTML representation is unable to render, please try loading this page with nbviewer.org.</b></div><div class=\"sk-container\" hidden><div class=\"sk-item sk-dashed-wrapped\"><div class=\"sk-label-container\"><div class=\"sk-label sk-toggleable\"><input class=\"sk-toggleable__control sk-hidden--visually\" id=\"sk-estimator-id-29\" type=\"checkbox\" ><label for=\"sk-estimator-id-29\" class=\"sk-toggleable__label sk-toggleable__label-arrow\">Pipeline</label><div class=\"sk-toggleable__content\"><pre>Pipeline(steps=[(&#x27;scaler&#x27;, MinMaxScaler()), (&#x27;pca&#x27;, PCA(n_components=1064)),\n",
       "                (&#x27;clf&#x27;,\n",
       "                 KerasClassifier(batch_size=32, callbacks=&lt;class &#x27;keras.callbacks.EarlyStopping&#x27;&gt;, callbacks__monitor=&#x27;loss&#x27;, callbacks__patience=5, epochs=50, loss=&#x27;binary_crossentropy&#x27;, model=&lt;function get_clf at 0x7f39054775b0&gt;, model__dropout=0.29500000000000004, model__hidden_layer_sizes=(360, 140, 60), optimizer=&#x27;adam&#x27;, optimizer__learning_rate=0.005271732594888075, random_state=10, verbose=0))])</pre></div></div></div><div class=\"sk-serial\"><div class=\"sk-item\"><div class=\"sk-estimator sk-toggleable\"><input class=\"sk-toggleable__control sk-hidden--visually\" id=\"sk-estimator-id-30\" type=\"checkbox\" ><label for=\"sk-estimator-id-30\" class=\"sk-toggleable__label sk-toggleable__label-arrow\">MinMaxScaler</label><div class=\"sk-toggleable__content\"><pre>MinMaxScaler()</pre></div></div></div><div class=\"sk-item\"><div class=\"sk-estimator sk-toggleable\"><input class=\"sk-toggleable__control sk-hidden--visually\" id=\"sk-estimator-id-31\" type=\"checkbox\" ><label for=\"sk-estimator-id-31\" class=\"sk-toggleable__label sk-toggleable__label-arrow\">PCA</label><div class=\"sk-toggleable__content\"><pre>PCA(n_components=1064)</pre></div></div></div><div class=\"sk-item\"><div class=\"sk-estimator sk-toggleable\"><input class=\"sk-toggleable__control sk-hidden--visually\" id=\"sk-estimator-id-32\" type=\"checkbox\" ><label for=\"sk-estimator-id-32\" class=\"sk-toggleable__label sk-toggleable__label-arrow\">KerasClassifier</label><div class=\"sk-toggleable__content\"><pre>KerasClassifier(\n",
       "\tmodel=&lt;function get_clf at 0x7f39054775b0&gt;\n",
       "\tbuild_fn=None\n",
       "\twarm_start=False\n",
       "\trandom_state=10\n",
       "\toptimizer=adam\n",
       "\tloss=binary_crossentropy\n",
       "\tmetrics=None\n",
       "\tbatch_size=32\n",
       "\tvalidation_batch_size=None\n",
       "\tverbose=0\n",
       "\tcallbacks=&lt;class &#x27;keras.callbacks.EarlyStopping&#x27;&gt;\n",
       "\tvalidation_split=0.0\n",
       "\tshuffle=True\n",
       "\trun_eagerly=False\n",
       "\tepochs=50\n",
       "\tmodel__hidden_layer_sizes=(360, 140, 60)\n",
       "\tmodel__dropout=0.29500000000000004\n",
       "\toptimizer__learning_rate=0.005271732594888075\n",
       "\tcallbacks__monitor=loss\n",
       "\tcallbacks__patience=5\n",
       "\tclass_weight=None\n",
       ")</pre></div></div></div></div></div></div></div>"
      ],
      "text/plain": [
       "Pipeline(steps=[('scaler', MinMaxScaler()), ('pca', PCA(n_components=1064)),\n",
       "                ('clf',\n",
       "                 KerasClassifier(batch_size=32, callbacks=<class 'keras.callbacks.EarlyStopping'>, callbacks__monitor='loss', callbacks__patience=5, epochs=50, loss='binary_crossentropy', model=<function get_clf at 0x7f39054775b0>, model__dropout=0.29500000000000004, model__hidden_layer_sizes=(360, 140, 60), optimizer='adam', optimizer__learning_rate=0.005271732594888075, random_state=10, verbose=0))])"
      ]
     },
     "execution_count": 155,
     "metadata": {},
     "output_type": "execute_result"
    }
   ],
   "source": [
    "pipe.set_params(**params)\n",
    "    ## model = SVC(**params, kernel='linear', random_state=random_state)\n",
    "pipe.fit(X_train, y_train)"
   ]
  },
  {
   "cell_type": "code",
   "execution_count": 125,
   "id": "accfd12c-08d6-4f2d-b4a8-d016d3b0ae5d",
   "metadata": {
    "colab": {
     "base_uri": "https://localhost:8080/"
    },
    "execution": {
     "iopub.execute_input": "2023-05-03T13:23:54.846297Z",
     "iopub.status.busy": "2023-05-03T13:23:54.846008Z",
     "iopub.status.idle": "2023-05-03T13:23:55.818592Z",
     "shell.execute_reply": "2023-05-03T13:23:55.817682Z",
     "shell.execute_reply.started": "2023-05-03T13:23:54.846276Z"
    },
    "executionInfo": {
     "elapsed": 213,
     "status": "ok",
     "timestamp": 1682617792838,
     "user": {
      "displayName": "Damir Zunic",
      "userId": "07104666280721646256"
     },
     "user_tz": 240
    },
    "id": "LbF9DeztkavX",
    "outputId": "c5f58508-4df3-4877-aea7-154111dacd89",
    "tags": []
   },
   "outputs": [
    {
     "name": "stdout",
     "output_type": "stream",
     "text": [
      "INFO:tensorflow:Assets written to: ram://106dc578152b40dfaa11d3c121cb2030/assets\n"
     ]
    },
    {
     "data": {
      "text/plain": [
       "['./saved_models/batch_4_stack/nn_pca_t_2a.pkl']"
      ]
     },
     "execution_count": 125,
     "metadata": {},
     "output_type": "execute_result"
    }
   ],
   "source": [
    "# Save the model\n",
    "# joblib.dump(mlp, '/content/drive/MyDrive/Omdena/Team1/saved_models/batch_4_stack/nn_pca_1.pkl')\n",
    "joblib.dump(pipe, './saved_models/batch_4_stack/nn_pca_t_2a.pkl')"
   ]
  },
  {
   "cell_type": "code",
   "execution_count": 156,
   "id": "e3ea4eec-b601-425f-a023-d8eb35de5bab",
   "metadata": {
    "execution": {
     "iopub.execute_input": "2023-05-03T17:40:47.678253Z",
     "iopub.status.busy": "2023-05-03T17:40:47.677604Z",
     "iopub.status.idle": "2023-05-03T17:40:47.714512Z",
     "shell.execute_reply": "2023-05-03T17:40:47.710478Z",
     "shell.execute_reply.started": "2023-05-03T17:40:47.678230Z"
    },
    "tags": []
   },
   "outputs": [
    {
     "name": "stdout",
     "output_type": "stream",
     "text": [
      "Model: \"sequential_367\"\n",
      "_________________________________________________________________\n",
      " Layer (type)                Output Shape              Param #   \n",
      "=================================================================\n",
      " dense_1239 (Dense)          (None, 1064)              1133160   \n",
      "                                                                 \n",
      " dense_1240 (Dense)          (None, 360)               383400    \n",
      "                                                                 \n",
      " dropout_505 (Dropout)       (None, 360)               0         \n",
      "                                                                 \n",
      " dense_1241 (Dense)          (None, 140)               50540     \n",
      "                                                                 \n",
      " dropout_506 (Dropout)       (None, 140)               0         \n",
      "                                                                 \n",
      " dense_1242 (Dense)          (None, 60)                8460      \n",
      "                                                                 \n",
      " dropout_507 (Dropout)       (None, 60)                0         \n",
      "                                                                 \n",
      " dense_1243 (Dense)          (None, 1)                 61        \n",
      "                                                                 \n",
      "=================================================================\n",
      "Total params: 1,575,621\n",
      "Trainable params: 1,575,621\n",
      "Non-trainable params: 0\n",
      "_________________________________________________________________\n"
     ]
    }
   ],
   "source": [
    "pipe['clf'].model_.summary()"
   ]
  },
  {
   "cell_type": "code",
   "execution_count": 157,
   "id": "7a95ed98-0d05-4615-8cce-ec6b56a22424",
   "metadata": {
    "execution": {
     "iopub.execute_input": "2023-05-03T17:41:11.820213Z",
     "iopub.status.busy": "2023-05-03T17:41:11.819499Z",
     "iopub.status.idle": "2023-05-03T17:42:03.658246Z",
     "shell.execute_reply": "2023-05-03T17:42:03.657219Z",
     "shell.execute_reply.started": "2023-05-03T17:41:11.820188Z"
    },
    "id": "wu6udS__kavX",
    "tags": []
   },
   "outputs": [],
   "source": [
    "y_pred = pipe.predict(X_test)"
   ]
  },
  {
   "cell_type": "code",
   "execution_count": 158,
   "id": "e63ed54d-8d90-4276-90e5-fba77b5a2afe",
   "metadata": {
    "colab": {
     "base_uri": "https://localhost:8080/"
    },
    "execution": {
     "iopub.execute_input": "2023-05-03T17:42:03.659822Z",
     "iopub.status.busy": "2023-05-03T17:42:03.659561Z",
     "iopub.status.idle": "2023-05-03T17:42:03.668138Z",
     "shell.execute_reply": "2023-05-03T17:42:03.667005Z",
     "shell.execute_reply.started": "2023-05-03T17:42:03.659800Z"
    },
    "executionInfo": {
     "elapsed": 312,
     "status": "ok",
     "timestamp": 1682712246169,
     "user": {
      "displayName": "Damir Zunic",
      "userId": "07104666280721646256"
     },
     "user_tz": 240
    },
    "id": "hbTv01iskavX",
    "outputId": "bcbc4bcd-6492-4e64-c009-a4ff56941dcc",
    "tags": []
   },
   "outputs": [
    {
     "name": "stdout",
     "output_type": "stream",
     "text": [
      "Accuracy after tuning: 83.89\n"
     ]
    }
   ],
   "source": [
    "accuracy = accuracy_score(y_test, y_pred)\n",
    "print(f'Accuracy after tuning: {accuracy * 100.0:.2f}')"
   ]
  },
  {
   "cell_type": "code",
   "execution_count": 159,
   "id": "76132362-ab02-4fbd-a4f6-7ff707685f87",
   "metadata": {
    "colab": {
     "base_uri": "https://localhost:8080/"
    },
    "execution": {
     "iopub.execute_input": "2023-05-03T17:42:11.509261Z",
     "iopub.status.busy": "2023-05-03T17:42:11.508875Z",
     "iopub.status.idle": "2023-05-03T17:42:14.061077Z",
     "shell.execute_reply": "2023-05-03T17:42:14.060059Z",
     "shell.execute_reply.started": "2023-05-03T17:42:11.509238Z"
    },
    "executionInfo": {
     "elapsed": 652,
     "status": "ok",
     "timestamp": 1682712256130,
     "user": {
      "displayName": "Damir Zunic",
      "userId": "07104666280721646256"
     },
     "user_tz": 240
    },
    "id": "kfP1WnUfkavY",
    "outputId": "7f45f46e-dbe1-4735-f46f-74ff470c0152",
    "tags": []
   },
   "outputs": [
    {
     "name": "stdout",
     "output_type": "stream",
     "text": [
      "Training Data Score: 0.9941260384324914\n",
      "Testing Data Score: 0.8389074693422519\n"
     ]
    }
   ],
   "source": [
    "# Compare training and testing scores\n",
    "print(f\"Training Data Score: {pipe.score(X_train, y_train)}\")\n",
    "print(f\"Testing Data Score: {pipe.score(X_test, y_test)}\")"
   ]
  },
  {
   "cell_type": "code",
   "execution_count": 160,
   "id": "0843279a-650b-4c9b-a1ac-11f2c39eb9a7",
   "metadata": {
    "colab": {
     "base_uri": "https://localhost:8080/"
    },
    "execution": {
     "iopub.execute_input": "2023-05-03T17:42:20.813927Z",
     "iopub.status.busy": "2023-05-03T17:42:20.813637Z",
     "iopub.status.idle": "2023-05-03T17:42:20.823056Z",
     "shell.execute_reply": "2023-05-03T17:42:20.821784Z",
     "shell.execute_reply.started": "2023-05-03T17:42:20.813907Z"
    },
    "executionInfo": {
     "elapsed": 158,
     "status": "ok",
     "timestamp": 1682712268450,
     "user": {
      "displayName": "Damir Zunic",
      "userId": "07104666280721646256"
     },
     "user_tz": 240
    },
    "id": "3-5Gg07lkavY",
    "outputId": "3fe6244e-b1fe-48a2-e887-b7d33b70c773",
    "tags": []
   },
   "outputs": [
    {
     "name": "stdout",
     "output_type": "stream",
     "text": [
      "[[ 254   85]\n",
      " [ 204 1251]]\n"
     ]
    }
   ],
   "source": [
    "cm = confusion_matrix(y_test, y_pred)\n",
    "print(cm)"
   ]
  },
  {
   "cell_type": "code",
   "execution_count": 131,
   "id": "cc29326e-778e-49dc-83f9-ceb6b97622ca",
   "metadata": {
    "colab": {
     "base_uri": "https://localhost:8080/",
     "height": 315
    },
    "execution": {
     "iopub.execute_input": "2023-05-03T13:24:41.919967Z",
     "iopub.status.busy": "2023-05-03T13:24:41.919628Z",
     "iopub.status.idle": "2023-05-03T13:24:42.362377Z",
     "shell.execute_reply": "2023-05-03T13:24:42.361249Z",
     "shell.execute_reply.started": "2023-05-03T13:24:41.919946Z"
    },
    "executionInfo": {
     "elapsed": 1309,
     "status": "ok",
     "timestamp": 1682712278412,
     "user": {
      "displayName": "Damir Zunic",
      "userId": "07104666280721646256"
     },
     "user_tz": 240
    },
    "id": "yAEszP3ikavY",
    "outputId": "7ecea9cd-5234-4237-eca2-360e5a138c82",
    "tags": []
   },
   "outputs": [
    {
     "data": {
      "image/png": "[encoded data removed]",
      "text/plain": [
       "<Figure size 864x288 with 4 Axes>"
      ]
     },
     "metadata": {},
     "output_type": "display_data"
    }
   ],
   "source": [
    "# Plot confusion matrix and its normalized version.\n",
    "mu.plot_cm_unnorm_and_norm('Neural Network - PCA tuned #2a', y_test, y_pred, target_names, 'Reds')"
   ]
  },
  {
   "cell_type": "code",
   "execution_count": 132,
   "id": "eb2079b9-33ae-46ec-8946-85f53605c7dc",
   "metadata": {
    "colab": {
     "base_uri": "https://localhost:8080/"
    },
    "execution": {
     "iopub.execute_input": "2023-05-03T13:24:50.512130Z",
     "iopub.status.busy": "2023-05-03T13:24:50.511832Z",
     "iopub.status.idle": "2023-05-03T13:24:50.525265Z",
     "shell.execute_reply": "2023-05-03T13:24:50.524224Z",
     "shell.execute_reply.started": "2023-05-03T13:24:50.512109Z"
    },
    "executionInfo": {
     "elapsed": 194,
     "status": "ok",
     "timestamp": 1682712298538,
     "user": {
      "displayName": "Damir Zunic",
      "userId": "07104666280721646256"
     },
     "user_tz": 240
    },
    "id": "nRKz3IplkavY",
    "outputId": "20121d11-d163-4d2d-cf8d-4ba3e2c560ce",
    "tags": []
   },
   "outputs": [
    {
     "name": "stdout",
     "output_type": "stream",
     "text": [
      "              precision    recall  f1-score   support\n",
      "\n",
      "         hem       0.60      0.75      0.67       339\n",
      "         all       0.94      0.88      0.91      1455\n",
      "\n",
      "    accuracy                           0.86      1794\n",
      "   macro avg       0.77      0.82      0.79      1794\n",
      "weighted avg       0.87      0.86      0.86      1794\n",
      "\n"
     ]
    }
   ],
   "source": [
    "print(classification_report(y_test, y_pred, target_names=target_names))"
   ]
  },
  {
   "cell_type": "markdown",
   "id": "372749f6-06a3-4571-affb-8f6d582d9fd4",
   "metadata": {},
   "source": [
    "### PCA - 1000  \n",
    "\n",
    "- num of layers 1 - 3\n",
    "- max nodes in layers 500\n",
    "- added 256 batch size - 32, 64, 128, 256\n",
    "- dropout step changed to 0.0001\n",
    "- increased max # epochs to 300\n"
   ]
  },
  {
   "cell_type": "markdown",
   "id": "b47bb24b-5566-41b2-9488-c830796eb67d",
   "metadata": {},
   "source": [
    "- added early stopping"
   ]
  },
  {
   "cell_type": "code",
   "execution_count": 169,
   "id": "84b89f2b-ea3a-4519-a946-0398094accb8",
   "metadata": {
    "execution": {
     "iopub.execute_input": "2023-05-03T22:04:29.097636Z",
     "iopub.status.busy": "2023-05-03T22:04:29.089594Z",
     "iopub.status.idle": "2023-05-03T22:04:29.141519Z",
     "shell.execute_reply": "2023-05-03T22:04:29.138140Z",
     "shell.execute_reply.started": "2023-05-03T22:04:29.097374Z"
    },
    "tags": []
   },
   "outputs": [],
   "source": [
    "clf = KerasClassifier(\n",
    "    model=km.get_clf,\n",
    "    loss=\"binary_crossentropy\",\n",
    "    model__hidden_layer_sizes=(10, 10),\n",
    "    model__dropout=0.5,\n",
    "    batch_size=64,\n",
    "    optimizer='adam',\n",
    "    optimizer__learning_rate=0.0001,\n",
    "    epochs=100,\n",
    "    verbose=0,\n",
    "    callbacks=EarlyStopping,\n",
    "    callbacks__monitor=\"loss\",\n",
    "    callbacks__patience=5,\n",
    "    random_state=random_state,  \n",
    ")"
   ]
  },
  {
   "cell_type": "code",
   "execution_count": 170,
   "id": "345c6bd3-a4d3-43fa-af5c-c7444c07e5c3",
   "metadata": {
    "execution": {
     "iopub.execute_input": "2023-05-03T22:04:30.628615Z",
     "iopub.status.busy": "2023-05-03T22:04:30.628289Z",
     "iopub.status.idle": "2023-05-03T22:04:30.636792Z",
     "shell.execute_reply": "2023-05-03T22:04:30.635621Z",
     "shell.execute_reply.started": "2023-05-03T22:04:30.628593Z"
    },
    "tags": []
   },
   "outputs": [],
   "source": [
    "# Define model with pipeline\n",
    "num_pca_components = 1000\n",
    "pipe = Pipeline(\n",
    "    steps = (\n",
    "        ('scaler', MinMaxScaler()),\n",
    "        ('pca', PCA(num_pca_components)),\n",
    "        ('clf', clf)\n",
    "    )\n",
    ")"
   ]
  },
  {
   "cell_type": "markdown",
   "id": "c923b62c-004a-4314-ae9f-d8ca41e012e2",
   "metadata": {
    "id": "RkQ_-axnlG8O"
   },
   "source": [
    "## Optuna Objective Function"
   ]
  },
  {
   "cell_type": "code",
   "execution_count": 171,
   "id": "b7ed98f8-0985-424a-b5f0-21026d309384",
   "metadata": {
    "execution": {
     "iopub.execute_input": "2023-05-03T22:05:14.249722Z",
     "iopub.status.busy": "2023-05-03T22:05:14.249364Z",
     "iopub.status.idle": "2023-05-03T22:05:14.266222Z",
     "shell.execute_reply": "2023-05-03T22:05:14.265142Z",
     "shell.execute_reply.started": "2023-05-03T22:05:14.249700Z"
    },
    "executionInfo": {
     "elapsed": 144,
     "status": "ok",
     "timestamp": 1682640534483,
     "user": {
      "displayName": "Damir Zunic",
      "userId": "07104666280721646256"
     },
     "user_tz": 240
    },
    "id": "2aELGNRDlG8O",
    "tags": []
   },
   "outputs": [],
   "source": [
    "def objective(trial):\n",
    "    \"\"\"Define the objective function\"\"\"\n",
    "\n",
    "    n_layers = trial.suggest_int('n_layers', 1, 3) # no. of hidden layers \n",
    " \n",
    "    layers = [500]  # max nodes in layers\n",
    "    for i in range(n_layers):\n",
    "        layers.append(trial.suggest_int(f\"n_units_{i+1}\", 20, 500, 10)) # no. of hidden unit\n",
    "    \n",
    "    \n",
    "    params = {\n",
    "        #'pca__n_components' : trial.suggest_int('pca__n_components', 900, 1200),\n",
    "        'clf__epochs' : trial.suggest_int('clf__epochs', 10, 300, 10),\n",
    "        'clf__batch_size' : trial.suggest_categorical('clf__batch_size', [32, 64, 128, 256]),\n",
    "        ### 'clf__model__dropout' : trial.suggest_float('clf__model__dropout', 0.2, 0.6, step=0.1),\n",
    "        'clf__model__dropout' : trial.suggest_float('clf__model__dropout', 0.2, 0.6, step=0.0001),\n",
    "         ###'clf__model__hidden_layer_sizes' : [(100, ), (50, 50, )],\n",
    "        'clf__optimizer__learning_rate' : trial.suggest_float('clf__optimizer__learning_rate', 1e-5, 1e-1, log=True),\n",
    "    }\n",
    "    \n",
    "    params['clf__model__hidden_layer_sizes'] = tuple(layers[1:])\n",
    "\n",
    "    pipe.set_params(**params)\n",
    "   \n",
    "    # Fit the model\n",
    "    pipe.fit(X_train, y_train)\n",
    "\n",
    "    # Make predictions\n",
    "    y_pred = pipe.predict(X_test)\n",
    "\n",
    "    # Evaluate predictions\n",
    "    f1 = f1_score(y_test, y_pred, average='macro')\n",
    "    return f1"
   ]
  },
  {
   "cell_type": "markdown",
   "id": "80a02c57-5032-450a-a54e-8b1c1ac72b8f",
   "metadata": {
    "id": "UlhwpS7-lG8O"
   },
   "source": [
    "## Optuna Study"
   ]
  },
  {
   "cell_type": "code",
   "execution_count": 172,
   "id": "1d21af76-0efc-44e1-ad88-077caf79c2ad",
   "metadata": {
    "colab": {
     "base_uri": "https://localhost:8080/"
    },
    "execution": {
     "iopub.execute_input": "2023-05-03T22:05:16.910636Z",
     "iopub.status.busy": "2023-05-03T22:05:16.909768Z",
     "iopub.status.idle": "2023-05-03T22:05:17.008685Z",
     "shell.execute_reply": "2023-05-03T22:05:17.007703Z",
     "shell.execute_reply.started": "2023-05-03T22:05:16.910607Z"
    },
    "executionInfo": {
     "elapsed": 166,
     "status": "ok",
     "timestamp": 1682640542700,
     "user": {
      "displayName": "Damir Zunic",
      "userId": "07104666280721646256"
     },
     "user_tz": 240
    },
    "id": "vOfrCTgplG8O",
    "outputId": "cfccac98-89f6-4216-acc5-ce60b43cb0e2",
    "tags": []
   },
   "outputs": [
    {
     "name": "stderr",
     "output_type": "stream",
     "text": [
      "\u001b[32m[I 2023-05-03 18:05:16,921]\u001b[0m A new study created in memory with name: no-name-af47ea3b-5e36-42f0-a921-8c4ad356adf3\u001b[0m\n"
     ]
    }
   ],
   "source": [
    "study = optuna.create_study(direction='maximize')"
   ]
  },
  {
   "cell_type": "markdown",
   "id": "30c97985-ea21-42e0-bab7-251b5fd54de6",
   "metadata": {
    "id": "gvAvJRAIlG8P"
   },
   "source": [
    "## Optimize the Objective Function"
   ]
  },
  {
   "cell_type": "code",
   "execution_count": 173,
   "id": "3d03f7aa-58b9-4560-837d-4f3f93764b0c",
   "metadata": {
    "colab": {
     "base_uri": "https://localhost:8080/"
    },
    "execution": {
     "iopub.execute_input": "2023-05-03T22:05:19.654320Z",
     "iopub.status.busy": "2023-05-03T22:05:19.654042Z",
     "iopub.status.idle": "2023-05-03T22:24:29.761768Z",
     "shell.execute_reply": "2023-05-03T22:24:29.759101Z",
     "shell.execute_reply.started": "2023-05-03T22:05:19.654301Z"
    },
    "executionInfo": {
     "elapsed": 5163058,
     "status": "ok",
     "timestamp": 1682645720710,
     "user": {
      "displayName": "Damir Zunic",
      "userId": "07104666280721646256"
     },
     "user_tz": 240
    },
    "id": "TKtM3W6PbiE9",
    "outputId": "3b2351f9-5101-4f6c-a9e6-e90064657ead",
    "scrolled": true,
    "tags": []
   },
   "outputs": [
    {
     "name": "stderr",
     "output_type": "stream",
     "text": [
      "\u001b[32m[I 2023-05-03 18:06:14,989]\u001b[0m Trial 0 finished with value: 0.7772079772079772 and parameters: {'n_layers': 2, 'n_units_1': 110, 'n_units_2': 390, 'clf__epochs': 20, 'clf__batch_size': 64, 'clf__model__dropout': 0.5639000000000001, 'clf__optimizer__learning_rate': 7.89425184079927e-05}. Best is trial 0 with value: 0.7772079772079772.\u001b[0m\n",
      "\u001b[32m[I 2023-05-03 18:07:21,376]\u001b[0m Trial 1 finished with value: 0.7765956427752642 and parameters: {'n_layers': 2, 'n_units_1': 350, 'n_units_2': 80, 'clf__epochs': 80, 'clf__batch_size': 32, 'clf__model__dropout': 0.20650000000000002, 'clf__optimizer__learning_rate': 0.00022021727829382557}. Best is trial 0 with value: 0.7772079772079772.\u001b[0m\n",
      "\u001b[32m[I 2023-05-03 18:08:16,207]\u001b[0m Trial 2 finished with value: 0.7852758764741798 and parameters: {'n_layers': 2, 'n_units_1': 160, 'n_units_2': 340, 'clf__epochs': 40, 'clf__batch_size': 128, 'clf__model__dropout': 0.24980000000000002, 'clf__optimizer__learning_rate': 0.003630971677402474}. Best is trial 2 with value: 0.7852758764741798.\u001b[0m\n",
      "\u001b[32m[I 2023-05-03 18:09:05,200]\u001b[0m Trial 3 finished with value: 0.7764894891293646 and parameters: {'n_layers': 3, 'n_units_1': 170, 'n_units_2': 260, 'n_units_3': 400, 'clf__epochs': 120, 'clf__batch_size': 64, 'clf__model__dropout': 0.41680000000000006, 'clf__optimizer__learning_rate': 0.00024285830941122777}. Best is trial 2 with value: 0.7852758764741798.\u001b[0m\n",
      "\u001b[32m[I 2023-05-03 18:09:29,180]\u001b[0m Trial 4 finished with value: 0.7804900936175223 and parameters: {'n_layers': 2, 'n_units_1': 340, 'n_units_2': 320, 'clf__epochs': 130, 'clf__batch_size': 256, 'clf__model__dropout': 0.47440000000000004, 'clf__optimizer__learning_rate': 0.0002593353537396925}. Best is trial 2 with value: 0.7852758764741798.\u001b[0m\n",
      "\u001b[32m[I 2023-05-03 18:10:01,563]\u001b[0m Trial 5 finished with value: 0.771376329787234 and parameters: {'n_layers': 3, 'n_units_1': 30, 'n_units_2': 130, 'n_units_3': 120, 'clf__epochs': 140, 'clf__batch_size': 128, 'clf__model__dropout': 0.3438, 'clf__optimizer__learning_rate': 0.004398550791034019}. Best is trial 2 with value: 0.7852758764741798.\u001b[0m\n",
      "\u001b[32m[I 2023-05-03 18:10:24,446]\u001b[0m Trial 6 finished with value: 0.419883975148119 and parameters: {'n_layers': 3, 'n_units_1': 60, 'n_units_2': 450, 'n_units_3': 190, 'clf__epochs': 130, 'clf__batch_size': 256, 'clf__model__dropout': 0.2444, 'clf__optimizer__learning_rate': 0.05305085160209454}. Best is trial 2 with value: 0.7852758764741798.\u001b[0m\n",
      "\u001b[32m[I 2023-05-03 18:12:28,979]\u001b[0m Trial 7 finished with value: 0.760142732258519 and parameters: {'n_layers': 3, 'n_units_1': 370, 'n_units_2': 330, 'n_units_3': 470, 'clf__epochs': 300, 'clf__batch_size': 32, 'clf__model__dropout': 0.20170000000000002, 'clf__optimizer__learning_rate': 2.4362338242913856e-05}. Best is trial 2 with value: 0.7852758764741798.\u001b[0m\n",
      "\u001b[32m[I 2023-05-03 18:13:38,689]\u001b[0m Trial 8 finished with value: 0.44783010156971376 and parameters: {'n_layers': 2, 'n_units_1': 380, 'n_units_2': 420, 'clf__epochs': 130, 'clf__batch_size': 32, 'clf__model__dropout': 0.3294, 'clf__optimizer__learning_rate': 0.05241654843082358}. Best is trial 2 with value: 0.7852758764741798.\u001b[0m\n",
      "\u001b[32m[I 2023-05-03 18:15:15,979]\u001b[0m Trial 9 finished with value: 0.7848184393806051 and parameters: {'n_layers': 3, 'n_units_1': 360, 'n_units_2': 470, 'n_units_3': 290, 'clf__epochs': 50, 'clf__batch_size': 64, 'clf__model__dropout': 0.38330000000000003, 'clf__optimizer__learning_rate': 0.00014742298782900677}. Best is trial 2 with value: 0.7852758764741798.\u001b[0m\n",
      "\u001b[32m[I 2023-05-03 18:16:49,206]\u001b[0m Trial 10 finished with value: 0.7748772339258057 and parameters: {'n_layers': 1, 'n_units_1': 500, 'clf__epochs': 220, 'clf__batch_size': 128, 'clf__model__dropout': 0.2887, 'clf__optimizer__learning_rate': 0.0025735135318329682}. Best is trial 2 with value: 0.7852758764741798.\u001b[0m\n",
      "\u001b[32m[I 2023-05-03 18:17:33,215]\u001b[0m Trial 11 finished with value: 0.7534660590758677 and parameters: {'n_layers': 1, 'n_units_1': 230, 'clf__epochs': 30, 'clf__batch_size': 64, 'clf__model__dropout': 0.40570000000000006, 'clf__optimizer__learning_rate': 1.2906094285848416e-05}. Best is trial 2 with value: 0.7852758764741798.\u001b[0m\n",
      "\u001b[32m[I 2023-05-03 18:18:22,848]\u001b[0m Trial 12 finished with value: 0.7869129230528903 and parameters: {'n_layers': 1, 'n_units_1': 260, 'clf__epochs': 60, 'clf__batch_size': 128, 'clf__model__dropout': 0.4934, 'clf__optimizer__learning_rate': 0.0012231675983605352}. Best is trial 12 with value: 0.7869129230528903.\u001b[0m\n",
      "\u001b[32m[I 2023-05-03 18:19:09,992]\u001b[0m Trial 13 finished with value: 0.8040344026323973 and parameters: {'n_layers': 1, 'n_units_1': 250, 'clf__epochs': 80, 'clf__batch_size': 128, 'clf__model__dropout': 0.5214000000000001, 'clf__optimizer__learning_rate': 0.0012108737025966388}. Best is trial 13 with value: 0.8040344026323973.\u001b[0m\n",
      "\u001b[32m[I 2023-05-03 18:20:04,009]\u001b[0m Trial 14 finished with value: 0.7742946442581307 and parameters: {'n_layers': 1, 'n_units_1': 260, 'clf__epochs': 80, 'clf__batch_size': 128, 'clf__model__dropout': 0.5465, 'clf__optimizer__learning_rate': 0.00093241278435455}. Best is trial 13 with value: 0.8040344026323973.\u001b[0m\n",
      "\u001b[32m[I 2023-05-03 18:21:52,521]\u001b[0m Trial 15 finished with value: 0.7776193870277976 and parameters: {'n_layers': 1, 'n_units_1': 290, 'clf__epochs': 200, 'clf__batch_size': 128, 'clf__model__dropout': 0.5249, 'clf__optimizer__learning_rate': 0.0008486471378216519}. Best is trial 13 with value: 0.8040344026323973.\u001b[0m\n",
      "\u001b[32m[I 2023-05-03 18:22:54,766]\u001b[0m Trial 16 finished with value: 0.7640073869998657 and parameters: {'n_layers': 1, 'n_units_1': 200, 'clf__epochs': 80, 'clf__batch_size': 128, 'clf__model__dropout': 0.4778, 'clf__optimizer__learning_rate': 0.019906113750484206}. Best is trial 13 with value: 0.8040344026323973.\u001b[0m\n",
      "\u001b[32m[I 2023-05-03 18:23:38,285]\u001b[0m Trial 17 finished with value: 0.7756192162566664 and parameters: {'n_layers': 1, 'n_units_1': 440, 'clf__epochs': 210, 'clf__batch_size': 128, 'clf__model__dropout': 0.5888, 'clf__optimizer__learning_rate': 0.010965936602396588}. Best is trial 13 with value: 0.8040344026323973.\u001b[0m\n",
      "\u001b[32m[I 2023-05-03 18:24:05,726]\u001b[0m Trial 18 finished with value: 0.7666796722590714 and parameters: {'n_layers': 1, 'n_units_1': 280, 'clf__epochs': 170, 'clf__batch_size': 128, 'clf__model__dropout': 0.4768, 'clf__optimizer__learning_rate': 0.0008180944652890085}. Best is trial 13 with value: 0.8040344026323973.\u001b[0m\n",
      "\u001b[32m[I 2023-05-03 18:24:29,747]\u001b[0m Trial 19 finished with value: 0.7736468015308913 and parameters: {'n_layers': 1, 'n_units_1': 100, 'clf__epochs': 90, 'clf__batch_size': 256, 'clf__model__dropout': 0.5126, 'clf__optimizer__learning_rate': 0.0019525162485228575}. Best is trial 13 with value: 0.8040344026323973.\u001b[0m\n"
     ]
    }
   ],
   "source": [
    "study.optimize(objective, n_trials=20)"
   ]
  },
  {
   "cell_type": "code",
   "execution_count": 187,
   "id": "de7ad53c-b26e-41c5-a98b-8231245f4b66",
   "metadata": {
    "execution": {
     "iopub.execute_input": "2023-05-03T22:37:58.591458Z",
     "iopub.status.busy": "2023-05-03T22:37:58.590792Z",
     "iopub.status.idle": "2023-05-03T22:50:51.042551Z",
     "shell.execute_reply": "2023-05-03T22:50:51.041264Z",
     "shell.execute_reply.started": "2023-05-03T22:37:58.591437Z"
    },
    "scrolled": true,
    "tags": []
   },
   "outputs": [
    {
     "name": "stderr",
     "output_type": "stream",
     "text": [
      "\u001b[32m[I 2023-05-03 18:38:25,673]\u001b[0m Trial 20 finished with value: 0.780056895680515 and parameters: {'n_layers': 2, 'n_units_1': 300, 'n_units_2': 180, 'clf__epochs': 10, 'clf__batch_size': 128, 'clf__model__dropout': 0.4307, 'clf__optimizer__learning_rate': 0.00687817334571339}. Best is trial 13 with value: 0.8040344026323973.\u001b[0m\n",
      "\u001b[32m[I 2023-05-03 18:39:07,687]\u001b[0m Trial 21 finished with value: 0.7782323047329545 and parameters: {'n_layers': 2, 'n_units_1': 170, 'n_units_2': 240, 'clf__epochs': 40, 'clf__batch_size': 128, 'clf__model__dropout': 0.4425, 'clf__optimizer__learning_rate': 0.0027447245325567656}. Best is trial 13 with value: 0.8040344026323973.\u001b[0m\n",
      "\u001b[32m[I 2023-05-03 18:39:41,572]\u001b[0m Trial 22 finished with value: 0.7816935558570487 and parameters: {'n_layers': 1, 'n_units_1': 150, 'clf__epochs': 60, 'clf__batch_size': 128, 'clf__model__dropout': 0.5084, 'clf__optimizer__learning_rate': 0.0016319727993535662}. Best is trial 13 with value: 0.8040344026323973.\u001b[0m\n",
      "\u001b[32m[I 2023-05-03 18:40:16,941]\u001b[0m Trial 23 finished with value: 0.7914284742071593 and parameters: {'n_layers': 2, 'n_units_1': 220, 'n_units_2': 50, 'clf__epochs': 100, 'clf__batch_size': 128, 'clf__model__dropout': 0.3632, 'clf__optimizer__learning_rate': 0.006163026711802631}. Best is trial 13 with value: 0.8040344026323973.\u001b[0m\n",
      "\u001b[32m[I 2023-05-03 18:40:52,134]\u001b[0m Trial 24 finished with value: 0.7620232551756946 and parameters: {'n_layers': 1, 'n_units_1': 210, 'clf__epochs': 100, 'clf__batch_size': 128, 'clf__model__dropout': 0.3671, 'clf__optimizer__learning_rate': 0.011649489995176333}. Best is trial 13 with value: 0.8040344026323973.\u001b[0m\n",
      "\u001b[32m[I 2023-05-03 18:41:29,210]\u001b[0m Trial 25 finished with value: 0.7827614165799917 and parameters: {'n_layers': 1, 'n_units_1': 240, 'clf__epochs': 170, 'clf__batch_size': 128, 'clf__model__dropout': 0.5978000000000001, 'clf__optimizer__learning_rate': 0.0006937449382736752}. Best is trial 13 with value: 0.8040344026323973.\u001b[0m\n",
      "\u001b[32m[I 2023-05-03 18:42:15,495]\u001b[0m Trial 26 finished with value: 0.776241259790535 and parameters: {'n_layers': 2, 'n_units_1': 320, 'n_units_2': 20, 'clf__epochs': 110, 'clf__batch_size': 128, 'clf__model__dropout': 0.44610000000000005, 'clf__optimizer__learning_rate': 0.005463515780086428}. Best is trial 13 with value: 0.8040344026323973.\u001b[0m\n",
      "\u001b[32m[I 2023-05-03 18:43:00,448]\u001b[0m Trial 27 finished with value: 0.7819164389907571 and parameters: {'n_layers': 1, 'n_units_1': 260, 'clf__epochs': 60, 'clf__batch_size': 32, 'clf__model__dropout': 0.31470000000000004, 'clf__optimizer__learning_rate': 0.001582830750106645}. Best is trial 13 with value: 0.8040344026323973.\u001b[0m\n",
      "\u001b[32m[I 2023-05-03 18:43:22,628]\u001b[0m Trial 28 finished with value: 0.7904071594131965 and parameters: {'n_layers': 2, 'n_units_1': 410, 'n_units_2': 20, 'clf__epochs': 300, 'clf__batch_size': 256, 'clf__model__dropout': 0.36750000000000005, 'clf__optimizer__learning_rate': 0.0005978373467384041}. Best is trial 13 with value: 0.8040344026323973.\u001b[0m\n",
      "\u001b[32m[I 2023-05-03 18:43:46,754]\u001b[0m Trial 29 finished with value: 0.7767909730340337 and parameters: {'n_layers': 2, 'n_units_1': 450, 'n_units_2': 20, 'clf__epochs': 300, 'clf__batch_size': 256, 'clf__model__dropout': 0.36040000000000005, 'clf__optimizer__learning_rate': 0.0004909528908390076}. Best is trial 13 with value: 0.8040344026323973.\u001b[0m\n",
      "\u001b[32m[I 2023-05-03 18:45:25,911]\u001b[0m Trial 30 finished with value: 0.7825788072243414 and parameters: {'n_layers': 2, 'n_units_1': 400, 'n_units_2': 100, 'clf__epochs': 280, 'clf__batch_size': 256, 'clf__model__dropout': 0.2923, 'clf__optimizer__learning_rate': 5.477235155347593e-05}. Best is trial 13 with value: 0.8040344026323973.\u001b[0m\n",
      "\u001b[32m[I 2023-05-03 18:45:45,280]\u001b[0m Trial 31 finished with value: 0.766444469074423 and parameters: {'n_layers': 2, 'n_units_1': 220, 'n_units_2': 180, 'clf__epochs': 250, 'clf__batch_size': 256, 'clf__model__dropout': 0.5598000000000001, 'clf__optimizer__learning_rate': 0.0004142072204396868}. Best is trial 13 with value: 0.8040344026323973.\u001b[0m\n",
      "\u001b[32m[I 2023-05-03 18:46:06,860]\u001b[0m Trial 32 finished with value: 0.774379072841539 and parameters: {'n_layers': 2, 'n_units_1': 130, 'n_units_2': 80, 'clf__epochs': 150, 'clf__batch_size': 256, 'clf__model__dropout': 0.3769, 'clf__optimizer__learning_rate': 0.0014759937733272827}. Best is trial 13 with value: 0.8040344026323973.\u001b[0m\n",
      "\u001b[32m[I 2023-05-03 18:46:38,774]\u001b[0m Trial 33 finished with value: 0.7695026284597498 and parameters: {'n_layers': 2, 'n_units_1': 320, 'n_units_2': 160, 'clf__epochs': 60, 'clf__batch_size': 64, 'clf__model__dropout': 0.3956, 'clf__optimizer__learning_rate': 0.003152680180093701}. Best is trial 13 with value: 0.8040344026323973.\u001b[0m\n",
      "\u001b[32m[I 2023-05-03 18:47:15,197]\u001b[0m Trial 34 finished with value: 0.7721795134001437 and parameters: {'n_layers': 2, 'n_units_1': 200, 'n_units_2': 40, 'clf__epochs': 100, 'clf__batch_size': 128, 'clf__model__dropout': 0.4576, 'clf__optimizer__learning_rate': 0.0004857801611579166}. Best is trial 13 with value: 0.8040344026323973.\u001b[0m\n",
      "\u001b[32m[I 2023-05-03 18:48:53,761]\u001b[0m Trial 35 finished with value: 0.7474372309899568 and parameters: {'n_layers': 3, 'n_units_1': 260, 'n_units_2': 240, 'n_units_3': 20, 'clf__epochs': 250, 'clf__batch_size': 32, 'clf__model__dropout': 0.5386, 'clf__optimizer__learning_rate': 0.0012291875118959478}. Best is trial 13 with value: 0.8040344026323973.\u001b[0m\n",
      "\u001b[32m[I 2023-05-03 18:49:32,640]\u001b[0m Trial 36 finished with value: 0.781100634262418 and parameters: {'n_layers': 1, 'n_units_1': 180, 'clf__epochs': 70, 'clf__batch_size': 256, 'clf__model__dropout': 0.502, 'clf__optimizer__learning_rate': 0.00030438025346171433}. Best is trial 13 with value: 0.8040344026323973.\u001b[0m\n",
      "\u001b[32m[I 2023-05-03 18:49:54,090]\u001b[0m Trial 37 finished with value: 0.7772359757983225 and parameters: {'n_layers': 2, 'n_units_1': 320, 'n_units_2': 60, 'clf__epochs': 10, 'clf__batch_size': 128, 'clf__model__dropout': 0.4237, 'clf__optimizer__learning_rate': 0.00018234387031488614}. Best is trial 13 with value: 0.8040344026323973.\u001b[0m\n",
      "\u001b[32m[I 2023-05-03 18:50:30,553]\u001b[0m Trial 38 finished with value: 0.7518404224274412 and parameters: {'n_layers': 3, 'n_units_1': 100, 'n_units_2': 130, 'n_units_3': 320, 'clf__epochs': 30, 'clf__batch_size': 64, 'clf__model__dropout': 0.34040000000000004, 'clf__optimizer__learning_rate': 0.00429048527038322}. Best is trial 13 with value: 0.8040344026323973.\u001b[0m\n",
      "\u001b[32m[I 2023-05-03 18:50:51,038]\u001b[0m Trial 39 finished with value: 0.7786215971016408 and parameters: {'n_layers': 2, 'n_units_1': 240, 'n_units_2': 120, 'clf__epochs': 110, 'clf__batch_size': 256, 'clf__model__dropout': 0.2649, 'clf__optimizer__learning_rate': 0.0012788956825807777}. Best is trial 13 with value: 0.8040344026323973.\u001b[0m\n"
     ]
    }
   ],
   "source": [
    "study.optimize(objective, n_trials=20)"
   ]
  },
  {
   "cell_type": "code",
   "execution_count": 188,
   "id": "27698577-675b-44ff-a7e0-c326a55c1ba2",
   "metadata": {
    "execution": {
     "iopub.execute_input": "2023-05-03T22:54:25.201627Z",
     "iopub.status.busy": "2023-05-03T22:54:25.190384Z",
     "iopub.status.idle": "2023-05-03T23:10:24.005098Z",
     "shell.execute_reply": "2023-05-03T23:10:24.003801Z",
     "shell.execute_reply.started": "2023-05-03T22:54:25.199104Z"
    },
    "scrolled": true,
    "tags": []
   },
   "outputs": [
    {
     "name": "stderr",
     "output_type": "stream",
     "text": [
      "\u001b[32m[I 2023-05-03 18:56:32,172]\u001b[0m Trial 40 finished with value: 0.7768060981523558 and parameters: {'n_layers': 1, 'n_units_1': 500, 'clf__epochs': 170, 'clf__batch_size': 128, 'clf__model__dropout': 0.3175, 'clf__optimizer__learning_rate': 0.00012360795059076233}. Best is trial 13 with value: 0.8040344026323973.\u001b[0m\n",
      "\u001b[32m[I 2023-05-03 18:57:03,007]\u001b[0m Trial 41 finished with value: 0.7821405440414507 and parameters: {'n_layers': 2, 'n_units_1': 140, 'n_units_2': 310, 'clf__epochs': 40, 'clf__batch_size': 128, 'clf__model__dropout': 0.2334, 'clf__optimizer__learning_rate': 0.002710556921658981}. Best is trial 13 with value: 0.8040344026323973.\u001b[0m\n",
      "\u001b[32m[I 2023-05-03 18:57:25,786]\u001b[0m Trial 42 finished with value: 0.7520876517619188 and parameters: {'n_layers': 2, 'n_units_1': 340, 'n_units_2': 390, 'clf__epochs': 70, 'clf__batch_size': 128, 'clf__model__dropout': 0.2177, 'clf__optimizer__learning_rate': 0.002327675249614057}. Best is trial 13 with value: 0.8040344026323973.\u001b[0m\n",
      "\u001b[32m[I 2023-05-03 18:58:20,455]\u001b[0m Trial 43 finished with value: 0.7944114120541812 and parameters: {'n_layers': 3, 'n_units_1': 180, 'n_units_2': 290, 'n_units_3': 30, 'clf__epochs': 30, 'clf__batch_size': 32, 'clf__model__dropout': 0.28400000000000003, 'clf__optimizer__learning_rate': 0.0005817868407059241}. Best is trial 13 with value: 0.8040344026323973.\u001b[0m\n",
      "\u001b[32m[I 2023-05-03 18:59:12,911]\u001b[0m Trial 44 finished with value: 0.7765739351423142 and parameters: {'n_layers': 3, 'n_units_1': 190, 'n_units_2': 210, 'n_units_3': 20, 'clf__epochs': 20, 'clf__batch_size': 32, 'clf__model__dropout': 0.27890000000000004, 'clf__optimizer__learning_rate': 0.0002985397752865753}. Best is trial 13 with value: 0.8040344026323973.\u001b[0m\n",
      "\u001b[32m[I 2023-05-03 19:00:21,705]\u001b[0m Trial 45 finished with value: 0.7670342170006959 and parameters: {'n_layers': 3, 'n_units_1': 120, 'n_units_2': 280, 'n_units_3': 140, 'clf__epochs': 50, 'clf__batch_size': 32, 'clf__model__dropout': 0.35250000000000004, 'clf__optimizer__learning_rate': 0.0005356023537548521}. Best is trial 13 with value: 0.8040344026323973.\u001b[0m\n",
      "\u001b[32m[I 2023-05-03 19:01:18,725]\u001b[0m Trial 46 finished with value: 0.775794011554591 and parameters: {'n_layers': 3, 'n_units_1': 270, 'n_units_2': 360, 'n_units_3': 200, 'clf__epochs': 120, 'clf__batch_size': 32, 'clf__model__dropout': 0.4913, 'clf__optimizer__learning_rate': 0.0010014005304790385}. Best is trial 13 with value: 0.8040344026323973.\u001b[0m\n",
      "\u001b[32m[I 2023-05-03 19:02:11,070]\u001b[0m Trial 47 finished with value: 0.7617550695894528 and parameters: {'n_layers': 3, 'n_units_1': 230, 'n_units_2': 50, 'n_units_3': 90, 'clf__epochs': 90, 'clf__batch_size': 32, 'clf__model__dropout': 0.3037, 'clf__optimizer__learning_rate': 0.0006489141920749014}. Best is trial 13 with value: 0.8040344026323973.\u001b[0m\n",
      "\u001b[32m[I 2023-05-03 19:02:56,252]\u001b[0m Trial 48 finished with value: 0.7739803139475039 and parameters: {'n_layers': 1, 'n_units_1': 70, 'clf__epochs': 140, 'clf__batch_size': 64, 'clf__model__dropout': 0.39990000000000003, 'clf__optimizer__learning_rate': 0.00037764397823356836}. Best is trial 13 with value: 0.8040344026323973.\u001b[0m\n",
      "\u001b[32m[I 2023-05-03 19:04:05,185]\u001b[0m Trial 49 finished with value: 0.7752733070148801 and parameters: {'n_layers': 3, 'n_units_1': 410, 'n_units_2': 290, 'n_units_3': 360, 'clf__epochs': 30, 'clf__batch_size': 32, 'clf__model__dropout': 0.5674, 'clf__optimizer__learning_rate': 0.00022731051773274049}. Best is trial 13 with value: 0.8040344026323973.\u001b[0m\n",
      "\u001b[32m[I 2023-05-03 19:04:58,796]\u001b[0m Trial 50 finished with value: 0.7841599932916858 and parameters: {'n_layers': 1, 'n_units_1': 290, 'clf__epochs': 190, 'clf__batch_size': 256, 'clf__model__dropout': 0.3294, 'clf__optimizer__learning_rate': 0.0006721681662634064}. Best is trial 13 with value: 0.8040344026323973.\u001b[0m\n",
      "\u001b[32m[I 2023-05-03 19:06:01,933]\u001b[0m Trial 51 finished with value: 0.7906162464985995 and parameters: {'n_layers': 2, 'n_units_1': 170, 'n_units_2': 360, 'clf__epochs': 50, 'clf__batch_size': 128, 'clf__model__dropout': 0.2581, 'clf__optimizer__learning_rate': 0.0011188607438070526}. Best is trial 13 with value: 0.8040344026323973.\u001b[0m\n",
      "\u001b[32m[I 2023-05-03 19:06:25,545]\u001b[0m Trial 52 finished with value: 0.7920206966436949 and parameters: {'n_layers': 2, 'n_units_1': 160, 'n_units_2': 370, 'clf__epochs': 70, 'clf__batch_size': 128, 'clf__model__dropout': 0.2581, 'clf__optimizer__learning_rate': 0.0010549528420392834}. Best is trial 13 with value: 0.8040344026323973.\u001b[0m\n",
      "\u001b[32m[I 2023-05-03 19:06:52,094]\u001b[0m Trial 53 finished with value: 0.7902888910312027 and parameters: {'n_layers': 2, 'n_units_1': 160, 'n_units_2': 410, 'clf__epochs': 80, 'clf__batch_size': 128, 'clf__model__dropout': 0.24980000000000002, 'clf__optimizer__learning_rate': 0.0010414805476376301}. Best is trial 13 with value: 0.8040344026323973.\u001b[0m\n",
      "\u001b[32m[I 2023-05-03 19:07:19,574]\u001b[0m Trial 54 finished with value: 0.7792410619285619 and parameters: {'n_layers': 2, 'n_units_1': 80, 'n_units_2': 360, 'clf__epochs': 50, 'clf__batch_size': 128, 'clf__model__dropout': 0.26370000000000005, 'clf__optimizer__learning_rate': 0.0017643867453052031}. Best is trial 13 with value: 0.8040344026323973.\u001b[0m\n",
      "\u001b[32m[I 2023-05-03 19:07:53,402]\u001b[0m Trial 55 finished with value: 0.7773855746649501 and parameters: {'n_layers': 2, 'n_units_1': 180, 'n_units_2': 370, 'clf__epochs': 70, 'clf__batch_size': 128, 'clf__model__dropout': 0.2735, 'clf__optimizer__learning_rate': 0.0036522088640335037}. Best is trial 13 with value: 0.8040344026323973.\u001b[0m\n",
      "\u001b[32m[I 2023-05-03 19:08:22,724]\u001b[0m Trial 56 finished with value: 0.7819381274821406 and parameters: {'n_layers': 2, 'n_units_1': 150, 'n_units_2': 310, 'clf__epochs': 20, 'clf__batch_size': 128, 'clf__model__dropout': 0.2228, 'clf__optimizer__learning_rate': 0.0008285673272699094}. Best is trial 13 with value: 0.8040344026323973.\u001b[0m\n",
      "\u001b[32m[I 2023-05-03 19:08:45,605]\u001b[0m Trial 57 finished with value: 0.7608907876038237 and parameters: {'n_layers': 2, 'n_units_1': 210, 'n_units_2': 340, 'clf__epochs': 90, 'clf__batch_size': 128, 'clf__model__dropout': 0.2504, 'clf__optimizer__learning_rate': 0.00036888228308973314}. Best is trial 13 with value: 0.8040344026323973.\u001b[0m\n",
      "\u001b[32m[I 2023-05-03 19:09:18,732]\u001b[0m Trial 58 finished with value: 0.7874001137847109 and parameters: {'n_layers': 2, 'n_units_1': 160, 'n_units_2': 410, 'clf__epochs': 40, 'clf__batch_size': 128, 'clf__model__dropout': 0.20820000000000002, 'clf__optimizer__learning_rate': 0.001937735093387327}. Best is trial 13 with value: 0.8040344026323973.\u001b[0m\n",
      "\u001b[32m[I 2023-05-03 19:10:24,000]\u001b[0m Trial 59 finished with value: 0.7808896901597417 and parameters: {'n_layers': 2, 'n_units_1': 30, 'n_units_2': 450, 'clf__epochs': 240, 'clf__batch_size': 32, 'clf__model__dropout': 0.3008, 'clf__optimizer__learning_rate': 0.0005824044103568548}. Best is trial 13 with value: 0.8040344026323973.\u001b[0m\n"
     ]
    }
   ],
   "source": [
    "study.optimize(objective, n_trials=20)"
   ]
  },
  {
   "cell_type": "code",
   "execution_count": 189,
   "id": "85f33ce6-fc96-422d-930b-3853539eed70",
   "metadata": {
    "execution": {
     "iopub.execute_input": "2023-05-03T23:10:38.420475Z",
     "iopub.status.busy": "2023-05-03T23:10:38.419998Z",
     "iopub.status.idle": "2023-05-03T23:21:59.264090Z",
     "shell.execute_reply": "2023-05-03T23:21:59.263179Z",
     "shell.execute_reply.started": "2023-05-03T23:10:38.420454Z"
    },
    "scrolled": true,
    "tags": []
   },
   "outputs": [
    {
     "name": "stderr",
     "output_type": "stream",
     "text": [
      "\u001b[32m[I 2023-05-03 19:11:20,784]\u001b[0m Trial 60 finished with value: 0.7892991123799304 and parameters: {'n_layers': 2, 'n_units_1': 240, 'n_units_2': 500, 'clf__epochs': 100, 'clf__batch_size': 128, 'clf__model__dropout': 0.38380000000000003, 'clf__optimizer__learning_rate': 0.0010642281587648563}. Best is trial 13 with value: 0.8040344026323973.\u001b[0m\n",
      "\u001b[32m[I 2023-05-03 19:11:53,750]\u001b[0m Trial 61 finished with value: 0.7937047395858513 and parameters: {'n_layers': 2, 'n_units_1': 180, 'n_units_2': 410, 'clf__epochs': 80, 'clf__batch_size': 128, 'clf__model__dropout': 0.24630000000000002, 'clf__optimizer__learning_rate': 0.001240759534697943}. Best is trial 13 with value: 0.8040344026323973.\u001b[0m\n",
      "\u001b[32m[I 2023-05-03 19:12:32,870]\u001b[0m Trial 62 finished with value: 0.7968294774969358 and parameters: {'n_layers': 2, 'n_units_1': 190, 'n_units_2': 380, 'clf__epochs': 50, 'clf__batch_size': 128, 'clf__model__dropout': 0.22910000000000003, 'clf__optimizer__learning_rate': 0.00226409315196577}. Best is trial 13 with value: 0.8040344026323973.\u001b[0m\n",
      "\u001b[32m[I 2023-05-03 19:13:00,839]\u001b[0m Trial 63 finished with value: 0.786722931764715 and parameters: {'n_layers': 2, 'n_units_1': 190, 'n_units_2': 380, 'clf__epochs': 50, 'clf__batch_size': 128, 'clf__model__dropout': 0.22540000000000002, 'clf__optimizer__learning_rate': 0.002166767629891508}. Best is trial 13 with value: 0.8040344026323973.\u001b[0m\n",
      "\u001b[32m[I 2023-05-03 19:13:35,057]\u001b[0m Trial 64 finished with value: 0.7777761282315963 and parameters: {'n_layers': 2, 'n_units_1': 170, 'n_units_2': 340, 'clf__epochs': 70, 'clf__batch_size': 128, 'clf__model__dropout': 0.23600000000000002, 'clf__optimizer__learning_rate': 0.0031275204744749016}. Best is trial 13 with value: 0.8040344026323973.\u001b[0m\n",
      "\u001b[32m[I 2023-05-03 19:14:08,234]\u001b[0m Trial 65 finished with value: 0.7570995983862261 and parameters: {'n_layers': 2, 'n_units_1': 220, 'n_units_2': 430, 'clf__epochs': 80, 'clf__batch_size': 128, 'clf__model__dropout': 0.2013, 'clf__optimizer__learning_rate': 0.001425301323608073}. Best is trial 13 with value: 0.8040344026323973.\u001b[0m\n",
      "\u001b[32m[I 2023-05-03 19:14:29,434]\u001b[0m Trial 66 finished with value: 0.7631013016411998 and parameters: {'n_layers': 2, 'n_units_1': 200, 'n_units_2': 390, 'clf__epochs': 30, 'clf__batch_size': 128, 'clf__model__dropout': 0.2599, 'clf__optimizer__learning_rate': 0.005063087262033601}. Best is trial 13 with value: 0.8040344026323973.\u001b[0m\n",
      "\u001b[32m[I 2023-05-03 19:14:59,997]\u001b[0m Trial 67 finished with value: 0.7681184092306237 and parameters: {'n_layers': 2, 'n_units_1': 140, 'n_units_2': 280, 'clf__epochs': 50, 'clf__batch_size': 128, 'clf__model__dropout': 0.2866, 'clf__optimizer__learning_rate': 0.0008196222398737822}. Best is trial 13 with value: 0.8040344026323973.\u001b[0m\n",
      "\u001b[32m[I 2023-05-03 19:15:46,858]\u001b[0m Trial 68 finished with value: 0.7525231362933305 and parameters: {'n_layers': 2, 'n_units_1': 120, 'n_units_2': 440, 'clf__epochs': 60, 'clf__batch_size': 128, 'clf__model__dropout': 0.2515, 'clf__optimizer__learning_rate': 0.0021408518124842067}. Best is trial 13 with value: 0.8040344026323973.\u001b[0m\n",
      "\u001b[32m[I 2023-05-03 19:16:08,966]\u001b[0m Trial 69 finished with value: 0.7820832068023078 and parameters: {'n_layers': 2, 'n_units_1': 220, 'n_units_2': 470, 'clf__epochs': 120, 'clf__batch_size': 128, 'clf__model__dropout': 0.2374, 'clf__optimizer__learning_rate': 0.001568298834331205}. Best is trial 13 with value: 0.8040344026323973.\u001b[0m\n",
      "\u001b[32m[I 2023-05-03 19:16:29,771]\u001b[0m Trial 70 finished with value: 0.7860197211329255 and parameters: {'n_layers': 2, 'n_units_1': 180, 'n_units_2': 250, 'clf__epochs': 90, 'clf__batch_size': 128, 'clf__model__dropout': 0.2756, 'clf__optimizer__learning_rate': 0.006841209665961162}. Best is trial 13 with value: 0.8040344026323973.\u001b[0m\n",
      "\u001b[32m[I 2023-05-03 19:16:59,786]\u001b[0m Trial 71 finished with value: 0.784599507266355 and parameters: {'n_layers': 2, 'n_units_1': 480, 'n_units_2': 400, 'clf__epochs': 290, 'clf__batch_size': 256, 'clf__model__dropout': 0.21330000000000002, 'clf__optimizer__learning_rate': 0.001042968078207356}. Best is trial 13 with value: 0.8040344026323973.\u001b[0m\n",
      "\u001b[32m[I 2023-05-03 19:17:42,219]\u001b[0m Trial 72 finished with value: 0.7923598564062422 and parameters: {'n_layers': 2, 'n_units_1': 250, 'n_units_2': 350, 'clf__epochs': 80, 'clf__batch_size': 64, 'clf__model__dropout': 0.4117, 'clf__optimizer__learning_rate': 0.0007574151951348072}. Best is trial 13 with value: 0.8040344026323973.\u001b[0m\n",
      "\u001b[32m[I 2023-05-03 19:18:14,797]\u001b[0m Trial 73 finished with value: 0.7652312001706204 and parameters: {'n_layers': 2, 'n_units_1': 240, 'n_units_2': 350, 'clf__epochs': 110, 'clf__batch_size': 64, 'clf__model__dropout': 0.30910000000000004, 'clf__optimizer__learning_rate': 0.0007775760524705989}. Best is trial 13 with value: 0.8040344026323973.\u001b[0m\n",
      "\u001b[32m[I 2023-05-03 19:19:10,865]\u001b[0m Trial 74 finished with value: 0.7618188320978021 and parameters: {'n_layers': 2, 'n_units_1': 250, 'n_units_2': 320, 'clf__epochs': 80, 'clf__batch_size': 64, 'clf__model__dropout': 0.29090000000000005, 'clf__optimizer__learning_rate': 0.0013019856596809443}. Best is trial 13 with value: 0.8040344026323973.\u001b[0m\n",
      "\u001b[32m[I 2023-05-03 19:19:41,597]\u001b[0m Trial 75 finished with value: 0.7661954327240637 and parameters: {'n_layers': 2, 'n_units_1': 210, 'n_units_2': 370, 'clf__epochs': 40, 'clf__batch_size': 64, 'clf__model__dropout': 0.4611, 'clf__optimizer__learning_rate': 0.0025192065485979184}. Best is trial 13 with value: 0.8040344026323973.\u001b[0m\n",
      "\u001b[32m[I 2023-05-03 19:20:17,815]\u001b[0m Trial 76 finished with value: 0.771731559032828 and parameters: {'n_layers': 2, 'n_units_1': 280, 'n_units_2': 330, 'clf__epochs': 70, 'clf__batch_size': 64, 'clf__model__dropout': 0.2379, 'clf__optimizer__learning_rate': 0.003750207467852273}. Best is trial 13 with value: 0.8040344026323973.\u001b[0m\n",
      "\u001b[32m[I 2023-05-03 19:20:47,852]\u001b[0m Trial 77 finished with value: 0.7582125603864736 and parameters: {'n_layers': 3, 'n_units_1': 160, 'n_units_2': 290, 'n_units_3': 260, 'clf__epochs': 60, 'clf__batch_size': 128, 'clf__model__dropout': 0.2596, 'clf__optimizer__learning_rate': 0.0004562400780804884}. Best is trial 13 with value: 0.8040344026323973.\u001b[0m\n",
      "\u001b[32m[I 2023-05-03 19:21:25,275]\u001b[0m Trial 78 finished with value: 0.810086956521739 and parameters: {'n_layers': 2, 'n_units_1': 190, 'n_units_2': 410, 'clf__epochs': 100, 'clf__batch_size': 64, 'clf__model__dropout': 0.3266, 'clf__optimizer__learning_rate': 0.0008617019774853403}. Best is trial 78 with value: 0.810086956521739.\u001b[0m\n",
      "\u001b[32m[I 2023-05-03 19:21:59,260]\u001b[0m Trial 79 finished with value: 0.7871349539474659 and parameters: {'n_layers': 2, 'n_units_1': 190, 'n_units_2': 420, 'clf__epochs': 130, 'clf__batch_size': 64, 'clf__model__dropout': 0.32510000000000006, 'clf__optimizer__learning_rate': 0.0017572628485529398}. Best is trial 78 with value: 0.810086956521739.\u001b[0m\n"
     ]
    }
   ],
   "source": [
    "study.optimize(objective, n_trials=20)"
   ]
  },
  {
   "cell_type": "code",
   "execution_count": null,
   "id": "17c65ed6-5523-4874-906e-be1865117dae",
   "metadata": {
    "execution": {
     "iopub.execute_input": "2023-05-03T23:32:20.554983Z",
     "iopub.status.busy": "2023-05-03T23:32:20.554648Z",
     "iopub.status.idle": "2023-05-03T23:48:26.270261Z",
     "shell.execute_reply": "2023-05-03T23:48:26.266845Z",
     "shell.execute_reply.started": "2023-05-03T23:32:20.554958Z"
    },
    "scrolled": true,
    "tags": []
   },
   "outputs": [
    {
     "name": "stderr",
     "output_type": "stream",
     "text": [
      "\u001b[32m[I 2023-05-03 19:33:30,288]\u001b[0m Trial 80 finished with value: 0.7745407281928023 and parameters: {'n_layers': 2, 'n_units_1': 230, 'n_units_2': 470, 'clf__epochs': 100, 'clf__batch_size': 64, 'clf__model__dropout': 0.3799, 'clf__optimizer__learning_rate': 0.0007722390966952948}. Best is trial 78 with value: 0.810086956521739.\u001b[0m\n",
      "\u001b[32m[I 2023-05-03 19:34:38,959]\u001b[0m Trial 81 finished with value: 0.7846298758865249 and parameters: {'n_layers': 2, 'n_units_1': 170, 'n_units_2': 390, 'clf__epochs': 90, 'clf__batch_size': 64, 'clf__model__dropout': 0.33720000000000006, 'clf__optimizer__learning_rate': 0.0013170900523359792}. Best is trial 78 with value: 0.810086956521739.\u001b[0m\n",
      "\u001b[32m[I 2023-05-03 19:37:05,688]\u001b[0m Trial 82 finished with value: 0.775765092734143 and parameters: {'n_layers': 2, 'n_units_1': 140, 'n_units_2': 220, 'clf__epochs': 70, 'clf__batch_size': 64, 'clf__model__dropout': 0.4165, 'clf__optimizer__learning_rate': 0.0008755569276845393}. Best is trial 78 with value: 0.810086956521739.\u001b[0m\n",
      "\u001b[32m[I 2023-05-03 19:37:42,979]\u001b[0m Trial 83 finished with value: 0.7742615370096575 and parameters: {'n_layers': 2, 'n_units_1': 200, 'n_units_2': 360, 'clf__epochs': 60, 'clf__batch_size': 128, 'clf__model__dropout': 0.35050000000000003, 'clf__optimizer__learning_rate': 0.000638983912142314}. Best is trial 78 with value: 0.810086956521739.\u001b[0m\n",
      "\u001b[32m[I 2023-05-03 19:38:20,519]\u001b[0m Trial 84 finished with value: 0.7878295496698746 and parameters: {'n_layers': 2, 'n_units_1': 250, 'n_units_2': 410, 'clf__epochs': 10, 'clf__batch_size': 32, 'clf__model__dropout': 0.27, 'clf__optimizer__learning_rate': 0.0010338114578168944}. Best is trial 78 with value: 0.810086956521739.\u001b[0m\n",
      "\u001b[32m[I 2023-05-03 19:39:21,074]\u001b[0m Trial 85 finished with value: 0.7776759979022037 and parameters: {'n_layers': 2, 'n_units_1': 210, 'n_units_2': 380, 'clf__epochs': 80, 'clf__batch_size': 64, 'clf__model__dropout': 0.2441, 'clf__optimizer__learning_rate': 0.0005160215774875568}. Best is trial 78 with value: 0.810086956521739.\u001b[0m\n",
      "\u001b[32m[I 2023-05-03 19:39:47,380]\u001b[0m Trial 86 finished with value: 0.7850728834594699 and parameters: {'n_layers': 2, 'n_units_1': 180, 'n_units_2': 430, 'clf__epochs': 100, 'clf__batch_size': 128, 'clf__model__dropout': 0.2806, 'clf__optimizer__learning_rate': 0.0017458931289920634}. Best is trial 78 with value: 0.810086956521739.\u001b[0m\n",
      "\u001b[32m[I 2023-05-03 19:40:26,236]\u001b[0m Trial 87 finished with value: 0.7496766038965528 and parameters: {'n_layers': 3, 'n_units_1': 150, 'n_units_2': 310, 'n_units_3': 500, 'clf__epochs': 50, 'clf__batch_size': 128, 'clf__model__dropout': 0.3197, 'clf__optimizer__learning_rate': 0.0012209257006143984}. Best is trial 78 with value: 0.810086956521739.\u001b[0m\n",
      "\u001b[32m[I 2023-05-03 19:41:34,673]\u001b[0m Trial 88 finished with value: 0.7878295496698746 and parameters: {'n_layers': 2, 'n_units_1': 220, 'n_units_2': 350, 'clf__epochs': 120, 'clf__batch_size': 32, 'clf__model__dropout': 0.2983, 'clf__optimizer__learning_rate': 0.00308163877853477}. Best is trial 78 with value: 0.810086956521739.\u001b[0m\n",
      "\u001b[32m[I 2023-05-03 19:42:02,227]\u001b[0m Trial 89 finished with value: 0.7741961070783805 and parameters: {'n_layers': 2, 'n_units_1': 110, 'n_units_2': 160, 'clf__epochs': 110, 'clf__batch_size': 128, 'clf__model__dropout': 0.2558, 'clf__optimizer__learning_rate': 0.0006356926029541766}. Best is trial 78 with value: 0.810086956521739.\u001b[0m\n",
      "\u001b[32m[I 2023-05-03 19:42:42,474]\u001b[0m Trial 90 finished with value: 0.7718705687546313 and parameters: {'n_layers': 1, 'n_units_1': 190, 'clf__epochs': 20, 'clf__batch_size': 64, 'clf__model__dropout': 0.36550000000000005, 'clf__optimizer__learning_rate': 0.0023697589758735547}. Best is trial 78 with value: 0.810086956521739.\u001b[0m\n",
      "\u001b[32m[I 2023-05-03 19:43:21,938]\u001b[0m Trial 91 finished with value: 0.775305066721141 and parameters: {'n_layers': 2, 'n_units_1': 300, 'n_units_2': 70, 'clf__epochs': 80, 'clf__batch_size': 256, 'clf__model__dropout': 0.35350000000000004, 'clf__optimizer__learning_rate': 0.00042720396158807167}. Best is trial 78 with value: 0.810086956521739.\u001b[0m\n",
      "\u001b[32m[I 2023-05-03 19:43:57,400]\u001b[0m Trial 92 finished with value: 0.7877174298899539 and parameters: {'n_layers': 2, 'n_units_1': 270, 'n_units_2': 30, 'clf__epochs': 160, 'clf__batch_size': 256, 'clf__model__dropout': 0.2227, 'clf__optimizer__learning_rate': 0.0009171975830181869}. Best is trial 78 with value: 0.810086956521739.\u001b[0m\n",
      "\u001b[32m[I 2023-05-03 19:44:19,062]\u001b[0m Trial 93 finished with value: 0.7713502084051098 and parameters: {'n_layers': 2, 'n_units_1': 170, 'n_units_2': 40, 'clf__epochs': 190, 'clf__batch_size': 256, 'clf__model__dropout': 0.3703, 'clf__optimizer__learning_rate': 0.0003364317159847996}. Best is trial 78 with value: 0.810086956521739.\u001b[0m\n",
      "\u001b[32m[I 2023-05-03 19:44:46,062]\u001b[0m Trial 94 finished with value: 0.7771107972379159 and parameters: {'n_layers': 2, 'n_units_1': 250, 'n_units_2': 400, 'clf__epochs': 30, 'clf__batch_size': 128, 'clf__model__dropout': 0.40800000000000003, 'clf__optimizer__learning_rate': 0.0006960507566016269}. Best is trial 78 with value: 0.810086956521739.\u001b[0m\n",
      "\u001b[32m[I 2023-05-03 19:45:43,578]\u001b[0m Trial 95 finished with value: 0.7930629436188962 and parameters: {'n_layers': 2, 'n_units_1': 380, 'n_units_2': 20, 'clf__epochs': 140, 'clf__batch_size': 128, 'clf__model__dropout': 0.3914, 'clf__optimizer__learning_rate': 0.0004960484648320564}. Best is trial 78 with value: 0.810086956521739.\u001b[0m\n",
      "\u001b[32m[I 2023-05-03 19:46:19,510]\u001b[0m Trial 96 finished with value: 0.78042646074925 and parameters: {'n_layers': 2, 'n_units_1': 200, 'n_units_2': 90, 'clf__epochs': 130, 'clf__batch_size': 128, 'clf__model__dropout': 0.395, 'clf__optimizer__learning_rate': 0.001402763850140016}. Best is trial 78 with value: 0.810086956521739.\u001b[0m\n",
      "\u001b[32m[I 2023-05-03 19:46:56,976]\u001b[0m Trial 97 finished with value: 0.7747338358434397 and parameters: {'n_layers': 2, 'n_units_1': 360, 'n_units_2': 370, 'clf__epochs': 40, 'clf__batch_size': 128, 'clf__model__dropout': 0.4419, 'clf__optimizer__learning_rate': 0.000534737264223762}. Best is trial 78 with value: 0.810086956521739.\u001b[0m\n",
      "\u001b[32m[I 2023-05-03 19:47:33,866]\u001b[0m Trial 98 finished with value: 0.7680629432624113 and parameters: {'n_layers': 2, 'n_units_1': 230, 'n_units_2': 320, 'clf__epochs': 90, 'clf__batch_size': 128, 'clf__model__dropout': 0.3901, 'clf__optimizer__learning_rate': 0.00026375972352500545}. Best is trial 78 with value: 0.810086956521739.\u001b[0m\n",
      "\u001b[32m[I 2023-05-03 19:48:26,253]\u001b[0m Trial 99 finished with value: 0.7761815473919105 and parameters: {'n_layers': 2, 'n_units_1': 150, 'n_units_2': 270, 'clf__epochs': 100, 'clf__batch_size': 128, 'clf__model__dropout': 0.5182, 'clf__optimizer__learning_rate': 0.0011258854861499596}. Best is trial 78 with value: 0.810086956521739.\u001b[0m\n"
     ]
    }
   ],
   "source": [
    "study.optimize(objective, n_trials=20)"
   ]
  },
  {
   "cell_type": "markdown",
   "id": "3bc5f8f2-6c6b-4ecc-94c1-c10c12285737",
   "metadata": {
    "id": "rPMCn7GolG8P"
   },
   "source": [
    "## Best Parameters"
   ]
  },
  {
   "cell_type": "code",
   "execution_count": 190,
   "id": "45983787-333c-43b5-b3c3-727bef49df22",
   "metadata": {
    "colab": {
     "base_uri": "https://localhost:8080/"
    },
    "execution": {
     "iopub.execute_input": "2023-05-03T23:27:06.140795Z",
     "iopub.status.busy": "2023-05-03T23:27:06.140462Z",
     "iopub.status.idle": "2023-05-03T23:27:06.155804Z",
     "shell.execute_reply": "2023-05-03T23:27:06.154885Z",
     "shell.execute_reply.started": "2023-05-03T23:27:06.140772Z"
    },
    "executionInfo": {
     "elapsed": 174,
     "status": "ok",
     "timestamp": 1682711827757,
     "user": {
      "displayName": "Damir Zunic",
      "userId": "07104666280721646256"
     },
     "user_tz": 240
    },
    "id": "pcFYqAcakavV",
    "outputId": "164c3403-8b13-48a1-aaf0-967c8554bad9",
    "tags": []
   },
   "outputs": [
    {
     "name": "stdout",
     "output_type": "stream",
     "text": [
      "Number of finished trials: 80\n",
      "Best trial:\n",
      "  Value: 0.810086956521739\n",
      "  Params: \n",
      "    n_layers: 2\n",
      "    n_units_1: 190\n",
      "    n_units_2: 410\n",
      "    clf__epochs: 100\n",
      "    clf__batch_size: 64\n",
      "    clf__model__dropout: 0.3266\n",
      "    clf__optimizer__learning_rate: 0.0008617019774853403\n"
     ]
    }
   ],
   "source": [
    "print(f'Number of finished trials: {len(study.trials)}')\n",
    "print('Best trial:')\n",
    "trial = study.best_trial\n",
    "\n",
    "print(f'  Value: {trial.value}')\n",
    "print('  Params: ')\n",
    "\n",
    "for key, value in trial.params.items():\n",
    "    print(f'    {key}: {value}')"
   ]
  },
  {
   "cell_type": "markdown",
   "id": "cbd723b2-84b5-46c0-8933-9085cf1f441e",
   "metadata": {
    "id": "wdBWzR64kavV"
   },
   "source": [
    "## Re-fit the model"
   ]
  },
  {
   "cell_type": "code",
   "execution_count": 191,
   "id": "bd9924ee-835c-476d-b9db-7431c27350a9",
   "metadata": {
    "colab": {
     "base_uri": "https://localhost:8080/"
    },
    "execution": {
     "iopub.execute_input": "2023-05-03T23:27:30.919518Z",
     "iopub.status.busy": "2023-05-03T23:27:30.911846Z",
     "iopub.status.idle": "2023-05-03T23:27:30.961387Z",
     "shell.execute_reply": "2023-05-03T23:27:30.958054Z",
     "shell.execute_reply.started": "2023-05-03T23:27:30.919315Z"
    },
    "executionInfo": {
     "elapsed": 153,
     "status": "ok",
     "timestamp": 1682711839306,
     "user": {
      "displayName": "Damir Zunic",
      "userId": "07104666280721646256"
     },
     "user_tz": 240
    },
    "id": "0chjzXrXkavW",
    "outputId": "b2830790-1fac-465d-c730-75beb6cc3fc4",
    "tags": []
   },
   "outputs": [
    {
     "data": {
      "text/plain": [
       "{'n_layers': 2,\n",
       " 'n_units_1': 190,\n",
       " 'n_units_2': 410,\n",
       " 'clf__epochs': 100,\n",
       " 'clf__batch_size': 64,\n",
       " 'clf__model__dropout': 0.3266,\n",
       " 'clf__optimizer__learning_rate': 0.0008617019774853403}"
      ]
     },
     "execution_count": 191,
     "metadata": {},
     "output_type": "execute_result"
    }
   ],
   "source": [
    "params_t = trial.params\n",
    "params_t"
   ]
  },
  {
   "cell_type": "code",
   "execution_count": 192,
   "id": "7210bfe6-4724-41e7-9977-ecfaf21b94dc",
   "metadata": {
    "execution": {
     "iopub.execute_input": "2023-05-03T23:27:36.077548Z",
     "iopub.status.busy": "2023-05-03T23:27:36.077160Z",
     "iopub.status.idle": "2023-05-03T23:27:36.087444Z",
     "shell.execute_reply": "2023-05-03T23:27:36.086173Z",
     "shell.execute_reply.started": "2023-05-03T23:27:36.077525Z"
    },
    "tags": []
   },
   "outputs": [
    {
     "data": {
      "text/plain": [
       "{'clf__epochs': 100,\n",
       " 'clf__batch_size': 64,\n",
       " 'clf__model__dropout': 0.3266,\n",
       " 'clf__optimizer__learning_rate': 0.0008617019774853403}"
      ]
     },
     "execution_count": 192,
     "metadata": {},
     "output_type": "execute_result"
    }
   ],
   "source": [
    "### params = {k:v for k,v in params_t.items() if k.startswith('clf')}\n",
    "params = {k:v for k,v in params_t.items() if '__' in k}\n",
    "params"
   ]
  },
  {
   "cell_type": "code",
   "execution_count": 193,
   "id": "71fac497-4ed4-425e-95a6-e7f7f35081de",
   "metadata": {
    "execution": {
     "iopub.execute_input": "2023-05-03T23:27:37.966155Z",
     "iopub.status.busy": "2023-05-03T23:27:37.965825Z",
     "iopub.status.idle": "2023-05-03T23:27:37.975467Z",
     "shell.execute_reply": "2023-05-03T23:27:37.974457Z",
     "shell.execute_reply.started": "2023-05-03T23:27:37.966133Z"
    },
    "tags": []
   },
   "outputs": [
    {
     "data": {
      "text/plain": [
       "{'clf__epochs': 100,\n",
       " 'clf__batch_size': 64,\n",
       " 'clf__model__dropout': 0.3266,\n",
       " 'clf__optimizer__learning_rate': 0.0008617019774853403,\n",
       " 'clf__model__hidden_layer_sizes': (190, 410)}"
      ]
     },
     "execution_count": 193,
     "metadata": {},
     "output_type": "execute_result"
    }
   ],
   "source": [
    "# if 'n_units_2' in params_t:\n",
    "#     params['clf__model__hidden_layer_sizes'] = (params_t['n_units_1'], params_t['n_units_2'])\n",
    "# else:\n",
    "#     params['clf__model__hidden_layer_sizes'] = (params_t['n_units_1'],)\n",
    "    \n",
    "\n",
    "params['clf__model__hidden_layer_sizes'] = tuple([v for k,v in params_t.items() if 'n_units' in k])\n",
    "params"
   ]
  },
  {
   "cell_type": "code",
   "execution_count": 194,
   "id": "7896a725-1215-4229-91ba-013dc20553f8",
   "metadata": {
    "execution": {
     "iopub.execute_input": "2023-05-03T23:28:09.456893Z",
     "iopub.status.busy": "2023-05-03T23:28:09.456091Z",
     "iopub.status.idle": "2023-05-03T23:29:09.531606Z",
     "shell.execute_reply": "2023-05-03T23:29:09.530635Z",
     "shell.execute_reply.started": "2023-05-03T23:28:09.456870Z"
    },
    "tags": []
   },
   "outputs": [
    {
     "data": {
      "text/html": [
       "<style>#sk-container-id-10 {color: black;background-color: white;}#sk-container-id-10 pre{padding: 0;}#sk-container-id-10 div.sk-toggleable {background-color: white;}#sk-container-id-10 label.sk-toggleable__label {cursor: pointer;display: block;width: 100%;margin-bottom: 0;padding: 0.3em;box-sizing: border-box;text-align: center;}#sk-container-id-10 label.sk-toggleable__label-arrow:before {content: \"▸\";float: left;margin-right: 0.25em;color: #696969;}#sk-container-id-10 label.sk-toggleable__label-arrow:hover:before {color: black;}#sk-container-id-10 div.sk-estimator:hover label.sk-toggleable__label-arrow:before {color: black;}#sk-container-id-10 div.sk-toggleable__content {max-height: 0;max-width: 0;overflow: hidden;text-align: left;background-color: #f0f8ff;}#sk-container-id-10 div.sk-toggleable__content pre {margin: 0.2em;color: black;border-radius: 0.25em;background-color: #f0f8ff;}#sk-container-id-10 input.sk-toggleable__control:checked~div.sk-toggleable__content {max-height: 200px;max-width: 100%;overflow: auto;}#sk-container-id-10 input.sk-toggleable__control:checked~label.sk-toggleable__label-arrow:before {content: \"▾\";}#sk-container-id-10 div.sk-estimator input.sk-toggleable__control:checked~label.sk-toggleable__label {background-color: #d4ebff;}#sk-container-id-10 div.sk-label input.sk-toggleable__control:checked~label.sk-toggleable__label {background-color: #d4ebff;}#sk-container-id-10 input.sk-hidden--visually {border: 0;clip: rect(1px 1px 1px 1px);clip: rect(1px, 1px, 1px, 1px);height: 1px;margin: -1px;overflow: hidden;padding: 0;position: absolute;width: 1px;}#sk-container-id-10 div.sk-estimator {font-family: monospace;background-color: #f0f8ff;border: 1px dotted black;border-radius: 0.25em;box-sizing: border-box;margin-bottom: 0.5em;}#sk-container-id-10 div.sk-estimator:hover {background-color: #d4ebff;}#sk-container-id-10 div.sk-parallel-item::after {content: \"\";width: 100%;border-bottom: 1px solid gray;flex-grow: 1;}#sk-container-id-10 div.sk-label:hover label.sk-toggleable__label {background-color: #d4ebff;}#sk-container-id-10 div.sk-serial::before {content: \"\";position: absolute;border-left: 1px solid gray;box-sizing: border-box;top: 0;bottom: 0;left: 50%;z-index: 0;}#sk-container-id-10 div.sk-serial {display: flex;flex-direction: column;align-items: center;background-color: white;padding-right: 0.2em;padding-left: 0.2em;position: relative;}#sk-container-id-10 div.sk-item {position: relative;z-index: 1;}#sk-container-id-10 div.sk-parallel {display: flex;align-items: stretch;justify-content: center;background-color: white;position: relative;}#sk-container-id-10 div.sk-item::before, #sk-container-id-10 div.sk-parallel-item::before {content: \"\";position: absolute;border-left: 1px solid gray;box-sizing: border-box;top: 0;bottom: 0;left: 50%;z-index: -1;}#sk-container-id-10 div.sk-parallel-item {display: flex;flex-direction: column;z-index: 1;position: relative;background-color: white;}#sk-container-id-10 div.sk-parallel-item:first-child::after {align-self: flex-end;width: 50%;}#sk-container-id-10 div.sk-parallel-item:last-child::after {align-self: flex-start;width: 50%;}#sk-container-id-10 div.sk-parallel-item:only-child::after {width: 0;}#sk-container-id-10 div.sk-dashed-wrapped {border: 1px dashed gray;margin: 0 0.4em 0.5em 0.4em;box-sizing: border-box;padding-bottom: 0.4em;background-color: white;}#sk-container-id-10 div.sk-label label {font-family: monospace;font-weight: bold;display: inline-block;line-height: 1.2em;}#sk-container-id-10 div.sk-label-container {text-align: center;}#sk-container-id-10 div.sk-container {/* jupyter's `normalize.less` sets `[hidden] { display: none; }` but bootstrap.min.css set `[hidden] { display: none !important; }` so we also need the `!important` here to be able to override the default hidden behavior on the sphinx rendered scikit-learn.org. See: https://github.com/scikit-learn/scikit-learn/issues/21755 */display: inline-block !important;position: relative;}#sk-container-id-10 div.sk-text-repr-fallback {display: none;}</style><div id=\"sk-container-id-10\" class=\"sk-top-container\"><div class=\"sk-text-repr-fallback\"><pre>Pipeline(steps=[(&#x27;scaler&#x27;, MinMaxScaler()), (&#x27;pca&#x27;, PCA(n_components=1000)),\n",
       "                (&#x27;clf&#x27;,\n",
       "                 KerasClassifier(batch_size=64, callbacks=&lt;class &#x27;keras.callbacks.EarlyStopping&#x27;&gt;, callbacks__monitor=&#x27;loss&#x27;, callbacks__patience=5, epochs=100, loss=&#x27;binary_crossentropy&#x27;, model=&lt;function get_clf at 0x7f39054775b0&gt;, model__dropout=0.3266, model__hidden_layer_sizes=(190, 410), optimizer=&#x27;adam&#x27;, optimizer__learning_rate=0.0008617019774853403, random_state=10, verbose=0))])</pre><b>In a Jupyter environment, please rerun this cell to show the HTML representation or trust the notebook. <br />On GitHub, the HTML representation is unable to render, please try loading this page with nbviewer.org.</b></div><div class=\"sk-container\" hidden><div class=\"sk-item sk-dashed-wrapped\"><div class=\"sk-label-container\"><div class=\"sk-label sk-toggleable\"><input class=\"sk-toggleable__control sk-hidden--visually\" id=\"sk-estimator-id-37\" type=\"checkbox\" ><label for=\"sk-estimator-id-37\" class=\"sk-toggleable__label sk-toggleable__label-arrow\">Pipeline</label><div class=\"sk-toggleable__content\"><pre>Pipeline(steps=[(&#x27;scaler&#x27;, MinMaxScaler()), (&#x27;pca&#x27;, PCA(n_components=1000)),\n",
       "                (&#x27;clf&#x27;,\n",
       "                 KerasClassifier(batch_size=64, callbacks=&lt;class &#x27;keras.callbacks.EarlyStopping&#x27;&gt;, callbacks__monitor=&#x27;loss&#x27;, callbacks__patience=5, epochs=100, loss=&#x27;binary_crossentropy&#x27;, model=&lt;function get_clf at 0x7f39054775b0&gt;, model__dropout=0.3266, model__hidden_layer_sizes=(190, 410), optimizer=&#x27;adam&#x27;, optimizer__learning_rate=0.0008617019774853403, random_state=10, verbose=0))])</pre></div></div></div><div class=\"sk-serial\"><div class=\"sk-item\"><div class=\"sk-estimator sk-toggleable\"><input class=\"sk-toggleable__control sk-hidden--visually\" id=\"sk-estimator-id-38\" type=\"checkbox\" ><label for=\"sk-estimator-id-38\" class=\"sk-toggleable__label sk-toggleable__label-arrow\">MinMaxScaler</label><div class=\"sk-toggleable__content\"><pre>MinMaxScaler()</pre></div></div></div><div class=\"sk-item\"><div class=\"sk-estimator sk-toggleable\"><input class=\"sk-toggleable__control sk-hidden--visually\" id=\"sk-estimator-id-39\" type=\"checkbox\" ><label for=\"sk-estimator-id-39\" class=\"sk-toggleable__label sk-toggleable__label-arrow\">PCA</label><div class=\"sk-toggleable__content\"><pre>PCA(n_components=1000)</pre></div></div></div><div class=\"sk-item\"><div class=\"sk-estimator sk-toggleable\"><input class=\"sk-toggleable__control sk-hidden--visually\" id=\"sk-estimator-id-40\" type=\"checkbox\" ><label for=\"sk-estimator-id-40\" class=\"sk-toggleable__label sk-toggleable__label-arrow\">KerasClassifier</label><div class=\"sk-toggleable__content\"><pre>KerasClassifier(\n",
       "\tmodel=&lt;function get_clf at 0x7f39054775b0&gt;\n",
       "\tbuild_fn=None\n",
       "\twarm_start=False\n",
       "\trandom_state=10\n",
       "\toptimizer=adam\n",
       "\tloss=binary_crossentropy\n",
       "\tmetrics=None\n",
       "\tbatch_size=64\n",
       "\tvalidation_batch_size=None\n",
       "\tverbose=0\n",
       "\tcallbacks=&lt;class &#x27;keras.callbacks.EarlyStopping&#x27;&gt;\n",
       "\tvalidation_split=0.0\n",
       "\tshuffle=True\n",
       "\trun_eagerly=False\n",
       "\tepochs=100\n",
       "\tmodel__hidden_layer_sizes=(190, 410)\n",
       "\tmodel__dropout=0.3266\n",
       "\toptimizer__learning_rate=0.0008617019774853403\n",
       "\tcallbacks__monitor=loss\n",
       "\tcallbacks__patience=5\n",
       "\tclass_weight=None\n",
       ")</pre></div></div></div></div></div></div></div>"
      ],
      "text/plain": [
       "Pipeline(steps=[('scaler', MinMaxScaler()), ('pca', PCA(n_components=1000)),\n",
       "                ('clf',\n",
       "                 KerasClassifier(batch_size=64, callbacks=<class 'keras.callbacks.EarlyStopping'>, callbacks__monitor='loss', callbacks__patience=5, epochs=100, loss='binary_crossentropy', model=<function get_clf at 0x7f39054775b0>, model__dropout=0.3266, model__hidden_layer_sizes=(190, 410), optimizer='adam', optimizer__learning_rate=0.0008617019774853403, random_state=10, verbose=0))])"
      ]
     },
     "execution_count": 194,
     "metadata": {},
     "output_type": "execute_result"
    }
   ],
   "source": [
    "pipe.set_params(**params)\n",
    "    ## model = SVC(**params, kernel='linear', random_state=random_state)\n",
    "pipe.fit(X_train, y_train)"
   ]
  },
  {
   "cell_type": "code",
   "execution_count": 186,
   "id": "1a284346-5ca5-40f5-b93b-fbc91bc545b2",
   "metadata": {
    "colab": {
     "base_uri": "https://localhost:8080/"
    },
    "execution": {
     "iopub.execute_input": "2023-05-03T22:35:15.529305Z",
     "iopub.status.busy": "2023-05-03T22:35:15.528469Z",
     "iopub.status.idle": "2023-05-03T22:35:16.980358Z",
     "shell.execute_reply": "2023-05-03T22:35:16.978658Z",
     "shell.execute_reply.started": "2023-05-03T22:35:15.529281Z"
    },
    "executionInfo": {
     "elapsed": 213,
     "status": "ok",
     "timestamp": 1682617792838,
     "user": {
      "displayName": "Damir Zunic",
      "userId": "07104666280721646256"
     },
     "user_tz": 240
    },
    "id": "LbF9DeztkavX",
    "outputId": "c5f58508-4df3-4877-aea7-154111dacd89",
    "tags": []
   },
   "outputs": [
    {
     "name": "stdout",
     "output_type": "stream",
     "text": [
      "INFO:tensorflow:Assets written to: ram://3b1931015e8e4161af12e60aa1778e7f/assets\n"
     ]
    },
    {
     "data": {
      "text/plain": [
       "['./saved_models/batch_4_stack/nn_pca_3.pkl']"
      ]
     },
     "execution_count": 186,
     "metadata": {},
     "output_type": "execute_result"
    }
   ],
   "source": [
    "# Save the model\n",
    "# joblib.dump(mlp, '/content/drive/MyDrive/Omdena/Team1/saved_models/batch_4_stack/nn_pca_1.pkl')\n",
    "joblib.dump(pipe, './saved_models/batch_4_stack/nn_pca_3a.pkl')"
   ]
  },
  {
   "cell_type": "code",
   "execution_count": 195,
   "id": "b3895d07-67ba-48c6-a602-aa8430ce0b61",
   "metadata": {
    "execution": {
     "iopub.execute_input": "2023-05-03T23:29:25.403865Z",
     "iopub.status.busy": "2023-05-03T23:29:25.403144Z",
     "iopub.status.idle": "2023-05-03T23:29:25.434106Z",
     "shell.execute_reply": "2023-05-03T23:29:25.432770Z",
     "shell.execute_reply.started": "2023-05-03T23:29:25.403835Z"
    },
    "tags": []
   },
   "outputs": [
    {
     "name": "stdout",
     "output_type": "stream",
     "text": [
      "Model: \"sequential_549\"\n",
      "_________________________________________________________________\n",
      " Layer (type)                Output Shape              Param #   \n",
      "=================================================================\n",
      " dense_1921 (Dense)          (None, 1000)              1001000   \n",
      "                                                                 \n",
      " dense_1922 (Dense)          (None, 190)               190190    \n",
      "                                                                 \n",
      " dropout_823 (Dropout)       (None, 190)               0         \n",
      "                                                                 \n",
      " dense_1923 (Dense)          (None, 410)               78310     \n",
      "                                                                 \n",
      " dropout_824 (Dropout)       (None, 410)               0         \n",
      "                                                                 \n",
      " dense_1924 (Dense)          (None, 1)                 411       \n",
      "                                                                 \n",
      "=================================================================\n",
      "Total params: 1,269,911\n",
      "Trainable params: 1,269,911\n",
      "Non-trainable params: 0\n",
      "_________________________________________________________________\n"
     ]
    }
   ],
   "source": [
    "pipe['clf'].model_.summary()"
   ]
  },
  {
   "cell_type": "code",
   "execution_count": 196,
   "id": "7c573004-742a-45b8-98c9-75f4529348a5",
   "metadata": {
    "execution": {
     "iopub.execute_input": "2023-05-03T23:29:38.654369Z",
     "iopub.status.busy": "2023-05-03T23:29:38.654098Z",
     "iopub.status.idle": "2023-05-03T23:29:40.015832Z",
     "shell.execute_reply": "2023-05-03T23:29:40.014971Z",
     "shell.execute_reply.started": "2023-05-03T23:29:38.654351Z"
    },
    "id": "wu6udS__kavX",
    "tags": []
   },
   "outputs": [],
   "source": [
    "y_pred = pipe.predict(X_test)"
   ]
  },
  {
   "cell_type": "code",
   "execution_count": 197,
   "id": "8c626f22-b2c3-4348-8f2d-fd110dd69e2e",
   "metadata": {
    "colab": {
     "base_uri": "https://localhost:8080/"
    },
    "execution": {
     "iopub.execute_input": "2023-05-03T23:29:41.780424Z",
     "iopub.status.busy": "2023-05-03T23:29:41.780137Z",
     "iopub.status.idle": "2023-05-03T23:29:41.790525Z",
     "shell.execute_reply": "2023-05-03T23:29:41.789609Z",
     "shell.execute_reply.started": "2023-05-03T23:29:41.780402Z"
    },
    "executionInfo": {
     "elapsed": 312,
     "status": "ok",
     "timestamp": 1682712246169,
     "user": {
      "displayName": "Damir Zunic",
      "userId": "07104666280721646256"
     },
     "user_tz": 240
    },
    "id": "hbTv01iskavX",
    "outputId": "bcbc4bcd-6492-4e64-c009-a4ff56941dcc",
    "tags": []
   },
   "outputs": [
    {
     "name": "stdout",
     "output_type": "stream",
     "text": [
      "Accuracy after tuning: 85.73\n"
     ]
    }
   ],
   "source": [
    "accuracy = accuracy_score(y_test, y_pred)\n",
    "print(f'Accuracy after tuning: {accuracy * 100.0:.2f}')"
   ]
  },
  {
   "cell_type": "code",
   "execution_count": 198,
   "id": "5ba1bf17-29d0-4de3-97b4-8c452e2d6ffe",
   "metadata": {
    "colab": {
     "base_uri": "https://localhost:8080/"
    },
    "execution": {
     "iopub.execute_input": "2023-05-03T23:29:45.047005Z",
     "iopub.status.busy": "2023-05-03T23:29:45.046714Z",
     "iopub.status.idle": "2023-05-03T23:29:48.311923Z",
     "shell.execute_reply": "2023-05-03T23:29:48.311013Z",
     "shell.execute_reply.started": "2023-05-03T23:29:45.046984Z"
    },
    "executionInfo": {
     "elapsed": 652,
     "status": "ok",
     "timestamp": 1682712256130,
     "user": {
      "displayName": "Damir Zunic",
      "userId": "07104666280721646256"
     },
     "user_tz": 240
    },
    "id": "kfP1WnUfkavY",
    "outputId": "7f45f46e-dbe1-4735-f46f-74ff470c0152",
    "tags": []
   },
   "outputs": [
    {
     "name": "stdout",
     "output_type": "stream",
     "text": [
      "Training Data Score: 0.9988252076864983\n",
      "Testing Data Score: 0.8573021181716833\n"
     ]
    }
   ],
   "source": [
    "# Compare training and testing scores\n",
    "print(f\"Training Data Score: {pipe.score(X_train, y_train)}\")\n",
    "print(f\"Testing Data Score: {pipe.score(X_test, y_test)}\")"
   ]
  },
  {
   "cell_type": "code",
   "execution_count": 199,
   "id": "2bc43e47-4c7d-44fc-8707-42735b1befc9",
   "metadata": {
    "colab": {
     "base_uri": "https://localhost:8080/"
    },
    "execution": {
     "iopub.execute_input": "2023-05-03T23:29:56.991304Z",
     "iopub.status.busy": "2023-05-03T23:29:56.990905Z",
     "iopub.status.idle": "2023-05-03T23:29:57.004971Z",
     "shell.execute_reply": "2023-05-03T23:29:57.003899Z",
     "shell.execute_reply.started": "2023-05-03T23:29:56.991282Z"
    },
    "executionInfo": {
     "elapsed": 158,
     "status": "ok",
     "timestamp": 1682712268450,
     "user": {
      "displayName": "Damir Zunic",
      "userId": "07104666280721646256"
     },
     "user_tz": 240
    },
    "id": "3-5Gg07lkavY",
    "outputId": "3fe6244e-b1fe-48a2-e887-b7d33b70c773",
    "tags": []
   },
   "outputs": [
    {
     "name": "stdout",
     "output_type": "stream",
     "text": [
      "[[ 237  102]\n",
      " [ 154 1301]]\n"
     ]
    }
   ],
   "source": [
    "cm = confusion_matrix(y_test, y_pred)\n",
    "print(cm)"
   ]
  },
  {
   "cell_type": "code",
   "execution_count": 200,
   "id": "ca8d1e25-0f6d-4e58-bba5-3363ff927f29",
   "metadata": {
    "colab": {
     "base_uri": "https://localhost:8080/",
     "height": 315
    },
    "execution": {
     "iopub.execute_input": "2023-05-03T23:30:19.863868Z",
     "iopub.status.busy": "2023-05-03T23:30:19.863135Z",
     "iopub.status.idle": "2023-05-03T23:30:20.455591Z",
     "shell.execute_reply": "2023-05-03T23:30:20.454640Z",
     "shell.execute_reply.started": "2023-05-03T23:30:19.863846Z"
    },
    "executionInfo": {
     "elapsed": 1309,
     "status": "ok",
     "timestamp": 1682712278412,
     "user": {
      "displayName": "Damir Zunic",
      "userId": "07104666280721646256"
     },
     "user_tz": 240
    },
    "id": "yAEszP3ikavY",
    "outputId": "7ecea9cd-5234-4237-eca2-360e5a138c82",
    "tags": []
   },
   "outputs": [
    {
     "data": {
      "image/png": "[encoded data removed]",
      "text/plain": [
       "<Figure size 864x288 with 4 Axes>"
      ]
     },
     "metadata": {},
     "output_type": "display_data"
    }
   ],
   "source": [
    "# Plot confusion matrix and its normalized version.\n",
    "mu.plot_cm_unnorm_and_norm('Neural Network - PCA 1000 #3a', y_test, y_pred, target_names, 'Reds')"
   ]
  },
  {
   "cell_type": "code",
   "execution_count": 201,
   "id": "cf267768-7ec5-41a2-b7aa-c00cb8efc773",
   "metadata": {
    "colab": {
     "base_uri": "https://localhost:8080/"
    },
    "execution": {
     "iopub.execute_input": "2023-05-03T23:30:29.631721Z",
     "iopub.status.busy": "2023-05-03T23:30:29.631398Z",
     "iopub.status.idle": "2023-05-03T23:30:29.651084Z",
     "shell.execute_reply": "2023-05-03T23:30:29.649773Z",
     "shell.execute_reply.started": "2023-05-03T23:30:29.631697Z"
    },
    "executionInfo": {
     "elapsed": 194,
     "status": "ok",
     "timestamp": 1682712298538,
     "user": {
      "displayName": "Damir Zunic",
      "userId": "07104666280721646256"
     },
     "user_tz": 240
    },
    "id": "nRKz3IplkavY",
    "outputId": "20121d11-d163-4d2d-cf8d-4ba3e2c560ce",
    "tags": []
   },
   "outputs": [
    {
     "name": "stdout",
     "output_type": "stream",
     "text": [
      "              precision    recall  f1-score   support\n",
      "\n",
      "         hem       0.61      0.70      0.65       339\n",
      "         all       0.93      0.89      0.91      1455\n",
      "\n",
      "    accuracy                           0.86      1794\n",
      "   macro avg       0.77      0.80      0.78      1794\n",
      "weighted avg       0.87      0.86      0.86      1794\n",
      "\n"
     ]
    }
   ],
   "source": [
    "print(classification_report(y_test, y_pred, target_names=target_names))"
   ]
  },
  {
   "cell_type": "markdown",
   "id": "53b1b416-af01-4bc0-8ee3-f23251470f35",
   "metadata": {},
   "source": [
    "# ANOVA - Tuned"
   ]
  },
  {
   "cell_type": "code",
   "execution_count": 42,
   "id": "5b53f2c6-4b77-4ac9-8f45-0049aa42c6fd",
   "metadata": {
    "execution": {
     "iopub.execute_input": "2023-05-02T23:53:29.688743Z",
     "iopub.status.busy": "2023-05-02T23:53:29.688381Z",
     "iopub.status.idle": "2023-05-02T23:53:29.694723Z",
     "shell.execute_reply": "2023-05-02T23:53:29.693664Z",
     "shell.execute_reply.started": "2023-05-02T23:53:29.688719Z"
    },
    "tags": []
   },
   "outputs": [],
   "source": [
    "# Define model with pipeline\n",
    "fs = SelectKBest(score_func=f_classif) # ANOVA feature selection\n",
    "pipe = Pipeline(\n",
    "    steps = (\n",
    "        ('scaler', MinMaxScaler()),\n",
    "        ('anova', fs),\n",
    "        ('clf', clf)\n",
    "    )\n",
    ")"
   ]
  },
  {
   "cell_type": "markdown",
   "id": "3f623445-e31f-45b3-b374-fab516975b3c",
   "metadata": {
    "id": "RkQ_-axnlG8O"
   },
   "source": [
    "## Optuna Objective Function"
   ]
  },
  {
   "cell_type": "markdown",
   "id": "ff1b52fb-36ea-4b31-a9aa-9bcb37552348",
   "metadata": {},
   "source": [
    "#### changed step for dropout and k range"
   ]
  },
  {
   "cell_type": "code",
   "execution_count": 67,
   "id": "9324ccc2-bfe6-4ff7-af4f-e06ba8dd67be",
   "metadata": {
    "execution": {
     "iopub.execute_input": "2023-05-03T03:01:55.210376Z",
     "iopub.status.busy": "2023-05-03T03:01:55.209999Z",
     "iopub.status.idle": "2023-05-03T03:01:55.220449Z",
     "shell.execute_reply": "2023-05-03T03:01:55.219196Z",
     "shell.execute_reply.started": "2023-05-03T03:01:55.210353Z"
    },
    "executionInfo": {
     "elapsed": 144,
     "status": "ok",
     "timestamp": 1682640534483,
     "user": {
      "displayName": "Damir Zunic",
      "userId": "07104666280721646256"
     },
     "user_tz": 240
    },
    "id": "2aELGNRDlG8O",
    "tags": []
   },
   "outputs": [],
   "source": [
    "def objective(trial):\n",
    "    \"\"\"Define the objective function\"\"\"\n",
    "\n",
    "    n_layers = trial.suggest_int('n_layers', 1, 3) # no. of hidden layers \n",
    "    layers = [300]  # max nodes in layers\n",
    "    for i in range(n_layers):\n",
    "        layers.append(trial.suggest_int(f\"n_units_{i+1}\", 20, layers[i], 20)) # no. of hidden unit\n",
    "    \n",
    "    params = {\n",
    "        'anova__k' : trial.suggest_int('anova__k', 800, 3000, 10),\n",
    "        'clf__epochs' : trial.suggest_int('clf__epochs', 10, 150, 10),\n",
    "        'clf__batch_size' : trial.suggest_categorical('clf__batch_size', [32, 64, 128]),\n",
    "        'clf__model__dropout' : trial.suggest_float('clf__model__dropout', 0.2, 0.6, step=0.001),\n",
    "        ### 'clf__model__dropout' : trial.suggest_float('clf__model__dropout', 0.2, 0.6),\n",
    "         ###'clf__model__hidden_layer_sizes' : [(100, ), (50, 50, )],\n",
    "        'clf__optimizer__learning_rate' : trial.suggest_float('clf__optimizer__learning_rate', 1e-5, 1e-1, log=True),\n",
    "    }\n",
    "    \n",
    "    params['clf__model__hidden_layer_sizes'] = tuple(layers[1:])\n",
    "\n",
    "    pipe.set_params(**params)\n",
    "   \n",
    "    # Fit the model\n",
    "    pipe.fit(X_train, y_train)\n",
    "\n",
    "    # Make predictions\n",
    "    y_pred = pipe.predict(X_test)\n",
    "\n",
    "    # Evaluate predictions\n",
    "    f1 = f1_score(y_test, y_pred, average='macro')\n",
    "    return f1"
   ]
  },
  {
   "cell_type": "markdown",
   "id": "5ab99726-75e8-46e5-a3e9-555b07519e6b",
   "metadata": {
    "id": "UlhwpS7-lG8O"
   },
   "source": [
    "## Optuna Study"
   ]
  },
  {
   "cell_type": "code",
   "execution_count": 68,
   "id": "0ad869f5-05c9-4a52-b0da-bbd652d67a1b",
   "metadata": {
    "colab": {
     "base_uri": "https://localhost:8080/"
    },
    "execution": {
     "iopub.execute_input": "2023-05-03T03:01:59.500120Z",
     "iopub.status.busy": "2023-05-03T03:01:59.499319Z",
     "iopub.status.idle": "2023-05-03T03:01:59.512684Z",
     "shell.execute_reply": "2023-05-03T03:01:59.510995Z",
     "shell.execute_reply.started": "2023-05-03T03:01:59.500086Z"
    },
    "executionInfo": {
     "elapsed": 166,
     "status": "ok",
     "timestamp": 1682640542700,
     "user": {
      "displayName": "Damir Zunic",
      "userId": "07104666280721646256"
     },
     "user_tz": 240
    },
    "id": "vOfrCTgplG8O",
    "outputId": "cfccac98-89f6-4216-acc5-ce60b43cb0e2",
    "tags": []
   },
   "outputs": [
    {
     "name": "stderr",
     "output_type": "stream",
     "text": [
      "\u001b[32m[I 2023-05-02 23:01:59,503]\u001b[0m A new study created in memory with name: no-name-85c57cfd-511f-49b4-b638-2e6ddf58f69f\u001b[0m\n"
     ]
    }
   ],
   "source": [
    "study = optuna.create_study(direction='maximize')"
   ]
  },
  {
   "cell_type": "markdown",
   "id": "8779a813-a8a2-45c7-b9a4-0319bdc333b1",
   "metadata": {
    "id": "gvAvJRAIlG8P"
   },
   "source": [
    "## Optimize the Objective Function"
   ]
  },
  {
   "cell_type": "code",
   "execution_count": 69,
   "id": "e806e96c-98d4-4c11-abb6-d7fe5f19652e",
   "metadata": {
    "colab": {
     "base_uri": "https://localhost:8080/"
    },
    "execution": {
     "iopub.execute_input": "2023-05-03T03:02:06.982176Z",
     "iopub.status.busy": "2023-05-03T03:02:06.981750Z",
     "iopub.status.idle": "2023-05-03T03:28:53.307972Z",
     "shell.execute_reply": "2023-05-03T03:28:53.306783Z",
     "shell.execute_reply.started": "2023-05-03T03:02:06.982142Z"
    },
    "executionInfo": {
     "elapsed": 5163058,
     "status": "ok",
     "timestamp": 1682645720710,
     "user": {
      "displayName": "Damir Zunic",
      "userId": "07104666280721646256"
     },
     "user_tz": 240
    },
    "id": "TKtM3W6PbiE9",
    "outputId": "3b2351f9-5101-4f6c-a9e6-e90064657ead",
    "scrolled": true,
    "tags": []
   },
   "outputs": [
    {
     "name": "stderr",
     "output_type": "stream",
     "text": [
      "\u001b[32m[I 2023-05-02 23:04:37,559]\u001b[0m Trial 0 finished with value: 0.7707088469905728 and parameters: {'n_layers': 2, 'n_units_1': 80, 'n_units_2': 20, 'anova__k': 2200, 'clf__epochs': 80, 'clf__batch_size': 32, 'clf__model__dropout': 0.222, 'clf__optimizer__learning_rate': 1.45250911305679e-05}. Best is trial 0 with value: 0.7707088469905728.\u001b[0m\n",
      "\u001b[32m[I 2023-05-02 23:06:50,829]\u001b[0m Trial 1 finished with value: 0.7488229405341865 and parameters: {'n_layers': 1, 'n_units_1': 180, 'anova__k': 2640, 'clf__epochs': 70, 'clf__batch_size': 32, 'clf__model__dropout': 0.227, 'clf__optimizer__learning_rate': 0.0031105402400949376}. Best is trial 0 with value: 0.7707088469905728.\u001b[0m\n",
      "\u001b[32m[I 2023-05-02 23:07:07,228]\u001b[0m Trial 2 finished with value: 0.7494763301214914 and parameters: {'n_layers': 2, 'n_units_1': 160, 'n_units_2': 80, 'anova__k': 840, 'clf__epochs': 30, 'clf__batch_size': 128, 'clf__model__dropout': 0.449, 'clf__optimizer__learning_rate': 0.006063601468151406}. Best is trial 0 with value: 0.7707088469905728.\u001b[0m\n",
      "\u001b[32m[I 2023-05-02 23:08:16,262]\u001b[0m Trial 3 finished with value: 0.7511876670156741 and parameters: {'n_layers': 1, 'n_units_1': 240, 'anova__k': 2180, 'clf__epochs': 40, 'clf__batch_size': 32, 'clf__model__dropout': 0.558, 'clf__optimizer__learning_rate': 0.0015270338190113539}. Best is trial 0 with value: 0.7707088469905728.\u001b[0m\n",
      "\u001b[32m[I 2023-05-02 23:09:47,741]\u001b[0m Trial 4 finished with value: 0.7733977520325882 and parameters: {'n_layers': 3, 'n_units_1': 40, 'n_units_2': 20, 'n_units_3': 20, 'anova__k': 2010, 'clf__epochs': 90, 'clf__batch_size': 64, 'clf__model__dropout': 0.321, 'clf__optimizer__learning_rate': 0.0002387173266224001}. Best is trial 4 with value: 0.7733977520325882.\u001b[0m\n",
      "\u001b[32m[I 2023-05-02 23:11:18,815]\u001b[0m Trial 5 finished with value: 0.7035824258355239 and parameters: {'n_layers': 3, 'n_units_1': 280, 'n_units_2': 140, 'n_units_3': 80, 'anova__k': 2460, 'clf__epochs': 80, 'clf__batch_size': 64, 'clf__model__dropout': 0.328, 'clf__optimizer__learning_rate': 0.004529090140521976}. Best is trial 4 with value: 0.7733977520325882.\u001b[0m\n",
      "\u001b[32m[I 2023-05-02 23:12:50,066]\u001b[0m Trial 6 finished with value: 0.6990766379824487 and parameters: {'n_layers': 3, 'n_units_1': 200, 'n_units_2': 200, 'n_units_3': 120, 'anova__k': 1920, 'clf__epochs': 90, 'clf__batch_size': 64, 'clf__model__dropout': 0.539, 'clf__optimizer__learning_rate': 0.011065718177328033}. Best is trial 4 with value: 0.7733977520325882.\u001b[0m\n",
      "\u001b[32m[I 2023-05-02 23:13:23,408]\u001b[0m Trial 7 finished with value: 0.700717033082681 and parameters: {'n_layers': 2, 'n_units_1': 120, 'n_units_2': 40, 'anova__k': 1600, 'clf__epochs': 70, 'clf__batch_size': 128, 'clf__model__dropout': 0.337, 'clf__optimizer__learning_rate': 0.0028697805096720656}. Best is trial 4 with value: 0.7733977520325882.\u001b[0m\n",
      "\u001b[32m[I 2023-05-02 23:13:54,166]\u001b[0m Trial 8 finished with value: 0.7709845212644766 and parameters: {'n_layers': 1, 'n_units_1': 20, 'anova__k': 1200, 'clf__epochs': 70, 'clf__batch_size': 128, 'clf__model__dropout': 0.24200000000000002, 'clf__optimizer__learning_rate': 0.00026091689633973153}. Best is trial 4 with value: 0.7733977520325882.\u001b[0m\n",
      "\u001b[32m[I 2023-05-02 23:14:40,236]\u001b[0m Trial 9 finished with value: 0.1589310829817159 and parameters: {'n_layers': 2, 'n_units_1': 80, 'n_units_2': 40, 'anova__k': 2760, 'clf__epochs': 40, 'clf__batch_size': 64, 'clf__model__dropout': 0.29300000000000004, 'clf__optimizer__learning_rate': 0.06909718487822615}. Best is trial 4 with value: 0.7733977520325882.\u001b[0m\n",
      "\u001b[32m[I 2023-05-02 23:17:04,230]\u001b[0m Trial 10 finished with value: 0.7433859038432866 and parameters: {'n_layers': 3, 'n_units_1': 20, 'n_units_2': 20, 'n_units_3': 20, 'anova__k': 1610, 'clf__epochs': 140, 'clf__batch_size': 64, 'clf__model__dropout': 0.43900000000000006, 'clf__optimizer__learning_rate': 0.00020376669830172702}. Best is trial 4 with value: 0.7733977520325882.\u001b[0m\n",
      "\u001b[32m[I 2023-05-02 23:17:53,756]\u001b[0m Trial 11 finished with value: 0.7670342170006959 and parameters: {'n_layers': 1, 'n_units_1': 20, 'anova__k': 920, 'clf__epochs': 120, 'clf__batch_size': 128, 'clf__model__dropout': 0.28, 'clf__optimizer__learning_rate': 0.0002602767812935818}. Best is trial 4 with value: 0.7733977520325882.\u001b[0m\n",
      "\u001b[32m[I 2023-05-02 23:18:45,832]\u001b[0m Trial 12 finished with value: 0.7466891845486605 and parameters: {'n_layers': 3, 'n_units_1': 60, 'n_units_2': 20, 'n_units_3': 20, 'anova__k': 1310, 'clf__epochs': 100, 'clf__batch_size': 128, 'clf__model__dropout': 0.381, 'clf__optimizer__learning_rate': 0.00022178034325740759}. Best is trial 4 with value: 0.7733977520325882.\u001b[0m\n",
      "\u001b[32m[I 2023-05-02 23:19:30,749]\u001b[0m Trial 13 finished with value: 0.7571633274878304 and parameters: {'n_layers': 1, 'n_units_1': 20, 'anova__k': 1310, 'clf__epochs': 110, 'clf__batch_size': 128, 'clf__model__dropout': 0.262, 'clf__optimizer__learning_rate': 5.4317528300511683e-05}. Best is trial 4 with value: 0.7733977520325882.\u001b[0m\n",
      "\u001b[32m[I 2023-05-02 23:20:18,111]\u001b[0m Trial 14 finished with value: 0.7679784791632847 and parameters: {'n_layers': 2, 'n_units_1': 120, 'n_units_2': 80, 'anova__k': 1760, 'clf__epochs': 50, 'clf__batch_size': 64, 'clf__model__dropout': 0.372, 'clf__optimizer__learning_rate': 0.0005920473281490662}. Best is trial 4 with value: 0.7733977520325882.\u001b[0m\n",
      "\u001b[32m[I 2023-05-02 23:20:27,029]\u001b[0m Trial 15 finished with value: 0.7400753404810201 and parameters: {'n_layers': 3, 'n_units_1': 60, 'n_units_2': 20, 'n_units_3': 20, 'anova__k': 2980, 'clf__epochs': 10, 'clf__batch_size': 128, 'clf__model__dropout': 0.2, 'clf__optimizer__learning_rate': 4.543752783448659e-05}. Best is trial 4 with value: 0.7733977520325882.\u001b[0m\n",
      "\u001b[32m[I 2023-05-02 23:22:16,347]\u001b[0m Trial 16 finished with value: 0.7744469316507963 and parameters: {'n_layers': 1, 'n_units_1': 120, 'anova__k': 1190, 'clf__epochs': 130, 'clf__batch_size': 64, 'clf__model__dropout': 0.319, 'clf__optimizer__learning_rate': 0.0007411547387889013}. Best is trial 16 with value: 0.7744469316507963.\u001b[0m\n",
      "\u001b[32m[I 2023-05-02 23:24:45,931]\u001b[0m Trial 17 finished with value: 0.7593229622529435 and parameters: {'n_layers': 2, 'n_units_1': 120, 'n_units_2': 60, 'anova__k': 1970, 'clf__epochs': 150, 'clf__batch_size': 64, 'clf__model__dropout': 0.42900000000000005, 'clf__optimizer__learning_rate': 0.0008172441900786873}. Best is trial 16 with value: 0.7744469316507963.\u001b[0m\n",
      "\u001b[32m[I 2023-05-02 23:27:09,257]\u001b[0m Trial 18 finished with value: 0.7583838383838384 and parameters: {'n_layers': 3, 'n_units_1': 140, 'n_units_2': 120, 'n_units_3': 60, 'anova__k': 2220, 'clf__epochs': 130, 'clf__batch_size': 64, 'clf__model__dropout': 0.49, 'clf__optimizer__learning_rate': 0.000943923686506484}. Best is trial 16 with value: 0.7744469316507963.\u001b[0m\n",
      "\u001b[32m[I 2023-05-02 23:28:53,304]\u001b[0m Trial 19 finished with value: 0.7867272960306715 and parameters: {'n_layers': 1, 'n_units_1': 220, 'anova__k': 1120, 'clf__epochs': 120, 'clf__batch_size': 64, 'clf__model__dropout': 0.337, 'clf__optimizer__learning_rate': 8.83305199353799e-05}. Best is trial 19 with value: 0.7867272960306715.\u001b[0m\n"
     ]
    }
   ],
   "source": [
    "study.optimize(objective, n_trials=20)"
   ]
  },
  {
   "cell_type": "code",
   "execution_count": 85,
   "id": "725f2deb-57ad-4942-862d-ee15f9d7512a",
   "metadata": {
    "execution": {
     "iopub.execute_input": "2023-05-03T03:38:12.192750Z",
     "iopub.status.busy": "2023-05-03T03:38:12.192208Z",
     "iopub.status.idle": "2023-05-03T04:21:17.218268Z",
     "shell.execute_reply": "2023-05-03T04:21:17.217247Z",
     "shell.execute_reply.started": "2023-05-03T03:38:12.192726Z"
    },
    "scrolled": true,
    "tags": []
   },
   "outputs": [
    {
     "name": "stderr",
     "output_type": "stream",
     "text": [
      "\u001b[32m[I 2023-05-02 23:39:50,085]\u001b[0m Trial 20 finished with value: 0.7867642203409976 and parameters: {'n_layers': 1, 'n_units_1': 220, 'anova__k': 1080, 'clf__epochs': 120, 'clf__batch_size': 64, 'clf__model__dropout': 0.357, 'clf__optimizer__learning_rate': 5.975778454048737e-05}. Best is trial 20 with value: 0.7867642203409976.\u001b[0m\n",
      "\u001b[32m[I 2023-05-02 23:41:30,518]\u001b[0m Trial 21 finished with value: 0.7782228359899724 and parameters: {'n_layers': 1, 'n_units_1': 240, 'anova__k': 1050, 'clf__epochs': 120, 'clf__batch_size': 64, 'clf__model__dropout': 0.382, 'clf__optimizer__learning_rate': 6.449798069198383e-05}. Best is trial 20 with value: 0.7867642203409976.\u001b[0m\n",
      "\u001b[32m[I 2023-05-02 23:43:10,825]\u001b[0m Trial 22 finished with value: 0.7673789173789174 and parameters: {'n_layers': 1, 'n_units_1': 240, 'anova__k': 1000, 'clf__epochs': 110, 'clf__batch_size': 64, 'clf__model__dropout': 0.366, 'clf__optimizer__learning_rate': 6.423994369002325e-05}. Best is trial 20 with value: 0.7867642203409976.\u001b[0m\n",
      "\u001b[32m[I 2023-05-02 23:45:47,659]\u001b[0m Trial 23 finished with value: 0.7903199735406974 and parameters: {'n_layers': 1, 'n_units_1': 220, 'anova__k': 1060, 'clf__epochs': 150, 'clf__batch_size': 64, 'clf__model__dropout': 0.404, 'clf__optimizer__learning_rate': 1.7561118785998727e-05}. Best is trial 23 with value: 0.7903199735406974.\u001b[0m\n",
      "\u001b[32m[I 2023-05-02 23:48:00,262]\u001b[0m Trial 24 finished with value: 0.7869266743293496 and parameters: {'n_layers': 1, 'n_units_1': 300, 'anova__k': 1510, 'clf__epochs': 150, 'clf__batch_size': 64, 'clf__model__dropout': 0.41400000000000003, 'clf__optimizer__learning_rate': 1.1272991142730526e-05}. Best is trial 23 with value: 0.7903199735406974.\u001b[0m\n",
      "\u001b[32m[I 2023-05-02 23:50:05,001]\u001b[0m Trial 25 finished with value: 0.7794968443197756 and parameters: {'n_layers': 1, 'n_units_1': 300, 'anova__k': 1460, 'clf__epochs': 150, 'clf__batch_size': 64, 'clf__model__dropout': 0.492, 'clf__optimizer__learning_rate': 1.1495247615287799e-05}. Best is trial 23 with value: 0.7903199735406974.\u001b[0m\n",
      "\u001b[32m[I 2023-05-02 23:53:47,721]\u001b[0m Trial 26 finished with value: 0.7529265941330395 and parameters: {'n_layers': 1, 'n_units_1': 260, 'anova__k': 800, 'clf__epochs': 140, 'clf__batch_size': 32, 'clf__model__dropout': 0.41200000000000003, 'clf__optimizer__learning_rate': 2.0162979727023773e-05}. Best is trial 23 with value: 0.7903199735406974.\u001b[0m\n",
      "\u001b[32m[I 2023-05-02 23:55:54,392]\u001b[0m Trial 27 finished with value: 0.7674564902102972 and parameters: {'n_layers': 1, 'n_units_1': 300, 'anova__k': 1470, 'clf__epochs': 150, 'clf__batch_size': 64, 'clf__model__dropout': 0.489, 'clf__optimizer__learning_rate': 2.6191296653819243e-05}. Best is trial 23 with value: 0.7903199735406974.\u001b[0m\n",
      "\u001b[32m[I 2023-05-02 23:58:05,118]\u001b[0m Trial 28 finished with value: 0.7595486015745333 and parameters: {'n_layers': 2, 'n_units_1': 180, 'n_units_2': 180, 'anova__k': 1410, 'clf__epochs': 140, 'clf__batch_size': 64, 'clf__model__dropout': 0.461, 'clf__optimizer__learning_rate': 1.0222779071816792e-05}. Best is trial 23 with value: 0.7903199735406974.\u001b[0m\n",
      "\u001b[32m[I 2023-05-03 00:01:30,935]\u001b[0m Trial 29 finished with value: 0.7777331029984829 and parameters: {'n_layers': 1, 'n_units_1': 280, 'anova__k': 1690, 'clf__epochs': 130, 'clf__batch_size': 32, 'clf__model__dropout': 0.599, 'clf__optimizer__learning_rate': 2.149322596780903e-05}. Best is trial 23 with value: 0.7903199735406974.\u001b[0m\n",
      "\u001b[32m[I 2023-05-03 00:03:47,015]\u001b[0m Trial 30 finished with value: 0.7764314541254063 and parameters: {'n_layers': 2, 'n_units_1': 200, 'n_units_2': 160, 'anova__k': 1230, 'clf__epochs': 150, 'clf__batch_size': 64, 'clf__model__dropout': 0.406, 'clf__optimizer__learning_rate': 3.285885652649722e-05}. Best is trial 23 with value: 0.7903199735406974.\u001b[0m\n",
      "\u001b[32m[I 2023-05-03 00:05:28,153]\u001b[0m Trial 31 finished with value: 0.7698634448521784 and parameters: {'n_layers': 1, 'n_units_1': 220, 'anova__k': 1170, 'clf__epochs': 120, 'clf__batch_size': 64, 'clf__model__dropout': 0.36, 'clf__optimizer__learning_rate': 1.4397959705769015e-05}. Best is trial 23 with value: 0.7903199735406974.\u001b[0m\n",
      "\u001b[32m[I 2023-05-03 00:06:59,042]\u001b[0m Trial 32 finished with value: 0.769892966042244 and parameters: {'n_layers': 1, 'n_units_1': 220, 'anova__k': 1040, 'clf__epochs': 110, 'clf__batch_size': 64, 'clf__model__dropout': 0.352, 'clf__optimizer__learning_rate': 0.00010274043286472518}. Best is trial 23 with value: 0.7903199735406974.\u001b[0m\n",
      "\u001b[32m[I 2023-05-03 00:08:56,461]\u001b[0m Trial 33 finished with value: 0.7618188320978021 and parameters: {'n_layers': 1, 'n_units_1': 260, 'anova__k': 1100, 'clf__epochs': 140, 'clf__batch_size': 64, 'clf__model__dropout': 0.399, 'clf__optimizer__learning_rate': 2.967051929661262e-05}. Best is trial 23 with value: 0.7903199735406974.\u001b[0m\n",
      "\u001b[32m[I 2023-05-03 00:11:37,244]\u001b[0m Trial 34 finished with value: 0.7491850235286095 and parameters: {'n_layers': 1, 'n_units_1': 180, 'anova__k': 960, 'clf__epochs': 100, 'clf__batch_size': 32, 'clf__model__dropout': 0.30000000000000004, 'clf__optimizer__learning_rate': 1.74641153529872e-05}. Best is trial 23 with value: 0.7903199735406974.\u001b[0m\n",
      "\u001b[32m[I 2023-05-03 00:13:23,365]\u001b[0m Trial 35 finished with value: 0.7741223461607667 and parameters: {'n_layers': 1, 'n_units_1': 220, 'anova__k': 1350, 'clf__epochs': 130, 'clf__batch_size': 64, 'clf__model__dropout': 0.41800000000000004, 'clf__optimizer__learning_rate': 0.00010225293674393314}. Best is trial 23 with value: 0.7903199735406974.\u001b[0m\n",
      "\u001b[32m[I 2023-05-03 00:15:05,360]\u001b[0m Trial 36 finished with value: 0.7586017228232773 and parameters: {'n_layers': 1, 'n_units_1': 160, 'anova__k': 1580, 'clf__epochs': 120, 'clf__batch_size': 64, 'clf__model__dropout': 0.392, 'clf__optimizer__learning_rate': 1.0332748451152597e-05}. Best is trial 23 with value: 0.7903199735406974.\u001b[0m\n",
      "\u001b[32m[I 2023-05-03 00:17:51,953]\u001b[0m Trial 37 finished with value: 0.7505283352435479 and parameters: {'n_layers': 1, 'n_units_1': 260, 'anova__k': 860, 'clf__epochs': 100, 'clf__batch_size': 32, 'clf__model__dropout': 0.351, 'clf__optimizer__learning_rate': 3.500190552405403e-05}. Best is trial 23 with value: 0.7903199735406974.\u001b[0m\n",
      "\u001b[32m[I 2023-05-03 00:19:09,073]\u001b[0m Trial 38 finished with value: 0.7709671306991126 and parameters: {'n_layers': 1, 'n_units_1': 200, 'anova__k': 1790, 'clf__epochs': 90, 'clf__batch_size': 64, 'clf__model__dropout': 0.461, 'clf__optimizer__learning_rate': 2.0442853936792167e-05}. Best is trial 23 with value: 0.7903199735406974.\u001b[0m\n",
      "\u001b[32m[I 2023-05-03 00:21:17,214]\u001b[0m Trial 39 finished with value: 0.7764261001283383 and parameters: {'n_layers': 2, 'n_units_1': 280, 'n_units_2': 280, 'anova__k': 1500, 'clf__epochs': 140, 'clf__batch_size': 64, 'clf__model__dropout': 0.336, 'clf__optimizer__learning_rate': 3.6101394678701016e-05}. Best is trial 23 with value: 0.7903199735406974.\u001b[0m\n"
     ]
    }
   ],
   "source": [
    "study.optimize(objective, n_trials=20)"
   ]
  },
  {
   "cell_type": "code",
   "execution_count": 86,
   "id": "1ac31472-7d6c-4d44-aea5-a1c7d7ea55cf",
   "metadata": {
    "execution": {
     "iopub.execute_input": "2023-05-03T04:21:17.220223Z",
     "iopub.status.busy": "2023-05-03T04:21:17.219931Z",
     "iopub.status.idle": "2023-05-03T04:55:08.647745Z",
     "shell.execute_reply": "2023-05-03T04:55:08.646742Z",
     "shell.execute_reply.started": "2023-05-03T04:21:17.220204Z"
    },
    "scrolled": true,
    "tags": []
   },
   "outputs": [
    {
     "name": "stderr",
     "output_type": "stream",
     "text": [
      "\u001b[32m[I 2023-05-03 00:22:13,834]\u001b[0m Trial 40 finished with value: 0.7540757363253856 and parameters: {'n_layers': 2, 'n_units_1': 160, 'n_units_2': 100, 'anova__k': 1140, 'clf__epochs': 60, 'clf__batch_size': 64, 'clf__model__dropout': 0.453, 'clf__optimizer__learning_rate': 1.7476483508361397e-05}. Best is trial 23 with value: 0.7903199735406974.\u001b[0m\n",
      "\u001b[32m[I 2023-05-03 00:24:13,594]\u001b[0m Trial 41 finished with value: 0.7715901725361893 and parameters: {'n_layers': 1, 'n_units_1': 300, 'anova__k': 1280, 'clf__epochs': 150, 'clf__batch_size': 64, 'clf__model__dropout': 0.48500000000000004, 'clf__optimizer__learning_rate': 1.0314592105149672e-05}. Best is trial 23 with value: 0.7903199735406974.\u001b[0m\n",
      "\u001b[32m[I 2023-05-03 00:26:19,284]\u001b[0m Trial 42 finished with value: 0.7829731826241135 and parameters: {'n_layers': 1, 'n_units_1': 300, 'anova__k': 1420, 'clf__epochs': 150, 'clf__batch_size': 64, 'clf__model__dropout': 0.537, 'clf__optimizer__learning_rate': 1.4525012702233273e-05}. Best is trial 23 with value: 0.7903199735406974.\u001b[0m\n",
      "\u001b[32m[I 2023-05-03 00:28:08,379]\u001b[0m Trial 43 finished with value: 0.7523560351266938 and parameters: {'n_layers': 1, 'n_units_1': 280, 'anova__k': 1370, 'clf__epochs': 140, 'clf__batch_size': 64, 'clf__model__dropout': 0.5980000000000001, 'clf__optimizer__learning_rate': 2.4540128271606385e-05}. Best is trial 23 with value: 0.7903199735406974.\u001b[0m\n",
      "\u001b[32m[I 2023-05-03 00:29:50,239]\u001b[0m Trial 44 finished with value: 0.7716272325993396 and parameters: {'n_layers': 1, 'n_units_1': 240, 'anova__k': 910, 'clf__epochs': 130, 'clf__batch_size': 64, 'clf__model__dropout': 0.528, 'clf__optimizer__learning_rate': 8.542141352645561e-05}. Best is trial 23 with value: 0.7903199735406974.\u001b[0m\n",
      "\u001b[32m[I 2023-05-03 00:30:59,509]\u001b[0m Trial 45 finished with value: 0.7552662466024216 and parameters: {'n_layers': 1, 'n_units_1': 260, 'anova__k': 2100, 'clf__epochs': 80, 'clf__batch_size': 64, 'clf__model__dropout': 0.565, 'clf__optimizer__learning_rate': 1.5205975556596063e-05}. Best is trial 23 with value: 0.7903199735406974.\u001b[0m\n",
      "\u001b[32m[I 2023-05-03 00:32:56,865]\u001b[0m Trial 46 finished with value: 0.7677228475562388 and parameters: {'n_layers': 1, 'n_units_1': 220, 'anova__k': 1110, 'clf__epochs': 150, 'clf__batch_size': 64, 'clf__model__dropout': 0.311, 'clf__optimizer__learning_rate': 4.429555059266549e-05}. Best is trial 23 with value: 0.7903199735406974.\u001b[0m\n",
      "\u001b[32m[I 2023-05-03 00:36:08,717]\u001b[0m Trial 47 finished with value: 0.775493896741468 and parameters: {'n_layers': 1, 'n_units_1': 200, 'anova__k': 1840, 'clf__epochs': 120, 'clf__batch_size': 32, 'clf__model__dropout': 0.274, 'clf__optimizer__learning_rate': 0.00014055526785094116}. Best is trial 23 with value: 0.7903199735406974.\u001b[0m\n",
      "\u001b[32m[I 2023-05-03 00:37:10,256]\u001b[0m Trial 48 finished with value: 0.7792410619285619 and parameters: {'n_layers': 1, 'n_units_1': 280, 'anova__k': 1540, 'clf__epochs': 140, 'clf__batch_size': 128, 'clf__model__dropout': 0.52, 'clf__optimizer__learning_rate': 5.7053290490601494e-05}. Best is trial 23 with value: 0.7903199735406974.\u001b[0m\n",
      "\u001b[32m[I 2023-05-03 00:38:22,170]\u001b[0m Trial 49 finished with value: 0.776055616983377 and parameters: {'n_layers': 1, 'n_units_1': 180, 'anova__k': 1230, 'clf__epochs': 90, 'clf__batch_size': 64, 'clf__model__dropout': 0.34, 'clf__optimizer__learning_rate': 4.0676012903642207e-05}. Best is trial 23 with value: 0.7903199735406974.\u001b[0m\n",
      "\u001b[32m[I 2023-05-03 00:39:57,438]\u001b[0m Trial 50 finished with value: 0.764316145530699 and parameters: {'n_layers': 2, 'n_units_1': 300, 'n_units_2': 300, 'anova__k': 1690, 'clf__epochs': 110, 'clf__batch_size': 64, 'clf__model__dropout': 0.43800000000000006, 'clf__optimizer__learning_rate': 2.6961756266603826e-05}. Best is trial 23 with value: 0.7903199735406974.\u001b[0m\n",
      "\u001b[32m[I 2023-05-03 00:41:50,248]\u001b[0m Trial 51 finished with value: 0.7867642203409976 and parameters: {'n_layers': 1, 'n_units_1': 300, 'anova__k': 1490, 'clf__epochs': 150, 'clf__batch_size': 64, 'clf__model__dropout': 0.562, 'clf__optimizer__learning_rate': 1.4104268561049807e-05}. Best is trial 23 with value: 0.7903199735406974.\u001b[0m\n",
      "\u001b[32m[I 2023-05-03 00:43:48,764]\u001b[0m Trial 52 finished with value: 0.7794407265219963 and parameters: {'n_layers': 1, 'n_units_1': 280, 'anova__k': 1420, 'clf__epochs': 150, 'clf__batch_size': 64, 'clf__model__dropout': 0.563, 'clf__optimizer__learning_rate': 1.520656203108259e-05}. Best is trial 23 with value: 0.7903199735406974.\u001b[0m\n",
      "\u001b[32m[I 2023-05-03 00:45:32,831]\u001b[0m Trial 53 finished with value: 0.7653085491229876 and parameters: {'n_layers': 1, 'n_units_1': 240, 'anova__k': 1270, 'clf__epochs': 130, 'clf__batch_size': 64, 'clf__model__dropout': 0.54, 'clf__optimizer__learning_rate': 1.582160619881072e-05}. Best is trial 23 with value: 0.7903199735406974.\u001b[0m\n",
      "\u001b[32m[I 2023-05-03 00:47:17,147]\u001b[0m Trial 54 finished with value: 0.7482886532912665 and parameters: {'n_layers': 1, 'n_units_1': 300, 'anova__k': 1010, 'clf__epochs': 140, 'clf__batch_size': 64, 'clf__model__dropout': 0.583, 'clf__optimizer__learning_rate': 2.7516765252244655e-05}. Best is trial 23 with value: 0.7903199735406974.\u001b[0m\n",
      "\u001b[32m[I 2023-05-03 00:47:27,468]\u001b[0m Trial 55 finished with value: 0.7526877081895388 and parameters: {'n_layers': 1, 'n_units_1': 260, 'anova__k': 1670, 'clf__epochs': 20, 'clf__batch_size': 128, 'clf__model__dropout': 0.378, 'clf__optimizer__learning_rate': 5.301523196035133e-05}. Best is trial 23 with value: 0.7903199735406974.\u001b[0m\n",
      "\u001b[32m[I 2023-05-03 00:49:22,241]\u001b[0m Trial 56 finished with value: 0.7575141156283252 and parameters: {'n_layers': 1, 'n_units_1': 140, 'anova__k': 920, 'clf__epochs': 150, 'clf__batch_size': 64, 'clf__model__dropout': 0.245, 'clf__optimizer__learning_rate': 1.3536603821190292e-05}. Best is trial 23 with value: 0.7903199735406974.\u001b[0m\n",
      "\u001b[32m[I 2023-05-03 00:51:04,069]\u001b[0m Trial 57 finished with value: 0.7779702970297029 and parameters: {'n_layers': 1, 'n_units_1': 300, 'anova__k': 1350, 'clf__epochs': 130, 'clf__batch_size': 64, 'clf__model__dropout': 0.515, 'clf__optimizer__learning_rate': 2.3486895009993234e-05}. Best is trial 23 with value: 0.7903199735406974.\u001b[0m\n",
      "\u001b[32m[I 2023-05-03 00:53:01,053]\u001b[0m Trial 58 finished with value: 0.7696766993774957 and parameters: {'n_layers': 1, 'n_units_1': 280, 'anova__k': 1070, 'clf__epochs': 150, 'clf__batch_size': 64, 'clf__model__dropout': 0.579, 'clf__optimizer__learning_rate': 3.88932477663396e-05}. Best is trial 23 with value: 0.7903199735406974.\u001b[0m\n",
      "\u001b[32m[I 2023-05-03 00:55:08,644]\u001b[0m Trial 59 finished with value: 0.7792144102482821 and parameters: {'n_layers': 1, 'n_units_1': 100, 'anova__k': 2530, 'clf__epochs': 140, 'clf__batch_size': 64, 'clf__model__dropout': 0.538, 'clf__optimizer__learning_rate': 0.0003889771961139606}. Best is trial 23 with value: 0.7903199735406974.\u001b[0m\n"
     ]
    }
   ],
   "source": [
    "study.optimize(objective, n_trials=20)"
   ]
  },
  {
   "cell_type": "markdown",
   "id": "3808a73e-3200-4411-abba-07ad902eba27",
   "metadata": {
    "id": "rPMCn7GolG8P"
   },
   "source": [
    "## Best Parameters"
   ]
  },
  {
   "cell_type": "code",
   "execution_count": 87,
   "id": "53fc5640-e67e-4871-ab80-e73a3c75186e",
   "metadata": {
    "colab": {
     "base_uri": "https://localhost:8080/"
    },
    "execution": {
     "iopub.execute_input": "2023-05-03T10:19:48.005111Z",
     "iopub.status.busy": "2023-05-03T10:19:48.004765Z",
     "iopub.status.idle": "2023-05-03T10:19:48.717884Z",
     "shell.execute_reply": "2023-05-03T10:19:48.716790Z",
     "shell.execute_reply.started": "2023-05-03T10:19:48.005092Z"
    },
    "executionInfo": {
     "elapsed": 174,
     "status": "ok",
     "timestamp": 1682711827757,
     "user": {
      "displayName": "Damir Zunic",
      "userId": "07104666280721646256"
     },
     "user_tz": 240
    },
    "id": "pcFYqAcakavV",
    "outputId": "164c3403-8b13-48a1-aaf0-967c8554bad9",
    "tags": []
   },
   "outputs": [
    {
     "name": "stdout",
     "output_type": "stream",
     "text": [
      "Number of finished trials: 60\n",
      "Best trial:\n",
      "  Value: 0.7903199735406974\n",
      "  Params: \n",
      "    n_layers: 1\n",
      "    n_units_1: 220\n",
      "    anova__k: 1060\n",
      "    clf__epochs: 150\n",
      "    clf__batch_size: 64\n",
      "    clf__model__dropout: 0.404\n",
      "    clf__optimizer__learning_rate: 1.7561118785998727e-05\n"
     ]
    }
   ],
   "source": [
    "print(f'Number of finished trials: {len(study.trials)}')\n",
    "print('Best trial:')\n",
    "trial = study.best_trial\n",
    "\n",
    "print(f'  Value: {trial.value}')\n",
    "print('  Params: ')\n",
    "\n",
    "for key, value in trial.params.items():\n",
    "    print(f'    {key}: {value}')"
   ]
  },
  {
   "cell_type": "markdown",
   "id": "2c407c33-8158-4f12-ad04-30a941da0bd0",
   "metadata": {
    "id": "wdBWzR64kavV"
   },
   "source": [
    "## Re-fit the model"
   ]
  },
  {
   "cell_type": "code",
   "execution_count": 88,
   "id": "0d36ae19-42c9-442f-ae1d-36bb9b71e5a9",
   "metadata": {
    "colab": {
     "base_uri": "https://localhost:8080/"
    },
    "execution": {
     "iopub.execute_input": "2023-05-03T10:19:57.135882Z",
     "iopub.status.busy": "2023-05-03T10:19:57.135536Z",
     "iopub.status.idle": "2023-05-03T10:19:57.204207Z",
     "shell.execute_reply": "2023-05-03T10:19:57.203087Z",
     "shell.execute_reply.started": "2023-05-03T10:19:57.135859Z"
    },
    "executionInfo": {
     "elapsed": 153,
     "status": "ok",
     "timestamp": 1682711839306,
     "user": {
      "displayName": "Damir Zunic",
      "userId": "07104666280721646256"
     },
     "user_tz": 240
    },
    "id": "0chjzXrXkavW",
    "outputId": "b2830790-1fac-465d-c730-75beb6cc3fc4",
    "tags": []
   },
   "outputs": [
    {
     "data": {
      "text/plain": [
       "{'n_layers': 1,\n",
       " 'n_units_1': 220,\n",
       " 'anova__k': 1060,\n",
       " 'clf__epochs': 150,\n",
       " 'clf__batch_size': 64,\n",
       " 'clf__model__dropout': 0.404,\n",
       " 'clf__optimizer__learning_rate': 1.7561118785998727e-05}"
      ]
     },
     "execution_count": 88,
     "metadata": {},
     "output_type": "execute_result"
    }
   ],
   "source": [
    "params_t = trial.params\n",
    "params_t"
   ]
  },
  {
   "cell_type": "code",
   "execution_count": 89,
   "id": "5365d167-cbf0-49b9-8af1-55923b61a29e",
   "metadata": {
    "execution": {
     "iopub.execute_input": "2023-05-03T10:20:10.833366Z",
     "iopub.status.busy": "2023-05-03T10:20:10.833087Z",
     "iopub.status.idle": "2023-05-03T10:20:10.839231Z",
     "shell.execute_reply": "2023-05-03T10:20:10.838461Z",
     "shell.execute_reply.started": "2023-05-03T10:20:10.833347Z"
    },
    "tags": []
   },
   "outputs": [
    {
     "data": {
      "text/plain": [
       "{'anova__k': 1060,\n",
       " 'clf__epochs': 150,\n",
       " 'clf__batch_size': 64,\n",
       " 'clf__model__dropout': 0.404,\n",
       " 'clf__optimizer__learning_rate': 1.7561118785998727e-05}"
      ]
     },
     "execution_count": 89,
     "metadata": {},
     "output_type": "execute_result"
    }
   ],
   "source": [
    "### params = {k:v for k,v in params_t.items() if k.startswith('clf')}\n",
    "params = {k:v for k,v in params_t.items() if '__' in k}\n",
    "params"
   ]
  },
  {
   "cell_type": "code",
   "execution_count": 90,
   "id": "46bb1867-54e4-43df-8c35-91e4bc81afb2",
   "metadata": {
    "execution": {
     "iopub.execute_input": "2023-05-03T10:20:17.427752Z",
     "iopub.status.busy": "2023-05-03T10:20:17.427479Z",
     "iopub.status.idle": "2023-05-03T10:20:17.435713Z",
     "shell.execute_reply": "2023-05-03T10:20:17.433963Z",
     "shell.execute_reply.started": "2023-05-03T10:20:17.427735Z"
    },
    "tags": []
   },
   "outputs": [
    {
     "data": {
      "text/plain": [
       "{'anova__k': 1060,\n",
       " 'clf__epochs': 150,\n",
       " 'clf__batch_size': 64,\n",
       " 'clf__model__dropout': 0.404,\n",
       " 'clf__optimizer__learning_rate': 1.7561118785998727e-05,\n",
       " 'clf__model__hidden_layer_sizes': (220,)}"
      ]
     },
     "execution_count": 90,
     "metadata": {},
     "output_type": "execute_result"
    }
   ],
   "source": [
    "# if 'n_units_2' in params_t:\n",
    "#     params['clf__model__hidden_layer_sizes'] = (params_t['n_units_1'], params_t['n_units_2'])\n",
    "# else:\n",
    "#     params['clf__model__hidden_layer_sizes'] = (params_t['n_units_1'],)\n",
    "    \n",
    "\n",
    "params['clf__model__hidden_layer_sizes'] = tuple([v for k,v in params_t.items() if 'n_units' in k])\n",
    "params"
   ]
  },
  {
   "cell_type": "code",
   "execution_count": 91,
   "id": "8d85181a-3e24-4f55-9235-7d1444115fd7",
   "metadata": {
    "execution": {
     "iopub.execute_input": "2023-05-03T10:20:24.278002Z",
     "iopub.status.busy": "2023-05-03T10:20:24.277720Z",
     "iopub.status.idle": "2023-05-03T10:22:21.230218Z",
     "shell.execute_reply": "2023-05-03T10:22:21.229432Z",
     "shell.execute_reply.started": "2023-05-03T10:20:24.277984Z"
    },
    "tags": []
   },
   "outputs": [
    {
     "data": {
      "text/html": [
       "<style>#sk-container-id-5 {color: black;background-color: white;}#sk-container-id-5 pre{padding: 0;}#sk-container-id-5 div.sk-toggleable {background-color: white;}#sk-container-id-5 label.sk-toggleable__label {cursor: pointer;display: block;width: 100%;margin-bottom: 0;padding: 0.3em;box-sizing: border-box;text-align: center;}#sk-container-id-5 label.sk-toggleable__label-arrow:before {content: \"▸\";float: left;margin-right: 0.25em;color: #696969;}#sk-container-id-5 label.sk-toggleable__label-arrow:hover:before {color: black;}#sk-container-id-5 div.sk-estimator:hover label.sk-toggleable__label-arrow:before {color: black;}#sk-container-id-5 div.sk-toggleable__content {max-height: 0;max-width: 0;overflow: hidden;text-align: left;background-color: #f0f8ff;}#sk-container-id-5 div.sk-toggleable__content pre {margin: 0.2em;color: black;border-radius: 0.25em;background-color: #f0f8ff;}#sk-container-id-5 input.sk-toggleable__control:checked~div.sk-toggleable__content {max-height: 200px;max-width: 100%;overflow: auto;}#sk-container-id-5 input.sk-toggleable__control:checked~label.sk-toggleable__label-arrow:before {content: \"▾\";}#sk-container-id-5 div.sk-estimator input.sk-toggleable__control:checked~label.sk-toggleable__label {background-color: #d4ebff;}#sk-container-id-5 div.sk-label input.sk-toggleable__control:checked~label.sk-toggleable__label {background-color: #d4ebff;}#sk-container-id-5 input.sk-hidden--visually {border: 0;clip: rect(1px 1px 1px 1px);clip: rect(1px, 1px, 1px, 1px);height: 1px;margin: -1px;overflow: hidden;padding: 0;position: absolute;width: 1px;}#sk-container-id-5 div.sk-estimator {font-family: monospace;background-color: #f0f8ff;border: 1px dotted black;border-radius: 0.25em;box-sizing: border-box;margin-bottom: 0.5em;}#sk-container-id-5 div.sk-estimator:hover {background-color: #d4ebff;}#sk-container-id-5 div.sk-parallel-item::after {content: \"\";width: 100%;border-bottom: 1px solid gray;flex-grow: 1;}#sk-container-id-5 div.sk-label:hover label.sk-toggleable__label {background-color: #d4ebff;}#sk-container-id-5 div.sk-serial::before {content: \"\";position: absolute;border-left: 1px solid gray;box-sizing: border-box;top: 0;bottom: 0;left: 50%;z-index: 0;}#sk-container-id-5 div.sk-serial {display: flex;flex-direction: column;align-items: center;background-color: white;padding-right: 0.2em;padding-left: 0.2em;position: relative;}#sk-container-id-5 div.sk-item {position: relative;z-index: 1;}#sk-container-id-5 div.sk-parallel {display: flex;align-items: stretch;justify-content: center;background-color: white;position: relative;}#sk-container-id-5 div.sk-item::before, #sk-container-id-5 div.sk-parallel-item::before {content: \"\";position: absolute;border-left: 1px solid gray;box-sizing: border-box;top: 0;bottom: 0;left: 50%;z-index: -1;}#sk-container-id-5 div.sk-parallel-item {display: flex;flex-direction: column;z-index: 1;position: relative;background-color: white;}#sk-container-id-5 div.sk-parallel-item:first-child::after {align-self: flex-end;width: 50%;}#sk-container-id-5 div.sk-parallel-item:last-child::after {align-self: flex-start;width: 50%;}#sk-container-id-5 div.sk-parallel-item:only-child::after {width: 0;}#sk-container-id-5 div.sk-dashed-wrapped {border: 1px dashed gray;margin: 0 0.4em 0.5em 0.4em;box-sizing: border-box;padding-bottom: 0.4em;background-color: white;}#sk-container-id-5 div.sk-label label {font-family: monospace;font-weight: bold;display: inline-block;line-height: 1.2em;}#sk-container-id-5 div.sk-label-container {text-align: center;}#sk-container-id-5 div.sk-container {/* jupyter's `normalize.less` sets `[hidden] { display: none; }` but bootstrap.min.css set `[hidden] { display: none !important; }` so we also need the `!important` here to be able to override the default hidden behavior on the sphinx rendered scikit-learn.org. See: https://github.com/scikit-learn/scikit-learn/issues/21755 */display: inline-block !important;position: relative;}#sk-container-id-5 div.sk-text-repr-fallback {display: none;}</style><div id=\"sk-container-id-5\" class=\"sk-top-container\"><div class=\"sk-text-repr-fallback\"><pre>Pipeline(steps=[(&#x27;scaler&#x27;, MinMaxScaler()), (&#x27;anova&#x27;, SelectKBest(k=1060)),\n",
       "                (&#x27;clf&#x27;,\n",
       "                 KerasClassifier(batch_size=64, epochs=150, loss=&#x27;binary_crossentropy&#x27;, model=&lt;function get_clf at 0x7f39054775b0&gt;, model__dropout=0.404, model__hidden_layer_sizes=(220,), optimizer=&#x27;adam&#x27;, optimizer__learning_rate=1.7561118785998727e-05, random_state=10, verbose=0))])</pre><b>In a Jupyter environment, please rerun this cell to show the HTML representation or trust the notebook. <br />On GitHub, the HTML representation is unable to render, please try loading this page with nbviewer.org.</b></div><div class=\"sk-container\" hidden><div class=\"sk-item sk-dashed-wrapped\"><div class=\"sk-label-container\"><div class=\"sk-label sk-toggleable\"><input class=\"sk-toggleable__control sk-hidden--visually\" id=\"sk-estimator-id-17\" type=\"checkbox\" ><label for=\"sk-estimator-id-17\" class=\"sk-toggleable__label sk-toggleable__label-arrow\">Pipeline</label><div class=\"sk-toggleable__content\"><pre>Pipeline(steps=[(&#x27;scaler&#x27;, MinMaxScaler()), (&#x27;anova&#x27;, SelectKBest(k=1060)),\n",
       "                (&#x27;clf&#x27;,\n",
       "                 KerasClassifier(batch_size=64, epochs=150, loss=&#x27;binary_crossentropy&#x27;, model=&lt;function get_clf at 0x7f39054775b0&gt;, model__dropout=0.404, model__hidden_layer_sizes=(220,), optimizer=&#x27;adam&#x27;, optimizer__learning_rate=1.7561118785998727e-05, random_state=10, verbose=0))])</pre></div></div></div><div class=\"sk-serial\"><div class=\"sk-item\"><div class=\"sk-estimator sk-toggleable\"><input class=\"sk-toggleable__control sk-hidden--visually\" id=\"sk-estimator-id-18\" type=\"checkbox\" ><label for=\"sk-estimator-id-18\" class=\"sk-toggleable__label sk-toggleable__label-arrow\">MinMaxScaler</label><div class=\"sk-toggleable__content\"><pre>MinMaxScaler()</pre></div></div></div><div class=\"sk-item\"><div class=\"sk-estimator sk-toggleable\"><input class=\"sk-toggleable__control sk-hidden--visually\" id=\"sk-estimator-id-19\" type=\"checkbox\" ><label for=\"sk-estimator-id-19\" class=\"sk-toggleable__label sk-toggleable__label-arrow\">SelectKBest</label><div class=\"sk-toggleable__content\"><pre>SelectKBest(k=1060)</pre></div></div></div><div class=\"sk-item\"><div class=\"sk-estimator sk-toggleable\"><input class=\"sk-toggleable__control sk-hidden--visually\" id=\"sk-estimator-id-20\" type=\"checkbox\" ><label for=\"sk-estimator-id-20\" class=\"sk-toggleable__label sk-toggleable__label-arrow\">KerasClassifier</label><div class=\"sk-toggleable__content\"><pre>KerasClassifier(\n",
       "\tmodel=&lt;function get_clf at 0x7f39054775b0&gt;\n",
       "\tbuild_fn=None\n",
       "\twarm_start=False\n",
       "\trandom_state=10\n",
       "\toptimizer=adam\n",
       "\tloss=binary_crossentropy\n",
       "\tmetrics=None\n",
       "\tbatch_size=64\n",
       "\tvalidation_batch_size=None\n",
       "\tverbose=0\n",
       "\tcallbacks=None\n",
       "\tvalidation_split=0.0\n",
       "\tshuffle=True\n",
       "\trun_eagerly=False\n",
       "\tepochs=150\n",
       "\tmodel__hidden_layer_sizes=(220,)\n",
       "\tmodel__dropout=0.404\n",
       "\toptimizer__learning_rate=1.7561118785998727e-05\n",
       "\tclass_weight=None\n",
       ")</pre></div></div></div></div></div></div></div>"
      ],
      "text/plain": [
       "Pipeline(steps=[('scaler', MinMaxScaler()), ('anova', SelectKBest(k=1060)),\n",
       "                ('clf',\n",
       "                 KerasClassifier(batch_size=64, epochs=150, loss='binary_crossentropy', model=<function get_clf at 0x7f39054775b0>, model__dropout=0.404, model__hidden_layer_sizes=(220,), optimizer='adam', optimizer__learning_rate=1.7561118785998727e-05, random_state=10, verbose=0))])"
      ]
     },
     "execution_count": 91,
     "metadata": {},
     "output_type": "execute_result"
    }
   ],
   "source": [
    "pipe.set_params(**params)\n",
    "    ## model = SVC(**params, kernel='linear', random_state=random_state)\n",
    "pipe.fit(X_train, y_train)"
   ]
  },
  {
   "cell_type": "code",
   "execution_count": 76,
   "id": "a890cd48-6578-4d6e-a0ef-70a8e9d27816",
   "metadata": {
    "colab": {
     "base_uri": "https://localhost:8080/"
    },
    "execution": {
     "iopub.execute_input": "2023-05-03T03:34:39.393693Z",
     "iopub.status.busy": "2023-05-03T03:34:39.393403Z",
     "iopub.status.idle": "2023-05-03T03:34:40.352959Z",
     "shell.execute_reply": "2023-05-03T03:34:40.351775Z",
     "shell.execute_reply.started": "2023-05-03T03:34:39.393672Z"
    },
    "executionInfo": {
     "elapsed": 213,
     "status": "ok",
     "timestamp": 1682617792838,
     "user": {
      "displayName": "Damir Zunic",
      "userId": "07104666280721646256"
     },
     "user_tz": 240
    },
    "id": "LbF9DeztkavX",
    "outputId": "c5f58508-4df3-4877-aea7-154111dacd89",
    "tags": []
   },
   "outputs": [
    {
     "name": "stdout",
     "output_type": "stream",
     "text": [
      "INFO:tensorflow:Assets written to: ram://acb41987204b419db9836fdaeb5e4d75/assets\n"
     ]
    },
    {
     "data": {
      "text/plain": [
       "['./saved_models/batch_4_stack/nn_anova_t_1.pkl']"
      ]
     },
     "execution_count": 76,
     "metadata": {},
     "output_type": "execute_result"
    }
   ],
   "source": [
    "# Save the model\n",
    "# joblib.dump(mlp, '/content/drive/MyDrive/Omdena/Team1/saved_models/batch_4_stack/nn_pca_1.pkl')\n",
    "joblib.dump(pipe, './saved_models/batch_4_stack/nn_anova_t_1.pkl')"
   ]
  },
  {
   "cell_type": "code",
   "execution_count": 92,
   "id": "1c69f5f3-7b53-4787-b0bc-57448b0e3d0c",
   "metadata": {
    "execution": {
     "iopub.execute_input": "2023-05-03T10:22:54.417264Z",
     "iopub.status.busy": "2023-05-03T10:22:54.416978Z",
     "iopub.status.idle": "2023-05-03T10:22:54.439186Z",
     "shell.execute_reply": "2023-05-03T10:22:54.438176Z",
     "shell.execute_reply.started": "2023-05-03T10:22:54.417244Z"
    },
    "tags": []
   },
   "outputs": [
    {
     "name": "stdout",
     "output_type": "stream",
     "text": [
      "Model: \"sequential_204\"\n",
      "_________________________________________________________________\n",
      " Layer (type)                Output Shape              Param #   \n",
      "=================================================================\n",
      " dense_686 (Dense)           (None, 1060)              1124660   \n",
      "                                                                 \n",
      " dense_687 (Dense)           (None, 220)               233420    \n",
      "                                                                 \n",
      " dropout_278 (Dropout)       (None, 220)               0         \n",
      "                                                                 \n",
      " dense_688 (Dense)           (None, 1)                 221       \n",
      "                                                                 \n",
      "=================================================================\n",
      "Total params: 1,358,301\n",
      "Trainable params: 1,358,301\n",
      "Non-trainable params: 0\n",
      "_________________________________________________________________\n"
     ]
    }
   ],
   "source": [
    "pipe['clf'].model_.summary()"
   ]
  },
  {
   "cell_type": "code",
   "execution_count": 93,
   "id": "ddff5b61-efa8-4107-af5f-351a589d3078",
   "metadata": {
    "execution": {
     "iopub.execute_input": "2023-05-03T10:23:13.029318Z",
     "iopub.status.busy": "2023-05-03T10:23:13.029022Z",
     "iopub.status.idle": "2023-05-03T10:23:13.305539Z",
     "shell.execute_reply": "2023-05-03T10:23:13.304669Z",
     "shell.execute_reply.started": "2023-05-03T10:23:13.029297Z"
    },
    "id": "wu6udS__kavX",
    "tags": []
   },
   "outputs": [],
   "source": [
    "y_pred = pipe.predict(X_test)"
   ]
  },
  {
   "cell_type": "code",
   "execution_count": 94,
   "id": "15bbba9a-f587-4270-8569-e1be9c81a1eb",
   "metadata": {
    "colab": {
     "base_uri": "https://localhost:8080/"
    },
    "execution": {
     "iopub.execute_input": "2023-05-03T10:23:16.467927Z",
     "iopub.status.busy": "2023-05-03T10:23:16.467631Z",
     "iopub.status.idle": "2023-05-03T10:23:16.474209Z",
     "shell.execute_reply": "2023-05-03T10:23:16.473258Z",
     "shell.execute_reply.started": "2023-05-03T10:23:16.467907Z"
    },
    "executionInfo": {
     "elapsed": 312,
     "status": "ok",
     "timestamp": 1682712246169,
     "user": {
      "displayName": "Damir Zunic",
      "userId": "07104666280721646256"
     },
     "user_tz": 240
    },
    "id": "hbTv01iskavX",
    "outputId": "bcbc4bcd-6492-4e64-c009-a4ff56941dcc",
    "tags": []
   },
   "outputs": [
    {
     "name": "stdout",
     "output_type": "stream",
     "text": [
      "Accuracy after tuning: 86.90\n"
     ]
    }
   ],
   "source": [
    "accuracy = accuracy_score(y_test, y_pred)\n",
    "print(f'Accuracy after tuning: {accuracy * 100.0:.2f}')"
   ]
  },
  {
   "cell_type": "code",
   "execution_count": 95,
   "id": "0c5c5dbf-d696-49e0-b593-c046c836270c",
   "metadata": {
    "colab": {
     "base_uri": "https://localhost:8080/"
    },
    "execution": {
     "iopub.execute_input": "2023-05-03T10:23:27.648669Z",
     "iopub.status.busy": "2023-05-03T10:23:27.648392Z",
     "iopub.status.idle": "2023-05-03T10:23:28.900441Z",
     "shell.execute_reply": "2023-05-03T10:23:28.899584Z",
     "shell.execute_reply.started": "2023-05-03T10:23:27.648649Z"
    },
    "executionInfo": {
     "elapsed": 652,
     "status": "ok",
     "timestamp": 1682712256130,
     "user": {
      "displayName": "Damir Zunic",
      "userId": "07104666280721646256"
     },
     "user_tz": 240
    },
    "id": "kfP1WnUfkavY",
    "outputId": "7f45f46e-dbe1-4735-f46f-74ff470c0152",
    "tags": []
   },
   "outputs": [
    {
     "name": "stdout",
     "output_type": "stream",
     "text": [
      "Training Data Score: 0.992867332382311\n",
      "Testing Data Score: 0.8690078037904125\n"
     ]
    }
   ],
   "source": [
    "# Compare training and testing scores\n",
    "print(f\"Training Data Score: {pipe.score(X_train, y_train)}\")\n",
    "print(f\"Testing Data Score: {pipe.score(X_test, y_test)}\")"
   ]
  },
  {
   "cell_type": "code",
   "execution_count": 96,
   "id": "d15edf4a-c5b6-49ab-becf-d21dbf6e2935",
   "metadata": {
    "colab": {
     "base_uri": "https://localhost:8080/"
    },
    "execution": {
     "iopub.execute_input": "2023-05-03T10:23:32.692699Z",
     "iopub.status.busy": "2023-05-03T10:23:32.692423Z",
     "iopub.status.idle": "2023-05-03T10:23:32.700157Z",
     "shell.execute_reply": "2023-05-03T10:23:32.698965Z",
     "shell.execute_reply.started": "2023-05-03T10:23:32.692680Z"
    },
    "executionInfo": {
     "elapsed": 158,
     "status": "ok",
     "timestamp": 1682712268450,
     "user": {
      "displayName": "Damir Zunic",
      "userId": "07104666280721646256"
     },
     "user_tz": 240
    },
    "id": "3-5Gg07lkavY",
    "outputId": "3fe6244e-b1fe-48a2-e887-b7d33b70c773",
    "tags": []
   },
   "outputs": [
    {
     "name": "stdout",
     "output_type": "stream",
     "text": [
      "[[ 230  109]\n",
      " [ 126 1329]]\n"
     ]
    }
   ],
   "source": [
    "cm = confusion_matrix(y_test, y_pred)\n",
    "print(cm)"
   ]
  },
  {
   "cell_type": "code",
   "execution_count": 97,
   "id": "deecd976-716a-40e3-a323-732576d25e52",
   "metadata": {
    "colab": {
     "base_uri": "https://localhost:8080/",
     "height": 315
    },
    "execution": {
     "iopub.execute_input": "2023-05-03T10:23:42.988047Z",
     "iopub.status.busy": "2023-05-03T10:23:42.987740Z",
     "iopub.status.idle": "2023-05-03T10:23:43.396930Z",
     "shell.execute_reply": "2023-05-03T10:23:43.396099Z",
     "shell.execute_reply.started": "2023-05-03T10:23:42.988025Z"
    },
    "executionInfo": {
     "elapsed": 1309,
     "status": "ok",
     "timestamp": 1682712278412,
     "user": {
      "displayName": "Damir Zunic",
      "userId": "07104666280721646256"
     },
     "user_tz": 240
    },
    "id": "yAEszP3ikavY",
    "outputId": "7ecea9cd-5234-4237-eca2-360e5a138c82",
    "tags": []
   },
   "outputs": [
    {
     "data": {
      "image/png": "[encoded data removed]",
      "text/plain": [
       "<Figure size 864x288 with 4 Axes>"
      ]
     },
     "metadata": {},
     "output_type": "display_data"
    }
   ],
   "source": [
    "# Plot confusion matrix and its normalized version.\n",
    "mu.plot_cm_unnorm_and_norm('Neural Network - ANOVA tuned #1', y_test, y_pred, target_names, 'Reds')"
   ]
  },
  {
   "cell_type": "code",
   "execution_count": 98,
   "id": "ea057c12-ffa7-407b-9247-d4e887e60531",
   "metadata": {
    "colab": {
     "base_uri": "https://localhost:8080/"
    },
    "execution": {
     "iopub.execute_input": "2023-05-03T10:23:58.282516Z",
     "iopub.status.busy": "2023-05-03T10:23:58.282170Z",
     "iopub.status.idle": "2023-05-03T10:23:58.299687Z",
     "shell.execute_reply": "2023-05-03T10:23:58.298475Z",
     "shell.execute_reply.started": "2023-05-03T10:23:58.282495Z"
    },
    "executionInfo": {
     "elapsed": 194,
     "status": "ok",
     "timestamp": 1682712298538,
     "user": {
      "displayName": "Damir Zunic",
      "userId": "07104666280721646256"
     },
     "user_tz": 240
    },
    "id": "nRKz3IplkavY",
    "outputId": "20121d11-d163-4d2d-cf8d-4ba3e2c560ce",
    "tags": []
   },
   "outputs": [
    {
     "name": "stdout",
     "output_type": "stream",
     "text": [
      "              precision    recall  f1-score   support\n",
      "\n",
      "         hem       0.65      0.68      0.66       339\n",
      "         all       0.92      0.91      0.92      1455\n",
      "\n",
      "    accuracy                           0.87      1794\n",
      "   macro avg       0.79      0.80      0.79      1794\n",
      "weighted avg       0.87      0.87      0.87      1794\n",
      "\n"
     ]
    }
   ],
   "source": [
    "print(classification_report(y_test, y_pred, target_names=target_names))"
   ]
  },
  {
   "cell_type": "markdown",
   "id": "545217be-5182-43d1-bdef-7de8baec0d6a",
   "metadata": {},
   "source": [
    "# The Best Models"
   ]
  },
  {
   "cell_type": "markdown",
   "id": "68179278-9c03-4e90-821d-05f59fd0c021",
   "metadata": {},
   "source": [
    "### Classifier"
   ]
  },
  {
   "cell_type": "code",
   "execution_count": 177,
   "id": "3ed70741-67cb-4f0d-9108-b57b9ae7d384",
   "metadata": {
    "execution": {
     "iopub.execute_input": "2023-05-05T23:26:26.269249Z",
     "iopub.status.busy": "2023-05-05T23:26:26.268989Z",
     "iopub.status.idle": "2023-05-05T23:26:26.273716Z",
     "shell.execute_reply": "2023-05-05T23:26:26.272789Z",
     "shell.execute_reply.started": "2023-05-05T23:26:26.269231Z"
    },
    "tags": []
   },
   "outputs": [],
   "source": [
    "clf = KerasClassifier(\n",
    "    model=km.get_clf,\n",
    "    loss=\"binary_crossentropy\",\n",
    "    model__hidden_layer_sizes=(10, 10),\n",
    "    model__dropout=0.5,\n",
    "    batch_size=64,\n",
    "    optimizer='adam',\n",
    "    optimizer__learning_rate=0.0001,\n",
    "    epochs=100,\n",
    "    verbose=0,\n",
    "    # callbacks=EarlyStopping,\n",
    "    # callbacks__monitor=\"loss\",\n",
    "    # callbacks__patience=5,\n",
    "    random_state=random_state,  \n",
    ")"
   ]
  },
  {
   "cell_type": "markdown",
   "id": "2b0f2f37-12ad-4aaa-b1b5-6ae20c21527d",
   "metadata": {},
   "source": [
    "### Pipeline"
   ]
  },
  {
   "cell_type": "code",
   "execution_count": 178,
   "id": "f548e9c9-3886-4ca3-a86f-c282d226ad5d",
   "metadata": {
    "execution": {
     "iopub.execute_input": "2023-05-05T23:26:29.047571Z",
     "iopub.status.busy": "2023-05-05T23:26:29.047317Z",
     "iopub.status.idle": "2023-05-05T23:26:29.052083Z",
     "shell.execute_reply": "2023-05-05T23:26:29.051079Z",
     "shell.execute_reply.started": "2023-05-05T23:26:29.047552Z"
    },
    "tags": []
   },
   "outputs": [],
   "source": [
    "# Define model with pipeline\n",
    "num_pca_components = 1000\n",
    "pipe = Pipeline(\n",
    "    steps = (\n",
    "        ('scaler', MinMaxScaler()),\n",
    "        ('pca', PCA(num_pca_components, random_state=random_state)),\n",
    "        ('clf', clf)\n",
    "    )\n",
    ")"
   ]
  },
  {
   "cell_type": "markdown",
   "id": "3d0837e8-5015-49f1-8172-de2bdc580678",
   "metadata": {},
   "source": [
    " ## Model nn_pca_2"
   ]
  },
  {
   "cell_type": "markdown",
   "id": "5e7a2102-1d80-4174-87b8-12cb55fedf22",
   "metadata": {},
   "source": [
    "- Previously saved models can not be restored\n",
    "- Piped models created with scikeras have to be stored differently, see below\n",
    "- we will recreate the best performing models using their tuned hyperparameters (saved in the text doc)\n"
   ]
  },
  {
   "cell_type": "markdown",
   "id": "9a6cf201-ad2b-42d8-bb16-b602e4d2c0cf",
   "metadata": {},
   "source": [
    "### Function to save piped scikeras model"
   ]
  },
  {
   "cell_type": "code",
   "execution_count": 149,
   "id": "38ae72ce-1d37-47db-818e-2b32f9465db8",
   "metadata": {
    "execution": {
     "iopub.execute_input": "2023-05-05T22:35:16.422562Z",
     "iopub.status.busy": "2023-05-05T22:35:16.422319Z",
     "iopub.status.idle": "2023-05-05T22:35:16.427409Z",
     "shell.execute_reply": "2023-05-05T22:35:16.426481Z",
     "shell.execute_reply.started": "2023-05-05T22:35:16.422546Z"
    },
    "tags": []
   },
   "outputs": [],
   "source": [
    "# Function to save piped scikeras model\n",
    "def save_piped_model(model, model_name, step, folder):\n",
    "    import os\n",
    "    path_keras = os.path.join(folder, f\"{model_name}_keras.h5\")\n",
    "    path_pipe = os.path.join(folder, f\"{model_name}_pipeline.sav\")\n",
    "    \n",
    "    # Save the Keras model first\n",
    "    model.named_steps[step].model_.save(path_keras)\n",
    "    # This hack allows us to save the pipeline\n",
    "    model.named_steps[step].model_ = None\n",
    "    # Save the pipeline\n",
    "    joblib.dump(model, path_pipe)"
   ]
  },
  {
   "cell_type": "markdown",
   "id": "ea03f59d-abcd-4ef3-83ea-b926bf1a86bc",
   "metadata": {},
   "source": [
    "### Function to load piped scikeras model"
   ]
  },
  {
   "cell_type": "code",
   "execution_count": 150,
   "id": "75ad1a1a-3c90-4589-9ed3-f35962bc0c6b",
   "metadata": {
    "execution": {
     "iopub.execute_input": "2023-05-05T22:35:17.420737Z",
     "iopub.status.busy": "2023-05-05T22:35:17.420481Z",
     "iopub.status.idle": "2023-05-05T22:35:17.425608Z",
     "shell.execute_reply": "2023-05-05T22:35:17.424807Z",
     "shell.execute_reply.started": "2023-05-05T22:35:17.420719Z"
    },
    "tags": []
   },
   "outputs": [],
   "source": [
    "# Function to load piped scikeras model\n",
    "def load_piped_model(model_name, step, folder):\n",
    "    import os\n",
    "    from tensorflow.keras.models import load_model\n",
    "    path_keras = os.path.join(folder, f\"{model_name}_keras.h5\")\n",
    "    path_pipe = os.path.join(folder, f\"{model_name}_pipeline.sav\")\n",
    "    \n",
    "    # Load the pipeline first\n",
    "    loaded_model = joblib.load(path_pipe)\n",
    "    # Then, load the Keras model\n",
    "    loaded_model.named_steps[step].model_ = load_model(path_keras)\n",
    "    return loaded_model"
   ]
  },
  {
   "cell_type": "markdown",
   "id": "40c44ed1-3cd7-4bc4-bbff-f84678715a1d",
   "metadata": {},
   "source": [
    "- This run was the best, but the repeated runs varied because I forgot to add random state in PCA step.\n",
    "- All hyperparameter tuning in this notebook was done without random seed in the PCA step"
   ]
  },
  {
   "cell_type": "code",
   "execution_count": 158,
   "id": "c7306fc5-5dde-4eca-8d05-8f67ba2c5a3a",
   "metadata": {
    "execution": {
     "iopub.execute_input": "2023-05-05T23:08:27.147761Z",
     "iopub.status.busy": "2023-05-05T23:08:27.147490Z",
     "iopub.status.idle": "2023-05-05T23:08:27.152129Z",
     "shell.execute_reply": "2023-05-05T23:08:27.151053Z",
     "shell.execute_reply.started": "2023-05-05T23:08:27.147742Z"
    },
    "tags": []
   },
   "outputs": [],
   "source": [
    "params = {'clf__epochs': 100,\n",
    " 'clf__batch_size': 128,\n",
    " 'clf__model__dropout': 0.4,\n",
    " 'clf__optimizer__learning_rate': 0.0005366554542437141,\n",
    " 'clf__model__hidden_layer_sizes': (40, 240)}\n"
   ]
  },
  {
   "cell_type": "code",
   "execution_count": 146,
   "id": "389e88ce-cb55-4567-b2ea-a2fb29101f39",
   "metadata": {
    "execution": {
     "iopub.execute_input": "2023-05-05T22:33:05.549579Z",
     "iopub.status.busy": "2023-05-05T22:33:05.549319Z",
     "iopub.status.idle": "2023-05-05T22:33:55.210764Z",
     "shell.execute_reply": "2023-05-05T22:33:55.210103Z",
     "shell.execute_reply.started": "2023-05-05T22:33:05.549560Z"
    },
    "tags": []
   },
   "outputs": [],
   "source": [
    "pipe.set_params(**params)\n",
    "    ## model = SVC(**params, kernel='linear', random_state=random_state)\n",
    "nn_pca_2 = pipe.fit(X_train, y_train)"
   ]
  },
  {
   "cell_type": "code",
   "execution_count": 147,
   "id": "ddefbfa1-56ae-4bf7-b698-2f8d0018004e",
   "metadata": {
    "execution": {
     "iopub.execute_input": "2023-05-05T22:34:01.269797Z",
     "iopub.status.busy": "2023-05-05T22:34:01.269539Z",
     "iopub.status.idle": "2023-05-05T22:34:01.280399Z",
     "shell.execute_reply": "2023-05-05T22:34:01.279290Z",
     "shell.execute_reply.started": "2023-05-05T22:34:01.269780Z"
    },
    "tags": []
   },
   "outputs": [
    {
     "data": {
      "text/html": [
       "<style>#sk-container-id-14 {color: black;background-color: white;}#sk-container-id-14 pre{padding: 0;}#sk-container-id-14 div.sk-toggleable {background-color: white;}#sk-container-id-14 label.sk-toggleable__label {cursor: pointer;display: block;width: 100%;margin-bottom: 0;padding: 0.3em;box-sizing: border-box;text-align: center;}#sk-container-id-14 label.sk-toggleable__label-arrow:before {content: \"▸\";float: left;margin-right: 0.25em;color: #696969;}#sk-container-id-14 label.sk-toggleable__label-arrow:hover:before {color: black;}#sk-container-id-14 div.sk-estimator:hover label.sk-toggleable__label-arrow:before {color: black;}#sk-container-id-14 div.sk-toggleable__content {max-height: 0;max-width: 0;overflow: hidden;text-align: left;background-color: #f0f8ff;}#sk-container-id-14 div.sk-toggleable__content pre {margin: 0.2em;color: black;border-radius: 0.25em;background-color: #f0f8ff;}#sk-container-id-14 input.sk-toggleable__control:checked~div.sk-toggleable__content {max-height: 200px;max-width: 100%;overflow: auto;}#sk-container-id-14 input.sk-toggleable__control:checked~label.sk-toggleable__label-arrow:before {content: \"▾\";}#sk-container-id-14 div.sk-estimator input.sk-toggleable__control:checked~label.sk-toggleable__label {background-color: #d4ebff;}#sk-container-id-14 div.sk-label input.sk-toggleable__control:checked~label.sk-toggleable__label {background-color: #d4ebff;}#sk-container-id-14 input.sk-hidden--visually {border: 0;clip: rect(1px 1px 1px 1px);clip: rect(1px, 1px, 1px, 1px);height: 1px;margin: -1px;overflow: hidden;padding: 0;position: absolute;width: 1px;}#sk-container-id-14 div.sk-estimator {font-family: monospace;background-color: #f0f8ff;border: 1px dotted black;border-radius: 0.25em;box-sizing: border-box;margin-bottom: 0.5em;}#sk-container-id-14 div.sk-estimator:hover {background-color: #d4ebff;}#sk-container-id-14 div.sk-parallel-item::after {content: \"\";width: 100%;border-bottom: 1px solid gray;flex-grow: 1;}#sk-container-id-14 div.sk-label:hover label.sk-toggleable__label {background-color: #d4ebff;}#sk-container-id-14 div.sk-serial::before {content: \"\";position: absolute;border-left: 1px solid gray;box-sizing: border-box;top: 0;bottom: 0;left: 50%;z-index: 0;}#sk-container-id-14 div.sk-serial {display: flex;flex-direction: column;align-items: center;background-color: white;padding-right: 0.2em;padding-left: 0.2em;position: relative;}#sk-container-id-14 div.sk-item {position: relative;z-index: 1;}#sk-container-id-14 div.sk-parallel {display: flex;align-items: stretch;justify-content: center;background-color: white;position: relative;}#sk-container-id-14 div.sk-item::before, #sk-container-id-14 div.sk-parallel-item::before {content: \"\";position: absolute;border-left: 1px solid gray;box-sizing: border-box;top: 0;bottom: 0;left: 50%;z-index: -1;}#sk-container-id-14 div.sk-parallel-item {display: flex;flex-direction: column;z-index: 1;position: relative;background-color: white;}#sk-container-id-14 div.sk-parallel-item:first-child::after {align-self: flex-end;width: 50%;}#sk-container-id-14 div.sk-parallel-item:last-child::after {align-self: flex-start;width: 50%;}#sk-container-id-14 div.sk-parallel-item:only-child::after {width: 0;}#sk-container-id-14 div.sk-dashed-wrapped {border: 1px dashed gray;margin: 0 0.4em 0.5em 0.4em;box-sizing: border-box;padding-bottom: 0.4em;background-color: white;}#sk-container-id-14 div.sk-label label {font-family: monospace;font-weight: bold;display: inline-block;line-height: 1.2em;}#sk-container-id-14 div.sk-label-container {text-align: center;}#sk-container-id-14 div.sk-container {/* jupyter's `normalize.less` sets `[hidden] { display: none; }` but bootstrap.min.css set `[hidden] { display: none !important; }` so we also need the `!important` here to be able to override the default hidden behavior on the sphinx rendered scikit-learn.org. See: https://github.com/scikit-learn/scikit-learn/issues/21755 */display: inline-block !important;position: relative;}#sk-container-id-14 div.sk-text-repr-fallback {display: none;}</style><div id=\"sk-container-id-14\" class=\"sk-top-container\"><div class=\"sk-text-repr-fallback\"><pre>Pipeline(steps=[(&#x27;scaler&#x27;, MinMaxScaler()),\n",
       "                (&#x27;pca&#x27;, PCA(n_components=1000, random_state=10)),\n",
       "                (&#x27;clf&#x27;,\n",
       "                 KerasClassifier(batch_size=128, epochs=100, loss=&#x27;binary_crossentropy&#x27;, model=&lt;function get_clf at 0x7fec4a2bfbe0&gt;, model__dropout=0.4, model__hidden_layer_sizes=(40, 240), optimizer=&#x27;adam&#x27;, optimizer__learning_rate=0.0005366554542437141, random_state=10, verbose=0))])</pre><b>In a Jupyter environment, please rerun this cell to show the HTML representation or trust the notebook. <br />On GitHub, the HTML representation is unable to render, please try loading this page with nbviewer.org.</b></div><div class=\"sk-container\" hidden><div class=\"sk-item sk-dashed-wrapped\"><div class=\"sk-label-container\"><div class=\"sk-label sk-toggleable\"><input class=\"sk-toggleable__control sk-hidden--visually\" id=\"sk-estimator-id-47\" type=\"checkbox\" ><label for=\"sk-estimator-id-47\" class=\"sk-toggleable__label sk-toggleable__label-arrow\">Pipeline</label><div class=\"sk-toggleable__content\"><pre>Pipeline(steps=[(&#x27;scaler&#x27;, MinMaxScaler()),\n",
       "                (&#x27;pca&#x27;, PCA(n_components=1000, random_state=10)),\n",
       "                (&#x27;clf&#x27;,\n",
       "                 KerasClassifier(batch_size=128, epochs=100, loss=&#x27;binary_crossentropy&#x27;, model=&lt;function get_clf at 0x7fec4a2bfbe0&gt;, model__dropout=0.4, model__hidden_layer_sizes=(40, 240), optimizer=&#x27;adam&#x27;, optimizer__learning_rate=0.0005366554542437141, random_state=10, verbose=0))])</pre></div></div></div><div class=\"sk-serial\"><div class=\"sk-item\"><div class=\"sk-estimator sk-toggleable\"><input class=\"sk-toggleable__control sk-hidden--visually\" id=\"sk-estimator-id-48\" type=\"checkbox\" ><label for=\"sk-estimator-id-48\" class=\"sk-toggleable__label sk-toggleable__label-arrow\">MinMaxScaler</label><div class=\"sk-toggleable__content\"><pre>MinMaxScaler()</pre></div></div></div><div class=\"sk-item\"><div class=\"sk-estimator sk-toggleable\"><input class=\"sk-toggleable__control sk-hidden--visually\" id=\"sk-estimator-id-49\" type=\"checkbox\" ><label for=\"sk-estimator-id-49\" class=\"sk-toggleable__label sk-toggleable__label-arrow\">PCA</label><div class=\"sk-toggleable__content\"><pre>PCA(n_components=1000, random_state=10)</pre></div></div></div><div class=\"sk-item\"><div class=\"sk-estimator sk-toggleable\"><input class=\"sk-toggleable__control sk-hidden--visually\" id=\"sk-estimator-id-50\" type=\"checkbox\" ><label for=\"sk-estimator-id-50\" class=\"sk-toggleable__label sk-toggleable__label-arrow\">KerasClassifier</label><div class=\"sk-toggleable__content\"><pre>KerasClassifier(\n",
       "\tmodel=&lt;function get_clf at 0x7fec4a2bfbe0&gt;\n",
       "\tbuild_fn=None\n",
       "\twarm_start=False\n",
       "\trandom_state=10\n",
       "\toptimizer=adam\n",
       "\tloss=binary_crossentropy\n",
       "\tmetrics=None\n",
       "\tbatch_size=128\n",
       "\tvalidation_batch_size=None\n",
       "\tverbose=0\n",
       "\tcallbacks=None\n",
       "\tvalidation_split=0.0\n",
       "\tshuffle=True\n",
       "\trun_eagerly=False\n",
       "\tepochs=100\n",
       "\tmodel__hidden_layer_sizes=(40, 240)\n",
       "\tmodel__dropout=0.4\n",
       "\toptimizer__learning_rate=0.0005366554542437141\n",
       "\tclass_weight=None\n",
       ")</pre></div></div></div></div></div></div></div>"
      ],
      "text/plain": [
       "Pipeline(steps=[('scaler', MinMaxScaler()),\n",
       "                ('pca', PCA(n_components=1000, random_state=10)),\n",
       "                ('clf',\n",
       "                 KerasClassifier(batch_size=128, epochs=100, loss='binary_crossentropy', model=<function get_clf at 0x7fec4a2bfbe0>, model__dropout=0.4, model__hidden_layer_sizes=(40, 240), optimizer='adam', optimizer__learning_rate=0.0005366554542437141, random_state=10, verbose=0))])"
      ]
     },
     "execution_count": 147,
     "metadata": {},
     "output_type": "execute_result"
    }
   ],
   "source": [
    "nn_pca_2"
   ]
  },
  {
   "cell_type": "code",
   "execution_count": 148,
   "id": "681f9eac-4825-42ff-9a2e-a51a9faebadd",
   "metadata": {
    "execution": {
     "iopub.execute_input": "2023-05-05T22:34:10.892162Z",
     "iopub.status.busy": "2023-05-05T22:34:10.891878Z",
     "iopub.status.idle": "2023-05-05T22:34:11.291287Z",
     "shell.execute_reply": "2023-05-05T22:34:11.290247Z",
     "shell.execute_reply.started": "2023-05-05T22:34:10.892142Z"
    },
    "tags": []
   },
   "outputs": [
    {
     "data": {
      "text/plain": [
       "(1794,)"
      ]
     },
     "execution_count": 148,
     "metadata": {},
     "output_type": "execute_result"
    }
   ],
   "source": [
    "# Make predictions with the hypertuned model\n",
    "y_pred = nn_pca_2.predict(X_test)"
   ]
  },
  {
   "cell_type": "code",
   "execution_count": 25,
   "id": "49a57993-8db5-4b5d-a14e-c4200dbf940b",
   "metadata": {
    "execution": {
     "iopub.execute_input": "2023-05-05T18:45:45.919383Z",
     "iopub.status.busy": "2023-05-05T18:45:45.919103Z",
     "iopub.status.idle": "2023-05-05T18:45:45.926426Z",
     "shell.execute_reply": "2023-05-05T18:45:45.925626Z",
     "shell.execute_reply.started": "2023-05-05T18:45:45.919362Z"
    },
    "tags": []
   },
   "outputs": [
    {
     "data": {
      "text/plain": [
       "0.8355629877369007"
      ]
     },
     "execution_count": 25,
     "metadata": {},
     "output_type": "execute_result"
    }
   ],
   "source": [
    "accuracy_score(y_test, y_pred)"
   ]
  },
  {
   "cell_type": "code",
   "execution_count": 26,
   "id": "2e885602-0f6e-4432-9362-579c24b6d472",
   "metadata": {
    "execution": {
     "iopub.execute_input": "2023-05-05T18:45:49.238571Z",
     "iopub.status.busy": "2023-05-05T18:45:49.238298Z",
     "iopub.status.idle": "2023-05-05T18:45:49.245072Z",
     "shell.execute_reply": "2023-05-05T18:45:49.244253Z",
     "shell.execute_reply.started": "2023-05-05T18:45:49.238552Z"
    },
    "tags": []
   },
   "outputs": [
    {
     "name": "stdout",
     "output_type": "stream",
     "text": [
      "[[ 268   71]\n",
      " [ 224 1231]]\n"
     ]
    }
   ],
   "source": [
    "cm = confusion_matrix(y_test, y_pred)\n",
    "print(cm)"
   ]
  },
  {
   "cell_type": "code",
   "execution_count": 27,
   "id": "65739bfe-7839-4a24-a4e4-c2c61f4b664e",
   "metadata": {
    "execution": {
     "iopub.execute_input": "2023-05-05T18:46:16.362618Z",
     "iopub.status.busy": "2023-05-05T18:46:16.362384Z",
     "iopub.status.idle": "2023-05-05T18:46:16.368647Z",
     "shell.execute_reply": "2023-05-05T18:46:16.367670Z",
     "shell.execute_reply.started": "2023-05-05T18:46:16.362603Z"
    },
    "tags": []
   },
   "outputs": [
    {
     "name": "stdout",
     "output_type": "stream",
     "text": [
      "[[0.79 0.21]\n",
      " [0.15 0.85]]\n"
     ]
    }
   ],
   "source": [
    "# Normalized confusion matrix\n",
    "cm = np.around(cm / cm.sum(axis=1)[:, np.newaxis], 2)\n",
    "print(cm)"
   ]
  },
  {
   "cell_type": "markdown",
   "id": "a1be1fb2-ae84-4fb4-9024-0ad3da67ed05",
   "metadata": {},
   "source": [
    "### Using random seed in PCA"
   ]
  },
  {
   "cell_type": "markdown",
   "id": "d2f21ae1-a083-4623-803f-778c88264206",
   "metadata": {},
   "source": [
    "- This time we used random_seed in PCA step\n",
    "- results are still pretty good"
   ]
  },
  {
   "cell_type": "code",
   "execution_count": 159,
   "id": "661f9f19-593f-4ca5-b52e-5a4b5176c218",
   "metadata": {
    "execution": {
     "iopub.execute_input": "2023-05-05T23:08:39.911722Z",
     "iopub.status.busy": "2023-05-05T23:08:39.911473Z",
     "iopub.status.idle": "2023-05-05T23:09:30.233922Z",
     "shell.execute_reply": "2023-05-05T23:09:30.233075Z",
     "shell.execute_reply.started": "2023-05-05T23:08:39.911705Z"
    },
    "tags": []
   },
   "outputs": [],
   "source": [
    "pipe.set_params(**params)\n",
    "    ## model = SVC(**params, kernel='linear', random_state=random_state)\n",
    "nn_pca_2 = pipe.fit(X_train, y_train)"
   ]
  },
  {
   "cell_type": "code",
   "execution_count": 160,
   "id": "14acc6b9-b003-4230-a85d-0db7bc0a29db",
   "metadata": {
    "execution": {
     "iopub.execute_input": "2023-05-05T23:09:33.571229Z",
     "iopub.status.busy": "2023-05-05T23:09:33.570937Z",
     "iopub.status.idle": "2023-05-05T23:09:33.582399Z",
     "shell.execute_reply": "2023-05-05T23:09:33.581533Z",
     "shell.execute_reply.started": "2023-05-05T23:09:33.571211Z"
    },
    "tags": []
   },
   "outputs": [
    {
     "data": {
      "text/html": [
       "<style>#sk-container-id-15 {color: black;background-color: white;}#sk-container-id-15 pre{padding: 0;}#sk-container-id-15 div.sk-toggleable {background-color: white;}#sk-container-id-15 label.sk-toggleable__label {cursor: pointer;display: block;width: 100%;margin-bottom: 0;padding: 0.3em;box-sizing: border-box;text-align: center;}#sk-container-id-15 label.sk-toggleable__label-arrow:before {content: \"▸\";float: left;margin-right: 0.25em;color: #696969;}#sk-container-id-15 label.sk-toggleable__label-arrow:hover:before {color: black;}#sk-container-id-15 div.sk-estimator:hover label.sk-toggleable__label-arrow:before {color: black;}#sk-container-id-15 div.sk-toggleable__content {max-height: 0;max-width: 0;overflow: hidden;text-align: left;background-color: #f0f8ff;}#sk-container-id-15 div.sk-toggleable__content pre {margin: 0.2em;color: black;border-radius: 0.25em;background-color: #f0f8ff;}#sk-container-id-15 input.sk-toggleable__control:checked~div.sk-toggleable__content {max-height: 200px;max-width: 100%;overflow: auto;}#sk-container-id-15 input.sk-toggleable__control:checked~label.sk-toggleable__label-arrow:before {content: \"▾\";}#sk-container-id-15 div.sk-estimator input.sk-toggleable__control:checked~label.sk-toggleable__label {background-color: #d4ebff;}#sk-container-id-15 div.sk-label input.sk-toggleable__control:checked~label.sk-toggleable__label {background-color: #d4ebff;}#sk-container-id-15 input.sk-hidden--visually {border: 0;clip: rect(1px 1px 1px 1px);clip: rect(1px, 1px, 1px, 1px);height: 1px;margin: -1px;overflow: hidden;padding: 0;position: absolute;width: 1px;}#sk-container-id-15 div.sk-estimator {font-family: monospace;background-color: #f0f8ff;border: 1px dotted black;border-radius: 0.25em;box-sizing: border-box;margin-bottom: 0.5em;}#sk-container-id-15 div.sk-estimator:hover {background-color: #d4ebff;}#sk-container-id-15 div.sk-parallel-item::after {content: \"\";width: 100%;border-bottom: 1px solid gray;flex-grow: 1;}#sk-container-id-15 div.sk-label:hover label.sk-toggleable__label {background-color: #d4ebff;}#sk-container-id-15 div.sk-serial::before {content: \"\";position: absolute;border-left: 1px solid gray;box-sizing: border-box;top: 0;bottom: 0;left: 50%;z-index: 0;}#sk-container-id-15 div.sk-serial {display: flex;flex-direction: column;align-items: center;background-color: white;padding-right: 0.2em;padding-left: 0.2em;position: relative;}#sk-container-id-15 div.sk-item {position: relative;z-index: 1;}#sk-container-id-15 div.sk-parallel {display: flex;align-items: stretch;justify-content: center;background-color: white;position: relative;}#sk-container-id-15 div.sk-item::before, #sk-container-id-15 div.sk-parallel-item::before {content: \"\";position: absolute;border-left: 1px solid gray;box-sizing: border-box;top: 0;bottom: 0;left: 50%;z-index: -1;}#sk-container-id-15 div.sk-parallel-item {display: flex;flex-direction: column;z-index: 1;position: relative;background-color: white;}#sk-container-id-15 div.sk-parallel-item:first-child::after {align-self: flex-end;width: 50%;}#sk-container-id-15 div.sk-parallel-item:last-child::after {align-self: flex-start;width: 50%;}#sk-container-id-15 div.sk-parallel-item:only-child::after {width: 0;}#sk-container-id-15 div.sk-dashed-wrapped {border: 1px dashed gray;margin: 0 0.4em 0.5em 0.4em;box-sizing: border-box;padding-bottom: 0.4em;background-color: white;}#sk-container-id-15 div.sk-label label {font-family: monospace;font-weight: bold;display: inline-block;line-height: 1.2em;}#sk-container-id-15 div.sk-label-container {text-align: center;}#sk-container-id-15 div.sk-container {/* jupyter's `normalize.less` sets `[hidden] { display: none; }` but bootstrap.min.css set `[hidden] { display: none !important; }` so we also need the `!important` here to be able to override the default hidden behavior on the sphinx rendered scikit-learn.org. See: https://github.com/scikit-learn/scikit-learn/issues/21755 */display: inline-block !important;position: relative;}#sk-container-id-15 div.sk-text-repr-fallback {display: none;}</style><div id=\"sk-container-id-15\" class=\"sk-top-container\"><div class=\"sk-text-repr-fallback\"><pre>Pipeline(steps=[(&#x27;scaler&#x27;, MinMaxScaler()),\n",
       "                (&#x27;pca&#x27;, PCA(n_components=1000, random_state=10)),\n",
       "                (&#x27;clf&#x27;,\n",
       "                 KerasClassifier(batch_size=128, epochs=100, loss=&#x27;binary_crossentropy&#x27;, model=&lt;function get_clf at 0x7fec4a2bfbe0&gt;, model__dropout=0.4, model__hidden_layer_sizes=(40, 240), optimizer=&#x27;adam&#x27;, optimizer__learning_rate=0.0005366554542437141, random_state=10, verbose=0))])</pre><b>In a Jupyter environment, please rerun this cell to show the HTML representation or trust the notebook. <br />On GitHub, the HTML representation is unable to render, please try loading this page with nbviewer.org.</b></div><div class=\"sk-container\" hidden><div class=\"sk-item sk-dashed-wrapped\"><div class=\"sk-label-container\"><div class=\"sk-label sk-toggleable\"><input class=\"sk-toggleable__control sk-hidden--visually\" id=\"sk-estimator-id-51\" type=\"checkbox\" ><label for=\"sk-estimator-id-51\" class=\"sk-toggleable__label sk-toggleable__label-arrow\">Pipeline</label><div class=\"sk-toggleable__content\"><pre>Pipeline(steps=[(&#x27;scaler&#x27;, MinMaxScaler()),\n",
       "                (&#x27;pca&#x27;, PCA(n_components=1000, random_state=10)),\n",
       "                (&#x27;clf&#x27;,\n",
       "                 KerasClassifier(batch_size=128, epochs=100, loss=&#x27;binary_crossentropy&#x27;, model=&lt;function get_clf at 0x7fec4a2bfbe0&gt;, model__dropout=0.4, model__hidden_layer_sizes=(40, 240), optimizer=&#x27;adam&#x27;, optimizer__learning_rate=0.0005366554542437141, random_state=10, verbose=0))])</pre></div></div></div><div class=\"sk-serial\"><div class=\"sk-item\"><div class=\"sk-estimator sk-toggleable\"><input class=\"sk-toggleable__control sk-hidden--visually\" id=\"sk-estimator-id-52\" type=\"checkbox\" ><label for=\"sk-estimator-id-52\" class=\"sk-toggleable__label sk-toggleable__label-arrow\">MinMaxScaler</label><div class=\"sk-toggleable__content\"><pre>MinMaxScaler()</pre></div></div></div><div class=\"sk-item\"><div class=\"sk-estimator sk-toggleable\"><input class=\"sk-toggleable__control sk-hidden--visually\" id=\"sk-estimator-id-53\" type=\"checkbox\" ><label for=\"sk-estimator-id-53\" class=\"sk-toggleable__label sk-toggleable__label-arrow\">PCA</label><div class=\"sk-toggleable__content\"><pre>PCA(n_components=1000, random_state=10)</pre></div></div></div><div class=\"sk-item\"><div class=\"sk-estimator sk-toggleable\"><input class=\"sk-toggleable__control sk-hidden--visually\" id=\"sk-estimator-id-54\" type=\"checkbox\" ><label for=\"sk-estimator-id-54\" class=\"sk-toggleable__label sk-toggleable__label-arrow\">KerasClassifier</label><div class=\"sk-toggleable__content\"><pre>KerasClassifier(\n",
       "\tmodel=&lt;function get_clf at 0x7fec4a2bfbe0&gt;\n",
       "\tbuild_fn=None\n",
       "\twarm_start=False\n",
       "\trandom_state=10\n",
       "\toptimizer=adam\n",
       "\tloss=binary_crossentropy\n",
       "\tmetrics=None\n",
       "\tbatch_size=128\n",
       "\tvalidation_batch_size=None\n",
       "\tverbose=0\n",
       "\tcallbacks=None\n",
       "\tvalidation_split=0.0\n",
       "\tshuffle=True\n",
       "\trun_eagerly=False\n",
       "\tepochs=100\n",
       "\tmodel__hidden_layer_sizes=(40, 240)\n",
       "\tmodel__dropout=0.4\n",
       "\toptimizer__learning_rate=0.0005366554542437141\n",
       "\tclass_weight=None\n",
       ")</pre></div></div></div></div></div></div></div>"
      ],
      "text/plain": [
       "Pipeline(steps=[('scaler', MinMaxScaler()),\n",
       "                ('pca', PCA(n_components=1000, random_state=10)),\n",
       "                ('clf',\n",
       "                 KerasClassifier(batch_size=128, epochs=100, loss='binary_crossentropy', model=<function get_clf at 0x7fec4a2bfbe0>, model__dropout=0.4, model__hidden_layer_sizes=(40, 240), optimizer='adam', optimizer__learning_rate=0.0005366554542437141, random_state=10, verbose=0))])"
      ]
     },
     "execution_count": 160,
     "metadata": {},
     "output_type": "execute_result"
    }
   ],
   "source": [
    "nn_pca_2"
   ]
  },
  {
   "cell_type": "code",
   "execution_count": 161,
   "id": "b4e26edd-a79e-4213-bda9-aa9258376433",
   "metadata": {
    "execution": {
     "iopub.execute_input": "2023-05-05T23:10:19.894610Z",
     "iopub.status.busy": "2023-05-05T23:10:19.894356Z",
     "iopub.status.idle": "2023-05-05T23:10:20.376453Z",
     "shell.execute_reply": "2023-05-05T23:10:20.375566Z",
     "shell.execute_reply.started": "2023-05-05T23:10:19.894592Z"
    },
    "tags": []
   },
   "outputs": [],
   "source": [
    "# Make predictions with the hypertuned model\n",
    "y_pred_pca2 = nn_pca_2.predict(X_test)"
   ]
  },
  {
   "cell_type": "code",
   "execution_count": 162,
   "id": "460e9ab9-980d-4942-9f7b-16d60cf6a0db",
   "metadata": {
    "colab": {
     "base_uri": "https://localhost:8080/"
    },
    "execution": {
     "iopub.execute_input": "2023-05-05T23:10:38.832010Z",
     "iopub.status.busy": "2023-05-05T23:10:38.831742Z",
     "iopub.status.idle": "2023-05-05T23:10:38.838911Z",
     "shell.execute_reply": "2023-05-05T23:10:38.838177Z",
     "shell.execute_reply.started": "2023-05-05T23:10:38.831992Z"
    },
    "executionInfo": {
     "elapsed": 312,
     "status": "ok",
     "timestamp": 1682712246169,
     "user": {
      "displayName": "Damir Zunic",
      "userId": "07104666280721646256"
     },
     "user_tz": 240
    },
    "id": "hbTv01iskavX",
    "outputId": "bcbc4bcd-6492-4e64-c009-a4ff56941dcc",
    "tags": []
   },
   "outputs": [
    {
     "name": "stdout",
     "output_type": "stream",
     "text": [
      "Accuracy after tuning: 85.62\n"
     ]
    }
   ],
   "source": [
    "accuracy = accuracy_score(y_test, y_pred_pca2)\n",
    "print(f'Accuracy after tuning: {accuracy * 100.0:.2f}')"
   ]
  },
  {
   "cell_type": "code",
   "execution_count": 163,
   "id": "1a028d17-17c7-4005-8ca4-98053c609e71",
   "metadata": {
    "colab": {
     "base_uri": "https://localhost:8080/"
    },
    "execution": {
     "iopub.execute_input": "2023-05-05T23:10:42.964833Z",
     "iopub.status.busy": "2023-05-05T23:10:42.964583Z",
     "iopub.status.idle": "2023-05-05T23:10:44.203765Z",
     "shell.execute_reply": "2023-05-05T23:10:44.202834Z",
     "shell.execute_reply.started": "2023-05-05T23:10:42.964816Z"
    },
    "executionInfo": {
     "elapsed": 652,
     "status": "ok",
     "timestamp": 1682712256130,
     "user": {
      "displayName": "Damir Zunic",
      "userId": "07104666280721646256"
     },
     "user_tz": 240
    },
    "id": "kfP1WnUfkavY",
    "outputId": "7f45f46e-dbe1-4735-f46f-74ff470c0152",
    "tags": []
   },
   "outputs": [
    {
     "name": "stdout",
     "output_type": "stream",
     "text": [
      "Training Data Score: 1.0\n",
      "Testing Data Score: 0.8561872909698997\n"
     ]
    }
   ],
   "source": [
    "# Compare training and testing scores\n",
    "print(f\"Training Data Score: {nn_pca_2.score(X_train, y_train)}\")\n",
    "print(f\"Testing Data Score: {nn_pca_2.score(X_test, y_test)}\")"
   ]
  },
  {
   "cell_type": "code",
   "execution_count": 164,
   "id": "9db59c08-65a4-4f9c-a549-8baa495fff90",
   "metadata": {
    "execution": {
     "iopub.execute_input": "2023-05-05T23:10:57.387286Z",
     "iopub.status.busy": "2023-05-05T23:10:57.387014Z",
     "iopub.status.idle": "2023-05-05T23:10:57.393772Z",
     "shell.execute_reply": "2023-05-05T23:10:57.392921Z",
     "shell.execute_reply.started": "2023-05-05T23:10:57.387266Z"
    },
    "tags": []
   },
   "outputs": [
    {
     "name": "stdout",
     "output_type": "stream",
     "text": [
      "[[ 263   76]\n",
      " [ 182 1273]]\n"
     ]
    }
   ],
   "source": [
    "cm = confusion_matrix(y_test, y_pred_pca2)\n",
    "print(cm)"
   ]
  },
  {
   "cell_type": "code",
   "execution_count": 165,
   "id": "a870eeb0-84ae-4fd7-9f5b-68e6202e6f4c",
   "metadata": {
    "colab": {
     "base_uri": "https://localhost:8080/",
     "height": 315
    },
    "execution": {
     "iopub.execute_input": "2023-05-05T23:11:19.732405Z",
     "iopub.status.busy": "2023-05-05T23:11:19.732149Z",
     "iopub.status.idle": "2023-05-05T23:11:20.242506Z",
     "shell.execute_reply": "2023-05-05T23:11:20.241645Z",
     "shell.execute_reply.started": "2023-05-05T23:11:19.732387Z"
    },
    "executionInfo": {
     "elapsed": 1309,
     "status": "ok",
     "timestamp": 1682712278412,
     "user": {
      "displayName": "Damir Zunic",
      "userId": "07104666280721646256"
     },
     "user_tz": 240
    },
    "id": "yAEszP3ikavY",
    "outputId": "7ecea9cd-5234-4237-eca2-360e5a138c82",
    "tags": []
   },
   "outputs": [
    {
     "data": {
      "image/png": "[encoded data removed]",
      "text/plain": [
       "<Figure size 864x288 with 4 Axes>"
      ]
     },
     "metadata": {},
     "output_type": "display_data"
    }
   ],
   "source": [
    "# Plot confusion matrix and its normalized version.\n",
    "mu.plot_cm_unnorm_and_norm('Neural Network - PCA 1000 #2', y_test, y_pred_pca2, target_names, 'Reds')"
   ]
  },
  {
   "cell_type": "code",
   "execution_count": 166,
   "id": "1cce54f1-1732-4343-b788-c50833013215",
   "metadata": {
    "colab": {
     "base_uri": "https://localhost:8080/"
    },
    "execution": {
     "iopub.execute_input": "2023-05-05T23:11:48.254645Z",
     "iopub.status.busy": "2023-05-05T23:11:48.254371Z",
     "iopub.status.idle": "2023-05-05T23:11:48.268131Z",
     "shell.execute_reply": "2023-05-05T23:11:48.266999Z",
     "shell.execute_reply.started": "2023-05-05T23:11:48.254626Z"
    },
    "executionInfo": {
     "elapsed": 194,
     "status": "ok",
     "timestamp": 1682712298538,
     "user": {
      "displayName": "Damir Zunic",
      "userId": "07104666280721646256"
     },
     "user_tz": 240
    },
    "id": "nRKz3IplkavY",
    "outputId": "20121d11-d163-4d2d-cf8d-4ba3e2c560ce",
    "tags": []
   },
   "outputs": [
    {
     "name": "stdout",
     "output_type": "stream",
     "text": [
      "              precision    recall  f1-score   support\n",
      "\n",
      "         hem       0.59      0.78      0.67       339\n",
      "         all       0.94      0.87      0.91      1455\n",
      "\n",
      "    accuracy                           0.86      1794\n",
      "   macro avg       0.77      0.83      0.79      1794\n",
      "weighted avg       0.88      0.86      0.86      1794\n",
      "\n"
     ]
    }
   ],
   "source": [
    "print(classification_report(y_test, y_pred_pca2, target_names=target_names))"
   ]
  },
  {
   "cell_type": "markdown",
   "id": "9e1b7fff-e004-4a2a-9231-e110e9d19ed8",
   "metadata": {},
   "source": [
    "#### Save the model"
   ]
  },
  {
   "cell_type": "code",
   "execution_count": 151,
   "id": "a20820e7-ceaf-40d6-8401-d77b3e90497f",
   "metadata": {
    "execution": {
     "iopub.execute_input": "2023-05-05T22:35:24.979859Z",
     "iopub.status.busy": "2023-05-05T22:35:24.979602Z",
     "iopub.status.idle": "2023-05-05T22:35:25.183787Z",
     "shell.execute_reply": "2023-05-05T22:35:25.182949Z",
     "shell.execute_reply.started": "2023-05-05T22:35:24.979840Z"
    },
    "tags": []
   },
   "outputs": [],
   "source": [
    "save_piped_model(nn_pca_2, 'nn_pca_2', 'clf', './saved_models/batch_4_stack' )"
   ]
  },
  {
   "cell_type": "markdown",
   "id": "8fdc780a-df1a-451d-9a59-ae6e1d306d13",
   "metadata": {},
   "source": [
    "#### Test loading the model"
   ]
  },
  {
   "cell_type": "code",
   "execution_count": 152,
   "id": "fc13edfc-8939-40d5-8c86-267a79d912e3",
   "metadata": {
    "execution": {
     "iopub.execute_input": "2023-05-05T22:36:13.201251Z",
     "iopub.status.busy": "2023-05-05T22:36:13.200618Z",
     "iopub.status.idle": "2023-05-05T22:36:13.570305Z",
     "shell.execute_reply": "2023-05-05T22:36:13.569425Z",
     "shell.execute_reply.started": "2023-05-05T22:36:13.201209Z"
    },
    "tags": []
   },
   "outputs": [],
   "source": [
    "model_l = load_piped_model('nn_pca_2', 'clf', './saved_models/batch_4_stack' )"
   ]
  },
  {
   "cell_type": "code",
   "execution_count": 153,
   "id": "92cd782b-ee21-45a3-9fc9-1af8f0a32c55",
   "metadata": {
    "execution": {
     "iopub.execute_input": "2023-05-05T22:36:16.708654Z",
     "iopub.status.busy": "2023-05-05T22:36:16.708394Z",
     "iopub.status.idle": "2023-05-05T22:36:17.068183Z",
     "shell.execute_reply": "2023-05-05T22:36:17.067357Z",
     "shell.execute_reply.started": "2023-05-05T22:36:16.708634Z"
    },
    "tags": []
   },
   "outputs": [],
   "source": [
    "# Make predictions with the hypertuned model\n",
    "y_pred = model_l.predict(X_test)"
   ]
  },
  {
   "cell_type": "code",
   "execution_count": 154,
   "id": "81e8e8f3-1f19-406f-8aa8-c361a8eefac9",
   "metadata": {
    "colab": {
     "base_uri": "https://localhost:8080/"
    },
    "execution": {
     "iopub.execute_input": "2023-05-05T22:36:20.726239Z",
     "iopub.status.busy": "2023-05-05T22:36:20.725975Z",
     "iopub.status.idle": "2023-05-05T22:36:20.733577Z",
     "shell.execute_reply": "2023-05-05T22:36:20.732531Z",
     "shell.execute_reply.started": "2023-05-05T22:36:20.726220Z"
    },
    "executionInfo": {
     "elapsed": 312,
     "status": "ok",
     "timestamp": 1682712246169,
     "user": {
      "displayName": "Damir Zunic",
      "userId": "07104666280721646256"
     },
     "user_tz": 240
    },
    "id": "hbTv01iskavX",
    "outputId": "bcbc4bcd-6492-4e64-c009-a4ff56941dcc",
    "tags": []
   },
   "outputs": [
    {
     "name": "stdout",
     "output_type": "stream",
     "text": [
      "Accuracy after tuning: 85.62\n"
     ]
    }
   ],
   "source": [
    "accuracy = accuracy_score(y_test, y_pred)\n",
    "print(f'Accuracy after tuning: {accuracy * 100.0:.2f}')"
   ]
  },
  {
   "cell_type": "code",
   "execution_count": 155,
   "id": "5ae0786a-ba1f-4869-9873-c18308ca13b9",
   "metadata": {
    "colab": {
     "base_uri": "https://localhost:8080/"
    },
    "execution": {
     "iopub.execute_input": "2023-05-05T22:36:23.797578Z",
     "iopub.status.busy": "2023-05-05T22:36:23.797315Z",
     "iopub.status.idle": "2023-05-05T22:36:25.110243Z",
     "shell.execute_reply": "2023-05-05T22:36:25.109553Z",
     "shell.execute_reply.started": "2023-05-05T22:36:23.797560Z"
    },
    "executionInfo": {
     "elapsed": 652,
     "status": "ok",
     "timestamp": 1682712256130,
     "user": {
      "displayName": "Damir Zunic",
      "userId": "07104666280721646256"
     },
     "user_tz": 240
    },
    "id": "kfP1WnUfkavY",
    "outputId": "7f45f46e-dbe1-4735-f46f-74ff470c0152",
    "tags": []
   },
   "outputs": [
    {
     "name": "stdout",
     "output_type": "stream",
     "text": [
      "Training Data Score: 1.0\n",
      "Testing Data Score: 0.8561872909698997\n"
     ]
    }
   ],
   "source": [
    "# Compare training and testing scores\n",
    "print(f\"Training Data Score: {model_l.score(X_train, y_train)}\")\n",
    "print(f\"Testing Data Score: {model_l.score(X_test, y_test)}\")"
   ]
  },
  {
   "cell_type": "markdown",
   "id": "15803b12-882e-46a3-94cf-abcfec53efec",
   "metadata": {},
   "source": [
    " ## Model nn_pca_3"
   ]
  },
  {
   "cell_type": "code",
   "execution_count": 179,
   "id": "79abd05c-d26f-436e-aa38-e6cd73e19459",
   "metadata": {
    "execution": {
     "iopub.execute_input": "2023-05-05T23:26:46.614396Z",
     "iopub.status.busy": "2023-05-05T23:26:46.614139Z",
     "iopub.status.idle": "2023-05-05T23:26:46.619082Z",
     "shell.execute_reply": "2023-05-05T23:26:46.618265Z",
     "shell.execute_reply.started": "2023-05-05T23:26:46.614377Z"
    },
    "tags": []
   },
   "outputs": [],
   "source": [
    "params = {'clf__epochs': 80,\n",
    " 'clf__batch_size': 128,\n",
    " 'clf__model__dropout': 0.5214000000000001,\n",
    " 'clf__optimizer__learning_rate': 0.0012108737025966388,\n",
    " 'clf__model__hidden_layer_sizes': (250,)}"
   ]
  },
  {
   "cell_type": "code",
   "execution_count": 180,
   "id": "a1b805b7-f042-4857-ad7b-f1639668eaf1",
   "metadata": {
    "execution": {
     "iopub.execute_input": "2023-05-05T23:26:48.060808Z",
     "iopub.status.busy": "2023-05-05T23:26:48.060523Z",
     "iopub.status.idle": "2023-05-05T23:27:23.484744Z",
     "shell.execute_reply": "2023-05-05T23:27:23.484004Z",
     "shell.execute_reply.started": "2023-05-05T23:26:48.060788Z"
    },
    "tags": []
   },
   "outputs": [],
   "source": [
    "pipe.set_params(**params)\n",
    "    ## model = SVC(**params, kernel='linear', random_state=random_state)\n",
    "nn_pca_3 = pipe.fit(X_train, y_train)"
   ]
  },
  {
   "cell_type": "code",
   "execution_count": 181,
   "id": "619c5571-b36d-4bd8-b7aa-5dec4f0ef022",
   "metadata": {
    "execution": {
     "iopub.execute_input": "2023-05-05T23:27:26.256097Z",
     "iopub.status.busy": "2023-05-05T23:27:26.255847Z",
     "iopub.status.idle": "2023-05-05T23:27:26.266135Z",
     "shell.execute_reply": "2023-05-05T23:27:26.265310Z",
     "shell.execute_reply.started": "2023-05-05T23:27:26.256080Z"
    },
    "tags": []
   },
   "outputs": [
    {
     "data": {
      "text/html": [
       "<style>#sk-container-id-17 {color: black;background-color: white;}#sk-container-id-17 pre{padding: 0;}#sk-container-id-17 div.sk-toggleable {background-color: white;}#sk-container-id-17 label.sk-toggleable__label {cursor: pointer;display: block;width: 100%;margin-bottom: 0;padding: 0.3em;box-sizing: border-box;text-align: center;}#sk-container-id-17 label.sk-toggleable__label-arrow:before {content: \"▸\";float: left;margin-right: 0.25em;color: #696969;}#sk-container-id-17 label.sk-toggleable__label-arrow:hover:before {color: black;}#sk-container-id-17 div.sk-estimator:hover label.sk-toggleable__label-arrow:before {color: black;}#sk-container-id-17 div.sk-toggleable__content {max-height: 0;max-width: 0;overflow: hidden;text-align: left;background-color: #f0f8ff;}#sk-container-id-17 div.sk-toggleable__content pre {margin: 0.2em;color: black;border-radius: 0.25em;background-color: #f0f8ff;}#sk-container-id-17 input.sk-toggleable__control:checked~div.sk-toggleable__content {max-height: 200px;max-width: 100%;overflow: auto;}#sk-container-id-17 input.sk-toggleable__control:checked~label.sk-toggleable__label-arrow:before {content: \"▾\";}#sk-container-id-17 div.sk-estimator input.sk-toggleable__control:checked~label.sk-toggleable__label {background-color: #d4ebff;}#sk-container-id-17 div.sk-label input.sk-toggleable__control:checked~label.sk-toggleable__label {background-color: #d4ebff;}#sk-container-id-17 input.sk-hidden--visually {border: 0;clip: rect(1px 1px 1px 1px);clip: rect(1px, 1px, 1px, 1px);height: 1px;margin: -1px;overflow: hidden;padding: 0;position: absolute;width: 1px;}#sk-container-id-17 div.sk-estimator {font-family: monospace;background-color: #f0f8ff;border: 1px dotted black;border-radius: 0.25em;box-sizing: border-box;margin-bottom: 0.5em;}#sk-container-id-17 div.sk-estimator:hover {background-color: #d4ebff;}#sk-container-id-17 div.sk-parallel-item::after {content: \"\";width: 100%;border-bottom: 1px solid gray;flex-grow: 1;}#sk-container-id-17 div.sk-label:hover label.sk-toggleable__label {background-color: #d4ebff;}#sk-container-id-17 div.sk-serial::before {content: \"\";position: absolute;border-left: 1px solid gray;box-sizing: border-box;top: 0;bottom: 0;left: 50%;z-index: 0;}#sk-container-id-17 div.sk-serial {display: flex;flex-direction: column;align-items: center;background-color: white;padding-right: 0.2em;padding-left: 0.2em;position: relative;}#sk-container-id-17 div.sk-item {position: relative;z-index: 1;}#sk-container-id-17 div.sk-parallel {display: flex;align-items: stretch;justify-content: center;background-color: white;position: relative;}#sk-container-id-17 div.sk-item::before, #sk-container-id-17 div.sk-parallel-item::before {content: \"\";position: absolute;border-left: 1px solid gray;box-sizing: border-box;top: 0;bottom: 0;left: 50%;z-index: -1;}#sk-container-id-17 div.sk-parallel-item {display: flex;flex-direction: column;z-index: 1;position: relative;background-color: white;}#sk-container-id-17 div.sk-parallel-item:first-child::after {align-self: flex-end;width: 50%;}#sk-container-id-17 div.sk-parallel-item:last-child::after {align-self: flex-start;width: 50%;}#sk-container-id-17 div.sk-parallel-item:only-child::after {width: 0;}#sk-container-id-17 div.sk-dashed-wrapped {border: 1px dashed gray;margin: 0 0.4em 0.5em 0.4em;box-sizing: border-box;padding-bottom: 0.4em;background-color: white;}#sk-container-id-17 div.sk-label label {font-family: monospace;font-weight: bold;display: inline-block;line-height: 1.2em;}#sk-container-id-17 div.sk-label-container {text-align: center;}#sk-container-id-17 div.sk-container {/* jupyter's `normalize.less` sets `[hidden] { display: none; }` but bootstrap.min.css set `[hidden] { display: none !important; }` so we also need the `!important` here to be able to override the default hidden behavior on the sphinx rendered scikit-learn.org. See: https://github.com/scikit-learn/scikit-learn/issues/21755 */display: inline-block !important;position: relative;}#sk-container-id-17 div.sk-text-repr-fallback {display: none;}</style><div id=\"sk-container-id-17\" class=\"sk-top-container\"><div class=\"sk-text-repr-fallback\"><pre>Pipeline(steps=[(&#x27;scaler&#x27;, MinMaxScaler()),\n",
       "                (&#x27;pca&#x27;, PCA(n_components=1000, random_state=10)),\n",
       "                (&#x27;clf&#x27;,\n",
       "                 KerasClassifier(batch_size=128, epochs=80, loss=&#x27;binary_crossentropy&#x27;, model=&lt;function get_clf at 0x7fec4a2bfbe0&gt;, model__dropout=0.5214000000000001, model__hidden_layer_sizes=(250,), optimizer=&#x27;adam&#x27;, optimizer__learning_rate=0.0012108737025966388, random_state=10, verbose=0))])</pre><b>In a Jupyter environment, please rerun this cell to show the HTML representation or trust the notebook. <br />On GitHub, the HTML representation is unable to render, please try loading this page with nbviewer.org.</b></div><div class=\"sk-container\" hidden><div class=\"sk-item sk-dashed-wrapped\"><div class=\"sk-label-container\"><div class=\"sk-label sk-toggleable\"><input class=\"sk-toggleable__control sk-hidden--visually\" id=\"sk-estimator-id-59\" type=\"checkbox\" ><label for=\"sk-estimator-id-59\" class=\"sk-toggleable__label sk-toggleable__label-arrow\">Pipeline</label><div class=\"sk-toggleable__content\"><pre>Pipeline(steps=[(&#x27;scaler&#x27;, MinMaxScaler()),\n",
       "                (&#x27;pca&#x27;, PCA(n_components=1000, random_state=10)),\n",
       "                (&#x27;clf&#x27;,\n",
       "                 KerasClassifier(batch_size=128, epochs=80, loss=&#x27;binary_crossentropy&#x27;, model=&lt;function get_clf at 0x7fec4a2bfbe0&gt;, model__dropout=0.5214000000000001, model__hidden_layer_sizes=(250,), optimizer=&#x27;adam&#x27;, optimizer__learning_rate=0.0012108737025966388, random_state=10, verbose=0))])</pre></div></div></div><div class=\"sk-serial\"><div class=\"sk-item\"><div class=\"sk-estimator sk-toggleable\"><input class=\"sk-toggleable__control sk-hidden--visually\" id=\"sk-estimator-id-60\" type=\"checkbox\" ><label for=\"sk-estimator-id-60\" class=\"sk-toggleable__label sk-toggleable__label-arrow\">MinMaxScaler</label><div class=\"sk-toggleable__content\"><pre>MinMaxScaler()</pre></div></div></div><div class=\"sk-item\"><div class=\"sk-estimator sk-toggleable\"><input class=\"sk-toggleable__control sk-hidden--visually\" id=\"sk-estimator-id-61\" type=\"checkbox\" ><label for=\"sk-estimator-id-61\" class=\"sk-toggleable__label sk-toggleable__label-arrow\">PCA</label><div class=\"sk-toggleable__content\"><pre>PCA(n_components=1000, random_state=10)</pre></div></div></div><div class=\"sk-item\"><div class=\"sk-estimator sk-toggleable\"><input class=\"sk-toggleable__control sk-hidden--visually\" id=\"sk-estimator-id-62\" type=\"checkbox\" ><label for=\"sk-estimator-id-62\" class=\"sk-toggleable__label sk-toggleable__label-arrow\">KerasClassifier</label><div class=\"sk-toggleable__content\"><pre>KerasClassifier(\n",
       "\tmodel=&lt;function get_clf at 0x7fec4a2bfbe0&gt;\n",
       "\tbuild_fn=None\n",
       "\twarm_start=False\n",
       "\trandom_state=10\n",
       "\toptimizer=adam\n",
       "\tloss=binary_crossentropy\n",
       "\tmetrics=None\n",
       "\tbatch_size=128\n",
       "\tvalidation_batch_size=None\n",
       "\tverbose=0\n",
       "\tcallbacks=None\n",
       "\tvalidation_split=0.0\n",
       "\tshuffle=True\n",
       "\trun_eagerly=False\n",
       "\tepochs=80\n",
       "\tmodel__hidden_layer_sizes=(250,)\n",
       "\tmodel__dropout=0.5214000000000001\n",
       "\toptimizer__learning_rate=0.0012108737025966388\n",
       "\tclass_weight=None\n",
       ")</pre></div></div></div></div></div></div></div>"
      ],
      "text/plain": [
       "Pipeline(steps=[('scaler', MinMaxScaler()),\n",
       "                ('pca', PCA(n_components=1000, random_state=10)),\n",
       "                ('clf',\n",
       "                 KerasClassifier(batch_size=128, epochs=80, loss='binary_crossentropy', model=<function get_clf at 0x7fec4a2bfbe0>, model__dropout=0.5214000000000001, model__hidden_layer_sizes=(250,), optimizer='adam', optimizer__learning_rate=0.0012108737025966388, random_state=10, verbose=0))])"
      ]
     },
     "execution_count": 181,
     "metadata": {},
     "output_type": "execute_result"
    }
   ],
   "source": [
    "nn_pca_3"
   ]
  },
  {
   "cell_type": "code",
   "execution_count": 182,
   "id": "41193dd7-7422-4bf8-8827-2448615ef939",
   "metadata": {
    "execution": {
     "iopub.execute_input": "2023-05-05T23:27:29.633610Z",
     "iopub.status.busy": "2023-05-05T23:27:29.633349Z",
     "iopub.status.idle": "2023-05-05T23:27:29.955771Z",
     "shell.execute_reply": "2023-05-05T23:27:29.954974Z",
     "shell.execute_reply.started": "2023-05-05T23:27:29.633591Z"
    },
    "tags": []
   },
   "outputs": [],
   "source": [
    "# Make predictions with the hypertuned model\n",
    "y_pred_pca3 = nn_pca_3.predict(X_test)"
   ]
  },
  {
   "cell_type": "code",
   "execution_count": 183,
   "id": "a3c28a32-1783-4332-a3b2-ac1afde86123",
   "metadata": {
    "colab": {
     "base_uri": "https://localhost:8080/"
    },
    "execution": {
     "iopub.execute_input": "2023-05-05T23:27:29.957041Z",
     "iopub.status.busy": "2023-05-05T23:27:29.956783Z",
     "iopub.status.idle": "2023-05-05T23:27:29.964368Z",
     "shell.execute_reply": "2023-05-05T23:27:29.963502Z",
     "shell.execute_reply.started": "2023-05-05T23:27:29.957025Z"
    },
    "executionInfo": {
     "elapsed": 312,
     "status": "ok",
     "timestamp": 1682712246169,
     "user": {
      "displayName": "Damir Zunic",
      "userId": "07104666280721646256"
     },
     "user_tz": 240
    },
    "id": "hbTv01iskavX",
    "outputId": "bcbc4bcd-6492-4e64-c009-a4ff56941dcc",
    "tags": []
   },
   "outputs": [
    {
     "name": "stdout",
     "output_type": "stream",
     "text": [
      "Accuracy after tuning: 86.90\n"
     ]
    }
   ],
   "source": [
    "accuracy = accuracy_score(y_test, y_pred_pca3)\n",
    "print(f'Accuracy after tuning: {accuracy * 100.0:.2f}')"
   ]
  },
  {
   "cell_type": "code",
   "execution_count": 184,
   "id": "1e2eb98f-d60a-49d0-a7cc-f16a0b215881",
   "metadata": {
    "colab": {
     "base_uri": "https://localhost:8080/"
    },
    "execution": {
     "iopub.execute_input": "2023-05-05T23:27:46.808361Z",
     "iopub.status.busy": "2023-05-05T23:27:46.807936Z",
     "iopub.status.idle": "2023-05-05T23:27:48.248497Z",
     "shell.execute_reply": "2023-05-05T23:27:48.247518Z",
     "shell.execute_reply.started": "2023-05-05T23:27:46.808341Z"
    },
    "executionInfo": {
     "elapsed": 652,
     "status": "ok",
     "timestamp": 1682712256130,
     "user": {
      "displayName": "Damir Zunic",
      "userId": "07104666280721646256"
     },
     "user_tz": 240
    },
    "id": "kfP1WnUfkavY",
    "outputId": "7f45f46e-dbe1-4735-f46f-74ff470c0152",
    "tags": []
   },
   "outputs": [
    {
     "name": "stdout",
     "output_type": "stream",
     "text": [
      "Training Data Score: 1.0\n",
      "Testing Data Score: 0.8690078037904125\n"
     ]
    }
   ],
   "source": [
    "# Compare training and testing scores\n",
    "print(f\"Training Data Score: {nn_pca_3.score(X_train, y_train)}\")\n",
    "print(f\"Testing Data Score: {nn_pca_3.score(X_test, y_test)}\")"
   ]
  },
  {
   "cell_type": "code",
   "execution_count": 185,
   "id": "cbca40de-a3d1-4194-9cb4-8e001d6f62bc",
   "metadata": {
    "execution": {
     "iopub.execute_input": "2023-05-05T23:27:52.455054Z",
     "iopub.status.busy": "2023-05-05T23:27:52.454794Z",
     "iopub.status.idle": "2023-05-05T23:27:52.462340Z",
     "shell.execute_reply": "2023-05-05T23:27:52.461439Z",
     "shell.execute_reply.started": "2023-05-05T23:27:52.455035Z"
    },
    "tags": []
   },
   "outputs": [
    {
     "name": "stdout",
     "output_type": "stream",
     "text": [
      "[[ 263   76]\n",
      " [ 159 1296]]\n"
     ]
    }
   ],
   "source": [
    "cm = confusion_matrix(y_test, y_pred_pca3)\n",
    "print(cm)"
   ]
  },
  {
   "cell_type": "code",
   "execution_count": 186,
   "id": "1733b4f3-b792-4729-9eab-3eb59410500f",
   "metadata": {
    "colab": {
     "base_uri": "https://localhost:8080/",
     "height": 315
    },
    "execution": {
     "iopub.execute_input": "2023-05-05T23:28:00.805030Z",
     "iopub.status.busy": "2023-05-05T23:28:00.804739Z",
     "iopub.status.idle": "2023-05-05T23:28:01.217577Z",
     "shell.execute_reply": "2023-05-05T23:28:01.216688Z",
     "shell.execute_reply.started": "2023-05-05T23:28:00.805010Z"
    },
    "executionInfo": {
     "elapsed": 1309,
     "status": "ok",
     "timestamp": 1682712278412,
     "user": {
      "displayName": "Damir Zunic",
      "userId": "07104666280721646256"
     },
     "user_tz": 240
    },
    "id": "yAEszP3ikavY",
    "outputId": "7ecea9cd-5234-4237-eca2-360e5a138c82",
    "tags": []
   },
   "outputs": [
    {
     "data": {
      "image/png": "[encoded data removed]",
      "text/plain": [
       "<Figure size 864x288 with 4 Axes>"
      ]
     },
     "metadata": {},
     "output_type": "display_data"
    }
   ],
   "source": [
    "# Plot confusion matrix and its normalized version.\n",
    "mu.plot_cm_unnorm_and_norm('Neural Network - PCA 1000 #3', y_test, y_pred_pca3, target_names, 'Reds')"
   ]
  },
  {
   "cell_type": "code",
   "execution_count": 187,
   "id": "98df9f7c-a7ba-4fb7-bb4e-7deb3350c034",
   "metadata": {
    "colab": {
     "base_uri": "https://localhost:8080/"
    },
    "execution": {
     "iopub.execute_input": "2023-05-05T23:28:04.176220Z",
     "iopub.status.busy": "2023-05-05T23:28:04.175941Z",
     "iopub.status.idle": "2023-05-05T23:28:04.188448Z",
     "shell.execute_reply": "2023-05-05T23:28:04.187575Z",
     "shell.execute_reply.started": "2023-05-05T23:28:04.176200Z"
    },
    "executionInfo": {
     "elapsed": 194,
     "status": "ok",
     "timestamp": 1682712298538,
     "user": {
      "displayName": "Damir Zunic",
      "userId": "07104666280721646256"
     },
     "user_tz": 240
    },
    "id": "nRKz3IplkavY",
    "outputId": "20121d11-d163-4d2d-cf8d-4ba3e2c560ce",
    "tags": []
   },
   "outputs": [
    {
     "name": "stdout",
     "output_type": "stream",
     "text": [
      "              precision    recall  f1-score   support\n",
      "\n",
      "         hem       0.62      0.78      0.69       339\n",
      "         all       0.94      0.89      0.92      1455\n",
      "\n",
      "    accuracy                           0.87      1794\n",
      "   macro avg       0.78      0.83      0.80      1794\n",
      "weighted avg       0.88      0.87      0.87      1794\n",
      "\n"
     ]
    }
   ],
   "source": [
    "print(classification_report(y_test, y_pred_pca3, target_names=target_names))"
   ]
  },
  {
   "cell_type": "markdown",
   "id": "4b86e0ac-62cd-4bad-99a7-7472bc360201",
   "metadata": {},
   "source": [
    "#### Save the model"
   ]
  },
  {
   "cell_type": "code",
   "execution_count": 188,
   "id": "a91729ca-ec51-4f78-9096-dc7958c774a7",
   "metadata": {
    "execution": {
     "iopub.execute_input": "2023-05-05T23:28:08.785155Z",
     "iopub.status.busy": "2023-05-05T23:28:08.784900Z",
     "iopub.status.idle": "2023-05-05T23:28:08.978209Z",
     "shell.execute_reply": "2023-05-05T23:28:08.977337Z",
     "shell.execute_reply.started": "2023-05-05T23:28:08.785136Z"
    },
    "tags": []
   },
   "outputs": [],
   "source": [
    "save_piped_model(nn_pca_3, 'nn_pca_3', 'clf', './saved_models/batch_4_stack' )"
   ]
  },
  {
   "cell_type": "markdown",
   "id": "10666f97-73b0-4c64-89cf-fae100302051",
   "metadata": {},
   "source": [
    " ## Model nn_pca_t_2"
   ]
  },
  {
   "cell_type": "code",
   "execution_count": 190,
   "id": "569065f7-679b-48f6-96ba-86dbc58057b0",
   "metadata": {
    "execution": {
     "iopub.execute_input": "2023-05-05T23:36:04.382038Z",
     "iopub.status.busy": "2023-05-05T23:36:04.381765Z",
     "iopub.status.idle": "2023-05-05T23:36:04.386669Z",
     "shell.execute_reply": "2023-05-05T23:36:04.385794Z",
     "shell.execute_reply.started": "2023-05-05T23:36:04.382019Z"
    },
    "tags": []
   },
   "outputs": [],
   "source": [
    "params = {'pca__n_components': 1044,\n",
    " 'clf__epochs': 50,\n",
    " 'clf__batch_size': 128,\n",
    " 'clf__model__dropout': 0.4064217815350598,\n",
    " 'clf__optimizer__learning_rate': 0.0014017856089746264,\n",
    " 'clf__model__hidden_layer_sizes': (140,)}"
   ]
  },
  {
   "cell_type": "code",
   "execution_count": 191,
   "id": "30be7ed1-cb47-4352-9f3d-a5388fcb8a60",
   "metadata": {
    "execution": {
     "iopub.execute_input": "2023-05-05T23:36:12.968900Z",
     "iopub.status.busy": "2023-05-05T23:36:12.968657Z",
     "iopub.status.idle": "2023-05-05T23:36:40.387077Z",
     "shell.execute_reply": "2023-05-05T23:36:40.386192Z",
     "shell.execute_reply.started": "2023-05-05T23:36:12.968881Z"
    },
    "tags": []
   },
   "outputs": [],
   "source": [
    "pipe.set_params(**params)\n",
    "    ## model = SVC(**params, kernel='linear', random_state=random_state)\n",
    "nn_pca_t_2 = pipe.fit(X_train, y_train)"
   ]
  },
  {
   "cell_type": "code",
   "execution_count": 192,
   "id": "ff458142-3dfd-44fc-ba2d-99d72c8290fc",
   "metadata": {
    "execution": {
     "iopub.execute_input": "2023-05-05T23:36:47.450156Z",
     "iopub.status.busy": "2023-05-05T23:36:47.449888Z",
     "iopub.status.idle": "2023-05-05T23:36:47.459975Z",
     "shell.execute_reply": "2023-05-05T23:36:47.459094Z",
     "shell.execute_reply.started": "2023-05-05T23:36:47.450138Z"
    },
    "tags": []
   },
   "outputs": [
    {
     "data": {
      "text/html": [
       "<style>#sk-container-id-18 {color: black;background-color: white;}#sk-container-id-18 pre{padding: 0;}#sk-container-id-18 div.sk-toggleable {background-color: white;}#sk-container-id-18 label.sk-toggleable__label {cursor: pointer;display: block;width: 100%;margin-bottom: 0;padding: 0.3em;box-sizing: border-box;text-align: center;}#sk-container-id-18 label.sk-toggleable__label-arrow:before {content: \"▸\";float: left;margin-right: 0.25em;color: #696969;}#sk-container-id-18 label.sk-toggleable__label-arrow:hover:before {color: black;}#sk-container-id-18 div.sk-estimator:hover label.sk-toggleable__label-arrow:before {color: black;}#sk-container-id-18 div.sk-toggleable__content {max-height: 0;max-width: 0;overflow: hidden;text-align: left;background-color: #f0f8ff;}#sk-container-id-18 div.sk-toggleable__content pre {margin: 0.2em;color: black;border-radius: 0.25em;background-color: #f0f8ff;}#sk-container-id-18 input.sk-toggleable__control:checked~div.sk-toggleable__content {max-height: 200px;max-width: 100%;overflow: auto;}#sk-container-id-18 input.sk-toggleable__control:checked~label.sk-toggleable__label-arrow:before {content: \"▾\";}#sk-container-id-18 div.sk-estimator input.sk-toggleable__control:checked~label.sk-toggleable__label {background-color: #d4ebff;}#sk-container-id-18 div.sk-label input.sk-toggleable__control:checked~label.sk-toggleable__label {background-color: #d4ebff;}#sk-container-id-18 input.sk-hidden--visually {border: 0;clip: rect(1px 1px 1px 1px);clip: rect(1px, 1px, 1px, 1px);height: 1px;margin: -1px;overflow: hidden;padding: 0;position: absolute;width: 1px;}#sk-container-id-18 div.sk-estimator {font-family: monospace;background-color: #f0f8ff;border: 1px dotted black;border-radius: 0.25em;box-sizing: border-box;margin-bottom: 0.5em;}#sk-container-id-18 div.sk-estimator:hover {background-color: #d4ebff;}#sk-container-id-18 div.sk-parallel-item::after {content: \"\";width: 100%;border-bottom: 1px solid gray;flex-grow: 1;}#sk-container-id-18 div.sk-label:hover label.sk-toggleable__label {background-color: #d4ebff;}#sk-container-id-18 div.sk-serial::before {content: \"\";position: absolute;border-left: 1px solid gray;box-sizing: border-box;top: 0;bottom: 0;left: 50%;z-index: 0;}#sk-container-id-18 div.sk-serial {display: flex;flex-direction: column;align-items: center;background-color: white;padding-right: 0.2em;padding-left: 0.2em;position: relative;}#sk-container-id-18 div.sk-item {position: relative;z-index: 1;}#sk-container-id-18 div.sk-parallel {display: flex;align-items: stretch;justify-content: center;background-color: white;position: relative;}#sk-container-id-18 div.sk-item::before, #sk-container-id-18 div.sk-parallel-item::before {content: \"\";position: absolute;border-left: 1px solid gray;box-sizing: border-box;top: 0;bottom: 0;left: 50%;z-index: -1;}#sk-container-id-18 div.sk-parallel-item {display: flex;flex-direction: column;z-index: 1;position: relative;background-color: white;}#sk-container-id-18 div.sk-parallel-item:first-child::after {align-self: flex-end;width: 50%;}#sk-container-id-18 div.sk-parallel-item:last-child::after {align-self: flex-start;width: 50%;}#sk-container-id-18 div.sk-parallel-item:only-child::after {width: 0;}#sk-container-id-18 div.sk-dashed-wrapped {border: 1px dashed gray;margin: 0 0.4em 0.5em 0.4em;box-sizing: border-box;padding-bottom: 0.4em;background-color: white;}#sk-container-id-18 div.sk-label label {font-family: monospace;font-weight: bold;display: inline-block;line-height: 1.2em;}#sk-container-id-18 div.sk-label-container {text-align: center;}#sk-container-id-18 div.sk-container {/* jupyter's `normalize.less` sets `[hidden] { display: none; }` but bootstrap.min.css set `[hidden] { display: none !important; }` so we also need the `!important` here to be able to override the default hidden behavior on the sphinx rendered scikit-learn.org. See: https://github.com/scikit-learn/scikit-learn/issues/21755 */display: inline-block !important;position: relative;}#sk-container-id-18 div.sk-text-repr-fallback {display: none;}</style><div id=\"sk-container-id-18\" class=\"sk-top-container\"><div class=\"sk-text-repr-fallback\"><pre>Pipeline(steps=[(&#x27;scaler&#x27;, MinMaxScaler()),\n",
       "                (&#x27;pca&#x27;, PCA(n_components=1044, random_state=10)),\n",
       "                (&#x27;clf&#x27;,\n",
       "                 KerasClassifier(batch_size=128, epochs=50, loss=&#x27;binary_crossentropy&#x27;, model=&lt;function get_clf at 0x7fec4a2bfbe0&gt;, model__dropout=0.4064217815350598, model__hidden_layer_sizes=(140,), optimizer=&#x27;adam&#x27;, optimizer__learning_rate=0.0014017856089746264, random_state=10, verbose=0))])</pre><b>In a Jupyter environment, please rerun this cell to show the HTML representation or trust the notebook. <br />On GitHub, the HTML representation is unable to render, please try loading this page with nbviewer.org.</b></div><div class=\"sk-container\" hidden><div class=\"sk-item sk-dashed-wrapped\"><div class=\"sk-label-container\"><div class=\"sk-label sk-toggleable\"><input class=\"sk-toggleable__control sk-hidden--visually\" id=\"sk-estimator-id-63\" type=\"checkbox\" ><label for=\"sk-estimator-id-63\" class=\"sk-toggleable__label sk-toggleable__label-arrow\">Pipeline</label><div class=\"sk-toggleable__content\"><pre>Pipeline(steps=[(&#x27;scaler&#x27;, MinMaxScaler()),\n",
       "                (&#x27;pca&#x27;, PCA(n_components=1044, random_state=10)),\n",
       "                (&#x27;clf&#x27;,\n",
       "                 KerasClassifier(batch_size=128, epochs=50, loss=&#x27;binary_crossentropy&#x27;, model=&lt;function get_clf at 0x7fec4a2bfbe0&gt;, model__dropout=0.4064217815350598, model__hidden_layer_sizes=(140,), optimizer=&#x27;adam&#x27;, optimizer__learning_rate=0.0014017856089746264, random_state=10, verbose=0))])</pre></div></div></div><div class=\"sk-serial\"><div class=\"sk-item\"><div class=\"sk-estimator sk-toggleable\"><input class=\"sk-toggleable__control sk-hidden--visually\" id=\"sk-estimator-id-64\" type=\"checkbox\" ><label for=\"sk-estimator-id-64\" class=\"sk-toggleable__label sk-toggleable__label-arrow\">MinMaxScaler</label><div class=\"sk-toggleable__content\"><pre>MinMaxScaler()</pre></div></div></div><div class=\"sk-item\"><div class=\"sk-estimator sk-toggleable\"><input class=\"sk-toggleable__control sk-hidden--visually\" id=\"sk-estimator-id-65\" type=\"checkbox\" ><label for=\"sk-estimator-id-65\" class=\"sk-toggleable__label sk-toggleable__label-arrow\">PCA</label><div class=\"sk-toggleable__content\"><pre>PCA(n_components=1044, random_state=10)</pre></div></div></div><div class=\"sk-item\"><div class=\"sk-estimator sk-toggleable\"><input class=\"sk-toggleable__control sk-hidden--visually\" id=\"sk-estimator-id-66\" type=\"checkbox\" ><label for=\"sk-estimator-id-66\" class=\"sk-toggleable__label sk-toggleable__label-arrow\">KerasClassifier</label><div class=\"sk-toggleable__content\"><pre>KerasClassifier(\n",
       "\tmodel=&lt;function get_clf at 0x7fec4a2bfbe0&gt;\n",
       "\tbuild_fn=None\n",
       "\twarm_start=False\n",
       "\trandom_state=10\n",
       "\toptimizer=adam\n",
       "\tloss=binary_crossentropy\n",
       "\tmetrics=None\n",
       "\tbatch_size=128\n",
       "\tvalidation_batch_size=None\n",
       "\tverbose=0\n",
       "\tcallbacks=None\n",
       "\tvalidation_split=0.0\n",
       "\tshuffle=True\n",
       "\trun_eagerly=False\n",
       "\tepochs=50\n",
       "\tmodel__hidden_layer_sizes=(140,)\n",
       "\tmodel__dropout=0.4064217815350598\n",
       "\toptimizer__learning_rate=0.0014017856089746264\n",
       "\tclass_weight=None\n",
       ")</pre></div></div></div></div></div></div></div>"
      ],
      "text/plain": [
       "Pipeline(steps=[('scaler', MinMaxScaler()),\n",
       "                ('pca', PCA(n_components=1044, random_state=10)),\n",
       "                ('clf',\n",
       "                 KerasClassifier(batch_size=128, epochs=50, loss='binary_crossentropy', model=<function get_clf at 0x7fec4a2bfbe0>, model__dropout=0.4064217815350598, model__hidden_layer_sizes=(140,), optimizer='adam', optimizer__learning_rate=0.0014017856089746264, random_state=10, verbose=0))])"
      ]
     },
     "execution_count": 192,
     "metadata": {},
     "output_type": "execute_result"
    }
   ],
   "source": [
    "nn_pca_t_2"
   ]
  },
  {
   "cell_type": "code",
   "execution_count": 193,
   "id": "4052d708-fbaf-48e2-84f5-751daf9d9836",
   "metadata": {
    "execution": {
     "iopub.execute_input": "2023-05-05T23:37:06.004649Z",
     "iopub.status.busy": "2023-05-05T23:37:06.004356Z",
     "iopub.status.idle": "2023-05-05T23:37:06.385069Z",
     "shell.execute_reply": "2023-05-05T23:37:06.383938Z",
     "shell.execute_reply.started": "2023-05-05T23:37:06.004630Z"
    },
    "tags": []
   },
   "outputs": [],
   "source": [
    "# Make predictions with the hypertuned model\n",
    "y_pred_pcat2 = nn_pca_t_2.predict(X_test)"
   ]
  },
  {
   "cell_type": "code",
   "execution_count": 194,
   "id": "9220a1b6-2c4e-4e27-a00e-aa823355896d",
   "metadata": {
    "colab": {
     "base_uri": "https://localhost:8080/"
    },
    "execution": {
     "iopub.execute_input": "2023-05-05T23:37:11.669132Z",
     "iopub.status.busy": "2023-05-05T23:37:11.668859Z",
     "iopub.status.idle": "2023-05-05T23:37:11.676151Z",
     "shell.execute_reply": "2023-05-05T23:37:11.675213Z",
     "shell.execute_reply.started": "2023-05-05T23:37:11.669112Z"
    },
    "executionInfo": {
     "elapsed": 312,
     "status": "ok",
     "timestamp": 1682712246169,
     "user": {
      "displayName": "Damir Zunic",
      "userId": "07104666280721646256"
     },
     "user_tz": 240
    },
    "id": "hbTv01iskavX",
    "outputId": "bcbc4bcd-6492-4e64-c009-a4ff56941dcc",
    "tags": []
   },
   "outputs": [
    {
     "name": "stdout",
     "output_type": "stream",
     "text": [
      "Accuracy after tuning: 85.67\n"
     ]
    }
   ],
   "source": [
    "accuracy = accuracy_score(y_test, y_pred_pcat2)\n",
    "print(f'Accuracy after tuning: {accuracy * 100.0:.2f}')"
   ]
  },
  {
   "cell_type": "code",
   "execution_count": 195,
   "id": "bb46c9c8-e67d-4f08-9ba4-fec9e0e6a16d",
   "metadata": {
    "colab": {
     "base_uri": "https://localhost:8080/"
    },
    "execution": {
     "iopub.execute_input": "2023-05-05T23:37:16.173085Z",
     "iopub.status.busy": "2023-05-05T23:37:16.172810Z",
     "iopub.status.idle": "2023-05-05T23:37:17.486290Z",
     "shell.execute_reply": "2023-05-05T23:37:17.485230Z",
     "shell.execute_reply.started": "2023-05-05T23:37:16.173066Z"
    },
    "executionInfo": {
     "elapsed": 652,
     "status": "ok",
     "timestamp": 1682712256130,
     "user": {
      "displayName": "Damir Zunic",
      "userId": "07104666280721646256"
     },
     "user_tz": 240
    },
    "id": "kfP1WnUfkavY",
    "outputId": "7f45f46e-dbe1-4735-f46f-74ff470c0152",
    "tags": []
   },
   "outputs": [
    {
     "name": "stdout",
     "output_type": "stream",
     "text": [
      "Training Data Score: 1.0\n",
      "Testing Data Score: 0.8567447045707915\n"
     ]
    }
   ],
   "source": [
    "# Compare training and testing scores\n",
    "print(f\"Training Data Score: {nn_pca_t_2.score(X_train, y_train)}\")\n",
    "print(f\"Testing Data Score: {nn_pca_t_2.score(X_test, y_test)}\")"
   ]
  },
  {
   "cell_type": "code",
   "execution_count": 196,
   "id": "3172423e-d5bd-4037-b727-8f576e36abae",
   "metadata": {
    "execution": {
     "iopub.execute_input": "2023-05-05T23:37:23.921296Z",
     "iopub.status.busy": "2023-05-05T23:37:23.921036Z",
     "iopub.status.idle": "2023-05-05T23:37:23.928395Z",
     "shell.execute_reply": "2023-05-05T23:37:23.927516Z",
     "shell.execute_reply.started": "2023-05-05T23:37:23.921278Z"
    },
    "tags": []
   },
   "outputs": [
    {
     "name": "stdout",
     "output_type": "stream",
     "text": [
      "[[ 255   84]\n",
      " [ 173 1282]]\n"
     ]
    }
   ],
   "source": [
    "cm = confusion_matrix(y_test, y_pred_pcat2)\n",
    "print(cm)"
   ]
  },
  {
   "cell_type": "code",
   "execution_count": 199,
   "id": "e69740aa-0a8e-47bd-b6e8-7c41fe968c98",
   "metadata": {
    "colab": {
     "base_uri": "https://localhost:8080/",
     "height": 315
    },
    "execution": {
     "iopub.execute_input": "2023-05-05T23:38:16.816134Z",
     "iopub.status.busy": "2023-05-05T23:38:16.815868Z",
     "iopub.status.idle": "2023-05-05T23:38:17.272971Z",
     "shell.execute_reply": "2023-05-05T23:38:17.271530Z",
     "shell.execute_reply.started": "2023-05-05T23:38:16.816115Z"
    },
    "executionInfo": {
     "elapsed": 1309,
     "status": "ok",
     "timestamp": 1682712278412,
     "user": {
      "displayName": "Damir Zunic",
      "userId": "07104666280721646256"
     },
     "user_tz": 240
    },
    "id": "yAEszP3ikavY",
    "outputId": "7ecea9cd-5234-4237-eca2-360e5a138c82",
    "tags": []
   },
   "outputs": [
    {
     "data": {
      "image/png": "[encoded data removed]",
      "text/plain": [
       "<Figure size 864x288 with 4 Axes>"
      ]
     },
     "metadata": {},
     "output_type": "display_data"
    }
   ],
   "source": [
    "# Plot confusion matrix and its normalized version.\n",
    "mu.plot_cm_unnorm_and_norm('Neural Network - PCA tuned #2', y_test, y_pred_pcat2, target_names, 'Reds')"
   ]
  },
  {
   "cell_type": "code",
   "execution_count": 200,
   "id": "c59ff57e-35ac-409f-acf6-a9fd8a47d1df",
   "metadata": {
    "colab": {
     "base_uri": "https://localhost:8080/"
    },
    "execution": {
     "iopub.execute_input": "2023-05-05T23:38:27.249403Z",
     "iopub.status.busy": "2023-05-05T23:38:27.249147Z",
     "iopub.status.idle": "2023-05-05T23:38:27.261702Z",
     "shell.execute_reply": "2023-05-05T23:38:27.260815Z",
     "shell.execute_reply.started": "2023-05-05T23:38:27.249386Z"
    },
    "executionInfo": {
     "elapsed": 194,
     "status": "ok",
     "timestamp": 1682712298538,
     "user": {
      "displayName": "Damir Zunic",
      "userId": "07104666280721646256"
     },
     "user_tz": 240
    },
    "id": "nRKz3IplkavY",
    "outputId": "20121d11-d163-4d2d-cf8d-4ba3e2c560ce",
    "tags": []
   },
   "outputs": [
    {
     "name": "stdout",
     "output_type": "stream",
     "text": [
      "              precision    recall  f1-score   support\n",
      "\n",
      "         hem       0.60      0.75      0.66       339\n",
      "         all       0.94      0.88      0.91      1455\n",
      "\n",
      "    accuracy                           0.86      1794\n",
      "   macro avg       0.77      0.82      0.79      1794\n",
      "weighted avg       0.87      0.86      0.86      1794\n",
      "\n"
     ]
    }
   ],
   "source": [
    "print(classification_report(y_test, y_pred_pcat2, target_names=target_names))"
   ]
  },
  {
   "cell_type": "markdown",
   "id": "70ce5379-2079-43aa-a57c-7706add8e9af",
   "metadata": {},
   "source": [
    "#### Save the model"
   ]
  },
  {
   "cell_type": "code",
   "execution_count": 201,
   "id": "558c866d-f026-42eb-a70e-e0798e40dc15",
   "metadata": {
    "execution": {
     "iopub.execute_input": "2023-05-05T23:38:36.134626Z",
     "iopub.status.busy": "2023-05-05T23:38:36.134352Z",
     "iopub.status.idle": "2023-05-05T23:38:36.328505Z",
     "shell.execute_reply": "2023-05-05T23:38:36.327880Z",
     "shell.execute_reply.started": "2023-05-05T23:38:36.134606Z"
    },
    "tags": []
   },
   "outputs": [],
   "source": [
    "save_piped_model(nn_pca_t_2, 'nn_pca_t_2', 'clf', './saved_models/batch_4_stack' )"
   ]
  },
  {
   "cell_type": "markdown",
   "id": "224ae7e6-08e1-42ea-87af-be1381cddec7",
   "metadata": {},
   "source": [
    " ## Model nn_pca_t_2a"
   ]
  },
  {
   "cell_type": "code",
   "execution_count": 202,
   "id": "1f8ee98b-ac00-400e-9409-bb1ed99cbf09",
   "metadata": {
    "execution": {
     "iopub.execute_input": "2023-05-05T23:44:29.887512Z",
     "iopub.status.busy": "2023-05-05T23:44:29.887117Z",
     "iopub.status.idle": "2023-05-05T23:44:29.892211Z",
     "shell.execute_reply": "2023-05-05T23:44:29.890963Z",
     "shell.execute_reply.started": "2023-05-05T23:44:29.887480Z"
    },
    "tags": []
   },
   "outputs": [],
   "source": [
    "params = {'pca__n_components': 1056,\n",
    " 'clf__epochs': 120,\n",
    " 'clf__batch_size': 128,\n",
    " 'clf__model__dropout': 0.3068920343908312,\n",
    " 'clf__optimizer__learning_rate': 0.0021838722078525593,\n",
    " 'clf__model__hidden_layer_sizes': (260,)}"
   ]
  },
  {
   "cell_type": "code",
   "execution_count": 203,
   "id": "057f3d6c-d2ba-499e-873d-e381b9d85254",
   "metadata": {
    "execution": {
     "iopub.execute_input": "2023-05-05T23:44:32.483168Z",
     "iopub.status.busy": "2023-05-05T23:44:32.482902Z",
     "iopub.status.idle": "2023-05-05T23:45:27.218327Z",
     "shell.execute_reply": "2023-05-05T23:45:27.217466Z",
     "shell.execute_reply.started": "2023-05-05T23:44:32.483150Z"
    },
    "tags": []
   },
   "outputs": [],
   "source": [
    "pipe.set_params(**params)\n",
    "    ## model = SVC(**params, kernel='linear', random_state=random_state)\n",
    "nn_pca_t_2a = pipe.fit(X_train, y_train)"
   ]
  },
  {
   "cell_type": "code",
   "execution_count": 204,
   "id": "6ed84e9e-e99f-4714-b25e-34d0157da790",
   "metadata": {
    "execution": {
     "iopub.execute_input": "2023-05-05T23:45:50.817979Z",
     "iopub.status.busy": "2023-05-05T23:45:50.817722Z",
     "iopub.status.idle": "2023-05-05T23:45:50.828434Z",
     "shell.execute_reply": "2023-05-05T23:45:50.827669Z",
     "shell.execute_reply.started": "2023-05-05T23:45:50.817961Z"
    },
    "tags": []
   },
   "outputs": [
    {
     "data": {
      "text/html": [
       "<style>#sk-container-id-19 {color: black;background-color: white;}#sk-container-id-19 pre{padding: 0;}#sk-container-id-19 div.sk-toggleable {background-color: white;}#sk-container-id-19 label.sk-toggleable__label {cursor: pointer;display: block;width: 100%;margin-bottom: 0;padding: 0.3em;box-sizing: border-box;text-align: center;}#sk-container-id-19 label.sk-toggleable__label-arrow:before {content: \"▸\";float: left;margin-right: 0.25em;color: #696969;}#sk-container-id-19 label.sk-toggleable__label-arrow:hover:before {color: black;}#sk-container-id-19 div.sk-estimator:hover label.sk-toggleable__label-arrow:before {color: black;}#sk-container-id-19 div.sk-toggleable__content {max-height: 0;max-width: 0;overflow: hidden;text-align: left;background-color: #f0f8ff;}#sk-container-id-19 div.sk-toggleable__content pre {margin: 0.2em;color: black;border-radius: 0.25em;background-color: #f0f8ff;}#sk-container-id-19 input.sk-toggleable__control:checked~div.sk-toggleable__content {max-height: 200px;max-width: 100%;overflow: auto;}#sk-container-id-19 input.sk-toggleable__control:checked~label.sk-toggleable__label-arrow:before {content: \"▾\";}#sk-container-id-19 div.sk-estimator input.sk-toggleable__control:checked~label.sk-toggleable__label {background-color: #d4ebff;}#sk-container-id-19 div.sk-label input.sk-toggleable__control:checked~label.sk-toggleable__label {background-color: #d4ebff;}#sk-container-id-19 input.sk-hidden--visually {border: 0;clip: rect(1px 1px 1px 1px);clip: rect(1px, 1px, 1px, 1px);height: 1px;margin: -1px;overflow: hidden;padding: 0;position: absolute;width: 1px;}#sk-container-id-19 div.sk-estimator {font-family: monospace;background-color: #f0f8ff;border: 1px dotted black;border-radius: 0.25em;box-sizing: border-box;margin-bottom: 0.5em;}#sk-container-id-19 div.sk-estimator:hover {background-color: #d4ebff;}#sk-container-id-19 div.sk-parallel-item::after {content: \"\";width: 100%;border-bottom: 1px solid gray;flex-grow: 1;}#sk-container-id-19 div.sk-label:hover label.sk-toggleable__label {background-color: #d4ebff;}#sk-container-id-19 div.sk-serial::before {content: \"\";position: absolute;border-left: 1px solid gray;box-sizing: border-box;top: 0;bottom: 0;left: 50%;z-index: 0;}#sk-container-id-19 div.sk-serial {display: flex;flex-direction: column;align-items: center;background-color: white;padding-right: 0.2em;padding-left: 0.2em;position: relative;}#sk-container-id-19 div.sk-item {position: relative;z-index: 1;}#sk-container-id-19 div.sk-parallel {display: flex;align-items: stretch;justify-content: center;background-color: white;position: relative;}#sk-container-id-19 div.sk-item::before, #sk-container-id-19 div.sk-parallel-item::before {content: \"\";position: absolute;border-left: 1px solid gray;box-sizing: border-box;top: 0;bottom: 0;left: 50%;z-index: -1;}#sk-container-id-19 div.sk-parallel-item {display: flex;flex-direction: column;z-index: 1;position: relative;background-color: white;}#sk-container-id-19 div.sk-parallel-item:first-child::after {align-self: flex-end;width: 50%;}#sk-container-id-19 div.sk-parallel-item:last-child::after {align-self: flex-start;width: 50%;}#sk-container-id-19 div.sk-parallel-item:only-child::after {width: 0;}#sk-container-id-19 div.sk-dashed-wrapped {border: 1px dashed gray;margin: 0 0.4em 0.5em 0.4em;box-sizing: border-box;padding-bottom: 0.4em;background-color: white;}#sk-container-id-19 div.sk-label label {font-family: monospace;font-weight: bold;display: inline-block;line-height: 1.2em;}#sk-container-id-19 div.sk-label-container {text-align: center;}#sk-container-id-19 div.sk-container {/* jupyter's `normalize.less` sets `[hidden] { display: none; }` but bootstrap.min.css set `[hidden] { display: none !important; }` so we also need the `!important` here to be able to override the default hidden behavior on the sphinx rendered scikit-learn.org. See: https://github.com/scikit-learn/scikit-learn/issues/21755 */display: inline-block !important;position: relative;}#sk-container-id-19 div.sk-text-repr-fallback {display: none;}</style><div id=\"sk-container-id-19\" class=\"sk-top-container\"><div class=\"sk-text-repr-fallback\"><pre>Pipeline(steps=[(&#x27;scaler&#x27;, MinMaxScaler()),\n",
       "                (&#x27;pca&#x27;, PCA(n_components=1056, random_state=10)),\n",
       "                (&#x27;clf&#x27;,\n",
       "                 KerasClassifier(batch_size=128, epochs=120, loss=&#x27;binary_crossentropy&#x27;, model=&lt;function get_clf at 0x7fec4a2bfbe0&gt;, model__dropout=0.3068920343908312, model__hidden_layer_sizes=(260,), optimizer=&#x27;adam&#x27;, optimizer__learning_rate=0.0021838722078525593, random_state=10, verbose=0))])</pre><b>In a Jupyter environment, please rerun this cell to show the HTML representation or trust the notebook. <br />On GitHub, the HTML representation is unable to render, please try loading this page with nbviewer.org.</b></div><div class=\"sk-container\" hidden><div class=\"sk-item sk-dashed-wrapped\"><div class=\"sk-label-container\"><div class=\"sk-label sk-toggleable\"><input class=\"sk-toggleable__control sk-hidden--visually\" id=\"sk-estimator-id-67\" type=\"checkbox\" ><label for=\"sk-estimator-id-67\" class=\"sk-toggleable__label sk-toggleable__label-arrow\">Pipeline</label><div class=\"sk-toggleable__content\"><pre>Pipeline(steps=[(&#x27;scaler&#x27;, MinMaxScaler()),\n",
       "                (&#x27;pca&#x27;, PCA(n_components=1056, random_state=10)),\n",
       "                (&#x27;clf&#x27;,\n",
       "                 KerasClassifier(batch_size=128, epochs=120, loss=&#x27;binary_crossentropy&#x27;, model=&lt;function get_clf at 0x7fec4a2bfbe0&gt;, model__dropout=0.3068920343908312, model__hidden_layer_sizes=(260,), optimizer=&#x27;adam&#x27;, optimizer__learning_rate=0.0021838722078525593, random_state=10, verbose=0))])</pre></div></div></div><div class=\"sk-serial\"><div class=\"sk-item\"><div class=\"sk-estimator sk-toggleable\"><input class=\"sk-toggleable__control sk-hidden--visually\" id=\"sk-estimator-id-68\" type=\"checkbox\" ><label for=\"sk-estimator-id-68\" class=\"sk-toggleable__label sk-toggleable__label-arrow\">MinMaxScaler</label><div class=\"sk-toggleable__content\"><pre>MinMaxScaler()</pre></div></div></div><div class=\"sk-item\"><div class=\"sk-estimator sk-toggleable\"><input class=\"sk-toggleable__control sk-hidden--visually\" id=\"sk-estimator-id-69\" type=\"checkbox\" ><label for=\"sk-estimator-id-69\" class=\"sk-toggleable__label sk-toggleable__label-arrow\">PCA</label><div class=\"sk-toggleable__content\"><pre>PCA(n_components=1056, random_state=10)</pre></div></div></div><div class=\"sk-item\"><div class=\"sk-estimator sk-toggleable\"><input class=\"sk-toggleable__control sk-hidden--visually\" id=\"sk-estimator-id-70\" type=\"checkbox\" ><label for=\"sk-estimator-id-70\" class=\"sk-toggleable__label sk-toggleable__label-arrow\">KerasClassifier</label><div class=\"sk-toggleable__content\"><pre>KerasClassifier(\n",
       "\tmodel=&lt;function get_clf at 0x7fec4a2bfbe0&gt;\n",
       "\tbuild_fn=None\n",
       "\twarm_start=False\n",
       "\trandom_state=10\n",
       "\toptimizer=adam\n",
       "\tloss=binary_crossentropy\n",
       "\tmetrics=None\n",
       "\tbatch_size=128\n",
       "\tvalidation_batch_size=None\n",
       "\tverbose=0\n",
       "\tcallbacks=None\n",
       "\tvalidation_split=0.0\n",
       "\tshuffle=True\n",
       "\trun_eagerly=False\n",
       "\tepochs=120\n",
       "\tmodel__hidden_layer_sizes=(260,)\n",
       "\tmodel__dropout=0.3068920343908312\n",
       "\toptimizer__learning_rate=0.0021838722078525593\n",
       "\tclass_weight=None\n",
       ")</pre></div></div></div></div></div></div></div>"
      ],
      "text/plain": [
       "Pipeline(steps=[('scaler', MinMaxScaler()),\n",
       "                ('pca', PCA(n_components=1056, random_state=10)),\n",
       "                ('clf',\n",
       "                 KerasClassifier(batch_size=128, epochs=120, loss='binary_crossentropy', model=<function get_clf at 0x7fec4a2bfbe0>, model__dropout=0.3068920343908312, model__hidden_layer_sizes=(260,), optimizer='adam', optimizer__learning_rate=0.0021838722078525593, random_state=10, verbose=0))])"
      ]
     },
     "execution_count": 204,
     "metadata": {},
     "output_type": "execute_result"
    }
   ],
   "source": [
    "nn_pca_t_2a"
   ]
  },
  {
   "cell_type": "code",
   "execution_count": 205,
   "id": "1e6ca1aa-0318-4214-8d0d-5c6e018f9314",
   "metadata": {
    "execution": {
     "iopub.execute_input": "2023-05-05T23:46:30.559870Z",
     "iopub.status.busy": "2023-05-05T23:46:30.559628Z",
     "iopub.status.idle": "2023-05-05T23:46:30.932526Z",
     "shell.execute_reply": "2023-05-05T23:46:30.931487Z",
     "shell.execute_reply.started": "2023-05-05T23:46:30.559854Z"
    },
    "tags": []
   },
   "outputs": [],
   "source": [
    "# Make predictions with the hypertuned model\n",
    "y_pred_pcat2a = nn_pca_t_2a.predict(X_test)"
   ]
  },
  {
   "cell_type": "code",
   "execution_count": 206,
   "id": "c15ba4aa-f061-4cf6-b330-143fd8f50aa4",
   "metadata": {
    "colab": {
     "base_uri": "https://localhost:8080/"
    },
    "execution": {
     "iopub.execute_input": "2023-05-05T23:46:33.630856Z",
     "iopub.status.busy": "2023-05-05T23:46:33.630554Z",
     "iopub.status.idle": "2023-05-05T23:46:33.639861Z",
     "shell.execute_reply": "2023-05-05T23:46:33.638257Z",
     "shell.execute_reply.started": "2023-05-05T23:46:33.630838Z"
    },
    "executionInfo": {
     "elapsed": 312,
     "status": "ok",
     "timestamp": 1682712246169,
     "user": {
      "displayName": "Damir Zunic",
      "userId": "07104666280721646256"
     },
     "user_tz": 240
    },
    "id": "hbTv01iskavX",
    "outputId": "bcbc4bcd-6492-4e64-c009-a4ff56941dcc",
    "tags": []
   },
   "outputs": [
    {
     "name": "stdout",
     "output_type": "stream",
     "text": [
      "Accuracy after tuning: 86.34\n"
     ]
    }
   ],
   "source": [
    "accuracy = accuracy_score(y_test, y_pred_pcat2a)\n",
    "print(f'Accuracy after tuning: {accuracy * 100.0:.2f}')"
   ]
  },
  {
   "cell_type": "code",
   "execution_count": 207,
   "id": "4a46c85f-1e6a-4455-a637-2ee178cfdc5b",
   "metadata": {
    "colab": {
     "base_uri": "https://localhost:8080/"
    },
    "execution": {
     "iopub.execute_input": "2023-05-05T23:46:42.202003Z",
     "iopub.status.busy": "2023-05-05T23:46:42.201666Z",
     "iopub.status.idle": "2023-05-05T23:46:43.490198Z",
     "shell.execute_reply": "2023-05-05T23:46:43.489327Z",
     "shell.execute_reply.started": "2023-05-05T23:46:42.201986Z"
    },
    "executionInfo": {
     "elapsed": 652,
     "status": "ok",
     "timestamp": 1682712256130,
     "user": {
      "displayName": "Damir Zunic",
      "userId": "07104666280721646256"
     },
     "user_tz": 240
    },
    "id": "kfP1WnUfkavY",
    "outputId": "7f45f46e-dbe1-4735-f46f-74ff470c0152",
    "tags": []
   },
   "outputs": [
    {
     "name": "stdout",
     "output_type": "stream",
     "text": [
      "Training Data Score: 1.0\n",
      "Testing Data Score: 0.8634336677814939\n"
     ]
    }
   ],
   "source": [
    "# Compare training and testing scores\n",
    "print(f\"Training Data Score: {nn_pca_t_2a.score(X_train, y_train)}\")\n",
    "print(f\"Testing Data Score: {nn_pca_t_2a.score(X_test, y_test)}\")"
   ]
  },
  {
   "cell_type": "code",
   "execution_count": 208,
   "id": "d6d97792-f752-488a-995f-26d2054315eb",
   "metadata": {
    "execution": {
     "iopub.execute_input": "2023-05-05T23:46:48.525121Z",
     "iopub.status.busy": "2023-05-05T23:46:48.524856Z",
     "iopub.status.idle": "2023-05-05T23:46:48.532190Z",
     "shell.execute_reply": "2023-05-05T23:46:48.531276Z",
     "shell.execute_reply.started": "2023-05-05T23:46:48.525102Z"
    },
    "tags": []
   },
   "outputs": [
    {
     "name": "stdout",
     "output_type": "stream",
     "text": [
      "[[ 256   83]\n",
      " [ 162 1293]]\n"
     ]
    }
   ],
   "source": [
    "cm = confusion_matrix(y_test, y_pred_pcat2a)\n",
    "print(cm)"
   ]
  },
  {
   "cell_type": "code",
   "execution_count": 209,
   "id": "f2bdeb24-2d9d-4b68-8b00-7313d0de02ce",
   "metadata": {
    "colab": {
     "base_uri": "https://localhost:8080/",
     "height": 315
    },
    "execution": {
     "iopub.execute_input": "2023-05-05T23:46:53.540396Z",
     "iopub.status.busy": "2023-05-05T23:46:53.540130Z",
     "iopub.status.idle": "2023-05-05T23:46:53.928861Z",
     "shell.execute_reply": "2023-05-05T23:46:53.927988Z",
     "shell.execute_reply.started": "2023-05-05T23:46:53.540377Z"
    },
    "executionInfo": {
     "elapsed": 1309,
     "status": "ok",
     "timestamp": 1682712278412,
     "user": {
      "displayName": "Damir Zunic",
      "userId": "07104666280721646256"
     },
     "user_tz": 240
    },
    "id": "yAEszP3ikavY",
    "outputId": "7ecea9cd-5234-4237-eca2-360e5a138c82",
    "tags": []
   },
   "outputs": [
    {
     "data": {
      "image/png": "[encoded data removed]",
      "text/plain": [
       "<Figure size 864x288 with 4 Axes>"
      ]
     },
     "metadata": {},
     "output_type": "display_data"
    }
   ],
   "source": [
    "# Plot confusion matrix and its normalized version.\n",
    "mu.plot_cm_unnorm_and_norm('Neural Network - PCA tuned #2', y_test, y_pred_pcat2a, target_names, 'Reds')"
   ]
  },
  {
   "cell_type": "code",
   "execution_count": 210,
   "id": "6dd1d5cd-86f4-4492-a786-de98fd4c33f3",
   "metadata": {
    "colab": {
     "base_uri": "https://localhost:8080/"
    },
    "execution": {
     "iopub.execute_input": "2023-05-05T23:46:58.602731Z",
     "iopub.status.busy": "2023-05-05T23:46:58.602448Z",
     "iopub.status.idle": "2023-05-05T23:46:58.617666Z",
     "shell.execute_reply": "2023-05-05T23:46:58.616730Z",
     "shell.execute_reply.started": "2023-05-05T23:46:58.602711Z"
    },
    "executionInfo": {
     "elapsed": 194,
     "status": "ok",
     "timestamp": 1682712298538,
     "user": {
      "displayName": "Damir Zunic",
      "userId": "07104666280721646256"
     },
     "user_tz": 240
    },
    "id": "nRKz3IplkavY",
    "outputId": "20121d11-d163-4d2d-cf8d-4ba3e2c560ce",
    "tags": []
   },
   "outputs": [
    {
     "name": "stdout",
     "output_type": "stream",
     "text": [
      "              precision    recall  f1-score   support\n",
      "\n",
      "         hem       0.61      0.76      0.68       339\n",
      "         all       0.94      0.89      0.91      1455\n",
      "\n",
      "    accuracy                           0.86      1794\n",
      "   macro avg       0.78      0.82      0.79      1794\n",
      "weighted avg       0.88      0.86      0.87      1794\n",
      "\n"
     ]
    }
   ],
   "source": [
    "print(classification_report(y_test, y_pred_pcat2a, target_names=target_names))"
   ]
  },
  {
   "cell_type": "markdown",
   "id": "42c376b8-baed-410b-b0f6-a493b3e5cf10",
   "metadata": {},
   "source": [
    "#### Save the model"
   ]
  },
  {
   "cell_type": "code",
   "execution_count": 211,
   "id": "79a75500-94c1-4191-b6f3-6b3ab0e5c55f",
   "metadata": {
    "execution": {
     "iopub.execute_input": "2023-05-05T23:47:07.105070Z",
     "iopub.status.busy": "2023-05-05T23:47:07.104820Z",
     "iopub.status.idle": "2023-05-05T23:47:07.300981Z",
     "shell.execute_reply": "2023-05-05T23:47:07.300060Z",
     "shell.execute_reply.started": "2023-05-05T23:47:07.105053Z"
    },
    "tags": []
   },
   "outputs": [],
   "source": [
    "save_piped_model(nn_pca_t_2a, 'nn_pca_t_2a', 'clf', './saved_models/batch_4_stack' )"
   ]
  }
 ],
 "metadata": {
  "kernelspec": {
   "display_name": "omdena_p310",
   "language": "python",
   "name": "conda-env-omdena_p310-py"
  },
  "language_info": {
   "codemirror_mode": {
    "name": "ipython",
    "version": 3
   },
   "file_extension": ".py",
   "mimetype": "text/x-python",
   "name": "python",
   "nbconvert_exporter": "python",
   "pygments_lexer": "ipython3",
   "version": "3.10.10"
  },
  "widgets": {
   "application/vnd.jupyter.widget-state+json": {
    "state": {},
    "version_major": 2,
    "version_minor": 0
   }
  }
 },
 "nbformat": 4,
 "nbformat_minor": 5
}
