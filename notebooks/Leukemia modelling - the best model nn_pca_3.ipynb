{
 "cells": [
  {
   "cell_type": "markdown",
   "id": "1baf1aa2-ade1-464a-9e0f-7d2210ccc1d4",
   "metadata": {
    "id": "a6996cf1-5b97-45b2-920a-112afc130631"
   },
   "source": [
    "# Classifying ALL- the best model nn_pca__3"
   ]
  },
  {
   "cell_type": "markdown",
   "id": "93cc4ff3-1f51-46f2-b20d-c2d7f903d0b5",
   "metadata": {
    "id": "efde2851-d71b-42bd-b4a6-b2afe8543bc3"
   },
   "source": [
    "## Dependencies"
   ]
  },
  {
   "cell_type": "code",
   "execution_count": 37,
   "id": "4316d4d2-fe08-4e2b-a44a-26cce9d555e1",
   "metadata": {
    "execution": {
     "iopub.execute_input": "2023-05-07T14:49:30.323435Z",
     "iopub.status.busy": "2023-05-07T14:49:30.323138Z",
     "iopub.status.idle": "2023-05-07T14:49:30.329435Z",
     "shell.execute_reply": "2023-05-07T14:49:30.328199Z",
     "shell.execute_reply.started": "2023-05-07T14:49:30.323418Z"
    },
    "tags": []
   },
   "outputs": [],
   "source": [
    "import os\n",
    "import pandas as pd\n",
    "import numpy as np\n",
    "import matplotlib.pyplot as plt\n",
    "\n",
    "# To remove these warnings : \"Your kernel may have been built without NUMA support.\"\n",
    "#   run these 2 lines before importing tensorflow\n",
    "os.environ['TF_CPP_MIN_LOG_LEVEL'] = '1'        # or any {'0', '1', '2', '3'}\n",
    "\n",
    "import joblib\n",
    "from tensorflow.keras.models import load_model\n",
    "\n",
    "from sklearn.metrics import accuracy_score, confusion_matrix, classification_report\n",
    "from sklearn.metrics import roc_curve, roc_auc_score"
   ]
  },
  {
   "cell_type": "code",
   "execution_count": 14,
   "id": "f149ee94-8f14-4edc-817a-b7e15624acce",
   "metadata": {
    "execution": {
     "iopub.execute_input": "2023-05-07T14:22:50.442682Z",
     "iopub.status.busy": "2023-05-07T14:22:50.442075Z",
     "iopub.status.idle": "2023-05-07T14:22:50.835289Z",
     "shell.execute_reply": "2023-05-07T14:22:50.834176Z",
     "shell.execute_reply.started": "2023-05-07T14:22:50.442663Z"
    },
    "tags": []
   },
   "outputs": [],
   "source": [
    "# Import the script from different folder\n",
    "import sys  \n",
    "#  sys.path.append('/content/drive/MyDrive/Omdena/Team1/scripts')\n",
    "sys.path.append('../scripts')\n",
    "\n",
    "import metrics_utilities as mu\n",
    "\n",
    "# Import model build function \"get_clf\"from the script \"keras_model.py\"\n",
    "import keras_model as km"
   ]
  },
  {
   "cell_type": "markdown",
   "id": "fad99001-6d2a-492e-9bd9-fb3aba62258a",
   "metadata": {
    "id": "f6972b56-7460-4ebf-a232-6ec4e31cfd52"
   },
   "source": [
    "## Batch_4 Train Dataset"
   ]
  },
  {
   "cell_type": "code",
   "execution_count": 2,
   "id": "d22b2798-2052-4bbd-b2d2-1cd657c3783e",
   "metadata": {
    "colab": {
     "base_uri": "https://localhost:8080/",
     "height": 236
    },
    "execution": {
     "iopub.execute_input": "2023-05-07T13:37:46.579951Z",
     "iopub.status.busy": "2023-05-07T13:37:46.579154Z",
     "iopub.status.idle": "2023-05-07T13:37:47.104734Z",
     "shell.execute_reply": "2023-05-07T13:37:47.103818Z",
     "shell.execute_reply.started": "2023-05-07T13:37:46.579934Z"
    },
    "executionInfo": {
     "elapsed": 3868,
     "status": "ok",
     "timestamp": 1682697490408,
     "user": {
      "displayName": "Damir Zunic",
      "userId": "07104666280721646256"
     },
     "user_tz": 240
    },
    "id": "50680de8-19f1-4259-abfe-02e956eeafae",
    "outputId": "f8a74a3c-69aa-4e31-9460-dde0b0a8fecc",
    "tags": []
   },
   "outputs": [
    {
     "data": {
      "text/html": [
       "<div>\n",
       "<style scoped>\n",
       "    .dataframe tbody tr th:only-of-type {\n",
       "        vertical-align: middle;\n",
       "    }\n",
       "\n",
       "    .dataframe tbody tr th {\n",
       "        vertical-align: top;\n",
       "    }\n",
       "\n",
       "    .dataframe thead th {\n",
       "        text-align: right;\n",
       "    }\n",
       "</style>\n",
       "<table border=\"1\" class=\"dataframe\">\n",
       "  <thead>\n",
       "    <tr style=\"text-align: right;\">\n",
       "      <th></th>\n",
       "      <th>0</th>\n",
       "      <th>1</th>\n",
       "      <th>2</th>\n",
       "      <th>3</th>\n",
       "      <th>4</th>\n",
       "      <th>5</th>\n",
       "      <th>6</th>\n",
       "      <th>7</th>\n",
       "      <th>8</th>\n",
       "      <th>9</th>\n",
       "      <th>...</th>\n",
       "      <th>4599</th>\n",
       "      <th>4600</th>\n",
       "      <th>4601</th>\n",
       "      <th>4602</th>\n",
       "      <th>4603</th>\n",
       "      <th>4604</th>\n",
       "      <th>4605</th>\n",
       "      <th>4606</th>\n",
       "      <th>4607</th>\n",
       "      <th>label</th>\n",
       "    </tr>\n",
       "  </thead>\n",
       "  <tbody>\n",
       "    <tr>\n",
       "      <th>0</th>\n",
       "      <td>0.185833</td>\n",
       "      <td>0.0</td>\n",
       "      <td>0.00000</td>\n",
       "      <td>0.000000</td>\n",
       "      <td>0.0</td>\n",
       "      <td>0.0</td>\n",
       "      <td>0.0</td>\n",
       "      <td>0.231458</td>\n",
       "      <td>0.0</td>\n",
       "      <td>0.0</td>\n",
       "      <td>...</td>\n",
       "      <td>0.545079</td>\n",
       "      <td>0.170755</td>\n",
       "      <td>0.0</td>\n",
       "      <td>0.096298</td>\n",
       "      <td>0.174819</td>\n",
       "      <td>0.0</td>\n",
       "      <td>0.0</td>\n",
       "      <td>0.361853</td>\n",
       "      <td>0.0</td>\n",
       "      <td>0</td>\n",
       "    </tr>\n",
       "    <tr>\n",
       "      <th>1</th>\n",
       "      <td>0.123157</td>\n",
       "      <td>0.0</td>\n",
       "      <td>0.56544</td>\n",
       "      <td>0.350086</td>\n",
       "      <td>0.0</td>\n",
       "      <td>0.0</td>\n",
       "      <td>0.0</td>\n",
       "      <td>0.228849</td>\n",
       "      <td>0.0</td>\n",
       "      <td>0.0</td>\n",
       "      <td>...</td>\n",
       "      <td>0.663390</td>\n",
       "      <td>0.115025</td>\n",
       "      <td>0.0</td>\n",
       "      <td>0.099379</td>\n",
       "      <td>0.516193</td>\n",
       "      <td>0.0</td>\n",
       "      <td>0.0</td>\n",
       "      <td>0.239392</td>\n",
       "      <td>0.0</td>\n",
       "      <td>1</td>\n",
       "    </tr>\n",
       "    <tr>\n",
       "      <th>2</th>\n",
       "      <td>0.197977</td>\n",
       "      <td>0.0</td>\n",
       "      <td>0.00000</td>\n",
       "      <td>0.000000</td>\n",
       "      <td>0.0</td>\n",
       "      <td>0.0</td>\n",
       "      <td>0.0</td>\n",
       "      <td>0.155163</td>\n",
       "      <td>0.0</td>\n",
       "      <td>0.0</td>\n",
       "      <td>...</td>\n",
       "      <td>0.663023</td>\n",
       "      <td>0.021846</td>\n",
       "      <td>0.0</td>\n",
       "      <td>0.000000</td>\n",
       "      <td>0.173690</td>\n",
       "      <td>0.0</td>\n",
       "      <td>0.0</td>\n",
       "      <td>0.270634</td>\n",
       "      <td>0.0</td>\n",
       "      <td>1</td>\n",
       "    </tr>\n",
       "    <tr>\n",
       "      <th>3</th>\n",
       "      <td>0.580151</td>\n",
       "      <td>0.0</td>\n",
       "      <td>0.00000</td>\n",
       "      <td>0.000000</td>\n",
       "      <td>0.0</td>\n",
       "      <td>0.0</td>\n",
       "      <td>0.0</td>\n",
       "      <td>0.298566</td>\n",
       "      <td>0.0</td>\n",
       "      <td>0.0</td>\n",
       "      <td>...</td>\n",
       "      <td>0.470815</td>\n",
       "      <td>0.000000</td>\n",
       "      <td>0.0</td>\n",
       "      <td>0.000000</td>\n",
       "      <td>0.118325</td>\n",
       "      <td>0.0</td>\n",
       "      <td>0.0</td>\n",
       "      <td>0.000000</td>\n",
       "      <td>0.0</td>\n",
       "      <td>0</td>\n",
       "    </tr>\n",
       "    <tr>\n",
       "      <th>4</th>\n",
       "      <td>0.066450</td>\n",
       "      <td>0.0</td>\n",
       "      <td>0.00000</td>\n",
       "      <td>0.000000</td>\n",
       "      <td>0.0</td>\n",
       "      <td>0.0</td>\n",
       "      <td>0.0</td>\n",
       "      <td>0.145156</td>\n",
       "      <td>0.0</td>\n",
       "      <td>0.0</td>\n",
       "      <td>...</td>\n",
       "      <td>0.645798</td>\n",
       "      <td>0.015262</td>\n",
       "      <td>0.0</td>\n",
       "      <td>0.027536</td>\n",
       "      <td>0.275665</td>\n",
       "      <td>0.0</td>\n",
       "      <td>0.0</td>\n",
       "      <td>0.000000</td>\n",
       "      <td>0.0</td>\n",
       "      <td>0</td>\n",
       "    </tr>\n",
       "  </tbody>\n",
       "</table>\n",
       "<p>5 rows × 4609 columns</p>\n",
       "</div>"
      ],
      "text/plain": [
       "          0    1        2         3    4    5    6         7    8    9  ...   \n",
       "0  0.185833  0.0  0.00000  0.000000  0.0  0.0  0.0  0.231458  0.0  0.0  ...  \\\n",
       "1  0.123157  0.0  0.56544  0.350086  0.0  0.0  0.0  0.228849  0.0  0.0  ...   \n",
       "2  0.197977  0.0  0.00000  0.000000  0.0  0.0  0.0  0.155163  0.0  0.0  ...   \n",
       "3  0.580151  0.0  0.00000  0.000000  0.0  0.0  0.0  0.298566  0.0  0.0  ...   \n",
       "4  0.066450  0.0  0.00000  0.000000  0.0  0.0  0.0  0.145156  0.0  0.0  ...   \n",
       "\n",
       "       4599      4600  4601      4602      4603  4604  4605      4606  4607   \n",
       "0  0.545079  0.170755   0.0  0.096298  0.174819   0.0   0.0  0.361853   0.0  \\\n",
       "1  0.663390  0.115025   0.0  0.099379  0.516193   0.0   0.0  0.239392   0.0   \n",
       "2  0.663023  0.021846   0.0  0.000000  0.173690   0.0   0.0  0.270634   0.0   \n",
       "3  0.470815  0.000000   0.0  0.000000  0.118325   0.0   0.0  0.000000   0.0   \n",
       "4  0.645798  0.015262   0.0  0.027536  0.275665   0.0   0.0  0.000000   0.0   \n",
       "\n",
       "   label  \n",
       "0      0  \n",
       "1      1  \n",
       "2      1  \n",
       "3      0  \n",
       "4      0  \n",
       "\n",
       "[5 rows x 4609 columns]"
      ]
     },
     "execution_count": 2,
     "metadata": {},
     "output_type": "execute_result"
    }
   ],
   "source": [
    "# df_train = pd.read_pickle('/content/drive/MyDrive/Omdena/Team1/batch_4/train_data.pickle')\n",
    "df_train = pd.read_pickle('../data/batch_4/train_data.pickle')\n",
    "df_train.head()"
   ]
  },
  {
   "cell_type": "markdown",
   "id": "bdba4b99-e5e0-4b83-918b-6fb311af0d48",
   "metadata": {
    "id": "bc265c31-9615-4d03-84ea-f6e9b6d859a0"
   },
   "source": [
    "#### Separate features and labels"
   ]
  },
  {
   "cell_type": "code",
   "execution_count": 3,
   "id": "94d4f1b2-5f65-4e53-937f-894e2dbcc1de",
   "metadata": {
    "colab": {
     "base_uri": "https://localhost:8080/"
    },
    "execution": {
     "iopub.execute_input": "2023-05-07T13:37:47.105915Z",
     "iopub.status.busy": "2023-05-07T13:37:47.105626Z",
     "iopub.status.idle": "2023-05-07T13:37:47.187322Z",
     "shell.execute_reply": "2023-05-07T13:37:47.186563Z",
     "shell.execute_reply.started": "2023-05-07T13:37:47.105891Z"
    },
    "executionInfo": {
     "elapsed": 21,
     "status": "ok",
     "timestamp": 1682697490649,
     "user": {
      "displayName": "Damir Zunic",
      "userId": "07104666280721646256"
     },
     "user_tz": 240
    },
    "id": "53917c6d-17a1-408a-abff-ba0b00fbad17",
    "outputId": "02500c1d-7cff-405e-b88a-61a97267da94",
    "tags": []
   },
   "outputs": [
    {
     "name": "stdout",
     "output_type": "stream",
     "text": [
      "(11917, 4608) (11917,)\n"
     ]
    }
   ],
   "source": [
    "X_train = df_train.iloc[:, : -1]\n",
    "y_train = df_train['label']\n",
    "print(X_train.shape, y_train.shape)"
   ]
  },
  {
   "cell_type": "markdown",
   "id": "9fb48d8c-eff4-46a2-801b-26963bf57c1d",
   "metadata": {
    "id": "7f337a50-6390-4684-8d06-8f090e7f81db"
   },
   "source": [
    "## Batch_4 Test Dataset"
   ]
  },
  {
   "cell_type": "code",
   "execution_count": 4,
   "id": "436442cf-d4eb-40ff-9a85-d5da56423ba2",
   "metadata": {
    "colab": {
     "base_uri": "https://localhost:8080/",
     "height": 236
    },
    "execution": {
     "iopub.execute_input": "2023-05-07T13:37:47.189293Z",
     "iopub.status.busy": "2023-05-07T13:37:47.188867Z",
     "iopub.status.idle": "2023-05-07T13:37:47.316635Z",
     "shell.execute_reply": "2023-05-07T13:37:47.314698Z",
     "shell.execute_reply.started": "2023-05-07T13:37:47.189264Z"
    },
    "executionInfo": {
     "elapsed": 1269,
     "status": "ok",
     "timestamp": 1682697491904,
     "user": {
      "displayName": "Damir Zunic",
      "userId": "07104666280721646256"
     },
     "user_tz": 240
    },
    "id": "8b23c3a0-0681-45ad-9b33-6a3bd69473bb",
    "outputId": "e24e0231-be1c-4243-f3f6-47f5565acafb",
    "tags": []
   },
   "outputs": [
    {
     "data": {
      "text/html": [
       "<div>\n",
       "<style scoped>\n",
       "    .dataframe tbody tr th:only-of-type {\n",
       "        vertical-align: middle;\n",
       "    }\n",
       "\n",
       "    .dataframe tbody tr th {\n",
       "        vertical-align: top;\n",
       "    }\n",
       "\n",
       "    .dataframe thead th {\n",
       "        text-align: right;\n",
       "    }\n",
       "</style>\n",
       "<table border=\"1\" class=\"dataframe\">\n",
       "  <thead>\n",
       "    <tr style=\"text-align: right;\">\n",
       "      <th></th>\n",
       "      <th>0</th>\n",
       "      <th>1</th>\n",
       "      <th>2</th>\n",
       "      <th>3</th>\n",
       "      <th>4</th>\n",
       "      <th>5</th>\n",
       "      <th>6</th>\n",
       "      <th>7</th>\n",
       "      <th>8</th>\n",
       "      <th>9</th>\n",
       "      <th>...</th>\n",
       "      <th>4599</th>\n",
       "      <th>4600</th>\n",
       "      <th>4601</th>\n",
       "      <th>4602</th>\n",
       "      <th>4603</th>\n",
       "      <th>4604</th>\n",
       "      <th>4605</th>\n",
       "      <th>4606</th>\n",
       "      <th>4607</th>\n",
       "      <th>label</th>\n",
       "    </tr>\n",
       "  </thead>\n",
       "  <tbody>\n",
       "    <tr>\n",
       "      <th>0</th>\n",
       "      <td>0.141500</td>\n",
       "      <td>0.0</td>\n",
       "      <td>0.000000</td>\n",
       "      <td>0.000000</td>\n",
       "      <td>0.0</td>\n",
       "      <td>0.0</td>\n",
       "      <td>0.0</td>\n",
       "      <td>0.151137</td>\n",
       "      <td>0.0</td>\n",
       "      <td>0.0</td>\n",
       "      <td>...</td>\n",
       "      <td>0.885778</td>\n",
       "      <td>0.066009</td>\n",
       "      <td>0.0</td>\n",
       "      <td>0.169458</td>\n",
       "      <td>0.570154</td>\n",
       "      <td>0.0</td>\n",
       "      <td>0.0</td>\n",
       "      <td>0.090579</td>\n",
       "      <td>0.0</td>\n",
       "      <td>0</td>\n",
       "    </tr>\n",
       "    <tr>\n",
       "      <th>1</th>\n",
       "      <td>0.047403</td>\n",
       "      <td>0.0</td>\n",
       "      <td>0.000000</td>\n",
       "      <td>0.000000</td>\n",
       "      <td>0.0</td>\n",
       "      <td>0.0</td>\n",
       "      <td>0.0</td>\n",
       "      <td>0.000000</td>\n",
       "      <td>0.0</td>\n",
       "      <td>0.0</td>\n",
       "      <td>...</td>\n",
       "      <td>0.649062</td>\n",
       "      <td>0.260996</td>\n",
       "      <td>0.0</td>\n",
       "      <td>0.049776</td>\n",
       "      <td>0.494771</td>\n",
       "      <td>0.0</td>\n",
       "      <td>0.0</td>\n",
       "      <td>0.480568</td>\n",
       "      <td>0.0</td>\n",
       "      <td>0</td>\n",
       "    </tr>\n",
       "    <tr>\n",
       "      <th>2</th>\n",
       "      <td>0.000000</td>\n",
       "      <td>0.0</td>\n",
       "      <td>0.000000</td>\n",
       "      <td>0.023559</td>\n",
       "      <td>0.0</td>\n",
       "      <td>0.0</td>\n",
       "      <td>0.0</td>\n",
       "      <td>0.060329</td>\n",
       "      <td>0.0</td>\n",
       "      <td>0.0</td>\n",
       "      <td>...</td>\n",
       "      <td>0.725523</td>\n",
       "      <td>0.166289</td>\n",
       "      <td>0.0</td>\n",
       "      <td>0.131945</td>\n",
       "      <td>0.299330</td>\n",
       "      <td>0.0</td>\n",
       "      <td>0.0</td>\n",
       "      <td>0.000000</td>\n",
       "      <td>0.0</td>\n",
       "      <td>0</td>\n",
       "    </tr>\n",
       "    <tr>\n",
       "      <th>3</th>\n",
       "      <td>0.002286</td>\n",
       "      <td>0.0</td>\n",
       "      <td>0.655825</td>\n",
       "      <td>0.259398</td>\n",
       "      <td>0.0</td>\n",
       "      <td>0.0</td>\n",
       "      <td>0.0</td>\n",
       "      <td>0.000000</td>\n",
       "      <td>0.0</td>\n",
       "      <td>0.0</td>\n",
       "      <td>...</td>\n",
       "      <td>0.626934</td>\n",
       "      <td>0.244303</td>\n",
       "      <td>0.0</td>\n",
       "      <td>0.100791</td>\n",
       "      <td>0.448022</td>\n",
       "      <td>0.0</td>\n",
       "      <td>0.0</td>\n",
       "      <td>0.295682</td>\n",
       "      <td>0.0</td>\n",
       "      <td>0</td>\n",
       "    </tr>\n",
       "    <tr>\n",
       "      <th>4</th>\n",
       "      <td>0.279953</td>\n",
       "      <td>0.0</td>\n",
       "      <td>0.000000</td>\n",
       "      <td>0.000000</td>\n",
       "      <td>0.0</td>\n",
       "      <td>0.0</td>\n",
       "      <td>0.0</td>\n",
       "      <td>0.168589</td>\n",
       "      <td>0.0</td>\n",
       "      <td>0.0</td>\n",
       "      <td>...</td>\n",
       "      <td>0.489483</td>\n",
       "      <td>0.166786</td>\n",
       "      <td>0.0</td>\n",
       "      <td>0.000000</td>\n",
       "      <td>0.212874</td>\n",
       "      <td>0.0</td>\n",
       "      <td>0.0</td>\n",
       "      <td>0.000000</td>\n",
       "      <td>0.0</td>\n",
       "      <td>0</td>\n",
       "    </tr>\n",
       "  </tbody>\n",
       "</table>\n",
       "<p>5 rows × 4609 columns</p>\n",
       "</div>"
      ],
      "text/plain": [
       "          0    1         2         3    4    5    6         7    8    9  ...   \n",
       "0  0.141500  0.0  0.000000  0.000000  0.0  0.0  0.0  0.151137  0.0  0.0  ...  \\\n",
       "1  0.047403  0.0  0.000000  0.000000  0.0  0.0  0.0  0.000000  0.0  0.0  ...   \n",
       "2  0.000000  0.0  0.000000  0.023559  0.0  0.0  0.0  0.060329  0.0  0.0  ...   \n",
       "3  0.002286  0.0  0.655825  0.259398  0.0  0.0  0.0  0.000000  0.0  0.0  ...   \n",
       "4  0.279953  0.0  0.000000  0.000000  0.0  0.0  0.0  0.168589  0.0  0.0  ...   \n",
       "\n",
       "       4599      4600  4601      4602      4603  4604  4605      4606  4607   \n",
       "0  0.885778  0.066009   0.0  0.169458  0.570154   0.0   0.0  0.090579   0.0  \\\n",
       "1  0.649062  0.260996   0.0  0.049776  0.494771   0.0   0.0  0.480568   0.0   \n",
       "2  0.725523  0.166289   0.0  0.131945  0.299330   0.0   0.0  0.000000   0.0   \n",
       "3  0.626934  0.244303   0.0  0.100791  0.448022   0.0   0.0  0.295682   0.0   \n",
       "4  0.489483  0.166786   0.0  0.000000  0.212874   0.0   0.0  0.000000   0.0   \n",
       "\n",
       "   label  \n",
       "0      0  \n",
       "1      0  \n",
       "2      0  \n",
       "3      0  \n",
       "4      0  \n",
       "\n",
       "[5 rows x 4609 columns]"
      ]
     },
     "execution_count": 4,
     "metadata": {},
     "output_type": "execute_result"
    }
   ],
   "source": [
    "# df_test = pd.read_pickle('/content/drive/MyDrive/Omdena/Team1/batch_4/test_data.pickle')\n",
    "df_test = pd.read_pickle('../data/batch_4/test_data.pickle')\n",
    "df_test.head()"
   ]
  },
  {
   "cell_type": "markdown",
   "id": "b654ee3a-efea-4d84-acdc-594cef2f869f",
   "metadata": {
    "id": "39703559-09fd-4ca8-8501-9970aff7131b"
   },
   "source": [
    "#### Separate features and labels"
   ]
  },
  {
   "cell_type": "code",
   "execution_count": 5,
   "id": "86b8b2ae-f2fd-40e2-adec-3a3e5986fa1a",
   "metadata": {
    "colab": {
     "base_uri": "https://localhost:8080/"
    },
    "execution": {
     "iopub.execute_input": "2023-05-07T13:37:47.319612Z",
     "iopub.status.busy": "2023-05-07T13:37:47.318952Z",
     "iopub.status.idle": "2023-05-07T13:37:47.347845Z",
     "shell.execute_reply": "2023-05-07T13:37:47.346535Z",
     "shell.execute_reply.started": "2023-05-07T13:37:47.319575Z"
    },
    "executionInfo": {
     "elapsed": 12,
     "status": "ok",
     "timestamp": 1682697491904,
     "user": {
      "displayName": "Damir Zunic",
      "userId": "07104666280721646256"
     },
     "user_tz": 240
    },
    "id": "0745e5f6-83ce-49d1-af0d-d3210357fc73",
    "outputId": "4526085c-13c1-4532-bbb1-18e947a1a9bb"
   },
   "outputs": [
    {
     "name": "stdout",
     "output_type": "stream",
     "text": [
      "(1794, 4608) (1794,)\n"
     ]
    }
   ],
   "source": [
    "X_test = df_test.iloc[:, :-1]\n",
    "y_test = df_test['label']\n",
    "print(X_test.shape, y_test.shape)"
   ]
  },
  {
   "cell_type": "markdown",
   "id": "27d1fb9e-43d3-48b1-aa73-03fe96d59265",
   "metadata": {
    "id": "e3044c63-cce9-40da-abf8-b113175a2c37"
   },
   "source": [
    "#### Names of Classes"
   ]
  },
  {
   "cell_type": "code",
   "execution_count": 6,
   "id": "a86de505-01c9-4e60-a41a-4e9cff8313de",
   "metadata": {
    "execution": {
     "iopub.execute_input": "2023-05-07T13:37:47.349253Z",
     "iopub.status.busy": "2023-05-07T13:37:47.348983Z",
     "iopub.status.idle": "2023-05-07T13:37:47.354323Z",
     "shell.execute_reply": "2023-05-07T13:37:47.352964Z",
     "shell.execute_reply.started": "2023-05-07T13:37:47.349236Z"
    },
    "tags": []
   },
   "outputs": [],
   "source": [
    "target_names = ['hem', 'all']"
   ]
  },
  {
   "cell_type": "markdown",
   "id": "8887ab99-d500-461d-a9fe-604e5782adb3",
   "metadata": {},
   "source": [
    "## Two steps model loading"
   ]
  },
  {
   "cell_type": "markdown",
   "id": "6ce87182-67ee-4c71-8340-a4f1d9794ee3",
   "metadata": {},
   "source": [
    "Prepare paths and pipeline step name"
   ]
  },
  {
   "cell_type": "code",
   "execution_count": 12,
   "id": "4f70f21a-1956-4f7e-bd46-7d15aa9e19bd",
   "metadata": {
    "execution": {
     "iopub.execute_input": "2023-05-07T14:19:48.565844Z",
     "iopub.status.busy": "2023-05-07T14:19:48.565578Z",
     "iopub.status.idle": "2023-05-07T14:19:48.570354Z",
     "shell.execute_reply": "2023-05-07T14:19:48.569419Z",
     "shell.execute_reply.started": "2023-05-07T14:19:48.565826Z"
    },
    "tags": []
   },
   "outputs": [],
   "source": [
    "# Prepare paths\n",
    "cwd = os.getcwd()  # current working folder\n",
    "pardir = os.path.dirname(cwd)   # parent folder\n",
    "\n",
    "folder = os.path.join(pardir, 'saved_models')\n",
    "path_pipe = os.path.join(folder, 'nn_pca_3_pipeline.sav')\n",
    "path_keras = os.path.join(folder, 'nn_pca_3_keras.h5')\n",
    "# Pipeline step for classifier\n",
    "step = 'clf'"
   ]
  },
  {
   "cell_type": "markdown",
   "id": "874e13cc-a975-4d93-9ddb-e56e4db2058b",
   "metadata": {},
   "source": [
    "#### Step 1 - load the pipeline"
   ]
  },
  {
   "cell_type": "code",
   "execution_count": 19,
   "id": "7f326d2b-6227-4c16-8883-b951fb131a86",
   "metadata": {
    "execution": {
     "iopub.execute_input": "2023-05-07T14:24:34.783693Z",
     "iopub.status.busy": "2023-05-07T14:24:34.783428Z",
     "iopub.status.idle": "2023-05-07T14:24:34.868801Z",
     "shell.execute_reply": "2023-05-07T14:24:34.867103Z",
     "shell.execute_reply.started": "2023-05-07T14:24:34.783676Z"
    },
    "tags": []
   },
   "outputs": [],
   "source": [
    "# Load the pipeline first\n",
    "model_l = joblib.load(path_pipe)"
   ]
  },
  {
   "cell_type": "markdown",
   "id": "9ae7b23a-7754-44d5-96dd-18c9f3dc723a",
   "metadata": {},
   "source": [
    "#### Step 2 - load the Keras classifier"
   ]
  },
  {
   "cell_type": "code",
   "execution_count": 20,
   "id": "b489b717-5be1-4fba-b43d-e956fe7b5536",
   "metadata": {
    "execution": {
     "iopub.execute_input": "2023-05-07T14:24:38.838928Z",
     "iopub.status.busy": "2023-05-07T14:24:38.838647Z",
     "iopub.status.idle": "2023-05-07T14:24:39.053889Z",
     "shell.execute_reply": "2023-05-07T14:24:39.052909Z",
     "shell.execute_reply.started": "2023-05-07T14:24:38.838910Z"
    },
    "tags": []
   },
   "outputs": [],
   "source": [
    "# Then, load the Keras model\n",
    "model_l.named_steps[step].model_ = load_model(path_keras)"
   ]
  },
  {
   "cell_type": "code",
   "execution_count": 21,
   "id": "96cf0318-79ab-4f3b-8986-194b9c579983",
   "metadata": {
    "execution": {
     "iopub.execute_input": "2023-05-07T14:29:22.417465Z",
     "iopub.status.busy": "2023-05-07T14:29:22.417135Z",
     "iopub.status.idle": "2023-05-07T14:29:24.224689Z",
     "shell.execute_reply": "2023-05-07T14:29:24.223885Z",
     "shell.execute_reply.started": "2023-05-07T14:29:22.417448Z"
    },
    "tags": []
   },
   "outputs": [],
   "source": [
    "# Make predictions with the hypertuned model\n",
    "y_pred = model_l.predict(X_test)"
   ]
  },
  {
   "cell_type": "code",
   "execution_count": 24,
   "id": "d1307812-3640-4672-b1eb-d96c57cbc576",
   "metadata": {
    "colab": {
     "base_uri": "https://localhost:8080/"
    },
    "execution": {
     "iopub.execute_input": "2023-05-07T14:31:27.923655Z",
     "iopub.status.busy": "2023-05-07T14:31:27.923383Z",
     "iopub.status.idle": "2023-05-07T14:31:27.930782Z",
     "shell.execute_reply": "2023-05-07T14:31:27.929807Z",
     "shell.execute_reply.started": "2023-05-07T14:31:27.923638Z"
    },
    "executionInfo": {
     "elapsed": 312,
     "status": "ok",
     "timestamp": 1682712246169,
     "user": {
      "displayName": "Damir Zunic",
      "userId": "07104666280721646256"
     },
     "user_tz": 240
    },
    "id": "hbTv01iskavX",
    "outputId": "bcbc4bcd-6492-4e64-c009-a4ff56941dcc",
    "tags": []
   },
   "outputs": [
    {
     "name": "stdout",
     "output_type": "stream",
     "text": [
      "Accuracy after tuning: 86.90\n"
     ]
    }
   ],
   "source": [
    "accuracy = accuracy_score(y_test, y_pred)\n",
    "print(f'Accuracy after tuning: {accuracy * 100.0:.2f}')"
   ]
  },
  {
   "cell_type": "code",
   "execution_count": 25,
   "id": "d52c87b7-63be-495c-896c-07a575372170",
   "metadata": {
    "colab": {
     "base_uri": "https://localhost:8080/"
    },
    "execution": {
     "iopub.execute_input": "2023-05-07T14:31:32.519686Z",
     "iopub.status.busy": "2023-05-07T14:31:32.519415Z",
     "iopub.status.idle": "2023-05-07T14:31:34.803581Z",
     "shell.execute_reply": "2023-05-07T14:31:34.802715Z",
     "shell.execute_reply.started": "2023-05-07T14:31:32.519669Z"
    },
    "executionInfo": {
     "elapsed": 652,
     "status": "ok",
     "timestamp": 1682712256130,
     "user": {
      "displayName": "Damir Zunic",
      "userId": "07104666280721646256"
     },
     "user_tz": 240
    },
    "id": "kfP1WnUfkavY",
    "outputId": "7f45f46e-dbe1-4735-f46f-74ff470c0152",
    "tags": []
   },
   "outputs": [
    {
     "name": "stdout",
     "output_type": "stream",
     "text": [
      "Training Data Score: 1.0\n",
      "Testing Data Score: 0.8690078037904125\n"
     ]
    }
   ],
   "source": [
    "# Compare training and testing scores\n",
    "print(f\"Training Data Score: {model_l.score(X_train, y_train)}\")\n",
    "print(f\"Testing Data Score: {model_l.score(X_test, y_test)}\")"
   ]
  },
  {
   "cell_type": "code",
   "execution_count": 27,
   "id": "78fb7c2e-d47f-4f77-b123-ea1f13fe800d",
   "metadata": {
    "execution": {
     "iopub.execute_input": "2023-05-07T14:32:19.105779Z",
     "iopub.status.busy": "2023-05-07T14:32:19.105525Z",
     "iopub.status.idle": "2023-05-07T14:32:19.113516Z",
     "shell.execute_reply": "2023-05-07T14:32:19.112631Z",
     "shell.execute_reply.started": "2023-05-07T14:32:19.105762Z"
    },
    "tags": []
   },
   "outputs": [
    {
     "name": "stdout",
     "output_type": "stream",
     "text": [
      "[[ 263   76]\n",
      " [ 159 1296]]\n"
     ]
    }
   ],
   "source": [
    "cm = confusion_matrix(y_test, y_pred)\n",
    "print(cm)"
   ]
  },
  {
   "cell_type": "code",
   "execution_count": 28,
   "id": "4b8a7ba7-0e6d-4d51-a568-446a0b7d60ad",
   "metadata": {
    "colab": {
     "base_uri": "https://localhost:8080/",
     "height": 315
    },
    "execution": {
     "iopub.execute_input": "2023-05-07T14:32:27.919701Z",
     "iopub.status.busy": "2023-05-07T14:32:27.919440Z",
     "iopub.status.idle": "2023-05-07T14:32:28.341672Z",
     "shell.execute_reply": "2023-05-07T14:32:28.340849Z",
     "shell.execute_reply.started": "2023-05-07T14:32:27.919685Z"
    },
    "executionInfo": {
     "elapsed": 1309,
     "status": "ok",
     "timestamp": 1682712278412,
     "user": {
      "displayName": "Damir Zunic",
      "userId": "07104666280721646256"
     },
     "user_tz": 240
    },
    "id": "yAEszP3ikavY",
    "outputId": "7ecea9cd-5234-4237-eca2-360e5a138c82",
    "tags": []
   },
   "outputs": [
    {
     "data": {
      "image/png": "[encoded data removed]",
      "text/plain": [
       "<Figure size 864x288 with 4 Axes>"
      ]
     },
     "metadata": {},
     "output_type": "display_data"
    }
   ],
   "source": [
    "# Plot confusion matrix and its normalized version.\n",
    "mu.plot_cm_unnorm_and_norm('Neural Network - PCA 1000 #3', y_test, y_pred, target_names, 'Reds')"
   ]
  },
  {
   "cell_type": "code",
   "execution_count": 29,
   "id": "4cdf0e2b-ea2c-416e-b712-bd2a4852fdcd",
   "metadata": {
    "colab": {
     "base_uri": "https://localhost:8080/"
    },
    "execution": {
     "iopub.execute_input": "2023-05-07T14:32:33.285196Z",
     "iopub.status.busy": "2023-05-07T14:32:33.284898Z",
     "iopub.status.idle": "2023-05-07T14:32:33.298832Z",
     "shell.execute_reply": "2023-05-07T14:32:33.297969Z",
     "shell.execute_reply.started": "2023-05-07T14:32:33.285176Z"
    },
    "executionInfo": {
     "elapsed": 194,
     "status": "ok",
     "timestamp": 1682712298538,
     "user": {
      "displayName": "Damir Zunic",
      "userId": "07104666280721646256"
     },
     "user_tz": 240
    },
    "id": "nRKz3IplkavY",
    "outputId": "20121d11-d163-4d2d-cf8d-4ba3e2c560ce",
    "tags": []
   },
   "outputs": [
    {
     "name": "stdout",
     "output_type": "stream",
     "text": [
      "              precision    recall  f1-score   support\n",
      "\n",
      "         hem       0.62      0.78      0.69       339\n",
      "         all       0.94      0.89      0.92      1455\n",
      "\n",
      "    accuracy                           0.87      1794\n",
      "   macro avg       0.78      0.83      0.80      1794\n",
      "weighted avg       0.88      0.87      0.87      1794\n",
      "\n"
     ]
    }
   ],
   "source": [
    "print(classification_report(y_test, y_pred, target_names=target_names))"
   ]
  },
  {
   "cell_type": "markdown",
   "id": "614d0817-b8a1-46e1-bc18-a8ae9c7f29a6",
   "metadata": {
    "id": "NymJfSEGTdXU"
   },
   "source": [
    "## Plot ROC Curves"
   ]
  },
  {
   "cell_type": "code",
   "execution_count": 33,
   "id": "cDKRefHdUk_U",
   "metadata": {
    "execution": {
     "iopub.execute_input": "2023-05-07T14:46:19.238909Z",
     "iopub.status.busy": "2023-05-07T14:46:19.238167Z",
     "iopub.status.idle": "2023-05-07T14:46:19.242913Z",
     "shell.execute_reply": "2023-05-07T14:46:19.242044Z",
     "shell.execute_reply.started": "2023-05-07T14:46:19.238891Z"
    },
    "executionInfo": {
     "elapsed": 134,
     "status": "ok",
     "timestamp": 1682134093194,
     "user": {
      "displayName": "Damir Zunic",
      "userId": "07104666280721646256"
     },
     "user_tz": 240
    },
    "id": "cDKRefHdUk_U",
    "tags": []
   },
   "outputs": [],
   "source": [
    "# Best performing models dictionary\n",
    "best_models = {'Neural Network - PCA 1000 #3' : model_l,\n",
    "}"
   ]
  },
  {
   "cell_type": "markdown",
   "id": "b8d9bbf6-65e8-43fa-8984-792ab22e3a59",
   "metadata": {
    "id": "Qm12ET5gUkXb"
   },
   "source": [
    "#### Create function to plot ROC curves for train and test data"
   ]
  },
  {
   "cell_type": "code",
   "execution_count": 35,
   "id": "jVZR_PI6Td4k",
   "metadata": {
    "execution": {
     "iopub.execute_input": "2023-05-07T14:48:19.668806Z",
     "iopub.status.busy": "2023-05-07T14:48:19.668400Z",
     "iopub.status.idle": "2023-05-07T14:48:19.677745Z",
     "shell.execute_reply": "2023-05-07T14:48:19.676230Z",
     "shell.execute_reply.started": "2023-05-07T14:48:19.668787Z"
    },
    "executionInfo": {
     "elapsed": 106,
     "status": "ok",
     "timestamp": 1682134122541,
     "user": {
      "displayName": "Damir Zunic",
      "userId": "07104666280721646256"
     },
     "user_tz": 240
    },
    "id": "jVZR_PI6Td4k"
   },
   "outputs": [],
   "source": [
    "def plot_roc_curves(model_name, model, batch, X_train, X_test, y_train, y_test):\n",
    "    fig, [ax_train, ax_test] = plt.subplots(1, 2, figsize=(11, 5))\n",
    "    fig.suptitle(f'{model_name}', fontsize=14)\n",
    "    \n",
    "    pred_train = model.predict(X_train)\n",
    "    pred_test= model.predict(X_test)\n",
    "    auc_train = roc_auc_score(y_train, pred_train)\n",
    "    auc_test = roc_auc_score(y_test, pred_test)\n",
    "    fpr_train, tpr_train, _ = roc_curve(y_train, pred_train)\n",
    "    fpr_test, tpr_test, _ = roc_curve(y_test, pred_test)\n",
    "\n",
    "    ax_train.plot([0, 1], [0, 1], 'r--', label='Random Guessing')\n",
    "    ax_test.plot([0, 1], [0, 1], 'r--', label='Random Guessing')\n",
    "\n",
    "    ax_train.plot(fpr_train, tpr_train, label=f'{model_name} (AUC: {auc_train:.2f})')\n",
    "    ax_test.plot(fpr_test, tpr_test, label=f'{model_name} (AUC: {auc_test:.4f})')\n",
    "\n",
    "    ax_train.set_title(f'ROC curve - Train Data - {batch}')\n",
    "    ax_test.set_title(f'ROC curve - Test Data- {batch}')\n",
    "                    \n",
    "    ax_train.set_xlabel('False positive rate')\n",
    "    ax_test.set_xlabel('False positive rate')\n",
    "\n",
    "    ax_train.set_ylabel('True positive rate')\n",
    "    ax_test.set_ylabel('True positive rate')\n",
    "\n",
    "    ax_train.legend(loc='best')\n",
    "    ax_test.legend(loc='best')\n",
    "\n",
    "    plt.show()\n",
    "    print()"
   ]
  },
  {
   "cell_type": "code",
   "execution_count": 38,
   "id": "Y9bDLz0xc5lG",
   "metadata": {
    "colab": {
     "base_uri": "https://localhost:8080/",
     "height": 1000
    },
    "execution": {
     "iopub.execute_input": "2023-05-07T14:49:39.303864Z",
     "iopub.status.busy": "2023-05-07T14:49:39.303054Z",
     "iopub.status.idle": "2023-05-07T14:49:41.475670Z",
     "shell.execute_reply": "2023-05-07T14:49:41.474834Z",
     "shell.execute_reply.started": "2023-05-07T14:49:39.303825Z"
    },
    "executionInfo": {
     "elapsed": 5053,
     "status": "ok",
     "timestamp": 1682134191239,
     "user": {
      "displayName": "Damir Zunic",
      "userId": "07104666280721646256"
     },
     "user_tz": 240
    },
    "id": "Y9bDLz0xc5lG",
    "outputId": "34f008d2-0412-4357-8694-47ac3c5a030c",
    "tags": []
   },
   "outputs": [
    {
     "data": {
      "image/png": "[encoded data removed]",
      "text/plain": [
       "<Figure size 1100x500 with 2 Axes>"
      ]
     },
     "metadata": {},
     "output_type": "display_data"
    },
    {
     "name": "stdout",
     "output_type": "stream",
     "text": [
      "\n"
     ]
    }
   ],
   "source": [
    "# Plot ROC curves for each of best performing models\n",
    "for mn, m in best_models.items():\n",
    "    plot_roc_curves(mn, m, 'batch_4', X_train, X_test, y_train, y_test)"
   ]
  }
 ],
 "metadata": {
  "kernelspec": {
   "display_name": "omdena_p310",
   "language": "python",
   "name": "conda-env-omdena_p310-py"
  },
  "language_info": {
   "codemirror_mode": {
    "name": "ipython",
    "version": 3
   },
   "file_extension": ".py",
   "mimetype": "text/x-python",
   "name": "python",
   "nbconvert_exporter": "python",
   "pygments_lexer": "ipython3",
   "version": "3.10.10"
  },
  "widgets": {
   "application/vnd.jupyter.widget-state+json": {
    "state": {},
    "version_major": 2,
    "version_minor": 0
   }
  }
 },
 "nbformat": 4,
 "nbformat_minor": 5
}
