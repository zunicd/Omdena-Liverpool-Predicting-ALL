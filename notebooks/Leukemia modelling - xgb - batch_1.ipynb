{
 "cells": [
  {
   "cell_type": "markdown",
   "id": "a6996cf1-5b97-45b2-920a-112afc130631",
   "metadata": {},
   "source": [
    "# Classifying ALL with XGBoost"
   ]
  },
  {
   "cell_type": "markdown",
   "id": "efde2851-d71b-42bd-b4a6-b2afe8543bc3",
   "metadata": {},
   "source": [
    "## Dependencies"
   ]
  },
  {
   "cell_type": "code",
   "execution_count": 1,
   "id": "108c50d5-7568-4d90-9ba8-daa6f72f49c9",
   "metadata": {
    "execution": {
     "iopub.execute_input": "2023-04-06T21:27:13.606250Z",
     "iopub.status.busy": "2023-04-06T21:27:13.606046Z",
     "iopub.status.idle": "2023-04-06T21:27:15.723971Z",
     "shell.execute_reply": "2023-04-06T21:27:15.723227Z",
     "shell.execute_reply.started": "2023-04-06T21:27:13.606235Z"
    },
    "tags": []
   },
   "outputs": [],
   "source": [
    "import os\n",
    "import numpy as np\n",
    "import matplotlib.pyplot as plt\n",
    "import pandas as pd\n",
    "import seaborn as sns\n",
    "\n",
    "from sklearn.decomposition import PCA\n",
    "from sklearn.pipeline import Pipeline, make_pipeline\n",
    "from sklearn.preprocessing import MinMaxScaler\n",
    "from sklearn.svm import SVC\n",
    "from sklearn.ensemble import RandomForestClassifier\n",
    "from sklearn.linear_model import LogisticRegression\n",
    "\n",
    "# from sklearn.model_selection import GridSearchCV, StratifiedKFold\n",
    "from sklearn.model_selection import RandomizedSearchCV, StratifiedKFold\n",
    "from sklearn.utils.fixes import loguniform\n",
    "\n",
    "from scipy.stats import uniform, truncnorm, randint, loguniform\n",
    "\n",
    "# Classification metrics\n",
    "from sklearn.metrics import confusion_matrix, classification_report, accuracy_score\n",
    "from sklearn.metrics import f1_score, recall_score\n",
    "\n",
    "# Function for creating model pipelines - imblearn\n",
    "## from imblearn.pipeline import make_pipeline as imbl_pipe\n",
    "\n",
    "# Over-sampling using SMOTE\n",
    "## from imblearn.over_sampling import SMOTE\n",
    "\n",
    "# Import XGBoost\n",
    "from xgboost import XGBClassifier\n",
    "\n",
    "# Import Optuna\n",
    "import optuna\n",
    "\n",
    "random_state = 10"
   ]
  },
  {
   "cell_type": "code",
   "execution_count": 2,
   "id": "f149ee94-8f14-4edc-817a-b7e15624acce",
   "metadata": {
    "execution": {
     "iopub.execute_input": "2023-04-06T21:27:15.725156Z",
     "iopub.status.busy": "2023-04-06T21:27:15.724913Z",
     "iopub.status.idle": "2023-04-06T21:27:15.756213Z",
     "shell.execute_reply": "2023-04-06T21:27:15.755530Z",
     "shell.execute_reply.started": "2023-04-06T21:27:15.725140Z"
    },
    "tags": []
   },
   "outputs": [],
   "source": [
    "# Import the script from different folder\n",
    "import sys  \n",
    "sys.path.append('../scripts')\n",
    "\n",
    "import metrics_utilities as mu"
   ]
  },
  {
   "cell_type": "markdown",
   "id": "f6972b56-7460-4ebf-a232-6ec4e31cfd52",
   "metadata": {},
   "source": [
    "## Batch_1 Train Dataset"
   ]
  },
  {
   "cell_type": "code",
   "execution_count": 3,
   "id": "50680de8-19f1-4259-abfe-02e956eeafae",
   "metadata": {
    "execution": {
     "iopub.execute_input": "2023-04-06T21:27:15.757039Z",
     "iopub.status.busy": "2023-04-06T21:27:15.756865Z",
     "iopub.status.idle": "2023-04-06T21:27:16.345759Z",
     "shell.execute_reply": "2023-04-06T21:27:16.344923Z",
     "shell.execute_reply.started": "2023-04-06T21:27:15.757025Z"
    },
    "tags": []
   },
   "outputs": [
    {
     "data": {
      "text/html": [
       "<div>\n",
       "<style scoped>\n",
       "    .dataframe tbody tr th:only-of-type {\n",
       "        vertical-align: middle;\n",
       "    }\n",
       "\n",
       "    .dataframe tbody tr th {\n",
       "        vertical-align: top;\n",
       "    }\n",
       "\n",
       "    .dataframe thead th {\n",
       "        text-align: right;\n",
       "    }\n",
       "</style>\n",
       "<table border=\"1\" class=\"dataframe\">\n",
       "  <thead>\n",
       "    <tr style=\"text-align: right;\">\n",
       "      <th></th>\n",
       "      <th>0</th>\n",
       "      <th>1</th>\n",
       "      <th>2</th>\n",
       "      <th>3</th>\n",
       "      <th>4</th>\n",
       "      <th>5</th>\n",
       "      <th>6</th>\n",
       "      <th>7</th>\n",
       "      <th>8</th>\n",
       "      <th>9</th>\n",
       "      <th>...</th>\n",
       "      <th>4599</th>\n",
       "      <th>4600</th>\n",
       "      <th>4601</th>\n",
       "      <th>4602</th>\n",
       "      <th>4603</th>\n",
       "      <th>4604</th>\n",
       "      <th>4605</th>\n",
       "      <th>4606</th>\n",
       "      <th>4607</th>\n",
       "      <th>label</th>\n",
       "    </tr>\n",
       "  </thead>\n",
       "  <tbody>\n",
       "    <tr>\n",
       "      <th>0</th>\n",
       "      <td>0.579951</td>\n",
       "      <td>0.0</td>\n",
       "      <td>0.000000</td>\n",
       "      <td>0.000000</td>\n",
       "      <td>0.000000</td>\n",
       "      <td>0.0</td>\n",
       "      <td>0.0</td>\n",
       "      <td>0.166770</td>\n",
       "      <td>0.0</td>\n",
       "      <td>0.0</td>\n",
       "      <td>...</td>\n",
       "      <td>0.747650</td>\n",
       "      <td>0.245581</td>\n",
       "      <td>0.030024</td>\n",
       "      <td>0.174167</td>\n",
       "      <td>0.540283</td>\n",
       "      <td>0.0</td>\n",
       "      <td>0.0</td>\n",
       "      <td>0.353232</td>\n",
       "      <td>0.0</td>\n",
       "      <td>1</td>\n",
       "    </tr>\n",
       "    <tr>\n",
       "      <th>1</th>\n",
       "      <td>0.578539</td>\n",
       "      <td>0.0</td>\n",
       "      <td>0.059236</td>\n",
       "      <td>0.000000</td>\n",
       "      <td>0.000000</td>\n",
       "      <td>0.0</td>\n",
       "      <td>0.0</td>\n",
       "      <td>0.199044</td>\n",
       "      <td>0.0</td>\n",
       "      <td>0.0</td>\n",
       "      <td>...</td>\n",
       "      <td>0.668872</td>\n",
       "      <td>0.162014</td>\n",
       "      <td>0.000000</td>\n",
       "      <td>0.127915</td>\n",
       "      <td>0.493748</td>\n",
       "      <td>0.0</td>\n",
       "      <td>0.0</td>\n",
       "      <td>0.275539</td>\n",
       "      <td>0.0</td>\n",
       "      <td>1</td>\n",
       "    </tr>\n",
       "    <tr>\n",
       "      <th>2</th>\n",
       "      <td>0.087414</td>\n",
       "      <td>0.0</td>\n",
       "      <td>0.695490</td>\n",
       "      <td>0.436274</td>\n",
       "      <td>0.000000</td>\n",
       "      <td>0.0</td>\n",
       "      <td>0.0</td>\n",
       "      <td>0.103897</td>\n",
       "      <td>0.0</td>\n",
       "      <td>0.0</td>\n",
       "      <td>...</td>\n",
       "      <td>0.492471</td>\n",
       "      <td>0.082775</td>\n",
       "      <td>0.000000</td>\n",
       "      <td>0.112004</td>\n",
       "      <td>0.438546</td>\n",
       "      <td>0.0</td>\n",
       "      <td>0.0</td>\n",
       "      <td>0.096754</td>\n",
       "      <td>0.0</td>\n",
       "      <td>0</td>\n",
       "    </tr>\n",
       "    <tr>\n",
       "      <th>3</th>\n",
       "      <td>0.329184</td>\n",
       "      <td>0.0</td>\n",
       "      <td>0.000000</td>\n",
       "      <td>0.029938</td>\n",
       "      <td>0.024057</td>\n",
       "      <td>0.0</td>\n",
       "      <td>0.0</td>\n",
       "      <td>0.036206</td>\n",
       "      <td>0.0</td>\n",
       "      <td>0.0</td>\n",
       "      <td>...</td>\n",
       "      <td>0.654933</td>\n",
       "      <td>0.337055</td>\n",
       "      <td>0.000000</td>\n",
       "      <td>0.000000</td>\n",
       "      <td>0.346229</td>\n",
       "      <td>0.0</td>\n",
       "      <td>0.0</td>\n",
       "      <td>0.317232</td>\n",
       "      <td>0.0</td>\n",
       "      <td>0</td>\n",
       "    </tr>\n",
       "    <tr>\n",
       "      <th>4</th>\n",
       "      <td>0.053473</td>\n",
       "      <td>0.0</td>\n",
       "      <td>0.000000</td>\n",
       "      <td>0.184720</td>\n",
       "      <td>0.000000</td>\n",
       "      <td>0.0</td>\n",
       "      <td>0.0</td>\n",
       "      <td>0.000000</td>\n",
       "      <td>0.0</td>\n",
       "      <td>0.0</td>\n",
       "      <td>...</td>\n",
       "      <td>0.732901</td>\n",
       "      <td>0.191005</td>\n",
       "      <td>0.000000</td>\n",
       "      <td>0.049176</td>\n",
       "      <td>0.545555</td>\n",
       "      <td>0.0</td>\n",
       "      <td>0.0</td>\n",
       "      <td>0.281541</td>\n",
       "      <td>0.0</td>\n",
       "      <td>0</td>\n",
       "    </tr>\n",
       "  </tbody>\n",
       "</table>\n",
       "<p>5 rows × 4609 columns</p>\n",
       "</div>"
      ],
      "text/plain": [
       "          0    1         2         3         4    5    6         7    8    9  \\\n",
       "0  0.579951  0.0  0.000000  0.000000  0.000000  0.0  0.0  0.166770  0.0  0.0   \n",
       "1  0.578539  0.0  0.059236  0.000000  0.000000  0.0  0.0  0.199044  0.0  0.0   \n",
       "2  0.087414  0.0  0.695490  0.436274  0.000000  0.0  0.0  0.103897  0.0  0.0   \n",
       "3  0.329184  0.0  0.000000  0.029938  0.024057  0.0  0.0  0.036206  0.0  0.0   \n",
       "4  0.053473  0.0  0.000000  0.184720  0.000000  0.0  0.0  0.000000  0.0  0.0   \n",
       "\n",
       "   ...      4599      4600      4601      4602      4603  4604  4605  \\\n",
       "0  ...  0.747650  0.245581  0.030024  0.174167  0.540283   0.0   0.0   \n",
       "1  ...  0.668872  0.162014  0.000000  0.127915  0.493748   0.0   0.0   \n",
       "2  ...  0.492471  0.082775  0.000000  0.112004  0.438546   0.0   0.0   \n",
       "3  ...  0.654933  0.337055  0.000000  0.000000  0.346229   0.0   0.0   \n",
       "4  ...  0.732901  0.191005  0.000000  0.049176  0.545555   0.0   0.0   \n",
       "\n",
       "       4606  4607  label  \n",
       "0  0.353232   0.0      1  \n",
       "1  0.275539   0.0      1  \n",
       "2  0.096754   0.0      0  \n",
       "3  0.317232   0.0      0  \n",
       "4  0.281541   0.0      0  \n",
       "\n",
       "[5 rows x 4609 columns]"
      ]
     },
     "execution_count": 3,
     "metadata": {},
     "output_type": "execute_result"
    }
   ],
   "source": [
    "df_train = pd.read_pickle('../data/batch_1/train_data.pickle')\n",
    "df_train.head()"
   ]
  },
  {
   "cell_type": "markdown",
   "id": "bc265c31-9615-4d03-84ea-f6e9b6d859a0",
   "metadata": {},
   "source": [
    "#### Separate features and labels"
   ]
  },
  {
   "cell_type": "code",
   "execution_count": 4,
   "id": "53917c6d-17a1-408a-abff-ba0b00fbad17",
   "metadata": {
    "execution": {
     "iopub.execute_input": "2023-04-06T21:27:16.347386Z",
     "iopub.status.busy": "2023-04-06T21:27:16.347207Z",
     "iopub.status.idle": "2023-04-06T21:27:16.401774Z",
     "shell.execute_reply": "2023-04-06T21:27:16.400952Z",
     "shell.execute_reply.started": "2023-04-06T21:27:16.347370Z"
    },
    "tags": []
   },
   "outputs": [
    {
     "name": "stdout",
     "output_type": "stream",
     "text": [
      "(8528, 4608) (8528,)\n"
     ]
    }
   ],
   "source": [
    "X_train = df_train.iloc[:, : -1]\n",
    "y_train = df_train['label']\n",
    "print(X_train.shape, y_train.shape)"
   ]
  },
  {
   "cell_type": "markdown",
   "id": "7f337a50-6390-4684-8d06-8f090e7f81db",
   "metadata": {},
   "source": [
    "## Batch_1 Test Dataset"
   ]
  },
  {
   "cell_type": "code",
   "execution_count": 5,
   "id": "8b23c3a0-0681-45ad-9b33-6a3bd69473bb",
   "metadata": {
    "execution": {
     "iopub.execute_input": "2023-04-06T21:27:16.402551Z",
     "iopub.status.busy": "2023-04-06T21:27:16.402379Z",
     "iopub.status.idle": "2023-04-06T21:27:16.563152Z",
     "shell.execute_reply": "2023-04-06T21:27:16.562480Z",
     "shell.execute_reply.started": "2023-04-06T21:27:16.402535Z"
    },
    "tags": []
   },
   "outputs": [
    {
     "data": {
      "text/html": [
       "<div>\n",
       "<style scoped>\n",
       "    .dataframe tbody tr th:only-of-type {\n",
       "        vertical-align: middle;\n",
       "    }\n",
       "\n",
       "    .dataframe tbody tr th {\n",
       "        vertical-align: top;\n",
       "    }\n",
       "\n",
       "    .dataframe thead th {\n",
       "        text-align: right;\n",
       "    }\n",
       "</style>\n",
       "<table border=\"1\" class=\"dataframe\">\n",
       "  <thead>\n",
       "    <tr style=\"text-align: right;\">\n",
       "      <th></th>\n",
       "      <th>0</th>\n",
       "      <th>1</th>\n",
       "      <th>2</th>\n",
       "      <th>3</th>\n",
       "      <th>4</th>\n",
       "      <th>5</th>\n",
       "      <th>6</th>\n",
       "      <th>7</th>\n",
       "      <th>8</th>\n",
       "      <th>9</th>\n",
       "      <th>...</th>\n",
       "      <th>4599</th>\n",
       "      <th>4600</th>\n",
       "      <th>4601</th>\n",
       "      <th>4602</th>\n",
       "      <th>4603</th>\n",
       "      <th>4604</th>\n",
       "      <th>4605</th>\n",
       "      <th>4606</th>\n",
       "      <th>4607</th>\n",
       "      <th>label</th>\n",
       "    </tr>\n",
       "  </thead>\n",
       "  <tbody>\n",
       "    <tr>\n",
       "      <th>0</th>\n",
       "      <td>0.353652</td>\n",
       "      <td>0.0</td>\n",
       "      <td>0.000000</td>\n",
       "      <td>0.305203</td>\n",
       "      <td>0.0377</td>\n",
       "      <td>0.0</td>\n",
       "      <td>0.0</td>\n",
       "      <td>0.000000</td>\n",
       "      <td>0.0</td>\n",
       "      <td>0.0</td>\n",
       "      <td>...</td>\n",
       "      <td>0.728745</td>\n",
       "      <td>0.127965</td>\n",
       "      <td>0.0</td>\n",
       "      <td>0.000000</td>\n",
       "      <td>0.303071</td>\n",
       "      <td>0.0</td>\n",
       "      <td>0.0</td>\n",
       "      <td>0.028939</td>\n",
       "      <td>0.0</td>\n",
       "      <td>0</td>\n",
       "    </tr>\n",
       "    <tr>\n",
       "      <th>1</th>\n",
       "      <td>0.695522</td>\n",
       "      <td>0.0</td>\n",
       "      <td>0.000000</td>\n",
       "      <td>0.000000</td>\n",
       "      <td>0.0000</td>\n",
       "      <td>0.0</td>\n",
       "      <td>0.0</td>\n",
       "      <td>0.104255</td>\n",
       "      <td>0.0</td>\n",
       "      <td>0.0</td>\n",
       "      <td>...</td>\n",
       "      <td>0.730706</td>\n",
       "      <td>0.220946</td>\n",
       "      <td>0.0</td>\n",
       "      <td>0.016399</td>\n",
       "      <td>0.487663</td>\n",
       "      <td>0.0</td>\n",
       "      <td>0.0</td>\n",
       "      <td>0.354154</td>\n",
       "      <td>0.0</td>\n",
       "      <td>1</td>\n",
       "    </tr>\n",
       "    <tr>\n",
       "      <th>2</th>\n",
       "      <td>0.279904</td>\n",
       "      <td>0.0</td>\n",
       "      <td>0.000000</td>\n",
       "      <td>0.000000</td>\n",
       "      <td>0.0000</td>\n",
       "      <td>0.0</td>\n",
       "      <td>0.0</td>\n",
       "      <td>0.160006</td>\n",
       "      <td>0.0</td>\n",
       "      <td>0.0</td>\n",
       "      <td>...</td>\n",
       "      <td>0.676915</td>\n",
       "      <td>0.199919</td>\n",
       "      <td>0.0</td>\n",
       "      <td>0.062777</td>\n",
       "      <td>0.000000</td>\n",
       "      <td>0.0</td>\n",
       "      <td>0.0</td>\n",
       "      <td>0.000000</td>\n",
       "      <td>0.0</td>\n",
       "      <td>0</td>\n",
       "    </tr>\n",
       "    <tr>\n",
       "      <th>3</th>\n",
       "      <td>0.098326</td>\n",
       "      <td>0.0</td>\n",
       "      <td>0.000000</td>\n",
       "      <td>0.000000</td>\n",
       "      <td>0.0000</td>\n",
       "      <td>0.0</td>\n",
       "      <td>0.0</td>\n",
       "      <td>0.172469</td>\n",
       "      <td>0.0</td>\n",
       "      <td>0.0</td>\n",
       "      <td>...</td>\n",
       "      <td>0.945252</td>\n",
       "      <td>0.119779</td>\n",
       "      <td>0.0</td>\n",
       "      <td>0.021867</td>\n",
       "      <td>0.614726</td>\n",
       "      <td>0.0</td>\n",
       "      <td>0.0</td>\n",
       "      <td>0.154880</td>\n",
       "      <td>0.0</td>\n",
       "      <td>0</td>\n",
       "    </tr>\n",
       "    <tr>\n",
       "      <th>4</th>\n",
       "      <td>0.270445</td>\n",
       "      <td>0.0</td>\n",
       "      <td>0.769334</td>\n",
       "      <td>0.022462</td>\n",
       "      <td>0.0000</td>\n",
       "      <td>0.0</td>\n",
       "      <td>0.0</td>\n",
       "      <td>0.000000</td>\n",
       "      <td>0.0</td>\n",
       "      <td>0.0</td>\n",
       "      <td>...</td>\n",
       "      <td>0.538275</td>\n",
       "      <td>0.242577</td>\n",
       "      <td>0.0</td>\n",
       "      <td>0.014566</td>\n",
       "      <td>0.438992</td>\n",
       "      <td>0.0</td>\n",
       "      <td>0.0</td>\n",
       "      <td>0.191071</td>\n",
       "      <td>0.0</td>\n",
       "      <td>0</td>\n",
       "    </tr>\n",
       "  </tbody>\n",
       "</table>\n",
       "<p>5 rows × 4609 columns</p>\n",
       "</div>"
      ],
      "text/plain": [
       "          0    1         2         3       4    5    6         7    8    9  \\\n",
       "0  0.353652  0.0  0.000000  0.305203  0.0377  0.0  0.0  0.000000  0.0  0.0   \n",
       "1  0.695522  0.0  0.000000  0.000000  0.0000  0.0  0.0  0.104255  0.0  0.0   \n",
       "2  0.279904  0.0  0.000000  0.000000  0.0000  0.0  0.0  0.160006  0.0  0.0   \n",
       "3  0.098326  0.0  0.000000  0.000000  0.0000  0.0  0.0  0.172469  0.0  0.0   \n",
       "4  0.270445  0.0  0.769334  0.022462  0.0000  0.0  0.0  0.000000  0.0  0.0   \n",
       "\n",
       "   ...      4599      4600  4601      4602      4603  4604  4605      4606  \\\n",
       "0  ...  0.728745  0.127965   0.0  0.000000  0.303071   0.0   0.0  0.028939   \n",
       "1  ...  0.730706  0.220946   0.0  0.016399  0.487663   0.0   0.0  0.354154   \n",
       "2  ...  0.676915  0.199919   0.0  0.062777  0.000000   0.0   0.0  0.000000   \n",
       "3  ...  0.945252  0.119779   0.0  0.021867  0.614726   0.0   0.0  0.154880   \n",
       "4  ...  0.538275  0.242577   0.0  0.014566  0.438992   0.0   0.0  0.191071   \n",
       "\n",
       "   4607  label  \n",
       "0   0.0      0  \n",
       "1   0.0      1  \n",
       "2   0.0      0  \n",
       "3   0.0      0  \n",
       "4   0.0      0  \n",
       "\n",
       "[5 rows x 4609 columns]"
      ]
     },
     "execution_count": 5,
     "metadata": {},
     "output_type": "execute_result"
    }
   ],
   "source": [
    "df_test = pd.read_pickle('../data/batch_1/test_data.pickle')\n",
    "df_test.head()"
   ]
  },
  {
   "cell_type": "markdown",
   "id": "39703559-09fd-4ca8-8501-9970aff7131b",
   "metadata": {},
   "source": [
    "#### Separate features and labels"
   ]
  },
  {
   "cell_type": "code",
   "execution_count": 6,
   "id": "0745e5f6-83ce-49d1-af0d-d3210357fc73",
   "metadata": {
    "execution": {
     "iopub.execute_input": "2023-04-06T21:27:16.564189Z",
     "iopub.status.busy": "2023-04-06T21:27:16.563935Z",
     "iopub.status.idle": "2023-04-06T21:27:16.581084Z",
     "shell.execute_reply": "2023-04-06T21:27:16.580315Z",
     "shell.execute_reply.started": "2023-04-06T21:27:16.564168Z"
    },
    "tags": []
   },
   "outputs": [
    {
     "name": "stdout",
     "output_type": "stream",
     "text": [
      "(2133, 4608) (2133,)\n"
     ]
    }
   ],
   "source": [
    "X_test = df_test.iloc[:, :-1]\n",
    "y_test = df_test['label']\n",
    "print(X_test.shape, y_test.shape)"
   ]
  },
  {
   "cell_type": "markdown",
   "id": "7dd6f554-eb1c-4da4-a76c-1363a9bca551",
   "metadata": {},
   "source": [
    "## Create Model"
   ]
  },
  {
   "cell_type": "code",
   "execution_count": 7,
   "id": "9c1ae086-78d0-43f2-92e2-7ecc264baab3",
   "metadata": {
    "execution": {
     "iopub.execute_input": "2023-04-06T21:27:31.746361Z",
     "iopub.status.busy": "2023-04-06T21:27:31.746086Z",
     "iopub.status.idle": "2023-04-06T21:27:31.750207Z",
     "shell.execute_reply": "2023-04-06T21:27:31.749301Z",
     "shell.execute_reply.started": "2023-04-06T21:27:31.746319Z"
    },
    "tags": []
   },
   "outputs": [],
   "source": [
    "clf_xgb = XGBClassifier(tree_method='gpu_hist', gpu_id=0, random_state=random_state)"
   ]
  },
  {
   "cell_type": "code",
   "execution_count": 8,
   "id": "02274d1f-7334-4081-a31e-82b18a957baf",
   "metadata": {
    "execution": {
     "iopub.execute_input": "2023-04-06T21:27:34.203138Z",
     "iopub.status.busy": "2023-04-06T21:27:34.202929Z",
     "iopub.status.idle": "2023-04-06T21:27:44.104938Z",
     "shell.execute_reply": "2023-04-06T21:27:44.103850Z",
     "shell.execute_reply.started": "2023-04-06T21:27:34.203123Z"
    },
    "tags": []
   },
   "outputs": [
    {
     "data": {
      "text/html": [
       "<style>#sk-container-id-1 {color: black;background-color: white;}#sk-container-id-1 pre{padding: 0;}#sk-container-id-1 div.sk-toggleable {background-color: white;}#sk-container-id-1 label.sk-toggleable__label {cursor: pointer;display: block;width: 100%;margin-bottom: 0;padding: 0.3em;box-sizing: border-box;text-align: center;}#sk-container-id-1 label.sk-toggleable__label-arrow:before {content: \"▸\";float: left;margin-right: 0.25em;color: #696969;}#sk-container-id-1 label.sk-toggleable__label-arrow:hover:before {color: black;}#sk-container-id-1 div.sk-estimator:hover label.sk-toggleable__label-arrow:before {color: black;}#sk-container-id-1 div.sk-toggleable__content {max-height: 0;max-width: 0;overflow: hidden;text-align: left;background-color: #f0f8ff;}#sk-container-id-1 div.sk-toggleable__content pre {margin: 0.2em;color: black;border-radius: 0.25em;background-color: #f0f8ff;}#sk-container-id-1 input.sk-toggleable__control:checked~div.sk-toggleable__content {max-height: 200px;max-width: 100%;overflow: auto;}#sk-container-id-1 input.sk-toggleable__control:checked~label.sk-toggleable__label-arrow:before {content: \"▾\";}#sk-container-id-1 div.sk-estimator input.sk-toggleable__control:checked~label.sk-toggleable__label {background-color: #d4ebff;}#sk-container-id-1 div.sk-label input.sk-toggleable__control:checked~label.sk-toggleable__label {background-color: #d4ebff;}#sk-container-id-1 input.sk-hidden--visually {border: 0;clip: rect(1px 1px 1px 1px);clip: rect(1px, 1px, 1px, 1px);height: 1px;margin: -1px;overflow: hidden;padding: 0;position: absolute;width: 1px;}#sk-container-id-1 div.sk-estimator {font-family: monospace;background-color: #f0f8ff;border: 1px dotted black;border-radius: 0.25em;box-sizing: border-box;margin-bottom: 0.5em;}#sk-container-id-1 div.sk-estimator:hover {background-color: #d4ebff;}#sk-container-id-1 div.sk-parallel-item::after {content: \"\";width: 100%;border-bottom: 1px solid gray;flex-grow: 1;}#sk-container-id-1 div.sk-label:hover label.sk-toggleable__label {background-color: #d4ebff;}#sk-container-id-1 div.sk-serial::before {content: \"\";position: absolute;border-left: 1px solid gray;box-sizing: border-box;top: 0;bottom: 0;left: 50%;z-index: 0;}#sk-container-id-1 div.sk-serial {display: flex;flex-direction: column;align-items: center;background-color: white;padding-right: 0.2em;padding-left: 0.2em;position: relative;}#sk-container-id-1 div.sk-item {position: relative;z-index: 1;}#sk-container-id-1 div.sk-parallel {display: flex;align-items: stretch;justify-content: center;background-color: white;position: relative;}#sk-container-id-1 div.sk-item::before, #sk-container-id-1 div.sk-parallel-item::before {content: \"\";position: absolute;border-left: 1px solid gray;box-sizing: border-box;top: 0;bottom: 0;left: 50%;z-index: -1;}#sk-container-id-1 div.sk-parallel-item {display: flex;flex-direction: column;z-index: 1;position: relative;background-color: white;}#sk-container-id-1 div.sk-parallel-item:first-child::after {align-self: flex-end;width: 50%;}#sk-container-id-1 div.sk-parallel-item:last-child::after {align-self: flex-start;width: 50%;}#sk-container-id-1 div.sk-parallel-item:only-child::after {width: 0;}#sk-container-id-1 div.sk-dashed-wrapped {border: 1px dashed gray;margin: 0 0.4em 0.5em 0.4em;box-sizing: border-box;padding-bottom: 0.4em;background-color: white;}#sk-container-id-1 div.sk-label label {font-family: monospace;font-weight: bold;display: inline-block;line-height: 1.2em;}#sk-container-id-1 div.sk-label-container {text-align: center;}#sk-container-id-1 div.sk-container {/* jupyter's `normalize.less` sets `[hidden] { display: none; }` but bootstrap.min.css set `[hidden] { display: none !important; }` so we also need the `!important` here to be able to override the default hidden behavior on the sphinx rendered scikit-learn.org. See: https://github.com/scikit-learn/scikit-learn/issues/21755 */display: inline-block !important;position: relative;}#sk-container-id-1 div.sk-text-repr-fallback {display: none;}</style><div id=\"sk-container-id-1\" class=\"sk-top-container\"><div class=\"sk-text-repr-fallback\"><pre>XGBClassifier(base_score=None, booster=None, callbacks=None,\n",
       "              colsample_bylevel=None, colsample_bynode=None,\n",
       "              colsample_bytree=None, early_stopping_rounds=None,\n",
       "              enable_categorical=False, eval_metric=None, feature_types=None,\n",
       "              gamma=None, gpu_id=0, grow_policy=None, importance_type=None,\n",
       "              interaction_constraints=None, learning_rate=None, max_bin=None,\n",
       "              max_cat_threshold=None, max_cat_to_onehot=None,\n",
       "              max_delta_step=None, max_depth=None, max_leaves=None,\n",
       "              min_child_weight=None, missing=nan, monotone_constraints=None,\n",
       "              n_estimators=100, n_jobs=None, num_parallel_tree=None,\n",
       "              predictor=None, random_state=10, ...)</pre><b>In a Jupyter environment, please rerun this cell to show the HTML representation or trust the notebook. <br />On GitHub, the HTML representation is unable to render, please try loading this page with nbviewer.org.</b></div><div class=\"sk-container\" hidden><div class=\"sk-item\"><div class=\"sk-estimator sk-toggleable\"><input class=\"sk-toggleable__control sk-hidden--visually\" id=\"sk-estimator-id-1\" type=\"checkbox\" checked><label for=\"sk-estimator-id-1\" class=\"sk-toggleable__label sk-toggleable__label-arrow\">XGBClassifier</label><div class=\"sk-toggleable__content\"><pre>XGBClassifier(base_score=None, booster=None, callbacks=None,\n",
       "              colsample_bylevel=None, colsample_bynode=None,\n",
       "              colsample_bytree=None, early_stopping_rounds=None,\n",
       "              enable_categorical=False, eval_metric=None, feature_types=None,\n",
       "              gamma=None, gpu_id=0, grow_policy=None, importance_type=None,\n",
       "              interaction_constraints=None, learning_rate=None, max_bin=None,\n",
       "              max_cat_threshold=None, max_cat_to_onehot=None,\n",
       "              max_delta_step=None, max_depth=None, max_leaves=None,\n",
       "              min_child_weight=None, missing=nan, monotone_constraints=None,\n",
       "              n_estimators=100, n_jobs=None, num_parallel_tree=None,\n",
       "              predictor=None, random_state=10, ...)</pre></div></div></div></div></div>"
      ],
      "text/plain": [
       "XGBClassifier(base_score=None, booster=None, callbacks=None,\n",
       "              colsample_bylevel=None, colsample_bynode=None,\n",
       "              colsample_bytree=None, early_stopping_rounds=None,\n",
       "              enable_categorical=False, eval_metric=None, feature_types=None,\n",
       "              gamma=None, gpu_id=0, grow_policy=None, importance_type=None,\n",
       "              interaction_constraints=None, learning_rate=None, max_bin=None,\n",
       "              max_cat_threshold=None, max_cat_to_onehot=None,\n",
       "              max_delta_step=None, max_depth=None, max_leaves=None,\n",
       "              min_child_weight=None, missing=nan, monotone_constraints=None,\n",
       "              n_estimators=100, n_jobs=None, num_parallel_tree=None,\n",
       "              predictor=None, random_state=10, ...)"
      ]
     },
     "execution_count": 8,
     "metadata": {},
     "output_type": "execute_result"
    }
   ],
   "source": [
    "clf_xgb.fit(X_train, y_train)"
   ]
  },
  {
   "cell_type": "code",
   "execution_count": 9,
   "id": "b30d2d61-918e-4e1c-825c-ec5ac7d985c4",
   "metadata": {
    "execution": {
     "iopub.execute_input": "2023-04-06T21:27:51.978834Z",
     "iopub.status.busy": "2023-04-06T21:27:51.978627Z",
     "iopub.status.idle": "2023-04-06T21:27:51.984945Z",
     "shell.execute_reply": "2023-04-06T21:27:51.984028Z",
     "shell.execute_reply.started": "2023-04-06T21:27:51.978820Z"
    },
    "scrolled": true,
    "tags": []
   },
   "outputs": [
    {
     "data": {
      "text/plain": [
       "{'objective': 'binary:logistic',\n",
       " 'use_label_encoder': None,\n",
       " 'base_score': None,\n",
       " 'booster': None,\n",
       " 'callbacks': None,\n",
       " 'colsample_bylevel': None,\n",
       " 'colsample_bynode': None,\n",
       " 'colsample_bytree': None,\n",
       " 'early_stopping_rounds': None,\n",
       " 'enable_categorical': False,\n",
       " 'eval_metric': None,\n",
       " 'feature_types': None,\n",
       " 'gamma': None,\n",
       " 'gpu_id': 0,\n",
       " 'grow_policy': None,\n",
       " 'importance_type': None,\n",
       " 'interaction_constraints': None,\n",
       " 'learning_rate': None,\n",
       " 'max_bin': None,\n",
       " 'max_cat_threshold': None,\n",
       " 'max_cat_to_onehot': None,\n",
       " 'max_delta_step': None,\n",
       " 'max_depth': None,\n",
       " 'max_leaves': None,\n",
       " 'min_child_weight': None,\n",
       " 'missing': nan,\n",
       " 'monotone_constraints': None,\n",
       " 'n_estimators': 100,\n",
       " 'n_jobs': None,\n",
       " 'num_parallel_tree': None,\n",
       " 'predictor': None,\n",
       " 'random_state': 10,\n",
       " 'reg_alpha': None,\n",
       " 'reg_lambda': None,\n",
       " 'sampling_method': None,\n",
       " 'scale_pos_weight': None,\n",
       " 'subsample': None,\n",
       " 'tree_method': 'gpu_hist',\n",
       " 'validate_parameters': None,\n",
       " 'verbosity': None}"
      ]
     },
     "execution_count": 9,
     "metadata": {},
     "output_type": "execute_result"
    }
   ],
   "source": [
    "clf_xgb.get_params()"
   ]
  },
  {
   "cell_type": "code",
   "execution_count": 10,
   "id": "d867670c-3f2b-448b-9954-fe5ca0d67d52",
   "metadata": {
    "execution": {
     "iopub.execute_input": "2023-04-06T21:27:55.954062Z",
     "iopub.status.busy": "2023-04-06T21:27:55.953683Z",
     "iopub.status.idle": "2023-04-06T21:27:56.061650Z",
     "shell.execute_reply": "2023-04-06T21:27:56.060933Z",
     "shell.execute_reply.started": "2023-04-06T21:27:55.954042Z"
    },
    "tags": []
   },
   "outputs": [],
   "source": [
    "y_pred = clf_xgb.predict(X_test)"
   ]
  },
  {
   "cell_type": "code",
   "execution_count": 11,
   "id": "0ff7c611-1218-485a-b257-b62aea6ba29e",
   "metadata": {
    "execution": {
     "iopub.execute_input": "2023-04-06T21:27:57.535378Z",
     "iopub.status.busy": "2023-04-06T21:27:57.533583Z",
     "iopub.status.idle": "2023-04-06T21:27:57.545669Z",
     "shell.execute_reply": "2023-04-06T21:27:57.544374Z",
     "shell.execute_reply.started": "2023-04-06T21:27:57.535317Z"
    },
    "tags": []
   },
   "outputs": [
    {
     "data": {
      "text/plain": [
       "array([0, 1, 0, ..., 0, 0, 1])"
      ]
     },
     "execution_count": 11,
     "metadata": {},
     "output_type": "execute_result"
    }
   ],
   "source": [
    "y_pred"
   ]
  },
  {
   "cell_type": "code",
   "execution_count": 12,
   "id": "d5202993-869d-4f2d-9adc-79014f3b9f48",
   "metadata": {
    "execution": {
     "iopub.execute_input": "2023-04-06T21:28:05.400841Z",
     "iopub.status.busy": "2023-04-06T21:28:05.400523Z",
     "iopub.status.idle": "2023-04-06T21:28:05.408642Z",
     "shell.execute_reply": "2023-04-06T21:28:05.407721Z",
     "shell.execute_reply.started": "2023-04-06T21:28:05.400823Z"
    },
    "tags": []
   },
   "outputs": [
    {
     "data": {
      "text/plain": [
       "0.8321612751992499"
      ]
     },
     "execution_count": 12,
     "metadata": {},
     "output_type": "execute_result"
    }
   ],
   "source": [
    "accuracy_score(y_test, y_pred)"
   ]
  },
  {
   "cell_type": "code",
   "execution_count": 27,
   "id": "0d883eeb-b6e7-487f-b4e1-600c7bbe615d",
   "metadata": {
    "execution": {
     "iopub.execute_input": "2023-04-06T21:53:46.976800Z",
     "iopub.status.busy": "2023-04-06T21:53:46.976547Z",
     "iopub.status.idle": "2023-04-06T21:53:47.240948Z",
     "shell.execute_reply": "2023-04-06T21:53:47.240037Z",
     "shell.execute_reply.started": "2023-04-06T21:53:46.976786Z"
    },
    "tags": []
   },
   "outputs": [
    {
     "name": "stdout",
     "output_type": "stream",
     "text": [
      "Training Data Score: 1.0\n",
      "Testing Data Score: 0.8321612751992499\n"
     ]
    }
   ],
   "source": [
    "# Compare training and testing scores\n",
    "print(f\"Training Data Score: {clf_xgb.score(X_train, y_train)}\")\n",
    "print(f\"Testing Data Score: {clf_xgb.score(X_test, y_test)}\")"
   ]
  },
  {
   "cell_type": "markdown",
   "id": "e3044c63-cce9-40da-abf8-b113175a2c37",
   "metadata": {},
   "source": [
    "#### Names of Classes"
   ]
  },
  {
   "cell_type": "code",
   "execution_count": 13,
   "id": "f824c0a4-22d4-4894-859c-0d3618e7d889",
   "metadata": {
    "execution": {
     "iopub.execute_input": "2023-04-06T21:28:10.010936Z",
     "iopub.status.busy": "2023-04-06T21:28:10.010729Z",
     "iopub.status.idle": "2023-04-06T21:28:10.015034Z",
     "shell.execute_reply": "2023-04-06T21:28:10.014144Z",
     "shell.execute_reply.started": "2023-04-06T21:28:10.010921Z"
    },
    "tags": []
   },
   "outputs": [],
   "source": [
    "target_names = ['all', 'hem']"
   ]
  },
  {
   "cell_type": "code",
   "execution_count": 14,
   "id": "818c9ac3-2c68-4331-a847-02104aa61faa",
   "metadata": {
    "execution": {
     "iopub.execute_input": "2023-04-06T21:28:13.506950Z",
     "iopub.status.busy": "2023-04-06T21:28:13.506726Z",
     "iopub.status.idle": "2023-04-06T21:28:13.514439Z",
     "shell.execute_reply": "2023-04-06T21:28:13.513664Z",
     "shell.execute_reply.started": "2023-04-06T21:28:13.506923Z"
    },
    "tags": []
   },
   "outputs": [
    {
     "data": {
      "text/plain": [
       "array([[1352,  103],\n",
       "       [ 255,  423]])"
      ]
     },
     "execution_count": 14,
     "metadata": {},
     "output_type": "execute_result"
    }
   ],
   "source": [
    "confusion_matrix(y_test, y_pred)"
   ]
  },
  {
   "cell_type": "code",
   "execution_count": 15,
   "id": "5247b19f-abd4-4de6-9677-5ccf393df8e8",
   "metadata": {
    "execution": {
     "iopub.execute_input": "2023-04-06T21:28:26.159770Z",
     "iopub.status.busy": "2023-04-06T21:28:26.159563Z",
     "iopub.status.idle": "2023-04-06T21:28:26.558373Z",
     "shell.execute_reply": "2023-04-06T21:28:26.557512Z",
     "shell.execute_reply.started": "2023-04-06T21:28:26.159755Z"
    },
    "tags": []
   },
   "outputs": [
    {
     "data": {
      "image/png": "[encoded data removed]",
      "text/plain": [
       "<Figure size 864x288 with 4 Axes>"
      ]
     },
     "metadata": {},
     "output_type": "display_data"
    }
   ],
   "source": [
    "# Plot confusion matrices\n",
    "mu.plot_cm_unnorm_and_norm('XGBoost', y_test, y_pred, target_names, 'Reds')"
   ]
  },
  {
   "cell_type": "code",
   "execution_count": 16,
   "id": "83dfff22-ce0c-4df9-9ac5-3b7faf3a7ec9",
   "metadata": {
    "execution": {
     "iopub.execute_input": "2023-04-06T21:28:33.206947Z",
     "iopub.status.busy": "2023-04-06T21:28:33.206740Z",
     "iopub.status.idle": "2023-04-06T21:28:33.222664Z",
     "shell.execute_reply": "2023-04-06T21:28:33.221149Z",
     "shell.execute_reply.started": "2023-04-06T21:28:33.206933Z"
    },
    "tags": []
   },
   "outputs": [
    {
     "name": "stdout",
     "output_type": "stream",
     "text": [
      "              precision    recall  f1-score   support\n",
      "\n",
      "         all       0.84      0.93      0.88      1455\n",
      "         hem       0.80      0.62      0.70       678\n",
      "\n",
      "    accuracy                           0.83      2133\n",
      "   macro avg       0.82      0.78      0.79      2133\n",
      "weighted avg       0.83      0.83      0.83      2133\n",
      "\n"
     ]
    }
   ],
   "source": [
    "print(classification_report(y_test, y_pred, target_names=target_names))"
   ]
  },
  {
   "cell_type": "markdown",
   "id": "e1e87393-79b0-40b1-9c93-5abe5920d638",
   "metadata": {
    "execution": {
     "iopub.execute_input": "2023-04-04T22:26:11.157119Z",
     "iopub.status.busy": "2023-04-04T22:26:11.156489Z",
     "iopub.status.idle": "2023-04-04T22:26:11.161554Z",
     "shell.execute_reply": "2023-04-04T22:26:11.160781Z",
     "shell.execute_reply.started": "2023-04-04T22:26:11.157079Z"
    }
   },
   "source": [
    "## Hyperparameter tuning for XGBoost"
   ]
  },
  {
   "cell_type": "code",
   "execution_count": 66,
   "id": "dfb65bf5-2d6c-4e29-8bb5-b84b7c56cbc0",
   "metadata": {
    "execution": {
     "iopub.execute_input": "2023-04-06T14:26:31.005949Z",
     "iopub.status.busy": "2023-04-06T14:26:31.005629Z",
     "iopub.status.idle": "2023-04-06T14:26:31.010511Z",
     "shell.execute_reply": "2023-04-06T14:26:31.009782Z",
     "shell.execute_reply.started": "2023-04-06T14:26:31.005929Z"
    },
    "tags": []
   },
   "outputs": [],
   "source": [
    "# clf_xgb = XGBClassifier(tree_method='gpu_hist', gpu_id=0, objective='binary:logistic', random_state=random_state)"
   ]
  },
  {
   "cell_type": "code",
   "execution_count": 8,
   "id": "1e03b2c2-53c2-43f0-8b7d-14465af52cb5",
   "metadata": {
    "execution": {
     "iopub.execute_input": "2023-04-06T15:40:26.070837Z",
     "iopub.status.busy": "2023-04-06T15:40:26.070261Z",
     "iopub.status.idle": "2023-04-06T15:40:26.074454Z",
     "shell.execute_reply": "2023-04-06T15:40:26.073524Z",
     "shell.execute_reply.started": "2023-04-06T15:40:26.070817Z"
    },
    "tags": []
   },
   "outputs": [],
   "source": [
    "# clf_xgb = XGBClassifier(tree_method='gpu_hist', gpu_id=0, random_state=random_state)"
   ]
  },
  {
   "cell_type": "code",
   "execution_count": 17,
   "id": "42ea3d2b-10dc-4315-8844-e7d10418d3d9",
   "metadata": {
    "execution": {
     "iopub.execute_input": "2023-04-06T21:32:14.159715Z",
     "iopub.status.busy": "2023-04-06T21:32:14.159496Z",
     "iopub.status.idle": "2023-04-06T21:32:14.165491Z",
     "shell.execute_reply": "2023-04-06T21:32:14.164602Z",
     "shell.execute_reply.started": "2023-04-06T21:32:14.159700Z"
    },
    "tags": []
   },
   "outputs": [],
   "source": [
    "# Define search space\n",
    "\n",
    "space_xgb = {'gamma': uniform(0, 1),\n",
    "              'max_depth': randint(2, 8),\n",
    "              'n_estimators': randint(10, 300)\n",
    "             }\n",
    "# param_grid = {'xgbclassifier__gamma': [0.5, 0.8, 1],\n",
    "#               'xgbclassifier__max_depth': [3, 4, 5, 6],\n",
    "#               'xgbclassifier__n_estimators': [50, 100, 200]\n",
    "#              }"
   ]
  },
  {
   "cell_type": "code",
   "execution_count": 18,
   "id": "cf90a39f-3d6a-4111-9b1a-4c9e6ef52cd3",
   "metadata": {
    "execution": {
     "iopub.execute_input": "2023-04-06T21:32:54.254976Z",
     "iopub.status.busy": "2023-04-06T21:32:54.254775Z",
     "iopub.status.idle": "2023-04-06T21:32:54.259377Z",
     "shell.execute_reply": "2023-04-06T21:32:54.258416Z",
     "shell.execute_reply.started": "2023-04-06T21:32:54.254962Z"
    },
    "tags": []
   },
   "outputs": [],
   "source": [
    "# Made folds by preserving the percentage of samples for each class\n",
    "skf = StratifiedKFold(n_splits=5, shuffle=True, random_state=random_state)"
   ]
  },
  {
   "cell_type": "code",
   "execution_count": 19,
   "id": "c0bdf38d-349a-4fdc-9ba0-4a38c12ab953",
   "metadata": {
    "execution": {
     "iopub.execute_input": "2023-04-06T21:33:31.189452Z",
     "iopub.status.busy": "2023-04-06T21:33:31.189215Z",
     "iopub.status.idle": "2023-04-06T21:33:31.193754Z",
     "shell.execute_reply": "2023-04-06T21:33:31.192794Z",
     "shell.execute_reply.started": "2023-04-06T21:33:31.189436Z"
    },
    "tags": []
   },
   "outputs": [],
   "source": [
    "# Create the RandomizedSearchCV model \n",
    "search = RandomizedSearchCV(clf_xgb, \n",
    "                            space_xgb, \n",
    "                            n_iter=20, \n",
    "                            cv=skf,      \n",
    "                            scoring='f1', \n",
    "                            #refit='recall',\n",
    "                            #error_score='raise',\n",
    "                            n_jobs=1, \n",
    "                            verbose=4,\n",
    "                            random_state=random_state)"
   ]
  },
  {
   "cell_type": "code",
   "execution_count": 20,
   "id": "ce547019-7ba2-467d-b205-a0f895f84909",
   "metadata": {
    "execution": {
     "iopub.execute_input": "2023-04-06T21:33:34.405835Z",
     "iopub.status.busy": "2023-04-06T21:33:34.405591Z",
     "iopub.status.idle": "2023-04-06T21:41:50.092584Z",
     "shell.execute_reply": "2023-04-06T21:41:50.091913Z",
     "shell.execute_reply.started": "2023-04-06T21:33:34.405818Z"
    },
    "scrolled": true,
    "tags": []
   },
   "outputs": [
    {
     "name": "stdout",
     "output_type": "stream",
     "text": [
      "Fitting 5 folds for each of 20 candidates, totalling 100 fits\n",
      "[CV 1/5] END gamma=0.771320643266746, max_depth=6, n_estimators=25;, score=0.619 total time=   3.0s\n",
      "[CV 2/5] END gamma=0.771320643266746, max_depth=6, n_estimators=25;, score=0.592 total time=   2.9s\n",
      "[CV 3/5] END gamma=0.771320643266746, max_depth=6, n_estimators=25;, score=0.621 total time=   2.9s\n",
      "[CV 4/5] END gamma=0.771320643266746, max_depth=6, n_estimators=25;, score=0.579 total time=   2.8s\n",
      "[CV 5/5] END gamma=0.771320643266746, max_depth=6, n_estimators=25;, score=0.628 total time=   2.8s\n",
      "[CV 1/5] END gamma=0.6336482349262754, max_depth=5, n_estimators=166;, score=0.671 total time=   6.0s\n",
      "[CV 2/5] END gamma=0.6336482349262754, max_depth=5, n_estimators=166;, score=0.635 total time=   6.0s\n",
      "[CV 3/5] END gamma=0.6336482349262754, max_depth=5, n_estimators=166;, score=0.669 total time=   6.0s\n",
      "[CV 4/5] END gamma=0.6336482349262754, max_depth=5, n_estimators=166;, score=0.627 total time=   6.0s\n",
      "[CV 5/5] END gamma=0.6336482349262754, max_depth=5, n_estimators=166;, score=0.681 total time=   6.1s\n",
      "[CV 1/5] END gamma=0.4985070123025904, max_depth=2, n_estimators=18;, score=0.507 total time=   1.2s\n",
      "[CV 2/5] END gamma=0.4985070123025904, max_depth=2, n_estimators=18;, score=0.475 total time=   1.2s\n",
      "[CV 3/5] END gamma=0.4985070123025904, max_depth=2, n_estimators=18;, score=0.533 total time=   1.2s\n",
      "[CV 4/5] END gamma=0.4985070123025904, max_depth=2, n_estimators=18;, score=0.457 total time=   1.2s\n",
      "[CV 5/5] END gamma=0.4985070123025904, max_depth=2, n_estimators=18;, score=0.527 total time=   1.2s\n",
      "[CV 1/5] END gamma=0.265566126772097, max_depth=4, n_estimators=50;, score=0.639 total time=   2.4s\n",
      "[CV 2/5] END gamma=0.265566126772097, max_depth=4, n_estimators=50;, score=0.606 total time=   2.4s\n",
      "[CV 3/5] END gamma=0.265566126772097, max_depth=4, n_estimators=50;, score=0.644 total time=   2.4s\n",
      "[CV 4/5] END gamma=0.265566126772097, max_depth=4, n_estimators=50;, score=0.560 total time=   2.4s\n",
      "[CV 5/5] END gamma=0.265566126772097, max_depth=4, n_estimators=50;, score=0.640 total time=   2.5s\n",
      "[CV 1/5] END gamma=0.15037786726176594, max_depth=5, n_estimators=26;, score=0.620 total time=   2.3s\n",
      "[CV 2/5] END gamma=0.15037786726176594, max_depth=5, n_estimators=26;, score=0.610 total time=   2.1s\n",
      "[CV 3/5] END gamma=0.15037786726176594, max_depth=5, n_estimators=26;, score=0.601 total time=   2.1s\n",
      "[CV 4/5] END gamma=0.15037786726176594, max_depth=5, n_estimators=26;, score=0.567 total time=   2.1s\n",
      "[CV 5/5] END gamma=0.15037786726176594, max_depth=5, n_estimators=26;, score=0.611 total time=   2.1s\n",
      "[CV 1/5] END gamma=0.8166018352206666, max_depth=5, n_estimators=64;, score=0.643 total time=   3.8s\n",
      "[CV 2/5] END gamma=0.8166018352206666, max_depth=5, n_estimators=64;, score=0.629 total time=   3.7s\n",
      "[CV 3/5] END gamma=0.8166018352206666, max_depth=5, n_estimators=64;, score=0.656 total time=   3.8s\n",
      "[CV 4/5] END gamma=0.8166018352206666, max_depth=5, n_estimators=64;, score=0.603 total time=   4.0s\n",
      "[CV 5/5] END gamma=0.8166018352206666, max_depth=5, n_estimators=64;, score=0.664 total time=   3.8s\n",
      "[CV 1/5] END gamma=0.8908165306793224, max_depth=4, n_estimators=72;, score=0.650 total time=   3.4s\n",
      "[CV 2/5] END gamma=0.8908165306793224, max_depth=4, n_estimators=72;, score=0.615 total time=   3.1s\n",
      "[CV 3/5] END gamma=0.8908165306793224, max_depth=4, n_estimators=72;, score=0.629 total time=   3.0s\n",
      "[CV 4/5] END gamma=0.8908165306793224, max_depth=4, n_estimators=72;, score=0.605 total time=   3.0s\n",
      "[CV 5/5] END gamma=0.8908165306793224, max_depth=4, n_estimators=72;, score=0.638 total time=   3.3s\n",
      "[CV 1/5] END gamma=0.03061665387269341, max_depth=6, n_estimators=187;, score=0.645 total time=  12.1s\n",
      "[CV 2/5] END gamma=0.03061665387269341, max_depth=6, n_estimators=187;, score=0.639 total time=  11.7s\n",
      "[CV 3/5] END gamma=0.03061665387269341, max_depth=6, n_estimators=187;, score=0.649 total time=  12.7s\n",
      "[CV 4/5] END gamma=0.03061665387269341, max_depth=6, n_estimators=187;, score=0.613 total time=  12.0s\n",
      "[CV 5/5] END gamma=0.03061665387269341, max_depth=6, n_estimators=187;, score=0.674 total time=  11.8s\n",
      "[CV 1/5] END gamma=0.9177741225129434, max_depth=7, n_estimators=23;, score=0.602 total time=   3.9s\n",
      "[CV 2/5] END gamma=0.9177741225129434, max_depth=7, n_estimators=23;, score=0.594 total time=   3.8s\n",
      "[CV 3/5] END gamma=0.9177741225129434, max_depth=7, n_estimators=23;, score=0.614 total time=   4.0s\n",
      "[CV 4/5] END gamma=0.9177741225129434, max_depth=7, n_estimators=23;, score=0.590 total time=   3.8s\n",
      "[CV 5/5] END gamma=0.9177741225129434, max_depth=7, n_estimators=23;, score=0.608 total time=   3.8s\n",
      "[CV 1/5] END gamma=0.4136673744184527, max_depth=7, n_estimators=296;, score=0.627 total time=  10.5s\n",
      "[CV 2/5] END gamma=0.4136673744184527, max_depth=7, n_estimators=296;, score=0.605 total time=  11.0s\n",
      "[CV 3/5] END gamma=0.4136673744184527, max_depth=7, n_estimators=296;, score=nan total time=   2.5s\n",
      "[CV 4/5] END gamma=0.4136673744184527, max_depth=7, n_estimators=296;, score=0.624 total time=  10.4s\n",
      "[CV 5/5] END gamma=0.4136673744184527, max_depth=7, n_estimators=296;, score=0.660 total time=  10.6s\n",
      "[CV 1/5] END gamma=0.4418331744229961, max_depth=6, n_estimators=41;, score=0.632 total time=   3.9s\n",
      "[CV 2/5] END gamma=0.4418331744229961, max_depth=6, n_estimators=41;, score=0.599 total time=   3.8s\n",
      "[CV 3/5] END gamma=0.4418331744229961, max_depth=6, n_estimators=41;, score=0.610 total time=   4.3s\n",
      "[CV 4/5] END gamma=0.4418331744229961, max_depth=6, n_estimators=41;, score=0.602 total time=   3.9s\n",
      "[CV 5/5] END gamma=0.4418331744229961, max_depth=6, n_estimators=41;, score=0.621 total time=   3.9s\n",
      "[CV 1/5] END gamma=0.28357667858256574, max_depth=5, n_estimators=28;, score=0.619 total time=   2.6s\n",
      "[CV 2/5] END gamma=0.28357667858256574, max_depth=5, n_estimators=28;, score=0.616 total time=   2.4s\n",
      "[CV 3/5] END gamma=0.28357667858256574, max_depth=5, n_estimators=28;, score=0.618 total time=   2.3s\n",
      "[CV 4/5] END gamma=0.28357667858256574, max_depth=5, n_estimators=28;, score=0.565 total time=   2.3s\n",
      "[CV 5/5] END gamma=0.28357667858256574, max_depth=5, n_estimators=28;, score=0.611 total time=   2.3s\n",
      "[CV 1/5] END gamma=0.05644418747007063, max_depth=2, n_estimators=166;, score=0.628 total time=   3.4s\n",
      "[CV 2/5] END gamma=0.05644418747007063, max_depth=2, n_estimators=166;, score=0.602 total time=   3.3s\n",
      "[CV 3/5] END gamma=0.05644418747007063, max_depth=2, n_estimators=166;, score=0.614 total time=   3.4s\n",
      "[CV 4/5] END gamma=0.05644418747007063, max_depth=2, n_estimators=166;, score=0.609 total time=   3.4s\n",
      "[CV 5/5] END gamma=0.05644418747007063, max_depth=2, n_estimators=166;, score=0.631 total time=   3.4s\n",
      "[CV 1/5] END gamma=0.3318822556677169, max_depth=3, n_estimators=25;, score=0.567 total time=   1.5s\n",
      "[CV 2/5] END gamma=0.3318822556677169, max_depth=3, n_estimators=25;, score=0.548 total time=   1.8s\n",
      "[CV 3/5] END gamma=0.3318822556677169, max_depth=3, n_estimators=25;, score=0.566 total time=   1.6s\n",
      "[CV 4/5] END gamma=0.3318822556677169, max_depth=3, n_estimators=25;, score=0.555 total time=   1.5s\n",
      "[CV 5/5] END gamma=0.3318822556677169, max_depth=3, n_estimators=25;, score=0.571 total time=   1.6s\n",
      "[CV 1/5] END gamma=0.33549964651986997, max_depth=2, n_estimators=155;, score=0.628 total time=   3.3s\n",
      "[CV 2/5] END gamma=0.33549964651986997, max_depth=2, n_estimators=155;, score=0.605 total time=   3.3s\n",
      "[CV 3/5] END gamma=0.33549964651986997, max_depth=2, n_estimators=155;, score=0.614 total time=   3.2s\n",
      "[CV 4/5] END gamma=0.33549964651986997, max_depth=2, n_estimators=155;, score=0.604 total time=   3.2s\n",
      "[CV 5/5] END gamma=0.33549964651986997, max_depth=2, n_estimators=155;, score=0.628 total time=   3.1s\n",
      "[CV 1/5] END gamma=0.04689631938924976, max_depth=5, n_estimators=294;, score=0.679 total time=  11.9s\n",
      "[CV 2/5] END gamma=0.04689631938924976, max_depth=5, n_estimators=294;, score=0.654 total time=  11.7s\n",
      "[CV 3/5] END gamma=0.04689631938924976, max_depth=5, n_estimators=294;, score=0.665 total time=  12.0s\n",
      "[CV 4/5] END gamma=0.04689631938924976, max_depth=5, n_estimators=294;, score=0.635 total time=  11.9s\n",
      "[CV 5/5] END gamma=0.04689631938924976, max_depth=5, n_estimators=294;, score=0.686 total time=  12.1s\n",
      "[CV 1/5] END gamma=0.5475861559192435, max_depth=4, n_estimators=54;, score=0.643 total time=   2.6s\n",
      "[CV 2/5] END gamma=0.5475861559192435, max_depth=4, n_estimators=54;, score=0.600 total time=   2.7s\n",
      "[CV 3/5] END gamma=0.5475861559192435, max_depth=4, n_estimators=54;, score=0.634 total time=   2.6s\n",
      "[CV 4/5] END gamma=0.5475861559192435, max_depth=4, n_estimators=54;, score=0.574 total time=   2.8s\n",
      "[CV 5/5] END gamma=0.5475861559192435, max_depth=4, n_estimators=54;, score=0.636 total time=   2.5s\n",
      "[CV 1/5] END gamma=0.8568503024577332, max_depth=2, n_estimators=192;, score=0.642 total time=   3.8s\n",
      "[CV 2/5] END gamma=0.8568503024577332, max_depth=2, n_estimators=192;, score=0.602 total time=   3.8s\n",
      "[CV 3/5] END gamma=0.8568503024577332, max_depth=2, n_estimators=192;, score=0.636 total time=   3.7s\n",
      "[CV 4/5] END gamma=0.8568503024577332, max_depth=2, n_estimators=192;, score=0.607 total time=   3.8s\n",
      "[CV 5/5] END gamma=0.8568503024577332, max_depth=2, n_estimators=192;, score=0.646 total time=   3.9s\n",
      "[CV 1/5] END gamma=0.8839364795611863, max_depth=7, n_estimators=153;, score=0.631 total time=   7.3s\n",
      "[CV 2/5] END gamma=0.8839364795611863, max_depth=7, n_estimators=153;, score=0.632 total time=   7.1s\n",
      "[CV 3/5] END gamma=0.8839364795611863, max_depth=7, n_estimators=153;, score=0.639 total time=   7.1s\n",
      "[CV 4/5] END gamma=0.8839364795611863, max_depth=7, n_estimators=153;, score=0.610 total time=   7.0s\n",
      "[CV 5/5] END gamma=0.8839364795611863, max_depth=7, n_estimators=153;, score=0.652 total time=   7.0s\n",
      "[CV 1/5] END gamma=0.3925292439465873, max_depth=7, n_estimators=244;, score=0.632 total time=  10.0s\n",
      "[CV 2/5] END gamma=0.3925292439465873, max_depth=7, n_estimators=244;, score=0.620 total time=   9.7s\n",
      "[CV 3/5] END gamma=0.3925292439465873, max_depth=7, n_estimators=244;, score=0.631 total time=   9.9s\n",
      "[CV 4/5] END gamma=0.3925292439465873, max_depth=7, n_estimators=244;, score=0.632 total time=   9.7s\n",
      "[CV 5/5] END gamma=0.3925292439465873, max_depth=7, n_estimators=244;, score=0.651 total time=   9.7s\n"
     ]
    },
    {
     "name": "stderr",
     "output_type": "stream",
     "text": [
      "/home/damir/miniconda3/envs/omdena/lib/python3.11/site-packages/sklearn/model_selection/_validation.py:378: FitFailedWarning: \n",
      "1 fits failed out of a total of 100.\n",
      "The score on these train-test partitions for these parameters will be set to nan.\n",
      "If these failures are not expected, you can try to debug them by setting error_score='raise'.\n",
      "\n",
      "Below are more details about the failures:\n",
      "--------------------------------------------------------------------------------\n",
      "1 fits failed with the following error:\n",
      "Traceback (most recent call last):\n",
      "  File \"/home/damir/miniconda3/envs/omdena/lib/python3.11/site-packages/sklearn/model_selection/_validation.py\", line 686, in _fit_and_score\n",
      "    estimator.fit(X_train, y_train, **fit_params)\n",
      "  File \"/home/damir/miniconda3/envs/omdena/lib/python3.11/site-packages/xgboost/core.py\", line 620, in inner_f\n",
      "    return func(**kwargs)\n",
      "           ^^^^^^^^^^^^^^\n",
      "  File \"/home/damir/miniconda3/envs/omdena/lib/python3.11/site-packages/xgboost/sklearn.py\", line 1490, in fit\n",
      "    self._Booster = train(\n",
      "                    ^^^^^^\n",
      "  File \"/home/damir/miniconda3/envs/omdena/lib/python3.11/site-packages/xgboost/core.py\", line 620, in inner_f\n",
      "    return func(**kwargs)\n",
      "           ^^^^^^^^^^^^^^\n",
      "  File \"/home/damir/miniconda3/envs/omdena/lib/python3.11/site-packages/xgboost/training.py\", line 185, in train\n",
      "    bst.update(dtrain, i, obj)\n",
      "  File \"/home/damir/miniconda3/envs/omdena/lib/python3.11/site-packages/xgboost/core.py\", line 1918, in update\n",
      "    _check_call(_LIB.XGBoosterUpdateOneIter(self.handle,\n",
      "  File \"/home/damir/miniconda3/envs/omdena/lib/python3.11/site-packages/xgboost/core.py\", line 279, in _check_call\n",
      "    raise XGBoostError(py_str(_LIB.XGBGetLastError()))\n",
      "xgboost.core.XGBoostError: [17:37:06] /home/conda/feedstock_root/build_artifacts/xgboost-split_1679035020608/work/src/tree/updater_gpu_hist.cu:798: Exception in gpu_hist: [17:37:06] /home/conda/feedstock_root/build_artifacts/xgboost-split_1679035020608/work/src/c_api/../data/../common/device_helpers.cuh:431: Memory allocation error on worker 0: std::bad_alloc: cudaErrorMemoryAllocation: out of memory\n",
      "- Free memory: 3026190336\n",
      "- Requested memory: 4294967296\n",
      "\n",
      "Stack trace:\n",
      "  [bt] (0) /home/damir/miniconda3/envs/omdena/lib/libxgboost.so(+0x20b8df) [0x7ff2164438df]\n",
      "  [bt] (1) /home/damir/miniconda3/envs/omdena/lib/libxgboost.so(dh::detail::ThrowOOMError(std::__cxx11::basic_string<char, std::char_traits<char>, std::allocator<char> > const&, unsigned long)+0x42a) [0x7ff2167a0f0a]\n",
      "  [bt] (2) /home/damir/miniconda3/envs/omdena/lib/libxgboost.so(+0x1e057e) [0x7ff21641857e]\n",
      "  [bt] (3) /home/damir/miniconda3/envs/omdena/lib/libxgboost.so(thrust::detail::vector_base<long, dh::detail::XGBDefaultDeviceAllocatorImpl<long> >::append(unsigned long)+0x20a) [0x7ff216ae1d7a]\n",
      "  [bt] (4) /home/damir/miniconda3/envs/omdena/lib/libxgboost.so(xgboost::tree::DeviceHistogramStorage<268435456ul>::AllocateHistograms(std::vector<int, std::allocator<int> > const&)+0x4c8) [0x7ff216aed678]\n",
      "  [bt] (5) /home/damir/miniconda3/envs/omdena/lib/libxgboost.so(xgboost::tree::GPUHistMakerDevice<xgboost::detail::GradientPairInternal<double> >::BuildHistLeftRight(std::vector<xgboost::tree::GPUExpandEntry, std::allocator<xgboost::tree::GPUExpandEntry> > const&, xgboost::collective::DeviceCommunicator*, xgboost::RegTree const&)+0x25d) [0x7ff216aedc7d]\n",
      "  [bt] (6) /home/damir/miniconda3/envs/omdena/lib/libxgboost.so(+0x8bfa00) [0x7ff216af7a00]\n",
      "  [bt] (7) /home/damir/miniconda3/envs/omdena/lib/libxgboost.so(xgboost::tree::GPUHistMaker::Update(xgboost::HostDeviceVector<xgboost::detail::GradientPairInternal<float> >*, xgboost::DMatrix*, xgboost::common::Span<xgboost::HostDeviceVector<int>, 18446744073709551615ul>, std::vector<xgboost::RegTree*, std::allocator<xgboost::RegTree*> > const&)+0x1f7) [0x7ff216af8bc7]\n",
      "  [bt] (8) /home/damir/miniconda3/envs/omdena/lib/libxgboost.so(xgboost::gbm::GBTree::BoostNewTrees(xgboost::HostDeviceVector<xgboost::detail::GradientPairInternal<float> >*, xgboost::DMatrix*, int, std::vector<std::unique_ptr<xgboost::RegTree, std::default_delete<xgboost::RegTree> >, std::allocator<std::unique_ptr<xgboost::RegTree, std::default_delete<xgboost::RegTree> > > >*)+0xa50) [0x7ff2165ee0e0]\n",
      "\n",
      "\n",
      "\n",
      "Stack trace:\n",
      "  [bt] (0) /home/damir/miniconda3/envs/omdena/lib/libxgboost.so(+0x20b8df) [0x7ff2164438df]\n",
      "  [bt] (1) /home/damir/miniconda3/envs/omdena/lib/libxgboost.so(xgboost::tree::GPUHistMaker::Update(xgboost::HostDeviceVector<xgboost::detail::GradientPairInternal<float> >*, xgboost::DMatrix*, xgboost::common::Span<xgboost::HostDeviceVector<int>, 18446744073709551615ul>, std::vector<xgboost::RegTree*, std::allocator<xgboost::RegTree*> > const&)+0x406) [0x7ff216af8dd6]\n",
      "  [bt] (2) /home/damir/miniconda3/envs/omdena/lib/libxgboost.so(xgboost::gbm::GBTree::BoostNewTrees(xgboost::HostDeviceVector<xgboost::detail::GradientPairInternal<float> >*, xgboost::DMatrix*, int, std::vector<std::unique_ptr<xgboost::RegTree, std::default_delete<xgboost::RegTree> >, std::allocator<std::unique_ptr<xgboost::RegTree, std::default_delete<xgboost::RegTree> > > >*)+0xa50) [0x7ff2165ee0e0]\n",
      "  [bt] (3) /home/damir/miniconda3/envs/omdena/lib/libxgboost.so(xgboost::gbm::GBTree::DoBoost(xgboost::DMatrix*, xgboost::HostDeviceVector<xgboost::detail::GradientPairInternal<float> >*, xgboost::PredictionCacheEntry*, xgboost::ObjFunction const*)+0x59b) [0x7ff2165ef44b]\n",
      "  [bt] (4) /home/damir/miniconda3/envs/omdena/lib/libxgboost.so(+0x3df400) [0x7ff216617400]\n",
      "  [bt] (5) /home/damir/miniconda3/envs/omdena/lib/libxgboost.so(XGBoosterUpdateOneIter+0x8a) [0x7ff2164504da]\n",
      "  [bt] (6) /home/damir/miniconda3/envs/omdena/lib/python3.11/lib-dynload/../../libffi.so.8(+0x6a4a) [0x7ff2b1d06a4a]\n",
      "  [bt] (7) /home/damir/miniconda3/envs/omdena/lib/python3.11/lib-dynload/../../libffi.so.8(+0x5fea) [0x7ff2b1d05fea]\n",
      "  [bt] (8) /home/damir/miniconda3/envs/omdena/lib/python3.11/lib-dynload/_ctypes.cpython-311-x86_64-linux-gnu.so(+0x92c4) [0x7ff2b1d152c4]\n",
      "\n",
      "\n",
      "\n",
      "  warnings.warn(some_fits_failed_message, FitFailedWarning)\n",
      "/home/damir/miniconda3/envs/omdena/lib/python3.11/site-packages/sklearn/model_selection/_search.py:952: UserWarning: One or more of the test scores are non-finite: [0.60767366 0.65659917 0.49967129 0.61797279 0.60173227 0.63909078\n",
      " 0.62733152 0.64370311 0.60162055        nan 0.61272867 0.60558627\n",
      " 0.61677274 0.56145411 0.61597721 0.66387219 0.61731877 0.62664968\n",
      " 0.63309788 0.63308183]\n",
      "  warnings.warn(\n"
     ]
    },
    {
     "data": {
      "text/html": [
       "<style>#sk-container-id-2 {color: black;background-color: white;}#sk-container-id-2 pre{padding: 0;}#sk-container-id-2 div.sk-toggleable {background-color: white;}#sk-container-id-2 label.sk-toggleable__label {cursor: pointer;display: block;width: 100%;margin-bottom: 0;padding: 0.3em;box-sizing: border-box;text-align: center;}#sk-container-id-2 label.sk-toggleable__label-arrow:before {content: \"▸\";float: left;margin-right: 0.25em;color: #696969;}#sk-container-id-2 label.sk-toggleable__label-arrow:hover:before {color: black;}#sk-container-id-2 div.sk-estimator:hover label.sk-toggleable__label-arrow:before {color: black;}#sk-container-id-2 div.sk-toggleable__content {max-height: 0;max-width: 0;overflow: hidden;text-align: left;background-color: #f0f8ff;}#sk-container-id-2 div.sk-toggleable__content pre {margin: 0.2em;color: black;border-radius: 0.25em;background-color: #f0f8ff;}#sk-container-id-2 input.sk-toggleable__control:checked~div.sk-toggleable__content {max-height: 200px;max-width: 100%;overflow: auto;}#sk-container-id-2 input.sk-toggleable__control:checked~label.sk-toggleable__label-arrow:before {content: \"▾\";}#sk-container-id-2 div.sk-estimator input.sk-toggleable__control:checked~label.sk-toggleable__label {background-color: #d4ebff;}#sk-container-id-2 div.sk-label input.sk-toggleable__control:checked~label.sk-toggleable__label {background-color: #d4ebff;}#sk-container-id-2 input.sk-hidden--visually {border: 0;clip: rect(1px 1px 1px 1px);clip: rect(1px, 1px, 1px, 1px);height: 1px;margin: -1px;overflow: hidden;padding: 0;position: absolute;width: 1px;}#sk-container-id-2 div.sk-estimator {font-family: monospace;background-color: #f0f8ff;border: 1px dotted black;border-radius: 0.25em;box-sizing: border-box;margin-bottom: 0.5em;}#sk-container-id-2 div.sk-estimator:hover {background-color: #d4ebff;}#sk-container-id-2 div.sk-parallel-item::after {content: \"\";width: 100%;border-bottom: 1px solid gray;flex-grow: 1;}#sk-container-id-2 div.sk-label:hover label.sk-toggleable__label {background-color: #d4ebff;}#sk-container-id-2 div.sk-serial::before {content: \"\";position: absolute;border-left: 1px solid gray;box-sizing: border-box;top: 0;bottom: 0;left: 50%;z-index: 0;}#sk-container-id-2 div.sk-serial {display: flex;flex-direction: column;align-items: center;background-color: white;padding-right: 0.2em;padding-left: 0.2em;position: relative;}#sk-container-id-2 div.sk-item {position: relative;z-index: 1;}#sk-container-id-2 div.sk-parallel {display: flex;align-items: stretch;justify-content: center;background-color: white;position: relative;}#sk-container-id-2 div.sk-item::before, #sk-container-id-2 div.sk-parallel-item::before {content: \"\";position: absolute;border-left: 1px solid gray;box-sizing: border-box;top: 0;bottom: 0;left: 50%;z-index: -1;}#sk-container-id-2 div.sk-parallel-item {display: flex;flex-direction: column;z-index: 1;position: relative;background-color: white;}#sk-container-id-2 div.sk-parallel-item:first-child::after {align-self: flex-end;width: 50%;}#sk-container-id-2 div.sk-parallel-item:last-child::after {align-self: flex-start;width: 50%;}#sk-container-id-2 div.sk-parallel-item:only-child::after {width: 0;}#sk-container-id-2 div.sk-dashed-wrapped {border: 1px dashed gray;margin: 0 0.4em 0.5em 0.4em;box-sizing: border-box;padding-bottom: 0.4em;background-color: white;}#sk-container-id-2 div.sk-label label {font-family: monospace;font-weight: bold;display: inline-block;line-height: 1.2em;}#sk-container-id-2 div.sk-label-container {text-align: center;}#sk-container-id-2 div.sk-container {/* jupyter's `normalize.less` sets `[hidden] { display: none; }` but bootstrap.min.css set `[hidden] { display: none !important; }` so we also need the `!important` here to be able to override the default hidden behavior on the sphinx rendered scikit-learn.org. See: https://github.com/scikit-learn/scikit-learn/issues/21755 */display: inline-block !important;position: relative;}#sk-container-id-2 div.sk-text-repr-fallback {display: none;}</style><div id=\"sk-container-id-2\" class=\"sk-top-container\"><div class=\"sk-text-repr-fallback\"><pre>RandomizedSearchCV(cv=StratifiedKFold(n_splits=5, random_state=10, shuffle=True),\n",
       "                   estimator=XGBClassifier(base_score=None, booster=None,\n",
       "                                           callbacks=None,\n",
       "                                           colsample_bylevel=None,\n",
       "                                           colsample_bynode=None,\n",
       "                                           colsample_bytree=None,\n",
       "                                           early_stopping_rounds=None,\n",
       "                                           enable_categorical=False,\n",
       "                                           eval_metric=None, feature_types=None,\n",
       "                                           gamma=None, gpu_id=0,\n",
       "                                           grow_policy=None,\n",
       "                                           importance_...\n",
       "                                           predictor=None, random_state=10, ...),\n",
       "                   n_iter=20, n_jobs=1,\n",
       "                   param_distributions={&#x27;gamma&#x27;: &lt;scipy.stats._distn_infrastructure.rv_continuous_frozen object at 0x7ff1e34c9690&gt;,\n",
       "                                        &#x27;max_depth&#x27;: &lt;scipy.stats._distn_infrastructure.rv_discrete_frozen object at 0x7ff1e34ca6d0&gt;,\n",
       "                                        &#x27;n_estimators&#x27;: &lt;scipy.stats._distn_infrastructure.rv_discrete_frozen object at 0x7ff1e34cad90&gt;},\n",
       "                   random_state=10, scoring=&#x27;f1&#x27;, verbose=4)</pre><b>In a Jupyter environment, please rerun this cell to show the HTML representation or trust the notebook. <br />On GitHub, the HTML representation is unable to render, please try loading this page with nbviewer.org.</b></div><div class=\"sk-container\" hidden><div class=\"sk-item sk-dashed-wrapped\"><div class=\"sk-label-container\"><div class=\"sk-label sk-toggleable\"><input class=\"sk-toggleable__control sk-hidden--visually\" id=\"sk-estimator-id-2\" type=\"checkbox\" ><label for=\"sk-estimator-id-2\" class=\"sk-toggleable__label sk-toggleable__label-arrow\">RandomizedSearchCV</label><div class=\"sk-toggleable__content\"><pre>RandomizedSearchCV(cv=StratifiedKFold(n_splits=5, random_state=10, shuffle=True),\n",
       "                   estimator=XGBClassifier(base_score=None, booster=None,\n",
       "                                           callbacks=None,\n",
       "                                           colsample_bylevel=None,\n",
       "                                           colsample_bynode=None,\n",
       "                                           colsample_bytree=None,\n",
       "                                           early_stopping_rounds=None,\n",
       "                                           enable_categorical=False,\n",
       "                                           eval_metric=None, feature_types=None,\n",
       "                                           gamma=None, gpu_id=0,\n",
       "                                           grow_policy=None,\n",
       "                                           importance_...\n",
       "                                           predictor=None, random_state=10, ...),\n",
       "                   n_iter=20, n_jobs=1,\n",
       "                   param_distributions={&#x27;gamma&#x27;: &lt;scipy.stats._distn_infrastructure.rv_continuous_frozen object at 0x7ff1e34c9690&gt;,\n",
       "                                        &#x27;max_depth&#x27;: &lt;scipy.stats._distn_infrastructure.rv_discrete_frozen object at 0x7ff1e34ca6d0&gt;,\n",
       "                                        &#x27;n_estimators&#x27;: &lt;scipy.stats._distn_infrastructure.rv_discrete_frozen object at 0x7ff1e34cad90&gt;},\n",
       "                   random_state=10, scoring=&#x27;f1&#x27;, verbose=4)</pre></div></div></div><div class=\"sk-parallel\"><div class=\"sk-parallel-item\"><div class=\"sk-item\"><div class=\"sk-label-container\"><div class=\"sk-label sk-toggleable\"><input class=\"sk-toggleable__control sk-hidden--visually\" id=\"sk-estimator-id-3\" type=\"checkbox\" ><label for=\"sk-estimator-id-3\" class=\"sk-toggleable__label sk-toggleable__label-arrow\">estimator: XGBClassifier</label><div class=\"sk-toggleable__content\"><pre>XGBClassifier(base_score=None, booster=None, callbacks=None,\n",
       "              colsample_bylevel=None, colsample_bynode=None,\n",
       "              colsample_bytree=None, early_stopping_rounds=None,\n",
       "              enable_categorical=False, eval_metric=None, feature_types=None,\n",
       "              gamma=None, gpu_id=0, grow_policy=None, importance_type=None,\n",
       "              interaction_constraints=None, learning_rate=None, max_bin=None,\n",
       "              max_cat_threshold=None, max_cat_to_onehot=None,\n",
       "              max_delta_step=None, max_depth=None, max_leaves=None,\n",
       "              min_child_weight=None, missing=nan, monotone_constraints=None,\n",
       "              n_estimators=100, n_jobs=None, num_parallel_tree=None,\n",
       "              predictor=None, random_state=10, ...)</pre></div></div></div><div class=\"sk-serial\"><div class=\"sk-item\"><div class=\"sk-estimator sk-toggleable\"><input class=\"sk-toggleable__control sk-hidden--visually\" id=\"sk-estimator-id-4\" type=\"checkbox\" ><label for=\"sk-estimator-id-4\" class=\"sk-toggleable__label sk-toggleable__label-arrow\">XGBClassifier</label><div class=\"sk-toggleable__content\"><pre>XGBClassifier(base_score=None, booster=None, callbacks=None,\n",
       "              colsample_bylevel=None, colsample_bynode=None,\n",
       "              colsample_bytree=None, early_stopping_rounds=None,\n",
       "              enable_categorical=False, eval_metric=None, feature_types=None,\n",
       "              gamma=None, gpu_id=0, grow_policy=None, importance_type=None,\n",
       "              interaction_constraints=None, learning_rate=None, max_bin=None,\n",
       "              max_cat_threshold=None, max_cat_to_onehot=None,\n",
       "              max_delta_step=None, max_depth=None, max_leaves=None,\n",
       "              min_child_weight=None, missing=nan, monotone_constraints=None,\n",
       "              n_estimators=100, n_jobs=None, num_parallel_tree=None,\n",
       "              predictor=None, random_state=10, ...)</pre></div></div></div></div></div></div></div></div></div></div>"
      ],
      "text/plain": [
       "RandomizedSearchCV(cv=StratifiedKFold(n_splits=5, random_state=10, shuffle=True),\n",
       "                   estimator=XGBClassifier(base_score=None, booster=None,\n",
       "                                           callbacks=None,\n",
       "                                           colsample_bylevel=None,\n",
       "                                           colsample_bynode=None,\n",
       "                                           colsample_bytree=None,\n",
       "                                           early_stopping_rounds=None,\n",
       "                                           enable_categorical=False,\n",
       "                                           eval_metric=None, feature_types=None,\n",
       "                                           gamma=None, gpu_id=0,\n",
       "                                           grow_policy=None,\n",
       "                                           importance_...\n",
       "                                           predictor=None, random_state=10, ...),\n",
       "                   n_iter=20, n_jobs=1,\n",
       "                   param_distributions={'gamma': <scipy.stats._distn_infrastructure.rv_continuous_frozen object at 0x7ff1e34c9690>,\n",
       "                                        'max_depth': <scipy.stats._distn_infrastructure.rv_discrete_frozen object at 0x7ff1e34ca6d0>,\n",
       "                                        'n_estimators': <scipy.stats._distn_infrastructure.rv_discrete_frozen object at 0x7ff1e34cad90>},\n",
       "                   random_state=10, scoring='f1', verbose=4)"
      ]
     },
     "execution_count": 20,
     "metadata": {},
     "output_type": "execute_result"
    }
   ],
   "source": [
    "# Execute search - fit the model\n",
    "search.fit(X_train, y_train)"
   ]
  },
  {
   "cell_type": "code",
   "execution_count": 21,
   "id": "8db162c7-22d1-4c1d-8539-95c741a8512f",
   "metadata": {
    "execution": {
     "iopub.execute_input": "2023-04-06T21:46:47.493018Z",
     "iopub.status.busy": "2023-04-06T21:46:47.492779Z",
     "iopub.status.idle": "2023-04-06T21:46:47.496981Z",
     "shell.execute_reply": "2023-04-06T21:46:47.496183Z",
     "shell.execute_reply.started": "2023-04-06T21:46:47.493003Z"
    },
    "tags": []
   },
   "outputs": [
    {
     "name": "stdout",
     "output_type": "stream",
     "text": [
      "Best Score: 0.6638721860833655\n",
      "Best Hyperparameters: {'gamma': 0.04689631938924976, 'max_depth': 5, 'n_estimators': 294}\n"
     ]
    }
   ],
   "source": [
    "# Summarize result\n",
    "print(f'Best Score: {search.best_score_}')\n",
    "print(f'Best Hyperparameters: {search.best_params_}')"
   ]
  },
  {
   "cell_type": "code",
   "execution_count": 22,
   "id": "341a5a85-597e-408c-bffe-5f4c7a2494ae",
   "metadata": {
    "execution": {
     "iopub.execute_input": "2023-04-06T21:46:59.815646Z",
     "iopub.status.busy": "2023-04-06T21:46:59.814591Z",
     "iopub.status.idle": "2023-04-06T21:47:00.056467Z",
     "shell.execute_reply": "2023-04-06T21:47:00.055454Z",
     "shell.execute_reply.started": "2023-04-06T21:46:59.815627Z"
    },
    "tags": []
   },
   "outputs": [
    {
     "name": "stdout",
     "output_type": "stream",
     "text": [
      "Training Data Score: 1.0\n",
      "Testing Data Score: 0.7198027937551355\n"
     ]
    }
   ],
   "source": [
    "# Compare training and testing scores\n",
    "print(f\"Training Data Score: {search.score(X_train, y_train)}\")\n",
    "print(f\"Testing Data Score: {search.score(X_test, y_test)}\")"
   ]
  },
  {
   "cell_type": "code",
   "execution_count": 23,
   "id": "03b16cbe-b396-483c-bdd8-00bc86e7581c",
   "metadata": {
    "execution": {
     "iopub.execute_input": "2023-04-06T21:47:09.021597Z",
     "iopub.status.busy": "2023-04-06T21:47:09.020665Z",
     "iopub.status.idle": "2023-04-06T21:47:09.113500Z",
     "shell.execute_reply": "2023-04-06T21:47:09.112154Z",
     "shell.execute_reply.started": "2023-04-06T21:47:09.021578Z"
    },
    "tags": []
   },
   "outputs": [
    {
     "name": "stdout",
     "output_type": "stream",
     "text": [
      "First 10 Predictions:   [0 1 0 0 0 0 1 0 0 0]\n",
      "First 10 Actual labels: [0 1 0 0 0 0 0 1 0 0]\n"
     ]
    }
   ],
   "source": [
    "# Prediction\n",
    "y_pred_ht = search.predict(X_test)\n",
    "print(f\"First 10 Predictions:   {y_pred_ht[:10]}\")\n",
    "print(f\"First 10 Actual labels: {np.array(y_test)[:10]}\")"
   ]
  },
  {
   "cell_type": "code",
   "execution_count": 24,
   "id": "9e5a5a61-0280-4a1d-9153-a21adde37ec9",
   "metadata": {
    "execution": {
     "iopub.execute_input": "2023-04-06T21:47:12.990394Z",
     "iopub.status.busy": "2023-04-06T21:47:12.990188Z",
     "iopub.status.idle": "2023-04-06T21:47:12.996817Z",
     "shell.execute_reply": "2023-04-06T21:47:12.995982Z",
     "shell.execute_reply.started": "2023-04-06T21:47:12.990380Z"
    },
    "tags": []
   },
   "outputs": [
    {
     "name": "stdout",
     "output_type": "stream",
     "text": [
      "[[1354  101]\n",
      " [ 240  438]]\n"
     ]
    }
   ],
   "source": [
    "cm = confusion_matrix(y_test, y_pred_ht)\n",
    "print(cm)"
   ]
  },
  {
   "cell_type": "code",
   "execution_count": 25,
   "id": "d11a4720-5249-4d65-a7ef-c242dfcf9869",
   "metadata": {
    "execution": {
     "iopub.execute_input": "2023-04-06T21:47:19.741354Z",
     "iopub.status.busy": "2023-04-06T21:47:19.741148Z",
     "iopub.status.idle": "2023-04-06T21:47:20.083905Z",
     "shell.execute_reply": "2023-04-06T21:47:20.083192Z",
     "shell.execute_reply.started": "2023-04-06T21:47:19.741340Z"
    },
    "tags": []
   },
   "outputs": [
    {
     "data": {
      "image/png": "[encoded data removed]",
      "text/plain": [
       "<Figure size 864x288 with 4 Axes>"
      ]
     },
     "metadata": {},
     "output_type": "display_data"
    }
   ],
   "source": [
    "# Plot confusion matrix and its normalized version.\n",
    "target_names = ['all', 'hem']\n",
    "mu.plot_cm_unnorm_and_norm('XGBoost Hyperparameters Tuning', y_test, y_pred_ht, target_names, 'Reds')"
   ]
  },
  {
   "cell_type": "code",
   "execution_count": 26,
   "id": "16fc85ab-1efb-49f3-9fb8-477d41805ecf",
   "metadata": {
    "execution": {
     "iopub.execute_input": "2023-04-06T21:48:05.255110Z",
     "iopub.status.busy": "2023-04-06T21:48:05.254867Z",
     "iopub.status.idle": "2023-04-06T21:48:05.267336Z",
     "shell.execute_reply": "2023-04-06T21:48:05.266538Z",
     "shell.execute_reply.started": "2023-04-06T21:48:05.255093Z"
    },
    "tags": []
   },
   "outputs": [
    {
     "name": "stdout",
     "output_type": "stream",
     "text": [
      "              precision    recall  f1-score   support\n",
      "\n",
      "         all       0.85      0.93      0.89      1455\n",
      "         hem       0.81      0.65      0.72       678\n",
      "\n",
      "    accuracy                           0.84      2133\n",
      "   macro avg       0.83      0.79      0.80      2133\n",
      "weighted avg       0.84      0.84      0.83      2133\n",
      "\n"
     ]
    }
   ],
   "source": [
    "print(classification_report(y_test, y_pred_ht, target_names=target_names))"
   ]
  },
  {
   "cell_type": "code",
   "execution_count": 31,
   "id": "205febae-e0bb-4928-8f12-fbacd4ca3994",
   "metadata": {
    "execution": {
     "iopub.execute_input": "2023-04-06T22:00:52.522621Z",
     "iopub.status.busy": "2023-04-06T22:00:52.522416Z",
     "iopub.status.idle": "2023-04-06T22:00:52.526638Z",
     "shell.execute_reply": "2023-04-06T22:00:52.525828Z",
     "shell.execute_reply.started": "2023-04-06T22:00:52.522606Z"
    },
    "tags": []
   },
   "outputs": [],
   "source": [
    "pred_d = {'XGBoost (Defaults' : y_pred,\n",
    "            'XGBoost Best Score' : y_pred_ht\n",
    "    \n",
    "}"
   ]
  },
  {
   "cell_type": "code",
   "execution_count": 32,
   "id": "8f9f6562-028e-4c64-bd24-30bafff6fbe0",
   "metadata": {
    "execution": {
     "iopub.execute_input": "2023-04-06T22:01:16.102921Z",
     "iopub.status.busy": "2023-04-06T22:01:16.102723Z",
     "iopub.status.idle": "2023-04-06T22:01:16.322582Z",
     "shell.execute_reply": "2023-04-06T22:01:16.321823Z",
     "shell.execute_reply.started": "2023-04-06T22:01:16.102907Z"
    }
   },
   "outputs": [
    {
     "data": {
      "image/png": "[encoded data removed]",
      "text/plain": [
       "<Figure size 720x288 with 2 Axes>"
      ]
     },
     "metadata": {},
     "output_type": "display_data"
    }
   ],
   "source": [
    "# Plot all confusion matrices \n",
    "mu.plot_conf_matrices(pred_d, y_test, target_names, 'Reds')"
   ]
  },
  {
   "cell_type": "code",
   "execution_count": null,
   "id": "3af0a6eb-c721-4154-8110-c00b67b8439c",
   "metadata": {},
   "outputs": [],
   "source": []
  }
 ],
 "metadata": {
  "kernelspec": {
   "display_name": "omdena",
   "language": "python",
   "name": "conda-env-omdena-py"
  },
  "language_info": {
   "codemirror_mode": {
    "name": "ipython",
    "version": 3
   },
   "file_extension": ".py",
   "mimetype": "text/x-python",
   "name": "python",
   "nbconvert_exporter": "python",
   "pygments_lexer": "ipython3",
   "version": "3.11.2"
  },
  "widgets": {
   "application/vnd.jupyter.widget-state+json": {
    "state": {},
    "version_major": 2,
    "version_minor": 0
   }
  }
 },
 "nbformat": 4,
 "nbformat_minor": 5
}
