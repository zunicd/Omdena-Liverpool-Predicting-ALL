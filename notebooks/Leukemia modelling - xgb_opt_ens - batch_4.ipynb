{
 "cells": [
  {
   "cell_type": "markdown",
   "id": "a6996cf1-5b97-45b2-920a-112afc130631",
   "metadata": {
    "id": "a6996cf1-5b97-45b2-920a-112afc130631"
   },
   "source": [
    "# Classifying ALL with Stacking Classifier"
   ]
  },
  {
   "cell_type": "markdown",
   "id": "518581d5-e09c-4b57-8d1c-e99cec264c27",
   "metadata": {},
   "source": [
    "This notebook covers Stacking Classifier, with XGBoost as a meta classifier and the following base estimators:\n",
    "\n",
    "- K-nearest neighbors\n",
    "- SVM\n",
    "- Random Forest\n",
    "- Logistic Regression\n",
    "- Gaussian Naive Bayes\n",
    "- Multi-layer Perceptron\n",
    "- Extra Trees\n",
    "\n",
    "The performed steps:\n",
    "\n",
    "1. Each base estimator was optimized with Optuna to find the best hyperparameters \n",
    "2. Two worst performers, K-nearest neighbors and Gaussian Naïve Bayes, were dropped\n",
    "3. Stacking classifier was ran using remaining tuned estimators and XGBoost with default parameters. The performance was recorded.\n",
    "4. Optuna was used to optimize the stacking classifier. Optuna's parameter space included the final estimator (XGBoost) parameters.\n",
    "\n",
    "We used macro averaged f1_score as the metrics to find the best Optuna's trial."
   ]
  },
  {
   "cell_type": "markdown",
   "id": "pt4z3VI00jSo",
   "metadata": {
    "id": "pt4z3VI00jSo"
   },
   "source": [
    "## Mount Google Drive"
   ]
  },
  {
   "cell_type": "code",
   "execution_count": 2,
   "id": "OLp6pIsd04M5",
   "metadata": {
    "colab": {
     "base_uri": "https://localhost:8080/"
    },
    "execution": {
     "iopub.execute_input": "2023-04-29T03:10:29.852364Z",
     "iopub.status.busy": "2023-04-29T03:10:29.852007Z",
     "iopub.status.idle": "2023-04-29T03:10:29.855252Z",
     "shell.execute_reply": "2023-04-29T03:10:29.854437Z",
     "shell.execute_reply.started": "2023-04-29T03:10:29.852346Z"
    },
    "executionInfo": {
     "elapsed": 32104,
     "status": "ok",
     "timestamp": 1682697476050,
     "user": {
      "displayName": "Damir Zunic",
      "userId": "07104666280721646256"
     },
     "user_tz": 240
    },
    "id": "OLp6pIsd04M5",
    "outputId": "f18b1352-3615-4cb0-f874-601456ff1a86"
   },
   "outputs": [],
   "source": [
    "# from google.colab import drive\n",
    "# drive.mount('/content/drive')"
   ]
  },
  {
   "cell_type": "code",
   "execution_count": 3,
   "id": "3DzbgVwr2vlb",
   "metadata": {
    "colab": {
     "base_uri": "https://localhost:8080/"
    },
    "execution": {
     "iopub.execute_input": "2023-04-29T03:10:29.856652Z",
     "iopub.status.busy": "2023-04-29T03:10:29.856375Z",
     "iopub.status.idle": "2023-04-29T03:10:29.871259Z",
     "shell.execute_reply": "2023-04-29T03:10:29.870474Z",
     "shell.execute_reply.started": "2023-04-29T03:10:29.856638Z"
    },
    "executionInfo": {
     "elapsed": 7087,
     "status": "ok",
     "timestamp": 1682697483123,
     "user": {
      "displayName": "Damir Zunic",
      "userId": "07104666280721646256"
     },
     "user_tz": 240
    },
    "id": "3DzbgVwr2vlb",
    "outputId": "f754c7d1-a27d-463f-bccf-4f5695d36c96"
   },
   "outputs": [],
   "source": [
    "# !pip install optuna"
   ]
  },
  {
   "cell_type": "markdown",
   "id": "efde2851-d71b-42bd-b4a6-b2afe8543bc3",
   "metadata": {
    "id": "efde2851-d71b-42bd-b4a6-b2afe8543bc3"
   },
   "source": [
    "## Dependencies"
   ]
  },
  {
   "cell_type": "code",
   "execution_count": 4,
   "id": "108c50d5-7568-4d90-9ba8-daa6f72f49c9",
   "metadata": {
    "execution": {
     "iopub.execute_input": "2023-04-29T03:10:29.872469Z",
     "iopub.status.busy": "2023-04-29T03:10:29.872285Z",
     "iopub.status.idle": "2023-04-29T03:10:32.188224Z",
     "shell.execute_reply": "2023-04-29T03:10:32.187532Z",
     "shell.execute_reply.started": "2023-04-29T03:10:29.872454Z"
    },
    "executionInfo": {
     "elapsed": 2117,
     "status": "ok",
     "timestamp": 1682697485228,
     "user": {
      "displayName": "Damir Zunic",
      "userId": "07104666280721646256"
     },
     "user_tz": 240
    },
    "id": "108c50d5-7568-4d90-9ba8-daa6f72f49c9"
   },
   "outputs": [],
   "source": [
    "import os\n",
    "import numpy as np\n",
    "import matplotlib.pyplot as plt\n",
    "import pandas as pd\n",
    "import seaborn as sns\n",
    "\n",
    "import joblib\n",
    "\n",
    "from sklearn.decomposition import PCA\n",
    "from sklearn.pipeline import Pipeline, make_pipeline\n",
    "from sklearn.preprocessing import MinMaxScaler\n",
    "from sklearn.svm import SVC\n",
    "from sklearn.ensemble import RandomForestClassifier, ExtraTreesClassifier\n",
    "from sklearn.linear_model import LogisticRegression\n",
    "from sklearn.ensemble import StackingClassifier\n",
    "from sklearn.svm import LinearSVC\n",
    "from sklearn.neural_network import MLPClassifier\n",
    "from sklearn.neighbors import KNeighborsClassifier\n",
    "from sklearn.naive_bayes import GaussianNB\n",
    "from sklearn.neural_network import MLPClassifier\n",
    "\n",
    "# from sklearn.model_selection import GridSearchCV, StratifiedKFold\n",
    "from sklearn.model_selection import RandomizedSearchCV, cross_val_score\n",
    "from sklearn.model_selection import RepeatedStratifiedKFold\n",
    "\n",
    "## from sklearn.utils.fixes import loguniform\n",
    "from scipy.stats import uniform, truncnorm, randint, loguniform\n",
    "\n",
    "# Classification metrics\n",
    "from sklearn.metrics import confusion_matrix, classification_report, accuracy_score\n",
    "from sklearn.metrics import f1_score, recall_score\n",
    "from sklearn.metrics import roc_curve, roc_auc_score\n",
    "\n",
    "from sklearn.feature_selection import SelectKBest, f_classif\n",
    "from sklearn.pipeline import Pipeline\n",
    "\n",
    "# Function for creating model pipelines - imblearn\n",
    "## from imblearn.pipeline import make_pipeline as imbl_pipe\n",
    "\n",
    "# Over-sampling using SMOTE\n",
    "## from imblearn.over_sampling import SMOTE\n",
    "\n",
    "# Import XGBoost\n",
    "from xgboost import XGBClassifier\n",
    "\n",
    "# Import Optuna\n",
    "import optuna\n",
    "from optuna.samplers import TPESampler\n",
    "from optuna.integration import XGBoostPruningCallback\n",
    "\n",
    "\n",
    "import warnings\n",
    "warnings.filterwarnings('ignore')\n",
    "\n",
    "random_state = 10"
   ]
  },
  {
   "cell_type": "code",
   "execution_count": 5,
   "id": "f149ee94-8f14-4edc-817a-b7e15624acce",
   "metadata": {
    "execution": {
     "iopub.execute_input": "2023-04-29T03:10:32.189518Z",
     "iopub.status.busy": "2023-04-29T03:10:32.189075Z",
     "iopub.status.idle": "2023-04-29T03:10:32.222256Z",
     "shell.execute_reply": "2023-04-29T03:10:32.221584Z",
     "shell.execute_reply.started": "2023-04-29T03:10:32.189461Z"
    },
    "executionInfo": {
     "elapsed": 1332,
     "status": "ok",
     "timestamp": 1682697486552,
     "user": {
      "displayName": "Damir Zunic",
      "userId": "07104666280721646256"
     },
     "user_tz": 240
    },
    "id": "f149ee94-8f14-4edc-817a-b7e15624acce"
   },
   "outputs": [],
   "source": [
    "# Import the script from different folder\n",
    "import sys  \n",
    "#  sys.path.append('/content/drive/MyDrive/Omdena/Team1/scripts')\n",
    "sys.path.append('../scripts')\n",
    "\n",
    "import metrics_utilities as mu"
   ]
  },
  {
   "cell_type": "markdown",
   "id": "f6972b56-7460-4ebf-a232-6ec4e31cfd52",
   "metadata": {
    "id": "f6972b56-7460-4ebf-a232-6ec4e31cfd52"
   },
   "source": [
    "## Batch_4 Train Dataset"
   ]
  },
  {
   "cell_type": "code",
   "execution_count": 6,
   "id": "50680de8-19f1-4259-abfe-02e956eeafae",
   "metadata": {
    "colab": {
     "base_uri": "https://localhost:8080/",
     "height": 236
    },
    "execution": {
     "iopub.execute_input": "2023-04-29T03:10:32.223531Z",
     "iopub.status.busy": "2023-04-29T03:10:32.223342Z",
     "iopub.status.idle": "2023-04-29T03:10:32.921484Z",
     "shell.execute_reply": "2023-04-29T03:10:32.920743Z",
     "shell.execute_reply.started": "2023-04-29T03:10:32.223502Z"
    },
    "executionInfo": {
     "elapsed": 3868,
     "status": "ok",
     "timestamp": 1682697490408,
     "user": {
      "displayName": "Damir Zunic",
      "userId": "07104666280721646256"
     },
     "user_tz": 240
    },
    "id": "50680de8-19f1-4259-abfe-02e956eeafae",
    "outputId": "f8a74a3c-69aa-4e31-9460-dde0b0a8fecc"
   },
   "outputs": [
    {
     "data": {
      "text/html": [
       "<div>\n",
       "<style scoped>\n",
       "    .dataframe tbody tr th:only-of-type {\n",
       "        vertical-align: middle;\n",
       "    }\n",
       "\n",
       "    .dataframe tbody tr th {\n",
       "        vertical-align: top;\n",
       "    }\n",
       "\n",
       "    .dataframe thead th {\n",
       "        text-align: right;\n",
       "    }\n",
       "</style>\n",
       "<table border=\"1\" class=\"dataframe\">\n",
       "  <thead>\n",
       "    <tr style=\"text-align: right;\">\n",
       "      <th></th>\n",
       "      <th>0</th>\n",
       "      <th>1</th>\n",
       "      <th>2</th>\n",
       "      <th>3</th>\n",
       "      <th>4</th>\n",
       "      <th>5</th>\n",
       "      <th>6</th>\n",
       "      <th>7</th>\n",
       "      <th>8</th>\n",
       "      <th>9</th>\n",
       "      <th>...</th>\n",
       "      <th>4599</th>\n",
       "      <th>4600</th>\n",
       "      <th>4601</th>\n",
       "      <th>4602</th>\n",
       "      <th>4603</th>\n",
       "      <th>4604</th>\n",
       "      <th>4605</th>\n",
       "      <th>4606</th>\n",
       "      <th>4607</th>\n",
       "      <th>label</th>\n",
       "    </tr>\n",
       "  </thead>\n",
       "  <tbody>\n",
       "    <tr>\n",
       "      <th>0</th>\n",
       "      <td>0.185833</td>\n",
       "      <td>0.0</td>\n",
       "      <td>0.00000</td>\n",
       "      <td>0.000000</td>\n",
       "      <td>0.0</td>\n",
       "      <td>0.0</td>\n",
       "      <td>0.0</td>\n",
       "      <td>0.231458</td>\n",
       "      <td>0.0</td>\n",
       "      <td>0.0</td>\n",
       "      <td>...</td>\n",
       "      <td>0.545079</td>\n",
       "      <td>0.170755</td>\n",
       "      <td>0.0</td>\n",
       "      <td>0.096298</td>\n",
       "      <td>0.174819</td>\n",
       "      <td>0.0</td>\n",
       "      <td>0.0</td>\n",
       "      <td>0.361853</td>\n",
       "      <td>0.0</td>\n",
       "      <td>0</td>\n",
       "    </tr>\n",
       "    <tr>\n",
       "      <th>1</th>\n",
       "      <td>0.123157</td>\n",
       "      <td>0.0</td>\n",
       "      <td>0.56544</td>\n",
       "      <td>0.350086</td>\n",
       "      <td>0.0</td>\n",
       "      <td>0.0</td>\n",
       "      <td>0.0</td>\n",
       "      <td>0.228849</td>\n",
       "      <td>0.0</td>\n",
       "      <td>0.0</td>\n",
       "      <td>...</td>\n",
       "      <td>0.663390</td>\n",
       "      <td>0.115025</td>\n",
       "      <td>0.0</td>\n",
       "      <td>0.099379</td>\n",
       "      <td>0.516193</td>\n",
       "      <td>0.0</td>\n",
       "      <td>0.0</td>\n",
       "      <td>0.239392</td>\n",
       "      <td>0.0</td>\n",
       "      <td>1</td>\n",
       "    </tr>\n",
       "    <tr>\n",
       "      <th>2</th>\n",
       "      <td>0.197977</td>\n",
       "      <td>0.0</td>\n",
       "      <td>0.00000</td>\n",
       "      <td>0.000000</td>\n",
       "      <td>0.0</td>\n",
       "      <td>0.0</td>\n",
       "      <td>0.0</td>\n",
       "      <td>0.155163</td>\n",
       "      <td>0.0</td>\n",
       "      <td>0.0</td>\n",
       "      <td>...</td>\n",
       "      <td>0.663023</td>\n",
       "      <td>0.021846</td>\n",
       "      <td>0.0</td>\n",
       "      <td>0.000000</td>\n",
       "      <td>0.173690</td>\n",
       "      <td>0.0</td>\n",
       "      <td>0.0</td>\n",
       "      <td>0.270634</td>\n",
       "      <td>0.0</td>\n",
       "      <td>1</td>\n",
       "    </tr>\n",
       "    <tr>\n",
       "      <th>3</th>\n",
       "      <td>0.580151</td>\n",
       "      <td>0.0</td>\n",
       "      <td>0.00000</td>\n",
       "      <td>0.000000</td>\n",
       "      <td>0.0</td>\n",
       "      <td>0.0</td>\n",
       "      <td>0.0</td>\n",
       "      <td>0.298566</td>\n",
       "      <td>0.0</td>\n",
       "      <td>0.0</td>\n",
       "      <td>...</td>\n",
       "      <td>0.470815</td>\n",
       "      <td>0.000000</td>\n",
       "      <td>0.0</td>\n",
       "      <td>0.000000</td>\n",
       "      <td>0.118325</td>\n",
       "      <td>0.0</td>\n",
       "      <td>0.0</td>\n",
       "      <td>0.000000</td>\n",
       "      <td>0.0</td>\n",
       "      <td>0</td>\n",
       "    </tr>\n",
       "    <tr>\n",
       "      <th>4</th>\n",
       "      <td>0.066450</td>\n",
       "      <td>0.0</td>\n",
       "      <td>0.00000</td>\n",
       "      <td>0.000000</td>\n",
       "      <td>0.0</td>\n",
       "      <td>0.0</td>\n",
       "      <td>0.0</td>\n",
       "      <td>0.145156</td>\n",
       "      <td>0.0</td>\n",
       "      <td>0.0</td>\n",
       "      <td>...</td>\n",
       "      <td>0.645798</td>\n",
       "      <td>0.015262</td>\n",
       "      <td>0.0</td>\n",
       "      <td>0.027536</td>\n",
       "      <td>0.275665</td>\n",
       "      <td>0.0</td>\n",
       "      <td>0.0</td>\n",
       "      <td>0.000000</td>\n",
       "      <td>0.0</td>\n",
       "      <td>0</td>\n",
       "    </tr>\n",
       "  </tbody>\n",
       "</table>\n",
       "<p>5 rows × 4609 columns</p>\n",
       "</div>"
      ],
      "text/plain": [
       "          0    1        2         3    4    5    6         7    8    9  ...  \\\n",
       "0  0.185833  0.0  0.00000  0.000000  0.0  0.0  0.0  0.231458  0.0  0.0  ...   \n",
       "1  0.123157  0.0  0.56544  0.350086  0.0  0.0  0.0  0.228849  0.0  0.0  ...   \n",
       "2  0.197977  0.0  0.00000  0.000000  0.0  0.0  0.0  0.155163  0.0  0.0  ...   \n",
       "3  0.580151  0.0  0.00000  0.000000  0.0  0.0  0.0  0.298566  0.0  0.0  ...   \n",
       "4  0.066450  0.0  0.00000  0.000000  0.0  0.0  0.0  0.145156  0.0  0.0  ...   \n",
       "\n",
       "       4599      4600  4601      4602      4603  4604  4605      4606  4607  \\\n",
       "0  0.545079  0.170755   0.0  0.096298  0.174819   0.0   0.0  0.361853   0.0   \n",
       "1  0.663390  0.115025   0.0  0.099379  0.516193   0.0   0.0  0.239392   0.0   \n",
       "2  0.663023  0.021846   0.0  0.000000  0.173690   0.0   0.0  0.270634   0.0   \n",
       "3  0.470815  0.000000   0.0  0.000000  0.118325   0.0   0.0  0.000000   0.0   \n",
       "4  0.645798  0.015262   0.0  0.027536  0.275665   0.0   0.0  0.000000   0.0   \n",
       "\n",
       "   label  \n",
       "0      0  \n",
       "1      1  \n",
       "2      1  \n",
       "3      0  \n",
       "4      0  \n",
       "\n",
       "[5 rows x 4609 columns]"
      ]
     },
     "execution_count": 6,
     "metadata": {},
     "output_type": "execute_result"
    }
   ],
   "source": [
    "# df_train = pd.read_pickle('/content/drive/MyDrive/Omdena/Team1/batch_4/train_data.pickle')\n",
    "df_train = pd.read_pickle('../data/batch_4/train_data.pickle')\n",
    "df_train.head()"
   ]
  },
  {
   "cell_type": "markdown",
   "id": "bc265c31-9615-4d03-84ea-f6e9b6d859a0",
   "metadata": {
    "id": "bc265c31-9615-4d03-84ea-f6e9b6d859a0"
   },
   "source": [
    "#### Separate features and labels"
   ]
  },
  {
   "cell_type": "code",
   "execution_count": 7,
   "id": "53917c6d-17a1-408a-abff-ba0b00fbad17",
   "metadata": {
    "colab": {
     "base_uri": "https://localhost:8080/"
    },
    "execution": {
     "iopub.execute_input": "2023-04-29T03:10:32.922350Z",
     "iopub.status.busy": "2023-04-29T03:10:32.922159Z",
     "iopub.status.idle": "2023-04-29T03:10:32.997042Z",
     "shell.execute_reply": "2023-04-29T03:10:32.996294Z",
     "shell.execute_reply.started": "2023-04-29T03:10:32.922334Z"
    },
    "executionInfo": {
     "elapsed": 21,
     "status": "ok",
     "timestamp": 1682697490649,
     "user": {
      "displayName": "Damir Zunic",
      "userId": "07104666280721646256"
     },
     "user_tz": 240
    },
    "id": "53917c6d-17a1-408a-abff-ba0b00fbad17",
    "outputId": "02500c1d-7cff-405e-b88a-61a97267da94"
   },
   "outputs": [
    {
     "name": "stdout",
     "output_type": "stream",
     "text": [
      "(11917, 4608) (11917,)\n"
     ]
    }
   ],
   "source": [
    "X_train = df_train.iloc[:, : -1]\n",
    "y_train = df_train['label']\n",
    "print(X_train.shape, y_train.shape)"
   ]
  },
  {
   "cell_type": "markdown",
   "id": "7f337a50-6390-4684-8d06-8f090e7f81db",
   "metadata": {
    "id": "7f337a50-6390-4684-8d06-8f090e7f81db"
   },
   "source": [
    "## Batch_4 Test Dataset"
   ]
  },
  {
   "cell_type": "code",
   "execution_count": 8,
   "id": "8b23c3a0-0681-45ad-9b33-6a3bd69473bb",
   "metadata": {
    "colab": {
     "base_uri": "https://localhost:8080/",
     "height": 236
    },
    "execution": {
     "iopub.execute_input": "2023-04-29T03:10:32.997841Z",
     "iopub.status.busy": "2023-04-29T03:10:32.997664Z",
     "iopub.status.idle": "2023-04-29T03:10:33.160003Z",
     "shell.execute_reply": "2023-04-29T03:10:33.159252Z",
     "shell.execute_reply.started": "2023-04-29T03:10:32.997826Z"
    },
    "executionInfo": {
     "elapsed": 1269,
     "status": "ok",
     "timestamp": 1682697491904,
     "user": {
      "displayName": "Damir Zunic",
      "userId": "07104666280721646256"
     },
     "user_tz": 240
    },
    "id": "8b23c3a0-0681-45ad-9b33-6a3bd69473bb",
    "outputId": "e24e0231-be1c-4243-f3f6-47f5565acafb"
   },
   "outputs": [
    {
     "data": {
      "text/html": [
       "<div>\n",
       "<style scoped>\n",
       "    .dataframe tbody tr th:only-of-type {\n",
       "        vertical-align: middle;\n",
       "    }\n",
       "\n",
       "    .dataframe tbody tr th {\n",
       "        vertical-align: top;\n",
       "    }\n",
       "\n",
       "    .dataframe thead th {\n",
       "        text-align: right;\n",
       "    }\n",
       "</style>\n",
       "<table border=\"1\" class=\"dataframe\">\n",
       "  <thead>\n",
       "    <tr style=\"text-align: right;\">\n",
       "      <th></th>\n",
       "      <th>0</th>\n",
       "      <th>1</th>\n",
       "      <th>2</th>\n",
       "      <th>3</th>\n",
       "      <th>4</th>\n",
       "      <th>5</th>\n",
       "      <th>6</th>\n",
       "      <th>7</th>\n",
       "      <th>8</th>\n",
       "      <th>9</th>\n",
       "      <th>...</th>\n",
       "      <th>4599</th>\n",
       "      <th>4600</th>\n",
       "      <th>4601</th>\n",
       "      <th>4602</th>\n",
       "      <th>4603</th>\n",
       "      <th>4604</th>\n",
       "      <th>4605</th>\n",
       "      <th>4606</th>\n",
       "      <th>4607</th>\n",
       "      <th>label</th>\n",
       "    </tr>\n",
       "  </thead>\n",
       "  <tbody>\n",
       "    <tr>\n",
       "      <th>0</th>\n",
       "      <td>0.141500</td>\n",
       "      <td>0.0</td>\n",
       "      <td>0.000000</td>\n",
       "      <td>0.000000</td>\n",
       "      <td>0.0</td>\n",
       "      <td>0.0</td>\n",
       "      <td>0.0</td>\n",
       "      <td>0.151137</td>\n",
       "      <td>0.0</td>\n",
       "      <td>0.0</td>\n",
       "      <td>...</td>\n",
       "      <td>0.885778</td>\n",
       "      <td>0.066009</td>\n",
       "      <td>0.0</td>\n",
       "      <td>0.169458</td>\n",
       "      <td>0.570154</td>\n",
       "      <td>0.0</td>\n",
       "      <td>0.0</td>\n",
       "      <td>0.090579</td>\n",
       "      <td>0.0</td>\n",
       "      <td>0</td>\n",
       "    </tr>\n",
       "    <tr>\n",
       "      <th>1</th>\n",
       "      <td>0.047403</td>\n",
       "      <td>0.0</td>\n",
       "      <td>0.000000</td>\n",
       "      <td>0.000000</td>\n",
       "      <td>0.0</td>\n",
       "      <td>0.0</td>\n",
       "      <td>0.0</td>\n",
       "      <td>0.000000</td>\n",
       "      <td>0.0</td>\n",
       "      <td>0.0</td>\n",
       "      <td>...</td>\n",
       "      <td>0.649062</td>\n",
       "      <td>0.260996</td>\n",
       "      <td>0.0</td>\n",
       "      <td>0.049776</td>\n",
       "      <td>0.494771</td>\n",
       "      <td>0.0</td>\n",
       "      <td>0.0</td>\n",
       "      <td>0.480568</td>\n",
       "      <td>0.0</td>\n",
       "      <td>0</td>\n",
       "    </tr>\n",
       "    <tr>\n",
       "      <th>2</th>\n",
       "      <td>0.000000</td>\n",
       "      <td>0.0</td>\n",
       "      <td>0.000000</td>\n",
       "      <td>0.023559</td>\n",
       "      <td>0.0</td>\n",
       "      <td>0.0</td>\n",
       "      <td>0.0</td>\n",
       "      <td>0.060329</td>\n",
       "      <td>0.0</td>\n",
       "      <td>0.0</td>\n",
       "      <td>...</td>\n",
       "      <td>0.725523</td>\n",
       "      <td>0.166289</td>\n",
       "      <td>0.0</td>\n",
       "      <td>0.131945</td>\n",
       "      <td>0.299330</td>\n",
       "      <td>0.0</td>\n",
       "      <td>0.0</td>\n",
       "      <td>0.000000</td>\n",
       "      <td>0.0</td>\n",
       "      <td>0</td>\n",
       "    </tr>\n",
       "    <tr>\n",
       "      <th>3</th>\n",
       "      <td>0.002286</td>\n",
       "      <td>0.0</td>\n",
       "      <td>0.655825</td>\n",
       "      <td>0.259398</td>\n",
       "      <td>0.0</td>\n",
       "      <td>0.0</td>\n",
       "      <td>0.0</td>\n",
       "      <td>0.000000</td>\n",
       "      <td>0.0</td>\n",
       "      <td>0.0</td>\n",
       "      <td>...</td>\n",
       "      <td>0.626934</td>\n",
       "      <td>0.244303</td>\n",
       "      <td>0.0</td>\n",
       "      <td>0.100791</td>\n",
       "      <td>0.448022</td>\n",
       "      <td>0.0</td>\n",
       "      <td>0.0</td>\n",
       "      <td>0.295682</td>\n",
       "      <td>0.0</td>\n",
       "      <td>0</td>\n",
       "    </tr>\n",
       "    <tr>\n",
       "      <th>4</th>\n",
       "      <td>0.279953</td>\n",
       "      <td>0.0</td>\n",
       "      <td>0.000000</td>\n",
       "      <td>0.000000</td>\n",
       "      <td>0.0</td>\n",
       "      <td>0.0</td>\n",
       "      <td>0.0</td>\n",
       "      <td>0.168589</td>\n",
       "      <td>0.0</td>\n",
       "      <td>0.0</td>\n",
       "      <td>...</td>\n",
       "      <td>0.489483</td>\n",
       "      <td>0.166786</td>\n",
       "      <td>0.0</td>\n",
       "      <td>0.000000</td>\n",
       "      <td>0.212874</td>\n",
       "      <td>0.0</td>\n",
       "      <td>0.0</td>\n",
       "      <td>0.000000</td>\n",
       "      <td>0.0</td>\n",
       "      <td>0</td>\n",
       "    </tr>\n",
       "  </tbody>\n",
       "</table>\n",
       "<p>5 rows × 4609 columns</p>\n",
       "</div>"
      ],
      "text/plain": [
       "          0    1         2         3    4    5    6         7    8    9  ...  \\\n",
       "0  0.141500  0.0  0.000000  0.000000  0.0  0.0  0.0  0.151137  0.0  0.0  ...   \n",
       "1  0.047403  0.0  0.000000  0.000000  0.0  0.0  0.0  0.000000  0.0  0.0  ...   \n",
       "2  0.000000  0.0  0.000000  0.023559  0.0  0.0  0.0  0.060329  0.0  0.0  ...   \n",
       "3  0.002286  0.0  0.655825  0.259398  0.0  0.0  0.0  0.000000  0.0  0.0  ...   \n",
       "4  0.279953  0.0  0.000000  0.000000  0.0  0.0  0.0  0.168589  0.0  0.0  ...   \n",
       "\n",
       "       4599      4600  4601      4602      4603  4604  4605      4606  4607  \\\n",
       "0  0.885778  0.066009   0.0  0.169458  0.570154   0.0   0.0  0.090579   0.0   \n",
       "1  0.649062  0.260996   0.0  0.049776  0.494771   0.0   0.0  0.480568   0.0   \n",
       "2  0.725523  0.166289   0.0  0.131945  0.299330   0.0   0.0  0.000000   0.0   \n",
       "3  0.626934  0.244303   0.0  0.100791  0.448022   0.0   0.0  0.295682   0.0   \n",
       "4  0.489483  0.166786   0.0  0.000000  0.212874   0.0   0.0  0.000000   0.0   \n",
       "\n",
       "   label  \n",
       "0      0  \n",
       "1      0  \n",
       "2      0  \n",
       "3      0  \n",
       "4      0  \n",
       "\n",
       "[5 rows x 4609 columns]"
      ]
     },
     "execution_count": 8,
     "metadata": {},
     "output_type": "execute_result"
    }
   ],
   "source": [
    "# df_test = pd.read_pickle('/content/drive/MyDrive/Omdena/Team1/batch_4/test_data.pickle')\n",
    "df_test = pd.read_pickle('../data/batch_4/test_data.pickle')\n",
    "df_test.head()"
   ]
  },
  {
   "cell_type": "markdown",
   "id": "39703559-09fd-4ca8-8501-9970aff7131b",
   "metadata": {
    "id": "39703559-09fd-4ca8-8501-9970aff7131b"
   },
   "source": [
    "#### Separate features and labels"
   ]
  },
  {
   "cell_type": "code",
   "execution_count": 9,
   "id": "0745e5f6-83ce-49d1-af0d-d3210357fc73",
   "metadata": {
    "colab": {
     "base_uri": "https://localhost:8080/"
    },
    "execution": {
     "iopub.execute_input": "2023-04-29T03:10:33.160903Z",
     "iopub.status.busy": "2023-04-29T03:10:33.160724Z",
     "iopub.status.idle": "2023-04-29T03:10:33.176606Z",
     "shell.execute_reply": "2023-04-29T03:10:33.175931Z",
     "shell.execute_reply.started": "2023-04-29T03:10:33.160888Z"
    },
    "executionInfo": {
     "elapsed": 12,
     "status": "ok",
     "timestamp": 1682697491904,
     "user": {
      "displayName": "Damir Zunic",
      "userId": "07104666280721646256"
     },
     "user_tz": 240
    },
    "id": "0745e5f6-83ce-49d1-af0d-d3210357fc73",
    "outputId": "4526085c-13c1-4532-bbb1-18e947a1a9bb"
   },
   "outputs": [
    {
     "name": "stdout",
     "output_type": "stream",
     "text": [
      "(1794, 4608) (1794,)\n"
     ]
    }
   ],
   "source": [
    "X_test = df_test.iloc[:, :-1]\n",
    "y_test = df_test['label']\n",
    "print(X_test.shape, y_test.shape)"
   ]
  },
  {
   "cell_type": "markdown",
   "id": "e3044c63-cce9-40da-abf8-b113175a2c37",
   "metadata": {
    "id": "e3044c63-cce9-40da-abf8-b113175a2c37"
   },
   "source": [
    "#### Names of Classes"
   ]
  },
  {
   "cell_type": "code",
   "execution_count": 10,
   "id": "f824c0a4-22d4-4894-859c-0d3618e7d889",
   "metadata": {
    "execution": {
     "iopub.execute_input": "2023-04-29T03:10:33.177545Z",
     "iopub.status.busy": "2023-04-29T03:10:33.177366Z",
     "iopub.status.idle": "2023-04-29T03:10:33.186914Z",
     "shell.execute_reply": "2023-04-29T03:10:33.186217Z",
     "shell.execute_reply.started": "2023-04-29T03:10:33.177531Z"
    },
    "executionInfo": {
     "elapsed": 12,
     "status": "ok",
     "timestamp": 1682697491905,
     "user": {
      "displayName": "Damir Zunic",
      "userId": "07104666280721646256"
     },
     "user_tz": 240
    },
    "id": "f824c0a4-22d4-4894-859c-0d3618e7d889",
    "tags": []
   },
   "outputs": [],
   "source": [
    "target_names = ['hem', 'all']"
   ]
  },
  {
   "cell_type": "markdown",
   "id": "SHK93589kXTU",
   "metadata": {
    "id": "SHK93589kXTU"
   },
   "source": [
    "# Tune base estimators"
   ]
  },
  {
   "cell_type": "markdown",
   "id": "9B8jYwPMkXEv",
   "metadata": {
    "id": "9B8jYwPMkXEv"
   },
   "source": [
    "## ================================================="
   ]
  },
  {
   "cell_type": "markdown",
   "id": "5FvTZNZalG8N",
   "metadata": {
    "id": "5FvTZNZalG8N"
   },
   "source": [
    "# SVM - Optuna"
   ]
  },
  {
   "cell_type": "markdown",
   "id": "RkQ_-axnlG8O",
   "metadata": {
    "id": "RkQ_-axnlG8O"
   },
   "source": [
    "## Optuna Objective Function"
   ]
  },
  {
   "cell_type": "code",
   "execution_count": 161,
   "id": "2aELGNRDlG8O",
   "metadata": {
    "executionInfo": {
     "elapsed": 144,
     "status": "ok",
     "timestamp": 1682640534483,
     "user": {
      "displayName": "Damir Zunic",
      "userId": "07104666280721646256"
     },
     "user_tz": 240
    },
    "id": "2aELGNRDlG8O"
   },
   "outputs": [],
   "source": [
    "def objective(trial):\n",
    "    \"\"\"Define the objective function\"\"\"\n",
    "\n",
    "    params = {\n",
    "        'C' : trial.suggest_loguniform('C', 1e-1, 1e2),\n",
    "        #'kernel' : trial.suggest_categorical('kernel', ['linear', 'poly', 'rbf']),\n",
    "        'gamma' : trial.suggest_loguniform('gamma', 1e-1, 1e2)\n",
    "    }\n",
    "\n",
    "    # Fit the model\n",
    "    model = SVC(**params, kernel='linear', random_state=random_state)\n",
    "    model.fit(X_train, y_train)\n",
    "\n",
    "    # Make predictions\n",
    "    y_pred = model.predict(X_test)\n",
    "\n",
    "    # Evaluate predictions\n",
    "    f1 = f1_score(y_test, y_pred, average='macro')\n",
    "    return f1"
   ]
  },
  {
   "cell_type": "markdown",
   "id": "UlhwpS7-lG8O",
   "metadata": {
    "id": "UlhwpS7-lG8O"
   },
   "source": [
    "## Optuna Study"
   ]
  },
  {
   "cell_type": "code",
   "execution_count": 162,
   "id": "vOfrCTgplG8O",
   "metadata": {
    "colab": {
     "base_uri": "https://localhost:8080/"
    },
    "executionInfo": {
     "elapsed": 166,
     "status": "ok",
     "timestamp": 1682640542700,
     "user": {
      "displayName": "Damir Zunic",
      "userId": "07104666280721646256"
     },
     "user_tz": 240
    },
    "id": "vOfrCTgplG8O",
    "outputId": "cfccac98-89f6-4216-acc5-ce60b43cb0e2"
   },
   "outputs": [
    {
     "name": "stderr",
     "output_type": "stream",
     "text": [
      "\u001b[32m[I 2023-04-28 00:09:02,378]\u001b[0m A new study created in memory with name: no-name-2841730f-05d2-4009-bc52-e3dfb89ae0f3\u001b[0m\n"
     ]
    }
   ],
   "source": [
    "study = optuna.create_study(direction='maximize')"
   ]
  },
  {
   "cell_type": "markdown",
   "id": "gvAvJRAIlG8P",
   "metadata": {
    "id": "gvAvJRAIlG8P"
   },
   "source": [
    "## Optimize the Objective Function"
   ]
  },
  {
   "cell_type": "code",
   "execution_count": 163,
   "id": "TKtM3W6PbiE9",
   "metadata": {
    "colab": {
     "base_uri": "https://localhost:8080/"
    },
    "executionInfo": {
     "elapsed": 5163058,
     "status": "ok",
     "timestamp": 1682645720710,
     "user": {
      "displayName": "Damir Zunic",
      "userId": "07104666280721646256"
     },
     "user_tz": 240
    },
    "id": "TKtM3W6PbiE9",
    "outputId": "3b2351f9-5101-4f6c-a9e6-e90064657ead",
    "scrolled": true,
    "tags": []
   },
   "outputs": [
    {
     "name": "stderr",
     "output_type": "stream",
     "text": [
      "\u001b[32m[I 2023-04-28 00:18:29,868]\u001b[0m Trial 3 finished with value: 0.7413311264055266 and parameters: {'C': 1.029945338103518, 'gamma': 0.5901355669046173}. Best is trial 3 with value: 0.7413311264055266.\u001b[0m\n",
      "\u001b[32m[I 2023-04-28 00:19:56,723]\u001b[0m Trial 2 finished with value: 0.7275484910686105 and parameters: {'C': 2.3975366852055635, 'gamma': 2.9431060828956985}. Best is trial 3 with value: 0.7413311264055266.\u001b[0m\n",
      "\u001b[32m[I 2023-04-28 00:22:18,474]\u001b[0m Trial 1 finished with value: 0.7154762136268465 and parameters: {'C': 6.269065942519452, 'gamma': 89.33970128754454}. Best is trial 3 with value: 0.7413311264055266.\u001b[0m\n",
      "\u001b[32m[I 2023-04-28 00:23:21,397]\u001b[0m Trial 0 finished with value: 0.706485594705581 and parameters: {'C': 8.84205415901047, 'gamma': 0.9168340002717398}. Best is trial 3 with value: 0.7413311264055266.\u001b[0m\n",
      "\u001b[32m[I 2023-04-28 00:29:03,798]\u001b[0m Trial 5 finished with value: 0.7379274088236691 and parameters: {'C': 1.6541105972919632, 'gamma': 1.6916680117273615}. Best is trial 3 with value: 0.7413311264055266.\u001b[0m\n",
      "\u001b[32m[I 2023-04-28 00:30:44,252]\u001b[0m Trial 6 finished with value: 0.7397093779817367 and parameters: {'C': 0.935470813077814, 'gamma': 49.6700410688571}. Best is trial 3 with value: 0.7413311264055266.\u001b[0m\n",
      "\u001b[32m[I 2023-04-28 00:32:58,594]\u001b[0m Trial 7 finished with value: 0.7352029520295204 and parameters: {'C': 2.0271443603201003, 'gamma': 0.6459103518990732}. Best is trial 3 with value: 0.7413311264055266.\u001b[0m\n",
      "\u001b[32m[I 2023-04-28 00:39:04,949]\u001b[0m Trial 4 finished with value: 0.6908690499205675 and parameters: {'C': 43.759607592691786, 'gamma': 0.17422092816326812}. Best is trial 3 with value: 0.7413311264055266.\u001b[0m\n",
      "\u001b[32m[I 2023-04-28 00:40:20,049]\u001b[0m Trial 10 finished with value: 0.744916355708356 and parameters: {'C': 0.7532617625342343, 'gamma': 0.49566681666572476}. Best is trial 10 with value: 0.744916355708356.\u001b[0m\n",
      "\u001b[32m[I 2023-04-28 00:45:02,641]\u001b[0m Trial 11 finished with value: 0.7547244206550705 and parameters: {'C': 0.36011643528808784, 'gamma': 2.533558854664627}. Best is trial 11 with value: 0.7547244206550705.\u001b[0m\n",
      "\u001b[32m[I 2023-04-28 00:47:41,502]\u001b[0m Trial 9 finished with value: 0.6883670438481342 and parameters: {'C': 28.662720218401834, 'gamma': 22.33688631530464}. Best is trial 11 with value: 0.7547244206550705.\u001b[0m\n",
      "\u001b[32m[I 2023-04-28 00:49:25,162]\u001b[0m Trial 12 finished with value: 0.7158212560386473 and parameters: {'C': 3.253739771130787, 'gamma': 33.38086675432096}. Best is trial 11 with value: 0.7547244206550705.\u001b[0m\n",
      "\u001b[32m[I 2023-04-28 00:49:52,947]\u001b[0m Trial 13 finished with value: 0.7559062803042578 and parameters: {'C': 0.1439279543175193, 'gamma': 11.353080622139599}. Best is trial 13 with value: 0.7559062803042578.\u001b[0m\n",
      "\u001b[32m[I 2023-04-28 00:52:12,076]\u001b[0m Trial 8 finished with value: 0.696845987637885 and parameters: {'C': 83.28014428958916, 'gamma': 59.56448381903551}. Best is trial 13 with value: 0.7559062803042578.\u001b[0m\n",
      "\u001b[32m[I 2023-04-28 00:53:21,119]\u001b[0m Trial 14 finished with value: 0.7526458422478961 and parameters: {'C': 0.1857956811594684, 'gamma': 11.173026787184398}. Best is trial 13 with value: 0.7559062803042578.\u001b[0m\n",
      "\u001b[32m[I 2023-04-28 00:56:12,544]\u001b[0m Trial 15 finished with value: 0.7507315911256295 and parameters: {'C': 0.21719498500273332, 'gamma': 8.010135504877205}. Best is trial 13 with value: 0.7559062803042578.\u001b[0m\n",
      "\u001b[32m[I 2023-04-28 00:56:29,246]\u001b[0m Trial 16 finished with value: 0.75242729458736 and parameters: {'C': 0.2272719076314994, 'gamma': 8.685132064726483}. Best is trial 13 with value: 0.7559062803042578.\u001b[0m\n",
      "\u001b[32m[I 2023-04-28 00:58:41,184]\u001b[0m Trial 17 finished with value: 0.7576313242597047 and parameters: {'C': 0.137775988591585, 'gamma': 9.911963808838905}. Best is trial 17 with value: 0.7576313242597047.\u001b[0m\n",
      "\u001b[32m[I 2023-04-28 00:59:44,463]\u001b[0m Trial 18 finished with value: 0.7589795732950844 and parameters: {'C': 0.10193913039734785, 'gamma': 7.181231465593274}. Best is trial 18 with value: 0.7589795732950844.\u001b[0m\n",
      "\u001b[32m[I 2023-04-28 01:02:56,982]\u001b[0m Trial 19 finished with value: 0.7576313242597047 and parameters: {'C': 0.13466850771327527, 'gamma': 6.490809037722685}. Best is trial 18 with value: 0.7589795732950844.\u001b[0m\n",
      "\u001b[32m[I 2023-04-28 01:02:57,045]\u001b[0m Trial 20 finished with value: 0.7589795732950844 and parameters: {'C': 0.10237362763944728, 'gamma': 3.9071103130374394}. Best is trial 18 with value: 0.7589795732950844.\u001b[0m\n",
      "\u001b[32m[I 2023-04-28 01:05:08,146]\u001b[0m Trial 21 finished with value: 0.7583628424322739 and parameters: {'C': 0.10457356915561306, 'gamma': 5.936494191172959}. Best is trial 18 with value: 0.7589795732950844.\u001b[0m\n",
      "\u001b[32m[I 2023-04-28 01:06:06,690]\u001b[0m Trial 22 finished with value: 0.7583628424322739 and parameters: {'C': 0.11182399044596378, 'gamma': 4.033715929365624}. Best is trial 18 with value: 0.7589795732950844.\u001b[0m\n",
      "\u001b[32m[I 2023-04-28 01:09:27,860]\u001b[0m Trial 23 finished with value: 0.7577471526898978 and parameters: {'C': 0.10829597158059923, 'gamma': 20.45095392216332}. Best is trial 18 with value: 0.7589795732950844.\u001b[0m\n",
      "\u001b[32m[I 2023-04-28 01:09:29,272]\u001b[0m Trial 24 finished with value: 0.7600950084363436 and parameters: {'C': 0.12180902517332838, 'gamma': 4.337759256291752}. Best is trial 24 with value: 0.7600950084363436.\u001b[0m\n",
      "\u001b[32m[I 2023-04-28 01:11:39,693]\u001b[0m Trial 25 finished with value: 0.7583628424322739 and parameters: {'C': 0.11131952859439705, 'gamma': 4.645011319874165}. Best is trial 24 with value: 0.7600950084363436.\u001b[0m\n",
      "\u001b[32m[I 2023-04-28 01:13:51,871]\u001b[0m Trial 26 finished with value: 0.7557977567897666 and parameters: {'C': 0.41891053918372106, 'gamma': 18.486572859449634}. Best is trial 24 with value: 0.7600950084363436.\u001b[0m\n",
      "\u001b[32m[I 2023-04-28 01:16:31,565]\u001b[0m Trial 28 finished with value: 0.7511158473126784 and parameters: {'C': 0.3022735589124721, 'gamma': 3.7126830974180827}. Best is trial 24 with value: 0.7600950084363436.\u001b[0m\n",
      "\u001b[32m[I 2023-04-28 01:17:06,654]\u001b[0m Trial 27 finished with value: 0.7563986566915546 and parameters: {'C': 0.3869709157217376, 'gamma': 4.962569314375665}. Best is trial 24 with value: 0.7600950084363436.\u001b[0m\n",
      "\u001b[32m[I 2023-04-28 01:19:13,496]\u001b[0m Trial 29 finished with value: 0.7562681456115536 and parameters: {'C': 0.39063263172452517, 'gamma': 1.9612830274934232}. Best is trial 24 with value: 0.7600950084363436.\u001b[0m\n",
      "\u001b[32m[I 2023-04-28 01:21:25,961]\u001b[0m Trial 30 finished with value: 0.7498114034020393 and parameters: {'C': 0.3383007730564428, 'gamma': 1.860479422622378}. Best is trial 24 with value: 0.7600950084363436.\u001b[0m\n",
      "\u001b[32m[I 2023-04-28 01:24:29,088]\u001b[0m Trial 31 finished with value: 0.7538747905017575 and parameters: {'C': 0.5456577972145034, 'gamma': 2.115154394312337}. Best is trial 24 with value: 0.7600950084363436.\u001b[0m\n",
      "\u001b[32m[I 2023-04-28 01:25:09,771]\u001b[0m Trial 32 finished with value: 0.7510237540547693 and parameters: {'C': 0.5622447000649613, 'gamma': 1.8921358553659282}. Best is trial 24 with value: 0.7600950084363436.\u001b[0m\n",
      "\u001b[32m[I 2023-04-28 01:26:16,756]\u001b[0m Trial 33 finished with value: 0.752917271188775 and parameters: {'C': 0.23432248604034245, 'gamma': 1.3659072098133858}. Best is trial 24 with value: 0.7600950084363436.\u001b[0m\n",
      "\u001b[32m[I 2023-04-28 01:28:12,625]\u001b[0m Trial 34 finished with value: 0.7526458422478961 and parameters: {'C': 0.18763993389025874, 'gamma': 5.996048680355001}. Best is trial 24 with value: 0.7600950084363436.\u001b[0m\n",
      "\u001b[32m[I 2023-04-28 01:31:18,808]\u001b[0m Trial 35 finished with value: 0.7496351418157046 and parameters: {'C': 0.19537524251790528, 'gamma': 5.289036397414214}. Best is trial 24 with value: 0.7600950084363436.\u001b[0m\n",
      "\u001b[32m[I 2023-04-28 01:32:01,598]\u001b[0m Trial 36 finished with value: 0.7520417628672027 and parameters: {'C': 0.1881282697470164, 'gamma': 5.9351916170267724}. Best is trial 24 with value: 0.7600950084363436.\u001b[0m\n",
      "\u001b[32m[I 2023-04-28 01:32:46,783]\u001b[0m Trial 37 finished with value: 0.7543517329910141 and parameters: {'C': 0.17875397335732301, 'gamma': 6.396269986761432}. Best is trial 24 with value: 0.7600950084363436.\u001b[0m\n",
      "\u001b[32m[I 2023-04-28 01:33:43,760]\u001b[0m Trial 38 finished with value: 0.7583628424322739 and parameters: {'C': 0.10460848576868821, 'gamma': 3.0699907587450204}. Best is trial 24 with value: 0.7600950084363436.\u001b[0m\n",
      "\u001b[32m[I 2023-04-28 01:35:20,487]\u001b[0m Trial 39 finished with value: 0.7589795732950844 and parameters: {'C': 0.10047024622047383, 'gamma': 3.2022648975920296}. Best is trial 24 with value: 0.7600950084363436.\u001b[0m\n"
     ]
    }
   ],
   "source": [
    "study.optimize(objective, n_jobs=-1, n_trials=40)"
   ]
  },
  {
   "cell_type": "markdown",
   "id": "9240664a-4af1-44ad-909a-c44d733c6e51",
   "metadata": {
    "id": "BqGyywKWhUQs"
   },
   "source": [
    "#### Let's do 40 more trials"
   ]
  },
  {
   "cell_type": "code",
   "execution_count": 164,
   "id": "8VzetnzBseBH",
   "metadata": {
    "colab": {
     "base_uri": "https://localhost:8080/"
    },
    "executionInfo": {
     "elapsed": 4286974,
     "status": "ok",
     "timestamp": 1682650365318,
     "user": {
      "displayName": "Damir Zunic",
      "userId": "07104666280721646256"
     },
     "user_tz": 240
    },
    "id": "8VzetnzBseBH",
    "outputId": "12240b2e-2784-4d89-b670-ffa624c1e3bd",
    "scrolled": true,
    "tags": []
   },
   "outputs": [
    {
     "name": "stderr",
     "output_type": "stream",
     "text": [
      "\u001b[32m[I 2023-04-28 01:48:46,100]\u001b[0m Trial 42 finished with value: 0.7500263613768171 and parameters: {'C': 0.24829748877261368, 'gamma': 3.5156238910126087}. Best is trial 24 with value: 0.7600950084363436.\u001b[0m\n",
      "\u001b[32m[I 2023-04-28 01:50:36,022]\u001b[0m Trial 41 finished with value: 0.7382512849248022 and parameters: {'C': 1.1284987172957655, 'gamma': 1.2693040032454772}. Best is trial 24 with value: 0.7600950084363436.\u001b[0m\n",
      "\u001b[32m[I 2023-04-28 01:50:43,775]\u001b[0m Trial 40 finished with value: 0.7365432985986345 and parameters: {'C': 1.237044336509514, 'gamma': 3.5885698016535392}. Best is trial 24 with value: 0.7600950084363436.\u001b[0m\n",
      "\u001b[32m[I 2023-04-28 01:51:03,502]\u001b[0m Trial 43 finished with value: 0.7363342623727491 and parameters: {'C': 1.4292959288979006, 'gamma': 2.996448043607603}. Best is trial 24 with value: 0.7600950084363436.\u001b[0m\n",
      "\u001b[32m[I 2023-04-28 01:55:33,852]\u001b[0m Trial 44 finished with value: 0.7564056614229557 and parameters: {'C': 0.15328937229425502, 'gamma': 2.813641984417937}. Best is trial 24 with value: 0.7600950084363436.\u001b[0m\n",
      "\u001b[32m[I 2023-04-28 01:57:15,432]\u001b[0m Trial 45 finished with value: 0.7577471526898978 and parameters: {'C': 0.10835464913247057, 'gamma': 2.6522386173765105}. Best is trial 24 with value: 0.7600950084363436.\u001b[0m\n",
      "\u001b[32m[I 2023-04-28 01:57:26,276]\u001b[0m Trial 47 finished with value: 0.7589795732950844 and parameters: {'C': 0.10164204992469072, 'gamma': 13.763912304978026}. Best is trial 24 with value: 0.7600950084363436.\u001b[0m\n",
      "\u001b[32m[I 2023-04-28 01:57:38,819]\u001b[0m Trial 46 finished with value: 0.7552947052947052 and parameters: {'C': 0.15003164924285342, 'gamma': 2.6868582836526276}. Best is trial 24 with value: 0.7600950084363436.\u001b[0m\n",
      "\u001b[32m[I 2023-04-28 02:02:12,982]\u001b[0m Trial 48 finished with value: 0.7589795732950844 and parameters: {'C': 0.10224965835732054, 'gamma': 11.102652756309805}. Best is trial 24 with value: 0.7600950084363436.\u001b[0m\n",
      "\u001b[32m[I 2023-04-28 02:04:13,470]\u001b[0m Trial 50 finished with value: 0.7559062803042578 and parameters: {'C': 0.1464429656094403, 'gamma': 10.764601813109586}. Best is trial 24 with value: 0.7600950084363436.\u001b[0m\n",
      "\u001b[32m[I 2023-04-28 02:04:33,725]\u001b[0m Trial 49 finished with value: 0.7532877089740996 and parameters: {'C': 0.27975062933236644, 'gamma': 14.154005820743995}. Best is trial 24 with value: 0.7600950084363436.\u001b[0m\n",
      "\u001b[32m[I 2023-04-28 02:04:55,853]\u001b[0m Trial 51 finished with value: 0.7532877089740996 and parameters: {'C': 0.2789176541627967, 'gamma': 13.601805048922744}. Best is trial 24 with value: 0.7600950084363436.\u001b[0m\n",
      "\u001b[32m[I 2023-04-28 02:09:46,604]\u001b[0m Trial 52 finished with value: 0.7532877089740996 and parameters: {'C': 0.27983723866633575, 'gamma': 13.295306489972207}. Best is trial 24 with value: 0.7600950084363436.\u001b[0m\n",
      "\u001b[32m[I 2023-04-28 02:11:08,994]\u001b[0m Trial 54 finished with value: 0.7578615911029278 and parameters: {'C': 0.10122199885641407, 'gamma': 8.0007755227761}. Best is trial 24 with value: 0.7600950084363436.\u001b[0m\n",
      "\u001b[32m[I 2023-04-28 02:11:51,758]\u001b[0m Trial 53 finished with value: 0.7532877089740996 and parameters: {'C': 0.2797743102310496, 'gamma': 7.961721709369214}. Best is trial 24 with value: 0.7600950084363436.\u001b[0m\n",
      "\u001b[32m[I 2023-04-28 02:11:58,935]\u001b[0m Trial 55 finished with value: 0.7552947052947052 and parameters: {'C': 0.1509671782307576, 'gamma': 7.954690805412454}. Best is trial 24 with value: 0.7600950084363436.\u001b[0m\n",
      "\u001b[32m[I 2023-04-28 02:16:58,944]\u001b[0m Trial 56 finished with value: 0.7576313242597047 and parameters: {'C': 0.13490153336561764, 'gamma': 7.97492820996239}. Best is trial 24 with value: 0.7600950084363436.\u001b[0m\n",
      "\u001b[32m[I 2023-04-28 02:18:11,889]\u001b[0m Trial 57 finished with value: 0.7559062803042578 and parameters: {'C': 0.1477327238148059, 'gamma': 8.689307056107298}. Best is trial 24 with value: 0.7600950084363436.\u001b[0m\n",
      "\u001b[32m[I 2023-04-28 02:18:49,594]\u001b[0m Trial 58 finished with value: 0.757017982017982 and parameters: {'C': 0.14213786553807578, 'gamma': 27.594232948783517}. Best is trial 24 with value: 0.7600950084363436.\u001b[0m\n",
      "\u001b[32m[I 2023-04-28 02:18:49,847]\u001b[0m Trial 59 finished with value: 0.7576313242597047 and parameters: {'C': 0.13937784093561503, 'gamma': 4.3428733704145115}. Best is trial 24 with value: 0.7600950084363436.\u001b[0m\n",
      "\u001b[32m[I 2023-04-28 02:24:12,144]\u001b[0m Trial 60 finished with value: 0.7526458422478961 and parameters: {'C': 0.18759110365149506, 'gamma': 25.02756859501693}. Best is trial 24 with value: 0.7600950084363436.\u001b[0m\n",
      "\u001b[32m[I 2023-04-28 02:25:33,990]\u001b[0m Trial 61 finished with value: 0.7530299195537968 and parameters: {'C': 0.22669463328661632, 'gamma': 4.428307220216328}. Best is trial 24 with value: 0.7600950084363436.\u001b[0m\n",
      "\u001b[32m[I 2023-04-28 02:25:53,224]\u001b[0m Trial 62 finished with value: 0.7518256308323517 and parameters: {'C': 0.20379095469196462, 'gamma': 4.904948472093007}. Best is trial 24 with value: 0.7600950084363436.\u001b[0m\n",
      "\u001b[32m[I 2023-04-28 02:26:10,886]\u001b[0m Trial 63 finished with value: 0.7507315911256295 and parameters: {'C': 0.21728250722296974, 'gamma': 16.868587762912494}. Best is trial 24 with value: 0.7600950084363436.\u001b[0m\n",
      "\u001b[32m[I 2023-04-28 02:30:45,237]\u001b[0m Trial 64 finished with value: 0.7583628424322739 and parameters: {'C': 0.10408256333310069, 'gamma': 5.090218039370817}. Best is trial 24 with value: 0.7600950084363436.\u001b[0m\n",
      "\u001b[32m[I 2023-04-28 02:32:20,797]\u001b[0m Trial 65 finished with value: 0.7607135331994364 and parameters: {'C': 0.1206521145678532, 'gamma': 16.120604152571097}. Best is trial 65 with value: 0.7607135331994364.\u001b[0m\n",
      "\u001b[32m[I 2023-04-28 02:32:27,953]\u001b[0m Trial 66 finished with value: 0.7583628424322739 and parameters: {'C': 0.10441915437695282, 'gamma': 15.66035737090994}. Best is trial 65 with value: 0.7607135331994364.\u001b[0m\n",
      "\u001b[32m[I 2023-04-28 02:32:43,401]\u001b[0m Trial 67 finished with value: 0.7589795732950844 and parameters: {'C': 0.10067415538982519, 'gamma': 6.462057973546505}. Best is trial 65 with value: 0.7607135331994364.\u001b[0m\n",
      "\u001b[32m[I 2023-04-28 02:37:43,272]\u001b[0m Trial 68 finished with value: 0.7607135331994364 and parameters: {'C': 0.1203231086943043, 'gamma': 6.089960621010906}. Best is trial 65 with value: 0.7607135331994364.\u001b[0m\n",
      "\u001b[32m[I 2023-04-28 02:39:16,816]\u001b[0m Trial 69 finished with value: 0.7588610933792622 and parameters: {'C': 0.12548997404643422, 'gamma': 16.33662647473799}. Best is trial 65 with value: 0.7607135331994364.\u001b[0m\n",
      "\u001b[32m[I 2023-04-28 02:39:29,372]\u001b[0m Trial 71 finished with value: 0.7576313242597047 and parameters: {'C': 0.13202280888126083, 'gamma': 10.199592248448342}. Best is trial 65 with value: 0.7607135331994364.\u001b[0m\n",
      "\u001b[32m[I 2023-04-28 02:39:30,159]\u001b[0m Trial 70 finished with value: 0.7605896876919556 and parameters: {'C': 0.12817264299755265, 'gamma': 18.74046856649084}. Best is trial 65 with value: 0.7607135331994364.\u001b[0m\n",
      "\u001b[32m[I 2023-04-28 02:44:26,810]\u001b[0m Trial 72 finished with value: 0.7612079076514707 and parameters: {'C': 0.12782142144433942, 'gamma': 18.447837077490426}. Best is trial 72 with value: 0.7612079076514707.\u001b[0m\n",
      "\u001b[32m[I 2023-04-28 02:46:10,013]\u001b[0m Trial 73 finished with value: 0.7569020721897928 and parameters: {'C': 0.16332686316013822, 'gamma': 3.688494312403204}. Best is trial 72 with value: 0.7612079076514707.\u001b[0m\n",
      "\u001b[32m[I 2023-04-28 02:46:20,592]\u001b[0m Trial 75 finished with value: 0.7532509005623964 and parameters: {'C': 0.1770596830256597, 'gamma': 19.93922280438176}. Best is trial 72 with value: 0.7612079076514707.\u001b[0m\n",
      "\u001b[32m[I 2023-04-28 02:46:29,353]\u001b[0m Trial 74 finished with value: 0.7544639727605027 and parameters: {'C': 0.169758916289562, 'gamma': 12.037003024189234}. Best is trial 72 with value: 0.7612079076514707.\u001b[0m\n",
      "\u001b[32m[I 2023-04-28 02:51:15,886]\u001b[0m Trial 76 finished with value: 0.7544639727605027 and parameters: {'C': 0.170133293407406, 'gamma': 21.01760496274123}. Best is trial 72 with value: 0.7612079076514707.\u001b[0m\n",
      "\u001b[32m[I 2023-04-28 02:52:31,922]\u001b[0m Trial 78 finished with value: 0.7599725095436931 and parameters: {'C': 0.12914325556425538, 'gamma': 40.99653138411397}. Best is trial 72 with value: 0.7612079076514707.\u001b[0m\n",
      "\u001b[32m[I 2023-04-28 02:52:37,991]\u001b[0m Trial 77 finished with value: 0.7544639727605027 and parameters: {'C': 0.1714213793415341, 'gamma': 30.245170445777624}. Best is trial 72 with value: 0.7612079076514707.\u001b[0m\n",
      "\u001b[32m[I 2023-04-28 02:52:44,918]\u001b[0m Trial 79 finished with value: 0.7582456930655901 and parameters: {'C': 0.1321135465675795, 'gamma': 34.96583982924075}. Best is trial 72 with value: 0.7612079076514707.\u001b[0m\n"
     ]
    }
   ],
   "source": [
    "study.optimize(objective, n_jobs=-1, n_trials=40)"
   ]
  },
  {
   "cell_type": "markdown",
   "id": "5d06fc73-9bc6-4750-ad80-482ed5850f1f",
   "metadata": {
    "id": "bS_Jy3yizOcm"
   },
   "source": [
    "#### Let's finish with 20 trials (total 100 trials)"
   ]
  },
  {
   "cell_type": "code",
   "execution_count": 165,
   "id": "tdTU-R1Px-ji",
   "metadata": {
    "colab": {
     "base_uri": "https://localhost:8080/"
    },
    "executionInfo": {
     "elapsed": 2048602,
     "status": "ok",
     "timestamp": 1682652495458,
     "user": {
      "displayName": "Damir Zunic",
      "userId": "07104666280721646256"
     },
     "user_tz": 240
    },
    "id": "tdTU-R1Px-ji",
    "outputId": "c82de015-78b4-42f8-df2d-f71620c57dc1",
    "scrolled": true,
    "tags": []
   },
   "outputs": [
    {
     "name": "stderr",
     "output_type": "stream",
     "text": [
      "\u001b[32m[I 2023-04-28 03:01:05,640]\u001b[0m Trial 80 finished with value: 0.752917271188775 and parameters: {'C': 0.23352357435616564, 'gamma': 41.56591184719434}. Best is trial 72 with value: 0.7612079076514707.\u001b[0m\n",
      "\u001b[32m[I 2023-04-28 03:01:11,619]\u001b[0m Trial 82 finished with value: 0.7518256308323517 and parameters: {'C': 0.23692007589318825, 'gamma': 50.42087708046739}. Best is trial 72 with value: 0.7612079076514707.\u001b[0m\n",
      "\u001b[32m[I 2023-04-28 03:01:29,682]\u001b[0m Trial 81 finished with value: 0.7512249237311639 and parameters: {'C': 0.237657412687639, 'gamma': 44.975485029171594}. Best is trial 72 with value: 0.7612079076514707.\u001b[0m\n",
      "\u001b[32m[I 2023-04-28 03:01:41,764]\u001b[0m Trial 83 finished with value: 0.7498114034020393 and parameters: {'C': 0.33698430372680926, 'gamma': 39.40260559193388}. Best is trial 72 with value: 0.7612079076514707.\u001b[0m\n",
      "\u001b[32m[I 2023-04-28 03:07:36,068]\u001b[0m Trial 85 finished with value: 0.7599725095436931 and parameters: {'C': 0.1293988216490246, 'gamma': 79.87691947240573}. Best is trial 72 with value: 0.7612079076514707.\u001b[0m\n",
      "\u001b[32m[I 2023-04-28 03:07:47,334]\u001b[0m Trial 84 finished with value: 0.7588610933792622 and parameters: {'C': 0.12314263964690511, 'gamma': 70.82662051959696}. Best is trial 72 with value: 0.7612079076514707.\u001b[0m\n",
      "\u001b[32m[I 2023-04-28 03:08:00,639]\u001b[0m Trial 86 finished with value: 0.7607135331994364 and parameters: {'C': 0.12171733766243677, 'gamma': 21.73992963240203}. Best is trial 72 with value: 0.7612079076514707.\u001b[0m\n",
      "\u001b[32m[I 2023-04-28 03:08:17,282]\u001b[0m Trial 87 finished with value: 0.7607135331994364 and parameters: {'C': 0.12097437657484932, 'gamma': 24.93842327860861}. Best is trial 72 with value: 0.7612079076514707.\u001b[0m\n",
      "\u001b[32m[I 2023-04-28 03:14:12,565]\u001b[0m Trial 88 finished with value: 0.7599725095436931 and parameters: {'C': 0.1302043787047887, 'gamma': 81.52391588083742}. Best is trial 72 with value: 0.7612079076514707.\u001b[0m\n",
      "\u001b[32m[I 2023-04-28 03:14:25,177]\u001b[0m Trial 89 finished with value: 0.7605896876919556 and parameters: {'C': 0.1263973890329201, 'gamma': 89.74492717244375}. Best is trial 72 with value: 0.7612079076514707.\u001b[0m\n",
      "\u001b[32m[I 2023-04-28 03:14:39,211]\u001b[0m Trial 90 finished with value: 0.7613331095100544 and parameters: {'C': 0.12103996361181649, 'gamma': 24.34232406568725}. Best is trial 90 with value: 0.7613331095100544.\u001b[0m\n",
      "\u001b[32m[I 2023-04-28 03:14:48,168]\u001b[0m Trial 91 finished with value: 0.7588610933792622 and parameters: {'C': 0.12347682607951443, 'gamma': 25.39150281038278}. Best is trial 90 with value: 0.7613331095100544.\u001b[0m\n",
      "\u001b[32m[I 2023-04-28 03:20:41,943]\u001b[0m Trial 92 finished with value: 0.7607135331994364 and parameters: {'C': 0.1208598162709156, 'gamma': 24.158278440331333}. Best is trial 90 with value: 0.7613331095100544.\u001b[0m\n",
      "\u001b[32m[I 2023-04-28 03:21:26,330]\u001b[0m Trial 93 finished with value: 0.7518256308323517 and parameters: {'C': 0.20644017367347717, 'gamma': 23.79926342418447}. Best is trial 90 with value: 0.7613331095100544.\u001b[0m\n",
      "\u001b[32m[I 2023-04-28 03:21:41,058]\u001b[0m Trial 94 finished with value: 0.7518256308323517 and parameters: {'C': 0.19917679233026422, 'gamma': 24.12147982382639}. Best is trial 90 with value: 0.7613331095100544.\u001b[0m\n",
      "\u001b[32m[I 2023-04-28 03:21:43,081]\u001b[0m Trial 95 finished with value: 0.7518256308323517 and parameters: {'C': 0.19975976183337374, 'gamma': 23.90636914113456}. Best is trial 90 with value: 0.7613331095100544.\u001b[0m\n",
      "\u001b[32m[I 2023-04-28 03:27:40,547]\u001b[0m Trial 96 finished with value: 0.7496351418157046 and parameters: {'C': 0.19425164750220988, 'gamma': 23.191593147777787}. Best is trial 90 with value: 0.7613331095100544.\u001b[0m\n",
      "\u001b[32m[I 2023-04-28 03:28:01,690]\u001b[0m Trial 97 finished with value: 0.7564056614229557 and parameters: {'C': 0.1541764283535995, 'gamma': 32.46155791663999}. Best is trial 90 with value: 0.7613331095100544.\u001b[0m\n",
      "\u001b[32m[I 2023-04-28 03:28:13,344]\u001b[0m Trial 99 finished with value: 0.7557943575831358 and parameters: {'C': 0.15892494577573163, 'gamma': 29.95345736681618}. Best is trial 90 with value: 0.7613331095100544.\u001b[0m\n",
      "\u001b[32m[I 2023-04-28 03:28:15,181]\u001b[0m Trial 98 finished with value: 0.7569020721897928 and parameters: {'C': 0.16356617531525622, 'gamma': 19.33789966774601}. Best is trial 90 with value: 0.7613331095100544.\u001b[0m\n"
     ]
    }
   ],
   "source": [
    "study.optimize(objective, n_jobs=-1, n_trials=20)"
   ]
  },
  {
   "cell_type": "markdown",
   "id": "rPMCn7GolG8P",
   "metadata": {
    "id": "rPMCn7GolG8P"
   },
   "source": [
    "## Best Parameters"
   ]
  },
  {
   "cell_type": "code",
   "execution_count": 166,
   "id": "isKQgstNM-UW",
   "metadata": {
    "colab": {
     "base_uri": "https://localhost:8080/"
    },
    "executionInfo": {
     "elapsed": 151,
     "status": "ok",
     "timestamp": 1682652813891,
     "user": {
      "displayName": "Damir Zunic",
      "userId": "07104666280721646256"
     },
     "user_tz": 240
    },
    "id": "isKQgstNM-UW",
    "outputId": "2f4b07ae-ac6a-4134-cef4-d5ac39ab79b6"
   },
   "outputs": [
    {
     "name": "stdout",
     "output_type": "stream",
     "text": [
      "Number of finished trials: 100\n",
      "Best trial:\n",
      "  Value: 0.7613331095100544\n",
      "  Params: \n",
      "    C: 0.12103996361181649\n",
      "    gamma: 24.34232406568725\n"
     ]
    }
   ],
   "source": [
    "print(f'Number of finished trials: {len(study.trials)}')\n",
    "print('Best trial:')\n",
    "trial = study.best_trial\n",
    "\n",
    "print(f'  Value: {trial.value}')\n",
    "print('  Params: ')\n",
    "\n",
    "for key, value in trial.params.items():\n",
    "    print(f'    {key}: {value}')"
   ]
  },
  {
   "cell_type": "markdown",
   "id": "j1rFyjXWlG8P",
   "metadata": {
    "id": "j1rFyjXWlG8P"
   },
   "source": [
    "## Re-fit the model"
   ]
  },
  {
   "cell_type": "code",
   "execution_count": 167,
   "id": "3EzsqGBHpj2F",
   "metadata": {
    "colab": {
     "base_uri": "https://localhost:8080/"
    },
    "executionInfo": {
     "elapsed": 158,
     "status": "ok",
     "timestamp": 1682652851301,
     "user": {
      "displayName": "Damir Zunic",
      "userId": "07104666280721646256"
     },
     "user_tz": 240
    },
    "id": "3EzsqGBHpj2F",
    "outputId": "bcb28fd6-6881-4dff-9e6e-145a006d4ecf"
   },
   "outputs": [
    {
     "data": {
      "text/plain": [
       "{'C': 0.12103996361181649, 'gamma': 24.34232406568725}"
      ]
     },
     "execution_count": 167,
     "metadata": {},
     "output_type": "execute_result"
    }
   ],
   "source": [
    "params_svm = trial.params\n",
    "params_svm"
   ]
  },
  {
   "cell_type": "code",
   "execution_count": 168,
   "id": "_jLevba6lG8P",
   "metadata": {
    "colab": {
     "base_uri": "https://localhost:8080/",
     "height": 92
    },
    "executionInfo": {
     "elapsed": 191045,
     "status": "ok",
     "timestamp": 1682653057960,
     "user": {
      "displayName": "Damir Zunic",
      "userId": "07104666280721646256"
     },
     "user_tz": 240
    },
    "id": "_jLevba6lG8P",
    "outputId": "589b06bf-6915-4c2b-83e5-31d18a955add"
   },
   "outputs": [
    {
     "data": {
      "text/html": [
       "<style>#sk-container-id-10 {color: black;background-color: white;}#sk-container-id-10 pre{padding: 0;}#sk-container-id-10 div.sk-toggleable {background-color: white;}#sk-container-id-10 label.sk-toggleable__label {cursor: pointer;display: block;width: 100%;margin-bottom: 0;padding: 0.3em;box-sizing: border-box;text-align: center;}#sk-container-id-10 label.sk-toggleable__label-arrow:before {content: \"▸\";float: left;margin-right: 0.25em;color: #696969;}#sk-container-id-10 label.sk-toggleable__label-arrow:hover:before {color: black;}#sk-container-id-10 div.sk-estimator:hover label.sk-toggleable__label-arrow:before {color: black;}#sk-container-id-10 div.sk-toggleable__content {max-height: 0;max-width: 0;overflow: hidden;text-align: left;background-color: #f0f8ff;}#sk-container-id-10 div.sk-toggleable__content pre {margin: 0.2em;color: black;border-radius: 0.25em;background-color: #f0f8ff;}#sk-container-id-10 input.sk-toggleable__control:checked~div.sk-toggleable__content {max-height: 200px;max-width: 100%;overflow: auto;}#sk-container-id-10 input.sk-toggleable__control:checked~label.sk-toggleable__label-arrow:before {content: \"▾\";}#sk-container-id-10 div.sk-estimator input.sk-toggleable__control:checked~label.sk-toggleable__label {background-color: #d4ebff;}#sk-container-id-10 div.sk-label input.sk-toggleable__control:checked~label.sk-toggleable__label {background-color: #d4ebff;}#sk-container-id-10 input.sk-hidden--visually {border: 0;clip: rect(1px 1px 1px 1px);clip: rect(1px, 1px, 1px, 1px);height: 1px;margin: -1px;overflow: hidden;padding: 0;position: absolute;width: 1px;}#sk-container-id-10 div.sk-estimator {font-family: monospace;background-color: #f0f8ff;border: 1px dotted black;border-radius: 0.25em;box-sizing: border-box;margin-bottom: 0.5em;}#sk-container-id-10 div.sk-estimator:hover {background-color: #d4ebff;}#sk-container-id-10 div.sk-parallel-item::after {content: \"\";width: 100%;border-bottom: 1px solid gray;flex-grow: 1;}#sk-container-id-10 div.sk-label:hover label.sk-toggleable__label {background-color: #d4ebff;}#sk-container-id-10 div.sk-serial::before {content: \"\";position: absolute;border-left: 1px solid gray;box-sizing: border-box;top: 0;bottom: 0;left: 50%;z-index: 0;}#sk-container-id-10 div.sk-serial {display: flex;flex-direction: column;align-items: center;background-color: white;padding-right: 0.2em;padding-left: 0.2em;position: relative;}#sk-container-id-10 div.sk-item {position: relative;z-index: 1;}#sk-container-id-10 div.sk-parallel {display: flex;align-items: stretch;justify-content: center;background-color: white;position: relative;}#sk-container-id-10 div.sk-item::before, #sk-container-id-10 div.sk-parallel-item::before {content: \"\";position: absolute;border-left: 1px solid gray;box-sizing: border-box;top: 0;bottom: 0;left: 50%;z-index: -1;}#sk-container-id-10 div.sk-parallel-item {display: flex;flex-direction: column;z-index: 1;position: relative;background-color: white;}#sk-container-id-10 div.sk-parallel-item:first-child::after {align-self: flex-end;width: 50%;}#sk-container-id-10 div.sk-parallel-item:last-child::after {align-self: flex-start;width: 50%;}#sk-container-id-10 div.sk-parallel-item:only-child::after {width: 0;}#sk-container-id-10 div.sk-dashed-wrapped {border: 1px dashed gray;margin: 0 0.4em 0.5em 0.4em;box-sizing: border-box;padding-bottom: 0.4em;background-color: white;}#sk-container-id-10 div.sk-label label {font-family: monospace;font-weight: bold;display: inline-block;line-height: 1.2em;}#sk-container-id-10 div.sk-label-container {text-align: center;}#sk-container-id-10 div.sk-container {/* jupyter's `normalize.less` sets `[hidden] { display: none; }` but bootstrap.min.css set `[hidden] { display: none !important; }` so we also need the `!important` here to be able to override the default hidden behavior on the sphinx rendered scikit-learn.org. See: https://github.com/scikit-learn/scikit-learn/issues/21755 */display: inline-block !important;position: relative;}#sk-container-id-10 div.sk-text-repr-fallback {display: none;}</style><div id=\"sk-container-id-10\" class=\"sk-top-container\"><div class=\"sk-text-repr-fallback\"><pre>SVC(C=0.12103996361181649, gamma=24.34232406568725, kernel=&#x27;linear&#x27;,\n",
       "    random_state=10)</pre><b>In a Jupyter environment, please rerun this cell to show the HTML representation or trust the notebook. <br />On GitHub, the HTML representation is unable to render, please try loading this page with nbviewer.org.</b></div><div class=\"sk-container\" hidden><div class=\"sk-item\"><div class=\"sk-estimator sk-toggleable\"><input class=\"sk-toggleable__control sk-hidden--visually\" id=\"sk-estimator-id-10\" type=\"checkbox\" checked><label for=\"sk-estimator-id-10\" class=\"sk-toggleable__label sk-toggleable__label-arrow\">SVC</label><div class=\"sk-toggleable__content\"><pre>SVC(C=0.12103996361181649, gamma=24.34232406568725, kernel=&#x27;linear&#x27;,\n",
       "    random_state=10)</pre></div></div></div></div></div>"
      ],
      "text/plain": [
       "SVC(C=0.12103996361181649, gamma=24.34232406568725, kernel='linear',\n",
       "    random_state=10)"
      ]
     },
     "execution_count": 168,
     "metadata": {},
     "output_type": "execute_result"
    }
   ],
   "source": [
    "svm = SVC(**params_svm, kernel='linear', random_state=random_state)\n",
    "svm.fit(X_train, y_train)"
   ]
  },
  {
   "cell_type": "code",
   "execution_count": 169,
   "id": "f75BSGFPlG8P",
   "metadata": {
    "colab": {
     "base_uri": "https://localhost:8080/"
    },
    "executionInfo": {
     "elapsed": 330,
     "status": "ok",
     "timestamp": 1682653073413,
     "user": {
      "displayName": "Damir Zunic",
      "userId": "07104666280721646256"
     },
     "user_tz": 240
    },
    "id": "f75BSGFPlG8P",
    "outputId": "b7cacb87-4bf1-4537-ab16-0d0f02d651df"
   },
   "outputs": [
    {
     "data": {
      "text/plain": [
       "['/content/drive/MyDrive/Omdena/Team1/saved_models/batch_4_stack/svm_f1ma_1.pkl']"
      ]
     },
     "execution_count": 169,
     "metadata": {},
     "output_type": "execute_result"
    }
   ],
   "source": [
    "# Save the model\n",
    "joblib.dump(svm, '/content/drive/MyDrive/Omdena/Team1/saved_models/batch_4_stack/svm_f1ma_1.pkl')"
   ]
  },
  {
   "cell_type": "code",
   "execution_count": 170,
   "id": "7PMV1aCJlG8P",
   "metadata": {
    "executionInfo": {
     "elapsed": 23079,
     "status": "ok",
     "timestamp": 1682653101774,
     "user": {
      "displayName": "Damir Zunic",
      "userId": "07104666280721646256"
     },
     "user_tz": 240
    },
    "id": "7PMV1aCJlG8P"
   },
   "outputs": [],
   "source": [
    "y_pred_svm = svm.predict(X_test)"
   ]
  },
  {
   "cell_type": "code",
   "execution_count": 171,
   "id": "izX1E5RRlG8P",
   "metadata": {
    "colab": {
     "base_uri": "https://localhost:8080/"
    },
    "executionInfo": {
     "elapsed": 235,
     "status": "ok",
     "timestamp": 1682653111169,
     "user": {
      "displayName": "Damir Zunic",
      "userId": "07104666280721646256"
     },
     "user_tz": 240
    },
    "id": "izX1E5RRlG8P",
    "outputId": "091c4dde-2089-4c53-a24d-c618631e4d0d"
   },
   "outputs": [
    {
     "name": "stdout",
     "output_type": "stream",
     "text": [
      "Accuracy after tuning: 84.67\n"
     ]
    }
   ],
   "source": [
    "accuracy = accuracy_score(y_test, y_pred_svm)\n",
    "print(f'Accuracy after tuning: {accuracy * 100.0:.2f}')"
   ]
  },
  {
   "cell_type": "code",
   "execution_count": 172,
   "id": "PSol49GtlG8Q",
   "metadata": {
    "colab": {
     "base_uri": "https://localhost:8080/"
    },
    "executionInfo": {
     "elapsed": 174311,
     "status": "ok",
     "timestamp": 1682653293339,
     "user": {
      "displayName": "Damir Zunic",
      "userId": "07104666280721646256"
     },
     "user_tz": 240
    },
    "id": "PSol49GtlG8Q",
    "outputId": "3420919c-7086-4103-bac7-b791c25794cc"
   },
   "outputs": [
    {
     "name": "stdout",
     "output_type": "stream",
     "text": [
      "Training Data Score: 0.9086179407569019\n",
      "Testing Data Score: 0.846711259754738\n"
     ]
    }
   ],
   "source": [
    "# Compare training and testing scores\n",
    "print(f\"Training Data Score: {svm.score(X_train, y_train)}\")\n",
    "print(f\"Testing Data Score: {svm.score(X_test, y_test)}\")"
   ]
  },
  {
   "cell_type": "code",
   "execution_count": 173,
   "id": "9v9vgn2JlG8Q",
   "metadata": {
    "colab": {
     "base_uri": "https://localhost:8080/"
    },
    "executionInfo": {
     "elapsed": 153,
     "status": "ok",
     "timestamp": 1682653309181,
     "user": {
      "displayName": "Damir Zunic",
      "userId": "07104666280721646256"
     },
     "user_tz": 240
    },
    "id": "9v9vgn2JlG8Q",
    "outputId": "cded1d67-220a-4e21-8de3-89aeae620975"
   },
   "outputs": [
    {
     "name": "stdout",
     "output_type": "stream",
     "text": [
      "[[ 223  116]\n",
      " [ 159 1296]]\n"
     ]
    }
   ],
   "source": [
    "cm = confusion_matrix(y_test, y_pred_svm)\n",
    "print(cm)"
   ]
  },
  {
   "cell_type": "code",
   "execution_count": 174,
   "id": "xfNY_4_dlG8Q",
   "metadata": {
    "colab": {
     "base_uri": "https://localhost:8080/",
     "height": 315
    },
    "executionInfo": {
     "elapsed": 633,
     "status": "ok",
     "timestamp": 1682653319716,
     "user": {
      "displayName": "Damir Zunic",
      "userId": "07104666280721646256"
     },
     "user_tz": 240
    },
    "id": "xfNY_4_dlG8Q",
    "outputId": "89d08fb2-a0b1-40ad-8316-dc455baaae51"
   },
   "outputs": [
    {
     "data": {
      "image/png": "[encoded data removed]",
      "text/plain": [
       "<Figure size 864x288 with 4 Axes>"
      ]
     },
     "metadata": {},
     "output_type": "display_data"
    }
   ],
   "source": [
    "# Plot confusion matrix and its normalized version.\n",
    "mu.plot_cm_unnorm_and_norm('SVM Optuna #1', y_test, y_pred_svm, target_names, 'Reds')"
   ]
  },
  {
   "cell_type": "code",
   "execution_count": 175,
   "id": "IyffOeOYlG8Q",
   "metadata": {
    "colab": {
     "base_uri": "https://localhost:8080/"
    },
    "executionInfo": {
     "elapsed": 158,
     "status": "ok",
     "timestamp": 1682653336935,
     "user": {
      "displayName": "Damir Zunic",
      "userId": "07104666280721646256"
     },
     "user_tz": 240
    },
    "id": "IyffOeOYlG8Q",
    "outputId": "2cbed5fe-5845-4a86-8147-2fa7626b869e"
   },
   "outputs": [
    {
     "name": "stdout",
     "output_type": "stream",
     "text": [
      "              precision    recall  f1-score   support\n",
      "\n",
      "         hem       0.58      0.66      0.62       339\n",
      "         all       0.92      0.89      0.90      1455\n",
      "\n",
      "    accuracy                           0.85      1794\n",
      "   macro avg       0.75      0.77      0.76      1794\n",
      "weighted avg       0.85      0.85      0.85      1794\n",
      "\n"
     ]
    }
   ],
   "source": [
    "print(classification_report(y_test, y_pred_svm, target_names=target_names))"
   ]
  },
  {
   "cell_type": "markdown",
   "id": "iwGx-90gxBhX",
   "metadata": {
    "id": "iwGx-90gxBhX"
   },
   "source": [
    "## ================================================="
   ]
  },
  {
   "cell_type": "markdown",
   "id": "jVE3h2VFnz86",
   "metadata": {
    "id": "jVE3h2VFnz86"
   },
   "source": [
    "# KNN - Optuna"
   ]
  },
  {
   "cell_type": "markdown",
   "id": "8EhfKG6tnz86",
   "metadata": {
    "id": "8EhfKG6tnz86"
   },
   "source": [
    "## Optuna Objective Function"
   ]
  },
  {
   "cell_type": "code",
   "execution_count": 77,
   "id": "mEXH_AhOnz86",
   "metadata": {
    "executionInfo": {
     "elapsed": 176,
     "status": "ok",
     "timestamp": 1682618132018,
     "user": {
      "displayName": "Damir Zunic",
      "userId": "07104666280721646256"
     },
     "user_tz": 240
    },
    "id": "mEXH_AhOnz86"
   },
   "outputs": [],
   "source": [
    "def objective(trial):\n",
    "    \"\"\"Define the objective function\"\"\"\n",
    "\n",
    "    params = {\n",
    "        'n_neighbors' : trial.suggest_int('n_neighbors', 1, 16),\n",
    "        'metric' : trial.suggest_categorical('metric', ['minkowski','euclidean','manhattan']),\n",
    "        'weights' : trial.suggest_categorical('weights', ['uniform','distance'])\n",
    "    }\n",
    "\n",
    "    # Fit the model\n",
    "    model = KNeighborsClassifier(**params)\n",
    "    model.fit(X_train, y_train)\n",
    "\n",
    "    # Make predictions\n",
    "    y_pred = model.predict(X_test)\n",
    "\n",
    "    # Evaluate predictions\n",
    "    f1 = f1_score(y_test, y_pred, average='macro')\n",
    "    return f1"
   ]
  },
  {
   "cell_type": "markdown",
   "id": "6yFIXTAmnz86",
   "metadata": {
    "id": "6yFIXTAmnz86"
   },
   "source": [
    "## Optuna Study"
   ]
  },
  {
   "cell_type": "code",
   "execution_count": 80,
   "id": "_4ll_hyLnz87",
   "metadata": {
    "colab": {
     "base_uri": "https://localhost:8080/"
    },
    "executionInfo": {
     "elapsed": 345,
     "status": "ok",
     "timestamp": 1682618516380,
     "user": {
      "displayName": "Damir Zunic",
      "userId": "07104666280721646256"
     },
     "user_tz": 240
    },
    "id": "_4ll_hyLnz87",
    "outputId": "cc681cd4-e445-43bc-e33b-f49cfb5fcfb2"
   },
   "outputs": [
    {
     "name": "stderr",
     "output_type": "stream",
     "text": [
      "\u001b[32m[I 2023-04-27 18:01:55,934]\u001b[0m A new study created in memory with name: no-name-fbd37627-87c0-43f8-8f35-c66a5c449b07\u001b[0m\n"
     ]
    }
   ],
   "source": [
    "study = optuna.create_study(direction='maximize')"
   ]
  },
  {
   "cell_type": "markdown",
   "id": "KrOqonYXnz87",
   "metadata": {
    "id": "KrOqonYXnz87"
   },
   "source": [
    "## Optimize the Objective Function"
   ]
  },
  {
   "cell_type": "code",
   "execution_count": 81,
   "id": "bnTuDZFhnz87",
   "metadata": {
    "colab": {
     "base_uri": "https://localhost:8080/"
    },
    "executionInfo": {
     "elapsed": 1098558,
     "status": "ok",
     "timestamp": 1682619623631,
     "user": {
      "displayName": "Damir Zunic",
      "userId": "07104666280721646256"
     },
     "user_tz": 240
    },
    "id": "bnTuDZFhnz87",
    "outputId": "7e68b1fc-1f45-47ad-db36-8216fc04f096",
    "scrolled": true,
    "tags": []
   },
   "outputs": [
    {
     "name": "stderr",
     "output_type": "stream",
     "text": [
      "\u001b[32m[I 2023-04-27 18:02:18,172]\u001b[0m Trial 3 finished with value: 0.681771879785874 and parameters: {'n_neighbors': 8, 'metric': 'euclidean', 'weights': 'distance'}. Best is trial 3 with value: 0.681771879785874.\u001b[0m\n",
      "\u001b[32m[I 2023-04-27 18:02:18,233]\u001b[0m Trial 1 finished with value: 0.6525931916818685 and parameters: {'n_neighbors': 1, 'metric': 'euclidean', 'weights': 'uniform'}. Best is trial 3 with value: 0.681771879785874.\u001b[0m\n",
      "\u001b[32m[I 2023-04-27 18:02:18,345]\u001b[0m Trial 2 finished with value: 0.6451137053274926 and parameters: {'n_neighbors': 13, 'metric': 'euclidean', 'weights': 'uniform'}. Best is trial 3 with value: 0.681771879785874.\u001b[0m\n",
      "\u001b[32m[I 2023-04-27 18:02:18,445]\u001b[0m Trial 0 finished with value: 0.6587379577323844 and parameters: {'n_neighbors': 15, 'metric': 'euclidean', 'weights': 'uniform'}. Best is trial 3 with value: 0.681771879785874.\u001b[0m\n",
      "\u001b[32m[I 2023-04-27 18:02:32,867]\u001b[0m Trial 5 finished with value: 0.6852223400440942 and parameters: {'n_neighbors': 15, 'metric': 'euclidean', 'weights': 'distance'}. Best is trial 5 with value: 0.6852223400440942.\u001b[0m\n",
      "\u001b[32m[I 2023-04-27 18:02:33,121]\u001b[0m Trial 7 finished with value: 0.5465323437780749 and parameters: {'n_neighbors': 2, 'metric': 'minkowski', 'weights': 'uniform'}. Best is trial 5 with value: 0.6852223400440942.\u001b[0m\n",
      "\u001b[32m[I 2023-04-27 18:04:47,467]\u001b[0m Trial 4 finished with value: 0.6747761684561328 and parameters: {'n_neighbors': 4, 'metric': 'manhattan', 'weights': 'distance'}. Best is trial 5 with value: 0.6852223400440942.\u001b[0m\n",
      "\u001b[32m[I 2023-04-27 18:04:49,496]\u001b[0m Trial 6 finished with value: 0.544005728093548 and parameters: {'n_neighbors': 2, 'metric': 'manhattan', 'weights': 'uniform'}. Best is trial 5 with value: 0.6852223400440942.\u001b[0m\n",
      "\u001b[32m[I 2023-04-27 18:05:00,255]\u001b[0m Trial 10 finished with value: 0.6825235130837848 and parameters: {'n_neighbors': 16, 'metric': 'minkowski', 'weights': 'distance'}. Best is trial 5 with value: 0.6852223400440942.\u001b[0m\n",
      "\u001b[32m[I 2023-04-27 18:05:01,000]\u001b[0m Trial 9 finished with value: 0.6883779582978973 and parameters: {'n_neighbors': 16, 'metric': 'manhattan', 'weights': 'distance'}. Best is trial 9 with value: 0.6883779582978973.\u001b[0m\n",
      "\u001b[32m[I 2023-04-27 18:05:02,132]\u001b[0m Trial 8 finished with value: 0.5914597374475572 and parameters: {'n_neighbors': 4, 'metric': 'manhattan', 'weights': 'uniform'}. Best is trial 9 with value: 0.6883779582978973.\u001b[0m\n",
      "\u001b[32m[I 2023-04-27 18:07:25,229]\u001b[0m Trial 11 finished with value: 0.5914597374475572 and parameters: {'n_neighbors': 4, 'metric': 'manhattan', 'weights': 'uniform'}. Best is trial 9 with value: 0.6883779582978973.\u001b[0m\n",
      "\u001b[32m[I 2023-04-27 18:07:38,000]\u001b[0m Trial 13 finished with value: 0.6827804433438236 and parameters: {'n_neighbors': 11, 'metric': 'manhattan', 'weights': 'distance'}. Best is trial 9 with value: 0.6883779582978973.\u001b[0m\n",
      "\u001b[32m[I 2023-04-27 18:07:38,102]\u001b[0m Trial 12 finished with value: 0.6755827557883407 and parameters: {'n_neighbors': 9, 'metric': 'manhattan', 'weights': 'distance'}. Best is trial 9 with value: 0.6883779582978973.\u001b[0m\n",
      "\u001b[32m[I 2023-04-27 18:07:41,347]\u001b[0m Trial 14 finished with value: 0.6805741365905511 and parameters: {'n_neighbors': 12, 'metric': 'manhattan', 'weights': 'distance'}. Best is trial 9 with value: 0.6883779582978973.\u001b[0m\n",
      "\u001b[32m[I 2023-04-27 18:07:50,890]\u001b[0m Trial 16 finished with value: 0.6874462797875653 and parameters: {'n_neighbors': 12, 'metric': 'euclidean', 'weights': 'distance'}. Best is trial 9 with value: 0.6883779582978973.\u001b[0m\n",
      "\u001b[32m[I 2023-04-27 18:07:51,133]\u001b[0m Trial 17 finished with value: 0.6836918022688774 and parameters: {'n_neighbors': 14, 'metric': 'euclidean', 'weights': 'distance'}. Best is trial 9 with value: 0.6883779582978973.\u001b[0m\n",
      "\u001b[32m[I 2023-04-27 18:07:54,223]\u001b[0m Trial 18 finished with value: 0.6836918022688774 and parameters: {'n_neighbors': 14, 'metric': 'euclidean', 'weights': 'distance'}. Best is trial 9 with value: 0.6883779582978973.\u001b[0m\n",
      "\u001b[32m[I 2023-04-27 18:08:04,384]\u001b[0m Trial 19 finished with value: 0.6799229102714015 and parameters: {'n_neighbors': 13, 'metric': 'minkowski', 'weights': 'distance'}. Best is trial 9 with value: 0.6883779582978973.\u001b[0m\n",
      "\u001b[32m[I 2023-04-27 18:08:04,814]\u001b[0m Trial 20 finished with value: 0.6822624418440716 and parameters: {'n_neighbors': 10, 'metric': 'minkowski', 'weights': 'distance'}. Best is trial 9 with value: 0.6883779582978973.\u001b[0m\n",
      "\u001b[32m[I 2023-04-27 18:08:07,414]\u001b[0m Trial 21 finished with value: 0.6822624418440716 and parameters: {'n_neighbors': 10, 'metric': 'minkowski', 'weights': 'distance'}. Best is trial 9 with value: 0.6883779582978973.\u001b[0m\n",
      "\u001b[32m[I 2023-04-27 18:08:18,386]\u001b[0m Trial 22 finished with value: 0.6822624418440716 and parameters: {'n_neighbors': 10, 'metric': 'minkowski', 'weights': 'distance'}. Best is trial 9 with value: 0.6883779582978973.\u001b[0m\n",
      "\u001b[32m[I 2023-04-27 18:08:22,450]\u001b[0m Trial 24 finished with value: 0.6825235130837848 and parameters: {'n_neighbors': 16, 'metric': 'euclidean', 'weights': 'distance'}. Best is trial 9 with value: 0.6883779582978973.\u001b[0m\n",
      "\u001b[32m[I 2023-04-27 18:08:32,233]\u001b[0m Trial 25 finished with value: 0.6825235130837848 and parameters: {'n_neighbors': 16, 'metric': 'euclidean', 'weights': 'distance'}. Best is trial 9 with value: 0.6883779582978973.\u001b[0m\n",
      "\u001b[32m[I 2023-04-27 18:08:36,431]\u001b[0m Trial 26 finished with value: 0.6852223400440942 and parameters: {'n_neighbors': 15, 'metric': 'euclidean', 'weights': 'distance'}. Best is trial 9 with value: 0.6883779582978973.\u001b[0m\n",
      "\u001b[32m[I 2023-04-27 18:08:46,622]\u001b[0m Trial 27 finished with value: 0.6745638399916476 and parameters: {'n_neighbors': 7, 'metric': 'euclidean', 'weights': 'distance'}. Best is trial 9 with value: 0.6883779582978973.\u001b[0m\n",
      "\u001b[32m[I 2023-04-27 18:08:50,637]\u001b[0m Trial 28 finished with value: 0.6745638399916476 and parameters: {'n_neighbors': 7, 'metric': 'euclidean', 'weights': 'distance'}. Best is trial 9 with value: 0.6883779582978973.\u001b[0m\n",
      "\u001b[32m[I 2023-04-27 18:09:00,709]\u001b[0m Trial 29 finished with value: 0.6874462797875653 and parameters: {'n_neighbors': 12, 'metric': 'euclidean', 'weights': 'distance'}. Best is trial 9 with value: 0.6883779582978973.\u001b[0m\n",
      "\u001b[32m[I 2023-04-27 18:09:58,935]\u001b[0m Trial 15 finished with value: 0.6805741365905511 and parameters: {'n_neighbors': 12, 'metric': 'manhattan', 'weights': 'distance'}. Best is trial 9 with value: 0.6883779582978973.\u001b[0m\n",
      "\u001b[32m[I 2023-04-27 18:10:12,858]\u001b[0m Trial 32 finished with value: 0.6874462797875653 and parameters: {'n_neighbors': 12, 'metric': 'euclidean', 'weights': 'distance'}. Best is trial 9 with value: 0.6883779582978973.\u001b[0m\n",
      "\u001b[32m[I 2023-04-27 18:10:38,874]\u001b[0m Trial 23 finished with value: 0.6883779582978973 and parameters: {'n_neighbors': 16, 'metric': 'manhattan', 'weights': 'distance'}. Best is trial 9 with value: 0.6883779582978973.\u001b[0m\n",
      "\u001b[32m[I 2023-04-27 18:11:22,656]\u001b[0m Trial 30 finished with value: 0.6805741365905511 and parameters: {'n_neighbors': 12, 'metric': 'manhattan', 'weights': 'distance'}. Best is trial 9 with value: 0.6883779582978973.\u001b[0m\n",
      "\u001b[32m[I 2023-04-27 18:11:33,351]\u001b[0m Trial 31 finished with value: 0.6805741365905511 and parameters: {'n_neighbors': 12, 'metric': 'manhattan', 'weights': 'distance'}. Best is trial 9 with value: 0.6883779582978973.\u001b[0m\n",
      "\u001b[32m[I 2023-04-27 18:12:40,021]\u001b[0m Trial 33 finished with value: 0.6863986520838123 and parameters: {'n_neighbors': 14, 'metric': 'manhattan', 'weights': 'distance'}. Best is trial 9 with value: 0.6883779582978973.\u001b[0m\n",
      "\u001b[32m[I 2023-04-27 18:12:53,480]\u001b[0m Trial 37 finished with value: 0.636971123581266 and parameters: {'n_neighbors': 14, 'metric': 'euclidean', 'weights': 'uniform'}. Best is trial 9 with value: 0.6883779582978973.\u001b[0m\n",
      "\u001b[32m[I 2023-04-27 18:13:06,183]\u001b[0m Trial 34 finished with value: 0.6863986520838123 and parameters: {'n_neighbors': 14, 'metric': 'manhattan', 'weights': 'distance'}. Best is trial 9 with value: 0.6883779582978973.\u001b[0m\n",
      "\u001b[32m[I 2023-04-27 18:13:19,166]\u001b[0m Trial 39 finished with value: 0.6852223400440942 and parameters: {'n_neighbors': 15, 'metric': 'euclidean', 'weights': 'distance'}. Best is trial 9 with value: 0.6883779582978973.\u001b[0m\n",
      "\u001b[32m[I 2023-04-27 18:13:52,159]\u001b[0m Trial 35 finished with value: 0.6863986520838123 and parameters: {'n_neighbors': 14, 'metric': 'manhattan', 'weights': 'distance'}. Best is trial 9 with value: 0.6883779582978973.\u001b[0m\n",
      "\u001b[32m[I 2023-04-27 18:14:04,806]\u001b[0m Trial 41 finished with value: 0.6193979523505696 and parameters: {'n_neighbors': 8, 'metric': 'euclidean', 'weights': 'uniform'}. Best is trial 9 with value: 0.6883779582978973.\u001b[0m\n",
      "\u001b[32m[I 2023-04-27 18:14:05,214]\u001b[0m Trial 36 finished with value: 0.6863986520838123 and parameters: {'n_neighbors': 14, 'metric': 'manhattan', 'weights': 'distance'}. Best is trial 9 with value: 0.6883779582978973.\u001b[0m\n",
      "\u001b[32m[I 2023-04-27 18:14:19,205]\u001b[0m Trial 43 finished with value: 0.6452698608438665 and parameters: {'n_neighbors': 16, 'metric': 'euclidean', 'weights': 'uniform'}. Best is trial 9 with value: 0.6883779582978973.\u001b[0m\n",
      "\u001b[32m[I 2023-04-27 18:14:31,736]\u001b[0m Trial 44 finished with value: 0.6799229102714015 and parameters: {'n_neighbors': 13, 'metric': 'euclidean', 'weights': 'distance'}. Best is trial 9 with value: 0.6883779582978973.\u001b[0m\n",
      "\u001b[32m[I 2023-04-27 18:14:45,233]\u001b[0m Trial 45 finished with value: 0.6749159501981834 and parameters: {'n_neighbors': 11, 'metric': 'euclidean', 'weights': 'distance'}. Best is trial 9 with value: 0.6883779582978973.\u001b[0m\n",
      "\u001b[32m[I 2023-04-27 18:14:58,898]\u001b[0m Trial 46 finished with value: 0.6749159501981834 and parameters: {'n_neighbors': 11, 'metric': 'euclidean', 'weights': 'distance'}. Best is trial 9 with value: 0.6883779582978973.\u001b[0m\n",
      "\u001b[32m[I 2023-04-27 18:15:13,355]\u001b[0m Trial 47 finished with value: 0.6799229102714015 and parameters: {'n_neighbors': 13, 'metric': 'euclidean', 'weights': 'distance'}. Best is trial 9 with value: 0.6883779582978973.\u001b[0m\n",
      "\u001b[32m[I 2023-04-27 18:15:25,251]\u001b[0m Trial 38 finished with value: 0.6804417527609548 and parameters: {'n_neighbors': 15, 'metric': 'manhattan', 'weights': 'distance'}. Best is trial 9 with value: 0.6883779582978973.\u001b[0m\n",
      "\u001b[32m[I 2023-04-27 18:15:37,739]\u001b[0m Trial 49 finished with value: 0.6435990338164251 and parameters: {'n_neighbors': 9, 'metric': 'euclidean', 'weights': 'uniform'}. Best is trial 9 with value: 0.6883779582978973.\u001b[0m\n",
      "\u001b[32m[I 2023-04-27 18:15:51,922]\u001b[0m Trial 40 finished with value: 0.6430958747135218 and parameters: {'n_neighbors': 13, 'metric': 'manhattan', 'weights': 'uniform'}. Best is trial 9 with value: 0.6883779582978973.\u001b[0m\n",
      "\u001b[32m[I 2023-04-27 18:16:05,995]\u001b[0m Trial 51 finished with value: 0.6917231503579953 and parameters: {'n_neighbors': 6, 'metric': 'euclidean', 'weights': 'distance'}. Best is trial 51 with value: 0.6917231503579953.\u001b[0m\n",
      "\u001b[32m[I 2023-04-27 18:16:39,869]\u001b[0m Trial 42 finished with value: 0.6706310186860618 and parameters: {'n_neighbors': 13, 'metric': 'manhattan', 'weights': 'distance'}. Best is trial 51 with value: 0.6917231503579953.\u001b[0m\n",
      "\u001b[32m[I 2023-04-27 18:16:52,446]\u001b[0m Trial 53 finished with value: 0.6917231503579953 and parameters: {'n_neighbors': 6, 'metric': 'euclidean', 'weights': 'distance'}. Best is trial 51 with value: 0.6917231503579953.\u001b[0m\n",
      "\u001b[32m[I 2023-04-27 18:17:06,099]\u001b[0m Trial 54 finished with value: 0.6917231503579953 and parameters: {'n_neighbors': 6, 'metric': 'euclidean', 'weights': 'distance'}. Best is trial 51 with value: 0.6917231503579953.\u001b[0m\n",
      "\u001b[32m[I 2023-04-27 18:17:19,661]\u001b[0m Trial 55 finished with value: 0.6917231503579953 and parameters: {'n_neighbors': 6, 'metric': 'euclidean', 'weights': 'distance'}. Best is trial 51 with value: 0.6917231503579953.\u001b[0m\n",
      "\u001b[32m[I 2023-04-27 18:17:32,566]\u001b[0m Trial 56 finished with value: 0.6813843587842846 and parameters: {'n_neighbors': 5, 'metric': 'euclidean', 'weights': 'distance'}. Best is trial 51 with value: 0.6917231503579953.\u001b[0m\n",
      "\u001b[32m[I 2023-04-27 18:17:45,901]\u001b[0m Trial 57 finished with value: 0.6813843587842846 and parameters: {'n_neighbors': 5, 'metric': 'euclidean', 'weights': 'distance'}. Best is trial 51 with value: 0.6917231503579953.\u001b[0m\n",
      "\u001b[32m[I 2023-04-27 18:17:46,784]\u001b[0m Trial 48 finished with value: 0.6755827557883407 and parameters: {'n_neighbors': 9, 'metric': 'manhattan', 'weights': 'distance'}. Best is trial 51 with value: 0.6917231503579953.\u001b[0m\n",
      "\u001b[32m[I 2023-04-27 18:17:58,898]\u001b[0m Trial 58 finished with value: 0.6917231503579953 and parameters: {'n_neighbors': 6, 'metric': 'minkowski', 'weights': 'distance'}. Best is trial 51 with value: 0.6917231503579953.\u001b[0m\n",
      "\u001b[32m[I 2023-04-27 18:17:59,941]\u001b[0m Trial 59 finished with value: 0.6917231503579953 and parameters: {'n_neighbors': 6, 'metric': 'minkowski', 'weights': 'distance'}. Best is trial 51 with value: 0.6917231503579953.\u001b[0m\n",
      "\u001b[32m[I 2023-04-27 18:18:11,971]\u001b[0m Trial 60 finished with value: 0.6917231503579953 and parameters: {'n_neighbors': 6, 'metric': 'minkowski', 'weights': 'distance'}. Best is trial 51 with value: 0.6917231503579953.\u001b[0m\n",
      "\u001b[32m[I 2023-04-27 18:18:12,198]\u001b[0m Trial 50 finished with value: 0.6706310186860618 and parameters: {'n_neighbors': 13, 'metric': 'manhattan', 'weights': 'distance'}. Best is trial 51 with value: 0.6917231503579953.\u001b[0m\n",
      "\u001b[32m[I 2023-04-27 18:18:12,250]\u001b[0m Trial 61 finished with value: 0.6917231503579953 and parameters: {'n_neighbors': 6, 'metric': 'minkowski', 'weights': 'distance'}. Best is trial 51 with value: 0.6917231503579953.\u001b[0m\n",
      "\u001b[32m[I 2023-04-27 18:18:25,371]\u001b[0m Trial 62 finished with value: 0.6917231503579953 and parameters: {'n_neighbors': 6, 'metric': 'minkowski', 'weights': 'distance'}. Best is trial 51 with value: 0.6917231503579953.\u001b[0m\n",
      "\u001b[32m[I 2023-04-27 18:18:25,833]\u001b[0m Trial 64 finished with value: 0.6917231503579953 and parameters: {'n_neighbors': 6, 'metric': 'minkowski', 'weights': 'distance'}. Best is trial 51 with value: 0.6917231503579953.\u001b[0m\n",
      "\u001b[32m[I 2023-04-27 18:18:26,071]\u001b[0m Trial 63 finished with value: 0.6618090433440823 and parameters: {'n_neighbors': 3, 'metric': 'minkowski', 'weights': 'distance'}. Best is trial 51 with value: 0.6917231503579953.\u001b[0m\n",
      "\u001b[32m[I 2023-04-27 18:18:35,132]\u001b[0m Trial 52 finished with value: 0.6598431273299077 and parameters: {'n_neighbors': 3, 'metric': 'manhattan', 'weights': 'distance'}. Best is trial 51 with value: 0.6917231503579953.\u001b[0m\n",
      "\u001b[32m[I 2023-04-27 18:18:37,882]\u001b[0m Trial 65 finished with value: 0.6618090433440823 and parameters: {'n_neighbors': 3, 'metric': 'minkowski', 'weights': 'distance'}. Best is trial 51 with value: 0.6917231503579953.\u001b[0m\n",
      "\u001b[32m[I 2023-04-27 18:18:38,541]\u001b[0m Trial 66 finished with value: 0.6618090433440823 and parameters: {'n_neighbors': 3, 'metric': 'minkowski', 'weights': 'distance'}. Best is trial 51 with value: 0.6917231503579953.\u001b[0m\n",
      "\u001b[32m[I 2023-04-27 18:18:39,294]\u001b[0m Trial 67 finished with value: 0.6745638399916476 and parameters: {'n_neighbors': 7, 'metric': 'minkowski', 'weights': 'distance'}. Best is trial 51 with value: 0.6917231503579953.\u001b[0m\n",
      "\u001b[32m[I 2023-04-27 18:18:48,520]\u001b[0m Trial 68 finished with value: 0.6813843587842846 and parameters: {'n_neighbors': 5, 'metric': 'minkowski', 'weights': 'distance'}. Best is trial 51 with value: 0.6917231503579953.\u001b[0m\n",
      "\u001b[32m[I 2023-04-27 18:18:50,233]\u001b[0m Trial 69 finished with value: 0.6745638399916476 and parameters: {'n_neighbors': 7, 'metric': 'minkowski', 'weights': 'distance'}. Best is trial 51 with value: 0.6917231503579953.\u001b[0m\n",
      "\u001b[32m[I 2023-04-27 18:18:51,944]\u001b[0m Trial 70 finished with value: 0.6745638399916476 and parameters: {'n_neighbors': 7, 'metric': 'minkowski', 'weights': 'distance'}. Best is trial 51 with value: 0.6917231503579953.\u001b[0m\n",
      "\u001b[32m[I 2023-04-27 18:18:52,900]\u001b[0m Trial 71 finished with value: 0.6813843587842846 and parameters: {'n_neighbors': 5, 'metric': 'minkowski', 'weights': 'distance'}. Best is trial 51 with value: 0.6917231503579953.\u001b[0m\n",
      "\u001b[32m[I 2023-04-27 18:19:01,792]\u001b[0m Trial 72 finished with value: 0.681771879785874 and parameters: {'n_neighbors': 8, 'metric': 'minkowski', 'weights': 'distance'}. Best is trial 51 with value: 0.6917231503579953.\u001b[0m\n",
      "\u001b[32m[I 2023-04-27 18:19:03,696]\u001b[0m Trial 73 finished with value: 0.6917231503579953 and parameters: {'n_neighbors': 6, 'metric': 'minkowski', 'weights': 'distance'}. Best is trial 51 with value: 0.6917231503579953.\u001b[0m\n",
      "\u001b[32m[I 2023-04-27 18:19:04,869]\u001b[0m Trial 74 finished with value: 0.6917231503579953 and parameters: {'n_neighbors': 6, 'metric': 'minkowski', 'weights': 'distance'}. Best is trial 51 with value: 0.6917231503579953.\u001b[0m\n",
      "\u001b[32m[I 2023-04-27 18:19:06,049]\u001b[0m Trial 75 finished with value: 0.6917231503579953 and parameters: {'n_neighbors': 6, 'metric': 'minkowski', 'weights': 'distance'}. Best is trial 51 with value: 0.6917231503579953.\u001b[0m\n",
      "\u001b[32m[I 2023-04-27 18:19:14,680]\u001b[0m Trial 76 finished with value: 0.6917231503579953 and parameters: {'n_neighbors': 6, 'metric': 'minkowski', 'weights': 'distance'}. Best is trial 51 with value: 0.6917231503579953.\u001b[0m\n",
      "\u001b[32m[I 2023-04-27 18:19:16,515]\u001b[0m Trial 77 finished with value: 0.6917231503579953 and parameters: {'n_neighbors': 6, 'metric': 'minkowski', 'weights': 'distance'}. Best is trial 51 with value: 0.6917231503579953.\u001b[0m\n",
      "\u001b[32m[I 2023-04-27 18:19:18,140]\u001b[0m Trial 78 finished with value: 0.6752900077841697 and parameters: {'n_neighbors': 4, 'metric': 'minkowski', 'weights': 'distance'}. Best is trial 51 with value: 0.6917231503579953.\u001b[0m\n",
      "\u001b[32m[I 2023-04-27 18:19:19,071]\u001b[0m Trial 79 finished with value: 0.6752900077841697 and parameters: {'n_neighbors': 4, 'metric': 'minkowski', 'weights': 'distance'}. Best is trial 51 with value: 0.6917231503579953.\u001b[0m\n",
      "\u001b[32m[I 2023-04-27 18:19:27,646]\u001b[0m Trial 80 finished with value: 0.6752900077841697 and parameters: {'n_neighbors': 4, 'metric': 'euclidean', 'weights': 'distance'}. Best is trial 51 with value: 0.6917231503579953.\u001b[0m\n",
      "\u001b[32m[I 2023-04-27 18:19:29,417]\u001b[0m Trial 81 finished with value: 0.5927546352686426 and parameters: {'n_neighbors': 4, 'metric': 'euclidean', 'weights': 'uniform'}. Best is trial 51 with value: 0.6917231503579953.\u001b[0m\n",
      "\u001b[32m[I 2023-04-27 18:19:31,833]\u001b[0m Trial 82 finished with value: 0.6193979523505696 and parameters: {'n_neighbors': 8, 'metric': 'euclidean', 'weights': 'uniform'}. Best is trial 51 with value: 0.6917231503579953.\u001b[0m\n",
      "\u001b[32m[I 2023-04-27 18:19:32,379]\u001b[0m Trial 83 finished with value: 0.6193979523505696 and parameters: {'n_neighbors': 8, 'metric': 'euclidean', 'weights': 'uniform'}. Best is trial 51 with value: 0.6917231503579953.\u001b[0m\n",
      "\u001b[32m[I 2023-04-27 18:19:40,974]\u001b[0m Trial 84 finished with value: 0.6813843587842846 and parameters: {'n_neighbors': 5, 'metric': 'minkowski', 'weights': 'distance'}. Best is trial 51 with value: 0.6917231503579953.\u001b[0m\n",
      "\u001b[32m[I 2023-04-27 18:19:41,140]\u001b[0m Trial 85 finished with value: 0.6813843587842846 and parameters: {'n_neighbors': 5, 'metric': 'minkowski', 'weights': 'distance'}. Best is trial 51 with value: 0.6917231503579953.\u001b[0m\n",
      "\u001b[32m[I 2023-04-27 18:19:45,121]\u001b[0m Trial 86 finished with value: 0.6813843587842846 and parameters: {'n_neighbors': 5, 'metric': 'minkowski', 'weights': 'distance'}. Best is trial 51 with value: 0.6917231503579953.\u001b[0m\n",
      "\u001b[32m[I 2023-04-27 18:19:45,887]\u001b[0m Trial 87 finished with value: 0.6813843587842846 and parameters: {'n_neighbors': 5, 'metric': 'minkowski', 'weights': 'distance'}. Best is trial 51 with value: 0.6917231503579953.\u001b[0m\n",
      "\u001b[32m[I 2023-04-27 18:19:55,335]\u001b[0m Trial 89 finished with value: 0.6745638399916476 and parameters: {'n_neighbors': 7, 'metric': 'minkowski', 'weights': 'distance'}. Best is trial 51 with value: 0.6917231503579953.\u001b[0m\n",
      "\u001b[32m[I 2023-04-27 18:19:55,871]\u001b[0m Trial 88 finished with value: 0.6745638399916476 and parameters: {'n_neighbors': 7, 'metric': 'minkowski', 'weights': 'distance'}. Best is trial 51 with value: 0.6917231503579953.\u001b[0m\n",
      "\u001b[32m[I 2023-04-27 18:19:59,435]\u001b[0m Trial 90 finished with value: 0.6745638399916476 and parameters: {'n_neighbors': 7, 'metric': 'minkowski', 'weights': 'distance'}. Best is trial 51 with value: 0.6917231503579953.\u001b[0m\n",
      "\u001b[32m[I 2023-04-27 18:20:00,231]\u001b[0m Trial 91 finished with value: 0.6745638399916476 and parameters: {'n_neighbors': 7, 'metric': 'euclidean', 'weights': 'distance'}. Best is trial 51 with value: 0.6917231503579953.\u001b[0m\n",
      "\u001b[32m[I 2023-04-27 18:20:08,577]\u001b[0m Trial 92 finished with value: 0.6917231503579953 and parameters: {'n_neighbors': 6, 'metric': 'euclidean', 'weights': 'distance'}. Best is trial 51 with value: 0.6917231503579953.\u001b[0m\n",
      "\u001b[32m[I 2023-04-27 18:20:09,158]\u001b[0m Trial 93 finished with value: 0.6917231503579953 and parameters: {'n_neighbors': 6, 'metric': 'euclidean', 'weights': 'distance'}. Best is trial 51 with value: 0.6917231503579953.\u001b[0m\n",
      "\u001b[32m[I 2023-04-27 18:20:11,976]\u001b[0m Trial 94 finished with value: 0.6917231503579953 and parameters: {'n_neighbors': 6, 'metric': 'euclidean', 'weights': 'distance'}. Best is trial 51 with value: 0.6917231503579953.\u001b[0m\n",
      "\u001b[32m[I 2023-04-27 18:20:12,871]\u001b[0m Trial 95 finished with value: 0.6917231503579953 and parameters: {'n_neighbors': 6, 'metric': 'minkowski', 'weights': 'distance'}. Best is trial 51 with value: 0.6917231503579953.\u001b[0m\n",
      "\u001b[32m[I 2023-04-27 18:20:21,636]\u001b[0m Trial 96 finished with value: 0.6917231503579953 and parameters: {'n_neighbors': 6, 'metric': 'minkowski', 'weights': 'distance'}. Best is trial 51 with value: 0.6917231503579953.\u001b[0m\n",
      "\u001b[32m[I 2023-04-27 18:20:22,402]\u001b[0m Trial 97 finished with value: 0.6917231503579953 and parameters: {'n_neighbors': 6, 'metric': 'minkowski', 'weights': 'distance'}. Best is trial 51 with value: 0.6917231503579953.\u001b[0m\n",
      "\u001b[32m[I 2023-04-27 18:20:22,943]\u001b[0m Trial 98 finished with value: 0.6917231503579953 and parameters: {'n_neighbors': 6, 'metric': 'minkowski', 'weights': 'distance'}. Best is trial 51 with value: 0.6917231503579953.\u001b[0m\n",
      "\u001b[32m[I 2023-04-27 18:20:23,396]\u001b[0m Trial 99 finished with value: 0.6917231503579953 and parameters: {'n_neighbors': 6, 'metric': 'minkowski', 'weights': 'distance'}. Best is trial 51 with value: 0.6917231503579953.\u001b[0m\n"
     ]
    }
   ],
   "source": [
    "study.optimize(objective, n_jobs=-1, n_trials=100)"
   ]
  },
  {
   "cell_type": "markdown",
   "id": "FMTNdfhbnz87",
   "metadata": {
    "id": "FMTNdfhbnz87"
   },
   "source": [
    "## Best Parameters"
   ]
  },
  {
   "cell_type": "code",
   "execution_count": 82,
   "id": "rmWtKn9JomIF",
   "metadata": {
    "colab": {
     "base_uri": "https://localhost:8080/"
    },
    "executionInfo": {
     "elapsed": 277,
     "status": "ok",
     "timestamp": 1682619651863,
     "user": {
      "displayName": "Damir Zunic",
      "userId": "07104666280721646256"
     },
     "user_tz": 240
    },
    "id": "rmWtKn9JomIF",
    "outputId": "ead76264-9d24-4ceb-ceee-56136c59868d"
   },
   "outputs": [
    {
     "name": "stdout",
     "output_type": "stream",
     "text": [
      "Number of finished trials: 100\n",
      "Best trial:\n",
      "  Value: 0.6917231503579953\n",
      "  Params: \n",
      "    n_neighbors: 6\n",
      "    metric: euclidean\n",
      "    weights: distance\n"
     ]
    }
   ],
   "source": [
    "print(f'Number of finished trials: {len(study.trials)}')\n",
    "print('Best trial:')\n",
    "trial = study.best_trial\n",
    "\n",
    "print(f'  Value: {trial.value}')\n",
    "print('  Params: ')\n",
    "\n",
    "for key, value in trial.params.items():\n",
    "    print(f'    {key}: {value}')"
   ]
  },
  {
   "cell_type": "markdown",
   "id": "RvA6FlqCnz87",
   "metadata": {
    "id": "RvA6FlqCnz87"
   },
   "source": [
    "## Re-fit the model"
   ]
  },
  {
   "cell_type": "code",
   "execution_count": 83,
   "id": "ogemGWHmo5hC",
   "metadata": {
    "colab": {
     "base_uri": "https://localhost:8080/"
    },
    "executionInfo": {
     "elapsed": 233,
     "status": "ok",
     "timestamp": 1682619661730,
     "user": {
      "displayName": "Damir Zunic",
      "userId": "07104666280721646256"
     },
     "user_tz": 240
    },
    "id": "ogemGWHmo5hC",
    "outputId": "59f2f36a-1756-4c35-f91d-ad4d040278d1"
   },
   "outputs": [
    {
     "data": {
      "text/plain": [
       "{'n_neighbors': 6, 'metric': 'euclidean', 'weights': 'distance'}"
      ]
     },
     "execution_count": 83,
     "metadata": {},
     "output_type": "execute_result"
    }
   ],
   "source": [
    "params_knn = trial.params\n",
    "params_knn"
   ]
  },
  {
   "cell_type": "code",
   "execution_count": 84,
   "id": "2HNgVRKdnz88",
   "metadata": {
    "colab": {
     "base_uri": "https://localhost:8080/",
     "height": 75
    },
    "executionInfo": {
     "elapsed": 155,
     "status": "ok",
     "timestamp": 1682619687255,
     "user": {
      "displayName": "Damir Zunic",
      "userId": "07104666280721646256"
     },
     "user_tz": 240
    },
    "id": "2HNgVRKdnz88",
    "outputId": "2a792a19-fc10-4034-bb7e-d2b8f4b70e94"
   },
   "outputs": [
    {
     "data": {
      "text/html": [
       "<style>#sk-container-id-4 {color: black;background-color: white;}#sk-container-id-4 pre{padding: 0;}#sk-container-id-4 div.sk-toggleable {background-color: white;}#sk-container-id-4 label.sk-toggleable__label {cursor: pointer;display: block;width: 100%;margin-bottom: 0;padding: 0.3em;box-sizing: border-box;text-align: center;}#sk-container-id-4 label.sk-toggleable__label-arrow:before {content: \"▸\";float: left;margin-right: 0.25em;color: #696969;}#sk-container-id-4 label.sk-toggleable__label-arrow:hover:before {color: black;}#sk-container-id-4 div.sk-estimator:hover label.sk-toggleable__label-arrow:before {color: black;}#sk-container-id-4 div.sk-toggleable__content {max-height: 0;max-width: 0;overflow: hidden;text-align: left;background-color: #f0f8ff;}#sk-container-id-4 div.sk-toggleable__content pre {margin: 0.2em;color: black;border-radius: 0.25em;background-color: #f0f8ff;}#sk-container-id-4 input.sk-toggleable__control:checked~div.sk-toggleable__content {max-height: 200px;max-width: 100%;overflow: auto;}#sk-container-id-4 input.sk-toggleable__control:checked~label.sk-toggleable__label-arrow:before {content: \"▾\";}#sk-container-id-4 div.sk-estimator input.sk-toggleable__control:checked~label.sk-toggleable__label {background-color: #d4ebff;}#sk-container-id-4 div.sk-label input.sk-toggleable__control:checked~label.sk-toggleable__label {background-color: #d4ebff;}#sk-container-id-4 input.sk-hidden--visually {border: 0;clip: rect(1px 1px 1px 1px);clip: rect(1px, 1px, 1px, 1px);height: 1px;margin: -1px;overflow: hidden;padding: 0;position: absolute;width: 1px;}#sk-container-id-4 div.sk-estimator {font-family: monospace;background-color: #f0f8ff;border: 1px dotted black;border-radius: 0.25em;box-sizing: border-box;margin-bottom: 0.5em;}#sk-container-id-4 div.sk-estimator:hover {background-color: #d4ebff;}#sk-container-id-4 div.sk-parallel-item::after {content: \"\";width: 100%;border-bottom: 1px solid gray;flex-grow: 1;}#sk-container-id-4 div.sk-label:hover label.sk-toggleable__label {background-color: #d4ebff;}#sk-container-id-4 div.sk-serial::before {content: \"\";position: absolute;border-left: 1px solid gray;box-sizing: border-box;top: 0;bottom: 0;left: 50%;z-index: 0;}#sk-container-id-4 div.sk-serial {display: flex;flex-direction: column;align-items: center;background-color: white;padding-right: 0.2em;padding-left: 0.2em;position: relative;}#sk-container-id-4 div.sk-item {position: relative;z-index: 1;}#sk-container-id-4 div.sk-parallel {display: flex;align-items: stretch;justify-content: center;background-color: white;position: relative;}#sk-container-id-4 div.sk-item::before, #sk-container-id-4 div.sk-parallel-item::before {content: \"\";position: absolute;border-left: 1px solid gray;box-sizing: border-box;top: 0;bottom: 0;left: 50%;z-index: -1;}#sk-container-id-4 div.sk-parallel-item {display: flex;flex-direction: column;z-index: 1;position: relative;background-color: white;}#sk-container-id-4 div.sk-parallel-item:first-child::after {align-self: flex-end;width: 50%;}#sk-container-id-4 div.sk-parallel-item:last-child::after {align-self: flex-start;width: 50%;}#sk-container-id-4 div.sk-parallel-item:only-child::after {width: 0;}#sk-container-id-4 div.sk-dashed-wrapped {border: 1px dashed gray;margin: 0 0.4em 0.5em 0.4em;box-sizing: border-box;padding-bottom: 0.4em;background-color: white;}#sk-container-id-4 div.sk-label label {font-family: monospace;font-weight: bold;display: inline-block;line-height: 1.2em;}#sk-container-id-4 div.sk-label-container {text-align: center;}#sk-container-id-4 div.sk-container {/* jupyter's `normalize.less` sets `[hidden] { display: none; }` but bootstrap.min.css set `[hidden] { display: none !important; }` so we also need the `!important` here to be able to override the default hidden behavior on the sphinx rendered scikit-learn.org. See: https://github.com/scikit-learn/scikit-learn/issues/21755 */display: inline-block !important;position: relative;}#sk-container-id-4 div.sk-text-repr-fallback {display: none;}</style><div id=\"sk-container-id-4\" class=\"sk-top-container\"><div class=\"sk-text-repr-fallback\"><pre>KNeighborsClassifier(metric=&#x27;euclidean&#x27;, n_neighbors=6, weights=&#x27;distance&#x27;)</pre><b>In a Jupyter environment, please rerun this cell to show the HTML representation or trust the notebook. <br />On GitHub, the HTML representation is unable to render, please try loading this page with nbviewer.org.</b></div><div class=\"sk-container\" hidden><div class=\"sk-item\"><div class=\"sk-estimator sk-toggleable\"><input class=\"sk-toggleable__control sk-hidden--visually\" id=\"sk-estimator-id-4\" type=\"checkbox\" checked><label for=\"sk-estimator-id-4\" class=\"sk-toggleable__label sk-toggleable__label-arrow\">KNeighborsClassifier</label><div class=\"sk-toggleable__content\"><pre>KNeighborsClassifier(metric=&#x27;euclidean&#x27;, n_neighbors=6, weights=&#x27;distance&#x27;)</pre></div></div></div></div></div>"
      ],
      "text/plain": [
       "KNeighborsClassifier(metric='euclidean', n_neighbors=6, weights='distance')"
      ]
     },
     "execution_count": 84,
     "metadata": {},
     "output_type": "execute_result"
    }
   ],
   "source": [
    "knn = KNeighborsClassifier(**params_knn)\n",
    "knn.fit(X_train, y_train)"
   ]
  },
  {
   "cell_type": "code",
   "execution_count": 85,
   "id": "GWQqzerXnz88",
   "metadata": {
    "colab": {
     "base_uri": "https://localhost:8080/"
    },
    "executionInfo": {
     "elapsed": 773,
     "status": "ok",
     "timestamp": 1682619704779,
     "user": {
      "displayName": "Damir Zunic",
      "userId": "07104666280721646256"
     },
     "user_tz": 240
    },
    "id": "GWQqzerXnz88",
    "outputId": "e2750f54-3569-4437-a311-675353ce088c"
   },
   "outputs": [
    {
     "data": {
      "text/plain": [
       "['/content/drive/MyDrive/Omdena/Team1/saved_models/batch_4_stack/knn_f1ma_1.pkl']"
      ]
     },
     "execution_count": 85,
     "metadata": {},
     "output_type": "execute_result"
    }
   ],
   "source": [
    "# Save the model\n",
    "joblib.dump(knn, '/content/drive/MyDrive/Omdena/Team1/saved_models/batch_4_stack/knn_f1ma_1.pkl')"
   ]
  },
  {
   "cell_type": "code",
   "execution_count": 86,
   "id": "tFSV792Rnz88",
   "metadata": {
    "executionInfo": {
     "elapsed": 3674,
     "status": "ok",
     "timestamp": 1682619712596,
     "user": {
      "displayName": "Damir Zunic",
      "userId": "07104666280721646256"
     },
     "user_tz": 240
    },
    "id": "tFSV792Rnz88"
   },
   "outputs": [],
   "source": [
    "y_pred_knn = knn.predict(X_test)"
   ]
  },
  {
   "cell_type": "code",
   "execution_count": 87,
   "id": "GzUr9dppnz88",
   "metadata": {
    "colab": {
     "base_uri": "https://localhost:8080/"
    },
    "executionInfo": {
     "elapsed": 182,
     "status": "ok",
     "timestamp": 1682619720865,
     "user": {
      "displayName": "Damir Zunic",
      "userId": "07104666280721646256"
     },
     "user_tz": 240
    },
    "id": "GzUr9dppnz88",
    "outputId": "f46fe9fb-1bc1-4d3c-b77f-c323463e7ea7"
   },
   "outputs": [
    {
     "name": "stdout",
     "output_type": "stream",
     "text": [
      "Accuracy after tuning: 77.93\n"
     ]
    }
   ],
   "source": [
    "accuracy = accuracy_score(y_test, y_pred_knn)\n",
    "print(f'Accuracy after tuning: {accuracy * 100.0:.2f}')"
   ]
  },
  {
   "cell_type": "code",
   "execution_count": 88,
   "id": "H1mYNQ9Znz88",
   "metadata": {
    "colab": {
     "base_uri": "https://localhost:8080/"
    },
    "executionInfo": {
     "elapsed": 23500,
     "status": "ok",
     "timestamp": 1682619764552,
     "user": {
      "displayName": "Damir Zunic",
      "userId": "07104666280721646256"
     },
     "user_tz": 240
    },
    "id": "H1mYNQ9Znz88",
    "outputId": "8a08edfd-6a09-4cdc-c46a-ab56afebd82d"
   },
   "outputs": [
    {
     "name": "stdout",
     "output_type": "stream",
     "text": [
      "Training Data Score: 1.0\n",
      "Testing Data Score: 0.7792642140468228\n"
     ]
    }
   ],
   "source": [
    "# Compare training and testing scores\n",
    "print(f\"Training Data Score: {knn.score(X_train, y_train)}\")\n",
    "print(f\"Testing Data Score: {knn.score(X_test, y_test)}\")"
   ]
  },
  {
   "cell_type": "code",
   "execution_count": 89,
   "id": "kZgRya4-nz88",
   "metadata": {
    "colab": {
     "base_uri": "https://localhost:8080/"
    },
    "executionInfo": {
     "elapsed": 220,
     "status": "ok",
     "timestamp": 1682619775267,
     "user": {
      "displayName": "Damir Zunic",
      "userId": "07104666280721646256"
     },
     "user_tz": 240
    },
    "id": "kZgRya4-nz88",
    "outputId": "c7a30810-ffc0-453e-e1d0-b7037bebe59d"
   },
   "outputs": [
    {
     "name": "stdout",
     "output_type": "stream",
     "text": [
      "[[ 221  118]\n",
      " [ 278 1177]]\n"
     ]
    }
   ],
   "source": [
    "cm = confusion_matrix(y_test, y_pred_knn)\n",
    "print(cm)"
   ]
  },
  {
   "cell_type": "code",
   "execution_count": 90,
   "id": "-UUlE7TRnz88",
   "metadata": {
    "colab": {
     "base_uri": "https://localhost:8080/",
     "height": 315
    },
    "executionInfo": {
     "elapsed": 653,
     "status": "ok",
     "timestamp": 1682619790963,
     "user": {
      "displayName": "Damir Zunic",
      "userId": "07104666280721646256"
     },
     "user_tz": 240
    },
    "id": "-UUlE7TRnz88",
    "outputId": "84deb1ce-68d6-4387-cea3-e0009daf55f1"
   },
   "outputs": [
    {
     "data": {
      "image/png": "[encoded data removed]",
      "text/plain": [
       "<Figure size 864x288 with 4 Axes>"
      ]
     },
     "metadata": {},
     "output_type": "display_data"
    }
   ],
   "source": [
    "# Plot confusion matrix and its normalized version.\n",
    "mu.plot_cm_unnorm_and_norm('KNN - Optuna #1', y_test, y_pred_knn, target_names, 'Reds')"
   ]
  },
  {
   "cell_type": "code",
   "execution_count": 91,
   "id": "dO-katYEnz88",
   "metadata": {
    "colab": {
     "base_uri": "https://localhost:8080/"
    },
    "executionInfo": {
     "elapsed": 255,
     "status": "ok",
     "timestamp": 1682619797701,
     "user": {
      "displayName": "Damir Zunic",
      "userId": "07104666280721646256"
     },
     "user_tz": 240
    },
    "id": "dO-katYEnz88",
    "outputId": "620d085d-5a40-4f2e-c982-6d907d98f8a6"
   },
   "outputs": [
    {
     "name": "stdout",
     "output_type": "stream",
     "text": [
      "              precision    recall  f1-score   support\n",
      "\n",
      "         hem       0.44      0.65      0.53       339\n",
      "         all       0.91      0.81      0.86      1455\n",
      "\n",
      "    accuracy                           0.78      1794\n",
      "   macro avg       0.68      0.73      0.69      1794\n",
      "weighted avg       0.82      0.78      0.79      1794\n",
      "\n"
     ]
    }
   ],
   "source": [
    "print(classification_report(y_test, y_pred_knn, target_names=target_names))"
   ]
  },
  {
   "cell_type": "markdown",
   "id": "PL7jeiJGy810",
   "metadata": {
    "id": "PL7jeiJGy810"
   },
   "source": [
    "## ================================================="
   ]
  },
  {
   "cell_type": "markdown",
   "id": "RftDatmcy810",
   "metadata": {
    "id": "RftDatmcy810"
   },
   "source": [
    "# Logistic Regression - Optuna"
   ]
  },
  {
   "cell_type": "markdown",
   "id": "Eg4iIclKy811",
   "metadata": {
    "id": "Eg4iIclKy811"
   },
   "source": [
    "## Optuna Objective Function"
   ]
  },
  {
   "cell_type": "code",
   "execution_count": 10,
   "id": "0dae25c7-f968-467b-80a4-68b74fde8423",
   "metadata": {
    "executionInfo": {
     "elapsed": 162,
     "status": "ok",
     "timestamp": 1682720965916,
     "user": {
      "displayName": "Damir Zunic",
      "userId": "07104666280721646256"
     },
     "user_tz": 240
    },
    "id": "89loP4OFy811"
   },
   "outputs": [],
   "source": [
    "def objective(trial):\n",
    "    \"\"\"Define the objective function\"\"\"\n",
    "\n",
    "    params = {\n",
    "        'penalty' : trial.suggest_categorical('penalty', ['l1', 'l2', 'elasticnet']),\n",
    "        ### 'l1_ratio': trial.suggest_float('l1_ratio', 0, 1, log=False),\n",
    "        'C' : trial.suggest_float('C', 1e-1, 1e3, log=True),\n",
    "        'tol' : trial.suggest_float('tol', 1e-4, 1e-2, log=True),\n",
    "        'fit_intercept' : trial.suggest_categorical('fit_intercept', [True, False]),\n",
    "        ### 'solver' : trial.suggest_categorical('solver', ['liblinear', 'saga'])\n",
    "    }\n",
    "    if params['penalty'] == 'elasticnet':\n",
    "        params['l1_ratio'] = trial.suggest_float('l1_ratio', 0, 1, log=False)\n",
    "        params['solver'] = 'saga'\n",
    "    else:\n",
    "        params['solver'] = trial.suggest_categorical('solver', ['liblinear', 'saga'])\n",
    "\n",
    "\n",
    "    # Fit the model\n",
    "    model = LogisticRegression(**params, random_state=random_state)\n",
    "    model.fit(X_train, y_train)\n",
    "\n",
    "    # Make predictions\n",
    "    y_pred = model.predict(X_test)\n",
    "\n",
    "    # Evaluate predictions\n",
    "    f1 = f1_score(y_test, y_pred, average='macro')\n",
    "    return f1"
   ]
  },
  {
   "cell_type": "markdown",
   "id": "u8RwhpBmy811",
   "metadata": {
    "id": "u8RwhpBmy811"
   },
   "source": [
    "## Optuna Study"
   ]
  },
  {
   "cell_type": "code",
   "execution_count": 11,
   "id": "b42d50b7-14cf-4f00-9690-785b7ae15513",
   "metadata": {
    "colab": {
     "base_uri": "https://localhost:8080/"
    },
    "executionInfo": {
     "elapsed": 108,
     "status": "ok",
     "timestamp": 1682720972001,
     "user": {
      "displayName": "Damir Zunic",
      "userId": "07104666280721646256"
     },
     "user_tz": 240
    },
    "id": "FaLMHh2Sy811",
    "outputId": "a94b4b6d-e7a1-4161-d624-9d082d13d174"
   },
   "outputs": [
    {
     "name": "stderr",
     "output_type": "stream",
     "text": [
      "\u001b[32m[I 2023-04-28 22:29:32,094]\u001b[0m A new study created in memory with name: no-name-f867eb32-f3be-4365-94b0-12ca43553ee5\u001b[0m\n"
     ]
    }
   ],
   "source": [
    "study = optuna.create_study(direction='maximize')"
   ]
  },
  {
   "cell_type": "markdown",
   "id": "LFDlTGW2y812",
   "metadata": {
    "id": "LFDlTGW2y812"
   },
   "source": [
    "## Optimize the Objective Function"
   ]
  },
  {
   "cell_type": "code",
   "execution_count": 12,
   "id": "hnTrE3pYx-Cl",
   "metadata": {
    "colab": {
     "base_uri": "https://localhost:8080/",
     "height": 1000,
     "referenced_widgets": [
      "669892d764534e409f88f3ca13206aa1",
      "dfd06699cc8c4d84bb7fc3968e4bfd7b",
      "9b73740ba0a747208d3d03a275ea6737",
      "b5ae19f1ae934678bd799bbb13424a67",
      "2dd5fee0e92f4a76a57f5e5dfe6dc27b",
      "50ba63c0f2a64a7a921b07303273ec2c",
      "39cda86df6a54a9f86f80f3c868b1d69",
      "2bd023867aa24a79a4a745832ba45571",
      "17407d822f6d4177ba6e41671ac7fdd8",
      "aaa4853287e34bfba2e2ae099104096a",
      "68f70f589e324ebdbbbd57d508f0e492"
     ]
    },
    "executionInfo": {
     "elapsed": 1635618,
     "status": "ok",
     "timestamp": 1682722613415,
     "user": {
      "displayName": "Damir Zunic",
      "userId": "07104666280721646256"
     },
     "user_tz": 240
    },
    "id": "hnTrE3pYx-Cl",
    "outputId": "02d62f7e-f1a0-4b5f-b6a1-366c73bdd7d5",
    "scrolled": true,
    "tags": []
   },
   "outputs": [
    {
     "data": {
      "application/vnd.jupyter.widget-view+json": {
       "model_id": "669892d764534e409f88f3ca13206aa1",
       "version_major": 2,
       "version_minor": 0
      },
      "text/plain": [
       "  0%|          | 0/100 [00:00<?, ?it/s]"
      ]
     },
     "metadata": {},
     "output_type": "display_data"
    },
    {
     "name": "stdout",
     "output_type": "stream",
     "text": [
      "\u001b[32m[I 2023-04-28 22:29:51,278]\u001b[0m Trial 0 finished with value: 0.7404811078174012 and parameters: {'penalty': 'l2', 'C': 0.16025381470841848, 'tol': 0.0008789648705926612, 'fit_intercept': True, 'solver': 'liblinear'}. Best is trial 0 with value: 0.7404811078174012.\u001b[0m\n",
      "\u001b[32m[I 2023-04-28 22:32:38,775]\u001b[0m Trial 1 finished with value: 0.7316356942496494 and parameters: {'penalty': 'elasticnet', 'C': 0.1268863392241254, 'tol': 0.00029449016008604285, 'fit_intercept': True, 'l1_ratio': 0.5628768420900726}. Best is trial 0 with value: 0.7404811078174012.\u001b[0m\n",
      "\u001b[32m[I 2023-04-28 22:33:18,611]\u001b[0m Trial 3 finished with value: 0.7381313224946928 and parameters: {'penalty': 'elasticnet', 'C': 27.386763941720496, 'tol': 0.0005336358098442851, 'fit_intercept': True, 'l1_ratio': 0.3271451012597074}. Best is trial 0 with value: 0.7404811078174012.\u001b[0m\n",
      "\u001b[32m[I 2023-04-28 22:33:24,030]\u001b[0m Trial 2 finished with value: 0.7364472795525364 and parameters: {'penalty': 'l1', 'C': 9.14772194704816, 'tol': 0.0002465251914163499, 'fit_intercept': True, 'solver': 'saga'}. Best is trial 0 with value: 0.7404811078174012.\u001b[0m\n",
      "\u001b[32m[I 2023-04-28 22:33:31,540]\u001b[0m Trial 4 finished with value: 0.7381313224946928 and parameters: {'penalty': 'elasticnet', 'C': 40.495817790588276, 'tol': 0.00012936203012338537, 'fit_intercept': True, 'l1_ratio': 0.28547400363257347}. Best is trial 0 with value: 0.7404811078174012.\u001b[0m\n",
      "\u001b[32m[I 2023-04-28 22:34:23,094]\u001b[0m Trial 6 finished with value: 0.7347411159218292 and parameters: {'penalty': 'l2', 'C': 5.082423643053902, 'tol': 0.0004580024612348412, 'fit_intercept': False, 'solver': 'liblinear'}. Best is trial 0 with value: 0.7404811078174012.\u001b[0m\n",
      "\u001b[32m[I 2023-04-28 22:36:18,272]\u001b[0m Trial 5 finished with value: 0.7381313224946928 and parameters: {'penalty': 'l1', 'C': 627.4244868834111, 'tol': 0.0004803725311440209, 'fit_intercept': False, 'solver': 'saga'}. Best is trial 0 with value: 0.7404811078174012.\u001b[0m\n",
      "\u001b[32m[I 2023-04-28 22:36:32,909]\u001b[0m Trial 7 finished with value: 0.7332957793038983 and parameters: {'penalty': 'elasticnet', 'C': 0.38975384654513184, 'tol': 0.00012700879342880143, 'fit_intercept': False, 'l1_ratio': 0.971683064225926}. Best is trial 0 with value: 0.7404811078174012.\u001b[0m\n",
      "\u001b[32m[I 2023-04-28 22:37:08,950]\u001b[0m Trial 8 finished with value: 0.7381313224946928 and parameters: {'penalty': 'elasticnet', 'C': 95.74057783712117, 'tol': 0.0016011305202492767, 'fit_intercept': False, 'l1_ratio': 0.8229443122672456}. Best is trial 0 with value: 0.7404811078174012.\u001b[0m\n",
      "\u001b[32m[I 2023-04-28 22:37:38,267]\u001b[0m Trial 9 finished with value: 0.7359296956232826 and parameters: {'penalty': 'elasticnet', 'C': 3.338316727760149, 'tol': 0.006074902382623077, 'fit_intercept': True, 'l1_ratio': 0.08308433982428742}. Best is trial 0 with value: 0.7404811078174012.\u001b[0m\n",
      "\u001b[32m[I 2023-04-28 22:38:06,809]\u001b[0m Trial 13 finished with value: 0.7426279320475816 and parameters: {'penalty': 'l2', 'C': 1.1158425642564789, 'tol': 0.0017052580498796593, 'fit_intercept': True, 'solver': 'liblinear'}. Best is trial 13 with value: 0.7426279320475816.\u001b[0m\n",
      "\u001b[32m[I 2023-04-28 22:38:30,812]\u001b[0m Trial 14 finished with value: 0.744283057886504 and parameters: {'penalty': 'l2', 'C': 1.0001993132425036, 'tol': 0.0014944520627608445, 'fit_intercept': True, 'solver': 'liblinear'}. Best is trial 14 with value: 0.744283057886504.\u001b[0m\n",
      "\u001b[32m[I 2023-04-28 22:38:46,325]\u001b[0m Trial 11 finished with value: 0.7381313224946928 and parameters: {'penalty': 'l2', 'C': 50.19871207926446, 'tol': 0.0029865319802553822, 'fit_intercept': False, 'solver': 'saga'}. Best is trial 14 with value: 0.744283057886504.\u001b[0m\n",
      "\u001b[32m[I 2023-04-28 22:39:00,245]\u001b[0m Trial 15 finished with value: 0.7448692375886525 and parameters: {'penalty': 'l2', 'C': 1.0009891699047415, 'tol': 0.002011076219183819, 'fit_intercept': True, 'solver': 'liblinear'}. Best is trial 15 with value: 0.7448692375886525.\u001b[0m\n",
      "\u001b[32m[I 2023-04-28 22:39:10,786]\u001b[0m Trial 16 finished with value: 0.7448692375886525 and parameters: {'penalty': 'l2', 'C': 0.9517459471886915, 'tol': 0.001695444407831634, 'fit_intercept': True, 'solver': 'liblinear'}. Best is trial 15 with value: 0.7448692375886525.\u001b[0m\n",
      "\u001b[32m[I 2023-04-28 22:39:20,824]\u001b[0m Trial 17 finished with value: 0.7419470173414922 and parameters: {'penalty': 'l2', 'C': 1.1491109122478382, 'tol': 0.00935725449344388, 'fit_intercept': True, 'solver': 'liblinear'}. Best is trial 15 with value: 0.7448692375886525.\u001b[0m\n",
      "\u001b[32m[I 2023-04-28 22:39:44,139]\u001b[0m Trial 18 finished with value: 0.743697750085259 and parameters: {'penalty': 'l2', 'C': 1.2628583485150908, 'tol': 0.0033359854678818865, 'fit_intercept': True, 'solver': 'liblinear'}. Best is trial 15 with value: 0.7448692375886525.\u001b[0m\n",
      "\u001b[32m[I 2023-04-28 22:39:57,833]\u001b[0m Trial 19 finished with value: 0.739032216660249 and parameters: {'penalty': 'l2', 'C': 2.5868777117641577, 'tol': 0.003710797003959208, 'fit_intercept': True, 'solver': 'liblinear'}. Best is trial 15 with value: 0.7448692375886525.\u001b[0m\n",
      "\u001b[32m[I 2023-04-28 22:40:01,521]\u001b[0m Trial 20 finished with value: 0.749035887663899 and parameters: {'penalty': 'l2', 'C': 0.3453112016619529, 'tol': 0.0010225825386685299, 'fit_intercept': True, 'solver': 'liblinear'}. Best is trial 20 with value: 0.749035887663899.\u001b[0m\n",
      "\u001b[32m[I 2023-04-28 22:40:05,363]\u001b[0m Trial 10 finished with value: 0.6898761622798624 and parameters: {'penalty': 'l1', 'C': 234.9707852410338, 'tol': 0.00677579123502583, 'fit_intercept': False, 'solver': 'liblinear'}. Best is trial 20 with value: 0.749035887663899.\u001b[0m\n",
      "\u001b[32m[I 2023-04-28 22:40:09,581]\u001b[0m Trial 21 finished with value: 0.7365142728025909 and parameters: {'penalty': 'l1', 'C': 0.28569253577170994, 'tol': 0.0008837337913071373, 'fit_intercept': True, 'solver': 'liblinear'}. Best is trial 20 with value: 0.749035887663899.\u001b[0m\n",
      "\u001b[32m[I 2023-04-28 22:40:13,886]\u001b[0m Trial 22 finished with value: 0.7399674698482319 and parameters: {'penalty': 'l1', 'C': 0.30781784098921194, 'tol': 0.0009007061846228079, 'fit_intercept': True, 'solver': 'liblinear'}. Best is trial 20 with value: 0.749035887663899.\u001b[0m\n",
      "\u001b[32m[I 2023-04-28 22:40:22,256]\u001b[0m Trial 23 finished with value: 0.7438624614614742 and parameters: {'penalty': 'l2', 'C': 0.2495000997180909, 'tol': 0.0008531969293177176, 'fit_intercept': True, 'solver': 'liblinear'}. Best is trial 20 with value: 0.749035887663899.\u001b[0m\n",
      "\u001b[32m[I 2023-04-28 22:40:23,835]\u001b[0m Trial 24 finished with value: 0.7471458773784355 and parameters: {'penalty': 'l2', 'C': 0.39622510246139964, 'tol': 0.0021947943452256887, 'fit_intercept': True, 'solver': 'liblinear'}. Best is trial 20 with value: 0.749035887663899.\u001b[0m\n",
      "\u001b[32m[I 2023-04-28 22:40:32,516]\u001b[0m Trial 25 finished with value: 0.749701712545618 and parameters: {'penalty': 'l2', 'C': 0.4692844477531347, 'tol': 0.0022341341062985624, 'fit_intercept': True, 'solver': 'liblinear'}. Best is trial 25 with value: 0.749701712545618.\u001b[0m\n",
      "\u001b[32m[I 2023-04-28 22:40:46,238]\u001b[0m Trial 26 finished with value: 0.7461487607139958 and parameters: {'penalty': 'l2', 'C': 0.5472246951770132, 'tol': 0.0020673494775202803, 'fit_intercept': True, 'solver': 'liblinear'}. Best is trial 25 with value: 0.749701712545618.\u001b[0m\n",
      "\u001b[32m[I 2023-04-28 22:41:11,241]\u001b[0m Trial 12 finished with value: 0.7370317124735729 and parameters: {'penalty': 'elasticnet', 'C': 5.013578253725293, 'tol': 0.0015622922529563322, 'fit_intercept': True, 'l1_ratio': 0.8611747676267482}. Best is trial 25 with value: 0.749701712545618.\u001b[0m\n",
      "\u001b[32m[I 2023-04-28 22:42:44,726]\u001b[0m Trial 27 finished with value: 0.7352810978308986 and parameters: {'penalty': 'l2', 'C': 0.5320200306258712, 'tol': 0.0024514798808090345, 'fit_intercept': True, 'solver': 'saga'}. Best is trial 25 with value: 0.749701712545618.\u001b[0m\n",
      "\u001b[32m[I 2023-04-28 22:42:53,472]\u001b[0m Trial 28 finished with value: 0.7352810978308986 and parameters: {'penalty': 'l2', 'C': 0.4858145821046443, 'tol': 0.002425086178393024, 'fit_intercept': True, 'solver': 'saga'}. Best is trial 25 with value: 0.749701712545618.\u001b[0m\n",
      "\u001b[32m[I 2023-04-28 22:42:55,412]\u001b[0m Trial 31 finished with value: 0.7348252617308126 and parameters: {'penalty': 'l2', 'C': 0.12421732167735923, 'tol': 0.0011582921775987734, 'fit_intercept': True, 'solver': 'liblinear'}. Best is trial 25 with value: 0.749701712545618.\u001b[0m\n",
      "\u001b[32m[I 2023-04-28 22:43:02,742]\u001b[0m Trial 32 finished with value: 0.7410708389854972 and parameters: {'penalty': 'l2', 'C': 0.11202044858036718, 'tol': 0.004335722904517123, 'fit_intercept': True, 'solver': 'liblinear'}. Best is trial 25 with value: 0.749701712545618.\u001b[0m\n",
      "\u001b[32m[I 2023-04-28 22:43:02,850]\u001b[0m Trial 29 finished with value: 0.7392285358461124 and parameters: {'penalty': 'l2', 'C': 0.12906363605762872, 'tol': 0.0011258211365110253, 'fit_intercept': True, 'solver': 'saga'}. Best is trial 25 with value: 0.749701712545618.\u001b[0m\n",
      "\u001b[32m[I 2023-04-28 22:43:08,517]\u001b[0m Trial 33 finished with value: 0.7420887949260042 and parameters: {'penalty': 'l2', 'C': 0.1840084638464227, 'tol': 0.0011579434931343034, 'fit_intercept': True, 'solver': 'liblinear'}. Best is trial 25 with value: 0.749701712545618.\u001b[0m\n",
      "\u001b[32m[I 2023-04-28 22:43:16,651]\u001b[0m Trial 34 finished with value: 0.7415813060179257 and parameters: {'penalty': 'l2', 'C': 0.2022064815514032, 'tol': 0.002296730543613548, 'fit_intercept': True, 'solver': 'liblinear'}. Best is trial 25 with value: 0.749701712545618.\u001b[0m\n",
      "\u001b[32m[I 2023-04-28 22:43:17,562]\u001b[0m Trial 35 finished with value: 0.7411481974704741 and parameters: {'penalty': 'l2', 'C': 0.2287180075067715, 'tol': 0.0023514961932008436, 'fit_intercept': True, 'solver': 'liblinear'}. Best is trial 25 with value: 0.749701712545618.\u001b[0m\n",
      "\u001b[32m[I 2023-04-28 22:43:26,686]\u001b[0m Trial 30 finished with value: 0.737473438635944 and parameters: {'penalty': 'l2', 'C': 0.11939258453835994, 'tol': 0.0012123469219263543, 'fit_intercept': True, 'solver': 'saga'}. Best is trial 25 with value: 0.749701712545618.\u001b[0m\n",
      "\u001b[32m[I 2023-04-28 22:43:31,241]\u001b[0m Trial 36 finished with value: 0.7428195641331958 and parameters: {'penalty': 'l2', 'C': 0.5826146512318585, 'tol': 0.0023515614188445084, 'fit_intercept': True, 'solver': 'liblinear'}. Best is trial 25 with value: 0.749701712545618.\u001b[0m\n",
      "\u001b[32m[I 2023-04-28 22:43:32,132]\u001b[0m Trial 38 finished with value: 0.7450724710366619 and parameters: {'penalty': 'l2', 'C': 0.5112417554355683, 'tol': 0.002872709748899587, 'fit_intercept': True, 'solver': 'liblinear'}. Best is trial 25 with value: 0.749701712545618.\u001b[0m\n",
      "\u001b[32m[I 2023-04-28 22:43:35,245]\u001b[0m Trial 37 finished with value: 0.7444841624235957 and parameters: {'penalty': 'l2', 'C': 0.5638660303033716, 'tol': 0.0025304537938988826, 'fit_intercept': True, 'solver': 'liblinear'}. Best is trial 25 with value: 0.749701712545618.\u001b[0m\n",
      "\u001b[32m[I 2023-04-28 22:43:49,304]\u001b[0m Trial 39 finished with value: 0.7444841624235957 and parameters: {'penalty': 'l2', 'C': 0.5961044401161102, 'tol': 0.0006979519051626301, 'fit_intercept': True, 'solver': 'liblinear'}. Best is trial 25 with value: 0.749701712545618.\u001b[0m\n",
      "\u001b[32m[I 2023-04-28 22:43:56,107]\u001b[0m Trial 40 finished with value: 0.7230272398709181 and parameters: {'penalty': 'l1', 'C': 0.579776423513789, 'tol': 0.0007072760481060499, 'fit_intercept': True, 'solver': 'liblinear'}. Best is trial 25 with value: 0.749701712545618.\u001b[0m\n",
      "\u001b[32m[I 2023-04-28 22:44:25,049]\u001b[0m Trial 44 finished with value: 0.7379819215464893 and parameters: {'penalty': 'l2', 'C': 1.691201581530005, 'tol': 0.0031042477774560215, 'fit_intercept': False, 'solver': 'liblinear'}. Best is trial 25 with value: 0.749701712545618.\u001b[0m\n",
      "\u001b[32m[I 2023-04-28 22:44:43,714]\u001b[0m Trial 45 finished with value: 0.7484375848368889 and parameters: {'penalty': 'l2', 'C': 0.35290069718812245, 'tol': 0.0018085811697451698, 'fit_intercept': True, 'solver': 'liblinear'}. Best is trial 25 with value: 0.749701712545618.\u001b[0m\n",
      "\u001b[32m[I 2023-04-28 22:44:48,319]\u001b[0m Trial 41 finished with value: 0.7378257692619956 and parameters: {'penalty': 'l1', 'C': 1.816271303541936, 'tol': 0.0007069908216309432, 'fit_intercept': False, 'solver': 'liblinear'}. Best is trial 25 with value: 0.749701712545618.\u001b[0m\n",
      "\u001b[32m[I 2023-04-28 22:44:59,201]\u001b[0m Trial 42 finished with value: 0.741740085037141 and parameters: {'penalty': 'l1', 'C': 1.8982445990858092, 'tol': 0.0006931850197484454, 'fit_intercept': False, 'solver': 'liblinear'}. Best is trial 25 with value: 0.749701712545618.\u001b[0m\n",
      "\u001b[32m[I 2023-04-28 22:45:09,765]\u001b[0m Trial 43 finished with value: 0.7405707251234742 and parameters: {'penalty': 'l1', 'C': 1.884610928841748, 'tol': 0.0006097722426468748, 'fit_intercept': False, 'solver': 'liblinear'}. Best is trial 25 with value: 0.749701712545618.\u001b[0m\n",
      "\u001b[32m[I 2023-04-28 22:48:23,780]\u001b[0m Trial 48 finished with value: 0.7359296956232826 and parameters: {'penalty': 'elasticnet', 'C': 0.3413277863707753, 'tol': 0.0018220358871732247, 'fit_intercept': True, 'l1_ratio': 0.6014270860424494}. Best is trial 25 with value: 0.749701712545618.\u001b[0m\n",
      "\u001b[32m[I 2023-04-28 22:48:33,528]\u001b[0m Trial 46 finished with value: 0.7369618527653057 and parameters: {'penalty': 'elasticnet', 'C': 0.340406224939604, 'tol': 0.0014122155382871246, 'fit_intercept': False, 'l1_ratio': 0.03123869265434087}. Best is trial 25 with value: 0.749701712545618.\u001b[0m\n",
      "\u001b[32m[I 2023-04-28 22:48:34,825]\u001b[0m Trial 47 finished with value: 0.7381313224946928 and parameters: {'penalty': 'elasticnet', 'C': 0.34185488469563846, 'tol': 0.001435663704055269, 'fit_intercept': True, 'l1_ratio': 0.008751911357978925}. Best is trial 25 with value: 0.749701712545618.\u001b[0m\n",
      "\u001b[32m[I 2023-04-28 22:48:44,083]\u001b[0m Trial 51 finished with value: 0.7431834513211617 and parameters: {'penalty': 'l2', 'C': 0.16856269951645858, 'tol': 0.001984215211887451, 'fit_intercept': True, 'solver': 'liblinear'}. Best is trial 25 with value: 0.749701712545618.\u001b[0m\n",
      "\u001b[32m[I 2023-04-28 22:48:47,238]\u001b[0m Trial 52 finished with value: 0.7420887949260042 and parameters: {'penalty': 'l2', 'C': 0.18466170617529942, 'tol': 0.0019265726981592482, 'fit_intercept': True, 'solver': 'liblinear'}. Best is trial 25 with value: 0.749701712545618.\u001b[0m\n",
      "\u001b[32m[I 2023-04-28 22:48:54,878]\u001b[0m Trial 49 finished with value: 0.7346993405202833 and parameters: {'penalty': 'elasticnet', 'C': 0.39522637379395587, 'tol': 0.001893780333901433, 'fit_intercept': True, 'l1_ratio': 0.016461272723909293}. Best is trial 25 with value: 0.749701712545618.\u001b[0m\n",
      "\u001b[32m[I 2023-04-28 22:49:02,204]\u001b[0m Trial 54 finished with value: 0.7481322853040664 and parameters: {'penalty': 'l2', 'C': 0.41953617380827946, 'tol': 0.002827278103722937, 'fit_intercept': True, 'solver': 'liblinear'}. Best is trial 25 with value: 0.749701712545618.\u001b[0m\n",
      "\u001b[32m[I 2023-04-28 22:49:27,755]\u001b[0m Trial 55 finished with value: 0.7422337332957597 and parameters: {'penalty': 'l2', 'C': 0.7951685919077534, 'tol': 0.0028754877165203764, 'fit_intercept': True, 'solver': 'liblinear'}. Best is trial 25 with value: 0.749701712545618.\u001b[0m\n",
      "\u001b[32m[I 2023-04-28 22:49:32,443]\u001b[0m Trial 56 finished with value: 0.7422337332957597 and parameters: {'penalty': 'l2', 'C': 0.7932195965340404, 'tol': 0.004337199158869757, 'fit_intercept': True, 'solver': 'liblinear'}. Best is trial 25 with value: 0.749701712545618.\u001b[0m\n",
      "\u001b[32m[I 2023-04-28 22:49:48,126]\u001b[0m Trial 58 finished with value: 0.7456444807404383 and parameters: {'penalty': 'l2', 'C': 0.2655529888654986, 'tol': 0.001274386717802526, 'fit_intercept': True, 'solver': 'liblinear'}. Best is trial 25 with value: 0.749701712545618.\u001b[0m\n",
      "\u001b[32m[I 2023-04-28 22:49:55,617]\u001b[0m Trial 57 finished with value: 0.7416487813687289 and parameters: {'penalty': 'l2', 'C': 0.8316100090353667, 'tol': 0.004192446419990425, 'fit_intercept': True, 'solver': 'liblinear'}. Best is trial 25 with value: 0.749701712545618.\u001b[0m\n",
      "\u001b[32m[I 2023-04-28 22:50:00,267]\u001b[0m Trial 53 finished with value: 0.7290334817978728 and parameters: {'penalty': 'l2', 'C': 9.32209080531512, 'tol': 0.0017835940360588461, 'fit_intercept': True, 'solver': 'liblinear'}. Best is trial 25 with value: 0.749701712545618.\u001b[0m\n",
      "\u001b[32m[I 2023-04-28 22:50:15,838]\u001b[0m Trial 60 finished with value: 0.7504078922405617 and parameters: {'penalty': 'l2', 'C': 0.4163451444549124, 'tol': 0.0015747794435790397, 'fit_intercept': True, 'solver': 'liblinear'}. Best is trial 60 with value: 0.7504078922405617.\u001b[0m\n",
      "\u001b[32m[I 2023-04-28 22:51:20,105]\u001b[0m Trial 59 finished with value: 0.7240499103452632 and parameters: {'penalty': 'l2', 'C': 14.048594965477273, 'tol': 0.0015951976891402087, 'fit_intercept': True, 'solver': 'liblinear'}. Best is trial 60 with value: 0.7504078922405617.\u001b[0m\n",
      "\u001b[32m[I 2023-04-28 22:52:20,969]\u001b[0m Trial 61 finished with value: 0.7375461393031839 and parameters: {'penalty': 'l2', 'C': 0.2319244592791034, 'tol': 0.0015896709491468593, 'fit_intercept': True, 'solver': 'saga'}. Best is trial 60 with value: 0.7504078922405617.\u001b[0m\n",
      "\u001b[32m[I 2023-04-28 22:52:30,124]\u001b[0m Trial 50 finished with value: 0.7387174066243833 and parameters: {'penalty': 'elasticnet', 'C': 0.1595967681076586, 'tol': 0.001335910808950163, 'fit_intercept': True, 'l1_ratio': 0.029949477299483385}. Best is trial 60 with value: 0.7504078922405617.\u001b[0m\n",
      "\u001b[32m[I 2023-04-28 22:52:38,417]\u001b[0m Trial 64 finished with value: 0.7476405185607539 and parameters: {'penalty': 'l2', 'C': 0.42517711803900754, 'tol': 0.002112448841287741, 'fit_intercept': True, 'solver': 'liblinear'}. Best is trial 60 with value: 0.7504078922405617.\u001b[0m\n",
      "\u001b[32m[I 2023-04-28 22:52:44,686]\u001b[0m Trial 62 finished with value: 0.7369618527653057 and parameters: {'penalty': 'l2', 'C': 0.25520684159271034, 'tol': 0.0015570842982617732, 'fit_intercept': True, 'solver': 'saga'}. Best is trial 60 with value: 0.7504078922405617.\u001b[0m\n",
      "\u001b[32m[I 2023-04-28 22:52:53,290]\u001b[0m Trial 66 finished with value: 0.7505172656800564 and parameters: {'penalty': 'l2', 'C': 0.41725619274351355, 'tol': 0.0034947786528423015, 'fit_intercept': True, 'solver': 'liblinear'}. Best is trial 66 with value: 0.7505172656800564.\u001b[0m\n",
      "\u001b[32m[I 2023-04-28 22:52:59,719]\u001b[0m Trial 65 finished with value: 0.7423260868655777 and parameters: {'penalty': 'l2', 'C': 0.7533134817796109, 'tol': 0.002166550785673762, 'fit_intercept': True, 'solver': 'liblinear'}. Best is trial 66 with value: 0.7505172656800564.\u001b[0m\n",
      "\u001b[32m[I 2023-04-28 22:53:00,643]\u001b[0m Trial 67 finished with value: 0.7466483392332606 and parameters: {'penalty': 'l2', 'C': 0.38258094908015733, 'tol': 0.0010211144692322152, 'fit_intercept': True, 'solver': 'liblinear'}. Best is trial 66 with value: 0.7505172656800564.\u001b[0m\n",
      "\u001b[32m[I 2023-04-28 22:53:08,696]\u001b[0m Trial 68 finished with value: 0.7500263613768171 and parameters: {'penalty': 'l2', 'C': 0.4085764797115185, 'tol': 0.003468242515627993, 'fit_intercept': True, 'solver': 'liblinear'}. Best is trial 66 with value: 0.7505172656800564.\u001b[0m\n",
      "\u001b[32m[I 2023-04-28 22:53:30,351]\u001b[0m Trial 70 finished with value: 0.7441801842910974 and parameters: {'penalty': 'l2', 'C': 1.2128108114866298, 'tol': 0.003572721259768437, 'fit_intercept': True, 'solver': 'liblinear'}. Best is trial 66 with value: 0.7505172656800564.\u001b[0m\n",
      "\u001b[32m[I 2023-04-28 22:53:36,042]\u001b[0m Trial 69 finished with value: 0.743697750085259 and parameters: {'penalty': 'l2', 'C': 1.1729884434665834, 'tol': 0.0010306648917921936, 'fit_intercept': True, 'solver': 'liblinear'}. Best is trial 66 with value: 0.7505172656800564.\u001b[0m\n",
      "\u001b[32m[I 2023-04-28 22:53:40,469]\u001b[0m Trial 71 finished with value: 0.7441801842910974 and parameters: {'penalty': 'l2', 'C': 1.2713042018079659, 'tol': 0.0035016492736835198, 'fit_intercept': True, 'solver': 'liblinear'}. Best is trial 66 with value: 0.7505172656800564.\u001b[0m\n",
      "\u001b[32m[I 2023-04-28 22:53:43,490]\u001b[0m Trial 72 finished with value: 0.7445429752085664 and parameters: {'penalty': 'l2', 'C': 0.2723279780404488, 'tol': 0.0028051400102147486, 'fit_intercept': True, 'solver': 'liblinear'}. Best is trial 66 with value: 0.7505172656800564.\u001b[0m\n",
      "\u001b[32m[I 2023-04-28 22:53:44,342]\u001b[0m Trial 63 finished with value: 0.7375461393031839 and parameters: {'penalty': 'l2', 'C': 0.2309901694354224, 'tol': 0.001046014146833063, 'fit_intercept': True, 'solver': 'saga'}. Best is trial 66 with value: 0.7505172656800564.\u001b[0m\n",
      "\u001b[32m[I 2023-04-28 22:53:51,626]\u001b[0m Trial 73 finished with value: 0.7473401842021687 and parameters: {'penalty': 'l2', 'C': 0.30558237486545636, 'tol': 0.0026484530564875423, 'fit_intercept': True, 'solver': 'liblinear'}. Best is trial 66 with value: 0.7505172656800564.\u001b[0m\n",
      "\u001b[32m[I 2023-04-28 22:53:57,368]\u001b[0m Trial 74 finished with value: 0.7475383547265786 and parameters: {'penalty': 'l2', 'C': 0.4672159142942333, 'tol': 0.002671790313284942, 'fit_intercept': True, 'solver': 'liblinear'}. Best is trial 66 with value: 0.7505172656800564.\u001b[0m\n",
      "\u001b[32m[I 2023-04-28 22:53:58,482]\u001b[0m Trial 76 finished with value: 0.7365142728025909 and parameters: {'penalty': 'l2', 'C': 0.14810183427891974, 'tol': 0.0027091869597243743, 'fit_intercept': True, 'solver': 'liblinear'}. Best is trial 66 with value: 0.7505172656800564.\u001b[0m\n",
      "\u001b[32m[I 2023-04-28 22:54:04,353]\u001b[0m Trial 75 finished with value: 0.7475383547265786 and parameters: {'penalty': 'l2', 'C': 0.40827607135333976, 'tol': 0.0026214090784713244, 'fit_intercept': True, 'solver': 'liblinear'}. Best is trial 66 with value: 0.7505172656800564.\u001b[0m\n",
      "\u001b[32m[I 2023-04-28 22:54:09,712]\u001b[0m Trial 77 finished with value: 0.7498114034020393 and parameters: {'penalty': 'l2', 'C': 0.42713270371899337, 'tol': 0.003217151733573214, 'fit_intercept': True, 'solver': 'liblinear'}. Best is trial 66 with value: 0.7505172656800564.\u001b[0m\n",
      "\u001b[32m[I 2023-04-28 22:54:11,463]\u001b[0m Trial 79 finished with value: 0.740557370355247 and parameters: {'penalty': 'l2', 'C': 0.10416630026714371, 'tol': 0.002172294049254897, 'fit_intercept': True, 'solver': 'liblinear'}. Best is trial 66 with value: 0.7505172656800564.\u001b[0m\n",
      "\u001b[32m[I 2023-04-28 22:54:13,756]\u001b[0m Trial 78 finished with value: 0.7486211998923864 and parameters: {'penalty': 'l2', 'C': 0.4330516307796634, 'tol': 0.002160492346423912, 'fit_intercept': True, 'solver': 'liblinear'}. Best is trial 66 with value: 0.7505172656800564.\u001b[0m\n",
      "\u001b[32m[I 2023-04-28 22:54:35,350]\u001b[0m Trial 81 finished with value: 0.7423260868655777 and parameters: {'penalty': 'l2', 'C': 0.7353002307769976, 'tol': 0.003174053922026245, 'fit_intercept': True, 'solver': 'liblinear'}. Best is trial 66 with value: 0.7505172656800564.\u001b[0m\n",
      "\u001b[32m[I 2023-04-28 22:54:37,554]\u001b[0m Trial 80 finished with value: 0.7423260868655777 and parameters: {'penalty': 'l2', 'C': 0.6676647087779954, 'tol': 0.002139555942308568, 'fit_intercept': True, 'solver': 'liblinear'}. Best is trial 66 with value: 0.7505172656800564.\u001b[0m\n",
      "\u001b[32m[I 2023-04-28 22:54:37,896]\u001b[0m Trial 83 finished with value: 0.7411549658427957 and parameters: {'penalty': 'l2', 'C': 0.6348737227612812, 'tol': 0.0033738610668043708, 'fit_intercept': False, 'solver': 'liblinear'}. Best is trial 66 with value: 0.7505172656800564.\u001b[0m\n",
      "\u001b[32m[I 2023-04-28 22:54:42,910]\u001b[0m Trial 82 finished with value: 0.7423260868655777 and parameters: {'penalty': 'l2', 'C': 0.654429033764271, 'tol': 0.0032554029963395748, 'fit_intercept': False, 'solver': 'liblinear'}. Best is trial 66 with value: 0.7505172656800564.\u001b[0m\n",
      "\u001b[32m[I 2023-04-28 22:54:53,438]\u001b[0m Trial 85 finished with value: 0.7481322853040664 and parameters: {'penalty': 'l2', 'C': 0.4645228287421372, 'tol': 0.0031612399048500657, 'fit_intercept': True, 'solver': 'liblinear'}. Best is trial 66 with value: 0.7505172656800564.\u001b[0m\n",
      "\u001b[32m[I 2023-04-28 22:54:55,064]\u001b[0m Trial 86 finished with value: 0.7468427648703364 and parameters: {'penalty': 'l2', 'C': 0.48239776614906216, 'tol': 0.003999786734148093, 'fit_intercept': True, 'solver': 'liblinear'}. Best is trial 66 with value: 0.7505172656800564.\u001b[0m\n",
      "\u001b[32m[I 2023-04-28 22:54:56,873]\u001b[0m Trial 88 finished with value: 0.7370997541733284 and parameters: {'penalty': 'l1', 'C': 0.315278110570074, 'tol': 0.004936638661604304, 'fit_intercept': True, 'solver': 'liblinear'}. Best is trial 66 with value: 0.7505172656800564.\u001b[0m\n",
      "\u001b[32m[I 2023-04-28 22:54:58,744]\u001b[0m Trial 84 finished with value: 0.7411549658427957 and parameters: {'penalty': 'l2', 'C': 0.6899753060608698, 'tol': 0.005101262581694613, 'fit_intercept': True, 'solver': 'liblinear'}. Best is trial 66 with value: 0.7505172656800564.\u001b[0m\n",
      "\u001b[32m[I 2023-04-28 22:54:59,838]\u001b[0m Trial 87 finished with value: 0.7484375848368889 and parameters: {'penalty': 'l2', 'C': 0.311180654293154, 'tol': 0.0017470383413910008, 'fit_intercept': True, 'solver': 'liblinear'}. Best is trial 66 with value: 0.7505172656800564.\u001b[0m\n",
      "\u001b[32m[I 2023-04-28 22:55:09,778]\u001b[0m Trial 89 finished with value: 0.7341813462173273 and parameters: {'penalty': 'l1', 'C': 0.9913292273354861, 'tol': 0.0017709635882988345, 'fit_intercept': True, 'solver': 'liblinear'}. Best is trial 66 with value: 0.7505172656800564.\u001b[0m\n",
      "\u001b[32m[I 2023-04-28 22:55:14,181]\u001b[0m Trial 90 finished with value: 0.7431834513211617 and parameters: {'penalty': 'l2', 'C': 0.17937056313136746, 'tol': 0.0024351315649976907, 'fit_intercept': True, 'solver': 'liblinear'}. Best is trial 66 with value: 0.7505172656800564.\u001b[0m\n",
      "\u001b[32m[I 2023-04-28 22:55:15,770]\u001b[0m Trial 92 finished with value: 0.7411481974704741 and parameters: {'penalty': 'l2', 'C': 0.22900743214799746, 'tol': 0.001724991945497696, 'fit_intercept': True, 'solver': 'liblinear'}. Best is trial 66 with value: 0.7505172656800564.\u001b[0m\n",
      "\u001b[32m[I 2023-04-28 22:55:16,780]\u001b[0m Trial 91 finished with value: 0.7420887949260042 and parameters: {'penalty': 'l2', 'C': 0.19017836011337877, 'tol': 0.001732665302160764, 'fit_intercept': True, 'solver': 'liblinear'}. Best is trial 66 with value: 0.7505172656800564.\u001b[0m\n",
      "\u001b[32m[I 2023-04-28 22:55:26,129]\u001b[0m Trial 93 finished with value: 0.7426790963741252 and parameters: {'penalty': 'l2', 'C': 0.17077838242435367, 'tol': 0.001380705755659298, 'fit_intercept': True, 'solver': 'liblinear'}. Best is trial 66 with value: 0.7505172656800564.\u001b[0m\n",
      "\u001b[32m[I 2023-04-28 22:55:30,182]\u001b[0m Trial 94 finished with value: 0.7415813060179257 and parameters: {'penalty': 'l2', 'C': 0.20702276844471978, 'tol': 0.0017092937925783124, 'fit_intercept': True, 'solver': 'liblinear'}. Best is trial 66 with value: 0.7505172656800564.\u001b[0m\n",
      "\u001b[32m[I 2023-04-28 22:55:32,015]\u001b[0m Trial 95 finished with value: 0.7478402288159416 and parameters: {'penalty': 'l2', 'C': 0.33477964608838423, 'tol': 0.0013413178406498827, 'fit_intercept': True, 'solver': 'liblinear'}. Best is trial 66 with value: 0.7505172656800564.\u001b[0m\n",
      "\u001b[32m[I 2023-04-28 22:55:35,754]\u001b[0m Trial 96 finished with value: 0.7468371933559751 and parameters: {'penalty': 'l2', 'C': 0.29981007196149434, 'tol': 0.0014133282084766384, 'fit_intercept': True, 'solver': 'liblinear'}. Best is trial 66 with value: 0.7505172656800564.\u001b[0m\n",
      "\u001b[32m[I 2023-04-28 22:55:42,089]\u001b[0m Trial 97 finished with value: 0.7477411469372572 and parameters: {'penalty': 'l2', 'C': 0.39214496349933564, 'tol': 0.0023826357504410653, 'fit_intercept': True, 'solver': 'liblinear'}. Best is trial 66 with value: 0.7505172656800564.\u001b[0m\n",
      "\u001b[32m[I 2023-04-28 22:56:52,653]\u001b[0m Trial 99 finished with value: 0.7363784586182561 and parameters: {'penalty': 'l2', 'C': 0.39221235348646777, 'tol': 0.0019446521703206942, 'fit_intercept': True, 'solver': 'saga'}. Best is trial 66 with value: 0.7505172656800564.\u001b[0m\n",
      "\u001b[32m[I 2023-04-28 22:56:53,483]\u001b[0m Trial 98 finished with value: 0.7363784586182561 and parameters: {'penalty': 'l2', 'C': 0.3499467310331279, 'tol': 0.002362706311515845, 'fit_intercept': True, 'solver': 'saga'}. Best is trial 66 with value: 0.7505172656800564.\u001b[0m\n"
     ]
    }
   ],
   "source": [
    "study.optimize(objective, n_jobs=-1, n_trials=100, show_progress_bar=True)"
   ]
  },
  {
   "cell_type": "markdown",
   "id": "900402c9-8f66-4339-a245-bbbf2b020ee4",
   "metadata": {
    "id": "pLjE7VuUy812"
   },
   "source": [
    "## Best Parameters"
   ]
  },
  {
   "cell_type": "code",
   "execution_count": 13,
   "id": "6918313e-c596-4fa8-acbf-f26ab786cd25",
   "metadata": {
    "colab": {
     "base_uri": "https://localhost:8080/"
    },
    "executionInfo": {
     "elapsed": 129,
     "status": "ok",
     "timestamp": 1682723157234,
     "user": {
      "displayName": "Damir Zunic",
      "userId": "07104666280721646256"
     },
     "user_tz": 240
    },
    "id": "071xywjzy812",
    "outputId": "3e1ffe54-52d3-4679-dafa-02439345a762"
   },
   "outputs": [
    {
     "name": "stdout",
     "output_type": "stream",
     "text": [
      "Number of finished trials: 100\n",
      "Best trial:\n",
      "  Value: 0.7505172656800564\n",
      "  Params: \n",
      "    penalty: l2\n",
      "    C: 0.41725619274351355\n",
      "    tol: 0.0034947786528423015\n",
      "    fit_intercept: True\n",
      "    solver: liblinear\n"
     ]
    }
   ],
   "source": [
    "print(f'Number of finished trials: {len(study.trials)}')\n",
    "print('Best trial:')\n",
    "trial = study.best_trial\n",
    "\n",
    "print(f'  Value: {trial.value}')\n",
    "print('  Params: ')\n",
    "\n",
    "for key, value in trial.params.items():\n",
    "    print(f'    {key}: {value}')"
   ]
  },
  {
   "cell_type": "markdown",
   "id": "de224894-11a2-449b-8ef7-a91c4793699d",
   "metadata": {
    "id": "R7Ti4KlWy812"
   },
   "source": [
    "## Re-fit the model"
   ]
  },
  {
   "cell_type": "code",
   "execution_count": 14,
   "id": "080ba2f2-790a-4486-8c55-dc70a14ceabc",
   "metadata": {
    "colab": {
     "base_uri": "https://localhost:8080/"
    },
    "executionInfo": {
     "elapsed": 151,
     "status": "ok",
     "timestamp": 1682723177606,
     "user": {
      "displayName": "Damir Zunic",
      "userId": "07104666280721646256"
     },
     "user_tz": 240
    },
    "id": "nhyYLG9Cy812",
    "outputId": "96a72a78-278d-4cac-f48e-a322d6618bf9"
   },
   "outputs": [
    {
     "data": {
      "text/plain": [
       "{'penalty': 'l2',\n",
       " 'C': 0.41725619274351355,\n",
       " 'tol': 0.0034947786528423015,\n",
       " 'fit_intercept': True,\n",
       " 'solver': 'liblinear'}"
      ]
     },
     "execution_count": 14,
     "metadata": {},
     "output_type": "execute_result"
    }
   ],
   "source": [
    "params_lr = trial.params\n",
    "params_lr"
   ]
  },
  {
   "cell_type": "code",
   "execution_count": 15,
   "id": "dbc6b91a-adfb-417e-8bc5-a15675fd071b",
   "metadata": {
    "colab": {
     "base_uri": "https://localhost:8080/",
     "height": 92
    },
    "executionInfo": {
     "elapsed": 9662,
     "status": "ok",
     "timestamp": 1682723275088,
     "user": {
      "displayName": "Damir Zunic",
      "userId": "07104666280721646256"
     },
     "user_tz": 240
    },
    "id": "Lf1tJ139y812",
    "outputId": "b9910641-b569-4e69-c2f6-f7b39ad346f3"
   },
   "outputs": [
    {
     "data": {
      "text/html": [
       "<style>#sk-container-id-1 {color: black;background-color: white;}#sk-container-id-1 pre{padding: 0;}#sk-container-id-1 div.sk-toggleable {background-color: white;}#sk-container-id-1 label.sk-toggleable__label {cursor: pointer;display: block;width: 100%;margin-bottom: 0;padding: 0.3em;box-sizing: border-box;text-align: center;}#sk-container-id-1 label.sk-toggleable__label-arrow:before {content: \"▸\";float: left;margin-right: 0.25em;color: #696969;}#sk-container-id-1 label.sk-toggleable__label-arrow:hover:before {color: black;}#sk-container-id-1 div.sk-estimator:hover label.sk-toggleable__label-arrow:before {color: black;}#sk-container-id-1 div.sk-toggleable__content {max-height: 0;max-width: 0;overflow: hidden;text-align: left;background-color: #f0f8ff;}#sk-container-id-1 div.sk-toggleable__content pre {margin: 0.2em;color: black;border-radius: 0.25em;background-color: #f0f8ff;}#sk-container-id-1 input.sk-toggleable__control:checked~div.sk-toggleable__content {max-height: 200px;max-width: 100%;overflow: auto;}#sk-container-id-1 input.sk-toggleable__control:checked~label.sk-toggleable__label-arrow:before {content: \"▾\";}#sk-container-id-1 div.sk-estimator input.sk-toggleable__control:checked~label.sk-toggleable__label {background-color: #d4ebff;}#sk-container-id-1 div.sk-label input.sk-toggleable__control:checked~label.sk-toggleable__label {background-color: #d4ebff;}#sk-container-id-1 input.sk-hidden--visually {border: 0;clip: rect(1px 1px 1px 1px);clip: rect(1px, 1px, 1px, 1px);height: 1px;margin: -1px;overflow: hidden;padding: 0;position: absolute;width: 1px;}#sk-container-id-1 div.sk-estimator {font-family: monospace;background-color: #f0f8ff;border: 1px dotted black;border-radius: 0.25em;box-sizing: border-box;margin-bottom: 0.5em;}#sk-container-id-1 div.sk-estimator:hover {background-color: #d4ebff;}#sk-container-id-1 div.sk-parallel-item::after {content: \"\";width: 100%;border-bottom: 1px solid gray;flex-grow: 1;}#sk-container-id-1 div.sk-label:hover label.sk-toggleable__label {background-color: #d4ebff;}#sk-container-id-1 div.sk-serial::before {content: \"\";position: absolute;border-left: 1px solid gray;box-sizing: border-box;top: 0;bottom: 0;left: 50%;z-index: 0;}#sk-container-id-1 div.sk-serial {display: flex;flex-direction: column;align-items: center;background-color: white;padding-right: 0.2em;padding-left: 0.2em;position: relative;}#sk-container-id-1 div.sk-item {position: relative;z-index: 1;}#sk-container-id-1 div.sk-parallel {display: flex;align-items: stretch;justify-content: center;background-color: white;position: relative;}#sk-container-id-1 div.sk-item::before, #sk-container-id-1 div.sk-parallel-item::before {content: \"\";position: absolute;border-left: 1px solid gray;box-sizing: border-box;top: 0;bottom: 0;left: 50%;z-index: -1;}#sk-container-id-1 div.sk-parallel-item {display: flex;flex-direction: column;z-index: 1;position: relative;background-color: white;}#sk-container-id-1 div.sk-parallel-item:first-child::after {align-self: flex-end;width: 50%;}#sk-container-id-1 div.sk-parallel-item:last-child::after {align-self: flex-start;width: 50%;}#sk-container-id-1 div.sk-parallel-item:only-child::after {width: 0;}#sk-container-id-1 div.sk-dashed-wrapped {border: 1px dashed gray;margin: 0 0.4em 0.5em 0.4em;box-sizing: border-box;padding-bottom: 0.4em;background-color: white;}#sk-container-id-1 div.sk-label label {font-family: monospace;font-weight: bold;display: inline-block;line-height: 1.2em;}#sk-container-id-1 div.sk-label-container {text-align: center;}#sk-container-id-1 div.sk-container {/* jupyter's `normalize.less` sets `[hidden] { display: none; }` but bootstrap.min.css set `[hidden] { display: none !important; }` so we also need the `!important` here to be able to override the default hidden behavior on the sphinx rendered scikit-learn.org. See: https://github.com/scikit-learn/scikit-learn/issues/21755 */display: inline-block !important;position: relative;}#sk-container-id-1 div.sk-text-repr-fallback {display: none;}</style><div id=\"sk-container-id-1\" class=\"sk-top-container\"><div class=\"sk-text-repr-fallback\"><pre>LogisticRegression(C=0.41725619274351355, random_state=10, solver=&#x27;liblinear&#x27;,\n",
       "                   tol=0.0034947786528423015)</pre><b>In a Jupyter environment, please rerun this cell to show the HTML representation or trust the notebook. <br />On GitHub, the HTML representation is unable to render, please try loading this page with nbviewer.org.</b></div><div class=\"sk-container\" hidden><div class=\"sk-item\"><div class=\"sk-estimator sk-toggleable\"><input class=\"sk-toggleable__control sk-hidden--visually\" id=\"sk-estimator-id-1\" type=\"checkbox\" checked><label for=\"sk-estimator-id-1\" class=\"sk-toggleable__label sk-toggleable__label-arrow\">LogisticRegression</label><div class=\"sk-toggleable__content\"><pre>LogisticRegression(C=0.41725619274351355, random_state=10, solver=&#x27;liblinear&#x27;,\n",
       "                   tol=0.0034947786528423015)</pre></div></div></div></div></div>"
      ],
      "text/plain": [
       "LogisticRegression(C=0.41725619274351355, random_state=10, solver='liblinear',\n",
       "                   tol=0.0034947786528423015)"
      ]
     },
     "execution_count": 15,
     "metadata": {},
     "output_type": "execute_result"
    }
   ],
   "source": [
    "lr = LogisticRegression(**params_lr, random_state=random_state)\n",
    "lr.fit(X_train, y_train)"
   ]
  },
  {
   "cell_type": "code",
   "execution_count": 16,
   "id": "6c519761-737e-45f3-b073-e9494e7d7ccb",
   "metadata": {
    "colab": {
     "base_uri": "https://localhost:8080/"
    },
    "executionInfo": {
     "elapsed": 697,
     "status": "ok",
     "timestamp": 1682723307302,
     "user": {
      "displayName": "Damir Zunic",
      "userId": "07104666280721646256"
     },
     "user_tz": 240
    },
    "id": "b62w2qiPy813",
    "outputId": "9824f12b-b08d-4684-a40c-3f699e818c61"
   },
   "outputs": [
    {
     "data": {
      "text/plain": [
       "['/content/drive/MyDrive/Omdena/Team1/saved_models/batch_4_stack/lr_f1ma_1.pkl']"
      ]
     },
     "execution_count": 16,
     "metadata": {},
     "output_type": "execute_result"
    }
   ],
   "source": [
    "# Save the model\n",
    "joblib.dump(lr, '/content/drive/MyDrive/Omdena/Team1/saved_models/batch_4_stack/lr_f1ma_1.pkl')"
   ]
  },
  {
   "cell_type": "code",
   "execution_count": 17,
   "id": "69a7b516-4f32-4b30-93bd-50af1283ff96",
   "metadata": {
    "executionInfo": {
     "elapsed": 103,
     "status": "ok",
     "timestamp": 1682723310824,
     "user": {
      "displayName": "Damir Zunic",
      "userId": "07104666280721646256"
     },
     "user_tz": 240
    },
    "id": "oceGXXgGy813"
   },
   "outputs": [],
   "source": [
    "y_pred_lr = lr.predict(X_test)"
   ]
  },
  {
   "cell_type": "code",
   "execution_count": 18,
   "id": "c3f0b68c-3329-4883-ae77-20c2c04fdaa2",
   "metadata": {
    "colab": {
     "base_uri": "https://localhost:8080/"
    },
    "executionInfo": {
     "elapsed": 136,
     "status": "ok",
     "timestamp": 1682723316194,
     "user": {
      "displayName": "Damir Zunic",
      "userId": "07104666280721646256"
     },
     "user_tz": 240
    },
    "id": "6J4oxktny813",
    "outputId": "18b582e5-71b1-471c-87c6-e6f578a95b8f"
   },
   "outputs": [
    {
     "name": "stdout",
     "output_type": "stream",
     "text": [
      "Accuracy after tuning: 83.50\n"
     ]
    }
   ],
   "source": [
    "accuracy = accuracy_score(y_test, y_pred_lr)\n",
    "print(f'Accuracy after tuning: {accuracy * 100.0:.2f}')"
   ]
  },
  {
   "cell_type": "code",
   "execution_count": 19,
   "id": "776d4c1d-9416-4b05-9d6e-395e8df3d6b9",
   "metadata": {
    "colab": {
     "base_uri": "https://localhost:8080/"
    },
    "executionInfo": {
     "elapsed": 388,
     "status": "ok",
     "timestamp": 1682723322577,
     "user": {
      "displayName": "Damir Zunic",
      "userId": "07104666280721646256"
     },
     "user_tz": 240
    },
    "id": "3c4x1xqpy813",
    "outputId": "a25687c7-a1f4-435a-9339-3048101029b2"
   },
   "outputs": [
    {
     "name": "stdout",
     "output_type": "stream",
     "text": [
      "Training Data Score: 0.9106318704371905\n",
      "Testing Data Score: 0.835005574136009\n"
     ]
    }
   ],
   "source": [
    "# Compare training and testing scores\n",
    "print(f\"Training Data Score: {lr.score(X_train, y_train)}\")\n",
    "print(f\"Testing Data Score: {lr.score(X_test, y_test)}\")"
   ]
  },
  {
   "cell_type": "code",
   "execution_count": 20,
   "id": "001564ea-70ab-45f9-bf20-83baeb7be978",
   "metadata": {
    "colab": {
     "base_uri": "https://localhost:8080/"
    },
    "executionInfo": {
     "elapsed": 131,
     "status": "ok",
     "timestamp": 1682723337574,
     "user": {
      "displayName": "Damir Zunic",
      "userId": "07104666280721646256"
     },
     "user_tz": 240
    },
    "id": "vxF3Dmuky813",
    "outputId": "7420684a-e009-4914-c011-6847573551f8"
   },
   "outputs": [
    {
     "name": "stdout",
     "output_type": "stream",
     "text": [
      "[[ 227  112]\n",
      " [ 184 1271]]\n"
     ]
    }
   ],
   "source": [
    "cm = confusion_matrix(y_test, y_pred_lr)\n",
    "print(cm)"
   ]
  },
  {
   "cell_type": "code",
   "execution_count": 21,
   "id": "fe16cedb-ee2e-405f-b96a-664d7efb018e",
   "metadata": {
    "colab": {
     "base_uri": "https://localhost:8080/",
     "height": 315
    },
    "executionInfo": {
     "elapsed": 676,
     "status": "ok",
     "timestamp": 1682723349948,
     "user": {
      "displayName": "Damir Zunic",
      "userId": "07104666280721646256"
     },
     "user_tz": 240
    },
    "id": "YVrmHaFJy813",
    "outputId": "186276b7-1e2b-48e6-a643-b7a9c9516663"
   },
   "outputs": [
    {
     "data": {
      "image/png": "[encoded data removed]",
      "text/plain": [
       "<Figure size 864x288 with 4 Axes>"
      ]
     },
     "metadata": {},
     "output_type": "display_data"
    }
   ],
   "source": [
    "# Plot confusion matrix and its normalized version.\n",
    "mu.plot_cm_unnorm_and_norm('Logistic Regression - Optuna #1', y_test, y_pred_lr, target_names, 'Reds')"
   ]
  },
  {
   "cell_type": "code",
   "execution_count": 22,
   "id": "3d48ab6b-1420-4c20-bfce-ff960ed3b1bf",
   "metadata": {
    "colab": {
     "base_uri": "https://localhost:8080/"
    },
    "executionInfo": {
     "elapsed": 169,
     "status": "ok",
     "timestamp": 1682723354939,
     "user": {
      "displayName": "Damir Zunic",
      "userId": "07104666280721646256"
     },
     "user_tz": 240
    },
    "id": "fgPfUQSBy813",
    "outputId": "fa0ce817-3b47-4d4e-d800-77839476c54e"
   },
   "outputs": [
    {
     "name": "stdout",
     "output_type": "stream",
     "text": [
      "              precision    recall  f1-score   support\n",
      "\n",
      "         hem       0.55      0.67      0.61       339\n",
      "         all       0.92      0.87      0.90      1455\n",
      "\n",
      "    accuracy                           0.84      1794\n",
      "   macro avg       0.74      0.77      0.75      1794\n",
      "weighted avg       0.85      0.84      0.84      1794\n",
      "\n"
     ]
    }
   ],
   "source": [
    "print(classification_report(y_test, y_pred_lr, target_names=target_names))"
   ]
  },
  {
   "cell_type": "markdown",
   "id": "47g1jXb1JsqI",
   "metadata": {
    "id": "47g1jXb1JsqI"
   },
   "source": [
    "## ================================================="
   ]
  },
  {
   "cell_type": "markdown",
   "id": "x87TDAmHJsqJ",
   "metadata": {
    "id": "x87TDAmHJsqJ"
   },
   "source": [
    "# Random Forest - Optuna"
   ]
  },
  {
   "cell_type": "markdown",
   "id": "440yMdBEJsqJ",
   "metadata": {
    "id": "440yMdBEJsqJ"
   },
   "source": [
    "## Optuna Objective Function"
   ]
  },
  {
   "cell_type": "code",
   "execution_count": 13,
   "id": "V12ZJIoqJsqJ",
   "metadata": {
    "executionInfo": {
     "elapsed": 158,
     "status": "ok",
     "timestamp": 1682686576304,
     "user": {
      "displayName": "Damir Zunic",
      "userId": "07104666280721646256"
     },
     "user_tz": 240
    },
    "id": "V12ZJIoqJsqJ"
   },
   "outputs": [],
   "source": [
    "def objective(trial):\n",
    "    \"\"\"Define the objective function\"\"\"\n",
    "\n",
    "    params = {\n",
    "        'n_estimators' : trial.suggest_int('n_estimators', 100, 700, 10),\n",
    "        # 'max_depth' : trial.suggest_int('max_depth', 1, 32),\n",
    "        # 'max_features' : trial.suggest_int('max_features', 2, 20),\n",
    "        'max_features' : trial.suggest_categorical('max_features', ['sqrt', 'log2']),\n",
    "        # 'bootstrap' : trial.suggest_categorical('bootstrap', [True, False]),\n",
    "        'min_samples_split' : trial.suggest_int('min_samples_split', 2, 10),\n",
    "        'min_samples_leaf' : trial.suggest_int('min_samples_leaf', 1, 10),\n",
    "        'criterion' : trial.suggest_categorical('criterion', ['gini', 'entropy'])\n",
    "    }\n",
    "\n",
    "    # Fit the model\n",
    "    model = RandomForestClassifier(**params, random_state=random_state)\n",
    "    model.fit(X_train, y_train)\n",
    "\n",
    "    # Make predictions\n",
    "    y_pred = model.predict(X_test)\n",
    "\n",
    "    # Evaluate predictions\n",
    "    f1 = f1_score(y_test, y_pred, average='macro')\n",
    "    return f1"
   ]
  },
  {
   "cell_type": "markdown",
   "id": "PV6Qa6jsJsqJ",
   "metadata": {
    "id": "PV6Qa6jsJsqJ"
   },
   "source": [
    "## Optuna Study"
   ]
  },
  {
   "cell_type": "code",
   "execution_count": 14,
   "id": "6fPE-R-ZJsqJ",
   "metadata": {
    "colab": {
     "base_uri": "https://localhost:8080/"
    },
    "executionInfo": {
     "elapsed": 109,
     "status": "ok",
     "timestamp": 1682686584099,
     "user": {
      "displayName": "Damir Zunic",
      "userId": "07104666280721646256"
     },
     "user_tz": 240
    },
    "id": "6fPE-R-ZJsqJ",
    "outputId": "65de7ca4-9eeb-4263-9d7c-7bc4f8602ddc"
   },
   "outputs": [
    {
     "name": "stderr",
     "output_type": "stream",
     "text": [
      "\u001b[32m[I 2023-04-28 12:56:23,771]\u001b[0m A new study created in memory with name: no-name-8c81861d-6f85-4821-88fb-83c3a9ecb3ec\u001b[0m\n"
     ]
    }
   ],
   "source": [
    "study = optuna.create_study(direction='maximize')"
   ]
  },
  {
   "cell_type": "markdown",
   "id": "Z8Exy0fuJsqJ",
   "metadata": {
    "id": "Z8Exy0fuJsqJ"
   },
   "source": [
    "## Optimize the Objective Function"
   ]
  },
  {
   "cell_type": "code",
   "execution_count": 15,
   "id": "ZMs2VJfdsRWF",
   "metadata": {
    "colab": {
     "base_uri": "https://localhost:8080/"
    },
    "executionInfo": {
     "elapsed": 5820451,
     "status": "ok",
     "timestamp": 1682692427105,
     "user": {
      "displayName": "Damir Zunic",
      "userId": "07104666280721646256"
     },
     "user_tz": 240
    },
    "id": "ZMs2VJfdsRWF",
    "outputId": "e9e64dd3-ed76-41ce-a6ba-47cb458ffe6e",
    "scrolled": true,
    "tags": []
   },
   "outputs": [
    {
     "name": "stderr",
     "output_type": "stream",
     "text": [
      "\u001b[32m[I 2023-04-28 12:57:00,478]\u001b[0m Trial 2 finished with value: 0.7240792387827086 and parameters: {'n_estimators': 180, 'max_features': 'log2', 'min_samples_split': 10, 'min_samples_leaf': 5, 'criterion': 'gini'}. Best is trial 2 with value: 0.7240792387827086.\u001b[0m\n",
      "\u001b[32m[I 2023-04-28 12:57:24,675]\u001b[0m Trial 3 finished with value: 0.7290529240782806 and parameters: {'n_estimators': 470, 'max_features': 'log2', 'min_samples_split': 10, 'min_samples_leaf': 3, 'criterion': 'gini'}. Best is trial 3 with value: 0.7290529240782806.\u001b[0m\n",
      "\u001b[32m[I 2023-04-28 12:57:58,272]\u001b[0m Trial 4 finished with value: 0.730781172379533 and parameters: {'n_estimators': 590, 'max_features': 'log2', 'min_samples_split': 4, 'min_samples_leaf': 7, 'criterion': 'entropy'}. Best is trial 4 with value: 0.730781172379533.\u001b[0m\n",
      "\u001b[32m[I 2023-04-28 12:57:59,693]\u001b[0m Trial 5 finished with value: 0.7386915576970086 and parameters: {'n_estimators': 310, 'max_features': 'log2', 'min_samples_split': 7, 'min_samples_leaf': 1, 'criterion': 'entropy'}. Best is trial 5 with value: 0.7386915576970086.\u001b[0m\n",
      "\u001b[32m[I 2023-04-28 12:58:58,656]\u001b[0m Trial 0 finished with value: 0.7478321043184915 and parameters: {'n_estimators': 310, 'max_features': 'sqrt', 'min_samples_split': 6, 'min_samples_leaf': 1, 'criterion': 'gini'}. Best is trial 0 with value: 0.7478321043184915.\u001b[0m\n",
      "\u001b[32m[I 2023-04-28 12:59:31,474]\u001b[0m Trial 6 finished with value: 0.7479038830858589 and parameters: {'n_estimators': 220, 'max_features': 'sqrt', 'min_samples_split': 7, 'min_samples_leaf': 1, 'criterion': 'gini'}. Best is trial 6 with value: 0.7479038830858589.\u001b[0m\n",
      "\u001b[32m[I 2023-04-28 12:59:36,711]\u001b[0m Trial 8 finished with value: 0.7289492207139265 and parameters: {'n_estimators': 380, 'max_features': 'log2', 'min_samples_split': 3, 'min_samples_leaf': 5, 'criterion': 'entropy'}. Best is trial 6 with value: 0.7479038830858589.\u001b[0m\n",
      "\u001b[32m[I 2023-04-28 13:00:16,024]\u001b[0m Trial 1 finished with value: 0.7543376347204098 and parameters: {'n_estimators': 480, 'max_features': 'sqrt', 'min_samples_split': 10, 'min_samples_leaf': 6, 'criterion': 'entropy'}. Best is trial 1 with value: 0.7543376347204098.\u001b[0m\n",
      "\u001b[32m[I 2023-04-28 13:01:19,371]\u001b[0m Trial 9 finished with value: 0.7511357104078178 and parameters: {'n_estimators': 250, 'max_features': 'sqrt', 'min_samples_split': 9, 'min_samples_leaf': 1, 'criterion': 'gini'}. Best is trial 1 with value: 0.7543376347204098.\u001b[0m\n",
      "\u001b[32m[I 2023-04-28 13:01:26,902]\u001b[0m Trial 11 finished with value: 0.7356828727296947 and parameters: {'n_estimators': 160, 'max_features': 'sqrt', 'min_samples_split': 4, 'min_samples_leaf': 4, 'criterion': 'entropy'}. Best is trial 1 with value: 0.7543376347204098.\u001b[0m\n",
      "\u001b[32m[I 2023-04-28 13:01:41,107]\u001b[0m Trial 7 finished with value: 0.755513928455587 and parameters: {'n_estimators': 550, 'max_features': 'sqrt', 'min_samples_split': 4, 'min_samples_leaf': 2, 'criterion': 'gini'}. Best is trial 7 with value: 0.755513928455587.\u001b[0m\n",
      "\u001b[32m[I 2023-04-28 13:03:07,209]\u001b[0m Trial 10 finished with value: 0.7530827236870922 and parameters: {'n_estimators': 520, 'max_features': 'sqrt', 'min_samples_split': 3, 'min_samples_leaf': 2, 'criterion': 'gini'}. Best is trial 7 with value: 0.755513928455587.\u001b[0m\n",
      "\u001b[32m[I 2023-04-28 13:04:30,882]\u001b[0m Trial 12 finished with value: 0.755429029671211 and parameters: {'n_estimators': 420, 'max_features': 'sqrt', 'min_samples_split': 6, 'min_samples_leaf': 3, 'criterion': 'entropy'}. Best is trial 7 with value: 0.755513928455587.\u001b[0m\n",
      "\u001b[32m[I 2023-04-28 13:06:07,130]\u001b[0m Trial 13 finished with value: 0.7375136124697563 and parameters: {'n_estimators': 680, 'max_features': 'sqrt', 'min_samples_split': 8, 'min_samples_leaf': 10, 'criterion': 'entropy'}. Best is trial 7 with value: 0.755513928455587.\u001b[0m\n",
      "\u001b[32m[I 2023-04-28 13:06:10,511]\u001b[0m Trial 14 finished with value: 0.7374932640123679 and parameters: {'n_estimators': 650, 'max_features': 'sqrt', 'min_samples_split': 2, 'min_samples_leaf': 10, 'criterion': 'entropy'}. Best is trial 7 with value: 0.755513928455587.\u001b[0m\n",
      "\u001b[32m[I 2023-04-28 13:07:28,479]\u001b[0m Trial 15 finished with value: 0.7338805828845627 and parameters: {'n_estimators': 620, 'max_features': 'sqrt', 'min_samples_split': 5, 'min_samples_leaf': 10, 'criterion': 'entropy'}. Best is trial 7 with value: 0.755513928455587.\u001b[0m\n",
      "\u001b[32m[I 2023-04-28 13:08:59,926]\u001b[0m Trial 18 finished with value: 0.7519052779530864 and parameters: {'n_estimators': 440, 'max_features': 'sqrt', 'min_samples_split': 5, 'min_samples_leaf': 3, 'criterion': 'gini'}. Best is trial 7 with value: 0.755513928455587.\u001b[0m\n",
      "\u001b[32m[I 2023-04-28 13:09:22,088]\u001b[0m Trial 16 finished with value: 0.7381454781248808 and parameters: {'n_estimators': 700, 'max_features': 'sqrt', 'min_samples_split': 5, 'min_samples_leaf': 9, 'criterion': 'entropy'}. Best is trial 7 with value: 0.755513928455587.\u001b[0m\n",
      "\u001b[32m[I 2023-04-28 13:09:58,289]\u001b[0m Trial 19 finished with value: 0.7477333723095687 and parameters: {'n_estimators': 390, 'max_features': 'sqrt', 'min_samples_split': 5, 'min_samples_leaf': 3, 'criterion': 'gini'}. Best is trial 7 with value: 0.755513928455587.\u001b[0m\n",
      "\u001b[32m[I 2023-04-28 13:10:36,271]\u001b[0m Trial 22 finished with value: 0.748792270531401 and parameters: {'n_estimators': 100, 'max_features': 'sqrt', 'min_samples_split': 7, 'min_samples_leaf': 4, 'criterion': 'gini'}. Best is trial 7 with value: 0.755513928455587.\u001b[0m\n",
      "\u001b[32m[I 2023-04-28 13:10:43,954]\u001b[0m Trial 17 finished with value: 0.7562286990690859 and parameters: {'n_estimators': 600, 'max_features': 'sqrt', 'min_samples_split': 5, 'min_samples_leaf': 3, 'criterion': 'entropy'}. Best is trial 17 with value: 0.7562286990690859.\u001b[0m\n",
      "\u001b[32m[I 2023-04-28 13:12:31,478]\u001b[0m Trial 20 finished with value: 0.749412614629638 and parameters: {'n_estimators': 550, 'max_features': 'sqrt', 'min_samples_split': 6, 'min_samples_leaf': 3, 'criterion': 'gini'}. Best is trial 17 with value: 0.7562286990690859.\u001b[0m\n",
      "\u001b[32m[I 2023-04-28 13:12:54,611]\u001b[0m Trial 21 finished with value: 0.749412614629638 and parameters: {'n_estimators': 550, 'max_features': 'sqrt', 'min_samples_split': 6, 'min_samples_leaf': 3, 'criterion': 'gini'}. Best is trial 17 with value: 0.7562286990690859.\u001b[0m\n",
      "\u001b[32m[I 2023-04-28 13:14:33,587]\u001b[0m Trial 23 finished with value: 0.7440236386001678 and parameters: {'n_estimators': 550, 'max_features': 'sqrt', 'min_samples_split': 2, 'min_samples_leaf': 7, 'criterion': 'entropy'}. Best is trial 17 with value: 0.7562286990690859.\u001b[0m\n",
      "\u001b[32m[I 2023-04-28 13:15:10,662]\u001b[0m Trial 24 finished with value: 0.7501009527018363 and parameters: {'n_estimators': 570, 'max_features': 'sqrt', 'min_samples_split': 6, 'min_samples_leaf': 2, 'criterion': 'entropy'}. Best is trial 17 with value: 0.7562286990690859.\u001b[0m\n",
      "\u001b[32m[I 2023-04-28 13:16:53,765]\u001b[0m Trial 25 finished with value: 0.755429029671211 and parameters: {'n_estimators': 560, 'max_features': 'sqrt', 'min_samples_split': 4, 'min_samples_leaf': 2, 'criterion': 'entropy'}. Best is trial 17 with value: 0.7562286990690859.\u001b[0m\n",
      "\u001b[32m[I 2023-04-28 13:17:25,579]\u001b[0m Trial 26 finished with value: 0.7548850395725879 and parameters: {'n_estimators': 580, 'max_features': 'sqrt', 'min_samples_split': 4, 'min_samples_leaf': 2, 'criterion': 'entropy'}. Best is trial 17 with value: 0.7562286990690859.\u001b[0m\n",
      "\u001b[32m[I 2023-04-28 13:17:39,164]\u001b[0m Trial 29 finished with value: 0.737547501140537 and parameters: {'n_estimators': 440, 'max_features': 'log2', 'min_samples_split': 3, 'min_samples_leaf': 4, 'criterion': 'entropy'}. Best is trial 17 with value: 0.7562286990690859.\u001b[0m\n",
      "\u001b[32m[I 2023-04-28 13:18:09,768]\u001b[0m Trial 30 finished with value: 0.7363207079375977 and parameters: {'n_estimators': 430, 'max_features': 'log2', 'min_samples_split': 3, 'min_samples_leaf': 4, 'criterion': 'entropy'}. Best is trial 17 with value: 0.7562286990690859.\u001b[0m\n",
      "\u001b[32m[I 2023-04-28 13:18:57,861]\u001b[0m Trial 28 finished with value: 0.7548850395725879 and parameters: {'n_estimators': 490, 'max_features': 'sqrt', 'min_samples_split': 4, 'min_samples_leaf': 2, 'criterion': 'entropy'}. Best is trial 17 with value: 0.7562286990690859.\u001b[0m\n",
      "\u001b[32m[I 2023-04-28 13:19:16,668]\u001b[0m Trial 27 finished with value: 0.7579503165627568 and parameters: {'n_estimators': 610, 'max_features': 'sqrt', 'min_samples_split': 4, 'min_samples_leaf': 2, 'criterion': 'entropy'}. Best is trial 27 with value: 0.7579503165627568.\u001b[0m\n",
      "\u001b[32m[I 2023-04-28 13:20:00,275]\u001b[0m Trial 32 finished with value: 0.7428408179631115 and parameters: {'n_estimators': 320, 'max_features': 'sqrt', 'min_samples_split': 7, 'min_samples_leaf': 6, 'criterion': 'gini'}. Best is trial 27 with value: 0.7579503165627568.\u001b[0m\n",
      "\u001b[32m[I 2023-04-28 13:20:14,135]\u001b[0m Trial 31 finished with value: 0.752045730810531 and parameters: {'n_estimators': 340, 'max_features': 'sqrt', 'min_samples_split': 5, 'min_samples_leaf': 4, 'criterion': 'entropy'}. Best is trial 27 with value: 0.7579503165627568.\u001b[0m\n",
      "\u001b[32m[I 2023-04-28 13:20:55,260]\u001b[0m Trial 33 finished with value: 0.7445355490540898 and parameters: {'n_estimators': 330, 'max_features': 'sqrt', 'min_samples_split': 8, 'min_samples_leaf': 5, 'criterion': 'gini'}. Best is trial 27 with value: 0.7579503165627568.\u001b[0m\n",
      "\u001b[32m[I 2023-04-28 13:24:14,422]\u001b[0m Trial 34 finished with value: 0.7682699158178145 and parameters: {'n_estimators': 630, 'max_features': 'sqrt', 'min_samples_split': 5, 'min_samples_leaf': 1, 'criterion': 'entropy'}. Best is trial 34 with value: 0.7682699158178145.\u001b[0m\n",
      "\u001b[32m[I 2023-04-28 13:24:55,841]\u001b[0m Trial 35 finished with value: 0.7682699158178145 and parameters: {'n_estimators': 630, 'max_features': 'sqrt', 'min_samples_split': 5, 'min_samples_leaf': 1, 'criterion': 'entropy'}. Best is trial 34 with value: 0.7682699158178145.\u001b[0m\n",
      "\u001b[32m[I 2023-04-28 13:25:09,871]\u001b[0m Trial 36 finished with value: 0.7638966190000662 and parameters: {'n_estimators': 620, 'max_features': 'sqrt', 'min_samples_split': 6, 'min_samples_leaf': 1, 'criterion': 'entropy'}. Best is trial 34 with value: 0.7682699158178145.\u001b[0m\n",
      "\u001b[32m[I 2023-04-28 13:25:43,950]\u001b[0m Trial 37 finished with value: 0.7638966190000662 and parameters: {'n_estimators': 610, 'max_features': 'sqrt', 'min_samples_split': 6, 'min_samples_leaf': 1, 'criterion': 'entropy'}. Best is trial 34 with value: 0.7682699158178145.\u001b[0m\n",
      "\u001b[32m[I 2023-04-28 13:26:19,590]\u001b[0m Trial 40 finished with value: 0.7477890606036086 and parameters: {'n_estimators': 640, 'max_features': 'log2', 'min_samples_split': 6, 'min_samples_leaf': 1, 'criterion': 'entropy'}. Best is trial 34 with value: 0.7682699158178145.\u001b[0m\n",
      "\u001b[32m[I 2023-04-28 13:26:54,849]\u001b[0m Trial 41 finished with value: 0.746692187511947 and parameters: {'n_estimators': 650, 'max_features': 'log2', 'min_samples_split': 8, 'min_samples_leaf': 1, 'criterion': 'entropy'}. Best is trial 34 with value: 0.7682699158178145.\u001b[0m\n",
      "\u001b[32m[I 2023-04-28 13:27:30,012]\u001b[0m Trial 42 finished with value: 0.7428408179631115 and parameters: {'n_estimators': 650, 'max_features': 'log2', 'min_samples_split': 7, 'min_samples_leaf': 1, 'criterion': 'entropy'}. Best is trial 34 with value: 0.7682699158178145.\u001b[0m\n",
      "\u001b[32m[I 2023-04-28 13:29:07,615]\u001b[0m Trial 38 finished with value: 0.7668594928115438 and parameters: {'n_estimators': 620, 'max_features': 'sqrt', 'min_samples_split': 4, 'min_samples_leaf': 1, 'criterion': 'entropy'}. Best is trial 34 with value: 0.7682699158178145.\u001b[0m\n",
      "\u001b[32m[I 2023-04-28 13:30:03,434]\u001b[0m Trial 39 finished with value: 0.7652908292152165 and parameters: {'n_estimators': 650, 'max_features': 'sqrt', 'min_samples_split': 5, 'min_samples_leaf': 1, 'criterion': 'entropy'}. Best is trial 34 with value: 0.7682699158178145.\u001b[0m\n",
      "\u001b[32m[I 2023-04-28 13:32:13,330]\u001b[0m Trial 43 finished with value: 0.7553424946311544 and parameters: {'n_estimators': 680, 'max_features': 'sqrt', 'min_samples_split': 7, 'min_samples_leaf': 1, 'criterion': 'entropy'}. Best is trial 34 with value: 0.7682699158178145.\u001b[0m\n",
      "\u001b[32m[I 2023-04-28 13:32:19,722]\u001b[0m Trial 44 finished with value: 0.7677481996925317 and parameters: {'n_estimators': 610, 'max_features': 'sqrt', 'min_samples_split': 5, 'min_samples_leaf': 1, 'criterion': 'entropy'}. Best is trial 34 with value: 0.7682699158178145.\u001b[0m\n",
      "\u001b[32m[I 2023-04-28 13:34:31,205]\u001b[0m Trial 45 finished with value: 0.7641192653127276 and parameters: {'n_estimators': 680, 'max_features': 'sqrt', 'min_samples_split': 5, 'min_samples_leaf': 1, 'criterion': 'entropy'}. Best is trial 34 with value: 0.7682699158178145.\u001b[0m\n",
      "\u001b[32m[I 2023-04-28 13:35:31,115]\u001b[0m Trial 46 finished with value: 0.7640086386121772 and parameters: {'n_estimators': 690, 'max_features': 'sqrt', 'min_samples_split': 5, 'min_samples_leaf': 1, 'criterion': 'entropy'}. Best is trial 34 with value: 0.7682699158178145.\u001b[0m\n",
      "\u001b[32m[I 2023-04-28 13:36:12,237]\u001b[0m Trial 47 finished with value: 0.760291987229075 and parameters: {'n_estimators': 500, 'max_features': 'sqrt', 'min_samples_split': 5, 'min_samples_leaf': 1, 'criterion': 'entropy'}. Best is trial 34 with value: 0.7682699158178145.\u001b[0m\n",
      "\u001b[32m[I 2023-04-28 13:36:20,183]\u001b[0m Trial 48 finished with value: 0.7623047981228255 and parameters: {'n_estimators': 510, 'max_features': 'sqrt', 'min_samples_split': 5, 'min_samples_leaf': 1, 'criterion': 'entropy'}. Best is trial 34 with value: 0.7682699158178145.\u001b[0m\n",
      "\u001b[32m[I 2023-04-28 13:38:34,160]\u001b[0m Trial 49 finished with value: 0.7529261009804236 and parameters: {'n_estimators': 520, 'max_features': 'sqrt', 'min_samples_split': 3, 'min_samples_leaf': 2, 'criterion': 'entropy'}. Best is trial 34 with value: 0.7682699158178145.\u001b[0m\n",
      "\u001b[32m[I 2023-04-28 13:39:28,714]\u001b[0m Trial 50 finished with value: 0.7553424946311544 and parameters: {'n_estimators': 510, 'max_features': 'sqrt', 'min_samples_split': 3, 'min_samples_leaf': 2, 'criterion': 'entropy'}. Best is trial 34 with value: 0.7682699158178145.\u001b[0m\n",
      "\u001b[32m[I 2023-04-28 13:40:15,250]\u001b[0m Trial 51 finished with value: 0.7529261009804236 and parameters: {'n_estimators': 520, 'max_features': 'sqrt', 'min_samples_split': 3, 'min_samples_leaf': 2, 'criterion': 'entropy'}. Best is trial 34 with value: 0.7682699158178145.\u001b[0m\n",
      "\u001b[32m[I 2023-04-28 13:40:30,014]\u001b[0m Trial 52 finished with value: 0.7517577692777648 and parameters: {'n_estimators': 530, 'max_features': 'sqrt', 'min_samples_split': 3, 'min_samples_leaf': 2, 'criterion': 'entropy'}. Best is trial 34 with value: 0.7682699158178145.\u001b[0m\n",
      "\u001b[32m[I 2023-04-28 13:43:28,050]\u001b[0m Trial 53 finished with value: 0.7530827236870922 and parameters: {'n_estimators': 630, 'max_features': 'sqrt', 'min_samples_split': 4, 'min_samples_leaf': 2, 'criterion': 'entropy'}. Best is trial 34 with value: 0.7682699158178145.\u001b[0m\n",
      "\u001b[32m[I 2023-04-28 13:44:47,351]\u001b[0m Trial 54 finished with value: 0.7668594928115438 and parameters: {'n_estimators': 670, 'max_features': 'sqrt', 'min_samples_split': 4, 'min_samples_leaf': 1, 'criterion': 'entropy'}. Best is trial 34 with value: 0.7682699158178145.\u001b[0m\n",
      "\u001b[32m[I 2023-04-28 13:45:35,245]\u001b[0m Trial 55 finished with value: 0.7668594928115438 and parameters: {'n_estimators': 670, 'max_features': 'sqrt', 'min_samples_split': 4, 'min_samples_leaf': 1, 'criterion': 'entropy'}. Best is trial 34 with value: 0.7682699158178145.\u001b[0m\n",
      "\u001b[32m[I 2023-04-28 13:45:48,241]\u001b[0m Trial 56 finished with value: 0.7668594928115438 and parameters: {'n_estimators': 670, 'max_features': 'sqrt', 'min_samples_split': 4, 'min_samples_leaf': 1, 'criterion': 'entropy'}. Best is trial 34 with value: 0.7682699158178145.\u001b[0m\n",
      "\u001b[32m[I 2023-04-28 13:48:52,267]\u001b[0m Trial 57 finished with value: 0.7662189254210103 and parameters: {'n_estimators': 680, 'max_features': 'sqrt', 'min_samples_split': 4, 'min_samples_leaf': 1, 'criterion': 'entropy'}. Best is trial 34 with value: 0.7682699158178145.\u001b[0m\n",
      "\u001b[32m[I 2023-04-28 13:48:59,247]\u001b[0m Trial 58 finished with value: 0.7441601262238046 and parameters: {'n_estimators': 590, 'max_features': 'sqrt', 'min_samples_split': 4, 'min_samples_leaf': 8, 'criterion': 'entropy'}. Best is trial 34 with value: 0.7682699158178145.\u001b[0m\n",
      "\u001b[32m[I 2023-04-28 13:50:12,746]\u001b[0m Trial 59 finished with value: 0.7387950127142974 and parameters: {'n_estimators': 660, 'max_features': 'sqrt', 'min_samples_split': 4, 'min_samples_leaf': 9, 'criterion': 'entropy'}. Best is trial 34 with value: 0.7682699158178145.\u001b[0m\n",
      "\u001b[32m[I 2023-04-28 13:50:28,811]\u001b[0m Trial 60 finished with value: 0.7643043080146286 and parameters: {'n_estimators': 590, 'max_features': 'sqrt', 'min_samples_split': 4, 'min_samples_leaf': 1, 'criterion': 'entropy'}. Best is trial 34 with value: 0.7682699158178145.\u001b[0m\n",
      "\u001b[32m[I 2023-04-28 13:51:03,278]\u001b[0m Trial 62 finished with value: 0.7555971768391012 and parameters: {'n_estimators': 270, 'max_features': 'sqrt', 'min_samples_split': 4, 'min_samples_leaf': 3, 'criterion': 'entropy'}. Best is trial 34 with value: 0.7682699158178145.\u001b[0m\n",
      "\u001b[32m[I 2023-04-28 13:53:06,027]\u001b[0m Trial 61 finished with value: 0.7441601262238046 and parameters: {'n_estimators': 590, 'max_features': 'sqrt', 'min_samples_split': 4, 'min_samples_leaf': 8, 'criterion': 'entropy'}. Best is trial 34 with value: 0.7682699158178145.\u001b[0m\n",
      "\u001b[32m[I 2023-04-28 13:54:43,210]\u001b[0m Trial 63 finished with value: 0.7550469293632172 and parameters: {'n_estimators': 590, 'max_features': 'sqrt', 'min_samples_split': 5, 'min_samples_leaf': 3, 'criterion': 'entropy'}. Best is trial 34 with value: 0.7682699158178145.\u001b[0m\n",
      "\u001b[32m[I 2023-04-28 13:55:45,952]\u001b[0m Trial 64 finished with value: 0.764761334358709 and parameters: {'n_estimators': 670, 'max_features': 'sqrt', 'min_samples_split': 5, 'min_samples_leaf': 1, 'criterion': 'entropy'}. Best is trial 34 with value: 0.7682699158178145.\u001b[0m\n",
      "\u001b[32m[I 2023-04-28 13:56:23,629]\u001b[0m Trial 65 finished with value: 0.764761334358709 and parameters: {'n_estimators': 670, 'max_features': 'sqrt', 'min_samples_split': 5, 'min_samples_leaf': 1, 'criterion': 'entropy'}. Best is trial 34 with value: 0.7682699158178145.\u001b[0m\n",
      "\u001b[32m[I 2023-04-28 13:58:20,895]\u001b[0m Trial 66 finished with value: 0.7581303409056351 and parameters: {'n_estimators': 670, 'max_features': 'sqrt', 'min_samples_split': 5, 'min_samples_leaf': 2, 'criterion': 'entropy'}. Best is trial 34 with value: 0.7682699158178145.\u001b[0m\n",
      "\u001b[32m[I 2023-04-28 13:59:34,960]\u001b[0m Trial 70 finished with value: 0.7435817899826658 and parameters: {'n_estimators': 700, 'max_features': 'log2', 'min_samples_split': 2, 'min_samples_leaf': 2, 'criterion': 'entropy'}. Best is trial 34 with value: 0.7682699158178145.\u001b[0m\n",
      "\u001b[32m[I 2023-04-28 14:00:11,952]\u001b[0m Trial 67 finished with value: 0.7659337325026296 and parameters: {'n_estimators': 700, 'max_features': 'sqrt', 'min_samples_split': 5, 'min_samples_leaf': 1, 'criterion': 'entropy'}. Best is trial 34 with value: 0.7682699158178145.\u001b[0m\n",
      "\u001b[32m[I 2023-04-28 14:01:16,126]\u001b[0m Trial 68 finished with value: 0.7566873554580835 and parameters: {'n_estimators': 700, 'max_features': 'sqrt', 'min_samples_split': 2, 'min_samples_leaf': 2, 'criterion': 'entropy'}. Best is trial 34 with value: 0.7682699158178145.\u001b[0m\n",
      "\u001b[32m[I 2023-04-28 14:01:52,702]\u001b[0m Trial 69 finished with value: 0.7566873554580835 and parameters: {'n_estimators': 700, 'max_features': 'sqrt', 'min_samples_split': 2, 'min_samples_leaf': 2, 'criterion': 'entropy'}. Best is trial 34 with value: 0.7682699158178145.\u001b[0m\n",
      "\u001b[32m[I 2023-04-28 14:04:32,228]\u001b[0m Trial 71 finished with value: 0.7530827236870922 and parameters: {'n_estimators': 630, 'max_features': 'sqrt', 'min_samples_split': 4, 'min_samples_leaf': 2, 'criterion': 'entropy'}. Best is trial 34 with value: 0.7682699158178145.\u001b[0m\n",
      "\u001b[32m[I 2023-04-28 14:05:07,425]\u001b[0m Trial 72 finished with value: 0.7530827236870922 and parameters: {'n_estimators': 630, 'max_features': 'sqrt', 'min_samples_split': 4, 'min_samples_leaf': 2, 'criterion': 'entropy'}. Best is trial 34 with value: 0.7682699158178145.\u001b[0m\n",
      "\u001b[32m[I 2023-04-28 14:05:42,697]\u001b[0m Trial 73 finished with value: 0.7505147702038893 and parameters: {'n_estimators': 620, 'max_features': 'sqrt', 'min_samples_split': 10, 'min_samples_leaf': 1, 'criterion': 'gini'}. Best is trial 34 with value: 0.7682699158178145.\u001b[0m\n",
      "\u001b[32m[I 2023-04-28 14:06:51,718]\u001b[0m Trial 74 finished with value: 0.7673758680612052 and parameters: {'n_estimators': 630, 'max_features': 'sqrt', 'min_samples_split': 4, 'min_samples_leaf': 1, 'criterion': 'entropy'}. Best is trial 34 with value: 0.7682699158178145.\u001b[0m\n",
      "\u001b[32m[I 2023-04-28 14:09:32,171]\u001b[0m Trial 75 finished with value: 0.7673758680612052 and parameters: {'n_estimators': 630, 'max_features': 'sqrt', 'min_samples_split': 4, 'min_samples_leaf': 1, 'criterion': 'entropy'}. Best is trial 34 with value: 0.7682699158178145.\u001b[0m\n",
      "\u001b[32m[I 2023-04-28 14:09:56,722]\u001b[0m Trial 76 finished with value: 0.766735679779158 and parameters: {'n_estimators': 610, 'max_features': 'sqrt', 'min_samples_split': 4, 'min_samples_leaf': 1, 'criterion': 'entropy'}. Best is trial 34 with value: 0.7682699158178145.\u001b[0m\n",
      "\u001b[32m[I 2023-04-28 14:10:31,438]\u001b[0m Trial 77 finished with value: 0.766735679779158 and parameters: {'n_estimators': 610, 'max_features': 'sqrt', 'min_samples_split': 4, 'min_samples_leaf': 1, 'criterion': 'entropy'}. Best is trial 34 with value: 0.7682699158178145.\u001b[0m\n",
      "\u001b[32m[I 2023-04-28 14:10:35,275]\u001b[0m Trial 78 finished with value: 0.7610263586758713 and parameters: {'n_estimators': 470, 'max_features': 'sqrt', 'min_samples_split': 3, 'min_samples_leaf': 1, 'criterion': 'entropy'}. Best is trial 34 with value: 0.7682699158178145.\u001b[0m\n",
      "\u001b[32m[I 2023-04-28 14:11:22,709]\u001b[0m Trial 82 finished with value: 0.7476757760306053 and parameters: {'n_estimators': 570, 'max_features': 'log2', 'min_samples_split': 6, 'min_samples_leaf': 1, 'criterion': 'gini'}. Best is trial 34 with value: 0.7682699158178145.\u001b[0m\n",
      "\u001b[32m[I 2023-04-28 14:11:35,370]\u001b[0m Trial 81 finished with value: 0.7507249528780628 and parameters: {'n_estimators': 570, 'max_features': 'log2', 'min_samples_split': 3, 'min_samples_leaf': 1, 'criterion': 'entropy'}. Best is trial 34 with value: 0.7682699158178145.\u001b[0m\n",
      "\u001b[32m[I 2023-04-28 14:14:03,220]\u001b[0m Trial 79 finished with value: 0.7662277662277663 and parameters: {'n_estimators': 570, 'max_features': 'sqrt', 'min_samples_split': 3, 'min_samples_leaf': 1, 'criterion': 'entropy'}. Best is trial 34 with value: 0.7682699158178145.\u001b[0m\n",
      "\u001b[32m[I 2023-04-28 14:14:28,740]\u001b[0m Trial 80 finished with value: 0.7662277662277663 and parameters: {'n_estimators': 570, 'max_features': 'sqrt', 'min_samples_split': 3, 'min_samples_leaf': 1, 'criterion': 'entropy'}. Best is trial 34 with value: 0.7682699158178145.\u001b[0m\n",
      "\u001b[32m[I 2023-04-28 14:16:22,460]\u001b[0m Trial 83 finished with value: 0.748173043924375 and parameters: {'n_estimators': 640, 'max_features': 'sqrt', 'min_samples_split': 3, 'min_samples_leaf': 2, 'criterion': 'entropy'}. Best is trial 34 with value: 0.7682699158178145.\u001b[0m\n",
      "\u001b[32m[I 2023-04-28 14:16:40,486]\u001b[0m Trial 84 finished with value: 0.7680172413793103 and parameters: {'n_estimators': 640, 'max_features': 'sqrt', 'min_samples_split': 4, 'min_samples_leaf': 1, 'criterion': 'entropy'}. Best is trial 34 with value: 0.7682699158178145.\u001b[0m\n",
      "\u001b[32m[I 2023-04-28 14:19:04,656]\u001b[0m Trial 85 finished with value: 0.7646491332524679 and parameters: {'n_estimators': 640, 'max_features': 'sqrt', 'min_samples_split': 5, 'min_samples_leaf': 1, 'criterion': 'entropy'}. Best is trial 34 with value: 0.7682699158178145.\u001b[0m\n",
      "\u001b[32m[I 2023-04-28 14:19:33,376]\u001b[0m Trial 86 finished with value: 0.7680172413793103 and parameters: {'n_estimators': 640, 'max_features': 'sqrt', 'min_samples_split': 4, 'min_samples_leaf': 1, 'criterion': 'entropy'}. Best is trial 34 with value: 0.7682699158178145.\u001b[0m\n",
      "\u001b[32m[I 2023-04-28 14:21:34,190]\u001b[0m Trial 87 finished with value: 0.7673758680612052 and parameters: {'n_estimators': 660, 'max_features': 'sqrt', 'min_samples_split': 4, 'min_samples_leaf': 1, 'criterion': 'entropy'}. Best is trial 34 with value: 0.7682699158178145.\u001b[0m\n",
      "\u001b[32m[I 2023-04-28 14:21:44,366]\u001b[0m Trial 88 finished with value: 0.7662189254210103 and parameters: {'n_estimators': 650, 'max_features': 'sqrt', 'min_samples_split': 4, 'min_samples_leaf': 1, 'criterion': 'entropy'}. Best is trial 34 with value: 0.7682699158178145.\u001b[0m\n",
      "\u001b[32m[I 2023-04-28 14:23:47,858]\u001b[0m Trial 90 finished with value: 0.7548850395725879 and parameters: {'n_estimators': 540, 'max_features': 'sqrt', 'min_samples_split': 6, 'min_samples_leaf': 2, 'criterion': 'entropy'}. Best is trial 34 with value: 0.7682699158178145.\u001b[0m\n",
      "\u001b[32m[I 2023-04-28 14:24:12,445]\u001b[0m Trial 89 finished with value: 0.748173043924375 and parameters: {'n_estimators': 650, 'max_features': 'sqrt', 'min_samples_split': 4, 'min_samples_leaf': 2, 'criterion': 'entropy'}. Best is trial 34 with value: 0.7682699158178145.\u001b[0m\n",
      "\u001b[32m[I 2023-04-28 14:25:30,306]\u001b[0m Trial 91 finished with value: 0.7507249528780628 and parameters: {'n_estimators': 540, 'max_features': 'sqrt', 'min_samples_split': 6, 'min_samples_leaf': 6, 'criterion': 'entropy'}. Best is trial 34 with value: 0.7682699158178145.\u001b[0m\n",
      "\u001b[32m[I 2023-04-28 14:26:28,490]\u001b[0m Trial 92 finished with value: 0.753630713712911 and parameters: {'n_estimators': 600, 'max_features': 'sqrt', 'min_samples_split': 6, 'min_samples_leaf': 2, 'criterion': 'entropy'}. Best is trial 34 with value: 0.7682699158178145.\u001b[0m\n",
      "\u001b[32m[I 2023-04-28 14:26:33,945]\u001b[0m Trial 93 finished with value: 0.760291987229075 and parameters: {'n_estimators': 360, 'max_features': 'sqrt', 'min_samples_split': 5, 'min_samples_leaf': 2, 'criterion': 'entropy'}. Best is trial 34 with value: 0.7682699158178145.\u001b[0m\n",
      "\u001b[32m[I 2023-04-28 14:28:50,278]\u001b[0m Trial 94 finished with value: 0.7672231852324909 and parameters: {'n_estimators': 600, 'max_features': 'sqrt', 'min_samples_split': 5, 'min_samples_leaf': 1, 'criterion': 'entropy'}. Best is trial 34 with value: 0.7682699158178145.\u001b[0m\n",
      "\u001b[32m[I 2023-04-28 14:30:24,444]\u001b[0m Trial 95 finished with value: 0.7677481996925317 and parameters: {'n_estimators': 610, 'max_features': 'sqrt', 'min_samples_split': 5, 'min_samples_leaf': 1, 'criterion': 'entropy'}. Best is trial 34 with value: 0.7682699158178145.\u001b[0m\n",
      "\u001b[32m[I 2023-04-28 14:31:31,075]\u001b[0m Trial 96 finished with value: 0.7671032552444426 and parameters: {'n_estimators': 620, 'max_features': 'sqrt', 'min_samples_split': 5, 'min_samples_leaf': 1, 'criterion': 'entropy'}. Best is trial 34 with value: 0.7682699158178145.\u001b[0m\n",
      "\u001b[32m[I 2023-04-28 14:31:33,704]\u001b[0m Trial 97 finished with value: 0.7668594928115438 and parameters: {'n_estimators': 620, 'max_features': 'sqrt', 'min_samples_split': 4, 'min_samples_leaf': 1, 'criterion': 'entropy'}. Best is trial 34 with value: 0.7682699158178145.\u001b[0m\n",
      "\u001b[32m[I 2023-04-28 14:33:05,834]\u001b[0m Trial 98 finished with value: 0.7671032552444426 and parameters: {'n_estimators': 620, 'max_features': 'sqrt', 'min_samples_split': 5, 'min_samples_leaf': 1, 'criterion': 'entropy'}. Best is trial 34 with value: 0.7682699158178145.\u001b[0m\n",
      "\u001b[32m[I 2023-04-28 14:33:46,821]\u001b[0m Trial 99 finished with value: 0.7523031947902414 and parameters: {'n_estimators': 600, 'max_features': 'sqrt', 'min_samples_split': 5, 'min_samples_leaf': 1, 'criterion': 'gini'}. Best is trial 34 with value: 0.7682699158178145.\u001b[0m\n"
     ]
    }
   ],
   "source": [
    "study.optimize(objective, n_jobs=-1, n_trials=100)"
   ]
  },
  {
   "cell_type": "markdown",
   "id": "1913c4a7-e674-43d9-a66a-8c67b4598008",
   "metadata": {},
   "source": [
    "#### Check 10 more trials"
   ]
  },
  {
   "cell_type": "code",
   "execution_count": 16,
   "id": "2odrTXcgmquo",
   "metadata": {
    "colab": {
     "base_uri": "https://localhost:8080/"
    },
    "executionInfo": {
     "elapsed": 604655,
     "status": "ok",
     "timestamp": 1682693084307,
     "user": {
      "displayName": "Damir Zunic",
      "userId": "07104666280721646256"
     },
     "user_tz": 240
    },
    "id": "2odrTXcgmquo",
    "outputId": "fdf7d43c-470e-4d9d-b85e-05d0544cc4f9",
    "scrolled": true,
    "tags": []
   },
   "outputs": [
    {
     "name": "stderr",
     "output_type": "stream",
     "text": [
      "\u001b[32m[I 2023-04-28 14:35:53,545]\u001b[0m Trial 103 finished with value: 0.7497776281390707 and parameters: {'n_estimators': 160, 'max_features': 'sqrt', 'min_samples_split': 5, 'min_samples_leaf': 5, 'criterion': 'entropy'}. Best is trial 34 with value: 0.7682699158178145.\u001b[0m\n",
      "\u001b[32m[I 2023-04-28 14:36:02,403]\u001b[0m Trial 100 finished with value: 0.7557586644125105 and parameters: {'n_estimators': 190, 'max_features': 'sqrt', 'min_samples_split': 5, 'min_samples_leaf': 5, 'criterion': 'entropy'}. Best is trial 34 with value: 0.7682699158178145.\u001b[0m\n",
      "\u001b[32m[I 2023-04-28 14:36:03,202]\u001b[0m Trial 101 finished with value: 0.7557586644125105 and parameters: {'n_estimators': 190, 'max_features': 'sqrt', 'min_samples_split': 5, 'min_samples_leaf': 5, 'criterion': 'entropy'}. Best is trial 34 with value: 0.7682699158178145.\u001b[0m\n",
      "\u001b[32m[I 2023-04-28 14:39:20,153]\u001b[0m Trial 102 finished with value: 0.7582179501849944 and parameters: {'n_estimators': 640, 'max_features': 'sqrt', 'min_samples_split': 5, 'min_samples_leaf': 5, 'criterion': 'entropy'}. Best is trial 34 with value: 0.7682699158178145.\u001b[0m\n",
      "\u001b[32m[I 2023-04-28 14:40:58,861]\u001b[0m Trial 104 finished with value: 0.7646491332524679 and parameters: {'n_estimators': 640, 'max_features': 'sqrt', 'min_samples_split': 5, 'min_samples_leaf': 1, 'criterion': 'entropy'}. Best is trial 34 with value: 0.7682699158178145.\u001b[0m\n",
      "\u001b[32m[I 2023-04-28 14:41:02,367]\u001b[0m Trial 105 finished with value: 0.7646491332524679 and parameters: {'n_estimators': 640, 'max_features': 'sqrt', 'min_samples_split': 5, 'min_samples_leaf': 1, 'criterion': 'entropy'}. Best is trial 34 with value: 0.7682699158178145.\u001b[0m\n",
      "\u001b[32m[I 2023-04-28 14:41:03,591]\u001b[0m Trial 106 finished with value: 0.7646491332524679 and parameters: {'n_estimators': 640, 'max_features': 'sqrt', 'min_samples_split': 5, 'min_samples_leaf': 1, 'criterion': 'entropy'}. Best is trial 34 with value: 0.7682699158178145.\u001b[0m\n",
      "\u001b[32m[I 2023-04-28 14:43:39,667]\u001b[0m Trial 107 finished with value: 0.7627312294605882 and parameters: {'n_estimators': 600, 'max_features': 'sqrt', 'min_samples_split': 6, 'min_samples_leaf': 1, 'criterion': 'entropy'}. Best is trial 34 with value: 0.7682699158178145.\u001b[0m\n",
      "\u001b[32m[I 2023-04-28 14:44:40,241]\u001b[0m Trial 108 finished with value: 0.7627312294605882 and parameters: {'n_estimators': 600, 'max_features': 'sqrt', 'min_samples_split': 6, 'min_samples_leaf': 1, 'criterion': 'entropy'}. Best is trial 34 with value: 0.7682699158178145.\u001b[0m\n",
      "\u001b[32m[I 2023-04-28 14:44:44,016]\u001b[0m Trial 109 finished with value: 0.7627312294605882 and parameters: {'n_estimators': 600, 'max_features': 'sqrt', 'min_samples_split': 6, 'min_samples_leaf': 1, 'criterion': 'entropy'}. Best is trial 34 with value: 0.7682699158178145.\u001b[0m\n"
     ]
    }
   ],
   "source": [
    "study.optimize(objective, n_jobs=-1, n_trials=10)"
   ]
  },
  {
   "cell_type": "markdown",
   "id": "dGexHTbpV5Dp",
   "metadata": {
    "id": "dGexHTbpV5Dp"
   },
   "source": [
    "## Best Parameters"
   ]
  },
  {
   "cell_type": "code",
   "execution_count": 17,
   "id": "zCdQzjrxV5Dp",
   "metadata": {
    "colab": {
     "base_uri": "https://localhost:8080/"
    },
    "executionInfo": {
     "elapsed": 429,
     "status": "ok",
     "timestamp": 1682693412925,
     "user": {
      "displayName": "Damir Zunic",
      "userId": "07104666280721646256"
     },
     "user_tz": 240
    },
    "id": "zCdQzjrxV5Dp",
    "outputId": "f53ae9b0-8ad6-4713-8629-e4f2d3600290"
   },
   "outputs": [
    {
     "name": "stdout",
     "output_type": "stream",
     "text": [
      "Number of finished trials: 110\n",
      "Best trial:\n",
      "  Value: 0.7682699158178145\n",
      "  Params: \n",
      "    n_estimators: 630\n",
      "    max_features: sqrt\n",
      "    min_samples_split: 5\n",
      "    min_samples_leaf: 1\n",
      "    criterion: entropy\n"
     ]
    }
   ],
   "source": [
    "print(f'Number of finished trials: {len(study.trials)}')\n",
    "print('Best trial:')\n",
    "trial = study.best_trial\n",
    "\n",
    "print(f'  Value: {trial.value}')\n",
    "print('  Params: ')\n",
    "\n",
    "for key, value in trial.params.items():\n",
    "    print(f'    {key}: {value}')"
   ]
  },
  {
   "cell_type": "markdown",
   "id": "Q96XaEpWV5Dp",
   "metadata": {
    "id": "Q96XaEpWV5Dp"
   },
   "source": [
    "## Re-fit the model"
   ]
  },
  {
   "cell_type": "code",
   "execution_count": 18,
   "id": "pgLWgNpVV5Dq",
   "metadata": {
    "colab": {
     "base_uri": "https://localhost:8080/"
    },
    "executionInfo": {
     "elapsed": 169,
     "status": "ok",
     "timestamp": 1682693434168,
     "user": {
      "displayName": "Damir Zunic",
      "userId": "07104666280721646256"
     },
     "user_tz": 240
    },
    "id": "pgLWgNpVV5Dq",
    "outputId": "a6b9c309-6a22-4c8a-ac85-a174d4dcfda3"
   },
   "outputs": [
    {
     "data": {
      "text/plain": [
       "{'n_estimators': 630,\n",
       " 'max_features': 'sqrt',\n",
       " 'min_samples_split': 5,\n",
       " 'min_samples_leaf': 1,\n",
       " 'criterion': 'entropy'}"
      ]
     },
     "execution_count": 18,
     "metadata": {},
     "output_type": "execute_result"
    }
   ],
   "source": [
    "params_rf = trial.params\n",
    "params_rf"
   ]
  },
  {
   "cell_type": "code",
   "execution_count": 19,
   "id": "111wzLGRV5Dq",
   "metadata": {
    "colab": {
     "base_uri": "https://localhost:8080/",
     "height": 92
    },
    "executionInfo": {
     "elapsed": 199796,
     "status": "ok",
     "timestamp": 1682693642101,
     "user": {
      "displayName": "Damir Zunic",
      "userId": "07104666280721646256"
     },
     "user_tz": 240
    },
    "id": "111wzLGRV5Dq",
    "outputId": "d27df2c5-24d1-4029-8425-9e72b1353421"
   },
   "outputs": [
    {
     "data": {
      "text/html": [
       "<style>#sk-container-id-1 {color: black;background-color: white;}#sk-container-id-1 pre{padding: 0;}#sk-container-id-1 div.sk-toggleable {background-color: white;}#sk-container-id-1 label.sk-toggleable__label {cursor: pointer;display: block;width: 100%;margin-bottom: 0;padding: 0.3em;box-sizing: border-box;text-align: center;}#sk-container-id-1 label.sk-toggleable__label-arrow:before {content: \"▸\";float: left;margin-right: 0.25em;color: #696969;}#sk-container-id-1 label.sk-toggleable__label-arrow:hover:before {color: black;}#sk-container-id-1 div.sk-estimator:hover label.sk-toggleable__label-arrow:before {color: black;}#sk-container-id-1 div.sk-toggleable__content {max-height: 0;max-width: 0;overflow: hidden;text-align: left;background-color: #f0f8ff;}#sk-container-id-1 div.sk-toggleable__content pre {margin: 0.2em;color: black;border-radius: 0.25em;background-color: #f0f8ff;}#sk-container-id-1 input.sk-toggleable__control:checked~div.sk-toggleable__content {max-height: 200px;max-width: 100%;overflow: auto;}#sk-container-id-1 input.sk-toggleable__control:checked~label.sk-toggleable__label-arrow:before {content: \"▾\";}#sk-container-id-1 div.sk-estimator input.sk-toggleable__control:checked~label.sk-toggleable__label {background-color: #d4ebff;}#sk-container-id-1 div.sk-label input.sk-toggleable__control:checked~label.sk-toggleable__label {background-color: #d4ebff;}#sk-container-id-1 input.sk-hidden--visually {border: 0;clip: rect(1px 1px 1px 1px);clip: rect(1px, 1px, 1px, 1px);height: 1px;margin: -1px;overflow: hidden;padding: 0;position: absolute;width: 1px;}#sk-container-id-1 div.sk-estimator {font-family: monospace;background-color: #f0f8ff;border: 1px dotted black;border-radius: 0.25em;box-sizing: border-box;margin-bottom: 0.5em;}#sk-container-id-1 div.sk-estimator:hover {background-color: #d4ebff;}#sk-container-id-1 div.sk-parallel-item::after {content: \"\";width: 100%;border-bottom: 1px solid gray;flex-grow: 1;}#sk-container-id-1 div.sk-label:hover label.sk-toggleable__label {background-color: #d4ebff;}#sk-container-id-1 div.sk-serial::before {content: \"\";position: absolute;border-left: 1px solid gray;box-sizing: border-box;top: 0;bottom: 0;left: 50%;z-index: 0;}#sk-container-id-1 div.sk-serial {display: flex;flex-direction: column;align-items: center;background-color: white;padding-right: 0.2em;padding-left: 0.2em;position: relative;}#sk-container-id-1 div.sk-item {position: relative;z-index: 1;}#sk-container-id-1 div.sk-parallel {display: flex;align-items: stretch;justify-content: center;background-color: white;position: relative;}#sk-container-id-1 div.sk-item::before, #sk-container-id-1 div.sk-parallel-item::before {content: \"\";position: absolute;border-left: 1px solid gray;box-sizing: border-box;top: 0;bottom: 0;left: 50%;z-index: -1;}#sk-container-id-1 div.sk-parallel-item {display: flex;flex-direction: column;z-index: 1;position: relative;background-color: white;}#sk-container-id-1 div.sk-parallel-item:first-child::after {align-self: flex-end;width: 50%;}#sk-container-id-1 div.sk-parallel-item:last-child::after {align-self: flex-start;width: 50%;}#sk-container-id-1 div.sk-parallel-item:only-child::after {width: 0;}#sk-container-id-1 div.sk-dashed-wrapped {border: 1px dashed gray;margin: 0 0.4em 0.5em 0.4em;box-sizing: border-box;padding-bottom: 0.4em;background-color: white;}#sk-container-id-1 div.sk-label label {font-family: monospace;font-weight: bold;display: inline-block;line-height: 1.2em;}#sk-container-id-1 div.sk-label-container {text-align: center;}#sk-container-id-1 div.sk-container {/* jupyter's `normalize.less` sets `[hidden] { display: none; }` but bootstrap.min.css set `[hidden] { display: none !important; }` so we also need the `!important` here to be able to override the default hidden behavior on the sphinx rendered scikit-learn.org. See: https://github.com/scikit-learn/scikit-learn/issues/21755 */display: inline-block !important;position: relative;}#sk-container-id-1 div.sk-text-repr-fallback {display: none;}</style><div id=\"sk-container-id-1\" class=\"sk-top-container\"><div class=\"sk-text-repr-fallback\"><pre>RandomForestClassifier(criterion=&#x27;entropy&#x27;, min_samples_split=5,\n",
       "                       n_estimators=630, random_state=10)</pre><b>In a Jupyter environment, please rerun this cell to show the HTML representation or trust the notebook. <br />On GitHub, the HTML representation is unable to render, please try loading this page with nbviewer.org.</b></div><div class=\"sk-container\" hidden><div class=\"sk-item\"><div class=\"sk-estimator sk-toggleable\"><input class=\"sk-toggleable__control sk-hidden--visually\" id=\"sk-estimator-id-1\" type=\"checkbox\" checked><label for=\"sk-estimator-id-1\" class=\"sk-toggleable__label sk-toggleable__label-arrow\">RandomForestClassifier</label><div class=\"sk-toggleable__content\"><pre>RandomForestClassifier(criterion=&#x27;entropy&#x27;, min_samples_split=5,\n",
       "                       n_estimators=630, random_state=10)</pre></div></div></div></div></div>"
      ],
      "text/plain": [
       "RandomForestClassifier(criterion='entropy', min_samples_split=5,\n",
       "                       n_estimators=630, random_state=10)"
      ]
     },
     "execution_count": 19,
     "metadata": {},
     "output_type": "execute_result"
    }
   ],
   "source": [
    "rf = RandomForestClassifier(**params_rf, random_state=random_state)\n",
    "rf.fit(X_train, y_train)"
   ]
  },
  {
   "cell_type": "code",
   "execution_count": 26,
   "id": "6P8L1qycV5Dq",
   "metadata": {
    "colab": {
     "base_uri": "https://localhost:8080/"
    },
    "executionInfo": {
     "elapsed": 1920,
     "status": "ok",
     "timestamp": 1682693745780,
     "user": {
      "displayName": "Damir Zunic",
      "userId": "07104666280721646256"
     },
     "user_tz": 240
    },
    "id": "6P8L1qycV5Dq",
    "outputId": "0687c160-275c-426b-aa3e-382537d3df7a"
   },
   "outputs": [
    {
     "data": {
      "text/plain": [
       "['/content/drive/MyDrive/Omdena/Team1/saved_models/batch_4_stack/rf_f1ma_1.pkl']"
      ]
     },
     "execution_count": 26,
     "metadata": {},
     "output_type": "execute_result"
    }
   ],
   "source": [
    "# Save the model\n",
    "joblib.dump(rf, '/content/drive/MyDrive/Omdena/Team1/saved_models/batch_4_stack/rf_f1ma_1.pkl')"
   ]
  },
  {
   "cell_type": "code",
   "execution_count": 20,
   "id": "Gi9WCMKBV5Dq",
   "metadata": {
    "executionInfo": {
     "elapsed": 768,
     "status": "ok",
     "timestamp": 1682693656280,
     "user": {
      "displayName": "Damir Zunic",
      "userId": "07104666280721646256"
     },
     "user_tz": 240
    },
    "id": "Gi9WCMKBV5Dq"
   },
   "outputs": [],
   "source": [
    "y_pred_rf = rf.predict(X_test)"
   ]
  },
  {
   "cell_type": "code",
   "execution_count": 21,
   "id": "y3dr_NYVV5Dq",
   "metadata": {
    "colab": {
     "base_uri": "https://localhost:8080/"
    },
    "executionInfo": {
     "elapsed": 295,
     "status": "ok",
     "timestamp": 1682693662111,
     "user": {
      "displayName": "Damir Zunic",
      "userId": "07104666280721646256"
     },
     "user_tz": 240
    },
    "id": "y3dr_NYVV5Dq",
    "outputId": "1b920ded-b0d8-49fb-b5d2-7fa2f19cb341"
   },
   "outputs": [
    {
     "name": "stdout",
     "output_type": "stream",
     "text": [
      "Accuracy after tuning: 85.73\n"
     ]
    }
   ],
   "source": [
    "accuracy = accuracy_score(y_test, y_pred_rf)\n",
    "print(f'Accuracy after tuning: {accuracy * 100.0:.2f}')"
   ]
  },
  {
   "cell_type": "code",
   "execution_count": 22,
   "id": "UE0k9ssBV5Dq",
   "metadata": {
    "colab": {
     "base_uri": "https://localhost:8080/"
    },
    "executionInfo": {
     "elapsed": 3005,
     "status": "ok",
     "timestamp": 1682693676443,
     "user": {
      "displayName": "Damir Zunic",
      "userId": "07104666280721646256"
     },
     "user_tz": 240
    },
    "id": "UE0k9ssBV5Dq",
    "outputId": "ffe101ba-5200-4dff-dbb6-b44db31ee053"
   },
   "outputs": [
    {
     "name": "stdout",
     "output_type": "stream",
     "text": [
      "Training Data Score: 1.0\n",
      "Testing Data Score: 0.8573021181716833\n"
     ]
    }
   ],
   "source": [
    "# Compare training and testing scores\n",
    "print(f\"Training Data Score: {rf.score(X_train, y_train)}\")\n",
    "print(f\"Testing Data Score: {rf.score(X_test, y_test)}\")"
   ]
  },
  {
   "cell_type": "code",
   "execution_count": 23,
   "id": "QNzDKD4aV5Dq",
   "metadata": {
    "colab": {
     "base_uri": "https://localhost:8080/"
    },
    "executionInfo": {
     "elapsed": 164,
     "status": "ok",
     "timestamp": 1682693684733,
     "user": {
      "displayName": "Damir Zunic",
      "userId": "07104666280721646256"
     },
     "user_tz": 240
    },
    "id": "QNzDKD4aV5Dq",
    "outputId": "0486a3eb-1ab2-4e0c-e9ea-4d435615caa1"
   },
   "outputs": [
    {
     "name": "stdout",
     "output_type": "stream",
     "text": [
      "[[ 213  126]\n",
      " [ 130 1325]]\n"
     ]
    }
   ],
   "source": [
    "cm = confusion_matrix(y_test, y_pred_rf)\n",
    "print(cm)"
   ]
  },
  {
   "cell_type": "code",
   "execution_count": 24,
   "id": "V95HQFx-V5Dq",
   "metadata": {
    "colab": {
     "base_uri": "https://localhost:8080/",
     "height": 315
    },
    "executionInfo": {
     "elapsed": 765,
     "status": "ok",
     "timestamp": 1682693695893,
     "user": {
      "displayName": "Damir Zunic",
      "userId": "07104666280721646256"
     },
     "user_tz": 240
    },
    "id": "V95HQFx-V5Dq",
    "outputId": "9970fb1a-70f4-4ae6-f8f1-c854b90581e2"
   },
   "outputs": [
    {
     "data": {
      "image/png": "[encoded data removed]",
      "text/plain": [
       "<Figure size 864x288 with 4 Axes>"
      ]
     },
     "metadata": {},
     "output_type": "display_data"
    }
   ],
   "source": [
    "# Plot confusion matrix and its normalized version.\n",
    "mu.plot_cm_unnorm_and_norm('Random Forest - Optuna #1', y_test, y_pred_rf, target_names, 'Reds')"
   ]
  },
  {
   "cell_type": "code",
   "execution_count": 25,
   "id": "KZU_ig5dV5Dq",
   "metadata": {
    "colab": {
     "base_uri": "https://localhost:8080/"
    },
    "executionInfo": {
     "elapsed": 160,
     "status": "ok",
     "timestamp": 1682693716415,
     "user": {
      "displayName": "Damir Zunic",
      "userId": "07104666280721646256"
     },
     "user_tz": 240
    },
    "id": "KZU_ig5dV5Dq",
    "outputId": "59f7f8ba-a624-4ad9-8b02-a9a30ac2f551"
   },
   "outputs": [
    {
     "name": "stdout",
     "output_type": "stream",
     "text": [
      "              precision    recall  f1-score   support\n",
      "\n",
      "         hem       0.62      0.63      0.62       339\n",
      "         all       0.91      0.91      0.91      1455\n",
      "\n",
      "    accuracy                           0.86      1794\n",
      "   macro avg       0.77      0.77      0.77      1794\n",
      "weighted avg       0.86      0.86      0.86      1794\n",
      "\n"
     ]
    }
   ],
   "source": [
    "print(classification_report(y_test, y_pred_rf, target_names=target_names))"
   ]
  },
  {
   "cell_type": "markdown",
   "id": "g7A7n3Sqj7ME",
   "metadata": {
    "id": "g7A7n3Sqj7ME"
   },
   "source": [
    "## ================================================="
   ]
  },
  {
   "cell_type": "markdown",
   "id": "GKC7t4ALj7ME",
   "metadata": {
    "id": "GKC7t4ALj7ME"
   },
   "source": [
    "# Multi-layer Perceptron - Optuna"
   ]
  },
  {
   "cell_type": "markdown",
   "id": "_K1WmW0mj7ME",
   "metadata": {
    "id": "_K1WmW0mj7ME"
   },
   "source": [
    "## Optuna Objective Function"
   ]
  },
  {
   "cell_type": "code",
   "execution_count": 12,
   "id": "nZLb9FrIj7ME",
   "metadata": {
    "executionInfo": {
     "elapsed": 143,
     "status": "ok",
     "timestamp": 1682697539117,
     "user": {
      "displayName": "Damir Zunic",
      "userId": "07104666280721646256"
     },
     "user_tz": 240
    },
    "id": "nZLb9FrIj7ME"
   },
   "outputs": [],
   "source": [
    "def objective(trial):\n",
    "    \"\"\"Define the objective function\"\"\"\n",
    "\n",
    "    params = {\n",
    "        'momentum' : trial.suggest_float('momentum', 0.0, 1.0),\n",
    "        'learning_rate_init' : trial.suggest_float('learning_rate_init', 1e-5, 1e-3, log=True),\n",
    "        'power_t' : trial.suggest_float('power_t', 0.2, 0.8, step=0.1)\n",
    "    }\n",
    "\n",
    "    # Fit the model\n",
    "    ### model = MLPClassifier(**params, hidden_layer_sizes=(10, 10, 10), random_state=random_state)\n",
    "    model = MLPClassifier(**params, hidden_layer_sizes=(100, 50), random_state=random_state)\n",
    "    model.fit(X_train, y_train)\n",
    "\n",
    "    # Make predictions\n",
    "    y_pred = model.predict(X_test)\n",
    "\n",
    "    # Evaluate predictions\n",
    "    f1 = f1_score(y_test, y_pred, average='macro')\n",
    "    return f1"
   ]
  },
  {
   "cell_type": "markdown",
   "id": "t87lD0xuj7ME",
   "metadata": {
    "id": "t87lD0xuj7ME"
   },
   "source": [
    "## Optuna Study"
   ]
  },
  {
   "cell_type": "code",
   "execution_count": 13,
   "id": "wWsEz6Zoj7MF",
   "metadata": {
    "colab": {
     "base_uri": "https://localhost:8080/"
    },
    "executionInfo": {
     "elapsed": 188,
     "status": "ok",
     "timestamp": 1682697544429,
     "user": {
      "displayName": "Damir Zunic",
      "userId": "07104666280721646256"
     },
     "user_tz": 240
    },
    "id": "wWsEz6Zoj7MF",
    "outputId": "21e0397a-c23d-454b-9876-bb5ed37a3c1e"
   },
   "outputs": [
    {
     "name": "stderr",
     "output_type": "stream",
     "text": [
      "\u001b[32m[I 2023-04-28 15:59:04,141]\u001b[0m A new study created in memory with name: no-name-8b64ad09-e96f-4ee5-a1ac-6c4fab6d0d96\u001b[0m\n"
     ]
    }
   ],
   "source": [
    "study = optuna.create_study(direction='maximize')"
   ]
  },
  {
   "cell_type": "markdown",
   "id": "AgUfIwz0j7MF",
   "metadata": {
    "id": "AgUfIwz0j7MF"
   },
   "source": [
    "## Optimize the Objective Function"
   ]
  },
  {
   "cell_type": "markdown",
   "id": "f45b9230-4a47-4f27-941e-f22e7bb19a8b",
   "metadata": {
    "id": "uwkE_RpMCdER"
   },
   "source": [
    "## Outputs for hidden_layer_sizes=(100, 50)"
   ]
  },
  {
   "cell_type": "markdown",
   "id": "47709787-6943-48f6-83e9-1070be4ab18d",
   "metadata": {},
   "source": [
    "#### Run first 20 trials"
   ]
  },
  {
   "cell_type": "code",
   "execution_count": 14,
   "id": "sCsCjNySdFKg",
   "metadata": {
    "colab": {
     "base_uri": "https://localhost:8080/"
    },
    "executionInfo": {
     "elapsed": 5369665,
     "status": "ok",
     "timestamp": 1682702943751,
     "user": {
      "displayName": "Damir Zunic",
      "userId": "07104666280721646256"
     },
     "user_tz": 240
    },
    "id": "sCsCjNySdFKg",
    "outputId": "ccf2c1f5-56de-47bf-8c68-8a019a4f37bc",
    "scrolled": true,
    "tags": []
   },
   "outputs": [
    {
     "name": "stderr",
     "output_type": "stream",
     "text": [
      "\u001b[32m[I 2023-04-28 16:07:50,530]\u001b[0m Trial 0 finished with value: 0.7615702057037411 and parameters: {'momentum': 0.9693005937215683, 'learning_rate_init': 5.636869547178541e-05, 'power_t': 0.30000000000000004}. Best is trial 0 with value: 0.7615702057037411.\u001b[0m\n",
      "\u001b[32m[I 2023-04-28 16:07:55,966]\u001b[0m Trial 1 finished with value: 0.7368131225615785 and parameters: {'momentum': 0.8085272927971136, 'learning_rate_init': 0.00010339111125918508, 'power_t': 0.7}. Best is trial 0 with value: 0.7615702057037411.\u001b[0m\n",
      "\u001b[32m[I 2023-04-28 16:16:08,960]\u001b[0m Trial 2 finished with value: 0.7577237781681128 and parameters: {'momentum': 0.4080735679312585, 'learning_rate_init': 9.324754885394715e-05, 'power_t': 0.8}. Best is trial 0 with value: 0.7615702057037411.\u001b[0m\n",
      "\u001b[32m[I 2023-04-28 16:20:19,864]\u001b[0m Trial 3 finished with value: 0.7747847919655667 and parameters: {'momentum': 0.7751258730451894, 'learning_rate_init': 0.0004584475492777238, 'power_t': 0.2}. Best is trial 3 with value: 0.7747847919655667.\u001b[0m\n",
      "\u001b[32m[I 2023-04-28 16:23:35,314]\u001b[0m Trial 4 finished with value: 0.7421397629161435 and parameters: {'momentum': 0.8513629492600299, 'learning_rate_init': 2.1290677642572346e-05, 'power_t': 0.8}. Best is trial 3 with value: 0.7747847919655667.\u001b[0m\n",
      "\u001b[32m[I 2023-04-28 16:28:54,044]\u001b[0m Trial 5 finished with value: 0.7738062842135242 and parameters: {'momentum': 0.6528007583885203, 'learning_rate_init': 6.940972103954731e-05, 'power_t': 0.30000000000000004}. Best is trial 3 with value: 0.7747847919655667.\u001b[0m\n",
      "\u001b[32m[I 2023-04-28 16:32:23,283]\u001b[0m Trial 6 finished with value: 0.754813306506722 and parameters: {'momentum': 0.8289351847978936, 'learning_rate_init': 0.00012319481828125433, 'power_t': 0.7}. Best is trial 3 with value: 0.7747847919655667.\u001b[0m\n",
      "\u001b[32m[I 2023-04-28 16:39:43,417]\u001b[0m Trial 7 finished with value: 0.7683500717360114 and parameters: {'momentum': 0.4572467469680964, 'learning_rate_init': 0.00020427617966581975, 'power_t': 0.4}. Best is trial 3 with value: 0.7747847919655667.\u001b[0m\n",
      "\u001b[32m[I 2023-04-28 16:42:53,210]\u001b[0m Trial 8 finished with value: 0.7763963288596465 and parameters: {'momentum': 0.8933092686460099, 'learning_rate_init': 0.00019908452551725857, 'power_t': 0.5}. Best is trial 8 with value: 0.7763963288596465.\u001b[0m\n",
      "\u001b[32m[I 2023-04-28 16:46:59,375]\u001b[0m Trial 9 finished with value: 0.7415644426714537 and parameters: {'momentum': 0.8387131318289192, 'learning_rate_init': 2.962652752921585e-05, 'power_t': 0.8}. Best is trial 8 with value: 0.7763963288596465.\u001b[0m\n",
      "\u001b[32m[I 2023-04-28 16:53:52,275]\u001b[0m Trial 11 finished with value: 0.7328141315697878 and parameters: {'momentum': 0.16028836193977014, 'learning_rate_init': 0.000658633910387159, 'power_t': 0.5}. Best is trial 8 with value: 0.7763963288596465.\u001b[0m\n",
      "\u001b[32m[I 2023-04-28 16:54:16,886]\u001b[0m Trial 10 finished with value: 0.7576300562621658 and parameters: {'momentum': 0.806505683564783, 'learning_rate_init': 0.00029362685310021917, 'power_t': 0.2}. Best is trial 8 with value: 0.7763963288596465.\u001b[0m\n",
      "\u001b[32m[I 2023-04-28 17:01:03,156]\u001b[0m Trial 13 finished with value: 0.7482197634939858 and parameters: {'momentum': 0.9912748856776571, 'learning_rate_init': 0.0009128975615723112, 'power_t': 0.6000000000000001}. Best is trial 8 with value: 0.7763963288596465.\u001b[0m\n",
      "\u001b[32m[I 2023-04-28 17:02:32,322]\u001b[0m Trial 12 finished with value: 0.7754497814806582 and parameters: {'momentum': 0.9930063944790036, 'learning_rate_init': 0.00042688502490666343, 'power_t': 0.2}. Best is trial 8 with value: 0.7763963288596465.\u001b[0m\n",
      "\u001b[32m[I 2023-04-28 17:08:53,886]\u001b[0m Trial 14 finished with value: 0.7770505385252693 and parameters: {'momentum': 0.6332819184681059, 'learning_rate_init': 0.0003945335573231915, 'power_t': 0.2}. Best is trial 14 with value: 0.7770505385252693.\u001b[0m\n",
      "\u001b[32m[I 2023-04-28 17:10:18,962]\u001b[0m Trial 15 finished with value: 0.7624882292064853 and parameters: {'momentum': 0.6273727827179589, 'learning_rate_init': 0.00031929400725667006, 'power_t': 0.5}. Best is trial 14 with value: 0.7770505385252693.\u001b[0m\n",
      "\u001b[32m[I 2023-04-28 17:19:35,589]\u001b[0m Trial 16 finished with value: 0.7646329656807305 and parameters: {'momentum': 0.6132673153625073, 'learning_rate_init': 0.00021232757340253498, 'power_t': 0.5}. Best is trial 14 with value: 0.7770505385252693.\u001b[0m\n",
      "\u001b[32m[I 2023-04-28 17:20:16,159]\u001b[0m Trial 17 finished with value: 0.7535919939913208 and parameters: {'momentum': 0.5996394576285549, 'learning_rate_init': 0.00018342524030457574, 'power_t': 0.4}. Best is trial 14 with value: 0.7770505385252693.\u001b[0m\n",
      "\u001b[32m[I 2023-04-28 17:27:05,725]\u001b[0m Trial 18 finished with value: 0.7383259361130212 and parameters: {'momentum': 0.3522377376512914, 'learning_rate_init': 1.0978999570686622e-05, 'power_t': 0.4}. Best is trial 14 with value: 0.7770505385252693.\u001b[0m\n",
      "\u001b[32m[I 2023-04-28 17:29:03,495]\u001b[0m Trial 19 finished with value: 0.7787548082099267 and parameters: {'momentum': 0.3292016598383488, 'learning_rate_init': 0.0009922680049968334, 'power_t': 0.4}. Best is trial 19 with value: 0.7787548082099267.\u001b[0m\n"
     ]
    }
   ],
   "source": [
    "study.optimize(objective, n_jobs=-1, n_trials=20)"
   ]
  },
  {
   "cell_type": "markdown",
   "id": "d4c79374-0647-4902-b614-51e7402400fa",
   "metadata": {
    "id": "HLkm11PXpZjn"
   },
   "source": [
    "#### Add 30 more trials (total 50)"
   ]
  },
  {
   "cell_type": "code",
   "execution_count": null,
   "id": "fDOpXBbopZDi",
   "metadata": {
    "colab": {
     "base_uri": "https://localhost:8080/"
    },
    "id": "fDOpXBbopZDi",
    "outputId": "d639dac9-97a5-47c1-a1fd-effb7ed4e59f",
    "scrolled": true,
    "tags": []
   },
   "outputs": [
    {
     "name": "stderr",
     "output_type": "stream",
     "text": [
      "\u001b[32m[I 2023-04-28 17:35:53,783]\u001b[0m Trial 21 finished with value: 0.7357054761515585 and parameters: {'momentum': 0.32118782418275366, 'learning_rate_init': 0.0008942721015783006, 'power_t': 0.30000000000000004}. Best is trial 19 with value: 0.7787548082099267.\u001b[0m\n",
      "\u001b[32m[I 2023-04-28 17:40:34,679]\u001b[0m Trial 20 finished with value: 0.7676999325493417 and parameters: {'momentum': 0.28402180433066493, 'learning_rate_init': 0.0009705640980759128, 'power_t': 0.30000000000000004}. Best is trial 19 with value: 0.7787548082099267.\u001b[0m\n",
      "\u001b[32m[I 2023-04-28 17:45:27,626]\u001b[0m Trial 22 finished with value: 0.7647128574123481 and parameters: {'momentum': 0.5035745651076637, 'learning_rate_init': 0.000542239583228065, 'power_t': 0.6000000000000001}. Best is trial 19 with value: 0.7787548082099267.\u001b[0m\n",
      "\u001b[32m[I 2023-04-28 17:47:32,690]\u001b[0m Trial 23 finished with value: 0.7634391121515585 and parameters: {'momentum': 0.5233445894061597, 'learning_rate_init': 0.0006153548666244057, 'power_t': 0.6000000000000001}. Best is trial 19 with value: 0.7787548082099267.\u001b[0m\n",
      "\u001b[32m[I 2023-04-28 17:53:13,501]\u001b[0m Trial 24 finished with value: 0.7640356043385839 and parameters: {'momentum': 0.10348740630900624, 'learning_rate_init': 0.0006122627777398392, 'power_t': 0.6000000000000001}. Best is trial 19 with value: 0.7787548082099267.\u001b[0m\n",
      "\u001b[32m[I 2023-04-28 17:59:02,458]\u001b[0m Trial 25 finished with value: 0.7655270649874131 and parameters: {'momentum': 0.056862459875889226, 'learning_rate_init': 0.0002768195743075203, 'power_t': 0.4}. Best is trial 19 with value: 0.7787548082099267.\u001b[0m\n",
      "\u001b[32m[I 2023-04-28 18:03:20,820]\u001b[0m Trial 26 finished with value: 0.7155631659056316 and parameters: {'momentum': 0.7174102971499968, 'learning_rate_init': 0.00036659786491228977, 'power_t': 0.4}. Best is trial 19 with value: 0.7787548082099267.\u001b[0m\n",
      "\u001b[32m[I 2023-04-28 18:09:42,495]\u001b[0m Trial 27 finished with value: 0.7582919877498824 and parameters: {'momentum': 0.6928665725401268, 'learning_rate_init': 0.00038339953054623485, 'power_t': 0.5}. Best is trial 19 with value: 0.7787548082099267.\u001b[0m\n",
      "\u001b[32m[I 2023-04-28 18:14:14,631]\u001b[0m Trial 28 finished with value: 0.7733205500169759 and parameters: {'momentum': 0.9198259829632562, 'learning_rate_init': 0.0003907729927184504, 'power_t': 0.5}. Best is trial 19 with value: 0.7787548082099267.\u001b[0m\n",
      "\u001b[32m[I 2023-04-28 18:17:09,904]\u001b[0m Trial 29 finished with value: 0.7594290580607408 and parameters: {'momentum': 0.542988658549727, 'learning_rate_init': 0.000677718419415243, 'power_t': 0.2}. Best is trial 19 with value: 0.7787548082099267.\u001b[0m\n",
      "\u001b[32m[I 2023-04-28 18:24:33,945]\u001b[0m Trial 30 finished with value: 0.7528540237055521 and parameters: {'momentum': 0.9267341226103918, 'learning_rate_init': 0.0001476938290548214, 'power_t': 0.30000000000000004}. Best is trial 19 with value: 0.7787548082099267.\u001b[0m\n",
      "\u001b[32m[I 2023-04-28 18:26:52,186]\u001b[0m Trial 31 finished with value: 0.7506636899578298 and parameters: {'momentum': 0.9089740382264377, 'learning_rate_init': 0.00014277129188212487, 'power_t': 0.30000000000000004}. Best is trial 19 with value: 0.7787548082099267.\u001b[0m\n"
     ]
    }
   ],
   "source": [
    "study.optimize(objective, n_jobs=-1, n_trials=30)"
   ]
  },
  {
   "cell_type": "markdown",
   "id": "9wgV-L9fkavV",
   "metadata": {
    "id": "9wgV-L9fkavV"
   },
   "source": [
    "## Best Parameters"
   ]
  },
  {
   "cell_type": "code",
   "execution_count": null,
   "id": "pcFYqAcakavV",
   "metadata": {
    "colab": {
     "base_uri": "https://localhost:8080/"
    },
    "executionInfo": {
     "elapsed": 174,
     "status": "ok",
     "timestamp": 1682711827757,
     "user": {
      "displayName": "Damir Zunic",
      "userId": "07104666280721646256"
     },
     "user_tz": 240
    },
    "id": "pcFYqAcakavV",
    "outputId": "164c3403-8b13-48a1-aaf0-967c8554bad9"
   },
   "outputs": [
    {
     "name": "stdout",
     "output_type": "stream",
     "text": [
      "Number of finished trials: 50\n",
      "Best trial:\n",
      "  Value: 0.7823512855104675\n",
      "  Params: \n",
      "    momentum: 0.7467805285225793\n",
      "    learning_rate_init: 0.0004616656166415659\n",
      "    power_t: 0.2\n"
     ]
    }
   ],
   "source": [
    "print(f'Number of finished trials: {len(study.trials)}')\n",
    "print('Best trial:')\n",
    "trial = study.best_trial\n",
    "\n",
    "print(f'  Value: {trial.value}')\n",
    "print('  Params: ')\n",
    "\n",
    "for key, value in trial.params.items():\n",
    "    print(f'    {key}: {value}')"
   ]
  },
  {
   "cell_type": "markdown",
   "id": "5b089533-d346-4b9f-8d58-24f1388a9ecd",
   "metadata": {
    "id": "wdBWzR64kavV"
   },
   "source": [
    "## Re-fit the model"
   ]
  },
  {
   "cell_type": "code",
   "execution_count": null,
   "id": "0chjzXrXkavW",
   "metadata": {
    "colab": {
     "base_uri": "https://localhost:8080/"
    },
    "executionInfo": {
     "elapsed": 153,
     "status": "ok",
     "timestamp": 1682711839306,
     "user": {
      "displayName": "Damir Zunic",
      "userId": "07104666280721646256"
     },
     "user_tz": 240
    },
    "id": "0chjzXrXkavW",
    "outputId": "b2830790-1fac-465d-c730-75beb6cc3fc4"
   },
   "outputs": [
    {
     "data": {
      "text/plain": [
       "{'momentum': 0.7467805285225793,\n",
       " 'learning_rate_init': 0.0004616656166415659,\n",
       " 'power_t': 0.2}"
      ]
     },
     "execution_count": 17,
     "metadata": {},
     "output_type": "execute_result"
    }
   ],
   "source": [
    "params_mlp = trial.params\n",
    "params_mlp"
   ]
  },
  {
   "cell_type": "code",
   "execution_count": null,
   "id": "liuYyZIMkavX",
   "metadata": {
    "colab": {
     "base_uri": "https://localhost:8080/",
     "height": 109
    },
    "executionInfo": {
     "elapsed": 369095,
     "status": "ok",
     "timestamp": 1682712218499,
     "user": {
      "displayName": "Damir Zunic",
      "userId": "07104666280721646256"
     },
     "user_tz": 240
    },
    "id": "liuYyZIMkavX",
    "outputId": "1ffeb136-bf79-46fe-87a9-bcfc5f55a02b"
   },
   "outputs": [
    {
     "data": {
      "text/html": [
       "<style>#sk-container-id-1 {color: black;background-color: white;}#sk-container-id-1 pre{padding: 0;}#sk-container-id-1 div.sk-toggleable {background-color: white;}#sk-container-id-1 label.sk-toggleable__label {cursor: pointer;display: block;width: 100%;margin-bottom: 0;padding: 0.3em;box-sizing: border-box;text-align: center;}#sk-container-id-1 label.sk-toggleable__label-arrow:before {content: \"▸\";float: left;margin-right: 0.25em;color: #696969;}#sk-container-id-1 label.sk-toggleable__label-arrow:hover:before {color: black;}#sk-container-id-1 div.sk-estimator:hover label.sk-toggleable__label-arrow:before {color: black;}#sk-container-id-1 div.sk-toggleable__content {max-height: 0;max-width: 0;overflow: hidden;text-align: left;background-color: #f0f8ff;}#sk-container-id-1 div.sk-toggleable__content pre {margin: 0.2em;color: black;border-radius: 0.25em;background-color: #f0f8ff;}#sk-container-id-1 input.sk-toggleable__control:checked~div.sk-toggleable__content {max-height: 200px;max-width: 100%;overflow: auto;}#sk-container-id-1 input.sk-toggleable__control:checked~label.sk-toggleable__label-arrow:before {content: \"▾\";}#sk-container-id-1 div.sk-estimator input.sk-toggleable__control:checked~label.sk-toggleable__label {background-color: #d4ebff;}#sk-container-id-1 div.sk-label input.sk-toggleable__control:checked~label.sk-toggleable__label {background-color: #d4ebff;}#sk-container-id-1 input.sk-hidden--visually {border: 0;clip: rect(1px 1px 1px 1px);clip: rect(1px, 1px, 1px, 1px);height: 1px;margin: -1px;overflow: hidden;padding: 0;position: absolute;width: 1px;}#sk-container-id-1 div.sk-estimator {font-family: monospace;background-color: #f0f8ff;border: 1px dotted black;border-radius: 0.25em;box-sizing: border-box;margin-bottom: 0.5em;}#sk-container-id-1 div.sk-estimator:hover {background-color: #d4ebff;}#sk-container-id-1 div.sk-parallel-item::after {content: \"\";width: 100%;border-bottom: 1px solid gray;flex-grow: 1;}#sk-container-id-1 div.sk-label:hover label.sk-toggleable__label {background-color: #d4ebff;}#sk-container-id-1 div.sk-serial::before {content: \"\";position: absolute;border-left: 1px solid gray;box-sizing: border-box;top: 0;bottom: 0;left: 50%;z-index: 0;}#sk-container-id-1 div.sk-serial {display: flex;flex-direction: column;align-items: center;background-color: white;padding-right: 0.2em;padding-left: 0.2em;position: relative;}#sk-container-id-1 div.sk-item {position: relative;z-index: 1;}#sk-container-id-1 div.sk-parallel {display: flex;align-items: stretch;justify-content: center;background-color: white;position: relative;}#sk-container-id-1 div.sk-item::before, #sk-container-id-1 div.sk-parallel-item::before {content: \"\";position: absolute;border-left: 1px solid gray;box-sizing: border-box;top: 0;bottom: 0;left: 50%;z-index: -1;}#sk-container-id-1 div.sk-parallel-item {display: flex;flex-direction: column;z-index: 1;position: relative;background-color: white;}#sk-container-id-1 div.sk-parallel-item:first-child::after {align-self: flex-end;width: 50%;}#sk-container-id-1 div.sk-parallel-item:last-child::after {align-self: flex-start;width: 50%;}#sk-container-id-1 div.sk-parallel-item:only-child::after {width: 0;}#sk-container-id-1 div.sk-dashed-wrapped {border: 1px dashed gray;margin: 0 0.4em 0.5em 0.4em;box-sizing: border-box;padding-bottom: 0.4em;background-color: white;}#sk-container-id-1 div.sk-label label {font-family: monospace;font-weight: bold;display: inline-block;line-height: 1.2em;}#sk-container-id-1 div.sk-label-container {text-align: center;}#sk-container-id-1 div.sk-container {/* jupyter's `normalize.less` sets `[hidden] { display: none; }` but bootstrap.min.css set `[hidden] { display: none !important; }` so we also need the `!important` here to be able to override the default hidden behavior on the sphinx rendered scikit-learn.org. See: https://github.com/scikit-learn/scikit-learn/issues/21755 */display: inline-block !important;position: relative;}#sk-container-id-1 div.sk-text-repr-fallback {display: none;}</style><div id=\"sk-container-id-1\" class=\"sk-top-container\"><div class=\"sk-text-repr-fallback\"><pre>MLPClassifier(hidden_layer_sizes=(100, 50),\n",
       "              learning_rate_init=0.0004616656166415659,\n",
       "              momentum=0.7467805285225793, power_t=0.2, random_state=10)</pre><b>In a Jupyter environment, please rerun this cell to show the HTML representation or trust the notebook. <br />On GitHub, the HTML representation is unable to render, please try loading this page with nbviewer.org.</b></div><div class=\"sk-container\" hidden><div class=\"sk-item\"><div class=\"sk-estimator sk-toggleable\"><input class=\"sk-toggleable__control sk-hidden--visually\" id=\"sk-estimator-id-1\" type=\"checkbox\" checked><label for=\"sk-estimator-id-1\" class=\"sk-toggleable__label sk-toggleable__label-arrow\">MLPClassifier</label><div class=\"sk-toggleable__content\"><pre>MLPClassifier(hidden_layer_sizes=(100, 50),\n",
       "              learning_rate_init=0.0004616656166415659,\n",
       "              momentum=0.7467805285225793, power_t=0.2, random_state=10)</pre></div></div></div></div></div>"
      ],
      "text/plain": [
       "MLPClassifier(hidden_layer_sizes=(100, 50),\n",
       "              learning_rate_init=0.0004616656166415659,\n",
       "              momentum=0.7467805285225793, power_t=0.2, random_state=10)"
      ]
     },
     "execution_count": 18,
     "metadata": {},
     "output_type": "execute_result"
    }
   ],
   "source": [
    "### mlp = MLPClassifier(**params_mlp, hidden_layer_sizes=(10, 10, 10), random_state=random_state)\n",
    "mlp = MLPClassifier(**params_mlp, hidden_layer_sizes=(100, 50), random_state=random_state)\n",
    "mlp.fit(X_train, y_train)"
   ]
  },
  {
   "cell_type": "code",
   "execution_count": null,
   "id": "LbF9DeztkavX",
   "metadata": {
    "colab": {
     "base_uri": "https://localhost:8080/"
    },
    "executionInfo": {
     "elapsed": 213,
     "status": "ok",
     "timestamp": 1682617792838,
     "user": {
      "displayName": "Damir Zunic",
      "userId": "07104666280721646256"
     },
     "user_tz": 240
    },
    "id": "LbF9DeztkavX",
    "outputId": "c5f58508-4df3-4877-aea7-154111dacd89"
   },
   "outputs": [
    {
     "data": {
      "text/plain": [
       "['/content/drive/MyDrive/Omdena/Team1/saved_models/batch_4_stack/mlp_f1ma_1.pkl']"
      ]
     },
     "execution_count": 57,
     "metadata": {},
     "output_type": "execute_result"
    }
   ],
   "source": [
    "# Save the model\n",
    "joblib.dump(mlp, '/content/drive/MyDrive/Omdena/Team1/saved_models/batch_4_stack/mlp_f1ma_1.pkl')"
   ]
  },
  {
   "cell_type": "code",
   "execution_count": null,
   "id": "wu6udS__kavX",
   "metadata": {
    "id": "wu6udS__kavX"
   },
   "outputs": [],
   "source": [
    "y_pred_mlp = mlp.predict(X_test)"
   ]
  },
  {
   "cell_type": "code",
   "execution_count": null,
   "id": "hbTv01iskavX",
   "metadata": {
    "colab": {
     "base_uri": "https://localhost:8080/"
    },
    "executionInfo": {
     "elapsed": 312,
     "status": "ok",
     "timestamp": 1682712246169,
     "user": {
      "displayName": "Damir Zunic",
      "userId": "07104666280721646256"
     },
     "user_tz": 240
    },
    "id": "hbTv01iskavX",
    "outputId": "bcbc4bcd-6492-4e64-c009-a4ff56941dcc"
   },
   "outputs": [
    {
     "name": "stdout",
     "output_type": "stream",
     "text": [
      "Accuracy after tuning: 86.06\n"
     ]
    }
   ],
   "source": [
    "accuracy = accuracy_score(y_test, y_pred_mlp)\n",
    "print(f'Accuracy after tuning: {accuracy * 100.0:.2f}')"
   ]
  },
  {
   "cell_type": "code",
   "execution_count": null,
   "id": "kfP1WnUfkavY",
   "metadata": {
    "colab": {
     "base_uri": "https://localhost:8080/"
    },
    "executionInfo": {
     "elapsed": 652,
     "status": "ok",
     "timestamp": 1682712256130,
     "user": {
      "displayName": "Damir Zunic",
      "userId": "07104666280721646256"
     },
     "user_tz": 240
    },
    "id": "kfP1WnUfkavY",
    "outputId": "7f45f46e-dbe1-4735-f46f-74ff470c0152"
   },
   "outputs": [
    {
     "name": "stdout",
     "output_type": "stream",
     "text": [
      "Training Data Score: 0.9989930351598557\n",
      "Testing Data Score: 0.8606465997770345\n"
     ]
    }
   ],
   "source": [
    "# Compare training and testing scores\n",
    "print(f\"Training Data Score: {mlp.score(X_train, y_train)}\")\n",
    "print(f\"Testing Data Score: {mlp.score(X_test, y_test)}\")"
   ]
  },
  {
   "cell_type": "code",
   "execution_count": null,
   "id": "3-5Gg07lkavY",
   "metadata": {
    "colab": {
     "base_uri": "https://localhost:8080/"
    },
    "executionInfo": {
     "elapsed": 158,
     "status": "ok",
     "timestamp": 1682712268450,
     "user": {
      "displayName": "Damir Zunic",
      "userId": "07104666280721646256"
     },
     "user_tz": 240
    },
    "id": "3-5Gg07lkavY",
    "outputId": "3fe6244e-b1fe-48a2-e887-b7d33b70c773"
   },
   "outputs": [
    {
     "name": "stdout",
     "output_type": "stream",
     "text": [
      "[[ 234  105]\n",
      " [ 145 1310]]\n"
     ]
    }
   ],
   "source": [
    "cm = confusion_matrix(y_test, y_pred_mlp)\n",
    "print(cm)"
   ]
  },
  {
   "cell_type": "code",
   "execution_count": null,
   "id": "yAEszP3ikavY",
   "metadata": {
    "colab": {
     "base_uri": "https://localhost:8080/",
     "height": 315
    },
    "executionInfo": {
     "elapsed": 1309,
     "status": "ok",
     "timestamp": 1682712278412,
     "user": {
      "displayName": "Damir Zunic",
      "userId": "07104666280721646256"
     },
     "user_tz": 240
    },
    "id": "yAEszP3ikavY",
    "outputId": "7ecea9cd-5234-4237-eca2-360e5a138c82"
   },
   "outputs": [
    {
     "data": {
      "image/png": "[encoded data removed]",
      "text/plain": [
       "<Figure size 864x288 with 4 Axes>"
      ]
     },
     "metadata": {},
     "output_type": "display_data"
    }
   ],
   "source": [
    "# Plot confusion matrix and its normalized version.\n",
    "mu.plot_cm_unnorm_and_norm('Multi-layer Perceptron - Optuna #1', y_test, y_pred_mlp, target_names, 'Reds')"
   ]
  },
  {
   "cell_type": "code",
   "execution_count": null,
   "id": "nRKz3IplkavY",
   "metadata": {
    "colab": {
     "base_uri": "https://localhost:8080/"
    },
    "executionInfo": {
     "elapsed": 194,
     "status": "ok",
     "timestamp": 1682712298538,
     "user": {
      "displayName": "Damir Zunic",
      "userId": "07104666280721646256"
     },
     "user_tz": 240
    },
    "id": "nRKz3IplkavY",
    "outputId": "20121d11-d163-4d2d-cf8d-4ba3e2c560ce"
   },
   "outputs": [
    {
     "name": "stdout",
     "output_type": "stream",
     "text": [
      "              precision    recall  f1-score   support\n",
      "\n",
      "         hem       0.62      0.69      0.65       339\n",
      "         all       0.93      0.90      0.91      1455\n",
      "\n",
      "    accuracy                           0.86      1794\n",
      "   macro avg       0.77      0.80      0.78      1794\n",
      "weighted avg       0.87      0.86      0.86      1794\n",
      "\n"
     ]
    }
   ],
   "source": [
    "print(classification_report(y_test, y_pred_mlp, target_names=target_names))"
   ]
  },
  {
   "cell_type": "markdown",
   "id": "037197ec-89ce-4e52-a522-e3e83a6ea5e4",
   "metadata": {
    "id": "vvr9rAAddD1T"
   },
   "source": [
    "## Output for hidden_layer_sizes=(10, 10, 10)"
   ]
  },
  {
   "cell_type": "markdown",
   "id": "7d2adf94-d747-487d-bc3b-8629b816bbe0",
   "metadata": {
    "execution": {
     "iopub.execute_input": "2023-04-30T20:40:26.928450Z",
     "iopub.status.busy": "2023-04-30T20:40:26.925754Z",
     "iopub.status.idle": "2023-04-30T20:40:26.953093Z",
     "shell.execute_reply": "2023-04-30T20:40:26.951406Z",
     "shell.execute_reply.started": "2023-04-30T20:40:26.928124Z"
    }
   },
   "source": [
    "#### Start with 2 trials"
   ]
  },
  {
   "cell_type": "code",
   "execution_count": 41,
   "id": "Wcqs7q0Hj7MF",
   "metadata": {
    "colab": {
     "base_uri": "https://localhost:8080/"
    },
    "executionInfo": {
     "elapsed": 751974,
     "status": "ok",
     "timestamp": 1682611009527,
     "user": {
      "displayName": "Damir Zunic",
      "userId": "07104666280721646256"
     },
     "user_tz": 240
    },
    "id": "Wcqs7q0Hj7MF",
    "outputId": "93131e25-550f-413a-9dc7-fabf4a537401"
   },
   "outputs": [
    {
     "name": "stderr",
     "output_type": "stream",
     "text": [
      "\u001b[32m[I 2023-04-27 15:55:08,771]\u001b[0m Trial 1 finished with value: 0.7414158129121748 and parameters: {'momentum': 0.9385623378731146, 'learning_rate_init': 0.0006729190055126267, 'power_t': 0.30000000000000004}. Best is trial 1 with value: 0.7414158129121748.\u001b[0m\n",
      "\u001b[32m[I 2023-04-27 15:56:48,770]\u001b[0m Trial 0 finished with value: 0.744299994627349 and parameters: {'momentum': 0.8402646150256428, 'learning_rate_init': 0.00020514633692073205, 'power_t': 0.5}. Best is trial 0 with value: 0.744299994627349.\u001b[0m\n"
     ]
    }
   ],
   "source": [
    "study.optimize(objective, n_jobs=-1, n_trials=2)"
   ]
  },
  {
   "cell_type": "markdown",
   "id": "27a35ea8-0143-4081-920e-35435541111d",
   "metadata": {},
   "source": [
    "#### Continue with 18 more trials"
   ]
  },
  {
   "cell_type": "code",
   "execution_count": 52,
   "id": "dwxgoje9fv84",
   "metadata": {
    "colab": {
     "base_uri": "https://localhost:8080/"
    },
    "executionInfo": {
     "elapsed": 1756766,
     "status": "ok",
     "timestamp": 1682613885662,
     "user": {
      "displayName": "Damir Zunic",
      "userId": "07104666280721646256"
     },
     "user_tz": 240
    },
    "id": "dwxgoje9fv84",
    "outputId": "5a8a2585-6bcf-40a0-eb29-be2853119eec",
    "scrolled": true,
    "tags": []
   },
   "outputs": [
    {
     "name": "stderr",
     "output_type": "stream",
     "text": [
      "\u001b[32m[I 2023-04-27 16:22:00,455]\u001b[0m Trial 2 finished with value: 0.739378491527886 and parameters: {'momentum': 0.5496368327060469, 'learning_rate_init': 3.4527600211595096e-05, 'power_t': 0.7}. Best is trial 0 with value: 0.744299994627349.\u001b[0m\n",
      "\u001b[32m[I 2023-04-27 16:22:12,366]\u001b[0m Trial 4 finished with value: 0.7262624080348398 and parameters: {'momentum': 0.9401278226959899, 'learning_rate_init': 1.0895431635911366e-05, 'power_t': 0.2}. Best is trial 0 with value: 0.744299994627349.\u001b[0m\n",
      "\u001b[32m[I 2023-04-27 16:22:14,550]\u001b[0m Trial 5 finished with value: 0.7540065223936931 and parameters: {'momentum': 0.8954450693553963, 'learning_rate_init': 0.00012240023497559534, 'power_t': 0.8}. Best is trial 5 with value: 0.7540065223936931.\u001b[0m\n",
      "\u001b[32m[I 2023-04-27 16:22:37,757]\u001b[0m Trial 3 finished with value: 0.7476209131704538 and parameters: {'momentum': 0.8115558854062294, 'learning_rate_init': 0.0003996363555378716, 'power_t': 0.2}. Best is trial 5 with value: 0.7540065223936931.\u001b[0m\n",
      "\u001b[32m[I 2023-04-27 16:28:29,748]\u001b[0m Trial 6 finished with value: 0.7337745565083253 and parameters: {'momentum': 0.030322348073035355, 'learning_rate_init': 1.6693019544239576e-05, 'power_t': 0.2}. Best is trial 5 with value: 0.7540065223936931.\u001b[0m\n",
      "\u001b[32m[I 2023-04-27 16:28:51,517]\u001b[0m Trial 7 finished with value: 0.7443664465618358 and parameters: {'momentum': 0.14515002813969657, 'learning_rate_init': 8.607174504440323e-05, 'power_t': 0.30000000000000004}. Best is trial 5 with value: 0.7540065223936931.\u001b[0m\n",
      "\u001b[32m[I 2023-04-27 16:29:03,374]\u001b[0m Trial 9 finished with value: 0.7389311001423475 and parameters: {'momentum': 0.9725171412594956, 'learning_rate_init': 2.268053744760481e-05, 'power_t': 0.30000000000000004}. Best is trial 5 with value: 0.7540065223936931.\u001b[0m\n",
      "\u001b[32m[I 2023-04-27 16:29:16,441]\u001b[0m Trial 8 finished with value: 0.7406604629191833 and parameters: {'momentum': 0.8745890627811274, 'learning_rate_init': 0.0005028083363578892, 'power_t': 0.4}. Best is trial 5 with value: 0.7540065223936931.\u001b[0m\n",
      "\u001b[32m[I 2023-04-27 16:33:09,054]\u001b[0m Trial 11 finished with value: 0.7614242867803882 and parameters: {'momentum': 0.5154600774171402, 'learning_rate_init': 0.0006484157868557874, 'power_t': 0.4}. Best is trial 11 with value: 0.7614242867803882.\u001b[0m\n",
      "\u001b[32m[I 2023-04-27 16:34:45,013]\u001b[0m Trial 10 finished with value: 0.7527510603398911 and parameters: {'momentum': 0.5858474798445586, 'learning_rate_init': 9.883694637779601e-05, 'power_t': 0.4}. Best is trial 11 with value: 0.7614242867803882.\u001b[0m\n",
      "\u001b[32m[I 2023-04-27 16:35:18,148]\u001b[0m Trial 12 finished with value: 0.7428455863395205 and parameters: {'momentum': 0.42822772141582555, 'learning_rate_init': 6.114476928040793e-05, 'power_t': 0.30000000000000004}. Best is trial 11 with value: 0.7614242867803882.\u001b[0m\n",
      "\u001b[32m[I 2023-04-27 16:35:35,742]\u001b[0m Trial 13 finished with value: 0.7496116106750755 and parameters: {'momentum': 0.6317163914318717, 'learning_rate_init': 9.345554417028867e-05, 'power_t': 0.8}. Best is trial 11 with value: 0.7614242867803882.\u001b[0m\n",
      "\u001b[32m[I 2023-04-27 16:40:03,745]\u001b[0m Trial 14 finished with value: 0.7386059680064805 and parameters: {'momentum': 0.6044657483470869, 'learning_rate_init': 0.0009464818533314656, 'power_t': 0.8}. Best is trial 11 with value: 0.7614242867803882.\u001b[0m\n",
      "\u001b[32m[I 2023-04-27 16:41:53,573]\u001b[0m Trial 15 finished with value: 0.7423794240849351 and parameters: {'momentum': 0.3865088995875835, 'learning_rate_init': 0.00023840596934247423, 'power_t': 0.8}. Best is trial 11 with value: 0.7614242867803882.\u001b[0m\n",
      "\u001b[32m[I 2023-04-27 16:42:45,301]\u001b[0m Trial 17 finished with value: 0.7446511634017957 and parameters: {'momentum': 0.39130682951658524, 'learning_rate_init': 0.00024632462161621436, 'power_t': 0.6000000000000001}. Best is trial 11 with value: 0.7614242867803882.\u001b[0m\n",
      "\u001b[32m[I 2023-04-27 16:42:47,287]\u001b[0m Trial 16 finished with value: 0.7300611129973147 and parameters: {'momentum': 0.6885340916422393, 'learning_rate_init': 0.0008979564473310816, 'power_t': 0.8}. Best is trial 11 with value: 0.7614242867803882.\u001b[0m\n",
      "\u001b[32m[I 2023-04-27 16:44:31,862]\u001b[0m Trial 18 finished with value: 0.7464682825373969 and parameters: {'momentum': 0.41545720778169515, 'learning_rate_init': 0.00023951684055498394, 'power_t': 0.6000000000000001}. Best is trial 11 with value: 0.7614242867803882.\u001b[0m\n",
      "\u001b[32m[I 2023-04-27 16:44:45,448]\u001b[0m Trial 19 finished with value: 0.7467755459635972 and parameters: {'momentum': 0.7768435343335016, 'learning_rate_init': 0.0002195211814928332, 'power_t': 0.6000000000000001}. Best is trial 11 with value: 0.7614242867803882.\u001b[0m\n"
     ]
    }
   ],
   "source": [
    "study.optimize(objective, n_jobs=-1, n_trials=18)"
   ]
  },
  {
   "cell_type": "markdown",
   "id": "49453e8a-c1d7-46e8-ba2b-5e7aedab05bb",
   "metadata": {},
   "source": [
    "#### Finish with 30 trials (total 50 trials)"
   ]
  },
  {
   "cell_type": "code",
   "execution_count": 53,
   "id": "lakTvNCufvwU",
   "metadata": {
    "colab": {
     "base_uri": "https://localhost:8080/"
    },
    "executionInfo": {
     "elapsed": 3046580,
     "status": "ok",
     "timestamp": 1682617593396,
     "user": {
      "displayName": "Damir Zunic",
      "userId": "07104666280721646256"
     },
     "user_tz": 240
    },
    "id": "lakTvNCufvwU",
    "outputId": "e4eb5bf6-78b0-4799-d987-101664c3cdcb",
    "scrolled": true,
    "tags": []
   },
   "outputs": [
    {
     "name": "stderr",
     "output_type": "stream",
     "text": [
      "\u001b[32m[I 2023-04-27 17:02:32,678]\u001b[0m Trial 20 finished with value: 0.7535196538300831 and parameters: {'momentum': 0.6971119336865255, 'learning_rate_init': 0.00014185289578121037, 'power_t': 0.5}. Best is trial 11 with value: 0.7614242867803882.\u001b[0m\n",
      "\u001b[32m[I 2023-04-27 17:02:33,450]\u001b[0m Trial 22 finished with value: 0.7541229980490903 and parameters: {'momentum': 0.7109747186824044, 'learning_rate_init': 0.00013423591757077643, 'power_t': 0.5}. Best is trial 11 with value: 0.7614242867803882.\u001b[0m\n",
      "\u001b[32m[I 2023-04-27 17:02:40,536]\u001b[0m Trial 21 finished with value: 0.7516036660319434 and parameters: {'momentum': 0.7251792333997664, 'learning_rate_init': 0.00013899989147938947, 'power_t': 0.5}. Best is trial 11 with value: 0.7614242867803882.\u001b[0m\n",
      "\u001b[32m[I 2023-04-27 17:02:59,376]\u001b[0m Trial 23 finished with value: 0.7360772839465812 and parameters: {'momentum': 0.49867096149568746, 'learning_rate_init': 0.00043032579408755814, 'power_t': 0.5}. Best is trial 11 with value: 0.7614242867803882.\u001b[0m\n",
      "\u001b[32m[I 2023-04-27 17:09:15,403]\u001b[0m Trial 24 finished with value: 0.7516036660319434 and parameters: {'momentum': 0.7289640585122164, 'learning_rate_init': 0.0001438632131010435, 'power_t': 0.5}. Best is trial 11 with value: 0.7614242867803882.\u001b[0m\n",
      "\u001b[32m[I 2023-04-27 17:09:32,856]\u001b[0m Trial 27 finished with value: 0.7419648638252223 and parameters: {'momentum': 0.7807822831396247, 'learning_rate_init': 5.263675172720508e-05, 'power_t': 0.4}. Best is trial 11 with value: 0.7614242867803882.\u001b[0m\n",
      "\u001b[32m[I 2023-04-27 17:09:37,180]\u001b[0m Trial 25 finished with value: 0.7372248828204606 and parameters: {'momentum': 0.7267045928957709, 'learning_rate_init': 0.0003434713432083228, 'power_t': 0.4}. Best is trial 11 with value: 0.7614242867803882.\u001b[0m\n",
      "\u001b[32m[I 2023-04-27 17:09:49,026]\u001b[0m Trial 26 finished with value: 0.7435237605078058 and parameters: {'momentum': 0.7719445107205218, 'learning_rate_init': 0.0004036611908388406, 'power_t': 0.4}. Best is trial 11 with value: 0.7614242867803882.\u001b[0m\n",
      "\u001b[32m[I 2023-04-27 17:15:56,415]\u001b[0m Trial 28 finished with value: 0.7395900507665429 and parameters: {'momentum': 0.867972715357471, 'learning_rate_init': 5.791814541403483e-05, 'power_t': 0.4}. Best is trial 11 with value: 0.7614242867803882.\u001b[0m\n",
      "\u001b[32m[I 2023-04-27 17:16:35,541]\u001b[0m Trial 31 finished with value: 0.7406582945475555 and parameters: {'momentum': 0.897405578296462, 'learning_rate_init': 0.0005963342521404789, 'power_t': 0.7}. Best is trial 11 with value: 0.7614242867803882.\u001b[0m\n",
      "\u001b[32m[I 2023-04-27 17:16:36,393]\u001b[0m Trial 29 finished with value: 0.7339059015268485 and parameters: {'momentum': 0.86157457700374, 'learning_rate_init': 0.00032938287927241223, 'power_t': 0.7}. Best is trial 11 with value: 0.7614242867803882.\u001b[0m\n",
      "\u001b[32m[I 2023-04-27 17:16:50,714]\u001b[0m Trial 30 finished with value: 0.7505163536200647 and parameters: {'momentum': 0.9965191537893391, 'learning_rate_init': 0.0006011967703329604, 'power_t': 0.7}. Best is trial 11 with value: 0.7614242867803882.\u001b[0m\n",
      "\u001b[32m[I 2023-04-27 17:22:41,009]\u001b[0m Trial 32 finished with value: 0.739656296326713 and parameters: {'momentum': 0.874860942492572, 'learning_rate_init': 0.0006356518292562982, 'power_t': 0.7}. Best is trial 11 with value: 0.7614242867803882.\u001b[0m\n",
      "\u001b[32m[I 2023-04-27 17:23:37,564]\u001b[0m Trial 34 finished with value: 0.7564246972918889 and parameters: {'momentum': 0.6601399541408827, 'learning_rate_init': 0.00014980222726162105, 'power_t': 0.5}. Best is trial 11 with value: 0.7614242867803882.\u001b[0m\n",
      "\u001b[32m[I 2023-04-27 17:23:42,161]\u001b[0m Trial 33 finished with value: 0.7488565916677505 and parameters: {'momentum': 0.8631253777255665, 'learning_rate_init': 0.00016925339658029564, 'power_t': 0.7}. Best is trial 11 with value: 0.7614242867803882.\u001b[0m\n",
      "\u001b[32m[I 2023-04-27 17:23:50,764]\u001b[0m Trial 35 finished with value: 0.7556971992157295 and parameters: {'momentum': 0.6744151447709196, 'learning_rate_init': 0.0001554061668314619, 'power_t': 0.5}. Best is trial 11 with value: 0.7614242867803882.\u001b[0m\n",
      "\u001b[32m[I 2023-04-27 17:29:31,393]\u001b[0m Trial 36 finished with value: 0.7577348978183238 and parameters: {'momentum': 0.668417462588118, 'learning_rate_init': 0.0001578660377091729, 'power_t': 0.5}. Best is trial 11 with value: 0.7614242867803882.\u001b[0m\n",
      "\u001b[32m[I 2023-04-27 17:30:23,352]\u001b[0m Trial 38 finished with value: 0.7498356881134329 and parameters: {'momentum': 0.6614022184617913, 'learning_rate_init': 0.00011625334204608377, 'power_t': 0.6000000000000001}. Best is trial 11 with value: 0.7614242867803882.\u001b[0m\n",
      "\u001b[32m[I 2023-04-27 17:30:26,133]\u001b[0m Trial 37 finished with value: 0.7493098741636 and parameters: {'momentum': 0.6519298067326237, 'learning_rate_init': 0.00017529003082538612, 'power_t': 0.6000000000000001}. Best is trial 11 with value: 0.7614242867803882.\u001b[0m\n",
      "\u001b[32m[I 2023-04-27 17:30:40,974]\u001b[0m Trial 39 finished with value: 0.7563293455935268 and parameters: {'momentum': 0.6356267393417478, 'learning_rate_init': 0.00019188317455276905, 'power_t': 0.6000000000000001}. Best is trial 11 with value: 0.7614242867803882.\u001b[0m\n",
      "\u001b[32m[I 2023-04-27 17:36:12,710]\u001b[0m Trial 40 finished with value: 0.745576401289395 and parameters: {'momentum': 0.6522006084486778, 'learning_rate_init': 0.00017872246492446915, 'power_t': 0.6000000000000001}. Best is trial 11 with value: 0.7614242867803882.\u001b[0m\n",
      "\u001b[32m[I 2023-04-27 17:37:00,947]\u001b[0m Trial 41 finished with value: 0.7475655528367531 and parameters: {'momentum': 0.5783568708806749, 'learning_rate_init': 0.00017571464242397883, 'power_t': 0.6000000000000001}. Best is trial 11 with value: 0.7614242867803882.\u001b[0m\n",
      "\u001b[32m[I 2023-04-27 17:37:11,383]\u001b[0m Trial 42 finished with value: 0.7483326899982845 and parameters: {'momentum': 0.5856988635175943, 'learning_rate_init': 0.00027517991405138164, 'power_t': 0.5}. Best is trial 11 with value: 0.7614242867803882.\u001b[0m\n",
      "\u001b[32m[I 2023-04-27 17:37:25,180]\u001b[0m Trial 43 finished with value: 0.7450009290338448 and parameters: {'momentum': 0.54321086854659, 'learning_rate_init': 0.0002081154043863673, 'power_t': 0.30000000000000004}. Best is trial 11 with value: 0.7614242867803882.\u001b[0m\n",
      "\u001b[32m[I 2023-04-27 17:43:12,341]\u001b[0m Trial 44 finished with value: 0.7415426147144437 and parameters: {'momentum': 0.5541820786263495, 'learning_rate_init': 0.00032120582464314796, 'power_t': 0.5}. Best is trial 11 with value: 0.7614242867803882.\u001b[0m\n",
      "\u001b[32m[I 2023-04-27 17:44:14,253]\u001b[0m Trial 45 finished with value: 0.7423761044502679 and parameters: {'momentum': 0.5310248623919653, 'learning_rate_init': 0.0002982395873939191, 'power_t': 0.5}. Best is trial 11 with value: 0.7614242867803882.\u001b[0m\n",
      "\u001b[32m[I 2023-04-27 17:44:17,569]\u001b[0m Trial 46 finished with value: 0.7377064365148123 and parameters: {'momentum': 0.5206346008219234, 'learning_rate_init': 0.0003201785528929482, 'power_t': 0.5}. Best is trial 11 with value: 0.7614242867803882.\u001b[0m\n",
      "\u001b[32m[I 2023-04-27 17:44:23,236]\u001b[0m Trial 47 finished with value: 0.7433028322126392 and parameters: {'momentum': 0.507973284129119, 'learning_rate_init': 0.0002897376343119897, 'power_t': 0.5}. Best is trial 11 with value: 0.7614242867803882.\u001b[0m\n",
      "\u001b[32m[I 2023-04-27 17:46:26,452]\u001b[0m Trial 48 finished with value: 0.7444555339007193 and parameters: {'momentum': 0.6197788681029031, 'learning_rate_init': 8.701019231373222e-05, 'power_t': 0.5}. Best is trial 11 with value: 0.7614242867803882.\u001b[0m\n",
      "\u001b[32m[I 2023-04-27 17:46:33,144]\u001b[0m Trial 49 finished with value: 0.7409728062086594 and parameters: {'momentum': 0.6258421360670103, 'learning_rate_init': 7.637760687835771e-05, 'power_t': 0.4}. Best is trial 11 with value: 0.7614242867803882.\u001b[0m\n"
     ]
    }
   ],
   "source": [
    "study.optimize(objective, n_jobs=-1, n_trials=30)"
   ]
  },
  {
   "cell_type": "markdown",
   "id": "wLYXJgqlj7MF",
   "metadata": {
    "id": "wLYXJgqlj7MF"
   },
   "source": [
    "## Best Parameters"
   ]
  },
  {
   "cell_type": "code",
   "execution_count": 54,
   "id": "bG5WbfVij7MF",
   "metadata": {
    "colab": {
     "base_uri": "https://localhost:8080/"
    },
    "executionInfo": {
     "elapsed": 311,
     "status": "ok",
     "timestamp": 1682617728383,
     "user": {
      "displayName": "Damir Zunic",
      "userId": "07104666280721646256"
     },
     "user_tz": 240
    },
    "id": "bG5WbfVij7MF",
    "outputId": "932c99f7-aa5f-42bd-d620-32dbc6b2670e"
   },
   "outputs": [
    {
     "name": "stdout",
     "output_type": "stream",
     "text": [
      "Number of finished trials: 50\n",
      "Best trial:\n",
      "  Value: 0.7614242867803882\n",
      "  Params: \n",
      "    momentum: 0.5154600774171402\n",
      "    learning_rate_init: 0.0006484157868557874\n",
      "    power_t: 0.4\n"
     ]
    }
   ],
   "source": [
    "print(f'Number of finished trials: {len(study.trials)}')\n",
    "print('Best trial:')\n",
    "trial = study.best_trial\n",
    "\n",
    "print(f'  Value: {trial.value}')\n",
    "print('  Params: ')\n",
    "\n",
    "for key, value in trial.params.items():\n",
    "    print(f'    {key}: {value}')"
   ]
  },
  {
   "cell_type": "markdown",
   "id": "ZZHxW5pXj7MF",
   "metadata": {
    "id": "ZZHxW5pXj7MF"
   },
   "source": [
    "## Re-fit the model"
   ]
  },
  {
   "cell_type": "code",
   "execution_count": 55,
   "id": "aSm9nVMcj7MF",
   "metadata": {
    "colab": {
     "base_uri": "https://localhost:8080/"
    },
    "executionInfo": {
     "elapsed": 241,
     "status": "ok",
     "timestamp": 1682617744322,
     "user": {
      "displayName": "Damir Zunic",
      "userId": "07104666280721646256"
     },
     "user_tz": 240
    },
    "id": "aSm9nVMcj7MF",
    "outputId": "c42fc28d-c580-4481-a3ec-e3e88a79c423"
   },
   "outputs": [
    {
     "data": {
      "text/plain": [
       "{'momentum': 0.5154600774171402,\n",
       " 'learning_rate_init': 0.0006484157868557874,\n",
       " 'power_t': 0.4}"
      ]
     },
     "execution_count": 55,
     "metadata": {},
     "output_type": "execute_result"
    }
   ],
   "source": [
    "params_mlp = trial.params\n",
    "params_mlp"
   ]
  },
  {
   "cell_type": "code",
   "execution_count": 56,
   "id": "yJmbOYCCj7MG",
   "metadata": {
    "colab": {
     "base_uri": "https://localhost:8080/",
     "height": 109
    },
    "executionInfo": {
     "elapsed": 36660,
     "status": "ok",
     "timestamp": 1682617786630,
     "user": {
      "displayName": "Damir Zunic",
      "userId": "07104666280721646256"
     },
     "user_tz": 240
    },
    "id": "yJmbOYCCj7MG",
    "outputId": "e085d264-d1d4-4cf4-b769-24cf41ddf306"
   },
   "outputs": [
    {
     "data": {
      "text/html": [
       "<style>#sk-container-id-2 {color: black;background-color: white;}#sk-container-id-2 pre{padding: 0;}#sk-container-id-2 div.sk-toggleable {background-color: white;}#sk-container-id-2 label.sk-toggleable__label {cursor: pointer;display: block;width: 100%;margin-bottom: 0;padding: 0.3em;box-sizing: border-box;text-align: center;}#sk-container-id-2 label.sk-toggleable__label-arrow:before {content: \"▸\";float: left;margin-right: 0.25em;color: #696969;}#sk-container-id-2 label.sk-toggleable__label-arrow:hover:before {color: black;}#sk-container-id-2 div.sk-estimator:hover label.sk-toggleable__label-arrow:before {color: black;}#sk-container-id-2 div.sk-toggleable__content {max-height: 0;max-width: 0;overflow: hidden;text-align: left;background-color: #f0f8ff;}#sk-container-id-2 div.sk-toggleable__content pre {margin: 0.2em;color: black;border-radius: 0.25em;background-color: #f0f8ff;}#sk-container-id-2 input.sk-toggleable__control:checked~div.sk-toggleable__content {max-height: 200px;max-width: 100%;overflow: auto;}#sk-container-id-2 input.sk-toggleable__control:checked~label.sk-toggleable__label-arrow:before {content: \"▾\";}#sk-container-id-2 div.sk-estimator input.sk-toggleable__control:checked~label.sk-toggleable__label {background-color: #d4ebff;}#sk-container-id-2 div.sk-label input.sk-toggleable__control:checked~label.sk-toggleable__label {background-color: #d4ebff;}#sk-container-id-2 input.sk-hidden--visually {border: 0;clip: rect(1px 1px 1px 1px);clip: rect(1px, 1px, 1px, 1px);height: 1px;margin: -1px;overflow: hidden;padding: 0;position: absolute;width: 1px;}#sk-container-id-2 div.sk-estimator {font-family: monospace;background-color: #f0f8ff;border: 1px dotted black;border-radius: 0.25em;box-sizing: border-box;margin-bottom: 0.5em;}#sk-container-id-2 div.sk-estimator:hover {background-color: #d4ebff;}#sk-container-id-2 div.sk-parallel-item::after {content: \"\";width: 100%;border-bottom: 1px solid gray;flex-grow: 1;}#sk-container-id-2 div.sk-label:hover label.sk-toggleable__label {background-color: #d4ebff;}#sk-container-id-2 div.sk-serial::before {content: \"\";position: absolute;border-left: 1px solid gray;box-sizing: border-box;top: 0;bottom: 0;left: 50%;z-index: 0;}#sk-container-id-2 div.sk-serial {display: flex;flex-direction: column;align-items: center;background-color: white;padding-right: 0.2em;padding-left: 0.2em;position: relative;}#sk-container-id-2 div.sk-item {position: relative;z-index: 1;}#sk-container-id-2 div.sk-parallel {display: flex;align-items: stretch;justify-content: center;background-color: white;position: relative;}#sk-container-id-2 div.sk-item::before, #sk-container-id-2 div.sk-parallel-item::before {content: \"\";position: absolute;border-left: 1px solid gray;box-sizing: border-box;top: 0;bottom: 0;left: 50%;z-index: -1;}#sk-container-id-2 div.sk-parallel-item {display: flex;flex-direction: column;z-index: 1;position: relative;background-color: white;}#sk-container-id-2 div.sk-parallel-item:first-child::after {align-self: flex-end;width: 50%;}#sk-container-id-2 div.sk-parallel-item:last-child::after {align-self: flex-start;width: 50%;}#sk-container-id-2 div.sk-parallel-item:only-child::after {width: 0;}#sk-container-id-2 div.sk-dashed-wrapped {border: 1px dashed gray;margin: 0 0.4em 0.5em 0.4em;box-sizing: border-box;padding-bottom: 0.4em;background-color: white;}#sk-container-id-2 div.sk-label label {font-family: monospace;font-weight: bold;display: inline-block;line-height: 1.2em;}#sk-container-id-2 div.sk-label-container {text-align: center;}#sk-container-id-2 div.sk-container {/* jupyter's `normalize.less` sets `[hidden] { display: none; }` but bootstrap.min.css set `[hidden] { display: none !important; }` so we also need the `!important` here to be able to override the default hidden behavior on the sphinx rendered scikit-learn.org. See: https://github.com/scikit-learn/scikit-learn/issues/21755 */display: inline-block !important;position: relative;}#sk-container-id-2 div.sk-text-repr-fallback {display: none;}</style><div id=\"sk-container-id-2\" class=\"sk-top-container\"><div class=\"sk-text-repr-fallback\"><pre>MLPClassifier(hidden_layer_sizes=(10, 10, 10),\n",
       "              learning_rate_init=0.0006484157868557874,\n",
       "              momentum=0.5154600774171402, power_t=0.4, random_state=10)</pre><b>In a Jupyter environment, please rerun this cell to show the HTML representation or trust the notebook. <br />On GitHub, the HTML representation is unable to render, please try loading this page with nbviewer.org.</b></div><div class=\"sk-container\" hidden><div class=\"sk-item\"><div class=\"sk-estimator sk-toggleable\"><input class=\"sk-toggleable__control sk-hidden--visually\" id=\"sk-estimator-id-2\" type=\"checkbox\" checked><label for=\"sk-estimator-id-2\" class=\"sk-toggleable__label sk-toggleable__label-arrow\">MLPClassifier</label><div class=\"sk-toggleable__content\"><pre>MLPClassifier(hidden_layer_sizes=(10, 10, 10),\n",
       "              learning_rate_init=0.0006484157868557874,\n",
       "              momentum=0.5154600774171402, power_t=0.4, random_state=10)</pre></div></div></div></div></div>"
      ],
      "text/plain": [
       "MLPClassifier(hidden_layer_sizes=(10, 10, 10),\n",
       "              learning_rate_init=0.0006484157868557874,\n",
       "              momentum=0.5154600774171402, power_t=0.4, random_state=10)"
      ]
     },
     "execution_count": 56,
     "metadata": {},
     "output_type": "execute_result"
    }
   ],
   "source": [
    "### mlp = MLPClassifier(**params_mlp, hidden_layer_sizes=(10, 10, 10), random_state=random_state)\n",
    "mlp = MLPClassifier(**params_mlp, hidden_layer_sizes=(100, 50), random_state=random_state)\n",
    "mlp.fit(X_train, y_train)"
   ]
  },
  {
   "cell_type": "code",
   "execution_count": 57,
   "id": "qDowqP9nj7MG",
   "metadata": {
    "colab": {
     "base_uri": "https://localhost:8080/"
    },
    "executionInfo": {
     "elapsed": 213,
     "status": "ok",
     "timestamp": 1682617792838,
     "user": {
      "displayName": "Damir Zunic",
      "userId": "07104666280721646256"
     },
     "user_tz": 240
    },
    "id": "qDowqP9nj7MG",
    "outputId": "c5f58508-4df3-4877-aea7-154111dacd89"
   },
   "outputs": [
    {
     "data": {
      "text/plain": [
       "['/content/drive/MyDrive/Omdena/Team1/saved_models/batch_4_stack/mlp_f1ma_1.pkl']"
      ]
     },
     "execution_count": 57,
     "metadata": {},
     "output_type": "execute_result"
    }
   ],
   "source": [
    "# Save the model\n",
    "joblib.dump(mlp, '/content/drive/MyDrive/Omdena/Team1/saved_models/batch_4_stack/mlp_f1ma_1.pkl')"
   ]
  },
  {
   "cell_type": "code",
   "execution_count": 58,
   "id": "w1CqqwWCj7MG",
   "metadata": {
    "executionInfo": {
     "elapsed": 216,
     "status": "ok",
     "timestamp": 1682617797177,
     "user": {
      "displayName": "Damir Zunic",
      "userId": "07104666280721646256"
     },
     "user_tz": 240
    },
    "id": "w1CqqwWCj7MG"
   },
   "outputs": [],
   "source": [
    "y_pred_mlp = mlp.predict(X_test)"
   ]
  },
  {
   "cell_type": "code",
   "execution_count": 59,
   "id": "_RUQ_Dedj7MG",
   "metadata": {
    "colab": {
     "base_uri": "https://localhost:8080/"
    },
    "executionInfo": {
     "elapsed": 169,
     "status": "ok",
     "timestamp": 1682617802528,
     "user": {
      "displayName": "Damir Zunic",
      "userId": "07104666280721646256"
     },
     "user_tz": 240
    },
    "id": "_RUQ_Dedj7MG",
    "outputId": "5a232146-aa55-40e0-f1cb-2d6fba3c0deb"
   },
   "outputs": [
    {
     "name": "stdout",
     "output_type": "stream",
     "text": [
      "Accuracy after tuning: 83.78\n"
     ]
    }
   ],
   "source": [
    "accuracy = accuracy_score(y_test, y_pred_mlp)\n",
    "print(f'Accuracy after tuning: {accuracy * 100.0:.2f}')"
   ]
  },
  {
   "cell_type": "code",
   "execution_count": 60,
   "id": "YgVdFZUej7MG",
   "metadata": {
    "colab": {
     "base_uri": "https://localhost:8080/"
    },
    "executionInfo": {
     "elapsed": 372,
     "status": "ok",
     "timestamp": 1682617810471,
     "user": {
      "displayName": "Damir Zunic",
      "userId": "07104666280721646256"
     },
     "user_tz": 240
    },
    "id": "YgVdFZUej7MG",
    "outputId": "ef8158b4-9f67-44d0-b0a4-d8e952924dd5"
   },
   "outputs": [
    {
     "name": "stdout",
     "output_type": "stream",
     "text": [
      "Training Data Score: 0.9670219014852731\n",
      "Testing Data Score: 0.8377926421404682\n"
     ]
    }
   ],
   "source": [
    "# Compare training and testing scores\n",
    "print(f\"Training Data Score: {mlp.score(X_train, y_train)}\")\n",
    "print(f\"Testing Data Score: {mlp.score(X_test, y_test)}\")"
   ]
  },
  {
   "cell_type": "code",
   "execution_count": 61,
   "id": "1j6q9imZj7MG",
   "metadata": {
    "colab": {
     "base_uri": "https://localhost:8080/"
    },
    "executionInfo": {
     "elapsed": 163,
     "status": "ok",
     "timestamp": 1682617818368,
     "user": {
      "displayName": "Damir Zunic",
      "userId": "07104666280721646256"
     },
     "user_tz": 240
    },
    "id": "1j6q9imZj7MG",
    "outputId": "7f34b73f-ea5e-4a38-df4a-e014bfb207c6"
   },
   "outputs": [
    {
     "name": "stdout",
     "output_type": "stream",
     "text": [
      "[[ 244   95]\n",
      " [ 196 1259]]\n"
     ]
    }
   ],
   "source": [
    "cm = confusion_matrix(y_test, y_pred_mlp)\n",
    "print(cm)"
   ]
  },
  {
   "cell_type": "code",
   "execution_count": 62,
   "id": "puA5M2STj7MG",
   "metadata": {
    "colab": {
     "base_uri": "https://localhost:8080/",
     "height": 315
    },
    "executionInfo": {
     "elapsed": 745,
     "status": "ok",
     "timestamp": 1682617833050,
     "user": {
      "displayName": "Damir Zunic",
      "userId": "07104666280721646256"
     },
     "user_tz": 240
    },
    "id": "puA5M2STj7MG",
    "outputId": "2ec0b710-ac14-4140-e9d6-affe8e950678"
   },
   "outputs": [
    {
     "data": {
      "image/png": "[encoded data removed]",
      "text/plain": [
       "<Figure size 864x288 with 4 Axes>"
      ]
     },
     "metadata": {},
     "output_type": "display_data"
    }
   ],
   "source": [
    "# Plot confusion matrix and its normalized version.\n",
    "mu.plot_cm_unnorm_and_norm('Multi-layer Perceptron - Optuna #1', y_test, y_pred_mlp, target_names, 'Reds')"
   ]
  },
  {
   "cell_type": "code",
   "execution_count": 63,
   "id": "dgdzs7rNj7MG",
   "metadata": {
    "colab": {
     "base_uri": "https://localhost:8080/"
    },
    "executionInfo": {
     "elapsed": 156,
     "status": "ok",
     "timestamp": 1682617846953,
     "user": {
      "displayName": "Damir Zunic",
      "userId": "07104666280721646256"
     },
     "user_tz": 240
    },
    "id": "dgdzs7rNj7MG",
    "outputId": "530e4bc8-7a7b-4fee-acd4-8126d68b736f"
   },
   "outputs": [
    {
     "name": "stdout",
     "output_type": "stream",
     "text": [
      "              precision    recall  f1-score   support\n",
      "\n",
      "         hem       0.55      0.72      0.63       339\n",
      "         all       0.93      0.87      0.90      1455\n",
      "\n",
      "    accuracy                           0.84      1794\n",
      "   macro avg       0.74      0.79      0.76      1794\n",
      "weighted avg       0.86      0.84      0.85      1794\n",
      "\n"
     ]
    }
   ],
   "source": [
    "print(classification_report(y_test, y_pred_mlp, target_names=target_names))"
   ]
  },
  {
   "cell_type": "markdown",
   "id": "48HbOzKTmCoE",
   "metadata": {
    "id": "48HbOzKTmCoE"
   },
   "source": [
    "## ================================================="
   ]
  },
  {
   "cell_type": "markdown",
   "id": "GfnkWtofmCoE",
   "metadata": {
    "id": "GfnkWtofmCoE"
   },
   "source": [
    "# Gaussian NB - Optuna"
   ]
  },
  {
   "cell_type": "markdown",
   "id": "S7PoW1jcmCoE",
   "metadata": {
    "id": "S7PoW1jcmCoE"
   },
   "source": [
    "## Optuna Objective Function"
   ]
  },
  {
   "cell_type": "code",
   "execution_count": 38,
   "id": "yGXxX78imCoE",
   "metadata": {
    "executionInfo": {
     "elapsed": 211,
     "status": "ok",
     "timestamp": 1682694757446,
     "user": {
      "displayName": "Damir Zunic",
      "userId": "07104666280721646256"
     },
     "user_tz": 240
    },
    "id": "yGXxX78imCoE"
   },
   "outputs": [],
   "source": [
    "def objective(trial):\n",
    "    \"\"\"Define the objective function\"\"\"\n",
    "\n",
    "    params = {\n",
    "        'var_smoothing' : trial.suggest_float('var_smoothing',1e-9, 1e-1, log=True)\n",
    "    }\n",
    "\n",
    "    # Fit the model\n",
    "    model = GaussianNB(**params)\n",
    "    model.fit(X_train, y_train)\n",
    "\n",
    "    # Make predictions\n",
    "    y_pred = model.predict(X_test)\n",
    "\n",
    "    # Evaluate predictions\n",
    "    f1 = f1_score(y_test, y_pred, average='macro')\n",
    "    return f1"
   ]
  },
  {
   "cell_type": "markdown",
   "id": "1UvnYCC9mCoE",
   "metadata": {
    "id": "1UvnYCC9mCoE"
   },
   "source": [
    "## Optuna Study"
   ]
  },
  {
   "cell_type": "code",
   "execution_count": 39,
   "id": "d2xuMmgGmCoF",
   "metadata": {
    "colab": {
     "base_uri": "https://localhost:8080/"
    },
    "executionInfo": {
     "elapsed": 144,
     "status": "ok",
     "timestamp": 1682694761538,
     "user": {
      "displayName": "Damir Zunic",
      "userId": "07104666280721646256"
     },
     "user_tz": 240
    },
    "id": "d2xuMmgGmCoF",
    "outputId": "df38094f-2db1-46e8-8778-0ca041a01742"
   },
   "outputs": [
    {
     "name": "stderr",
     "output_type": "stream",
     "text": [
      "\u001b[32m[I 2023-04-28 15:12:41,211]\u001b[0m A new study created in memory with name: no-name-7a1f5b10-9f96-4ce5-ab87-ce80c7889386\u001b[0m\n"
     ]
    }
   ],
   "source": [
    "study = optuna.create_study(direction='maximize')"
   ]
  },
  {
   "cell_type": "markdown",
   "id": "f2k4RYx9mCoF",
   "metadata": {
    "id": "f2k4RYx9mCoF"
   },
   "source": [
    "## Optimize the Objective Function"
   ]
  },
  {
   "cell_type": "code",
   "execution_count": 66,
   "id": "WuCShkr2mCoF",
   "metadata": {
    "colab": {
     "base_uri": "https://localhost:8080/"
    },
    "executionInfo": {
     "elapsed": 27648,
     "status": "ok",
     "timestamp": 1682617961191,
     "user": {
      "displayName": "Damir Zunic",
      "userId": "07104666280721646256"
     },
     "user_tz": 240
    },
    "id": "WuCShkr2mCoF",
    "outputId": "68f31521-e8e4-4975-afb4-9e0c0db14622",
    "scrolled": true,
    "tags": []
   },
   "outputs": [
    {
     "name": "stderr",
     "output_type": "stream",
     "text": [
      "\u001b[32m[I 2023-04-27 17:52:14,409]\u001b[0m Trial 0 finished with value: 0.4906980415617651 and parameters: {'var_smoothing': 0.0031478354776236675}. Best is trial 0 with value: 0.4906980415617651.\u001b[0m\n",
      "\u001b[32m[I 2023-04-27 17:52:14,475]\u001b[0m Trial 3 finished with value: 0.49430763106074976 and parameters: {'var_smoothing': 3.553181647724306e-05}. Best is trial 3 with value: 0.49430763106074976.\u001b[0m\n",
      "\u001b[32m[I 2023-04-27 17:52:14,519]\u001b[0m Trial 1 finished with value: 0.503894216253911 and parameters: {'var_smoothing': 2.841539056916215e-06}. Best is trial 1 with value: 0.503894216253911.\u001b[0m\n",
      "\u001b[32m[I 2023-04-27 17:52:14,553]\u001b[0m Trial 2 finished with value: 0.503894216253911 and parameters: {'var_smoothing': 1.9969077716416764e-06}. Best is trial 1 with value: 0.503894216253911.\u001b[0m\n",
      "\u001b[32m[I 2023-04-27 17:52:15,494]\u001b[0m Trial 6 finished with value: 0.48858875138346647 and parameters: {'var_smoothing': 0.0010372928592880437}. Best is trial 1 with value: 0.503894216253911.\u001b[0m\n",
      "\u001b[32m[I 2023-04-27 17:52:15,611]\u001b[0m Trial 7 finished with value: 0.5035656774787209 and parameters: {'var_smoothing': 3.826680924260667e-07}. Best is trial 1 with value: 0.503894216253911.\u001b[0m\n",
      "\u001b[32m[I 2023-04-27 17:52:15,638]\u001b[0m Trial 4 finished with value: 0.48858875138346647 and parameters: {'var_smoothing': 0.000851689093813066}. Best is trial 1 with value: 0.503894216253911.\u001b[0m\n",
      "\u001b[32m[I 2023-04-27 17:52:15,719]\u001b[0m Trial 5 finished with value: 0.503237624605947 and parameters: {'var_smoothing': 8.478975265724355e-06}. Best is trial 1 with value: 0.503894216253911.\u001b[0m\n",
      "\u001b[32m[I 2023-04-27 17:52:16,551]\u001b[0m Trial 8 finished with value: 0.4983999983593232 and parameters: {'var_smoothing': 2.7060377757687e-09}. Best is trial 1 with value: 0.503894216253911.\u001b[0m\n",
      "\u001b[32m[I 2023-04-27 17:52:16,771]\u001b[0m Trial 9 finished with value: 0.4916489424653829 and parameters: {'var_smoothing': 0.00023155236254571263}. Best is trial 1 with value: 0.503894216253911.\u001b[0m\n",
      "\u001b[32m[I 2023-04-27 17:52:16,842]\u001b[0m Trial 10 finished with value: 0.4981418049044656 and parameters: {'var_smoothing': 2.037507067631975e-05}. Best is trial 1 with value: 0.503894216253911.\u001b[0m\n",
      "\u001b[32m[I 2023-04-27 17:52:16,893]\u001b[0m Trial 11 finished with value: 0.48523246154761485 and parameters: {'var_smoothing': 0.09603451666630085}. Best is trial 1 with value: 0.503894216253911.\u001b[0m\n",
      "\u001b[32m[I 2023-04-27 17:52:18,015]\u001b[0m Trial 12 finished with value: 0.4983999983593232 and parameters: {'var_smoothing': 1.4023453930602816e-09}. Best is trial 1 with value: 0.503894216253911.\u001b[0m\n",
      "\u001b[32m[I 2023-04-27 17:52:18,116]\u001b[0m Trial 13 finished with value: 0.5042232448090189 and parameters: {'var_smoothing': 1.4122498324166484e-07}. Best is trial 13 with value: 0.5042232448090189.\u001b[0m\n",
      "\u001b[32m[I 2023-04-27 17:52:18,250]\u001b[0m Trial 14 finished with value: 0.4861988804374105 and parameters: {'var_smoothing': 0.07839692916709008}. Best is trial 13 with value: 0.5042232448090189.\u001b[0m\n",
      "\u001b[32m[I 2023-04-27 17:52:18,354]\u001b[0m Trial 15 finished with value: 0.503894216253911 and parameters: {'var_smoothing': 4.589682235454484e-07}. Best is trial 13 with value: 0.5042232448090189.\u001b[0m\n",
      "\u001b[32m[I 2023-04-27 17:52:19,140]\u001b[0m Trial 16 finished with value: 0.503894216253911 and parameters: {'var_smoothing': 2.2531789278723373e-07}. Best is trial 13 with value: 0.5042232448090189.\u001b[0m\n",
      "\u001b[32m[I 2023-04-27 17:52:19,229]\u001b[0m Trial 17 finished with value: 0.5048827869254257 and parameters: {'var_smoothing': 1.2520735208904894e-07}. Best is trial 17 with value: 0.5048827869254257.\u001b[0m\n",
      "\u001b[32m[I 2023-04-27 17:52:19,316]\u001b[0m Trial 18 finished with value: 0.5052133083991444 and parameters: {'var_smoothing': 7.641449139879306e-08}. Best is trial 18 with value: 0.5052133083991444.\u001b[0m\n",
      "\u001b[32m[I 2023-04-27 17:52:19,323]\u001b[0m Trial 19 finished with value: 0.5052133083991444 and parameters: {'var_smoothing': 8.444263785423833e-08}. Best is trial 18 with value: 0.5052133083991444.\u001b[0m\n",
      "\u001b[32m[I 2023-04-27 17:52:20,077]\u001b[0m Trial 20 finished with value: 0.5016788208417681 and parameters: {'var_smoothing': 2.661029500976111e-08}. Best is trial 18 with value: 0.5052133083991444.\u001b[0m\n",
      "\u001b[32m[I 2023-04-27 17:52:20,164]\u001b[0m Trial 21 finished with value: 0.5016788208417681 and parameters: {'var_smoothing': 2.6153434284571785e-08}. Best is trial 18 with value: 0.5052133083991444.\u001b[0m\n",
      "\u001b[32m[I 2023-04-27 17:52:20,300]\u001b[0m Trial 22 finished with value: 0.49988849241748434 and parameters: {'var_smoothing': 1.4495766028147205e-08}. Best is trial 18 with value: 0.5052133083991444.\u001b[0m\n",
      "\u001b[32m[I 2023-04-27 17:52:20,369]\u001b[0m Trial 23 finished with value: 0.49776548984508623 and parameters: {'var_smoothing': 1.1332322274859502e-08}. Best is trial 18 with value: 0.5052133083991444.\u001b[0m\n",
      "\u001b[32m[I 2023-04-27 17:52:21,018]\u001b[0m Trial 24 finished with value: 0.5020031966987808 and parameters: {'var_smoothing': 2.2636152229856962e-08}. Best is trial 18 with value: 0.5052133083991444.\u001b[0m\n",
      "\u001b[32m[I 2023-04-27 17:52:21,148]\u001b[0m Trial 25 finished with value: 0.5020031966987808 and parameters: {'var_smoothing': 2.394370855136906e-08}. Best is trial 18 with value: 0.5052133083991444.\u001b[0m\n",
      "\u001b[32m[I 2023-04-27 17:52:21,216]\u001b[0m Trial 26 finished with value: 0.5027997147815793 and parameters: {'var_smoothing': 6.463597811752498e-08}. Best is trial 18 with value: 0.5052133083991444.\u001b[0m\n",
      "\u001b[32m[I 2023-04-27 17:52:21,330]\u001b[0m Trial 27 finished with value: 0.5027997147815793 and parameters: {'var_smoothing': 5.265629030297909e-08}. Best is trial 18 with value: 0.5052133083991444.\u001b[0m\n",
      "\u001b[32m[I 2023-04-27 17:52:22,022]\u001b[0m Trial 28 finished with value: 0.5045527670527671 and parameters: {'var_smoothing': 1.2691760819880772e-07}. Best is trial 18 with value: 0.5052133083991444.\u001b[0m\n",
      "\u001b[32m[I 2023-04-27 17:52:22,100]\u001b[0m Trial 29 finished with value: 0.5048827869254257 and parameters: {'var_smoothing': 1.0593377186703417e-07}. Best is trial 18 with value: 0.5052133083991444.\u001b[0m\n",
      "\u001b[32m[I 2023-04-27 17:52:22,213]\u001b[0m Trial 30 finished with value: 0.5049629470433252 and parameters: {'var_smoothing': 9.766879026892649e-07}. Best is trial 18 with value: 0.5052133083991444.\u001b[0m\n",
      "\u001b[32m[I 2023-04-27 17:52:22,307]\u001b[0m Trial 31 finished with value: 0.4980825133405211 and parameters: {'var_smoothing': 5.315513097370799e-09}. Best is trial 18 with value: 0.5052133083991444.\u001b[0m\n",
      "\u001b[32m[I 2023-04-27 17:52:23,014]\u001b[0m Trial 33 finished with value: 0.4983999983593232 and parameters: {'var_smoothing': 3.953543267221934e-09}. Best is trial 18 with value: 0.5052133083991444.\u001b[0m\n",
      "\u001b[32m[I 2023-04-27 17:52:23,078]\u001b[0m Trial 32 finished with value: 0.5052941782312428 and parameters: {'var_smoothing': 7.789612468252305e-07}. Best is trial 32 with value: 0.5052941782312428.\u001b[0m\n",
      "\u001b[32m[I 2023-04-27 17:52:23,218]\u001b[0m Trial 34 finished with value: 0.503237624605947 and parameters: {'var_smoothing': 1.3182521789523222e-06}. Best is trial 32 with value: 0.5052941782312428.\u001b[0m\n",
      "\u001b[32m[I 2023-04-27 17:52:23,370]\u001b[0m Trial 35 finished with value: 0.5052941782312428 and parameters: {'var_smoothing': 7.676596019088411e-07}. Best is trial 32 with value: 0.5052941782312428.\u001b[0m\n",
      "\u001b[32m[I 2023-04-27 17:52:23,961]\u001b[0m Trial 36 finished with value: 0.5049629470433252 and parameters: {'var_smoothing': 1.060699345241619e-06}. Best is trial 32 with value: 0.5052941782312428.\u001b[0m\n",
      "\u001b[32m[I 2023-04-27 17:52:24,150]\u001b[0m Trial 37 finished with value: 0.5049629470433252 and parameters: {'var_smoothing': 1.0042749183052867e-06}. Best is trial 32 with value: 0.5052941782312428.\u001b[0m\n",
      "\u001b[32m[I 2023-04-27 17:52:24,156]\u001b[0m Trial 38 finished with value: 0.5052941782312428 and parameters: {'var_smoothing': 7.9787161975238e-07}. Best is trial 32 with value: 0.5052941782312428.\u001b[0m\n",
      "\u001b[32m[I 2023-04-27 17:52:24,296]\u001b[0m Trial 39 finished with value: 0.5059581320450887 and parameters: {'var_smoothing': 4.647680185025148e-06}. Best is trial 39 with value: 0.5059581320450887.\u001b[0m\n",
      "\u001b[32m[I 2023-04-27 17:52:24,883]\u001b[0m Trial 40 finished with value: 0.50562590525688 and parameters: {'var_smoothing': 4.055941778458059e-06}. Best is trial 39 with value: 0.5059581320450887.\u001b[0m\n",
      "\u001b[32m[I 2023-04-27 17:52:25,149]\u001b[0m Trial 42 finished with value: 0.5059581320450887 and parameters: {'var_smoothing': 3.7846856155487426e-06}. Best is trial 39 with value: 0.5059581320450887.\u001b[0m\n",
      "\u001b[32m[I 2023-04-27 17:52:25,202]\u001b[0m Trial 41 finished with value: 0.5059581320450887 and parameters: {'var_smoothing': 3.7367653176169553e-06}. Best is trial 39 with value: 0.5059581320450887.\u001b[0m\n",
      "\u001b[32m[I 2023-04-27 17:52:25,302]\u001b[0m Trial 43 finished with value: 0.5062908625522011 and parameters: {'var_smoothing': 4.973115889837701e-06}. Best is trial 43 with value: 0.5062908625522011.\u001b[0m\n",
      "\u001b[32m[I 2023-04-27 17:52:25,926]\u001b[0m Trial 44 finished with value: 0.5035656774787209 and parameters: {'var_smoothing': 6.785233443638247e-06}. Best is trial 43 with value: 0.5062908625522011.\u001b[0m\n",
      "\u001b[32m[I 2023-04-27 17:52:26,076]\u001b[0m Trial 45 finished with value: 0.50562590525688 and parameters: {'var_smoothing': 4.385588336886206e-06}. Best is trial 43 with value: 0.5062908625522011.\u001b[0m\n",
      "\u001b[32m[I 2023-04-27 17:52:26,127]\u001b[0m Trial 46 finished with value: 0.50562590525688 and parameters: {'var_smoothing': 4.356884873229643e-06}. Best is trial 43 with value: 0.5062908625522011.\u001b[0m\n",
      "\u001b[32m[I 2023-04-27 17:52:26,283]\u001b[0m Trial 47 finished with value: 0.50562590525688 and parameters: {'var_smoothing': 4.535433206030874e-06}. Best is trial 43 with value: 0.5062908625522011.\u001b[0m\n",
      "\u001b[32m[I 2023-04-27 17:52:26,910]\u001b[0m Trial 48 finished with value: 0.50562590525688 and parameters: {'var_smoothing': 4.371916784203096e-06}. Best is trial 43 with value: 0.5062908625522011.\u001b[0m\n",
      "\u001b[32m[I 2023-04-27 17:52:27,000]\u001b[0m Trial 49 finished with value: 0.5035656774787209 and parameters: {'var_smoothing': 3.2002141165507745e-06}. Best is trial 43 with value: 0.5062908625522011.\u001b[0m\n",
      "\u001b[32m[I 2023-04-27 17:52:27,083]\u001b[0m Trial 50 finished with value: 0.5002029753802804 and parameters: {'var_smoothing': 1.748163680122028e-05}. Best is trial 43 with value: 0.5062908625522011.\u001b[0m\n",
      "\u001b[32m[I 2023-04-27 17:52:27,222]\u001b[0m Trial 51 finished with value: 0.5005259293467247 and parameters: {'var_smoothing': 1.4543034126378369e-05}. Best is trial 43 with value: 0.5062908625522011.\u001b[0m\n",
      "\u001b[32m[I 2023-04-27 17:52:27,983]\u001b[0m Trial 52 finished with value: 0.5005259293467247 and parameters: {'var_smoothing': 1.4115370534302022e-05}. Best is trial 43 with value: 0.5062908625522011.\u001b[0m\n",
      "\u001b[32m[I 2023-04-27 17:52:28,127]\u001b[0m Trial 54 finished with value: 0.5008493439550141 and parameters: {'var_smoothing': 1.1591508118653352e-05}. Best is trial 43 with value: 0.5062908625522011.\u001b[0m\n",
      "\u001b[32m[I 2023-04-27 17:52:28,172]\u001b[0m Trial 53 finished with value: 0.4981418049044656 and parameters: {'var_smoothing': 2.1779756535161238e-05}. Best is trial 43 with value: 0.5062908625522011.\u001b[0m\n",
      "\u001b[32m[I 2023-04-27 17:52:28,246]\u001b[0m Trial 55 finished with value: 0.489818109064971 and parameters: {'var_smoothing': 6.007583049326903e-05}. Best is trial 43 with value: 0.5062908625522011.\u001b[0m\n",
      "\u001b[32m[I 2023-04-27 17:52:29,621]\u001b[0m Trial 56 finished with value: 0.49430763106074976 and parameters: {'var_smoothing': 3.851058836681823e-05}. Best is trial 43 with value: 0.5062908625522011.\u001b[0m\n",
      "\u001b[32m[I 2023-04-27 17:52:29,829]\u001b[0m Trial 59 finished with value: 0.503894216253911 and parameters: {'var_smoothing': 2.3264646744451332e-06}. Best is trial 43 with value: 0.5062908625522011.\u001b[0m\n",
      "\u001b[32m[I 2023-04-27 17:52:29,837]\u001b[0m Trial 58 finished with value: 0.4939958592132505 and parameters: {'var_smoothing': 5.075854820649953e-05}. Best is trial 43 with value: 0.5062908625522011.\u001b[0m\n",
      "\u001b[32m[I 2023-04-27 17:52:29,854]\u001b[0m Trial 57 finished with value: 0.49430763106074976 and parameters: {'var_smoothing': 4.384351584738168e-05}. Best is trial 43 with value: 0.5062908625522011.\u001b[0m\n",
      "\u001b[32m[I 2023-04-27 17:52:31,267]\u001b[0m Trial 60 finished with value: 0.503894216253911 and parameters: {'var_smoothing': 2.2048478861363027e-06}. Best is trial 43 with value: 0.5062908625522011.\u001b[0m\n",
      "\u001b[32m[I 2023-04-27 17:52:31,411]\u001b[0m Trial 63 finished with value: 0.503894216253911 and parameters: {'var_smoothing': 1.8880207912451812e-06}. Best is trial 43 with value: 0.5062908625522011.\u001b[0m\n",
      "\u001b[32m[I 2023-04-27 17:52:31,510]\u001b[0m Trial 62 finished with value: 0.5042232448090189 and parameters: {'var_smoothing': 1.7728942193116295e-06}. Best is trial 43 with value: 0.5062908625522011.\u001b[0m\n",
      "\u001b[32m[I 2023-04-27 17:52:31,588]\u001b[0m Trial 61 finished with value: 0.503894216253911 and parameters: {'var_smoothing': 1.975778637739139e-06}. Best is trial 43 with value: 0.5062908625522011.\u001b[0m\n",
      "\u001b[32m[I 2023-04-27 17:52:32,492]\u001b[0m Trial 64 finished with value: 0.5035656774787209 and parameters: {'var_smoothing': 7.0412878527099265e-06}. Best is trial 43 with value: 0.5062908625522011.\u001b[0m\n",
      "\u001b[32m[I 2023-04-27 17:52:32,622]\u001b[0m Trial 66 finished with value: 0.5035656774787209 and parameters: {'var_smoothing': 7.1018881760837055e-06}. Best is trial 43 with value: 0.5062908625522011.\u001b[0m\n",
      "\u001b[32m[I 2023-04-27 17:52:32,677]\u001b[0m Trial 65 finished with value: 0.503894216253911 and parameters: {'var_smoothing': 6.664753106978696e-06}. Best is trial 43 with value: 0.5062908625522011.\u001b[0m\n",
      "\u001b[32m[I 2023-04-27 17:52:32,806]\u001b[0m Trial 67 finished with value: 0.50562590525688 and parameters: {'var_smoothing': 4.048846580766564e-06}. Best is trial 43 with value: 0.5062908625522011.\u001b[0m\n",
      "\u001b[32m[I 2023-04-27 17:52:33,678]\u001b[0m Trial 68 finished with value: 0.5066241007663601 and parameters: {'var_smoothing': 5.08735387967818e-06}. Best is trial 68 with value: 0.5066241007663601.\u001b[0m\n",
      "\u001b[32m[I 2023-04-27 17:52:33,761]\u001b[0m Trial 70 finished with value: 0.503894216253911 and parameters: {'var_smoothing': 2.7506110497779875e-07}. Best is trial 68 with value: 0.5066241007663601.\u001b[0m\n",
      "\u001b[32m[I 2023-04-27 17:52:33,935]\u001b[0m Trial 69 finished with value: 0.503894216253911 and parameters: {'var_smoothing': 3.374939430801484e-07}. Best is trial 68 with value: 0.5066241007663601.\u001b[0m\n",
      "\u001b[32m[I 2023-04-27 17:52:33,974]\u001b[0m Trial 71 finished with value: 0.503894216253911 and parameters: {'var_smoothing': 3.3591961055367767e-07}. Best is trial 68 with value: 0.5066241007663601.\u001b[0m\n",
      "\u001b[32m[I 2023-04-27 17:52:34,775]\u001b[0m Trial 73 finished with value: 0.5059581320450887 and parameters: {'var_smoothing': 5.658064986001896e-07}. Best is trial 68 with value: 0.5066241007663601.\u001b[0m\n",
      "\u001b[32m[I 2023-04-27 17:52:34,841]\u001b[0m Trial 72 finished with value: 0.503894216253911 and parameters: {'var_smoothing': 4.4260498556791154e-07}. Best is trial 68 with value: 0.5066241007663601.\u001b[0m\n",
      "\u001b[32m[I 2023-04-27 17:52:35,044]\u001b[0m Trial 74 finished with value: 0.503894216253911 and parameters: {'var_smoothing': 3.4166488367644605e-06}. Best is trial 68 with value: 0.5066241007663601.\u001b[0m\n",
      "\u001b[32m[I 2023-04-27 17:52:35,048]\u001b[0m Trial 75 finished with value: 0.503894216253911 and parameters: {'var_smoothing': 3.4320560492561557e-06}. Best is trial 68 with value: 0.5066241007663601.\u001b[0m\n",
      "\u001b[32m[I 2023-04-27 17:52:35,792]\u001b[0m Trial 76 finished with value: 0.503894216253911 and parameters: {'var_smoothing': 5.420985009939108e-07}. Best is trial 68 with value: 0.5066241007663601.\u001b[0m\n",
      "\u001b[32m[I 2023-04-27 17:52:35,856]\u001b[0m Trial 77 finished with value: 0.503894216253911 and parameters: {'var_smoothing': 3.321114490059277e-06}. Best is trial 68 with value: 0.5066241007663601.\u001b[0m\n",
      "\u001b[32m[I 2023-04-27 17:52:35,971]\u001b[0m Trial 78 finished with value: 0.5008493439550141 and parameters: {'var_smoothing': 1.0615960708219626e-05}. Best is trial 68 with value: 0.5066241007663601.\u001b[0m\n",
      "\u001b[32m[I 2023-04-27 17:52:36,046]\u001b[0m Trial 79 finished with value: 0.5008493439550141 and parameters: {'var_smoothing': 9.855231685235305e-06}. Best is trial 68 with value: 0.5066241007663601.\u001b[0m\n",
      "\u001b[32m[I 2023-04-27 17:52:36,778]\u001b[0m Trial 80 finished with value: 0.503237624605947 and parameters: {'var_smoothing': 1.4832908351136777e-06}. Best is trial 68 with value: 0.5066241007663601.\u001b[0m\n",
      "\u001b[32m[I 2023-04-27 17:52:36,854]\u001b[0m Trial 81 finished with value: 0.503237624605947 and parameters: {'var_smoothing': 1.4174289649886304e-06}. Best is trial 68 with value: 0.5066241007663601.\u001b[0m\n",
      "\u001b[32m[I 2023-04-27 17:52:36,923]\u001b[0m Trial 82 finished with value: 0.503237624605947 and parameters: {'var_smoothing': 1.2626545003996252e-06}. Best is trial 68 with value: 0.5066241007663601.\u001b[0m\n",
      "\u001b[32m[I 2023-04-27 17:52:36,997]\u001b[0m Trial 83 finished with value: 0.503237624605947 and parameters: {'var_smoothing': 1.302937118454738e-06}. Best is trial 68 with value: 0.5066241007663601.\u001b[0m\n",
      "\u001b[32m[I 2023-04-27 17:52:37,742]\u001b[0m Trial 84 finished with value: 0.503894216253911 and parameters: {'var_smoothing': 6.094677178335008e-06}. Best is trial 68 with value: 0.5066241007663601.\u001b[0m\n",
      "\u001b[32m[I 2023-04-27 17:52:37,824]\u001b[0m Trial 85 finished with value: 0.4960727826531481 and parameters: {'var_smoothing': 2.5389698484963706e-05}. Best is trial 68 with value: 0.5066241007663601.\u001b[0m\n",
      "\u001b[32m[I 2023-04-27 17:52:37,877]\u001b[0m Trial 86 finished with value: 0.503894216253911 and parameters: {'var_smoothing': 5.591533704770155e-06}. Best is trial 68 with value: 0.5066241007663601.\u001b[0m\n",
      "\u001b[32m[I 2023-04-27 17:52:37,987]\u001b[0m Trial 87 finished with value: 0.5062908625522011 and parameters: {'var_smoothing': 5.161365529052652e-06}. Best is trial 68 with value: 0.5066241007663601.\u001b[0m\n",
      "\u001b[32m[I 2023-04-27 17:52:38,620]\u001b[0m Trial 88 finished with value: 0.5062908625522011 and parameters: {'var_smoothing': 5.057234486424759e-06}. Best is trial 68 with value: 0.5066241007663601.\u001b[0m\n",
      "\u001b[32m[I 2023-04-27 17:52:38,762]\u001b[0m Trial 89 finished with value: 0.503894216253911 and parameters: {'var_smoothing': 2.6244185047682695e-06}. Best is trial 68 with value: 0.5066241007663601.\u001b[0m\n",
      "\u001b[32m[I 2023-04-27 17:52:38,822]\u001b[0m Trial 90 finished with value: 0.503894216253911 and parameters: {'var_smoothing': 1.960370292823355e-07}. Best is trial 68 with value: 0.5066241007663601.\u001b[0m\n",
      "\u001b[32m[I 2023-04-27 17:52:38,970]\u001b[0m Trial 91 finished with value: 0.503894216253911 and parameters: {'var_smoothing': 2.7056847807488653e-06}. Best is trial 68 with value: 0.5066241007663601.\u001b[0m\n",
      "\u001b[32m[I 2023-04-27 17:52:39,585]\u001b[0m Trial 92 finished with value: 0.5008493439550141 and parameters: {'var_smoothing': 1.108754028711765e-05}. Best is trial 68 with value: 0.5066241007663601.\u001b[0m\n",
      "\u001b[32m[I 2023-04-27 17:52:39,669]\u001b[0m Trial 93 finished with value: 0.5008493439550141 and parameters: {'var_smoothing': 9.322231827147666e-06}. Best is trial 68 with value: 0.5066241007663601.\u001b[0m\n",
      "\u001b[32m[I 2023-04-27 17:52:39,814]\u001b[0m Trial 94 finished with value: 0.5005259293467247 and parameters: {'var_smoothing': 1.3558362811315064e-05}. Best is trial 68 with value: 0.5066241007663601.\u001b[0m\n",
      "\u001b[32m[I 2023-04-27 17:52:39,908]\u001b[0m Trial 95 finished with value: 0.5008493439550141 and parameters: {'var_smoothing': 9.40446603070104e-06}. Best is trial 68 with value: 0.5066241007663601.\u001b[0m\n",
      "\u001b[32m[I 2023-04-27 17:52:40,502]\u001b[0m Trial 96 finished with value: 0.5059581320450887 and parameters: {'var_smoothing': 6.498228756060209e-07}. Best is trial 68 with value: 0.5066241007663601.\u001b[0m\n",
      "\u001b[32m[I 2023-04-27 17:52:40,643]\u001b[0m Trial 97 finished with value: 0.5059581320450887 and parameters: {'var_smoothing': 5.925719996711189e-07}. Best is trial 68 with value: 0.5066241007663601.\u001b[0m\n",
      "\u001b[32m[I 2023-04-27 17:52:40,690]\u001b[0m Trial 98 finished with value: 0.5059581320450887 and parameters: {'var_smoothing': 5.651688039445935e-07}. Best is trial 68 with value: 0.5066241007663601.\u001b[0m\n",
      "\u001b[32m[I 2023-04-27 17:52:40,744]\u001b[0m Trial 99 finished with value: 0.5059581320450887 and parameters: {'var_smoothing': 4.589978418806596e-06}. Best is trial 68 with value: 0.5066241007663601.\u001b[0m\n"
     ]
    }
   ],
   "source": [
    "study.optimize(objective, n_jobs=-1, n_trials=100)"
   ]
  },
  {
   "cell_type": "markdown",
   "id": "bBWo9HgomCoF",
   "metadata": {
    "id": "bBWo9HgomCoF"
   },
   "source": [
    "## Best Parameters"
   ]
  },
  {
   "cell_type": "code",
   "execution_count": 67,
   "id": "AxMSleDMmCoF",
   "metadata": {
    "colab": {
     "base_uri": "https://localhost:8080/"
    },
    "executionInfo": {
     "elapsed": 231,
     "status": "ok",
     "timestamp": 1682617988919,
     "user": {
      "displayName": "Damir Zunic",
      "userId": "07104666280721646256"
     },
     "user_tz": 240
    },
    "id": "AxMSleDMmCoF",
    "outputId": "b9ee2e4a-95f2-4b4f-c690-2dce47b03324"
   },
   "outputs": [
    {
     "name": "stdout",
     "output_type": "stream",
     "text": [
      "Number of finished trials: 100\n",
      "Best trial:\n",
      "  Value: 0.5066241007663601\n",
      "  Params: \n",
      "    var_smoothing: 5.08735387967818e-06\n"
     ]
    }
   ],
   "source": [
    "print(f'Number of finished trials: {len(study.trials)}')\n",
    "print('Best trial:')\n",
    "trial = study.best_trial\n",
    "\n",
    "print(f'  Value: {trial.value}')\n",
    "print('  Params: ')\n",
    "\n",
    "for key, value in trial.params.items():\n",
    "    print(f'    {key}: {value}')"
   ]
  },
  {
   "cell_type": "markdown",
   "id": "4uwHnCSAmCoF",
   "metadata": {
    "id": "4uwHnCSAmCoF"
   },
   "source": [
    "## Re-fit the model"
   ]
  },
  {
   "cell_type": "code",
   "execution_count": 68,
   "id": "FMBA-hLjmCoF",
   "metadata": {
    "colab": {
     "base_uri": "https://localhost:8080/"
    },
    "executionInfo": {
     "elapsed": 171,
     "status": "ok",
     "timestamp": 1682617996804,
     "user": {
      "displayName": "Damir Zunic",
      "userId": "07104666280721646256"
     },
     "user_tz": 240
    },
    "id": "FMBA-hLjmCoF",
    "outputId": "0bedd2f4-e002-4935-c5c4-d718aa290533"
   },
   "outputs": [
    {
     "data": {
      "text/plain": [
       "{'var_smoothing': 5.08735387967818e-06}"
      ]
     },
     "execution_count": 68,
     "metadata": {},
     "output_type": "execute_result"
    }
   ],
   "source": [
    "params_gnb = trial.params\n",
    "params_gnb"
   ]
  },
  {
   "cell_type": "code",
   "execution_count": 69,
   "id": "6TdscS2TmCoG",
   "metadata": {
    "colab": {
     "base_uri": "https://localhost:8080/",
     "height": 75
    },
    "executionInfo": {
     "elapsed": 734,
     "status": "ok",
     "timestamp": 1682618001867,
     "user": {
      "displayName": "Damir Zunic",
      "userId": "07104666280721646256"
     },
     "user_tz": 240
    },
    "id": "6TdscS2TmCoG",
    "outputId": "3a93a256-eb86-401f-f59b-c7de51782168"
   },
   "outputs": [
    {
     "data": {
      "text/html": [
       "<style>#sk-container-id-3 {color: black;background-color: white;}#sk-container-id-3 pre{padding: 0;}#sk-container-id-3 div.sk-toggleable {background-color: white;}#sk-container-id-3 label.sk-toggleable__label {cursor: pointer;display: block;width: 100%;margin-bottom: 0;padding: 0.3em;box-sizing: border-box;text-align: center;}#sk-container-id-3 label.sk-toggleable__label-arrow:before {content: \"▸\";float: left;margin-right: 0.25em;color: #696969;}#sk-container-id-3 label.sk-toggleable__label-arrow:hover:before {color: black;}#sk-container-id-3 div.sk-estimator:hover label.sk-toggleable__label-arrow:before {color: black;}#sk-container-id-3 div.sk-toggleable__content {max-height: 0;max-width: 0;overflow: hidden;text-align: left;background-color: #f0f8ff;}#sk-container-id-3 div.sk-toggleable__content pre {margin: 0.2em;color: black;border-radius: 0.25em;background-color: #f0f8ff;}#sk-container-id-3 input.sk-toggleable__control:checked~div.sk-toggleable__content {max-height: 200px;max-width: 100%;overflow: auto;}#sk-container-id-3 input.sk-toggleable__control:checked~label.sk-toggleable__label-arrow:before {content: \"▾\";}#sk-container-id-3 div.sk-estimator input.sk-toggleable__control:checked~label.sk-toggleable__label {background-color: #d4ebff;}#sk-container-id-3 div.sk-label input.sk-toggleable__control:checked~label.sk-toggleable__label {background-color: #d4ebff;}#sk-container-id-3 input.sk-hidden--visually {border: 0;clip: rect(1px 1px 1px 1px);clip: rect(1px, 1px, 1px, 1px);height: 1px;margin: -1px;overflow: hidden;padding: 0;position: absolute;width: 1px;}#sk-container-id-3 div.sk-estimator {font-family: monospace;background-color: #f0f8ff;border: 1px dotted black;border-radius: 0.25em;box-sizing: border-box;margin-bottom: 0.5em;}#sk-container-id-3 div.sk-estimator:hover {background-color: #d4ebff;}#sk-container-id-3 div.sk-parallel-item::after {content: \"\";width: 100%;border-bottom: 1px solid gray;flex-grow: 1;}#sk-container-id-3 div.sk-label:hover label.sk-toggleable__label {background-color: #d4ebff;}#sk-container-id-3 div.sk-serial::before {content: \"\";position: absolute;border-left: 1px solid gray;box-sizing: border-box;top: 0;bottom: 0;left: 50%;z-index: 0;}#sk-container-id-3 div.sk-serial {display: flex;flex-direction: column;align-items: center;background-color: white;padding-right: 0.2em;padding-left: 0.2em;position: relative;}#sk-container-id-3 div.sk-item {position: relative;z-index: 1;}#sk-container-id-3 div.sk-parallel {display: flex;align-items: stretch;justify-content: center;background-color: white;position: relative;}#sk-container-id-3 div.sk-item::before, #sk-container-id-3 div.sk-parallel-item::before {content: \"\";position: absolute;border-left: 1px solid gray;box-sizing: border-box;top: 0;bottom: 0;left: 50%;z-index: -1;}#sk-container-id-3 div.sk-parallel-item {display: flex;flex-direction: column;z-index: 1;position: relative;background-color: white;}#sk-container-id-3 div.sk-parallel-item:first-child::after {align-self: flex-end;width: 50%;}#sk-container-id-3 div.sk-parallel-item:last-child::after {align-self: flex-start;width: 50%;}#sk-container-id-3 div.sk-parallel-item:only-child::after {width: 0;}#sk-container-id-3 div.sk-dashed-wrapped {border: 1px dashed gray;margin: 0 0.4em 0.5em 0.4em;box-sizing: border-box;padding-bottom: 0.4em;background-color: white;}#sk-container-id-3 div.sk-label label {font-family: monospace;font-weight: bold;display: inline-block;line-height: 1.2em;}#sk-container-id-3 div.sk-label-container {text-align: center;}#sk-container-id-3 div.sk-container {/* jupyter's `normalize.less` sets `[hidden] { display: none; }` but bootstrap.min.css set `[hidden] { display: none !important; }` so we also need the `!important` here to be able to override the default hidden behavior on the sphinx rendered scikit-learn.org. See: https://github.com/scikit-learn/scikit-learn/issues/21755 */display: inline-block !important;position: relative;}#sk-container-id-3 div.sk-text-repr-fallback {display: none;}</style><div id=\"sk-container-id-3\" class=\"sk-top-container\"><div class=\"sk-text-repr-fallback\"><pre>GaussianNB(var_smoothing=5.08735387967818e-06)</pre><b>In a Jupyter environment, please rerun this cell to show the HTML representation or trust the notebook. <br />On GitHub, the HTML representation is unable to render, please try loading this page with nbviewer.org.</b></div><div class=\"sk-container\" hidden><div class=\"sk-item\"><div class=\"sk-estimator sk-toggleable\"><input class=\"sk-toggleable__control sk-hidden--visually\" id=\"sk-estimator-id-3\" type=\"checkbox\" checked><label for=\"sk-estimator-id-3\" class=\"sk-toggleable__label sk-toggleable__label-arrow\">GaussianNB</label><div class=\"sk-toggleable__content\"><pre>GaussianNB(var_smoothing=5.08735387967818e-06)</pre></div></div></div></div></div>"
      ],
      "text/plain": [
       "GaussianNB(var_smoothing=5.08735387967818e-06)"
      ]
     },
     "execution_count": 69,
     "metadata": {},
     "output_type": "execute_result"
    }
   ],
   "source": [
    "gnb = GaussianNB(**params_gnb)\n",
    "gnb.fit(X_train, y_train)"
   ]
  },
  {
   "cell_type": "code",
   "execution_count": 70,
   "id": "eYpT7OXYmCoG",
   "metadata": {
    "colab": {
     "base_uri": "https://localhost:8080/"
    },
    "executionInfo": {
     "elapsed": 310,
     "status": "ok",
     "timestamp": 1682618007260,
     "user": {
      "displayName": "Damir Zunic",
      "userId": "07104666280721646256"
     },
     "user_tz": 240
    },
    "id": "eYpT7OXYmCoG",
    "outputId": "a7ea70fa-c29b-47e0-b543-d86330b8193a"
   },
   "outputs": [
    {
     "data": {
      "text/plain": [
       "['/content/drive/MyDrive/Omdena/Team1/saved_models/batch_4_stack/gnb_f1ma_1.pkl']"
      ]
     },
     "execution_count": 70,
     "metadata": {},
     "output_type": "execute_result"
    }
   ],
   "source": [
    "# Save the model\n",
    "joblib.dump(gnb, '/content/drive/MyDrive/Omdena/Team1/saved_models/batch_4_stack/gnb_f1ma_1.pkl')"
   ]
  },
  {
   "cell_type": "code",
   "execution_count": 71,
   "id": "85AYfG0RmCoG",
   "metadata": {
    "executionInfo": {
     "elapsed": 151,
     "status": "ok",
     "timestamp": 1682618014732,
     "user": {
      "displayName": "Damir Zunic",
      "userId": "07104666280721646256"
     },
     "user_tz": 240
    },
    "id": "85AYfG0RmCoG"
   },
   "outputs": [],
   "source": [
    "y_pred_gnb = gnb.predict(X_test)"
   ]
  },
  {
   "cell_type": "code",
   "execution_count": 72,
   "id": "fK4S7AyVmCoG",
   "metadata": {
    "colab": {
     "base_uri": "https://localhost:8080/"
    },
    "executionInfo": {
     "elapsed": 133,
     "status": "ok",
     "timestamp": 1682618018582,
     "user": {
      "displayName": "Damir Zunic",
      "userId": "07104666280721646256"
     },
     "user_tz": 240
    },
    "id": "fK4S7AyVmCoG",
    "outputId": "7dd7770a-e212-4d1b-95b1-07d3723c5d08"
   },
   "outputs": [
    {
     "name": "stdout",
     "output_type": "stream",
     "text": [
      "Accuracy after tuning: 77.09\n"
     ]
    }
   ],
   "source": [
    "accuracy = accuracy_score(y_test, y_pred_gnb)\n",
    "print(f'Accuracy after tuning: {accuracy * 100.0:.2f}')"
   ]
  },
  {
   "cell_type": "code",
   "execution_count": 73,
   "id": "-nPp3XRlmCoG",
   "metadata": {
    "colab": {
     "base_uri": "https://localhost:8080/"
    },
    "executionInfo": {
     "elapsed": 2328,
     "status": "ok",
     "timestamp": 1682618024887,
     "user": {
      "displayName": "Damir Zunic",
      "userId": "07104666280721646256"
     },
     "user_tz": 240
    },
    "id": "-nPp3XRlmCoG",
    "outputId": "0da8ec74-5fd0-4579-ec65-260a119feaa0"
   },
   "outputs": [
    {
     "name": "stdout",
     "output_type": "stream",
     "text": [
      "Training Data Score: 0.7226651002769153\n",
      "Testing Data Score: 0.7709030100334449\n"
     ]
    }
   ],
   "source": [
    "# Compare training and testing scores\n",
    "print(f\"Training Data Score: {gnb.score(X_train, y_train)}\")\n",
    "print(f\"Testing Data Score: {gnb.score(X_test, y_test)}\")"
   ]
  },
  {
   "cell_type": "code",
   "execution_count": 74,
   "id": "stoK8imfmCoG",
   "metadata": {
    "colab": {
     "base_uri": "https://localhost:8080/"
    },
    "executionInfo": {
     "elapsed": 153,
     "status": "ok",
     "timestamp": 1682618031267,
     "user": {
      "displayName": "Damir Zunic",
      "userId": "07104666280721646256"
     },
     "user_tz": 240
    },
    "id": "stoK8imfmCoG",
    "outputId": "028a26ce-c20a-47ee-91d2-485a45688cf3"
   },
   "outputs": [
    {
     "name": "stdout",
     "output_type": "stream",
     "text": [
      "[[  35  304]\n",
      " [ 107 1348]]\n"
     ]
    }
   ],
   "source": [
    "cm = confusion_matrix(y_test, y_pred_gnb)\n",
    "print(cm)"
   ]
  },
  {
   "cell_type": "code",
   "execution_count": 75,
   "id": "STFJ5J7emCoG",
   "metadata": {
    "colab": {
     "base_uri": "https://localhost:8080/",
     "height": 315
    },
    "executionInfo": {
     "elapsed": 880,
     "status": "ok",
     "timestamp": 1682618042680,
     "user": {
      "displayName": "Damir Zunic",
      "userId": "07104666280721646256"
     },
     "user_tz": 240
    },
    "id": "STFJ5J7emCoG",
    "outputId": "33fe4376-93a1-4516-a650-92c9c751f2fe"
   },
   "outputs": [
    {
     "data": {
      "image/png": "[encoded data removed]",
      "text/plain": [
       "<Figure size 864x288 with 4 Axes>"
      ]
     },
     "metadata": {},
     "output_type": "display_data"
    }
   ],
   "source": [
    "# Plot confusion matrix and its normalized version.\n",
    "mu.plot_cm_unnorm_and_norm('Gaussian Naive Bayes - Optuna #1', y_test, y_pred_gnb, target_names, 'Reds')"
   ]
  },
  {
   "cell_type": "code",
   "execution_count": 76,
   "id": "s7rk92cBmCoG",
   "metadata": {
    "colab": {
     "base_uri": "https://localhost:8080/"
    },
    "executionInfo": {
     "elapsed": 172,
     "status": "ok",
     "timestamp": 1682618048546,
     "user": {
      "displayName": "Damir Zunic",
      "userId": "07104666280721646256"
     },
     "user_tz": 240
    },
    "id": "s7rk92cBmCoG",
    "outputId": "4ea24e6e-09be-4d3a-d1ab-272c950e5826"
   },
   "outputs": [
    {
     "name": "stdout",
     "output_type": "stream",
     "text": [
      "              precision    recall  f1-score   support\n",
      "\n",
      "         hem       0.25      0.10      0.15       339\n",
      "         all       0.82      0.93      0.87      1455\n",
      "\n",
      "    accuracy                           0.77      1794\n",
      "   macro avg       0.53      0.51      0.51      1794\n",
      "weighted avg       0.71      0.77      0.73      1794\n",
      "\n"
     ]
    }
   ],
   "source": [
    "print(classification_report(y_test, y_pred_gnb, target_names=target_names))"
   ]
  },
  {
   "cell_type": "markdown",
   "id": "5obn9TpLRtqq",
   "metadata": {
    "id": "5obn9TpLRtqq"
   },
   "source": [
    "## ================================================="
   ]
  },
  {
   "cell_type": "markdown",
   "id": "-VzeWBKpRtqq",
   "metadata": {
    "id": "-VzeWBKpRtqq"
   },
   "source": [
    "# Extra Trees - Optuna"
   ]
  },
  {
   "cell_type": "markdown",
   "id": "3WavDO5IRtqr",
   "metadata": {
    "id": "3WavDO5IRtqr"
   },
   "source": [
    "## Optuna Objective Function"
   ]
  },
  {
   "cell_type": "code",
   "execution_count": 132,
   "id": "J8LM8tMRRtqr",
   "metadata": {
    "executionInfo": {
     "elapsed": 145,
     "status": "ok",
     "timestamp": 1682629201742,
     "user": {
      "displayName": "Damir Zunic",
      "userId": "07104666280721646256"
     },
     "user_tz": 240
    },
    "id": "J8LM8tMRRtqr"
   },
   "outputs": [],
   "source": [
    "def objective(trial):\n",
    "    \"\"\"Define the objective function\"\"\"\n",
    "\n",
    "    params = {\n",
    "        'n_estimators' : trial.suggest_int('n_estimators', 10, 700, 10),\n",
    "        # 'max_depth' : trial.suggest_int('max_depth', 1, 32),\n",
    "        # 'max_features' : trial.suggest_int('max_features', 2, 20),\n",
    "        'max_features' : trial.suggest_categorical('max_features', ['sqrt', 'log2']),\n",
    "        # 'bootstrap' : trial.suggest_categorical('bootstrap', [True, False]),\n",
    "        'min_samples_split' : trial.suggest_int('min_samples_split', 2, 10),\n",
    "        'min_samples_leaf' : trial.suggest_int('min_samples_leaf', 1, 10),\n",
    "        'criterion' : trial.suggest_categorical('criterion', ['gini', 'entropy'])\n",
    "    }\n",
    "\n",
    "    # Fit the model\n",
    "    model = ExtraTreesClassifier(**params, random_state=random_state)\n",
    "    model.fit(X_train, y_train)\n",
    "\n",
    "    # Make predictions\n",
    "    y_pred = model.predict(X_test)\n",
    "\n",
    "    # Evaluate predictions\n",
    "    f1 = f1_score(y_test, y_pred, average='macro')\n",
    "    return f1"
   ]
  },
  {
   "cell_type": "markdown",
   "id": "r_uO_lIERtqr",
   "metadata": {
    "id": "r_uO_lIERtqr"
   },
   "source": [
    "## Optuna Study"
   ]
  },
  {
   "cell_type": "code",
   "execution_count": 133,
   "id": "U_9H61KzRtqr",
   "metadata": {
    "colab": {
     "base_uri": "https://localhost:8080/"
    },
    "executionInfo": {
     "elapsed": 139,
     "status": "ok",
     "timestamp": 1682629207430,
     "user": {
      "displayName": "Damir Zunic",
      "userId": "07104666280721646256"
     },
     "user_tz": 240
    },
    "id": "U_9H61KzRtqr",
    "outputId": "8d64f1bc-7c8c-4587-d609-24af881204fb"
   },
   "outputs": [
    {
     "name": "stderr",
     "output_type": "stream",
     "text": [
      "\u001b[32m[I 2023-04-27 21:00:07,190]\u001b[0m A new study created in memory with name: no-name-2d245a97-d8ce-4c8b-b10c-9503ecd52178\u001b[0m\n"
     ]
    }
   ],
   "source": [
    "study = optuna.create_study(direction='maximize')"
   ]
  },
  {
   "cell_type": "markdown",
   "id": "qW3EixVURtqr",
   "metadata": {
    "id": "qW3EixVURtqr"
   },
   "source": [
    "## Optimize the Objective Function"
   ]
  },
  {
   "cell_type": "code",
   "execution_count": 134,
   "id": "eD-tDERuRtqs",
   "metadata": {
    "colab": {
     "base_uri": "https://localhost:8080/"
    },
    "executionInfo": {
     "elapsed": 2512648,
     "status": "ok",
     "timestamp": 1682631726800,
     "user": {
      "displayName": "Damir Zunic",
      "userId": "07104666280721646256"
     },
     "user_tz": 240
    },
    "id": "eD-tDERuRtqs",
    "outputId": "12e51d36-9184-495e-c777-9e0c4ade6916",
    "scrolled": true,
    "tags": []
   },
   "outputs": [
    {
     "name": "stderr",
     "output_type": "stream",
     "text": [
      "\u001b[32m[I 2023-04-27 21:00:21,836]\u001b[0m Trial 3 finished with value: 0.7221493723322312 and parameters: {'n_estimators': 100, 'max_features': 'log2', 'min_samples_split': 8, 'min_samples_leaf': 3, 'criterion': 'gini'}. Best is trial 3 with value: 0.7221493723322312.\u001b[0m\n",
      "\u001b[32m[I 2023-04-27 21:00:23,360]\u001b[0m Trial 4 finished with value: 0.7126728475144765 and parameters: {'n_estimators': 20, 'max_features': 'log2', 'min_samples_split': 6, 'min_samples_leaf': 2, 'criterion': 'entropy'}. Best is trial 3 with value: 0.7221493723322312.\u001b[0m\n",
      "\u001b[32m[I 2023-04-27 21:00:27,197]\u001b[0m Trial 0 finished with value: 0.6788429278092252 and parameters: {'n_estimators': 210, 'max_features': 'log2', 'min_samples_split': 7, 'min_samples_leaf': 8, 'criterion': 'entropy'}. Best is trial 3 with value: 0.7221493723322312.\u001b[0m\n",
      "\u001b[32m[I 2023-04-27 21:00:49,645]\u001b[0m Trial 2 finished with value: 0.7270338017943913 and parameters: {'n_estimators': 490, 'max_features': 'log2', 'min_samples_split': 10, 'min_samples_leaf': 2, 'criterion': 'gini'}. Best is trial 2 with value: 0.7270338017943913.\u001b[0m\n",
      "\u001b[32m[I 2023-04-27 21:01:02,055]\u001b[0m Trial 5 finished with value: 0.739413757688085 and parameters: {'n_estimators': 470, 'max_features': 'log2', 'min_samples_split': 9, 'min_samples_leaf': 1, 'criterion': 'entropy'}. Best is trial 5 with value: 0.739413757688085.\u001b[0m\n",
      "\u001b[32m[I 2023-04-27 21:01:04,495]\u001b[0m Trial 6 finished with value: 0.6992176570719486 and parameters: {'n_estimators': 600, 'max_features': 'log2', 'min_samples_split': 8, 'min_samples_leaf': 7, 'criterion': 'gini'}. Best is trial 5 with value: 0.739413757688085.\u001b[0m\n",
      "\u001b[32m[I 2023-04-27 21:01:15,222]\u001b[0m Trial 9 finished with value: 0.7152587736132867 and parameters: {'n_estimators': 50, 'max_features': 'sqrt', 'min_samples_split': 10, 'min_samples_leaf': 10, 'criterion': 'gini'}. Best is trial 5 with value: 0.739413757688085.\u001b[0m\n",
      "\u001b[32m[I 2023-04-27 21:01:45,329]\u001b[0m Trial 8 finished with value: 0.7030492792748537 and parameters: {'n_estimators': 690, 'max_features': 'log2', 'min_samples_split': 10, 'min_samples_leaf': 6, 'criterion': 'entropy'}. Best is trial 5 with value: 0.739413757688085.\u001b[0m\n",
      "\u001b[32m[I 2023-04-27 21:02:16,660]\u001b[0m Trial 10 finished with value: 0.7351157349567272 and parameters: {'n_estimators': 280, 'max_features': 'sqrt', 'min_samples_split': 10, 'min_samples_leaf': 7, 'criterion': 'entropy'}. Best is trial 5 with value: 0.739413757688085.\u001b[0m\n",
      "\u001b[32m[I 2023-04-27 21:02:24,069]\u001b[0m Trial 12 finished with value: 0.728384806604401 and parameters: {'n_estimators': 30, 'max_features': 'sqrt', 'min_samples_split': 8, 'min_samples_leaf': 5, 'criterion': 'gini'}. Best is trial 5 with value: 0.739413757688085.\u001b[0m\n",
      "\u001b[32m[I 2023-04-27 21:02:43,979]\u001b[0m Trial 1 finished with value: 0.7351157349567272 and parameters: {'n_estimators': 700, 'max_features': 'sqrt', 'min_samples_split': 6, 'min_samples_leaf': 8, 'criterion': 'gini'}. Best is trial 5 with value: 0.739413757688085.\u001b[0m\n",
      "\u001b[32m[I 2023-04-27 21:02:58,609]\u001b[0m Trial 7 finished with value: 0.7478428230513607 and parameters: {'n_estimators': 520, 'max_features': 'sqrt', 'min_samples_split': 5, 'min_samples_leaf': 2, 'criterion': 'gini'}. Best is trial 7 with value: 0.7478428230513607.\u001b[0m\n",
      "\u001b[32m[I 2023-04-27 21:04:10,049]\u001b[0m Trial 13 finished with value: 0.7516107590684549 and parameters: {'n_estimators': 430, 'max_features': 'sqrt', 'min_samples_split': 3, 'min_samples_leaf': 4, 'criterion': 'entropy'}. Best is trial 13 with value: 0.7516107590684549.\u001b[0m\n",
      "\u001b[32m[I 2023-04-27 21:04:20,212]\u001b[0m Trial 14 finished with value: 0.7300947827685929 and parameters: {'n_estimators': 430, 'max_features': 'sqrt', 'min_samples_split': 3, 'min_samples_leaf': 10, 'criterion': 'entropy'}. Best is trial 13 with value: 0.7516107590684549.\u001b[0m\n",
      "\u001b[32m[I 2023-04-27 21:04:39,430]\u001b[0m Trial 11 finished with value: 0.7501660029910813 and parameters: {'n_estimators': 660, 'max_features': 'sqrt', 'min_samples_split': 8, 'min_samples_leaf': 1, 'criterion': 'gini'}. Best is trial 13 with value: 0.7516107590684549.\u001b[0m\n",
      "\u001b[32m[I 2023-04-27 21:04:57,104]\u001b[0m Trial 15 finished with value: 0.7596582416242554 and parameters: {'n_estimators': 440, 'max_features': 'sqrt', 'min_samples_split': 3, 'min_samples_leaf': 1, 'criterion': 'entropy'}. Best is trial 15 with value: 0.7596582416242554.\u001b[0m\n",
      "\u001b[32m[I 2023-04-27 21:05:44,591]\u001b[0m Trial 17 finished with value: 0.7479923714215405 and parameters: {'n_estimators': 360, 'max_features': 'sqrt', 'min_samples_split': 3, 'min_samples_leaf': 4, 'criterion': 'entropy'}. Best is trial 15 with value: 0.7596582416242554.\u001b[0m\n",
      "\u001b[32m[I 2023-04-27 21:05:48,550]\u001b[0m Trial 16 finished with value: 0.7485724223297494 and parameters: {'n_estimators': 420, 'max_features': 'sqrt', 'min_samples_split': 3, 'min_samples_leaf': 4, 'criterion': 'entropy'}. Best is trial 15 with value: 0.7596582416242554.\u001b[0m\n",
      "\u001b[32m[I 2023-04-27 21:06:02,630]\u001b[0m Trial 18 finished with value: 0.7479923714215405 and parameters: {'n_estimators': 360, 'max_features': 'sqrt', 'min_samples_split': 2, 'min_samples_leaf': 4, 'criterion': 'entropy'}. Best is trial 15 with value: 0.7596582416242554.\u001b[0m\n",
      "\u001b[32m[I 2023-04-27 21:06:18,110]\u001b[0m Trial 19 finished with value: 0.743066708950109 and parameters: {'n_estimators': 360, 'max_features': 'sqrt', 'min_samples_split': 2, 'min_samples_leaf': 5, 'criterion': 'entropy'}. Best is trial 15 with value: 0.7596582416242554.\u001b[0m\n",
      "\u001b[32m[I 2023-04-27 21:06:57,150]\u001b[0m Trial 21 finished with value: 0.7442782353509184 and parameters: {'n_estimators': 290, 'max_features': 'sqrt', 'min_samples_split': 2, 'min_samples_leaf': 4, 'criterion': 'entropy'}. Best is trial 15 with value: 0.7596582416242554.\u001b[0m\n",
      "\u001b[32m[I 2023-04-27 21:07:00,063]\u001b[0m Trial 20 finished with value: 0.7491487850284146 and parameters: {'n_estimators': 320, 'max_features': 'sqrt', 'min_samples_split': 2, 'min_samples_leaf': 4, 'criterion': 'entropy'}. Best is trial 15 with value: 0.7596582416242554.\u001b[0m\n",
      "\u001b[32m[I 2023-04-27 21:07:01,271]\u001b[0m Trial 22 finished with value: 0.7583039388594943 and parameters: {'n_estimators': 240, 'max_features': 'sqrt', 'min_samples_split': 4, 'min_samples_leaf': 3, 'criterion': 'entropy'}. Best is trial 15 with value: 0.7596582416242554.\u001b[0m\n",
      "\u001b[32m[I 2023-04-27 21:07:47,689]\u001b[0m Trial 26 finished with value: 0.7609593604263825 and parameters: {'n_estimators': 190, 'max_features': 'sqrt', 'min_samples_split': 4, 'min_samples_leaf': 3, 'criterion': 'entropy'}. Best is trial 26 with value: 0.7609593604263825.\u001b[0m\n",
      "\u001b[32m[I 2023-04-27 21:08:31,512]\u001b[0m Trial 27 finished with value: 0.755513928455587 and parameters: {'n_estimators': 180, 'max_features': 'sqrt', 'min_samples_split': 4, 'min_samples_leaf': 1, 'criterion': 'entropy'}. Best is trial 26 with value: 0.7609593604263825.\u001b[0m\n",
      "\u001b[32m[I 2023-04-27 21:08:31,876]\u001b[0m Trial 23 finished with value: 0.7606825944127297 and parameters: {'n_estimators': 560, 'max_features': 'sqrt', 'min_samples_split': 4, 'min_samples_leaf': 3, 'criterion': 'entropy'}. Best is trial 26 with value: 0.7609593604263825.\u001b[0m\n",
      "\u001b[32m[I 2023-04-27 21:09:22,556]\u001b[0m Trial 28 finished with value: 0.7619660003919264 and parameters: {'n_estimators': 220, 'max_features': 'sqrt', 'min_samples_split': 5, 'min_samples_leaf': 3, 'criterion': 'entropy'}. Best is trial 28 with value: 0.7619660003919264.\u001b[0m\n",
      "\u001b[32m[I 2023-04-27 21:09:26,634]\u001b[0m Trial 25 finished with value: 0.7560576160306114 and parameters: {'n_estimators': 580, 'max_features': 'sqrt', 'min_samples_split': 4, 'min_samples_leaf': 1, 'criterion': 'gini'}. Best is trial 28 with value: 0.7619660003919264.\u001b[0m\n",
      "\u001b[32m[I 2023-04-27 21:09:27,158]\u001b[0m Trial 24 finished with value: 0.7548850395725879 and parameters: {'n_estimators': 590, 'max_features': 'sqrt', 'min_samples_split': 4, 'min_samples_leaf': 1, 'criterion': 'gini'}. Best is trial 28 with value: 0.7619660003919264.\u001b[0m\n",
      "\u001b[32m[I 2023-04-27 21:09:55,525]\u001b[0m Trial 30 finished with value: 0.7557586644125105 and parameters: {'n_estimators': 140, 'max_features': 'sqrt', 'min_samples_split': 5, 'min_samples_leaf': 3, 'criterion': 'entropy'}. Best is trial 28 with value: 0.7619660003919264.\u001b[0m\n",
      "\u001b[32m[I 2023-04-27 21:10:01,484]\u001b[0m Trial 31 finished with value: 0.7594947484319208 and parameters: {'n_estimators': 150, 'max_features': 'sqrt', 'min_samples_split': 5, 'min_samples_leaf': 3, 'criterion': 'entropy'}. Best is trial 28 with value: 0.7619660003919264.\u001b[0m\n",
      "\u001b[32m[I 2023-04-27 21:10:05,550]\u001b[0m Trial 32 finished with value: 0.7583039388594943 and parameters: {'n_estimators': 160, 'max_features': 'sqrt', 'min_samples_split': 5, 'min_samples_leaf': 3, 'criterion': 'entropy'}. Best is trial 28 with value: 0.7619660003919264.\u001b[0m\n",
      "\u001b[32m[I 2023-04-27 21:10:40,194]\u001b[0m Trial 33 finished with value: 0.7382162936280119 and parameters: {'n_estimators': 200, 'max_features': 'sqrt', 'min_samples_split': 5, 'min_samples_leaf': 6, 'criterion': 'entropy'}. Best is trial 28 with value: 0.7619660003919264.\u001b[0m\n",
      "\u001b[32m[I 2023-04-27 21:10:44,212]\u001b[0m Trial 29 finished with value: 0.7606825944127297 and parameters: {'n_estimators': 560, 'max_features': 'sqrt', 'min_samples_split': 5, 'min_samples_leaf': 3, 'criterion': 'entropy'}. Best is trial 28 with value: 0.7619660003919264.\u001b[0m\n",
      "\u001b[32m[I 2023-04-27 21:11:03,722]\u001b[0m Trial 34 finished with value: 0.752045730810531 and parameters: {'n_estimators': 250, 'max_features': 'sqrt', 'min_samples_split': 5, 'min_samples_leaf': 2, 'criterion': 'entropy'}. Best is trial 28 with value: 0.7619660003919264.\u001b[0m\n",
      "\u001b[32m[I 2023-04-27 21:11:39,930]\u001b[0m Trial 36 finished with value: 0.7532324621733151 and parameters: {'n_estimators': 250, 'max_features': 'sqrt', 'min_samples_split': 7, 'min_samples_leaf': 2, 'criterion': 'entropy'}. Best is trial 28 with value: 0.7619660003919264.\u001b[0m\n",
      "\u001b[32m[I 2023-04-27 21:11:44,610]\u001b[0m Trial 38 finished with value: 0.7419212617983111 and parameters: {'n_estimators': 540, 'max_features': 'log2', 'min_samples_split': 7, 'min_samples_leaf': 2, 'criterion': 'entropy'}. Best is trial 28 with value: 0.7619660003919264.\u001b[0m\n",
      "\u001b[32m[I 2023-04-27 21:11:51,443]\u001b[0m Trial 40 finished with value: 0.6980860443816252 and parameters: {'n_estimators': 110, 'max_features': 'log2', 'min_samples_split': 6, 'min_samples_leaf': 5, 'criterion': 'entropy'}. Best is trial 28 with value: 0.7619660003919264.\u001b[0m\n",
      "\u001b[32m[I 2023-04-27 21:12:15,800]\u001b[0m Trial 39 finished with value: 0.709037907055631 and parameters: {'n_estimators': 540, 'max_features': 'log2', 'min_samples_split': 6, 'min_samples_leaf': 5, 'criterion': 'entropy'}. Best is trial 28 with value: 0.7619660003919264.\u001b[0m\n",
      "\u001b[32m[I 2023-04-27 21:12:17,940]\u001b[0m Trial 35 finished with value: 0.7574075681217746 and parameters: {'n_estimators': 540, 'max_features': 'sqrt', 'min_samples_split': 6, 'min_samples_leaf': 2, 'criterion': 'entropy'}. Best is trial 28 with value: 0.7619660003919264.\u001b[0m\n",
      "\u001b[32m[I 2023-04-27 21:12:55,706]\u001b[0m Trial 37 finished with value: 0.7574075681217746 and parameters: {'n_estimators': 540, 'max_features': 'sqrt', 'min_samples_split': 6, 'min_samples_leaf': 2, 'criterion': 'entropy'}. Best is trial 28 with value: 0.7619660003919264.\u001b[0m\n",
      "\u001b[32m[I 2023-04-27 21:14:22,635]\u001b[0m Trial 41 finished with value: 0.7612267540152156 and parameters: {'n_estimators': 630, 'max_features': 'sqrt', 'min_samples_split': 6, 'min_samples_leaf': 3, 'criterion': 'entropy'}. Best is trial 28 with value: 0.7619660003919264.\u001b[0m\n",
      "\u001b[32m[I 2023-04-27 21:14:50,501]\u001b[0m Trial 42 finished with value: 0.7606825944127297 and parameters: {'n_estimators': 640, 'max_features': 'sqrt', 'min_samples_split': 6, 'min_samples_leaf': 3, 'criterion': 'entropy'}. Best is trial 28 with value: 0.7619660003919264.\u001b[0m\n",
      "\u001b[32m[I 2023-04-27 21:14:57,755]\u001b[0m Trial 43 finished with value: 0.7631526229804846 and parameters: {'n_estimators': 660, 'max_features': 'sqrt', 'min_samples_split': 4, 'min_samples_leaf': 3, 'criterion': 'entropy'}. Best is trial 43 with value: 0.7631526229804846.\u001b[0m\n",
      "\u001b[32m[I 2023-04-27 21:15:29,460]\u001b[0m Trial 44 finished with value: 0.7606825944127297 and parameters: {'n_estimators': 640, 'max_features': 'sqrt', 'min_samples_split': 4, 'min_samples_leaf': 3, 'criterion': 'entropy'}. Best is trial 43 with value: 0.7631526229804846.\u001b[0m\n",
      "\u001b[32m[I 2023-04-27 21:16:24,358]\u001b[0m Trial 48 finished with value: 0.7462297600634378 and parameters: {'n_estimators': 700, 'max_features': 'log2', 'min_samples_split': 4, 'min_samples_leaf': 2, 'criterion': 'entropy'}. Best is trial 43 with value: 0.7631526229804846.\u001b[0m\n",
      "\u001b[32m[I 2023-04-27 21:16:52,400]\u001b[0m Trial 45 finished with value: 0.7612267540152156 and parameters: {'n_estimators': 630, 'max_features': 'sqrt', 'min_samples_split': 4, 'min_samples_leaf': 3, 'criterion': 'entropy'}. Best is trial 43 with value: 0.7631526229804846.\u001b[0m\n",
      "\u001b[32m[I 2023-04-27 21:17:21,856]\u001b[0m Trial 46 finished with value: 0.7612267540152156 and parameters: {'n_estimators': 630, 'max_features': 'sqrt', 'min_samples_split': 4, 'min_samples_leaf': 3, 'criterion': 'entropy'}. Best is trial 43 with value: 0.7631526229804846.\u001b[0m\n",
      "\u001b[32m[I 2023-04-27 21:17:35,619]\u001b[0m Trial 47 finished with value: 0.7631526229804846 and parameters: {'n_estimators': 660, 'max_features': 'sqrt', 'min_samples_split': 4, 'min_samples_leaf': 3, 'criterion': 'entropy'}. Best is trial 43 with value: 0.7631526229804846.\u001b[0m\n",
      "\u001b[32m[I 2023-04-27 21:18:07,960]\u001b[0m Trial 49 finished with value: 0.7437506284565107 and parameters: {'n_estimators': 490, 'max_features': 'sqrt', 'min_samples_split': 4, 'min_samples_leaf': 9, 'criterion': 'entropy'}. Best is trial 43 with value: 0.7631526229804846.\u001b[0m\n",
      "\u001b[32m[I 2023-04-27 21:18:14,377]\u001b[0m Trial 52 finished with value: 0.6884563361686797 and parameters: {'n_estimators': 670, 'max_features': 'log2', 'min_samples_split': 7, 'min_samples_leaf': 8, 'criterion': 'gini'}. Best is trial 43 with value: 0.7631526229804846.\u001b[0m\n",
      "\u001b[32m[I 2023-04-27 21:18:52,395]\u001b[0m Trial 53 finished with value: 0.715249015697704 and parameters: {'n_estimators': 670, 'max_features': 'log2', 'min_samples_split': 7, 'min_samples_leaf': 4, 'criterion': 'gini'}. Best is trial 43 with value: 0.7631526229804846.\u001b[0m\n",
      "\u001b[32m[I 2023-04-27 21:19:04,510]\u001b[0m Trial 50 finished with value: 0.7344945355191256 and parameters: {'n_estimators': 620, 'max_features': 'sqrt', 'min_samples_split': 7, 'min_samples_leaf': 8, 'criterion': 'gini'}. Best is trial 43 with value: 0.7631526229804846.\u001b[0m\n",
      "\u001b[32m[I 2023-04-27 21:19:33,401]\u001b[0m Trial 51 finished with value: 0.7344945355191256 and parameters: {'n_estimators': 620, 'max_features': 'sqrt', 'min_samples_split': 7, 'min_samples_leaf': 8, 'criterion': 'gini'}. Best is trial 43 with value: 0.7631526229804846.\u001b[0m\n",
      "\u001b[32m[I 2023-04-27 21:20:39,635]\u001b[0m Trial 54 finished with value: 0.7541465487728576 and parameters: {'n_estimators': 630, 'max_features': 'sqrt', 'min_samples_split': 3, 'min_samples_leaf': 4, 'criterion': 'entropy'}. Best is trial 43 with value: 0.7631526229804846.\u001b[0m\n",
      "\u001b[32m[I 2023-04-27 21:21:19,255]\u001b[0m Trial 55 finished with value: 0.7541465487728576 and parameters: {'n_estimators': 630, 'max_features': 'sqrt', 'min_samples_split': 3, 'min_samples_leaf': 4, 'criterion': 'entropy'}. Best is trial 43 with value: 0.7631526229804846.\u001b[0m\n",
      "\u001b[32m[I 2023-04-27 21:21:30,753]\u001b[0m Trial 56 finished with value: 0.7559133735026036 and parameters: {'n_estimators': 620, 'max_features': 'sqrt', 'min_samples_split': 3, 'min_samples_leaf': 4, 'criterion': 'entropy'}. Best is trial 43 with value: 0.7631526229804846.\u001b[0m\n",
      "\u001b[32m[I 2023-04-27 21:22:17,498]\u001b[0m Trial 57 finished with value: 0.750517116344997 and parameters: {'n_estimators': 700, 'max_features': 'sqrt', 'min_samples_split': 3, 'min_samples_leaf': 4, 'criterion': 'entropy'}. Best is trial 43 with value: 0.7631526229804846.\u001b[0m\n",
      "\u001b[32m[I 2023-04-27 21:23:30,948]\u001b[0m Trial 58 finished with value: 0.7612267540152156 and parameters: {'n_estimators': 700, 'max_features': 'sqrt', 'min_samples_split': 5, 'min_samples_leaf': 2, 'criterion': 'entropy'}. Best is trial 43 with value: 0.7631526229804846.\u001b[0m\n",
      "\u001b[32m[I 2023-04-27 21:23:52,178]\u001b[0m Trial 59 finished with value: 0.7407018434099757 and parameters: {'n_estimators': 700, 'max_features': 'sqrt', 'min_samples_split': 5, 'min_samples_leaf': 6, 'criterion': 'entropy'}. Best is trial 43 with value: 0.7631526229804846.\u001b[0m\n",
      "\u001b[32m[I 2023-04-27 21:24:16,147]\u001b[0m Trial 60 finished with value: 0.7625094448370601 and parameters: {'n_estimators': 700, 'max_features': 'sqrt', 'min_samples_split': 5, 'min_samples_leaf': 3, 'criterion': 'entropy'}. Best is trial 43 with value: 0.7631526229804846.\u001b[0m\n",
      "\u001b[32m[I 2023-04-27 21:24:21,006]\u001b[0m Trial 61 finished with value: 0.7551253407971698 and parameters: {'n_estimators': 500, 'max_features': 'sqrt', 'min_samples_split': 5, 'min_samples_leaf': 2, 'criterion': 'entropy'}. Best is trial 43 with value: 0.7631526229804846.\u001b[0m\n",
      "\u001b[32m[I 2023-04-27 21:25:57,880]\u001b[0m Trial 62 finished with value: 0.7419212617983111 and parameters: {'n_estimators': 660, 'max_features': 'sqrt', 'min_samples_split': 9, 'min_samples_leaf': 6, 'criterion': 'entropy'}. Best is trial 43 with value: 0.7631526229804846.\u001b[0m\n",
      "\u001b[32m[I 2023-04-27 21:26:26,961]\u001b[0m Trial 63 finished with value: 0.7521789993347929 and parameters: {'n_estimators': 660, 'max_features': 'sqrt', 'min_samples_split': 9, 'min_samples_leaf': 3, 'criterion': 'entropy'}. Best is trial 43 with value: 0.7631526229804846.\u001b[0m\n",
      "\u001b[32m[I 2023-04-27 21:26:40,546]\u001b[0m Trial 64 finished with value: 0.7618674905595605 and parameters: {'n_estimators': 600, 'max_features': 'sqrt', 'min_samples_split': 4, 'min_samples_leaf': 3, 'criterion': 'entropy'}. Best is trial 43 with value: 0.7631526229804846.\u001b[0m\n",
      "\u001b[32m[I 2023-04-27 21:26:58,904]\u001b[0m Trial 65 finished with value: 0.7631526229804846 and parameters: {'n_estimators': 660, 'max_features': 'sqrt', 'min_samples_split': 4, 'min_samples_leaf': 3, 'criterion': 'entropy'}. Best is trial 43 with value: 0.7631526229804846.\u001b[0m\n",
      "\u001b[32m[I 2023-04-27 21:28:17,407]\u001b[0m Trial 66 finished with value: 0.7587665996700743 and parameters: {'n_estimators': 590, 'max_features': 'sqrt', 'min_samples_split': 4, 'min_samples_leaf': 3, 'criterion': 'entropy'}. Best is trial 43 with value: 0.7631526229804846.\u001b[0m\n",
      "\u001b[32m[I 2023-04-27 21:28:51,234]\u001b[0m Trial 67 finished with value: 0.7618674905595605 and parameters: {'n_estimators': 600, 'max_features': 'sqrt', 'min_samples_split': 4, 'min_samples_leaf': 3, 'criterion': 'entropy'}. Best is trial 43 with value: 0.7631526229804846.\u001b[0m\n",
      "\u001b[32m[I 2023-04-27 21:29:01,608]\u001b[0m Trial 68 finished with value: 0.7587665996700743 and parameters: {'n_estimators': 590, 'max_features': 'sqrt', 'min_samples_split': 4, 'min_samples_leaf': 3, 'criterion': 'entropy'}. Best is trial 43 with value: 0.7631526229804846.\u001b[0m\n",
      "\u001b[32m[I 2023-04-27 21:29:18,062]\u001b[0m Trial 69 finished with value: 0.7587665996700743 and parameters: {'n_estimators': 590, 'max_features': 'sqrt', 'min_samples_split': 5, 'min_samples_leaf': 3, 'criterion': 'entropy'}. Best is trial 43 with value: 0.7631526229804846.\u001b[0m\n",
      "\u001b[32m[I 2023-04-27 21:29:47,527]\u001b[0m Trial 70 finished with value: 0.7467371845365359 and parameters: {'n_estimators': 390, 'max_features': 'sqrt', 'min_samples_split': 5, 'min_samples_leaf': 4, 'criterion': 'entropy'}. Best is trial 43 with value: 0.7631526229804846.\u001b[0m\n",
      "\u001b[32m[I 2023-04-27 21:30:31,675]\u001b[0m Trial 72 finished with value: 0.7467371845365359 and parameters: {'n_estimators': 390, 'max_features': 'sqrt', 'min_samples_split': 5, 'min_samples_leaf': 4, 'criterion': 'entropy'}. Best is trial 43 with value: 0.7631526229804846.\u001b[0m\n",
      "\u001b[32m[I 2023-04-27 21:31:01,454]\u001b[0m Trial 71 finished with value: 0.750407660122963 and parameters: {'n_estimators': 570, 'max_features': 'sqrt', 'min_samples_split': 4, 'min_samples_leaf': 4, 'criterion': 'entropy'}. Best is trial 43 with value: 0.7631526229804846.\u001b[0m\n",
      "\u001b[32m[I 2023-04-27 21:31:05,384]\u001b[0m Trial 73 finished with value: 0.74925233241455 and parameters: {'n_estimators': 460, 'max_features': 'sqrt', 'min_samples_split': 3, 'min_samples_leaf': 4, 'criterion': 'entropy'}. Best is trial 43 with value: 0.7631526229804846.\u001b[0m\n",
      "\u001b[32m[I 2023-04-27 21:32:35,838]\u001b[0m Trial 74 finished with value: 0.7591225789580877 and parameters: {'n_estimators': 680, 'max_features': 'sqrt', 'min_samples_split': 4, 'min_samples_leaf': 2, 'criterion': 'entropy'}. Best is trial 43 with value: 0.7631526229804846.\u001b[0m\n",
      "\u001b[32m[I 2023-04-27 21:33:19,266]\u001b[0m Trial 75 finished with value: 0.7591225789580877 and parameters: {'n_estimators': 680, 'max_features': 'sqrt', 'min_samples_split': 4, 'min_samples_leaf': 2, 'criterion': 'entropy'}. Best is trial 43 with value: 0.7631526229804846.\u001b[0m\n",
      "\u001b[32m[I 2023-04-27 21:33:45,927]\u001b[0m Trial 77 finished with value: 0.7603919127671531 and parameters: {'n_estimators': 660, 'max_features': 'sqrt', 'min_samples_split': 4, 'min_samples_leaf': 2, 'criterion': 'entropy'}. Best is trial 43 with value: 0.7631526229804846.\u001b[0m\n",
      "\u001b[32m[I 2023-04-27 21:33:48,996]\u001b[0m Trial 76 finished with value: 0.7603919127671531 and parameters: {'n_estimators': 670, 'max_features': 'sqrt', 'min_samples_split': 3, 'min_samples_leaf': 2, 'criterion': 'entropy'}. Best is trial 43 with value: 0.7631526229804846.\u001b[0m\n",
      "\u001b[32m[I 2023-04-27 21:34:03,038]\u001b[0m Trial 81 finished with value: 0.7612267540152156 and parameters: {'n_estimators': 60, 'max_features': 'sqrt', 'min_samples_split': 6, 'min_samples_leaf': 3, 'criterion': 'entropy'}. Best is trial 43 with value: 0.7631526229804846.\u001b[0m\n",
      "\u001b[32m[I 2023-04-27 21:35:14,337]\u001b[0m Trial 78 finished with value: 0.7603919127671531 and parameters: {'n_estimators': 650, 'max_features': 'sqrt', 'min_samples_split': 6, 'min_samples_leaf': 2, 'criterion': 'entropy'}. Best is trial 43 with value: 0.7631526229804846.\u001b[0m\n",
      "\u001b[32m[I 2023-04-27 21:35:54,962]\u001b[0m Trial 79 finished with value: 0.7618674905595605 and parameters: {'n_estimators': 650, 'max_features': 'sqrt', 'min_samples_split': 6, 'min_samples_leaf': 3, 'criterion': 'entropy'}. Best is trial 43 with value: 0.7631526229804846.\u001b[0m\n",
      "\u001b[32m[I 2023-04-27 21:36:05,533]\u001b[0m Trial 80 finished with value: 0.7449730522637746 and parameters: {'n_estimators': 610, 'max_features': 'sqrt', 'min_samples_split': 6, 'min_samples_leaf': 5, 'criterion': 'entropy'}. Best is trial 43 with value: 0.7631526229804846.\u001b[0m\n",
      "\u001b[32m[I 2023-04-27 21:36:20,221]\u001b[0m Trial 82 finished with value: 0.7462297600634378 and parameters: {'n_estimators': 600, 'max_features': 'sqrt', 'min_samples_split': 5, 'min_samples_leaf': 5, 'criterion': 'entropy'}. Best is trial 43 with value: 0.7631526229804846.\u001b[0m\n",
      "\u001b[32m[I 2023-04-27 21:37:11,519]\u001b[0m Trial 84 finished with value: 0.7636922607468437 and parameters: {'n_estimators': 320, 'max_features': 'sqrt', 'min_samples_split': 6, 'min_samples_leaf': 3, 'criterion': 'entropy'}. Best is trial 84 with value: 0.7636922607468437.\u001b[0m\n",
      "\u001b[32m[I 2023-04-27 21:37:37,954]\u001b[0m Trial 83 finished with value: 0.7618674905595605 and parameters: {'n_estimators': 600, 'max_features': 'sqrt', 'min_samples_split': 5, 'min_samples_leaf': 3, 'criterion': 'entropy'}. Best is trial 84 with value: 0.7636922607468437.\u001b[0m\n",
      "\u001b[32m[I 2023-04-27 21:38:28,106]\u001b[0m Trial 87 finished with value: 0.7636922607468437 and parameters: {'n_estimators': 320, 'max_features': 'sqrt', 'min_samples_split': 5, 'min_samples_leaf': 3, 'criterion': 'entropy'}. Best is trial 84 with value: 0.7636922607468437.\u001b[0m\n",
      "\u001b[32m[I 2023-04-27 21:38:31,346]\u001b[0m Trial 85 finished with value: 0.7613236857062027 and parameters: {'n_estimators': 610, 'max_features': 'sqrt', 'min_samples_split': 5, 'min_samples_leaf': 3, 'criterion': 'entropy'}. Best is trial 84 with value: 0.7636922607468437.\u001b[0m\n",
      "\u001b[32m[I 2023-04-27 21:38:33,880]\u001b[0m Trial 86 finished with value: 0.7606825944127297 and parameters: {'n_estimators': 560, 'max_features': 'sqrt', 'min_samples_split': 5, 'min_samples_leaf': 3, 'criterion': 'entropy'}. Best is trial 84 with value: 0.7636922607468437.\u001b[0m\n",
      "\u001b[32m[I 2023-04-27 21:38:54,326]\u001b[0m Trial 90 finished with value: 0.7306815318720081 and parameters: {'n_estimators': 320, 'max_features': 'log2', 'min_samples_split': 4, 'min_samples_leaf': 3, 'criterion': 'entropy'}. Best is trial 84 with value: 0.7636922607468437.\u001b[0m\n",
      "\u001b[32m[I 2023-04-27 21:38:55,525]\u001b[0m Trial 91 finished with value: 0.7287981859410431 and parameters: {'n_estimators': 320, 'max_features': 'log2', 'min_samples_split': 4, 'min_samples_leaf': 3, 'criterion': 'gini'}. Best is trial 84 with value: 0.7636922607468437.\u001b[0m\n",
      "\u001b[32m[I 2023-04-27 21:39:47,729]\u001b[0m Trial 89 finished with value: 0.7636922607468437 and parameters: {'n_estimators': 330, 'max_features': 'sqrt', 'min_samples_split': 5, 'min_samples_leaf': 3, 'criterion': 'entropy'}. Best is trial 84 with value: 0.7636922607468437.\u001b[0m\n",
      "\u001b[32m[I 2023-04-27 21:39:50,549]\u001b[0m Trial 92 finished with value: 0.7608239775461108 and parameters: {'n_estimators': 220, 'max_features': 'sqrt', 'min_samples_split': 4, 'min_samples_leaf': 1, 'criterion': 'gini'}. Best is trial 84 with value: 0.7636922607468437.\u001b[0m\n",
      "\u001b[32m[I 2023-04-27 21:40:10,819]\u001b[0m Trial 93 finished with value: 0.7550469293632172 and parameters: {'n_estimators': 300, 'max_features': 'sqrt', 'min_samples_split': 4, 'min_samples_leaf': 1, 'criterion': 'entropy'}. Best is trial 84 with value: 0.7636922607468437.\u001b[0m\n",
      "\u001b[32m[I 2023-04-27 21:40:13,470]\u001b[0m Trial 88 finished with value: 0.7618674905595605 and parameters: {'n_estimators': 650, 'max_features': 'sqrt', 'min_samples_split': 4, 'min_samples_leaf': 3, 'criterion': 'entropy'}. Best is trial 84 with value: 0.7636922607468437.\u001b[0m\n",
      "\u001b[32m[I 2023-04-27 21:40:52,008]\u001b[0m Trial 94 finished with value: 0.7461113662803025 and parameters: {'n_estimators': 280, 'max_features': 'sqrt', 'min_samples_split': 5, 'min_samples_leaf': 4, 'criterion': 'entropy'}. Best is trial 84 with value: 0.7636922607468437.\u001b[0m\n",
      "\u001b[32m[I 2023-04-27 21:40:59,525]\u001b[0m Trial 95 finished with value: 0.7659337325026296 and parameters: {'n_estimators': 290, 'max_features': 'sqrt', 'min_samples_split': 5, 'min_samples_leaf': 3, 'criterion': 'entropy'}. Best is trial 95 with value: 0.7659337325026296.\u001b[0m\n",
      "\u001b[32m[I 2023-04-27 21:41:29,466]\u001b[0m Trial 96 finished with value: 0.7473177542621987 and parameters: {'n_estimators': 340, 'max_features': 'sqrt', 'min_samples_split': 5, 'min_samples_leaf': 4, 'criterion': 'entropy'}. Best is trial 95 with value: 0.7659337325026296.\u001b[0m\n",
      "\u001b[32m[I 2023-04-27 21:41:35,277]\u001b[0m Trial 97 finished with value: 0.7642284879794311 and parameters: {'n_estimators': 350, 'max_features': 'sqrt', 'min_samples_split': 5, 'min_samples_leaf': 3, 'criterion': 'entropy'}. Best is trial 95 with value: 0.7659337325026296.\u001b[0m\n",
      "\u001b[32m[I 2023-04-27 21:42:00,544]\u001b[0m Trial 99 finished with value: 0.7473177542621987 and parameters: {'n_estimators': 340, 'max_features': 'sqrt', 'min_samples_split': 5, 'min_samples_leaf': 4, 'criterion': 'entropy'}. Best is trial 95 with value: 0.7659337325026296.\u001b[0m\n",
      "\u001b[32m[I 2023-04-27 21:42:06,547]\u001b[0m Trial 98 finished with value: 0.7637970311581421 and parameters: {'n_estimators': 410, 'max_features': 'sqrt', 'min_samples_split': 5, 'min_samples_leaf': 3, 'criterion': 'entropy'}. Best is trial 95 with value: 0.7659337325026296.\u001b[0m\n"
     ]
    }
   ],
   "source": [
    "study.optimize(objective, n_jobs=-1, n_trials=100)"
   ]
  },
  {
   "cell_type": "markdown",
   "id": "OF-ai-VJRtqs",
   "metadata": {
    "id": "OF-ai-VJRtqs"
   },
   "source": [
    "## Best Parameters"
   ]
  },
  {
   "cell_type": "code",
   "execution_count": 135,
   "id": "Vm2NfrILRtqs",
   "metadata": {
    "colab": {
     "base_uri": "https://localhost:8080/"
    },
    "executionInfo": {
     "elapsed": 186,
     "status": "ok",
     "timestamp": 1682631826633,
     "user": {
      "displayName": "Damir Zunic",
      "userId": "07104666280721646256"
     },
     "user_tz": 240
    },
    "id": "Vm2NfrILRtqs",
    "outputId": "d7df3232-0341-415f-8dd7-5a6069a3cae6"
   },
   "outputs": [
    {
     "name": "stdout",
     "output_type": "stream",
     "text": [
      "Number of finished trials: 100\n",
      "Best trial:\n",
      "  Value: 0.7659337325026296\n",
      "  Params: \n",
      "    n_estimators: 290\n",
      "    max_features: sqrt\n",
      "    min_samples_split: 5\n",
      "    min_samples_leaf: 3\n",
      "    criterion: entropy\n"
     ]
    }
   ],
   "source": [
    "print(f'Number of finished trials: {len(study.trials)}')\n",
    "print('Best trial:')\n",
    "trial = study.best_trial\n",
    "\n",
    "print(f'  Value: {trial.value}')\n",
    "print('  Params: ')\n",
    "\n",
    "for key, value in trial.params.items():\n",
    "    print(f'    {key}: {value}')"
   ]
  },
  {
   "cell_type": "markdown",
   "id": "G6uis-HXRtqs",
   "metadata": {
    "id": "G6uis-HXRtqs"
   },
   "source": [
    "## Re-fit the model"
   ]
  },
  {
   "cell_type": "code",
   "execution_count": 136,
   "id": "ezdwrE6URtqs",
   "metadata": {
    "colab": {
     "base_uri": "https://localhost:8080/"
    },
    "executionInfo": {
     "elapsed": 158,
     "status": "ok",
     "timestamp": 1682631847303,
     "user": {
      "displayName": "Damir Zunic",
      "userId": "07104666280721646256"
     },
     "user_tz": 240
    },
    "id": "ezdwrE6URtqs",
    "outputId": "3498b677-f835-4c21-e463-c73ba07c740d"
   },
   "outputs": [
    {
     "data": {
      "text/plain": [
       "{'n_estimators': 290,\n",
       " 'max_features': 'sqrt',\n",
       " 'min_samples_split': 5,\n",
       " 'min_samples_leaf': 3,\n",
       " 'criterion': 'entropy'}"
      ]
     },
     "execution_count": 136,
     "metadata": {},
     "output_type": "execute_result"
    }
   ],
   "source": [
    "params_etree = trial.params\n",
    "params_etree"
   ]
  },
  {
   "cell_type": "code",
   "execution_count": 137,
   "id": "y_5-NG4GRtqt",
   "metadata": {
    "colab": {
     "base_uri": "https://localhost:8080/",
     "height": 92
    },
    "executionInfo": {
     "elapsed": 38695,
     "status": "ok",
     "timestamp": 1682631903079,
     "user": {
      "displayName": "Damir Zunic",
      "userId": "07104666280721646256"
     },
     "user_tz": 240
    },
    "id": "y_5-NG4GRtqt",
    "outputId": "1ec09e59-b58d-4626-9104-96171caf6613"
   },
   "outputs": [
    {
     "data": {
      "text/html": [
       "<style>#sk-container-id-8 {color: black;background-color: white;}#sk-container-id-8 pre{padding: 0;}#sk-container-id-8 div.sk-toggleable {background-color: white;}#sk-container-id-8 label.sk-toggleable__label {cursor: pointer;display: block;width: 100%;margin-bottom: 0;padding: 0.3em;box-sizing: border-box;text-align: center;}#sk-container-id-8 label.sk-toggleable__label-arrow:before {content: \"▸\";float: left;margin-right: 0.25em;color: #696969;}#sk-container-id-8 label.sk-toggleable__label-arrow:hover:before {color: black;}#sk-container-id-8 div.sk-estimator:hover label.sk-toggleable__label-arrow:before {color: black;}#sk-container-id-8 div.sk-toggleable__content {max-height: 0;max-width: 0;overflow: hidden;text-align: left;background-color: #f0f8ff;}#sk-container-id-8 div.sk-toggleable__content pre {margin: 0.2em;color: black;border-radius: 0.25em;background-color: #f0f8ff;}#sk-container-id-8 input.sk-toggleable__control:checked~div.sk-toggleable__content {max-height: 200px;max-width: 100%;overflow: auto;}#sk-container-id-8 input.sk-toggleable__control:checked~label.sk-toggleable__label-arrow:before {content: \"▾\";}#sk-container-id-8 div.sk-estimator input.sk-toggleable__control:checked~label.sk-toggleable__label {background-color: #d4ebff;}#sk-container-id-8 div.sk-label input.sk-toggleable__control:checked~label.sk-toggleable__label {background-color: #d4ebff;}#sk-container-id-8 input.sk-hidden--visually {border: 0;clip: rect(1px 1px 1px 1px);clip: rect(1px, 1px, 1px, 1px);height: 1px;margin: -1px;overflow: hidden;padding: 0;position: absolute;width: 1px;}#sk-container-id-8 div.sk-estimator {font-family: monospace;background-color: #f0f8ff;border: 1px dotted black;border-radius: 0.25em;box-sizing: border-box;margin-bottom: 0.5em;}#sk-container-id-8 div.sk-estimator:hover {background-color: #d4ebff;}#sk-container-id-8 div.sk-parallel-item::after {content: \"\";width: 100%;border-bottom: 1px solid gray;flex-grow: 1;}#sk-container-id-8 div.sk-label:hover label.sk-toggleable__label {background-color: #d4ebff;}#sk-container-id-8 div.sk-serial::before {content: \"\";position: absolute;border-left: 1px solid gray;box-sizing: border-box;top: 0;bottom: 0;left: 50%;z-index: 0;}#sk-container-id-8 div.sk-serial {display: flex;flex-direction: column;align-items: center;background-color: white;padding-right: 0.2em;padding-left: 0.2em;position: relative;}#sk-container-id-8 div.sk-item {position: relative;z-index: 1;}#sk-container-id-8 div.sk-parallel {display: flex;align-items: stretch;justify-content: center;background-color: white;position: relative;}#sk-container-id-8 div.sk-item::before, #sk-container-id-8 div.sk-parallel-item::before {content: \"\";position: absolute;border-left: 1px solid gray;box-sizing: border-box;top: 0;bottom: 0;left: 50%;z-index: -1;}#sk-container-id-8 div.sk-parallel-item {display: flex;flex-direction: column;z-index: 1;position: relative;background-color: white;}#sk-container-id-8 div.sk-parallel-item:first-child::after {align-self: flex-end;width: 50%;}#sk-container-id-8 div.sk-parallel-item:last-child::after {align-self: flex-start;width: 50%;}#sk-container-id-8 div.sk-parallel-item:only-child::after {width: 0;}#sk-container-id-8 div.sk-dashed-wrapped {border: 1px dashed gray;margin: 0 0.4em 0.5em 0.4em;box-sizing: border-box;padding-bottom: 0.4em;background-color: white;}#sk-container-id-8 div.sk-label label {font-family: monospace;font-weight: bold;display: inline-block;line-height: 1.2em;}#sk-container-id-8 div.sk-label-container {text-align: center;}#sk-container-id-8 div.sk-container {/* jupyter's `normalize.less` sets `[hidden] { display: none; }` but bootstrap.min.css set `[hidden] { display: none !important; }` so we also need the `!important` here to be able to override the default hidden behavior on the sphinx rendered scikit-learn.org. See: https://github.com/scikit-learn/scikit-learn/issues/21755 */display: inline-block !important;position: relative;}#sk-container-id-8 div.sk-text-repr-fallback {display: none;}</style><div id=\"sk-container-id-8\" class=\"sk-top-container\"><div class=\"sk-text-repr-fallback\"><pre>ExtraTreesClassifier(criterion=&#x27;entropy&#x27;, min_samples_leaf=3,\n",
       "                     min_samples_split=5, n_estimators=290, random_state=10)</pre><b>In a Jupyter environment, please rerun this cell to show the HTML representation or trust the notebook. <br />On GitHub, the HTML representation is unable to render, please try loading this page with nbviewer.org.</b></div><div class=\"sk-container\" hidden><div class=\"sk-item\"><div class=\"sk-estimator sk-toggleable\"><input class=\"sk-toggleable__control sk-hidden--visually\" id=\"sk-estimator-id-8\" type=\"checkbox\" checked><label for=\"sk-estimator-id-8\" class=\"sk-toggleable__label sk-toggleable__label-arrow\">ExtraTreesClassifier</label><div class=\"sk-toggleable__content\"><pre>ExtraTreesClassifier(criterion=&#x27;entropy&#x27;, min_samples_leaf=3,\n",
       "                     min_samples_split=5, n_estimators=290, random_state=10)</pre></div></div></div></div></div>"
      ],
      "text/plain": [
       "ExtraTreesClassifier(criterion='entropy', min_samples_leaf=3,\n",
       "                     min_samples_split=5, n_estimators=290, random_state=10)"
      ]
     },
     "execution_count": 137,
     "metadata": {},
     "output_type": "execute_result"
    }
   ],
   "source": [
    "etree = ExtraTreesClassifier(**params_etree, random_state=random_state)\n",
    "etree.fit(X_train, y_train)"
   ]
  },
  {
   "cell_type": "code",
   "execution_count": 138,
   "id": "4o5Qlsg4Rtqt",
   "metadata": {
    "colab": {
     "base_uri": "https://localhost:8080/"
    },
    "executionInfo": {
     "elapsed": 647,
     "status": "ok",
     "timestamp": 1682631932269,
     "user": {
      "displayName": "Damir Zunic",
      "userId": "07104666280721646256"
     },
     "user_tz": 240
    },
    "id": "4o5Qlsg4Rtqt",
    "outputId": "9bbfda59-a220-4c39-bcc0-f67225cdaa69"
   },
   "outputs": [
    {
     "data": {
      "text/plain": [
       "['/content/drive/MyDrive/Omdena/Team1/saved_models/batch_4_stack/etree_f1ma_1.pkl']"
      ]
     },
     "execution_count": 138,
     "metadata": {},
     "output_type": "execute_result"
    }
   ],
   "source": [
    "# Save the model\n",
    "joblib.dump(etree, '/content/drive/MyDrive/Omdena/Team1/saved_models/batch_4_stack/etree_f1ma_1.pkl')"
   ]
  },
  {
   "cell_type": "code",
   "execution_count": 139,
   "id": "nc9-nxkARtqt",
   "metadata": {
    "executionInfo": {
     "elapsed": 367,
     "status": "ok",
     "timestamp": 1682631939857,
     "user": {
      "displayName": "Damir Zunic",
      "userId": "07104666280721646256"
     },
     "user_tz": 240
    },
    "id": "nc9-nxkARtqt"
   },
   "outputs": [],
   "source": [
    "y_pred_etree = etree.predict(X_test)"
   ]
  },
  {
   "cell_type": "code",
   "execution_count": 140,
   "id": "1ZnxS-LoRtqt",
   "metadata": {
    "colab": {
     "base_uri": "https://localhost:8080/"
    },
    "executionInfo": {
     "elapsed": 156,
     "status": "ok",
     "timestamp": 1682631944789,
     "user": {
      "displayName": "Damir Zunic",
      "userId": "07104666280721646256"
     },
     "user_tz": 240
    },
    "id": "1ZnxS-LoRtqt",
    "outputId": "fbe6fdb1-8c42-4172-9f11-a3042a8bfb1c"
   },
   "outputs": [
    {
     "name": "stdout",
     "output_type": "stream",
     "text": [
      "Accuracy after tuning: 85.62\n"
     ]
    }
   ],
   "source": [
    "accuracy = accuracy_score(y_test, y_pred_etree)\n",
    "print(f'Accuracy after tuning: {accuracy * 100.0:.2f}')"
   ]
  },
  {
   "cell_type": "code",
   "execution_count": 141,
   "id": "B6uO2SDeRtqt",
   "metadata": {
    "colab": {
     "base_uri": "https://localhost:8080/"
    },
    "executionInfo": {
     "elapsed": 1808,
     "status": "ok",
     "timestamp": 1682631958290,
     "user": {
      "displayName": "Damir Zunic",
      "userId": "07104666280721646256"
     },
     "user_tz": 240
    },
    "id": "B6uO2SDeRtqt",
    "outputId": "6c771ebb-b39c-4028-e5f6-414e669350d0"
   },
   "outputs": [
    {
     "name": "stdout",
     "output_type": "stream",
     "text": [
      "Training Data Score: 1.0\n",
      "Testing Data Score: 0.8561872909698997\n"
     ]
    }
   ],
   "source": [
    "# Compare training and testing scores\n",
    "print(f\"Training Data Score: {etree.score(X_train, y_train)}\")\n",
    "print(f\"Testing Data Score: {etree.score(X_test, y_test)}\")"
   ]
  },
  {
   "cell_type": "code",
   "execution_count": 142,
   "id": "w8ToCWxQRtqt",
   "metadata": {
    "colab": {
     "base_uri": "https://localhost:8080/"
    },
    "executionInfo": {
     "elapsed": 244,
     "status": "ok",
     "timestamp": 1682631974067,
     "user": {
      "displayName": "Damir Zunic",
      "userId": "07104666280721646256"
     },
     "user_tz": 240
    },
    "id": "w8ToCWxQRtqt",
    "outputId": "45b6f8c9-5034-4618-fdbc-dc6749cc655c"
   },
   "outputs": [
    {
     "name": "stdout",
     "output_type": "stream",
     "text": [
      "[[ 211  128]\n",
      " [ 130 1325]]\n"
     ]
    }
   ],
   "source": [
    "cm = confusion_matrix(y_test, y_pred_etree)\n",
    "print(cm)"
   ]
  },
  {
   "cell_type": "code",
   "execution_count": 143,
   "id": "6GGzVYFvRtqt",
   "metadata": {
    "colab": {
     "base_uri": "https://localhost:8080/",
     "height": 315
    },
    "executionInfo": {
     "elapsed": 602,
     "status": "ok",
     "timestamp": 1682631988001,
     "user": {
      "displayName": "Damir Zunic",
      "userId": "07104666280721646256"
     },
     "user_tz": 240
    },
    "id": "6GGzVYFvRtqt",
    "outputId": "36578ba1-de2f-47f6-c0b4-70063b4b6e9a"
   },
   "outputs": [
    {
     "data": {
      "image/png": "[encoded data removed]",
      "text/plain": [
       "<Figure size 864x288 with 4 Axes>"
      ]
     },
     "metadata": {},
     "output_type": "display_data"
    }
   ],
   "source": [
    "# Plot confusion matrix and its normalized version.\n",
    "mu.plot_cm_unnorm_and_norm('Extra Trees - Optuna #1', y_test, y_pred_etree, target_names, 'Reds')"
   ]
  },
  {
   "cell_type": "code",
   "execution_count": 144,
   "id": "mXI_VjhuRtqt",
   "metadata": {
    "colab": {
     "base_uri": "https://localhost:8080/"
    },
    "executionInfo": {
     "elapsed": 170,
     "status": "ok",
     "timestamp": 1682632003008,
     "user": {
      "displayName": "Damir Zunic",
      "userId": "07104666280721646256"
     },
     "user_tz": 240
    },
    "id": "mXI_VjhuRtqt",
    "outputId": "5b8ef5ff-2c27-4934-88e3-f3b2603c7bbd"
   },
   "outputs": [
    {
     "name": "stdout",
     "output_type": "stream",
     "text": [
      "              precision    recall  f1-score   support\n",
      "\n",
      "         hem       0.62      0.62      0.62       339\n",
      "         all       0.91      0.91      0.91      1455\n",
      "\n",
      "    accuracy                           0.86      1794\n",
      "   macro avg       0.77      0.77      0.77      1794\n",
      "weighted avg       0.86      0.86      0.86      1794\n",
      "\n"
     ]
    }
   ],
   "source": [
    "print(classification_report(y_test, y_pred_etree, target_names=target_names))"
   ]
  },
  {
   "cell_type": "markdown",
   "id": "34bf36d4-a46b-4074-9d5e-2a752dd7e0da",
   "metadata": {
    "id": "vxiGGQaLj1-O"
   },
   "source": [
    "# STACKING CLASSIFICATION"
   ]
  },
  {
   "cell_type": "markdown",
   "id": "2f7fff82-d068-4104-a134-73bf81fee807",
   "metadata": {
    "id": "0hVguXAXkXBk"
   },
   "source": [
    "## XGBoost static paramters - Final Estimator"
   ]
  },
  {
   "cell_type": "code",
   "execution_count": 11,
   "id": "x0g9Xb_NkW-a",
   "metadata": {
    "execution": {
     "iopub.execute_input": "2023-04-29T03:11:04.103657Z",
     "iopub.status.busy": "2023-04-29T03:11:04.103428Z",
     "iopub.status.idle": "2023-04-29T03:11:04.107661Z",
     "shell.execute_reply": "2023-04-29T03:11:04.106906Z",
     "shell.execute_reply.started": "2023-04-29T03:11:04.103641Z"
    },
    "executionInfo": {
     "elapsed": 675,
     "status": "ok",
     "timestamp": 1682601519859,
     "user": {
      "displayName": "Damir Zunic",
      "userId": "07104666280721646256"
     },
     "user_tz": 240
    },
    "id": "x0g9Xb_NkW-a",
    "tags": []
   },
   "outputs": [],
   "source": [
    "# XGBoost static parameters\n",
    "static_params = { \n",
    "        'objective' : 'binary:logistic', \n",
    "        'eval_metric' : 'auc', \n",
    "        'random_state' : random_state\n",
    "}\n",
    "\n",
    "static_params_gpu = {\n",
    "        'tree_method' : 'gpu_hist', \n",
    "        'gpu_id' : 0\n",
    "}"
   ]
  },
  {
   "cell_type": "markdown",
   "id": "iajpHh2B0pzt",
   "metadata": {
    "id": "iajpHh2B0pzt"
   },
   "source": [
    "## Parameters for tuned base models"
   ]
  },
  {
   "cell_type": "code",
   "execution_count": 76,
   "id": "a7RqL3nV0sOT",
   "metadata": {
    "execution": {
     "iopub.execute_input": "2023-04-30T23:50:56.469160Z",
     "iopub.status.busy": "2023-04-30T23:50:56.468873Z",
     "iopub.status.idle": "2023-04-30T23:50:56.479419Z",
     "shell.execute_reply": "2023-04-30T23:50:56.478481Z",
     "shell.execute_reply.started": "2023-04-30T23:50:56.469141Z"
    },
    "executionInfo": {
     "elapsed": 272,
     "status": "ok",
     "timestamp": 1682601530100,
     "user": {
      "displayName": "Damir Zunic",
      "userId": "07104666280721646256"
     },
     "user_tz": 240
    },
    "id": "a7RqL3nV0sOT",
    "tags": []
   },
   "outputs": [],
   "source": [
    "params_knn = {\n",
    "    'n_neighbors': 6,\n",
    "    'metric': 'euclidean',\n",
    "    'weights': 'distance'\n",
    "    }\n",
    "\n",
    "params_svm = {\n",
    "  \t'C' : 0.12103996361181649,\n",
    "    'gamma': 24.34232406568725\n",
    "    }\n",
    "\n",
    "params_lr = {\n",
    "    'penalty': 'l2',\n",
    "    'C': 0.41725619274351355,\n",
    "    'tol': 0.0034947786528423015,\n",
    "    'fit_intercept': True,\n",
    "    'solver': 'liblinear'\n",
    "    }\n",
    "\n",
    "params_rf = {\n",
    "    'n_estimators': 630,\n",
    "    'max_features': 'sqrt',\n",
    "    'min_samples_split': 5,\n",
    "    'min_samples_leaf': 1,\n",
    "    'criterion': 'entropy'\n",
    "    }\n",
    "\n",
    "params_gnb = {\n",
    "    'var_smoothing': 5.08735387967818e-06\n",
    "    }\n",
    "\n",
    "#  hidden_layer_sizes=(10, 10, 10) \n",
    "# params_mlp = {\n",
    "#     'momentum': 0.5154600774171402,\n",
    "#     'learning_rate_init': 0.0006484157868557874,\n",
    "#     'power_t': 0.4\n",
    "#     }\n",
    "\n",
    "#  hidden_layer_sizes=(100, 50) \n",
    "params_mlp = {\n",
    "    'momentum': 0.7467805285225793, \n",
    "    'learning_rate_init': 0.0004616656166415659, \n",
    "    'power_t': 0.2\n",
    "    }\n",
    "\n",
    "params_etree = {\n",
    "    'n_estimators': 290,\n",
    "    'max_features': 'sqrt',\n",
    "    'min_samples_split': 5,\n",
    "    'min_samples_leaf': 3,\n",
    "    'criterion': 'entropy'\n",
    "    }\n",
    "             "
   ]
  },
  {
   "cell_type": "markdown",
   "id": "ddb5b97a-3627-4dad-a2cb-c96031c60d19",
   "metadata": {
    "id": "EmGjovD33QGh"
   },
   "source": [
    "## All Estimators"
   ]
  },
  {
   "cell_type": "code",
   "execution_count": 77,
   "id": "2XEwEncLig-C",
   "metadata": {
    "execution": {
     "iopub.execute_input": "2023-04-30T23:51:01.601770Z",
     "iopub.status.busy": "2023-04-30T23:51:01.601515Z",
     "iopub.status.idle": "2023-04-30T23:51:01.613239Z",
     "shell.execute_reply": "2023-04-30T23:51:01.612423Z",
     "shell.execute_reply.started": "2023-04-30T23:51:01.601753Z"
    },
    "executionInfo": {
     "elapsed": 133,
     "status": "ok",
     "timestamp": 1682601542365,
     "user": {
      "displayName": "Damir Zunic",
      "userId": "07104666280721646256"
     },
     "user_tz": 240
    },
    "id": "2XEwEncLig-C",
    "tags": []
   },
   "outputs": [],
   "source": [
    "# Initializing Support Vector Classifier\n",
    "svm = SVC(**params_svm, \n",
    "          kernel='linear', \n",
    "          random_state=random_state)\n",
    "\n",
    "# Initializing KNN Classifier\n",
    "knn = KNeighborsClassifier(**params_knn)\n",
    "\n",
    "# Initialing Logistic Regression\n",
    "lr = LogisticRegression(**params_lr, \n",
    "                        random_state=random_state)\n",
    "\n",
    "# Initializing Random Forest Classifier\n",
    "rf = RandomForestClassifier(**params_rf, \n",
    "                            random_state=random_state)\n",
    "\n",
    "# Initializing Naive Bayes \n",
    "gnb = GaussianNB(**params_gnb)\n",
    "\n",
    "# Initialize Multi-layer Perceptron Classifier\n",
    "mlp = MLPClassifier(**params_mlp, \n",
    "                    ### hidden_layer_sizes=(10, 10, 10), \n",
    "                    hidden_layer_sizes=(100, 50),\n",
    "                    random_state=random_state)\n",
    "\n",
    "# Initialize Extra-trees Classifier\n",
    "etree = ExtraTreesClassifier(**params_etree,\n",
    "                             random_state=random_state)\n",
    "\n",
    "##  xgb = XGBClassifier(**static_params, **static_params_gpu, **params_xgb)"
   ]
  },
  {
   "cell_type": "markdown",
   "id": "e9zSHmpW6FxA",
   "metadata": {
    "id": "e9zSHmpW6FxA"
   },
   "source": [
    "#### List of all estimators tuples"
   ]
  },
  {
   "cell_type": "code",
   "execution_count": 78,
   "id": "PeImUkkYig6s",
   "metadata": {
    "execution": {
     "iopub.execute_input": "2023-04-30T23:51:07.563386Z",
     "iopub.status.busy": "2023-04-30T23:51:07.563129Z",
     "iopub.status.idle": "2023-04-30T23:51:07.568154Z",
     "shell.execute_reply": "2023-04-30T23:51:07.567405Z",
     "shell.execute_reply.started": "2023-04-30T23:51:07.563369Z"
    },
    "executionInfo": {
     "elapsed": 853,
     "status": "ok",
     "timestamp": 1682519554424,
     "user": {
      "displayName": "Damir Zunic",
      "userId": "07104666280721646256"
     },
     "user_tz": 240
    },
    "id": "PeImUkkYig6s",
    "tags": []
   },
   "outputs": [],
   "source": [
    "estimators_all = [\n",
    "    ('svm', svm),\n",
    "    ('knn', knn),\n",
    "    ('lr', lr),\n",
    "    ('rf', rf),\n",
    "    ('gnb', gnb),\n",
    "    ('mlp', mlp),\n",
    "    ('etree', etree)\n",
    "\n",
    "]"
   ]
  },
  {
   "cell_type": "markdown",
   "id": "UAYXUWes6ygz",
   "metadata": {
    "id": "UAYXUWes6ygz"
   },
   "source": [
    "## Function to fit models"
   ]
  },
  {
   "cell_type": "code",
   "execution_count": 15,
   "id": "1igqmUvwigrr",
   "metadata": {
    "execution": {
     "iopub.execute_input": "2023-04-29T03:11:33.359582Z",
     "iopub.status.busy": "2023-04-29T03:11:33.359355Z",
     "iopub.status.idle": "2023-04-29T03:11:33.364032Z",
     "shell.execute_reply": "2023-04-29T03:11:33.363249Z",
     "shell.execute_reply.started": "2023-04-29T03:11:33.359566Z"
    },
    "id": "1igqmUvwigrr",
    "tags": []
   },
   "outputs": [],
   "source": [
    "def fit_clf(models_d):\n",
    "\n",
    "    fit_models = {}\n",
    "\n",
    "    # Loop through model pipelines, tuning each one and saving it to fitted_models\n",
    "    for name, model in models_d.items():\n",
    "        # Fit model on X_train, y_train\n",
    "        model.fit(X_train, y_train)\n",
    "\n",
    "        # Store model in fitted_models[name]\n",
    "        fit_models[name] = model\n",
    "\n",
    "        # Print '{name} has been fitted'\n",
    "        print(name, 'has been fitted')\n",
    "    return fit_models"
   ]
  },
  {
   "cell_type": "markdown",
   "id": "Y5mIrH1kiglG",
   "metadata": {
    "id": "Y5mIrH1kiglG"
   },
   "source": [
    "## Function to evaluate models"
   ]
  },
  {
   "cell_type": "code",
   "execution_count": 49,
   "id": "Nw5pbdstGFNu",
   "metadata": {
    "execution": {
     "iopub.execute_input": "2023-04-30T20:51:13.351804Z",
     "iopub.status.busy": "2023-04-30T20:51:13.350572Z",
     "iopub.status.idle": "2023-04-30T20:51:13.370554Z",
     "shell.execute_reply": "2023-04-30T20:51:13.369743Z",
     "shell.execute_reply.started": "2023-04-30T20:51:13.351759Z"
    },
    "id": "Nw5pbdstGFNu",
    "tags": []
   },
   "outputs": [],
   "source": [
    "def evaluation(models):\n",
    "    lst = []\n",
    "    for name, model in models.items():\n",
    "        pred = model.predict(X_test)\n",
    "        lst.append([name, f1_score(y_test, pred, average='macro'),\n",
    "                    accuracy_score(y_test, pred),\n",
    "                    roc_auc_score(y_test, pred)])\n",
    "\n",
    "    eval_df = pd.DataFrame(lst, columns=['model', 'f1_macro', 'accuracy', 'AUC'])\n",
    "    eval_df.set_index('model', inplace = True)\n",
    "    return eval_df"
   ]
  },
  {
   "cell_type": "markdown",
   "id": "ngPmHqBmIhJI",
   "metadata": {
    "id": "ngPmHqBmIhJI"
   },
   "source": [
    "## Fit and evaluate all tuned models"
   ]
  },
  {
   "cell_type": "code",
   "execution_count": 36,
   "id": "yxUv_mfgIg7s",
   "metadata": {
    "execution": {
     "iopub.execute_input": "2023-04-29T11:16:24.568342Z",
     "iopub.status.busy": "2023-04-29T11:16:24.568045Z",
     "iopub.status.idle": "2023-04-29T11:26:17.332428Z",
     "shell.execute_reply": "2023-04-29T11:26:17.331062Z",
     "shell.execute_reply.started": "2023-04-29T11:16:24.568325Z"
    },
    "id": "yxUv_mfgIg7s",
    "tags": []
   },
   "outputs": [
    {
     "name": "stdout",
     "output_type": "stream",
     "text": [
      "svm has been fitted\n",
      "knn has been fitted\n",
      "lr has been fitted\n",
      "rf has been fitted\n",
      "gnb has been fitted\n",
      "mlp has been fitted\n",
      "etree has been fitted\n"
     ]
    }
   ],
   "source": [
    "fitted_models = fit_clf(dict(estimators_all))"
   ]
  },
  {
   "cell_type": "code",
   "execution_count": 37,
   "id": "YzMPyIxDIgt3",
   "metadata": {
    "execution": {
     "iopub.execute_input": "2023-04-29T13:18:50.439936Z",
     "iopub.status.busy": "2023-04-29T13:18:50.439628Z",
     "iopub.status.idle": "2023-04-29T13:19:12.271986Z",
     "shell.execute_reply": "2023-04-29T13:19:12.271150Z",
     "shell.execute_reply.started": "2023-04-29T13:18:50.439918Z"
    },
    "id": "YzMPyIxDIgt3",
    "tags": []
   },
   "outputs": [
    {
     "data": {
      "text/html": [
       "<div>\n",
       "<style scoped>\n",
       "    .dataframe tbody tr th:only-of-type {\n",
       "        vertical-align: middle;\n",
       "    }\n",
       "\n",
       "    .dataframe tbody tr th {\n",
       "        vertical-align: top;\n",
       "    }\n",
       "\n",
       "    .dataframe thead th {\n",
       "        text-align: right;\n",
       "    }\n",
       "</style>\n",
       "<table border=\"1\" class=\"dataframe\">\n",
       "  <thead>\n",
       "    <tr style=\"text-align: right;\">\n",
       "      <th></th>\n",
       "      <th>f1_macro</th>\n",
       "      <th>accuracy</th>\n",
       "      <th>AUC</th>\n",
       "    </tr>\n",
       "    <tr>\n",
       "      <th>model</th>\n",
       "      <th></th>\n",
       "      <th></th>\n",
       "      <th></th>\n",
       "    </tr>\n",
       "  </thead>\n",
       "  <tbody>\n",
       "    <tr>\n",
       "      <th>svm</th>\n",
       "      <td>0.761333</td>\n",
       "      <td>0.846711</td>\n",
       "      <td>0.774269</td>\n",
       "    </tr>\n",
       "    <tr>\n",
       "      <th>knn</th>\n",
       "      <td>0.691723</td>\n",
       "      <td>0.779264</td>\n",
       "      <td>0.730426</td>\n",
       "    </tr>\n",
       "    <tr>\n",
       "      <th>lr</th>\n",
       "      <td>0.750517</td>\n",
       "      <td>0.835006</td>\n",
       "      <td>0.771578</td>\n",
       "    </tr>\n",
       "    <tr>\n",
       "      <th>rf</th>\n",
       "      <td>0.768270</td>\n",
       "      <td>0.857302</td>\n",
       "      <td>0.769486</td>\n",
       "    </tr>\n",
       "    <tr>\n",
       "      <th>gnb</th>\n",
       "      <td>0.506624</td>\n",
       "      <td>0.770903</td>\n",
       "      <td>0.514853</td>\n",
       "    </tr>\n",
       "    <tr>\n",
       "      <th>mlp</th>\n",
       "      <td>0.771574</td>\n",
       "      <td>0.851171</td>\n",
       "      <td>0.789463</td>\n",
       "    </tr>\n",
       "    <tr>\n",
       "      <th>etree</th>\n",
       "      <td>0.765934</td>\n",
       "      <td>0.856187</td>\n",
       "      <td>0.766536</td>\n",
       "    </tr>\n",
       "  </tbody>\n",
       "</table>\n",
       "</div>"
      ],
      "text/plain": [
       "       f1_macro  accuracy       AUC\n",
       "model                              \n",
       "svm    0.761333  0.846711  0.774269\n",
       "knn    0.691723  0.779264  0.730426\n",
       "lr     0.750517  0.835006  0.771578\n",
       "rf     0.768270  0.857302  0.769486\n",
       "gnb    0.506624  0.770903  0.514853\n",
       "mlp    0.771574  0.851171  0.789463\n",
       "etree  0.765934  0.856187  0.766536"
      ]
     },
     "execution_count": 37,
     "metadata": {},
     "output_type": "execute_result"
    }
   ],
   "source": [
    "evaluation(fitted_models)"
   ]
  },
  {
   "cell_type": "markdown",
   "id": "KQz5Ne2cIgpf",
   "metadata": {
    "id": "KQz5Ne2cIgpf"
   },
   "source": [
    "## Fit and evaluate Stacking Classifier"
   ]
  },
  {
   "cell_type": "markdown",
   "id": "UF5hebtCn6n2",
   "metadata": {
    "id": "UF5hebtCn6n2"
   },
   "source": [
    "#### List of base estimators tuples (drop knn and gnb)"
   ]
  },
  {
   "cell_type": "code",
   "execution_count": 81,
   "id": "UjzdyZtbn4Oa",
   "metadata": {
    "execution": {
     "iopub.execute_input": "2023-05-01T01:37:32.069645Z",
     "iopub.status.busy": "2023-05-01T01:37:32.069282Z",
     "iopub.status.idle": "2023-05-01T01:37:32.074638Z",
     "shell.execute_reply": "2023-05-01T01:37:32.073790Z",
     "shell.execute_reply.started": "2023-05-01T01:37:32.069623Z"
    },
    "id": "UjzdyZtbn4Oa",
    "tags": []
   },
   "outputs": [],
   "source": [
    "estimators_l = [\n",
    "    ('svm', svm),\n",
    "    # ('knn', knn),\n",
    "    ('lr', lr),\n",
    "    ('rf', rf),\n",
    "    #('gnb', gnb),\n",
    "    ('mlp', mlp),\n",
    "    ('etree', etree)\n",
    "]"
   ]
  },
  {
   "cell_type": "markdown",
   "id": "7y3FkKZmIglc",
   "metadata": {
    "id": "7y3FkKZmIglc"
   },
   "source": [
    "#### Build stack model"
   ]
  },
  {
   "cell_type": "code",
   "execution_count": 85,
   "id": "MIp44hAeJ6UT",
   "metadata": {
    "execution": {
     "iopub.execute_input": "2023-05-01T02:01:18.484731Z",
     "iopub.status.busy": "2023-05-01T02:01:18.484410Z",
     "iopub.status.idle": "2023-05-01T02:01:18.490450Z",
     "shell.execute_reply": "2023-05-01T02:01:18.489523Z",
     "shell.execute_reply.started": "2023-05-01T02:01:18.484709Z"
    },
    "id": "MIp44hAeJ6UT",
    "tags": []
   },
   "outputs": [],
   "source": [
    "# Build stack model, not tuned\n",
    "stack_clf_nt = StackingClassifier(\n",
    "    estimators=estimators_l, \n",
    "    final_estimator=XGBClassifier(**static_params, **static_params_gpu), \n",
    "    n_jobs=-1\n",
    ")"
   ]
  },
  {
   "cell_type": "code",
   "execution_count": 86,
   "id": "-EqKOytyJ6UU",
   "metadata": {
    "execution": {
     "iopub.execute_input": "2023-05-01T02:01:22.183797Z",
     "iopub.status.busy": "2023-05-01T02:01:22.183466Z",
     "iopub.status.idle": "2023-05-01T02:19:03.409047Z",
     "shell.execute_reply": "2023-05-01T02:19:03.407601Z",
     "shell.execute_reply.started": "2023-05-01T02:01:22.183777Z"
    },
    "id": "-EqKOytyJ6UU",
    "tags": []
   },
   "outputs": [
    {
     "name": "stdout",
     "output_type": "stream",
     "text": [
      "stack has been fitted\n"
     ]
    }
   ],
   "source": [
    "sc_nt = {'stack' : stack_clf_nt}\n",
    "fitted_stack = fit_clf(sc_nt)"
   ]
  },
  {
   "cell_type": "code",
   "execution_count": 87,
   "id": "hcG4ETuUJ6UU",
   "metadata": {
    "colab": {
     "base_uri": "https://localhost:8080/",
     "height": 112
    },
    "execution": {
     "iopub.execute_input": "2023-05-01T02:24:29.273565Z",
     "iopub.status.busy": "2023-05-01T02:24:29.273242Z",
     "iopub.status.idle": "2023-05-01T02:24:47.816167Z",
     "shell.execute_reply": "2023-05-01T02:24:47.815340Z",
     "shell.execute_reply.started": "2023-05-01T02:24:29.273540Z"
    },
    "executionInfo": {
     "elapsed": 25635,
     "status": "ok",
     "timestamp": 1682522310754,
     "user": {
      "displayName": "Damir Zunic",
      "userId": "07104666280721646256"
     },
     "user_tz": 240
    },
    "id": "hcG4ETuUJ6UU",
    "outputId": "c5e75b89-f5e6-409a-a2ce-1f7a1b795217",
    "tags": []
   },
   "outputs": [
    {
     "data": {
      "text/html": [
       "<div>\n",
       "<style scoped>\n",
       "    .dataframe tbody tr th:only-of-type {\n",
       "        vertical-align: middle;\n",
       "    }\n",
       "\n",
       "    .dataframe tbody tr th {\n",
       "        vertical-align: top;\n",
       "    }\n",
       "\n",
       "    .dataframe thead th {\n",
       "        text-align: right;\n",
       "    }\n",
       "</style>\n",
       "<table border=\"1\" class=\"dataframe\">\n",
       "  <thead>\n",
       "    <tr style=\"text-align: right;\">\n",
       "      <th></th>\n",
       "      <th>f1_macro</th>\n",
       "      <th>accuracy</th>\n",
       "      <th>AUC</th>\n",
       "    </tr>\n",
       "    <tr>\n",
       "      <th>model</th>\n",
       "      <th></th>\n",
       "      <th></th>\n",
       "      <th></th>\n",
       "    </tr>\n",
       "  </thead>\n",
       "  <tbody>\n",
       "    <tr>\n",
       "      <th>stack</th>\n",
       "      <td>0.793864</td>\n",
       "      <td>0.872352</td>\n",
       "      <td>0.796865</td>\n",
       "    </tr>\n",
       "  </tbody>\n",
       "</table>\n",
       "</div>"
      ],
      "text/plain": [
       "       f1_macro  accuracy       AUC\n",
       "model                              \n",
       "stack  0.793864  0.872352  0.796865"
      ]
     },
     "execution_count": 87,
     "metadata": {},
     "output_type": "execute_result"
    }
   ],
   "source": [
    "evaluation(fitted_stack)"
   ]
  },
  {
   "cell_type": "markdown",
   "id": "81adeeb1-0c20-41e2-8049-9b9e76b77235",
   "metadata": {},
   "source": [
    "### Performance for not tuned stacking classifier"
   ]
  },
  {
   "cell_type": "code",
   "execution_count": 88,
   "id": "b318a904-da0f-40a4-a210-1abb9ee8d67d",
   "metadata": {
    "execution": {
     "iopub.execute_input": "2023-05-01T02:25:19.413979Z",
     "iopub.status.busy": "2023-05-01T02:25:19.413744Z",
     "iopub.status.idle": "2023-05-01T02:25:25.319094Z",
     "shell.execute_reply": "2023-05-01T02:25:25.318233Z",
     "shell.execute_reply.started": "2023-05-01T02:25:19.413964Z"
    },
    "id": "L1Ia5OfDGf8y"
   },
   "outputs": [
    {
     "data": {
      "text/plain": [
       "['./saved_models/batch_4_stack/stack_xgb_not_tuned.pkl']"
      ]
     },
     "execution_count": 88,
     "metadata": {},
     "output_type": "execute_result"
    }
   ],
   "source": [
    "# Save the model\n",
    "# joblib.dump(stack_clf, '/content/drive/MyDrive/Omdena/Team1/saved_models/batch_4_stack/stack_xgb_not_tuned.save')\n",
    "joblib.dump(stack_clf_nt, './saved_models/batch_4_stack/stack_xgb_not_tuned.pkl')"
   ]
  },
  {
   "cell_type": "code",
   "execution_count": 89,
   "id": "a0bab6c5-27b5-43ab-b3eb-b63d7c2e48d3",
   "metadata": {
    "execution": {
     "iopub.execute_input": "2023-05-01T02:25:45.828240Z",
     "iopub.status.busy": "2023-05-01T02:25:45.828005Z",
     "iopub.status.idle": "2023-05-01T02:26:04.609803Z",
     "shell.execute_reply": "2023-05-01T02:26:04.608791Z",
     "shell.execute_reply.started": "2023-05-01T02:25:45.828223Z"
    },
    "executionInfo": {
     "elapsed": 24323,
     "status": "ok",
     "timestamp": 1682725515130,
     "user": {
      "displayName": "Damir Zunic",
      "userId": "07104666280721646256"
     },
     "user_tz": 240
    },
    "id": "AeTg-kSyGf8z"
   },
   "outputs": [],
   "source": [
    "y_pred_st_nt = stack_clf_nt.predict(X_test)"
   ]
  },
  {
   "cell_type": "code",
   "execution_count": 90,
   "id": "53b1a5d3-76db-4047-b7be-42f8732c4b4b",
   "metadata": {
    "colab": {
     "base_uri": "https://localhost:8080/"
    },
    "execution": {
     "iopub.execute_input": "2023-05-01T02:26:10.773129Z",
     "iopub.status.busy": "2023-05-01T02:26:10.772858Z",
     "iopub.status.idle": "2023-05-01T02:26:10.779514Z",
     "shell.execute_reply": "2023-05-01T02:26:10.778594Z",
     "shell.execute_reply.started": "2023-05-01T02:26:10.773110Z"
    },
    "executionInfo": {
     "elapsed": 161,
     "status": "ok",
     "timestamp": 1682725522954,
     "user": {
      "displayName": "Damir Zunic",
      "userId": "07104666280721646256"
     },
     "user_tz": 240
    },
    "id": "dKRFeLlKGf80",
    "outputId": "2cd2a847-e98a-4a8b-d0fe-917bf1afe166"
   },
   "outputs": [
    {
     "name": "stdout",
     "output_type": "stream",
     "text": [
      "Accuracy after tuning: 87.24\n"
     ]
    }
   ],
   "source": [
    "accuracy = accuracy_score(y_test, y_pred_st_nt)\n",
    "print(f'Accuracy after tuning: {accuracy * 100.0:.2f}')"
   ]
  },
  {
   "cell_type": "code",
   "execution_count": 91,
   "id": "389e7428-17d2-4668-a077-a9472891f7e7",
   "metadata": {
    "colab": {
     "base_uri": "https://localhost:8080/"
    },
    "execution": {
     "iopub.execute_input": "2023-05-01T02:26:32.634498Z",
     "iopub.status.busy": "2023-05-01T02:26:32.634256Z",
     "iopub.status.idle": "2023-05-01T02:28:50.132326Z",
     "shell.execute_reply": "2023-05-01T02:28:50.131395Z",
     "shell.execute_reply.started": "2023-05-01T02:26:32.634481Z"
    },
    "executionInfo": {
     "elapsed": 185008,
     "status": "ok",
     "timestamp": 1682725718238,
     "user": {
      "displayName": "Damir Zunic",
      "userId": "07104666280721646256"
     },
     "user_tz": 240
    },
    "id": "Rlm5Vb_7Gf80",
    "outputId": "9df2e3c6-8276-4487-f792-39ce003d0a93"
   },
   "outputs": [
    {
     "name": "stdout",
     "output_type": "stream",
     "text": [
      "Training Data Score: 0.9994126038432491\n",
      "Testing Data Score: 0.8723522853957637\n"
     ]
    }
   ],
   "source": [
    "# Compare training and testing scores\n",
    "print(f\"Training Data Score: {stack_clf_nt.score(X_train, y_train)}\")\n",
    "print(f\"Testing Data Score: {stack_clf_nt.score(X_test, y_test)}\")"
   ]
  },
  {
   "cell_type": "code",
   "execution_count": 92,
   "id": "c8b12edb-3a68-406b-a826-9cfc1b447286",
   "metadata": {
    "colab": {
     "base_uri": "https://localhost:8080/"
    },
    "execution": {
     "iopub.execute_input": "2023-05-01T02:29:00.688605Z",
     "iopub.status.busy": "2023-05-01T02:29:00.688342Z",
     "iopub.status.idle": "2023-05-01T02:29:00.695286Z",
     "shell.execute_reply": "2023-05-01T02:29:00.694577Z",
     "shell.execute_reply.started": "2023-05-01T02:29:00.688586Z"
    },
    "executionInfo": {
     "elapsed": 169,
     "status": "ok",
     "timestamp": 1682725740862,
     "user": {
      "displayName": "Damir Zunic",
      "userId": "07104666280721646256"
     },
     "user_tz": 240
    },
    "id": "7vk9by8NGf81",
    "outputId": "0e1cf9cd-453f-4e93-d85d-72461c4e7aaa"
   },
   "outputs": [
    {
     "name": "stdout",
     "output_type": "stream",
     "text": [
      "[[ 229  110]\n",
      " [ 119 1336]]\n"
     ]
    }
   ],
   "source": [
    "cm = confusion_matrix(y_test, y_pred_st_nt)\n",
    "print(cm)"
   ]
  },
  {
   "cell_type": "code",
   "execution_count": 94,
   "id": "114b4aa5-f674-483b-8b57-50c476e31f3d",
   "metadata": {
    "colab": {
     "base_uri": "https://localhost:8080/",
     "height": 315
    },
    "execution": {
     "iopub.execute_input": "2023-05-01T02:31:05.422167Z",
     "iopub.status.busy": "2023-05-01T02:31:05.421895Z",
     "iopub.status.idle": "2023-05-01T02:31:05.941732Z",
     "shell.execute_reply": "2023-05-01T02:31:05.940775Z",
     "shell.execute_reply.started": "2023-05-01T02:31:05.422151Z"
    },
    "executionInfo": {
     "elapsed": 622,
     "status": "ok",
     "timestamp": 1682725792813,
     "user": {
      "displayName": "Damir Zunic",
      "userId": "07104666280721646256"
     },
     "user_tz": 240
    },
    "id": "81KSluvNGf82",
    "outputId": "112b040f-760e-46a1-b6f2-645129c74021"
   },
   "outputs": [
    {
     "data": {
      "image/png": "[encoded data removed]",
      "text/plain": [
       "<Figure size 864x288 with 4 Axes>"
      ]
     },
     "metadata": {},
     "output_type": "display_data"
    }
   ],
   "source": [
    "# Plot confusion matrix and its normalized version.\n",
    "mu.plot_cm_unnorm_and_norm('Stack XGBoost - not tuned #1', y_test, y_pred_st_nt, target_names, 'Reds')"
   ]
  },
  {
   "cell_type": "code",
   "execution_count": 95,
   "id": "ed7b6150-d9c5-4fbc-9f77-061b1d816da5",
   "metadata": {
    "colab": {
     "base_uri": "https://localhost:8080/"
    },
    "execution": {
     "iopub.execute_input": "2023-05-01T02:31:14.013231Z",
     "iopub.status.busy": "2023-05-01T02:31:14.012961Z",
     "iopub.status.idle": "2023-05-01T02:31:14.025680Z",
     "shell.execute_reply": "2023-05-01T02:31:14.024763Z",
     "shell.execute_reply.started": "2023-05-01T02:31:14.013213Z"
    },
    "executionInfo": {
     "elapsed": 103,
     "status": "ok",
     "timestamp": 1682725810606,
     "user": {
      "displayName": "Damir Zunic",
      "userId": "07104666280721646256"
     },
     "user_tz": 240
    },
    "id": "n8eYJc5eGf83",
    "outputId": "69c06e13-191b-4a90-fa6d-a87aee2632e8"
   },
   "outputs": [
    {
     "name": "stdout",
     "output_type": "stream",
     "text": [
      "              precision    recall  f1-score   support\n",
      "\n",
      "         hem       0.66      0.68      0.67       339\n",
      "         all       0.92      0.92      0.92      1455\n",
      "\n",
      "    accuracy                           0.87      1794\n",
      "   macro avg       0.79      0.80      0.79      1794\n",
      "weighted avg       0.87      0.87      0.87      1794\n",
      "\n"
     ]
    }
   ],
   "source": [
    "print(classification_report(y_test, y_pred_st_nt, target_names=target_names))"
   ]
  },
  {
   "cell_type": "markdown",
   "id": "0Xnh36Nvqq05",
   "metadata": {
    "id": "0Xnh36Nvqq05"
   },
   "source": [
    "# Tuning Stacking Classifier - #1"
   ]
  },
  {
   "cell_type": "code",
   "execution_count": 96,
   "id": "sqagYBcqqQ1X",
   "metadata": {
    "execution": {
     "iopub.execute_input": "2023-05-01T02:31:41.970471Z",
     "iopub.status.busy": "2023-05-01T02:31:41.969809Z",
     "iopub.status.idle": "2023-05-01T02:31:41.974200Z",
     "shell.execute_reply": "2023-05-01T02:31:41.973400Z",
     "shell.execute_reply.started": "2023-05-01T02:31:41.970451Z"
    },
    "id": "sqagYBcqqQ1X"
   },
   "outputs": [],
   "source": [
    "# Build stack model\n",
    "stack_clf = StackingClassifier(\n",
    "    estimators=estimators_l, \n",
    "    final_estimator=XGBClassifier(**static_params, **static_params_gpu), \n",
    "    n_jobs=-1\n",
    ")"
   ]
  },
  {
   "cell_type": "markdown",
   "id": "QBzwP925qq05",
   "metadata": {
    "id": "QBzwP925qq05"
   },
   "source": [
    "## Optuna Objective Function"
   ]
  },
  {
   "cell_type": "code",
   "execution_count": 19,
   "id": "bDFfsCtcqq05",
   "metadata": {
    "execution": {
     "iopub.execute_input": "2023-04-29T03:13:00.100508Z",
     "iopub.status.busy": "2023-04-29T03:13:00.100285Z",
     "iopub.status.idle": "2023-04-29T03:13:00.105558Z",
     "shell.execute_reply": "2023-04-29T03:13:00.104820Z",
     "shell.execute_reply.started": "2023-04-29T03:13:00.100492Z"
    },
    "id": "bDFfsCtcqq05",
    "tags": []
   },
   "outputs": [],
   "source": [
    "def objective(trial):\n",
    "    \"\"\"Define the objective function\"\"\"\n",
    "\n",
    "    params = {\n",
    "        'final_estimator__max_depth': trial.suggest_int('final_estimator__max_depth', 1, 10),\n",
    "        'final_estimator__learning_rate': trial.suggest_loguniform('final_estimator__learning_rate', 0.01, 1.0),\n",
    "        'final_estimator__n_estimators': trial.suggest_int('final_estimator__n_estimators', 50, 600),\n",
    "        'final_estimator__min_child_weight': trial.suggest_int('final_estimator__min_child_weight', 1, 12),\n",
    "        'final_estimator__gamma': trial.suggest_loguniform('final_estimator__gamma', 1e-8, 1.0),\n",
    "        'final_estimator__subsample': trial.suggest_loguniform('final_estimator__subsample', 0.01, 1.0),\n",
    "        'final_estimator__colsample_bytree': trial.suggest_loguniform('final_estimator__colsample_bytree', 0.01, 1.0),\n",
    "        'final_estimator__reg_alpha': trial.suggest_loguniform('final_estimator__reg_alpha', 1e-8, 1.0),\n",
    "        'final_estimator__reg_lambda': trial.suggest_loguniform('final_estimator__reg_lambda', 1e-8, 1.0)\n",
    "    }\n",
    "\n",
    "\n",
    "    # Fit the model\n",
    "    stack_clf.set_params(**params)\n",
    "    stack_clf.fit(X_train, y_train)\n",
    "\n",
    "    # Make predictions\n",
    "    y_pred = stack_clf.predict(X_test)\n",
    "\n",
    "    # Evaluate predictions\n",
    "    f1 = f1_score(y_test, y_pred, average='macro')\n",
    "    return f1"
   ]
  },
  {
   "cell_type": "markdown",
   "id": "spxvOj_yqq06",
   "metadata": {
    "id": "spxvOj_yqq06"
   },
   "source": [
    "## Optuna Study"
   ]
  },
  {
   "cell_type": "code",
   "execution_count": 20,
   "id": "XqwKuaNVqq06",
   "metadata": {
    "colab": {
     "base_uri": "https://localhost:8080/"
    },
    "execution": {
     "iopub.execute_input": "2023-04-29T03:13:16.005824Z",
     "iopub.status.busy": "2023-04-29T03:13:16.005595Z",
     "iopub.status.idle": "2023-04-29T03:13:16.010897Z",
     "shell.execute_reply": "2023-04-29T03:13:16.010189Z",
     "shell.execute_reply.started": "2023-04-29T03:13:16.005806Z"
    },
    "executionInfo": {
     "elapsed": 295,
     "status": "ok",
     "timestamp": 1682527085195,
     "user": {
      "displayName": "Damir Zunic",
      "userId": "07104666280721646256"
     },
     "user_tz": 240
    },
    "id": "XqwKuaNVqq06",
    "outputId": "58e9c0b8-78fb-4dfd-c4aa-607a741f6054",
    "tags": []
   },
   "outputs": [
    {
     "name": "stderr",
     "output_type": "stream",
     "text": [
      "\u001b[32m[I 2023-04-28 23:13:16,006]\u001b[0m A new study created in memory with name: no-name-e57c7ec6-3a6b-49f8-808f-27472d368835\u001b[0m\n"
     ]
    }
   ],
   "source": [
    "study = optuna.create_study(direction='maximize')"
   ]
  },
  {
   "cell_type": "markdown",
   "id": "ijNymmXkqq06",
   "metadata": {
    "id": "ijNymmXkqq06"
   },
   "source": [
    "## Optimize the Objective Function"
   ]
  },
  {
   "cell_type": "markdown",
   "id": "7689e462-5e5b-437d-b7aa-755fdc0b6002",
   "metadata": {},
   "source": [
    "#### First 10 trials"
   ]
  },
  {
   "cell_type": "code",
   "execution_count": 21,
   "id": "J07-55o9qq06",
   "metadata": {
    "colab": {
     "base_uri": "https://localhost:8080/"
    },
    "execution": {
     "iopub.execute_input": "2023-04-29T03:13:54.404858Z",
     "iopub.status.busy": "2023-04-29T03:13:54.404616Z",
     "iopub.status.idle": "2023-04-29T06:27:19.715515Z",
     "shell.execute_reply": "2023-04-29T06:27:19.714402Z",
     "shell.execute_reply.started": "2023-04-29T03:13:54.404843Z"
    },
    "executionInfo": {
     "elapsed": 7067065,
     "status": "ok",
     "timestamp": 1682534171972,
     "user": {
      "displayName": "Damir Zunic",
      "userId": "07104666280721646256"
     },
     "user_tz": 240
    },
    "id": "J07-55o9qq06",
    "outputId": "19441191-73f9-4fef-bd6d-778b794e1ab1",
    "scrolled": true,
    "tags": []
   },
   "outputs": [
    {
     "name": "stderr",
     "output_type": "stream",
     "text": [
      "\u001b[32m[I 2023-04-28 23:32:35,442]\u001b[0m Trial 0 finished with value: 0.789325719527346 and parameters: {'final_estimator__max_depth': 2, 'final_estimator__learning_rate': 0.20619638831226886, 'final_estimator__n_estimators': 142, 'final_estimator__min_child_weight': 7, 'final_estimator__gamma': 0.008399758742498467, 'final_estimator__subsample': 0.044427467266057424, 'final_estimator__colsample_bytree': 0.6053112374704286, 'final_estimator__reg_alpha': 6.476863942999051e-05, 'final_estimator__reg_lambda': 0.0016306245956206069}. Best is trial 0 with value: 0.789325719527346.\u001b[0m\n",
      "\u001b[32m[I 2023-04-28 23:53:18,914]\u001b[0m Trial 1 finished with value: 0.7906647936243822 and parameters: {'final_estimator__max_depth': 6, 'final_estimator__learning_rate': 0.08751726849513616, 'final_estimator__n_estimators': 66, 'final_estimator__min_child_weight': 10, 'final_estimator__gamma': 3.413454878548282e-05, 'final_estimator__subsample': 0.4619089765621419, 'final_estimator__colsample_bytree': 0.18976171152875343, 'final_estimator__reg_alpha': 6.099664422490918e-06, 'final_estimator__reg_lambda': 0.44701124681656723}. Best is trial 1 with value: 0.7906647936243822.\u001b[0m\n",
      "\u001b[32m[I 2023-04-29 00:12:47,759]\u001b[0m Trial 2 finished with value: 0.7623171247357294 and parameters: {'final_estimator__max_depth': 6, 'final_estimator__learning_rate': 0.6289716510832369, 'final_estimator__n_estimators': 154, 'final_estimator__min_child_weight': 10, 'final_estimator__gamma': 0.00012726364038971214, 'final_estimator__subsample': 0.05779208757711065, 'final_estimator__colsample_bytree': 0.02942946046488277, 'final_estimator__reg_alpha': 3.654512150605535e-05, 'final_estimator__reg_lambda': 2.6171034720774262e-06}. Best is trial 1 with value: 0.7906647936243822.\u001b[0m\n",
      "\u001b[32m[I 2023-04-29 00:32:08,783]\u001b[0m Trial 3 finished with value: 0.7885354626772139 and parameters: {'final_estimator__max_depth': 10, 'final_estimator__learning_rate': 0.03195954045691629, 'final_estimator__n_estimators': 363, 'final_estimator__min_child_weight': 7, 'final_estimator__gamma': 0.0011734258646482615, 'final_estimator__subsample': 0.034326714609355644, 'final_estimator__colsample_bytree': 0.8340077045134455, 'final_estimator__reg_alpha': 9.683706731437947e-06, 'final_estimator__reg_lambda': 4.469977295570886e-05}. Best is trial 1 with value: 0.7906647936243822.\u001b[0m\n",
      "\u001b[32m[I 2023-04-29 00:51:27,125]\u001b[0m Trial 4 finished with value: 0.779296066252588 and parameters: {'final_estimator__max_depth': 3, 'final_estimator__learning_rate': 0.1845891475023943, 'final_estimator__n_estimators': 554, 'final_estimator__min_child_weight': 10, 'final_estimator__gamma': 0.0004065350436198861, 'final_estimator__subsample': 0.08730293979541881, 'final_estimator__colsample_bytree': 0.07788884275635535, 'final_estimator__reg_alpha': 0.0009916726152750393, 'final_estimator__reg_lambda': 7.953784325337147e-06}. Best is trial 1 with value: 0.7906647936243822.\u001b[0m\n",
      "\u001b[32m[I 2023-04-29 01:10:51,713]\u001b[0m Trial 5 finished with value: 0.6959384622661383 and parameters: {'final_estimator__max_depth': 7, 'final_estimator__learning_rate': 0.2766802511340505, 'final_estimator__n_estimators': 244, 'final_estimator__min_child_weight': 1, 'final_estimator__gamma': 0.0003115175131537623, 'final_estimator__subsample': 0.027983089049537554, 'final_estimator__colsample_bytree': 0.7131800307240719, 'final_estimator__reg_alpha': 7.825084348837385e-06, 'final_estimator__reg_lambda': 4.531051445062417e-08}. Best is trial 1 with value: 0.7906647936243822.\u001b[0m\n",
      "\u001b[32m[I 2023-04-29 01:30:18,414]\u001b[0m Trial 6 finished with value: 0.7097569894617866 and parameters: {'final_estimator__max_depth': 9, 'final_estimator__learning_rate': 0.6562411390215042, 'final_estimator__n_estimators': 383, 'final_estimator__min_child_weight': 4, 'final_estimator__gamma': 1.1763362721472311e-05, 'final_estimator__subsample': 0.03922432218758254, 'final_estimator__colsample_bytree': 0.7397472528374387, 'final_estimator__reg_alpha': 0.05775894220807404, 'final_estimator__reg_lambda': 3.593954396712237e-08}. Best is trial 1 with value: 0.7906647936243822.\u001b[0m\n",
      "\u001b[32m[I 2023-04-29 01:49:33,499]\u001b[0m Trial 7 finished with value: 0.788733912432536 and parameters: {'final_estimator__max_depth': 1, 'final_estimator__learning_rate': 0.24557102345797366, 'final_estimator__n_estimators': 532, 'final_estimator__min_child_weight': 7, 'final_estimator__gamma': 0.0012212566602272717, 'final_estimator__subsample': 0.14740750003212327, 'final_estimator__colsample_bytree': 0.12800846648701356, 'final_estimator__reg_alpha': 0.0005111403120523546, 'final_estimator__reg_lambda': 2.9069895477127707e-07}. Best is trial 1 with value: 0.7906647936243822.\u001b[0m\n",
      "\u001b[32m[I 2023-04-29 02:08:19,405]\u001b[0m Trial 8 finished with value: 0.7687658608096656 and parameters: {'final_estimator__max_depth': 4, 'final_estimator__learning_rate': 0.2854027907611391, 'final_estimator__n_estimators': 248, 'final_estimator__min_child_weight': 11, 'final_estimator__gamma': 3.675039054348838e-08, 'final_estimator__subsample': 0.030653076600724027, 'final_estimator__colsample_bytree': 0.0764629493583974, 'final_estimator__reg_alpha': 7.413886348136572e-06, 'final_estimator__reg_lambda': 5.039618095381999e-06}. Best is trial 1 with value: 0.7906647936243822.\u001b[0m\n",
      "\u001b[32m[I 2023-04-29 02:27:19,711]\u001b[0m Trial 9 finished with value: 0.7945359890534929 and parameters: {'final_estimator__max_depth': 8, 'final_estimator__learning_rate': 0.018155065130324582, 'final_estimator__n_estimators': 104, 'final_estimator__min_child_weight': 7, 'final_estimator__gamma': 6.096330165925377e-05, 'final_estimator__subsample': 0.037326871522312476, 'final_estimator__colsample_bytree': 0.8819570212251429, 'final_estimator__reg_alpha': 0.00026583109236722553, 'final_estimator__reg_lambda': 0.009720338355673316}. Best is trial 9 with value: 0.7945359890534929.\u001b[0m\n"
     ]
    }
   ],
   "source": [
    "study.optimize(objective, n_trials=10)"
   ]
  },
  {
   "cell_type": "markdown",
   "id": "887b45a7-99cc-482f-8178-7ca425bbbfd8",
   "metadata": {},
   "source": [
    "#### Next 10 trials"
   ]
  },
  {
   "cell_type": "code",
   "execution_count": 24,
   "id": "c1e4d0bd-89ba-4ac5-ba6f-51edf50c6849",
   "metadata": {
    "execution": {
     "iopub.execute_input": "2023-04-29T06:27:19.753029Z",
     "iopub.status.busy": "2023-04-29T06:27:19.752800Z",
     "iopub.status.idle": "2023-04-29T09:41:49.905766Z",
     "shell.execute_reply": "2023-04-29T09:41:49.904900Z",
     "shell.execute_reply.started": "2023-04-29T06:27:19.753014Z"
    },
    "scrolled": true,
    "tags": []
   },
   "outputs": [
    {
     "name": "stderr",
     "output_type": "stream",
     "text": [
      "\u001b[32m[I 2023-04-29 02:46:00,508]\u001b[0m Trial 10 finished with value: 0.7907828915736601 and parameters: {'final_estimator__max_depth': 8, 'final_estimator__learning_rate': 0.011827277221752064, 'final_estimator__n_estimators': 64, 'final_estimator__min_child_weight': 4, 'final_estimator__gamma': 0.13375412180841692, 'final_estimator__subsample': 0.011535237647720993, 'final_estimator__colsample_bytree': 0.011357956088591064, 'final_estimator__reg_alpha': 3.0986297737597616e-08, 'final_estimator__reg_lambda': 0.0011123513976140083}. Best is trial 9 with value: 0.7945359890534929.\u001b[0m\n",
      "\u001b[32m[I 2023-04-29 03:04:47,888]\u001b[0m Trial 11 finished with value: 0.7920090562476616 and parameters: {'final_estimator__max_depth': 8, 'final_estimator__learning_rate': 0.010879362307428532, 'final_estimator__n_estimators': 50, 'final_estimator__min_child_weight': 4, 'final_estimator__gamma': 0.32582367954300784, 'final_estimator__subsample': 0.010067699096406897, 'final_estimator__colsample_bytree': 0.010609204977901467, 'final_estimator__reg_alpha': 1.1670049448495029e-08, 'final_estimator__reg_lambda': 0.0020564536978316464}. Best is trial 9 with value: 0.7945359890534929.\u001b[0m\n",
      "\u001b[32m[I 2023-04-29 03:23:59,760]\u001b[0m Trial 12 finished with value: 0.7910638135560896 and parameters: {'final_estimator__max_depth': 8, 'final_estimator__learning_rate': 0.010223677535367777, 'final_estimator__n_estimators': 154, 'final_estimator__min_child_weight': 4, 'final_estimator__gamma': 0.7700138153966246, 'final_estimator__subsample': 0.011866268023394272, 'final_estimator__colsample_bytree': 0.011939929951155637, 'final_estimator__reg_alpha': 6.969005879386372e-08, 'final_estimator__reg_lambda': 0.04013847153412739}. Best is trial 9 with value: 0.7945359890534929.\u001b[0m\n",
      "\u001b[32m[I 2023-04-29 03:43:25,261]\u001b[0m Trial 13 finished with value: 0.7920638719670524 and parameters: {'final_estimator__max_depth': 10, 'final_estimator__learning_rate': 0.023816975552924356, 'final_estimator__n_estimators': 50, 'final_estimator__min_child_weight': 1, 'final_estimator__gamma': 0.9614998064602807, 'final_estimator__subsample': 0.01569470033924828, 'final_estimator__colsample_bytree': 0.28975714917523626, 'final_estimator__reg_alpha': 2.4582131912649625e-07, 'final_estimator__reg_lambda': 0.0030408045871924637}. Best is trial 9 with value: 0.7945359890534929.\u001b[0m\n",
      "\u001b[32m[I 2023-04-29 04:03:15,265]\u001b[0m Trial 14 finished with value: 0.7850454303803586 and parameters: {'final_estimator__max_depth': 10, 'final_estimator__learning_rate': 0.027891537430392174, 'final_estimator__n_estimators': 234, 'final_estimator__min_child_weight': 1, 'final_estimator__gamma': 0.015235631393445854, 'final_estimator__subsample': 0.016165778903162186, 'final_estimator__colsample_bytree': 0.3748442583551046, 'final_estimator__reg_alpha': 3.9994845990418565e-07, 'final_estimator__reg_lambda': 0.02085558373077493}. Best is trial 9 with value: 0.7945359890534929.\u001b[0m\n",
      "\u001b[32m[I 2023-04-29 04:22:55,439]\u001b[0m Trial 15 finished with value: 0.7878749940382506 and parameters: {'final_estimator__max_depth': 10, 'final_estimator__learning_rate': 0.03587272061373329, 'final_estimator__n_estimators': 428, 'final_estimator__min_child_weight': 6, 'final_estimator__gamma': 3.4702204335260275e-06, 'final_estimator__subsample': 0.020126258182682568, 'final_estimator__colsample_bytree': 0.35985832867812556, 'final_estimator__reg_alpha': 6.361053460390599e-07, 'final_estimator__reg_lambda': 0.00034985138947010854}. Best is trial 9 with value: 0.7945359890534929.\u001b[0m\n",
      "\u001b[32m[I 2023-04-29 04:42:37,289]\u001b[0m Trial 16 finished with value: 0.7899122012020146 and parameters: {'final_estimator__max_depth': 5, 'final_estimator__learning_rate': 0.019153395513029636, 'final_estimator__n_estimators': 115, 'final_estimator__min_child_weight': 2, 'final_estimator__gamma': 0.02542046469568258, 'final_estimator__subsample': 0.021044549525919793, 'final_estimator__colsample_bytree': 0.3535737390924039, 'final_estimator__reg_alpha': 0.004012881503784015, 'final_estimator__reg_lambda': 0.013634719887942145}. Best is trial 9 with value: 0.7945359890534929.\u001b[0m\n",
      "\u001b[32m[I 2023-04-29 05:02:24,445]\u001b[0m Trial 17 finished with value: 0.8015603057404062 and parameters: {'final_estimator__max_depth': 9, 'final_estimator__learning_rate': 0.04944862780799588, 'final_estimator__n_estimators': 208, 'final_estimator__min_child_weight': 8, 'final_estimator__gamma': 0.8968413073938504, 'final_estimator__subsample': 0.07001631038729961, 'final_estimator__colsample_bytree': 0.9638519070162351, 'final_estimator__reg_alpha': 0.29333886546035415, 'final_estimator__reg_lambda': 0.00011294508522760805}. Best is trial 17 with value: 0.8015603057404062.\u001b[0m\n",
      "\u001b[32m[I 2023-04-29 05:21:49,937]\u001b[0m Trial 18 finished with value: 0.7843831324755915 and parameters: {'final_estimator__max_depth': 7, 'final_estimator__learning_rate': 0.05145747261715413, 'final_estimator__n_estimators': 285, 'final_estimator__min_child_weight': 8, 'final_estimator__gamma': 2.046751895914341e-06, 'final_estimator__subsample': 0.1461723509078272, 'final_estimator__colsample_bytree': 0.9869034810543926, 'final_estimator__reg_alpha': 0.5096717069025056, 'final_estimator__reg_lambda': 8.080556156000243e-05}. Best is trial 17 with value: 0.8015603057404062.\u001b[0m\n",
      "\u001b[32m[I 2023-04-29 05:41:49,902]\u001b[0m Trial 19 finished with value: 0.793615393775241 and parameters: {'final_estimator__max_depth': 9, 'final_estimator__learning_rate': 0.057269683889780564, 'final_estimator__n_estimators': 171, 'final_estimator__min_child_weight': 12, 'final_estimator__gamma': 0.002695256773391257, 'final_estimator__subsample': 0.06591683479124884, 'final_estimator__colsample_bytree': 0.519872051251357, 'final_estimator__reg_alpha': 0.00914230278041736, 'final_estimator__reg_lambda': 0.00018225265196364232}. Best is trial 17 with value: 0.8015603057404062.\u001b[0m\n"
     ]
    }
   ],
   "source": [
    "study.optimize(objective, n_trials=10)"
   ]
  },
  {
   "cell_type": "markdown",
   "id": "XsDbCZ2Bqq06",
   "metadata": {
    "id": "XsDbCZ2Bqq06"
   },
   "source": [
    "## Best Parameters"
   ]
  },
  {
   "cell_type": "code",
   "execution_count": 27,
   "id": "UOxjq9DDqq06",
   "metadata": {
    "colab": {
     "base_uri": "https://localhost:8080/"
    },
    "execution": {
     "iopub.execute_input": "2023-04-29T10:42:01.699563Z",
     "iopub.status.busy": "2023-04-29T10:42:01.699152Z",
     "iopub.status.idle": "2023-04-29T10:42:01.706172Z",
     "shell.execute_reply": "2023-04-29T10:42:01.705381Z",
     "shell.execute_reply.started": "2023-04-29T10:42:01.699537Z"
    },
    "executionInfo": {
     "elapsed": 865,
     "status": "ok",
     "timestamp": 1682556200363,
     "user": {
      "displayName": "Damir Zunic",
      "userId": "07104666280721646256"
     },
     "user_tz": 240
    },
    "id": "UOxjq9DDqq06",
    "outputId": "a8fc2c17-9880-42c0-efc8-0cc79605b3f6",
    "tags": []
   },
   "outputs": [
    {
     "name": "stdout",
     "output_type": "stream",
     "text": [
      "Number of finished trials: 20\n",
      "Best trial:\n",
      "  Value: 0.8015603057404062\n",
      "  Params: \n",
      "    final_estimator__max_depth: 9\n",
      "    final_estimator__learning_rate: 0.04944862780799588\n",
      "    final_estimator__n_estimators: 208\n",
      "    final_estimator__min_child_weight: 8\n",
      "    final_estimator__gamma: 0.8968413073938504\n",
      "    final_estimator__subsample: 0.07001631038729961\n",
      "    final_estimator__colsample_bytree: 0.9638519070162351\n",
      "    final_estimator__reg_alpha: 0.29333886546035415\n",
      "    final_estimator__reg_lambda: 0.00011294508522760805\n"
     ]
    }
   ],
   "source": [
    "print(f'Number of finished trials: {len(study.trials)}')\n",
    "print('Best trial:')\n",
    "trial = study.best_trial\n",
    "\n",
    "print(f'  Value: {trial.value}')\n",
    "print('  Params: ')\n",
    "\n",
    "for key, value in trial.params.items():\n",
    "    print(f'    {key}: {value}')"
   ]
  },
  {
   "cell_type": "markdown",
   "id": "D1GAp0Ofqq07",
   "metadata": {
    "id": "D1GAp0Ofqq07"
   },
   "source": [
    "## Re-fit the model"
   ]
  },
  {
   "cell_type": "code",
   "execution_count": 97,
   "id": "07a2a98e-fe7c-4c52-a387-759b0ab1f36f",
   "metadata": {
    "colab": {
     "base_uri": "https://localhost:8080/",
     "height": 164
    },
    "execution": {
     "iopub.execute_input": "2023-05-01T02:34:16.548639Z",
     "iopub.status.busy": "2023-05-01T02:34:16.548345Z",
     "iopub.status.idle": "2023-05-01T02:34:16.554698Z",
     "shell.execute_reply": "2023-05-01T02:34:16.553791Z",
     "shell.execute_reply.started": "2023-05-01T02:34:16.548620Z"
    },
    "executionInfo": {
     "elapsed": 679326,
     "status": "ok",
     "timestamp": 1682557106964,
     "user": {
      "displayName": "Damir Zunic",
      "userId": "07104666280721646256"
     },
     "user_tz": 240
    },
    "id": "NEaGute3qq07",
    "outputId": "4689a2f5-bf54-460f-e262-b20dff449146",
    "tags": []
   },
   "outputs": [
    {
     "data": {
      "text/plain": [
       "{'final_estimator__max_depth': 9,\n",
       " 'final_estimator__learning_rate': 0.04944862780799588,\n",
       " 'final_estimator__n_estimators': 208,\n",
       " 'final_estimator__min_child_weight': 8,\n",
       " 'final_estimator__gamma': 0.8968413073938504,\n",
       " 'final_estimator__subsample': 0.07001631038729961,\n",
       " 'final_estimator__colsample_bytree': 0.9638519070162351,\n",
       " 'final_estimator__reg_alpha': 0.29333886546035415,\n",
       " 'final_estimator__reg_lambda': 0.00011294508522760805}"
      ]
     },
     "execution_count": 97,
     "metadata": {},
     "output_type": "execute_result"
    }
   ],
   "source": [
    "params = trial.params\n",
    "params"
   ]
  },
  {
   "cell_type": "code",
   "execution_count": 98,
   "id": "8424dfd3-591c-4185-b9cd-d8ecf258018e",
   "metadata": {
    "colab": {
     "base_uri": "https://localhost:8080/",
     "height": 164
    },
    "execution": {
     "iopub.execute_input": "2023-05-01T02:34:53.816277Z",
     "iopub.status.busy": "2023-05-01T02:34:53.816019Z",
     "iopub.status.idle": "2023-05-01T02:52:53.364685Z",
     "shell.execute_reply": "2023-05-01T02:52:53.363251Z",
     "shell.execute_reply.started": "2023-05-01T02:34:53.816260Z"
    },
    "executionInfo": {
     "elapsed": 679326,
     "status": "ok",
     "timestamp": 1682557106964,
     "user": {
      "displayName": "Damir Zunic",
      "userId": "07104666280721646256"
     },
     "user_tz": 240
    },
    "id": "NEaGute3qq07",
    "outputId": "4689a2f5-bf54-460f-e262-b20dff449146",
    "tags": []
   },
   "outputs": [
    {
     "data": {
      "text/html": [
       "<style>#sk-container-id-2 {color: black;background-color: white;}#sk-container-id-2 pre{padding: 0;}#sk-container-id-2 div.sk-toggleable {background-color: white;}#sk-container-id-2 label.sk-toggleable__label {cursor: pointer;display: block;width: 100%;margin-bottom: 0;padding: 0.3em;box-sizing: border-box;text-align: center;}#sk-container-id-2 label.sk-toggleable__label-arrow:before {content: \"▸\";float: left;margin-right: 0.25em;color: #696969;}#sk-container-id-2 label.sk-toggleable__label-arrow:hover:before {color: black;}#sk-container-id-2 div.sk-estimator:hover label.sk-toggleable__label-arrow:before {color: black;}#sk-container-id-2 div.sk-toggleable__content {max-height: 0;max-width: 0;overflow: hidden;text-align: left;background-color: #f0f8ff;}#sk-container-id-2 div.sk-toggleable__content pre {margin: 0.2em;color: black;border-radius: 0.25em;background-color: #f0f8ff;}#sk-container-id-2 input.sk-toggleable__control:checked~div.sk-toggleable__content {max-height: 200px;max-width: 100%;overflow: auto;}#sk-container-id-2 input.sk-toggleable__control:checked~label.sk-toggleable__label-arrow:before {content: \"▾\";}#sk-container-id-2 div.sk-estimator input.sk-toggleable__control:checked~label.sk-toggleable__label {background-color: #d4ebff;}#sk-container-id-2 div.sk-label input.sk-toggleable__control:checked~label.sk-toggleable__label {background-color: #d4ebff;}#sk-container-id-2 input.sk-hidden--visually {border: 0;clip: rect(1px 1px 1px 1px);clip: rect(1px, 1px, 1px, 1px);height: 1px;margin: -1px;overflow: hidden;padding: 0;position: absolute;width: 1px;}#sk-container-id-2 div.sk-estimator {font-family: monospace;background-color: #f0f8ff;border: 1px dotted black;border-radius: 0.25em;box-sizing: border-box;margin-bottom: 0.5em;}#sk-container-id-2 div.sk-estimator:hover {background-color: #d4ebff;}#sk-container-id-2 div.sk-parallel-item::after {content: \"\";width: 100%;border-bottom: 1px solid gray;flex-grow: 1;}#sk-container-id-2 div.sk-label:hover label.sk-toggleable__label {background-color: #d4ebff;}#sk-container-id-2 div.sk-serial::before {content: \"\";position: absolute;border-left: 1px solid gray;box-sizing: border-box;top: 0;bottom: 0;left: 50%;z-index: 0;}#sk-container-id-2 div.sk-serial {display: flex;flex-direction: column;align-items: center;background-color: white;padding-right: 0.2em;padding-left: 0.2em;position: relative;}#sk-container-id-2 div.sk-item {position: relative;z-index: 1;}#sk-container-id-2 div.sk-parallel {display: flex;align-items: stretch;justify-content: center;background-color: white;position: relative;}#sk-container-id-2 div.sk-item::before, #sk-container-id-2 div.sk-parallel-item::before {content: \"\";position: absolute;border-left: 1px solid gray;box-sizing: border-box;top: 0;bottom: 0;left: 50%;z-index: -1;}#sk-container-id-2 div.sk-parallel-item {display: flex;flex-direction: column;z-index: 1;position: relative;background-color: white;}#sk-container-id-2 div.sk-parallel-item:first-child::after {align-self: flex-end;width: 50%;}#sk-container-id-2 div.sk-parallel-item:last-child::after {align-self: flex-start;width: 50%;}#sk-container-id-2 div.sk-parallel-item:only-child::after {width: 0;}#sk-container-id-2 div.sk-dashed-wrapped {border: 1px dashed gray;margin: 0 0.4em 0.5em 0.4em;box-sizing: border-box;padding-bottom: 0.4em;background-color: white;}#sk-container-id-2 div.sk-label label {font-family: monospace;font-weight: bold;display: inline-block;line-height: 1.2em;}#sk-container-id-2 div.sk-label-container {text-align: center;}#sk-container-id-2 div.sk-container {/* jupyter's `normalize.less` sets `[hidden] { display: none; }` but bootstrap.min.css set `[hidden] { display: none !important; }` so we also need the `!important` here to be able to override the default hidden behavior on the sphinx rendered scikit-learn.org. See: https://github.com/scikit-learn/scikit-learn/issues/21755 */display: inline-block !important;position: relative;}#sk-container-id-2 div.sk-text-repr-fallback {display: none;}</style><div id=\"sk-container-id-2\" class=\"sk-top-container\"><div class=\"sk-text-repr-fallback\"><pre>StackingClassifier(estimators=[(&#x27;svm&#x27;,\n",
       "                                SVC(C=0.12103996361181649,\n",
       "                                    gamma=24.34232406568725, kernel=&#x27;linear&#x27;,\n",
       "                                    random_state=10)),\n",
       "                               (&#x27;lr&#x27;,\n",
       "                                LogisticRegression(C=0.41725619274351355,\n",
       "                                                   random_state=10,\n",
       "                                                   solver=&#x27;liblinear&#x27;,\n",
       "                                                   tol=0.0034947786528423015)),\n",
       "                               (&#x27;rf&#x27;,\n",
       "                                RandomForestClassifier(criterion=&#x27;entropy&#x27;,\n",
       "                                                       min_samples_split=5,\n",
       "                                                       n_estimators=630,\n",
       "                                                       random_state=10)),\n",
       "                               (&#x27;mlp&#x27;,\n",
       "                                MLPClas...\n",
       "                                                 gpu_id=0, grow_policy=None,\n",
       "                                                 importance_type=None,\n",
       "                                                 interaction_constraints=None,\n",
       "                                                 learning_rate=0.04944862780799588,\n",
       "                                                 max_bin=None,\n",
       "                                                 max_cat_threshold=None,\n",
       "                                                 max_cat_to_onehot=None,\n",
       "                                                 max_delta_step=None,\n",
       "                                                 max_depth=9, max_leaves=None,\n",
       "                                                 min_child_weight=8,\n",
       "                                                 missing=nan,\n",
       "                                                 monotone_constraints=None,\n",
       "                                                 n_estimators=208, n_jobs=None,\n",
       "                                                 num_parallel_tree=None,\n",
       "                                                 predictor=None,\n",
       "                                                 random_state=10, ...),\n",
       "                   n_jobs=-1)</pre><b>In a Jupyter environment, please rerun this cell to show the HTML representation or trust the notebook. <br />On GitHub, the HTML representation is unable to render, please try loading this page with nbviewer.org.</b></div><div class=\"sk-container\" hidden><div class=\"sk-item sk-dashed-wrapped\"><div class=\"sk-label-container\"><div class=\"sk-label sk-toggleable\"><input class=\"sk-toggleable__control sk-hidden--visually\" id=\"sk-estimator-id-8\" type=\"checkbox\" ><label for=\"sk-estimator-id-8\" class=\"sk-toggleable__label sk-toggleable__label-arrow\">StackingClassifier</label><div class=\"sk-toggleable__content\"><pre>StackingClassifier(estimators=[(&#x27;svm&#x27;,\n",
       "                                SVC(C=0.12103996361181649,\n",
       "                                    gamma=24.34232406568725, kernel=&#x27;linear&#x27;,\n",
       "                                    random_state=10)),\n",
       "                               (&#x27;lr&#x27;,\n",
       "                                LogisticRegression(C=0.41725619274351355,\n",
       "                                                   random_state=10,\n",
       "                                                   solver=&#x27;liblinear&#x27;,\n",
       "                                                   tol=0.0034947786528423015)),\n",
       "                               (&#x27;rf&#x27;,\n",
       "                                RandomForestClassifier(criterion=&#x27;entropy&#x27;,\n",
       "                                                       min_samples_split=5,\n",
       "                                                       n_estimators=630,\n",
       "                                                       random_state=10)),\n",
       "                               (&#x27;mlp&#x27;,\n",
       "                                MLPClas...\n",
       "                                                 gpu_id=0, grow_policy=None,\n",
       "                                                 importance_type=None,\n",
       "                                                 interaction_constraints=None,\n",
       "                                                 learning_rate=0.04944862780799588,\n",
       "                                                 max_bin=None,\n",
       "                                                 max_cat_threshold=None,\n",
       "                                                 max_cat_to_onehot=None,\n",
       "                                                 max_delta_step=None,\n",
       "                                                 max_depth=9, max_leaves=None,\n",
       "                                                 min_child_weight=8,\n",
       "                                                 missing=nan,\n",
       "                                                 monotone_constraints=None,\n",
       "                                                 n_estimators=208, n_jobs=None,\n",
       "                                                 num_parallel_tree=None,\n",
       "                                                 predictor=None,\n",
       "                                                 random_state=10, ...),\n",
       "                   n_jobs=-1)</pre></div></div></div><div class=\"sk-serial\"><div class=\"sk-item\"><div class=\"sk-parallel\"><div class=\"sk-parallel-item\"><div class=\"sk-item\"><div class=\"sk-label-container\"><div class=\"sk-label sk-toggleable\"><label>svm</label></div></div><div class=\"sk-serial\"><div class=\"sk-item\"><div class=\"sk-estimator sk-toggleable\"><input class=\"sk-toggleable__control sk-hidden--visually\" id=\"sk-estimator-id-9\" type=\"checkbox\" ><label for=\"sk-estimator-id-9\" class=\"sk-toggleable__label sk-toggleable__label-arrow\">SVC</label><div class=\"sk-toggleable__content\"><pre>SVC(C=0.12103996361181649, gamma=24.34232406568725, kernel=&#x27;linear&#x27;,\n",
       "    random_state=10)</pre></div></div></div></div></div></div><div class=\"sk-parallel-item\"><div class=\"sk-item\"><div class=\"sk-label-container\"><div class=\"sk-label sk-toggleable\"><label>lr</label></div></div><div class=\"sk-serial\"><div class=\"sk-item\"><div class=\"sk-estimator sk-toggleable\"><input class=\"sk-toggleable__control sk-hidden--visually\" id=\"sk-estimator-id-10\" type=\"checkbox\" ><label for=\"sk-estimator-id-10\" class=\"sk-toggleable__label sk-toggleable__label-arrow\">LogisticRegression</label><div class=\"sk-toggleable__content\"><pre>LogisticRegression(C=0.41725619274351355, random_state=10, solver=&#x27;liblinear&#x27;,\n",
       "                   tol=0.0034947786528423015)</pre></div></div></div></div></div></div><div class=\"sk-parallel-item\"><div class=\"sk-item\"><div class=\"sk-label-container\"><div class=\"sk-label sk-toggleable\"><label>rf</label></div></div><div class=\"sk-serial\"><div class=\"sk-item\"><div class=\"sk-estimator sk-toggleable\"><input class=\"sk-toggleable__control sk-hidden--visually\" id=\"sk-estimator-id-11\" type=\"checkbox\" ><label for=\"sk-estimator-id-11\" class=\"sk-toggleable__label sk-toggleable__label-arrow\">RandomForestClassifier</label><div class=\"sk-toggleable__content\"><pre>RandomForestClassifier(criterion=&#x27;entropy&#x27;, min_samples_split=5,\n",
       "                       n_estimators=630, random_state=10)</pre></div></div></div></div></div></div><div class=\"sk-parallel-item\"><div class=\"sk-item\"><div class=\"sk-label-container\"><div class=\"sk-label sk-toggleable\"><label>mlp</label></div></div><div class=\"sk-serial\"><div class=\"sk-item\"><div class=\"sk-estimator sk-toggleable\"><input class=\"sk-toggleable__control sk-hidden--visually\" id=\"sk-estimator-id-12\" type=\"checkbox\" ><label for=\"sk-estimator-id-12\" class=\"sk-toggleable__label sk-toggleable__label-arrow\">MLPClassifier</label><div class=\"sk-toggleable__content\"><pre>MLPClassifier(hidden_layer_sizes=(100, 50),\n",
       "              learning_rate_init=0.0004616656166415659,\n",
       "              momentum=0.7467805285225793, power_t=0.2, random_state=10)</pre></div></div></div></div></div></div><div class=\"sk-parallel-item\"><div class=\"sk-item\"><div class=\"sk-label-container\"><div class=\"sk-label sk-toggleable\"><label>etree</label></div></div><div class=\"sk-serial\"><div class=\"sk-item\"><div class=\"sk-estimator sk-toggleable\"><input class=\"sk-toggleable__control sk-hidden--visually\" id=\"sk-estimator-id-13\" type=\"checkbox\" ><label for=\"sk-estimator-id-13\" class=\"sk-toggleable__label sk-toggleable__label-arrow\">ExtraTreesClassifier</label><div class=\"sk-toggleable__content\"><pre>ExtraTreesClassifier(criterion=&#x27;entropy&#x27;, min_samples_leaf=3,\n",
       "                     min_samples_split=5, n_estimators=290, random_state=10)</pre></div></div></div></div></div></div></div></div><div class=\"sk-item\"><div class=\"sk-parallel\"><div class=\"sk-parallel-item\"><div class=\"sk-item\"><div class=\"sk-label-container\"><div class=\"sk-label sk-toggleable\"><label>final_estimator</label></div></div><div class=\"sk-serial\"><div class=\"sk-item\"><div class=\"sk-estimator sk-toggleable\"><input class=\"sk-toggleable__control sk-hidden--visually\" id=\"sk-estimator-id-14\" type=\"checkbox\" ><label for=\"sk-estimator-id-14\" class=\"sk-toggleable__label sk-toggleable__label-arrow\">XGBClassifier</label><div class=\"sk-toggleable__content\"><pre>XGBClassifier(base_score=None, booster=None, callbacks=None,\n",
       "              colsample_bylevel=None, colsample_bynode=None,\n",
       "              colsample_bytree=0.9638519070162351, early_stopping_rounds=None,\n",
       "              enable_categorical=False, eval_metric=&#x27;auc&#x27;, feature_types=None,\n",
       "              gamma=0.8968413073938504, gpu_id=0, grow_policy=None,\n",
       "              importance_type=None, interaction_constraints=None,\n",
       "              learning_rate=0.04944862780799588, max_bin=None,\n",
       "              max_cat_threshold=None, max_cat_to_onehot=None,\n",
       "              max_delta_step=None, max_depth=9, max_leaves=None,\n",
       "              min_child_weight=8, missing=nan, monotone_constraints=None,\n",
       "              n_estimators=208, n_jobs=None, num_parallel_tree=None,\n",
       "              predictor=None, random_state=10, ...)</pre></div></div></div></div></div></div></div></div></div></div></div></div>"
      ],
      "text/plain": [
       "StackingClassifier(estimators=[('svm',\n",
       "                                SVC(C=0.12103996361181649,\n",
       "                                    gamma=24.34232406568725, kernel='linear',\n",
       "                                    random_state=10)),\n",
       "                               ('lr',\n",
       "                                LogisticRegression(C=0.41725619274351355,\n",
       "                                                   random_state=10,\n",
       "                                                   solver='liblinear',\n",
       "                                                   tol=0.0034947786528423015)),\n",
       "                               ('rf',\n",
       "                                RandomForestClassifier(criterion='entropy',\n",
       "                                                       min_samples_split=5,\n",
       "                                                       n_estimators=630,\n",
       "                                                       random_state=10)),\n",
       "                               ('mlp',\n",
       "                                MLPClas...\n",
       "                                                 gpu_id=0, grow_policy=None,\n",
       "                                                 importance_type=None,\n",
       "                                                 interaction_constraints=None,\n",
       "                                                 learning_rate=0.04944862780799588,\n",
       "                                                 max_bin=None,\n",
       "                                                 max_cat_threshold=None,\n",
       "                                                 max_cat_to_onehot=None,\n",
       "                                                 max_delta_step=None,\n",
       "                                                 max_depth=9, max_leaves=None,\n",
       "                                                 min_child_weight=8,\n",
       "                                                 missing=nan,\n",
       "                                                 monotone_constraints=None,\n",
       "                                                 n_estimators=208, n_jobs=None,\n",
       "                                                 num_parallel_tree=None,\n",
       "                                                 predictor=None,\n",
       "                                                 random_state=10, ...),\n",
       "                   n_jobs=-1)"
      ]
     },
     "execution_count": 98,
     "metadata": {},
     "output_type": "execute_result"
    }
   ],
   "source": [
    "stack_clf_t = stack_clf.set_params(**params)\n",
    "stack_clf_t.fit(X_train, y_train)"
   ]
  },
  {
   "cell_type": "code",
   "execution_count": 99,
   "id": "_DQFH23Eqq07",
   "metadata": {
    "colab": {
     "base_uri": "https://localhost:8080/"
    },
    "execution": {
     "iopub.execute_input": "2023-05-01T02:53:48.922791Z",
     "iopub.status.busy": "2023-05-01T02:53:48.922369Z",
     "iopub.status.idle": "2023-05-01T02:53:53.453962Z",
     "shell.execute_reply": "2023-05-01T02:53:53.453090Z",
     "shell.execute_reply.started": "2023-05-01T02:53:48.922735Z"
    },
    "executionInfo": {
     "elapsed": 2467,
     "status": "ok",
     "timestamp": 1682557578706,
     "user": {
      "displayName": "Damir Zunic",
      "userId": "07104666280721646256"
     },
     "user_tz": 240
    },
    "id": "_DQFH23Eqq07",
    "outputId": "12ef2ab4-8e3e-473c-d06f-52dd6bbd06a5",
    "tags": []
   },
   "outputs": [
    {
     "data": {
      "text/plain": [
       "['./saved_models/batch_4_stack/stack_xgb_tuned.pkl']"
      ]
     },
     "execution_count": 99,
     "metadata": {},
     "output_type": "execute_result"
    }
   ],
   "source": [
    "# Save the model\n",
    "# joblib.dump(stack_clf, '/content/drive/MyDrive/Omdena/Team1/saved_models/batch_4_stack/stack_xgb_tuned.save')\n",
    "joblib.dump(stack_clf_t, './saved_models/batch_4_stack/stack_xgb_tuned.pkl')"
   ]
  },
  {
   "cell_type": "code",
   "execution_count": 100,
   "id": "Mwf-68H7qq07",
   "metadata": {
    "execution": {
     "iopub.execute_input": "2023-05-01T02:54:03.161096Z",
     "iopub.status.busy": "2023-05-01T02:54:03.160811Z",
     "iopub.status.idle": "2023-05-01T02:54:22.712529Z",
     "shell.execute_reply": "2023-05-01T02:54:22.711589Z",
     "shell.execute_reply.started": "2023-05-01T02:54:03.161075Z"
    },
    "id": "Mwf-68H7qq07",
    "tags": []
   },
   "outputs": [],
   "source": [
    "y_pred_st_t = stack_clf_t.predict(X_test)"
   ]
  },
  {
   "cell_type": "code",
   "execution_count": 101,
   "id": "S0cz2SzKqq07",
   "metadata": {
    "colab": {
     "base_uri": "https://localhost:8080/"
    },
    "execution": {
     "iopub.execute_input": "2023-05-01T02:54:35.714549Z",
     "iopub.status.busy": "2023-05-01T02:54:35.714280Z",
     "iopub.status.idle": "2023-05-01T02:54:35.724083Z",
     "shell.execute_reply": "2023-05-01T02:54:35.722816Z",
     "shell.execute_reply.started": "2023-05-01T02:54:35.714533Z"
    },
    "executionInfo": {
     "elapsed": 414,
     "status": "ok",
     "timestamp": 1682557633728,
     "user": {
      "displayName": "Damir Zunic",
      "userId": "07104666280721646256"
     },
     "user_tz": 240
    },
    "id": "S0cz2SzKqq07",
    "outputId": "4c8637dc-ee1c-47c9-f7e2-af802e7db1bc",
    "tags": []
   },
   "outputs": [
    {
     "name": "stdout",
     "output_type": "stream",
     "text": [
      "Accuracy after tuning: 87.90\n"
     ]
    }
   ],
   "source": [
    "accuracy = accuracy_score(y_test, y_pred_st_t)\n",
    "print(f'Accuracy after tuning: {accuracy * 100.0:.2f}')"
   ]
  },
  {
   "cell_type": "code",
   "execution_count": 102,
   "id": "V7AW0bP0qq07",
   "metadata": {
    "colab": {
     "base_uri": "https://localhost:8080/"
    },
    "execution": {
     "iopub.execute_input": "2023-05-01T02:54:47.030751Z",
     "iopub.status.busy": "2023-05-01T02:54:47.030466Z",
     "iopub.status.idle": "2023-05-01T02:57:13.099359Z",
     "shell.execute_reply": "2023-05-01T02:57:13.098443Z",
     "shell.execute_reply.started": "2023-05-01T02:54:47.030731Z"
    },
    "executionInfo": {
     "elapsed": 202241,
     "status": "ok",
     "timestamp": 1682557939305,
     "user": {
      "displayName": "Damir Zunic",
      "userId": "07104666280721646256"
     },
     "user_tz": 240
    },
    "id": "V7AW0bP0qq07",
    "outputId": "d3b35b4d-edda-48d9-c51b-1d2f42c784d6",
    "tags": []
   },
   "outputs": [
    {
     "name": "stdout",
     "output_type": "stream",
     "text": [
      "Training Data Score: 0.9997482587899639\n",
      "Testing Data Score: 0.879041248606466\n"
     ]
    }
   ],
   "source": [
    "# Compare training and testing scores\n",
    "print(f\"Training Data Score: {stack_clf_t.score(X_train, y_train)}\")\n",
    "print(f\"Testing Data Score: {stack_clf_t.score(X_test, y_test)}\")"
   ]
  },
  {
   "cell_type": "code",
   "execution_count": 103,
   "id": "LaxlbeTYqq07",
   "metadata": {
    "colab": {
     "base_uri": "https://localhost:8080/"
    },
    "execution": {
     "iopub.execute_input": "2023-05-01T02:57:23.948082Z",
     "iopub.status.busy": "2023-05-01T02:57:23.947754Z",
     "iopub.status.idle": "2023-05-01T02:57:23.957975Z",
     "shell.execute_reply": "2023-05-01T02:57:23.957045Z",
     "shell.execute_reply.started": "2023-05-01T02:57:23.948061Z"
    },
    "executionInfo": {
     "elapsed": 296,
     "status": "ok",
     "timestamp": 1682557652314,
     "user": {
      "displayName": "Damir Zunic",
      "userId": "07104666280721646256"
     },
     "user_tz": 240
    },
    "id": "LaxlbeTYqq07",
    "outputId": "396c0627-be05-46a9-c50a-99c14ea6f363",
    "tags": []
   },
   "outputs": [
    {
     "name": "stdout",
     "output_type": "stream",
     "text": [
      "[[ 228  111]\n",
      " [ 106 1349]]\n"
     ]
    }
   ],
   "source": [
    "cm = confusion_matrix(y_test, y_pred_st_t)\n",
    "print(cm)"
   ]
  },
  {
   "cell_type": "code",
   "execution_count": 104,
   "id": "6JKmrpjHqq07",
   "metadata": {
    "colab": {
     "base_uri": "https://localhost:8080/",
     "height": 315
    },
    "execution": {
     "iopub.execute_input": "2023-05-01T02:57:35.068351Z",
     "iopub.status.busy": "2023-05-01T02:57:35.068057Z",
     "iopub.status.idle": "2023-05-01T02:57:35.467626Z",
     "shell.execute_reply": "2023-05-01T02:57:35.466879Z",
     "shell.execute_reply.started": "2023-05-01T02:57:35.068330Z"
    },
    "executionInfo": {
     "elapsed": 1283,
     "status": "ok",
     "timestamp": 1682557662514,
     "user": {
      "displayName": "Damir Zunic",
      "userId": "07104666280721646256"
     },
     "user_tz": 240
    },
    "id": "6JKmrpjHqq07",
    "outputId": "62c4437f-b078-4ff2-adfd-90bb20c4e9b6",
    "tags": []
   },
   "outputs": [
    {
     "data": {
      "image/png": "[encoded data removed]",
      "text/plain": [
       "<Figure size 864x288 with 4 Axes>"
      ]
     },
     "metadata": {},
     "output_type": "display_data"
    }
   ],
   "source": [
    "# Plot confusion matrix and its normalized version.\n",
    "mu.plot_cm_unnorm_and_norm('Stack XGBoost -tuned #1', y_test, y_pred_st_t, target_names, 'Reds')"
   ]
  },
  {
   "cell_type": "code",
   "execution_count": 105,
   "id": "Oeo5P6gDqq07",
   "metadata": {
    "colab": {
     "base_uri": "https://localhost:8080/"
    },
    "execution": {
     "iopub.execute_input": "2023-05-01T02:57:42.007071Z",
     "iopub.status.busy": "2023-05-01T02:57:42.002113Z",
     "iopub.status.idle": "2023-05-01T02:57:42.056269Z",
     "shell.execute_reply": "2023-05-01T02:57:42.054681Z",
     "shell.execute_reply.started": "2023-05-01T02:57:42.006899Z"
    },
    "executionInfo": {
     "elapsed": 278,
     "status": "ok",
     "timestamp": 1682557675441,
     "user": {
      "displayName": "Damir Zunic",
      "userId": "07104666280721646256"
     },
     "user_tz": 240
    },
    "id": "Oeo5P6gDqq07",
    "outputId": "17130268-d22c-4bd2-a967-72bfbdefdc7c",
    "tags": []
   },
   "outputs": [
    {
     "name": "stdout",
     "output_type": "stream",
     "text": [
      "              precision    recall  f1-score   support\n",
      "\n",
      "         hem       0.68      0.67      0.68       339\n",
      "         all       0.92      0.93      0.93      1455\n",
      "\n",
      "    accuracy                           0.88      1794\n",
      "   macro avg       0.80      0.80      0.80      1794\n",
      "weighted avg       0.88      0.88      0.88      1794\n",
      "\n"
     ]
    }
   ],
   "source": [
    "print(classification_report(y_test, y_pred_st_t, target_names=target_names))"
   ]
  },
  {
   "cell_type": "code",
   "execution_count": 106,
   "id": "4e028453-633f-4886-a7a6-861e11070054",
   "metadata": {
    "colab": {
     "base_uri": "https://localhost:8080/",
     "height": 112
    },
    "execution": {
     "iopub.execute_input": "2023-05-01T02:58:19.251961Z",
     "iopub.status.busy": "2023-05-01T02:58:19.251690Z",
     "iopub.status.idle": "2023-05-01T02:58:38.915488Z",
     "shell.execute_reply": "2023-05-01T02:58:38.914307Z",
     "shell.execute_reply.started": "2023-05-01T02:58:19.251943Z"
    },
    "executionInfo": {
     "elapsed": 25635,
     "status": "ok",
     "timestamp": 1682522310754,
     "user": {
      "displayName": "Damir Zunic",
      "userId": "07104666280721646256"
     },
     "user_tz": 240
    },
    "id": "hcG4ETuUJ6UU",
    "outputId": "c5e75b89-f5e6-409a-a2ce-1f7a1b795217",
    "tags": []
   },
   "outputs": [
    {
     "data": {
      "text/html": [
       "<div>\n",
       "<style scoped>\n",
       "    .dataframe tbody tr th:only-of-type {\n",
       "        vertical-align: middle;\n",
       "    }\n",
       "\n",
       "    .dataframe tbody tr th {\n",
       "        vertical-align: top;\n",
       "    }\n",
       "\n",
       "    .dataframe thead th {\n",
       "        text-align: right;\n",
       "    }\n",
       "</style>\n",
       "<table border=\"1\" class=\"dataframe\">\n",
       "  <thead>\n",
       "    <tr style=\"text-align: right;\">\n",
       "      <th></th>\n",
       "      <th>f1_macro</th>\n",
       "      <th>accuracy</th>\n",
       "      <th>AUC</th>\n",
       "    </tr>\n",
       "    <tr>\n",
       "      <th>model</th>\n",
       "      <th></th>\n",
       "      <th></th>\n",
       "      <th></th>\n",
       "    </tr>\n",
       "  </thead>\n",
       "  <tbody>\n",
       "    <tr>\n",
       "      <th>stack</th>\n",
       "      <td>0.80156</td>\n",
       "      <td>0.879041</td>\n",
       "      <td>0.799857</td>\n",
       "    </tr>\n",
       "  </tbody>\n",
       "</table>\n",
       "</div>"
      ],
      "text/plain": [
       "       f1_macro  accuracy       AUC\n",
       "model                              \n",
       "stack   0.80156  0.879041  0.799857"
      ]
     },
     "execution_count": 106,
     "metadata": {},
     "output_type": "execute_result"
    }
   ],
   "source": [
    "evaluation({'stack' : stack_clf_t})"
   ]
  }
 ],
 "metadata": {
  "accelerator": "GPU",
  "colab": {
   "gpuType": "T4",
   "machine_shape": "hm",
   "provenance": [
    {
     "file_id": "1BJMvS-rFoEuE8Xjh1M_jCLRoUSczXHfl",
     "timestamp": 1681499360749
    }
   ],
   "toc_visible": true
  },
  "gpuClass": "standard",
  "kernelspec": {
   "display_name": "omdena",
   "language": "python",
   "name": "conda-env-omdena-py"
  },
  "language_info": {
   "codemirror_mode": {
    "name": "ipython",
    "version": 3
   },
   "file_extension": ".py",
   "mimetype": "text/x-python",
   "name": "python",
   "nbconvert_exporter": "python",
   "pygments_lexer": "ipython3",
   "version": "3.11.2"
  },
  "widgets": {
   "application/vnd.jupyter.widget-state+json": {
    "state": {},
    "version_major": 2,
    "version_minor": 0
   }
  }
 },
 "nbformat": 4,
 "nbformat_minor": 5
}
